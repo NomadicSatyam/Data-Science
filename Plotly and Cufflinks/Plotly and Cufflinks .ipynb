{
 "cells": [
  {
   "cell_type": "markdown",
   "metadata": {},
   "source": [
    "# Plotly and cufflinks"
   ]
  },
  {
   "cell_type": "markdown",
   "metadata": {},
   "source": [
    "### Plotly is an interactive visualization library\n",
    "\n",
    "### cufflinks connect plotly with pandas"
   ]
  },
  {
   "cell_type": "code",
   "execution_count": 2,
   "metadata": {},
   "outputs": [],
   "source": [
    "import numpy as np\n",
    "import pandas as pd"
   ]
  },
  {
   "cell_type": "code",
   "execution_count": 3,
   "metadata": {},
   "outputs": [],
   "source": [
    "from plotly import __version__"
   ]
  },
  {
   "cell_type": "code",
   "execution_count": 5,
   "metadata": {},
   "outputs": [
    {
     "name": "stdout",
     "output_type": "stream",
     "text": [
      "4.5.4\n"
     ]
    }
   ],
   "source": [
    "print(__version__)"
   ]
  },
  {
   "cell_type": "code",
   "execution_count": 6,
   "metadata": {},
   "outputs": [],
   "source": [
    "import cufflinks as cf"
   ]
  },
  {
   "cell_type": "code",
   "execution_count": 7,
   "metadata": {},
   "outputs": [],
   "source": [
    "from plotly.offline import download_plotlyjs,init_notebook_mode,plot,iplot"
   ]
  },
  {
   "cell_type": "code",
   "execution_count": 8,
   "metadata": {},
   "outputs": [
    {
     "data": {
      "text/html": [
       "        <script type=\"text/javascript\">\n",
       "        window.PlotlyConfig = {MathJaxConfig: 'local'};\n",
       "        if (window.MathJax) {MathJax.Hub.Config({SVG: {font: \"STIX-Web\"}});}\n",
       "        if (typeof require !== 'undefined') {\n",
       "        require.undef(\"plotly\");\n",
       "        requirejs.config({\n",
       "            paths: {\n",
       "                'plotly': ['https://cdn.plot.ly/plotly-latest.min']\n",
       "            }\n",
       "        });\n",
       "        require(['plotly'], function(Plotly) {\n",
       "            window._Plotly = Plotly;\n",
       "        });\n",
       "        }\n",
       "        </script>\n",
       "        "
      ]
     },
     "metadata": {},
     "output_type": "display_data"
    }
   ],
   "source": [
    "init_notebook_mode(connected=True)"
   ]
  },
  {
   "cell_type": "code",
   "execution_count": 9,
   "metadata": {},
   "outputs": [
    {
     "data": {
      "text/html": [
       "        <script type=\"text/javascript\">\n",
       "        window.PlotlyConfig = {MathJaxConfig: 'local'};\n",
       "        if (window.MathJax) {MathJax.Hub.Config({SVG: {font: \"STIX-Web\"}});}\n",
       "        if (typeof require !== 'undefined') {\n",
       "        require.undef(\"plotly\");\n",
       "        requirejs.config({\n",
       "            paths: {\n",
       "                'plotly': ['https://cdn.plot.ly/plotly-latest.min']\n",
       "            }\n",
       "        });\n",
       "        require(['plotly'], function(Plotly) {\n",
       "            window._Plotly = Plotly;\n",
       "        });\n",
       "        }\n",
       "        </script>\n",
       "        "
      ]
     },
     "metadata": {},
     "output_type": "display_data"
    }
   ],
   "source": [
    "cf.go_offline()"
   ]
  },
  {
   "cell_type": "markdown",
   "metadata": {},
   "source": [
    "# Data"
   ]
  },
  {
   "cell_type": "code",
   "execution_count": 10,
   "metadata": {},
   "outputs": [],
   "source": [
    "df=pd.DataFrame(np.random.randn(100,4),columns='A B C D'.split())"
   ]
  },
  {
   "cell_type": "code",
   "execution_count": 11,
   "metadata": {},
   "outputs": [
    {
     "data": {
      "text/html": [
       "<div>\n",
       "<style scoped>\n",
       "    .dataframe tbody tr th:only-of-type {\n",
       "        vertical-align: middle;\n",
       "    }\n",
       "\n",
       "    .dataframe tbody tr th {\n",
       "        vertical-align: top;\n",
       "    }\n",
       "\n",
       "    .dataframe thead th {\n",
       "        text-align: right;\n",
       "    }\n",
       "</style>\n",
       "<table border=\"1\" class=\"dataframe\">\n",
       "  <thead>\n",
       "    <tr style=\"text-align: right;\">\n",
       "      <th></th>\n",
       "      <th>A</th>\n",
       "      <th>B</th>\n",
       "      <th>C</th>\n",
       "      <th>D</th>\n",
       "    </tr>\n",
       "  </thead>\n",
       "  <tbody>\n",
       "    <tr>\n",
       "      <th>0</th>\n",
       "      <td>1.038237</td>\n",
       "      <td>1.235264</td>\n",
       "      <td>0.717110</td>\n",
       "      <td>1.594414</td>\n",
       "    </tr>\n",
       "    <tr>\n",
       "      <th>1</th>\n",
       "      <td>-2.400156</td>\n",
       "      <td>-0.644404</td>\n",
       "      <td>-0.670504</td>\n",
       "      <td>-1.442222</td>\n",
       "    </tr>\n",
       "    <tr>\n",
       "      <th>2</th>\n",
       "      <td>0.296535</td>\n",
       "      <td>-0.215839</td>\n",
       "      <td>0.310895</td>\n",
       "      <td>-0.677506</td>\n",
       "    </tr>\n",
       "    <tr>\n",
       "      <th>3</th>\n",
       "      <td>-0.068106</td>\n",
       "      <td>-0.306593</td>\n",
       "      <td>-0.504334</td>\n",
       "      <td>0.542533</td>\n",
       "    </tr>\n",
       "    <tr>\n",
       "      <th>4</th>\n",
       "      <td>0.409865</td>\n",
       "      <td>0.666591</td>\n",
       "      <td>-0.974293</td>\n",
       "      <td>-1.150421</td>\n",
       "    </tr>\n",
       "  </tbody>\n",
       "</table>\n",
       "</div>"
      ],
      "text/plain": [
       "          A         B         C         D\n",
       "0  1.038237  1.235264  0.717110  1.594414\n",
       "1 -2.400156 -0.644404 -0.670504 -1.442222\n",
       "2  0.296535 -0.215839  0.310895 -0.677506\n",
       "3 -0.068106 -0.306593 -0.504334  0.542533\n",
       "4  0.409865  0.666591 -0.974293 -1.150421"
      ]
     },
     "execution_count": 11,
     "metadata": {},
     "output_type": "execute_result"
    }
   ],
   "source": [
    "df.head()"
   ]
  },
  {
   "cell_type": "code",
   "execution_count": 12,
   "metadata": {},
   "outputs": [],
   "source": [
    "df2=pd.DataFrame({'Category':['A','B','C'],'values':[32,43,50]})"
   ]
  },
  {
   "cell_type": "code",
   "execution_count": 13,
   "metadata": {},
   "outputs": [
    {
     "data": {
      "text/html": [
       "<div>\n",
       "<style scoped>\n",
       "    .dataframe tbody tr th:only-of-type {\n",
       "        vertical-align: middle;\n",
       "    }\n",
       "\n",
       "    .dataframe tbody tr th {\n",
       "        vertical-align: top;\n",
       "    }\n",
       "\n",
       "    .dataframe thead th {\n",
       "        text-align: right;\n",
       "    }\n",
       "</style>\n",
       "<table border=\"1\" class=\"dataframe\">\n",
       "  <thead>\n",
       "    <tr style=\"text-align: right;\">\n",
       "      <th></th>\n",
       "      <th>Category</th>\n",
       "      <th>values</th>\n",
       "    </tr>\n",
       "  </thead>\n",
       "  <tbody>\n",
       "    <tr>\n",
       "      <th>0</th>\n",
       "      <td>A</td>\n",
       "      <td>32</td>\n",
       "    </tr>\n",
       "    <tr>\n",
       "      <th>1</th>\n",
       "      <td>B</td>\n",
       "      <td>43</td>\n",
       "    </tr>\n",
       "    <tr>\n",
       "      <th>2</th>\n",
       "      <td>C</td>\n",
       "      <td>50</td>\n",
       "    </tr>\n",
       "  </tbody>\n",
       "</table>\n",
       "</div>"
      ],
      "text/plain": [
       "  Category  values\n",
       "0        A      32\n",
       "1        B      43\n",
       "2        C      50"
      ]
     },
     "execution_count": 13,
     "metadata": {},
     "output_type": "execute_result"
    }
   ],
   "source": [
    "df2"
   ]
  },
  {
   "cell_type": "code",
   "execution_count": 14,
   "metadata": {},
   "outputs": [
    {
     "data": {
      "text/plain": [
       "<matplotlib.axes._subplots.AxesSubplot at 0x18edf406b48>"
      ]
     },
     "execution_count": 14,
     "metadata": {},
     "output_type": "execute_result"
    },
    {
     "data": {
      "image/png": "[encoded data removed]",
      "text/plain": [
       "<Figure size 432x288 with 1 Axes>"
      ]
     },
     "metadata": {
      "needs_background": "light"
     },
     "output_type": "display_data"
    }
   ],
   "source": [
    "df.plot()"
   ]
  },
  {
   "cell_type": "code",
   "execution_count": 15,
   "metadata": {},
   "outputs": [
    {
     "data": {
      "application/vnd.plotly.v1+json": {
       "config": {
        "linkText": "Export to plot.ly",
        "plotlyServerURL": "https://plot.ly",
        "showLink": true
       },
       "data": [
        {
         "line": {
          "color": "rgba(255, 153, 51, 1.0)",
          "dash": "solid",
          "shape": "linear",
          "width": 1.3
         },
         "mode": "lines",
         "name": "A",
         "text": "",
         "type": "scatter",
         "x": [
          0,
          1,
          2,
          3,
          4,
          5,
          6,
          7,
          8,
          9,
          10,
          11,
          12,
          13,
          14,
          15,
          16,
          17,
          18,
          19,
          20,
          21,
          22,
          23,
          24,
          25,
          26,
          27,
          28,
          29,
          30,
          31,
          32,
          33,
          34,
          35,
          36,
          37,
          38,
          39,
          40,
          41,
          42,
          43,
          44,
          45,
          46,
          47,
          48,
          49,
          50,
          51,
          52,
          53,
          54,
          55,
          56,
          57,
          58,
          59,
          60,
          61,
          62,
          63,
          64,
          65,
          66,
          67,
          68,
          69,
          70,
          71,
          72,
          73,
          74,
          75,
          76,
          77,
          78,
          79,
          80,
          81,
          82,
          83,
          84,
          85,
          86,
          87,
          88,
          89,
          90,
          91,
          92,
          93,
          94,
          95,
          96,
          97,
          98,
          99
         ],
         "y": [
          1.0382366963092549,
          -2.400155902890422,
          0.2965349865300015,
          -0.06810621767640156,
          0.40986532593557184,
          2.980340503066905,
          -0.8113478267697151,
          0.12320917274783742,
          -0.7614388234908033,
          -1.6261937919214988,
          -0.4563416646160593,
          0.8100652375053653,
          -0.4786810244642336,
          -0.15125352763689717,
          -0.35363337608754686,
          -0.4600439741878424,
          -0.548594427223353,
          0.15179013108414735,
          1.2527836008333177,
          -0.01486881648200595,
          -1.321028273052858,
          -1.215056740365512,
          -0.46443149005930484,
          -0.2148944304441226,
          1.05921261639197,
          -0.44083508838166113,
          0.2893866833914568,
          -0.08920210825676385,
          -2.141856887876484,
          -1.6561139570133645,
          0.7297351210382328,
          0.3621479005302017,
          0.4544305516587094,
          1.1267997842916877,
          0.4980719238796653,
          0.7538993836558499,
          0.316316710943558,
          -0.7647936388049383,
          1.1335735802883333,
          1.5811875685001238,
          0.4262992431174364,
          -0.18199337606603036,
          -1.6987872789952148,
          -0.31966643306678155,
          -1.0381492197795885,
          -0.7210400728089623,
          -0.5232424059498656,
          0.33977487524362276,
          2.399931576633395,
          -0.9645654786318648,
          1.0038087775500733,
          -1.8883035577730836,
          0.40755480079472817,
          1.620992384935556,
          -1.5144382193345716,
          0.931603224067061,
          -0.0690937367458445,
          -1.1113666817523113,
          -1.6884862187088228,
          0.4847823519219444,
          -0.05144663802383848,
          0.36834324602109547,
          -0.8353614597181127,
          0.22373281034340456,
          -0.3566184980772613,
          1.195601554009199,
          0.06820956515592667,
          0.04083572678921148,
          -0.6184542972098993,
          -2.051234833545991,
          -0.14841116035642724,
          -0.03474205360657567,
          -0.5092248018023503,
          1.5827581291154604,
          1.014753174170827,
          -0.8796020182618397,
          1.5156583685885863,
          0.3459349898339406,
          -1.0614935144891169,
          -0.7649817166963779,
          0.9542728262990114,
          0.648275202973677,
          1.4943115581023017,
          -0.05217028507026561,
          -2.5758228868679427,
          1.167717895603323,
          -0.3904663846029581,
          -1.1167983296391784,
          -1.2833065183657555,
          0.1914994460291949,
          -1.0098431205894374,
          0.6341599431397855,
          1.0297851263869595,
          -0.8389507488561836,
          1.5475484215159128,
          -0.7317169193187559,
          0.7991377097309073,
          0.8423863489416101,
          -0.6566768816715937,
          0.6671829937032094
         ]
        },
        {
         "line": {
          "color": "rgba(55, 128, 191, 1.0)",
          "dash": "solid",
          "shape": "linear",
          "width": 1.3
         },
         "mode": "lines",
         "name": "B",
         "text": "",
         "type": "scatter",
         "x": [
          0,
          1,
          2,
          3,
          4,
          5,
          6,
          7,
          8,
          9,
          10,
          11,
          12,
          13,
          14,
          15,
          16,
          17,
          18,
          19,
          20,
          21,
          22,
          23,
          24,
          25,
          26,
          27,
          28,
          29,
          30,
          31,
          32,
          33,
          34,
          35,
          36,
          37,
          38,
          39,
          40,
          41,
          42,
          43,
          44,
          45,
          46,
          47,
          48,
          49,
          50,
          51,
          52,
          53,
          54,
          55,
          56,
          57,
          58,
          59,
          60,
          61,
          62,
          63,
          64,
          65,
          66,
          67,
          68,
          69,
          70,
          71,
          72,
          73,
          74,
          75,
          76,
          77,
          78,
          79,
          80,
          81,
          82,
          83,
          84,
          85,
          86,
          87,
          88,
          89,
          90,
          91,
          92,
          93,
          94,
          95,
          96,
          97,
          98,
          99
         ],
         "y": [
          1.2352637423497352,
          -0.644403593249537,
          -0.21583932947160878,
          -0.3065930615464294,
          0.6665906880616215,
          0.8274128978167663,
          0.05207674860437279,
          1.080405009642796,
          1.5503160159883964,
          -0.3976979490057124,
          -0.6995457282171443,
          0.5019567846337258,
          0.784414208144939,
          -0.9684400337727636,
          1.4681555528388157,
          0.9738748547542355,
          -0.1683756778040267,
          0.3284689415865835,
          -0.1019530754349385,
          0.9083874292429925,
          -0.7002357326015257,
          0.10253269120604626,
          -0.28304613432624315,
          0.29043776828919987,
          -1.5054504867131828,
          0.18888259838641094,
          0.7286810867526122,
          0.4024645562824474,
          -0.442632044759658,
          1.0128378062330445,
          1.4084203254739425,
          -1.7985124548998326,
          -1.4766875740832202,
          -0.14385940913942347,
          0.17461525221701604,
          -0.05939915810810186,
          1.1036634894886488,
          -1.614960059971259,
          0.9318582971966591,
          -1.5215083013652648,
          -0.6091839263780852,
          -1.487550522210282,
          1.5750848833669928,
          0.4460744620597566,
          1.3584587583826973,
          0.5305091400254296,
          0.4933623947455486,
          1.1827465762712785,
          0.16328972905461056,
          -0.32020332895890746,
          0.4465826943725874,
          2.2137359418920566,
          -0.5416389204214601,
          -2.374674201725834,
          -0.3318575370120358,
          0.3125129865243422,
          -1.2902209289754214,
          0.9453003743451314,
          -0.7222568276366002,
          -1.1086224341893036,
          0.9698175766464336,
          -0.02289777986971175,
          1.0119705009285886,
          -1.197599765857664,
          0.38586981097800205,
          0.1679327921569883,
          -1.1542382780421319,
          -2.6064743089733695,
          1.7539940301882824,
          -0.05325637220002819,
          0.8146578039065746,
          0.4061439818110797,
          1.1762007407215433,
          -1.4790773409005213,
          0.9741379879968607,
          -1.2534825112644354,
          -0.9035510642832751,
          -1.3400183078899761,
          1.3840795732538014,
          0.08235629844734149,
          0.526065491888457,
          1.1735641106989962,
          0.8725788127710796,
          -1.2212273380904914,
          -1.891203170183768,
          1.6731060104584292,
          -0.9194250381539126,
          -0.6757601984666243,
          1.07769365533154,
          0.5003415018622092,
          -0.5339589964979589,
          -1.9382073393181636,
          0.10156924921382787,
          1.4759570773089004,
          0.5185152737926203,
          -0.8940324829248656,
          0.626322064988126,
          1.9586230496827788,
          0.18164223414444486,
          0.3753347024349057
         ]
        },
        {
         "line": {
          "color": "rgba(50, 171, 96, 1.0)",
          "dash": "solid",
          "shape": "linear",
          "width": 1.3
         },
         "mode": "lines",
         "name": "C",
         "text": "",
         "type": "scatter",
         "x": [
          0,
          1,
          2,
          3,
          4,
          5,
          6,
          7,
          8,
          9,
          10,
          11,
          12,
          13,
          14,
          15,
          16,
          17,
          18,
          19,
          20,
          21,
          22,
          23,
          24,
          25,
          26,
          27,
          28,
          29,
          30,
          31,
          32,
          33,
          34,
          35,
          36,
          37,
          38,
          39,
          40,
          41,
          42,
          43,
          44,
          45,
          46,
          47,
          48,
          49,
          50,
          51,
          52,
          53,
          54,
          55,
          56,
          57,
          58,
          59,
          60,
          61,
          62,
          63,
          64,
          65,
          66,
          67,
          68,
          69,
          70,
          71,
          72,
          73,
          74,
          75,
          76,
          77,
          78,
          79,
          80,
          81,
          82,
          83,
          84,
          85,
          86,
          87,
          88,
          89,
          90,
          91,
          92,
          93,
          94,
          95,
          96,
          97,
          98,
          99
         ],
         "y": [
          0.7171100537947829,
          -0.6705043942082773,
          0.31089544958537835,
          -0.5043338553673823,
          -0.9742934286592914,
          -0.1733077424089138,
          0.40273899477371145,
          -0.6353727131784702,
          0.6799008398905035,
          0.29401464110270065,
          -1.375383559586756,
          -0.6647087831656143,
          1.6878695232537342,
          -0.6775008445543156,
          0.06392053534539674,
          -0.10491907377723063,
          -1.7116153418750857,
          0.9132426243282985,
          0.3274138137400342,
          -1.1210504061662332,
          -0.6791126142611109,
          0.1885879389467673,
          0.3909779275251414,
          -0.9288957049944576,
          -2.7577958831534803,
          -1.2785164155839637,
          0.5621501801073486,
          1.7610820566494194,
          -0.21618981557249262,
          -0.5388315352174506,
          -0.18319484127549743,
          -1.2832271004863351,
          2.6350522687278297,
          0.527329557007783,
          2.0859269989831413,
          1.3173174640212095,
          0.06019145113004047,
          0.2803281571923362,
          0.12137096803749506,
          -0.7595620995669927,
          0.8063272411837533,
          0.3454677919922995,
          -1.5144978373390645,
          0.9098287486379316,
          -0.473253461076539,
          0.2546361718204737,
          -0.35631102763063105,
          -0.6560096359506616,
          -1.1504116315618926,
          -1.8092297541955427,
          0.3728890371817506,
          -0.3768972461695595,
          0.8618457937312982,
          0.9327747362965856,
          -0.0002969481683752328,
          -0.8025540412798581,
          -1.360758773697659,
          0.42442110317748133,
          0.5102958163011305,
          -1.1621362462104412,
          1.93438554911377,
          0.38054893117410227,
          0.4483119979873048,
          -0.1570420000950534,
          -0.47460728642647093,
          -0.3303592140332204,
          -0.3064263804028798,
          1.835841696252868,
          1.1173094754592006,
          1.5250387129796623,
          -0.057291305693003565,
          -0.1277431798795453,
          -0.42379062111402,
          1.3036894405310675,
          0.5069626545732473,
          -0.6490656729012979,
          0.8428305032262942,
          1.9077142030202825,
          0.6380603845203026,
          -0.5103004666672093,
          0.11796286832900063,
          -1.1643156350132926,
          0.8119996821846642,
          0.5159794791484065,
          1.1318910776205982,
          0.8570045052237849,
          -0.3304934378727535,
          -0.4294680263145168,
          0.7986529969396823,
          -0.9811302866659917,
          -0.38656570749482927,
          -1.0466307421303616,
          -1.8336662239594692,
          -1.1901951766741279,
          0.3101164589901357,
          -0.2205163030743878,
          0.09272998727655567,
          -0.07627106087898423,
          0.35305705832500406,
          1.7536382042482186
         ]
        },
        {
         "line": {
          "color": "rgba(128, 0, 128, 1.0)",
          "dash": "solid",
          "shape": "linear",
          "width": 1.3
         },
         "mode": "lines",
         "name": "D",
         "text": "",
         "type": "scatter",
         "x": [
          0,
          1,
          2,
          3,
          4,
          5,
          6,
          7,
          8,
          9,
          10,
          11,
          12,
          13,
          14,
          15,
          16,
          17,
          18,
          19,
          20,
          21,
          22,
          23,
          24,
          25,
          26,
          27,
          28,
          29,
          30,
          31,
          32,
          33,
          34,
          35,
          36,
          37,
          38,
          39,
          40,
          41,
          42,
          43,
          44,
          45,
          46,
          47,
          48,
          49,
          50,
          51,
          52,
          53,
          54,
          55,
          56,
          57,
          58,
          59,
          60,
          61,
          62,
          63,
          64,
          65,
          66,
          67,
          68,
          69,
          70,
          71,
          72,
          73,
          74,
          75,
          76,
          77,
          78,
          79,
          80,
          81,
          82,
          83,
          84,
          85,
          86,
          87,
          88,
          89,
          90,
          91,
          92,
          93,
          94,
          95,
          96,
          97,
          98,
          99
         ],
         "y": [
          1.5944141224570951,
          -1.4422217718810517,
          -0.6775056248359165,
          0.5425327711778104,
          -1.150421084363576,
          0.5135457245087396,
          -1.321111295035442,
          -1.1114269353719264,
          -0.5482860723138663,
          -0.3826233020610873,
          1.8945668683576136,
          -0.7515833234081605,
          1.283833326285015,
          -0.8275993454656554,
          0.12838341498868214,
          0.8403329131702698,
          0.17060824519329876,
          -0.30011765035326887,
          0.4854545829024947,
          -1.8911154724785426,
          1.1917266999118605,
          2.10723855258812,
          0.3049749458737713,
          0.8629112602491235,
          1.3330630415456524,
          0.20595123957798286,
          1.134227029379625,
          -0.6242571940611776,
          0.8833618491795998,
          0.21596464385150554,
          0.23418253153394541,
          0.07659354311937588,
          -0.6967684344050352,
          0.3333750596807909,
          -0.4808972157811444,
          -0.4159007897049626,
          -1.4005464146445767,
          1.2344271956283603,
          -0.3076470278751892,
          -0.8955674379768139,
          0.30926774929739015,
          0.6297600251903708,
          1.7990748884496843,
          -0.5778543973249138,
          -0.335489100776331,
          1.0191314191159482,
          -0.24034705593365235,
          -0.6240939115662526,
          -0.1785435178941472,
          -0.0032633320920254657,
          -1.505027767445995,
          0.07444195095500496,
          -1.1804303602380004,
          -1.6787581401627665,
          1.548182150258975,
          -1.142038892624844,
          -1.1590141809540022,
          2.205301029707225,
          -1.7082026370724346,
          -0.4522905464781231,
          -1.560559469274855,
          -1.272695536524901,
          1.7508925284907684,
          0.265320949621517,
          -0.19252060791086,
          -0.0032326746137167433,
          -0.6622006488014425,
          -1.459023071543362,
          0.40990808542328505,
          0.17859359274457023,
          -0.46530176905928394,
          1.3943541030179492,
          0.5864037378850627,
          0.6072339357545016,
          0.14416285070077703,
          0.9317279671975461,
          0.5854298942901607,
          -1.4156750489248187,
          -0.5402684261429752,
          1.2560099479342928,
          -0.6501632557247102,
          -1.5112492067267687,
          -0.05218975454021778,
          0.41239328991222945,
          0.5445250929155341,
          0.37996094849536,
          -1.9119546395647826,
          0.709352415504824,
          -0.09305523635944245,
          0.3206055887521061,
          0.2200818497447563,
          0.3946196674990109,
          0.5530028946009807,
          1.4197216025804544,
          -0.5057009939104495,
          0.9786812076343843,
          0.7802124003868645,
          0.21398415474113802,
          -0.7621475066145035,
          0.3572791397580236
         ]
        }
       ],
       "layout": {
        "legend": {
         "bgcolor": "#F5F6F9",
         "font": {
          "color": "#4D5663"
         }
        },
        "paper_bgcolor": "#F5F6F9",
        "plot_bgcolor": "#F5F6F9",
        "template": {
         "data": {
          "bar": [
           {
            "error_x": {
             "color": "#2a3f5f"
            },
            "error_y": {
             "color": "#2a3f5f"
            },
            "marker": {
             "line": {
              "color": "#E5ECF6",
              "width": 0.5
             }
            },
            "type": "bar"
           }
          ],
          "barpolar": [
           {
            "marker": {
             "line": {
              "color": "#E5ECF6",
              "width": 0.5
             }
            },
            "type": "barpolar"
           }
          ],
          "carpet": [
           {
            "aaxis": {
             "endlinecolor": "#2a3f5f",
             "gridcolor": "white",
             "linecolor": "white",
             "minorgridcolor": "white",
             "startlinecolor": "#2a3f5f"
            },
            "baxis": {
             "endlinecolor": "#2a3f5f",
             "gridcolor": "white",
             "linecolor": "white",
             "minorgridcolor": "white",
             "startlinecolor": "#2a3f5f"
            },
            "type": "carpet"
           }
          ],
          "choropleth": [
           {
            "colorbar": {
             "outlinewidth": 0,
             "ticks": ""
            },
            "type": "choropleth"
           }
          ],
          "contour": [
           {
            "colorbar": {
             "outlinewidth": 0,
             "ticks": ""
            },
            "colorscale": [
             [
              0,
              "#0d0887"
             ],
             [
              0.1111111111111111,
              "#46039f"
             ],
             [
              0.2222222222222222,
              "#7201a8"
             ],
             [
              0.3333333333333333,
              "#9c179e"
             ],
             [
              0.4444444444444444,
              "#bd3786"
             ],
             [
              0.5555555555555556,
              "#d8576b"
             ],
             [
              0.6666666666666666,
              "#ed7953"
             ],
             [
              0.7777777777777778,
              "#fb9f3a"
             ],
             [
              0.8888888888888888,
              "#fdca26"
             ],
             [
              1,
              "#f0f921"
             ]
            ],
            "type": "contour"
           }
          ],
          "contourcarpet": [
           {
            "colorbar": {
             "outlinewidth": 0,
             "ticks": ""
            },
            "type": "contourcarpet"
           }
          ],
          "heatmap": [
           {
            "colorbar": {
             "outlinewidth": 0,
             "ticks": ""
            },
            "colorscale": [
             [
              0,
              "#0d0887"
             ],
             [
              0.1111111111111111,
              "#46039f"
             ],
             [
              0.2222222222222222,
              "#7201a8"
             ],
             [
              0.3333333333333333,
              "#9c179e"
             ],
             [
              0.4444444444444444,
              "#bd3786"
             ],
             [
              0.5555555555555556,
              "#d8576b"
             ],
             [
              0.6666666666666666,
              "#ed7953"
             ],
             [
              0.7777777777777778,
              "#fb9f3a"
             ],
             [
              0.8888888888888888,
              "#fdca26"
             ],
             [
              1,
              "#f0f921"
             ]
            ],
            "type": "heatmap"
           }
          ],
          "heatmapgl": [
           {
            "colorbar": {
             "outlinewidth": 0,
             "ticks": ""
            },
            "colorscale": [
             [
              0,
              "#0d0887"
             ],
             [
              0.1111111111111111,
              "#46039f"
             ],
             [
              0.2222222222222222,
              "#7201a8"
             ],
             [
              0.3333333333333333,
              "#9c179e"
             ],
             [
              0.4444444444444444,
              "#bd3786"
             ],
             [
              0.5555555555555556,
              "#d8576b"
             ],
             [
              0.6666666666666666,
              "#ed7953"
             ],
             [
              0.7777777777777778,
              "#fb9f3a"
             ],
             [
              0.8888888888888888,
              "#fdca26"
             ],
             [
              1,
              "#f0f921"
             ]
            ],
            "type": "heatmapgl"
           }
          ],
          "histogram": [
           {
            "marker": {
             "colorbar": {
              "outlinewidth": 0,
              "ticks": ""
             }
            },
            "type": "histogram"
           }
          ],
          "histogram2d": [
           {
            "colorbar": {
             "outlinewidth": 0,
             "ticks": ""
            },
            "colorscale": [
             [
              0,
              "#0d0887"
             ],
             [
              0.1111111111111111,
              "#46039f"
             ],
             [
              0.2222222222222222,
              "#7201a8"
             ],
             [
              0.3333333333333333,
              "#9c179e"
             ],
             [
              0.4444444444444444,
              "#bd3786"
             ],
             [
              0.5555555555555556,
              "#d8576b"
             ],
             [
              0.6666666666666666,
              "#ed7953"
             ],
             [
              0.7777777777777778,
              "#fb9f3a"
             ],
             [
              0.8888888888888888,
              "#fdca26"
             ],
             [
              1,
              "#f0f921"
             ]
            ],
            "type": "histogram2d"
           }
          ],
          "histogram2dcontour": [
           {
            "colorbar": {
             "outlinewidth": 0,
             "ticks": ""
            },
            "colorscale": [
             [
              0,
              "#0d0887"
             ],
             [
              0.1111111111111111,
              "#46039f"
             ],
             [
              0.2222222222222222,
              "#7201a8"
             ],
             [
              0.3333333333333333,
              "#9c179e"
             ],
             [
              0.4444444444444444,
              "#bd3786"
             ],
             [
              0.5555555555555556,
              "#d8576b"
             ],
             [
              0.6666666666666666,
              "#ed7953"
             ],
             [
              0.7777777777777778,
              "#fb9f3a"
             ],
             [
              0.8888888888888888,
              "#fdca26"
             ],
             [
              1,
              "#f0f921"
             ]
            ],
            "type": "histogram2dcontour"
           }
          ],
          "mesh3d": [
           {
            "colorbar": {
             "outlinewidth": 0,
             "ticks": ""
            },
            "type": "mesh3d"
           }
          ],
          "parcoords": [
           {
            "line": {
             "colorbar": {
              "outlinewidth": 0,
              "ticks": ""
             }
            },
            "type": "parcoords"
           }
          ],
          "pie": [
           {
            "automargin": true,
            "type": "pie"
           }
          ],
          "scatter": [
           {
            "marker": {
             "colorbar": {
              "outlinewidth": 0,
              "ticks": ""
             }
            },
            "type": "scatter"
           }
          ],
          "scatter3d": [
           {
            "line": {
             "colorbar": {
              "outlinewidth": 0,
              "ticks": ""
             }
            },
            "marker": {
             "colorbar": {
              "outlinewidth": 0,
              "ticks": ""
             }
            },
            "type": "scatter3d"
           }
          ],
          "scattercarpet": [
           {
            "marker": {
             "colorbar": {
              "outlinewidth": 0,
              "ticks": ""
             }
            },
            "type": "scattercarpet"
           }
          ],
          "scattergeo": [
           {
            "marker": {
             "colorbar": {
              "outlinewidth": 0,
              "ticks": ""
             }
            },
            "type": "scattergeo"
           }
          ],
          "scattergl": [
           {
            "marker": {
             "colorbar": {
              "outlinewidth": 0,
              "ticks": ""
             }
            },
            "type": "scattergl"
           }
          ],
          "scattermapbox": [
           {
            "marker": {
             "colorbar": {
              "outlinewidth": 0,
              "ticks": ""
             }
            },
            "type": "scattermapbox"
           }
          ],
          "scatterpolar": [
           {
            "marker": {
             "colorbar": {
              "outlinewidth": 0,
              "ticks": ""
             }
            },
            "type": "scatterpolar"
           }
          ],
          "scatterpolargl": [
           {
            "marker": {
             "colorbar": {
              "outlinewidth": 0,
              "ticks": ""
             }
            },
            "type": "scatterpolargl"
           }
          ],
          "scatterternary": [
           {
            "marker": {
             "colorbar": {
              "outlinewidth": 0,
              "ticks": ""
             }
            },
            "type": "scatterternary"
           }
          ],
          "surface": [
           {
            "colorbar": {
             "outlinewidth": 0,
             "ticks": ""
            },
            "colorscale": [
             [
              0,
              "#0d0887"
             ],
             [
              0.1111111111111111,
              "#46039f"
             ],
             [
              0.2222222222222222,
              "#7201a8"
             ],
             [
              0.3333333333333333,
              "#9c179e"
             ],
             [
              0.4444444444444444,
              "#bd3786"
             ],
             [
              0.5555555555555556,
              "#d8576b"
             ],
             [
              0.6666666666666666,
              "#ed7953"
             ],
             [
              0.7777777777777778,
              "#fb9f3a"
             ],
             [
              0.8888888888888888,
              "#fdca26"
             ],
             [
              1,
              "#f0f921"
             ]
            ],
            "type": "surface"
           }
          ],
          "table": [
           {
            "cells": {
             "fill": {
              "color": "#EBF0F8"
             },
             "line": {
              "color": "white"
             }
            },
            "header": {
             "fill": {
              "color": "#C8D4E3"
             },
             "line": {
              "color": "white"
             }
            },
            "type": "table"
           }
          ]
         },
         "layout": {
          "annotationdefaults": {
           "arrowcolor": "#2a3f5f",
           "arrowhead": 0,
           "arrowwidth": 1
          },
          "coloraxis": {
           "colorbar": {
            "outlinewidth": 0,
            "ticks": ""
           }
          },
          "colorscale": {
           "diverging": [
            [
             0,
             "#8e0152"
            ],
            [
             0.1,
             "#c51b7d"
            ],
            [
             0.2,
             "#de77ae"
            ],
            [
             0.3,
             "#f1b6da"
            ],
            [
             0.4,
             "#fde0ef"
            ],
            [
             0.5,
             "#f7f7f7"
            ],
            [
             0.6,
             "#e6f5d0"
            ],
            [
             0.7,
             "#b8e186"
            ],
            [
             0.8,
             "#7fbc41"
            ],
            [
             0.9,
             "#4d9221"
            ],
            [
             1,
             "#276419"
            ]
           ],
           "sequential": [
            [
             0,
             "#0d0887"
            ],
            [
             0.1111111111111111,
             "#46039f"
            ],
            [
             0.2222222222222222,
             "#7201a8"
            ],
            [
             0.3333333333333333,
             "#9c179e"
            ],
            [
             0.4444444444444444,
             "#bd3786"
            ],
            [
             0.5555555555555556,
             "#d8576b"
            ],
            [
             0.6666666666666666,
             "#ed7953"
            ],
            [
             0.7777777777777778,
             "#fb9f3a"
            ],
            [
             0.8888888888888888,
             "#fdca26"
            ],
            [
             1,
             "#f0f921"
            ]
           ],
           "sequentialminus": [
            [
             0,
             "#0d0887"
            ],
            [
             0.1111111111111111,
             "#46039f"
            ],
            [
             0.2222222222222222,
             "#7201a8"
            ],
            [
             0.3333333333333333,
             "#9c179e"
            ],
            [
             0.4444444444444444,
             "#bd3786"
            ],
            [
             0.5555555555555556,
             "#d8576b"
            ],
            [
             0.6666666666666666,
             "#ed7953"
            ],
            [
             0.7777777777777778,
             "#fb9f3a"
            ],
            [
             0.8888888888888888,
             "#fdca26"
            ],
            [
             1,
             "#f0f921"
            ]
           ]
          },
          "colorway": [
           "#636efa",
           "#EF553B",
           "#00cc96",
           "#ab63fa",
           "#FFA15A",
           "#19d3f3",
           "#FF6692",
           "#B6E880",
           "#FF97FF",
           "#FECB52"
          ],
          "font": {
           "color": "#2a3f5f"
          },
          "geo": {
           "bgcolor": "white",
           "lakecolor": "white",
           "landcolor": "#E5ECF6",
           "showlakes": true,
           "showland": true,
           "subunitcolor": "white"
          },
          "hoverlabel": {
           "align": "left"
          },
          "hovermode": "closest",
          "mapbox": {
           "style": "light"
          },
          "paper_bgcolor": "white",
          "plot_bgcolor": "#E5ECF6",
          "polar": {
           "angularaxis": {
            "gridcolor": "white",
            "linecolor": "white",
            "ticks": ""
           },
           "bgcolor": "#E5ECF6",
           "radialaxis": {
            "gridcolor": "white",
            "linecolor": "white",
            "ticks": ""
           }
          },
          "scene": {
           "xaxis": {
            "backgroundcolor": "#E5ECF6",
            "gridcolor": "white",
            "gridwidth": 2,
            "linecolor": "white",
            "showbackground": true,
            "ticks": "",
            "zerolinecolor": "white"
           },
           "yaxis": {
            "backgroundcolor": "#E5ECF6",
            "gridcolor": "white",
            "gridwidth": 2,
            "linecolor": "white",
            "showbackground": true,
            "ticks": "",
            "zerolinecolor": "white"
           },
           "zaxis": {
            "backgroundcolor": "#E5ECF6",
            "gridcolor": "white",
            "gridwidth": 2,
            "linecolor": "white",
            "showbackground": true,
            "ticks": "",
            "zerolinecolor": "white"
           }
          },
          "shapedefaults": {
           "line": {
            "color": "#2a3f5f"
           }
          },
          "ternary": {
           "aaxis": {
            "gridcolor": "white",
            "linecolor": "white",
            "ticks": ""
           },
           "baxis": {
            "gridcolor": "white",
            "linecolor": "white",
            "ticks": ""
           },
           "bgcolor": "#E5ECF6",
           "caxis": {
            "gridcolor": "white",
            "linecolor": "white",
            "ticks": ""
           }
          },
          "title": {
           "x": 0.05
          },
          "xaxis": {
           "automargin": true,
           "gridcolor": "white",
           "linecolor": "white",
           "ticks": "",
           "title": {
            "standoff": 15
           },
           "zerolinecolor": "white",
           "zerolinewidth": 2
          },
          "yaxis": {
           "automargin": true,
           "gridcolor": "white",
           "linecolor": "white",
           "ticks": "",
           "title": {
            "standoff": 15
           },
           "zerolinecolor": "white",
           "zerolinewidth": 2
          }
         }
        },
        "title": {
         "font": {
          "color": "#4D5663"
         }
        },
        "xaxis": {
         "gridcolor": "#E1E5ED",
         "showgrid": true,
         "tickfont": {
          "color": "#4D5663"
         },
         "title": {
          "font": {
           "color": "#4D5663"
          },
          "text": ""
         },
         "zerolinecolor": "#E1E5ED"
        },
        "yaxis": {
         "gridcolor": "#E1E5ED",
         "showgrid": true,
         "tickfont": {
          "color": "#4D5663"
         },
         "title": {
          "font": {
           "color": "#4D5663"
          },
          "text": ""
         },
         "zerolinecolor": "#E1E5ED"
        }
       }
      },
      "text/html": [
       "<div>\n",
       "        \n",
       "        \n",
       "            <div id=\"90ad3c3b-a1cb-4f6c-b3ad-cc96d31ccf92\" class=\"plotly-graph-div\" style=\"height:525px; width:100%;\"></div>\n",
       "            <script type=\"text/javascript\">\n",
       "                require([\"plotly\"], function(Plotly) {\n",
       "                    window.PLOTLYENV=window.PLOTLYENV || {};\n",
       "                    window.PLOTLYENV.BASE_URL='https://plot.ly';\n",
       "                    \n",
       "                if (document.getElementById(\"90ad3c3b-a1cb-4f6c-b3ad-cc96d31ccf92\")) {\n",
       "                    Plotly.newPlot(\n",
       "                        '90ad3c3b-a1cb-4f6c-b3ad-cc96d31ccf92',\n",
       "                        [{\"line\": {\"color\": \"rgba(255, 153, 51, 1.0)\", \"dash\": \"solid\", \"shape\": \"linear\", \"width\": 1.3}, \"mode\": \"lines\", \"name\": \"A\", \"text\": \"\", \"type\": \"scatter\", \"x\": [0, 1, 2, 3, 4, 5, 6, 7, 8, 9, 10, 11, 12, 13, 14, 15, 16, 17, 18, 19, 20, 21, 22, 23, 24, 25, 26, 27, 28, 29, 30, 31, 32, 33, 34, 35, 36, 37, 38, 39, 40, 41, 42, 43, 44, 45, 46, 47, 48, 49, 50, 51, 52, 53, 54, 55, 56, 57, 58, 59, 60, 61, 62, 63, 64, 65, 66, 67, 68, 69, 70, 71, 72, 73, 74, 75, 76, 77, 78, 79, 80, 81, 82, 83, 84, 85, 86, 87, 88, 89, 90, 91, 92, 93, 94, 95, 96, 97, 98, 99], \"y\": [1.0382366963092549, -2.400155902890422, 0.2965349865300015, -0.06810621767640156, 0.40986532593557184, 2.980340503066905, -0.8113478267697151, 0.12320917274783742, -0.7614388234908033, -1.6261937919214988, -0.4563416646160593, 0.8100652375053653, -0.4786810244642336, -0.15125352763689717, -0.35363337608754686, -0.4600439741878424, -0.548594427223353, 0.15179013108414735, 1.2527836008333177, -0.01486881648200595, -1.321028273052858, -1.215056740365512, -0.46443149005930484, -0.2148944304441226, 1.05921261639197, -0.44083508838166113, 0.2893866833914568, -0.08920210825676385, -2.141856887876484, -1.6561139570133645, 0.7297351210382328, 0.3621479005302017, 0.4544305516587094, 1.1267997842916877, 0.4980719238796653, 0.7538993836558499, 0.316316710943558, -0.7647936388049383, 1.1335735802883333, 1.5811875685001238, 0.4262992431174364, -0.18199337606603036, -1.6987872789952148, -0.31966643306678155, -1.0381492197795885, -0.7210400728089623, -0.5232424059498656, 0.33977487524362276, 2.399931576633395, -0.9645654786318648, 1.0038087775500733, -1.8883035577730836, 0.40755480079472817, 1.620992384935556, -1.5144382193345716, 0.931603224067061, -0.0690937367458445, -1.1113666817523113, -1.6884862187088228, 0.4847823519219444, -0.05144663802383848, 0.36834324602109547, -0.8353614597181127, 0.22373281034340456, -0.3566184980772613, 1.195601554009199, 0.06820956515592667, 0.04083572678921148, -0.6184542972098993, -2.051234833545991, -0.14841116035642724, -0.03474205360657567, -0.5092248018023503, 1.5827581291154604, 1.014753174170827, -0.8796020182618397, 1.5156583685885863, 0.3459349898339406, -1.0614935144891169, -0.7649817166963779, 0.9542728262990114, 0.648275202973677, 1.4943115581023017, -0.05217028507026561, -2.5758228868679427, 1.167717895603323, -0.3904663846029581, -1.1167983296391784, -1.2833065183657555, 0.1914994460291949, -1.0098431205894374, 0.6341599431397855, 1.0297851263869595, -0.8389507488561836, 1.5475484215159128, -0.7317169193187559, 0.7991377097309073, 0.8423863489416101, -0.6566768816715937, 0.6671829937032094]}, {\"line\": {\"color\": \"rgba(55, 128, 191, 1.0)\", \"dash\": \"solid\", \"shape\": \"linear\", \"width\": 1.3}, \"mode\": \"lines\", \"name\": \"B\", \"text\": \"\", \"type\": \"scatter\", \"x\": [0, 1, 2, 3, 4, 5, 6, 7, 8, 9, 10, 11, 12, 13, 14, 15, 16, 17, 18, 19, 20, 21, 22, 23, 24, 25, 26, 27, 28, 29, 30, 31, 32, 33, 34, 35, 36, 37, 38, 39, 40, 41, 42, 43, 44, 45, 46, 47, 48, 49, 50, 51, 52, 53, 54, 55, 56, 57, 58, 59, 60, 61, 62, 63, 64, 65, 66, 67, 68, 69, 70, 71, 72, 73, 74, 75, 76, 77, 78, 79, 80, 81, 82, 83, 84, 85, 86, 87, 88, 89, 90, 91, 92, 93, 94, 95, 96, 97, 98, 99], \"y\": [1.2352637423497352, -0.644403593249537, -0.21583932947160878, -0.3065930615464294, 0.6665906880616215, 0.8274128978167663, 0.05207674860437279, 1.080405009642796, 1.5503160159883964, -0.3976979490057124, -0.6995457282171443, 0.5019567846337258, 0.784414208144939, -0.9684400337727636, 1.4681555528388157, 0.9738748547542355, -0.1683756778040267, 0.3284689415865835, -0.1019530754349385, 0.9083874292429925, -0.7002357326015257, 0.10253269120604626, -0.28304613432624315, 0.29043776828919987, -1.5054504867131828, 0.18888259838641094, 0.7286810867526122, 0.4024645562824474, -0.442632044759658, 1.0128378062330445, 1.4084203254739425, -1.7985124548998326, -1.4766875740832202, -0.14385940913942347, 0.17461525221701604, -0.05939915810810186, 1.1036634894886488, -1.614960059971259, 0.9318582971966591, -1.5215083013652648, -0.6091839263780852, -1.487550522210282, 1.5750848833669928, 0.4460744620597566, 1.3584587583826973, 0.5305091400254296, 0.4933623947455486, 1.1827465762712785, 0.16328972905461056, -0.32020332895890746, 0.4465826943725874, 2.2137359418920566, -0.5416389204214601, -2.374674201725834, -0.3318575370120358, 0.3125129865243422, -1.2902209289754214, 0.9453003743451314, -0.7222568276366002, -1.1086224341893036, 0.9698175766464336, -0.02289777986971175, 1.0119705009285886, -1.197599765857664, 0.38586981097800205, 0.1679327921569883, -1.1542382780421319, -2.6064743089733695, 1.7539940301882824, -0.05325637220002819, 0.8146578039065746, 0.4061439818110797, 1.1762007407215433, -1.4790773409005213, 0.9741379879968607, -1.2534825112644354, -0.9035510642832751, -1.3400183078899761, 1.3840795732538014, 0.08235629844734149, 0.526065491888457, 1.1735641106989962, 0.8725788127710796, -1.2212273380904914, -1.891203170183768, 1.6731060104584292, -0.9194250381539126, -0.6757601984666243, 1.07769365533154, 0.5003415018622092, -0.5339589964979589, -1.9382073393181636, 0.10156924921382787, 1.4759570773089004, 0.5185152737926203, -0.8940324829248656, 0.626322064988126, 1.9586230496827788, 0.18164223414444486, 0.3753347024349057]}, {\"line\": {\"color\": \"rgba(50, 171, 96, 1.0)\", \"dash\": \"solid\", \"shape\": \"linear\", \"width\": 1.3}, \"mode\": \"lines\", \"name\": \"C\", \"text\": \"\", \"type\": \"scatter\", \"x\": [0, 1, 2, 3, 4, 5, 6, 7, 8, 9, 10, 11, 12, 13, 14, 15, 16, 17, 18, 19, 20, 21, 22, 23, 24, 25, 26, 27, 28, 29, 30, 31, 32, 33, 34, 35, 36, 37, 38, 39, 40, 41, 42, 43, 44, 45, 46, 47, 48, 49, 50, 51, 52, 53, 54, 55, 56, 57, 58, 59, 60, 61, 62, 63, 64, 65, 66, 67, 68, 69, 70, 71, 72, 73, 74, 75, 76, 77, 78, 79, 80, 81, 82, 83, 84, 85, 86, 87, 88, 89, 90, 91, 92, 93, 94, 95, 96, 97, 98, 99], \"y\": [0.7171100537947829, -0.6705043942082773, 0.31089544958537835, -0.5043338553673823, -0.9742934286592914, -0.1733077424089138, 0.40273899477371145, -0.6353727131784702, 0.6799008398905035, 0.29401464110270065, -1.375383559586756, -0.6647087831656143, 1.6878695232537342, -0.6775008445543156, 0.06392053534539674, -0.10491907377723063, -1.7116153418750857, 0.9132426243282985, 0.3274138137400342, -1.1210504061662332, -0.6791126142611109, 0.1885879389467673, 0.3909779275251414, -0.9288957049944576, -2.7577958831534803, -1.2785164155839637, 0.5621501801073486, 1.7610820566494194, -0.21618981557249262, -0.5388315352174506, -0.18319484127549743, -1.2832271004863351, 2.6350522687278297, 0.527329557007783, 2.0859269989831413, 1.3173174640212095, 0.06019145113004047, 0.2803281571923362, 0.12137096803749506, -0.7595620995669927, 0.8063272411837533, 0.3454677919922995, -1.5144978373390645, 0.9098287486379316, -0.473253461076539, 0.2546361718204737, -0.35631102763063105, -0.6560096359506616, -1.1504116315618926, -1.8092297541955427, 0.3728890371817506, -0.3768972461695595, 0.8618457937312982, 0.9327747362965856, -0.0002969481683752328, -0.8025540412798581, -1.360758773697659, 0.42442110317748133, 0.5102958163011305, -1.1621362462104412, 1.93438554911377, 0.38054893117410227, 0.4483119979873048, -0.1570420000950534, -0.47460728642647093, -0.3303592140332204, -0.3064263804028798, 1.835841696252868, 1.1173094754592006, 1.5250387129796623, -0.057291305693003565, -0.1277431798795453, -0.42379062111402, 1.3036894405310675, 0.5069626545732473, -0.6490656729012979, 0.8428305032262942, 1.9077142030202825, 0.6380603845203026, -0.5103004666672093, 0.11796286832900063, -1.1643156350132926, 0.8119996821846642, 0.5159794791484065, 1.1318910776205982, 0.8570045052237849, -0.3304934378727535, -0.4294680263145168, 0.7986529969396823, -0.9811302866659917, -0.38656570749482927, -1.0466307421303616, -1.8336662239594692, -1.1901951766741279, 0.3101164589901357, -0.2205163030743878, 0.09272998727655567, -0.07627106087898423, 0.35305705832500406, 1.7536382042482186]}, {\"line\": {\"color\": \"rgba(128, 0, 128, 1.0)\", \"dash\": \"solid\", \"shape\": \"linear\", \"width\": 1.3}, \"mode\": \"lines\", \"name\": \"D\", \"text\": \"\", \"type\": \"scatter\", \"x\": [0, 1, 2, 3, 4, 5, 6, 7, 8, 9, 10, 11, 12, 13, 14, 15, 16, 17, 18, 19, 20, 21, 22, 23, 24, 25, 26, 27, 28, 29, 30, 31, 32, 33, 34, 35, 36, 37, 38, 39, 40, 41, 42, 43, 44, 45, 46, 47, 48, 49, 50, 51, 52, 53, 54, 55, 56, 57, 58, 59, 60, 61, 62, 63, 64, 65, 66, 67, 68, 69, 70, 71, 72, 73, 74, 75, 76, 77, 78, 79, 80, 81, 82, 83, 84, 85, 86, 87, 88, 89, 90, 91, 92, 93, 94, 95, 96, 97, 98, 99], \"y\": [1.5944141224570951, -1.4422217718810517, -0.6775056248359165, 0.5425327711778104, -1.150421084363576, 0.5135457245087396, -1.321111295035442, -1.1114269353719264, -0.5482860723138663, -0.3826233020610873, 1.8945668683576136, -0.7515833234081605, 1.283833326285015, -0.8275993454656554, 0.12838341498868214, 0.8403329131702698, 0.17060824519329876, -0.30011765035326887, 0.4854545829024947, -1.8911154724785426, 1.1917266999118605, 2.10723855258812, 0.3049749458737713, 0.8629112602491235, 1.3330630415456524, 0.20595123957798286, 1.134227029379625, -0.6242571940611776, 0.8833618491795998, 0.21596464385150554, 0.23418253153394541, 0.07659354311937588, -0.6967684344050352, 0.3333750596807909, -0.4808972157811444, -0.4159007897049626, -1.4005464146445767, 1.2344271956283603, -0.3076470278751892, -0.8955674379768139, 0.30926774929739015, 0.6297600251903708, 1.7990748884496843, -0.5778543973249138, -0.335489100776331, 1.0191314191159482, -0.24034705593365235, -0.6240939115662526, -0.1785435178941472, -0.0032633320920254657, -1.505027767445995, 0.07444195095500496, -1.1804303602380004, -1.6787581401627665, 1.548182150258975, -1.142038892624844, -1.1590141809540022, 2.205301029707225, -1.7082026370724346, -0.4522905464781231, -1.560559469274855, -1.272695536524901, 1.7508925284907684, 0.265320949621517, -0.19252060791086, -0.0032326746137167433, -0.6622006488014425, -1.459023071543362, 0.40990808542328505, 0.17859359274457023, -0.46530176905928394, 1.3943541030179492, 0.5864037378850627, 0.6072339357545016, 0.14416285070077703, 0.9317279671975461, 0.5854298942901607, -1.4156750489248187, -0.5402684261429752, 1.2560099479342928, -0.6501632557247102, -1.5112492067267687, -0.05218975454021778, 0.41239328991222945, 0.5445250929155341, 0.37996094849536, -1.9119546395647826, 0.709352415504824, -0.09305523635944245, 0.3206055887521061, 0.2200818497447563, 0.3946196674990109, 0.5530028946009807, 1.4197216025804544, -0.5057009939104495, 0.9786812076343843, 0.7802124003868645, 0.21398415474113802, -0.7621475066145035, 0.3572791397580236]}],\n",
       "                        {\"legend\": {\"bgcolor\": \"#F5F6F9\", \"font\": {\"color\": \"#4D5663\"}}, \"paper_bgcolor\": \"#F5F6F9\", \"plot_bgcolor\": \"#F5F6F9\", \"template\": {\"data\": {\"bar\": [{\"error_x\": {\"color\": \"#2a3f5f\"}, \"error_y\": {\"color\": \"#2a3f5f\"}, \"marker\": {\"line\": {\"color\": \"#E5ECF6\", \"width\": 0.5}}, \"type\": \"bar\"}], \"barpolar\": [{\"marker\": {\"line\": {\"color\": \"#E5ECF6\", \"width\": 0.5}}, \"type\": \"barpolar\"}], \"carpet\": [{\"aaxis\": {\"endlinecolor\": \"#2a3f5f\", \"gridcolor\": \"white\", \"linecolor\": \"white\", \"minorgridcolor\": \"white\", \"startlinecolor\": \"#2a3f5f\"}, \"baxis\": {\"endlinecolor\": \"#2a3f5f\", \"gridcolor\": \"white\", \"linecolor\": \"white\", \"minorgridcolor\": \"white\", \"startlinecolor\": \"#2a3f5f\"}, \"type\": \"carpet\"}], \"choropleth\": [{\"colorbar\": {\"outlinewidth\": 0, \"ticks\": \"\"}, \"type\": \"choropleth\"}], \"contour\": [{\"colorbar\": {\"outlinewidth\": 0, \"ticks\": \"\"}, \"colorscale\": [[0.0, \"#0d0887\"], [0.1111111111111111, \"#46039f\"], [0.2222222222222222, \"#7201a8\"], [0.3333333333333333, \"#9c179e\"], [0.4444444444444444, \"#bd3786\"], [0.5555555555555556, \"#d8576b\"], [0.6666666666666666, \"#ed7953\"], [0.7777777777777778, \"#fb9f3a\"], [0.8888888888888888, \"#fdca26\"], [1.0, \"#f0f921\"]], \"type\": \"contour\"}], \"contourcarpet\": [{\"colorbar\": {\"outlinewidth\": 0, \"ticks\": \"\"}, \"type\": \"contourcarpet\"}], \"heatmap\": [{\"colorbar\": {\"outlinewidth\": 0, \"ticks\": \"\"}, \"colorscale\": [[0.0, \"#0d0887\"], [0.1111111111111111, \"#46039f\"], [0.2222222222222222, \"#7201a8\"], [0.3333333333333333, \"#9c179e\"], [0.4444444444444444, \"#bd3786\"], [0.5555555555555556, \"#d8576b\"], [0.6666666666666666, \"#ed7953\"], [0.7777777777777778, \"#fb9f3a\"], [0.8888888888888888, \"#fdca26\"], [1.0, \"#f0f921\"]], \"type\": \"heatmap\"}], \"heatmapgl\": [{\"colorbar\": {\"outlinewidth\": 0, \"ticks\": \"\"}, \"colorscale\": [[0.0, \"#0d0887\"], [0.1111111111111111, \"#46039f\"], [0.2222222222222222, \"#7201a8\"], [0.3333333333333333, \"#9c179e\"], [0.4444444444444444, \"#bd3786\"], [0.5555555555555556, \"#d8576b\"], [0.6666666666666666, \"#ed7953\"], [0.7777777777777778, \"#fb9f3a\"], [0.8888888888888888, \"#fdca26\"], [1.0, \"#f0f921\"]], \"type\": \"heatmapgl\"}], \"histogram\": [{\"marker\": {\"colorbar\": {\"outlinewidth\": 0, \"ticks\": \"\"}}, \"type\": \"histogram\"}], \"histogram2d\": [{\"colorbar\": {\"outlinewidth\": 0, \"ticks\": \"\"}, \"colorscale\": [[0.0, \"#0d0887\"], [0.1111111111111111, \"#46039f\"], [0.2222222222222222, \"#7201a8\"], [0.3333333333333333, \"#9c179e\"], [0.4444444444444444, \"#bd3786\"], [0.5555555555555556, \"#d8576b\"], [0.6666666666666666, \"#ed7953\"], [0.7777777777777778, \"#fb9f3a\"], [0.8888888888888888, \"#fdca26\"], [1.0, \"#f0f921\"]], \"type\": \"histogram2d\"}], \"histogram2dcontour\": [{\"colorbar\": {\"outlinewidth\": 0, \"ticks\": \"\"}, \"colorscale\": [[0.0, \"#0d0887\"], [0.1111111111111111, \"#46039f\"], [0.2222222222222222, \"#7201a8\"], [0.3333333333333333, \"#9c179e\"], [0.4444444444444444, \"#bd3786\"], [0.5555555555555556, \"#d8576b\"], [0.6666666666666666, \"#ed7953\"], [0.7777777777777778, \"#fb9f3a\"], [0.8888888888888888, \"#fdca26\"], [1.0, \"#f0f921\"]], \"type\": \"histogram2dcontour\"}], \"mesh3d\": [{\"colorbar\": {\"outlinewidth\": 0, \"ticks\": \"\"}, \"type\": \"mesh3d\"}], \"parcoords\": [{\"line\": {\"colorbar\": {\"outlinewidth\": 0, \"ticks\": \"\"}}, \"type\": \"parcoords\"}], \"pie\": [{\"automargin\": true, \"type\": \"pie\"}], \"scatter\": [{\"marker\": {\"colorbar\": {\"outlinewidth\": 0, \"ticks\": \"\"}}, \"type\": \"scatter\"}], \"scatter3d\": [{\"line\": {\"colorbar\": {\"outlinewidth\": 0, \"ticks\": \"\"}}, \"marker\": {\"colorbar\": {\"outlinewidth\": 0, \"ticks\": \"\"}}, \"type\": \"scatter3d\"}], \"scattercarpet\": [{\"marker\": {\"colorbar\": {\"outlinewidth\": 0, \"ticks\": \"\"}}, \"type\": \"scattercarpet\"}], \"scattergeo\": [{\"marker\": {\"colorbar\": {\"outlinewidth\": 0, \"ticks\": \"\"}}, \"type\": \"scattergeo\"}], \"scattergl\": [{\"marker\": {\"colorbar\": {\"outlinewidth\": 0, \"ticks\": \"\"}}, \"type\": \"scattergl\"}], \"scattermapbox\": [{\"marker\": {\"colorbar\": {\"outlinewidth\": 0, \"ticks\": \"\"}}, \"type\": \"scattermapbox\"}], \"scatterpolar\": [{\"marker\": {\"colorbar\": {\"outlinewidth\": 0, \"ticks\": \"\"}}, \"type\": \"scatterpolar\"}], \"scatterpolargl\": [{\"marker\": {\"colorbar\": {\"outlinewidth\": 0, \"ticks\": \"\"}}, \"type\": \"scatterpolargl\"}], \"scatterternary\": [{\"marker\": {\"colorbar\": {\"outlinewidth\": 0, \"ticks\": \"\"}}, \"type\": \"scatterternary\"}], \"surface\": [{\"colorbar\": {\"outlinewidth\": 0, \"ticks\": \"\"}, \"colorscale\": [[0.0, \"#0d0887\"], [0.1111111111111111, \"#46039f\"], [0.2222222222222222, \"#7201a8\"], [0.3333333333333333, \"#9c179e\"], [0.4444444444444444, \"#bd3786\"], [0.5555555555555556, \"#d8576b\"], [0.6666666666666666, \"#ed7953\"], [0.7777777777777778, \"#fb9f3a\"], [0.8888888888888888, \"#fdca26\"], [1.0, \"#f0f921\"]], \"type\": \"surface\"}], \"table\": [{\"cells\": {\"fill\": {\"color\": \"#EBF0F8\"}, \"line\": {\"color\": \"white\"}}, \"header\": {\"fill\": {\"color\": \"#C8D4E3\"}, \"line\": {\"color\": \"white\"}}, \"type\": \"table\"}]}, \"layout\": {\"annotationdefaults\": {\"arrowcolor\": \"#2a3f5f\", \"arrowhead\": 0, \"arrowwidth\": 1}, \"coloraxis\": {\"colorbar\": {\"outlinewidth\": 0, \"ticks\": \"\"}}, \"colorscale\": {\"diverging\": [[0, \"#8e0152\"], [0.1, \"#c51b7d\"], [0.2, \"#de77ae\"], [0.3, \"#f1b6da\"], [0.4, \"#fde0ef\"], [0.5, \"#f7f7f7\"], [0.6, \"#e6f5d0\"], [0.7, \"#b8e186\"], [0.8, \"#7fbc41\"], [0.9, \"#4d9221\"], [1, \"#276419\"]], \"sequential\": [[0.0, \"#0d0887\"], [0.1111111111111111, \"#46039f\"], [0.2222222222222222, \"#7201a8\"], [0.3333333333333333, \"#9c179e\"], [0.4444444444444444, \"#bd3786\"], [0.5555555555555556, \"#d8576b\"], [0.6666666666666666, \"#ed7953\"], [0.7777777777777778, \"#fb9f3a\"], [0.8888888888888888, \"#fdca26\"], [1.0, \"#f0f921\"]], \"sequentialminus\": [[0.0, \"#0d0887\"], [0.1111111111111111, \"#46039f\"], [0.2222222222222222, \"#7201a8\"], [0.3333333333333333, \"#9c179e\"], [0.4444444444444444, \"#bd3786\"], [0.5555555555555556, \"#d8576b\"], [0.6666666666666666, \"#ed7953\"], [0.7777777777777778, \"#fb9f3a\"], [0.8888888888888888, \"#fdca26\"], [1.0, \"#f0f921\"]]}, \"colorway\": [\"#636efa\", \"#EF553B\", \"#00cc96\", \"#ab63fa\", \"#FFA15A\", \"#19d3f3\", \"#FF6692\", \"#B6E880\", \"#FF97FF\", \"#FECB52\"], \"font\": {\"color\": \"#2a3f5f\"}, \"geo\": {\"bgcolor\": \"white\", \"lakecolor\": \"white\", \"landcolor\": \"#E5ECF6\", \"showlakes\": true, \"showland\": true, \"subunitcolor\": \"white\"}, \"hoverlabel\": {\"align\": \"left\"}, \"hovermode\": \"closest\", \"mapbox\": {\"style\": \"light\"}, \"paper_bgcolor\": \"white\", \"plot_bgcolor\": \"#E5ECF6\", \"polar\": {\"angularaxis\": {\"gridcolor\": \"white\", \"linecolor\": \"white\", \"ticks\": \"\"}, \"bgcolor\": \"#E5ECF6\", \"radialaxis\": {\"gridcolor\": \"white\", \"linecolor\": \"white\", \"ticks\": \"\"}}, \"scene\": {\"xaxis\": {\"backgroundcolor\": \"#E5ECF6\", \"gridcolor\": \"white\", \"gridwidth\": 2, \"linecolor\": \"white\", \"showbackground\": true, \"ticks\": \"\", \"zerolinecolor\": \"white\"}, \"yaxis\": {\"backgroundcolor\": \"#E5ECF6\", \"gridcolor\": \"white\", \"gridwidth\": 2, \"linecolor\": \"white\", \"showbackground\": true, \"ticks\": \"\", \"zerolinecolor\": \"white\"}, \"zaxis\": {\"backgroundcolor\": \"#E5ECF6\", \"gridcolor\": \"white\", \"gridwidth\": 2, \"linecolor\": \"white\", \"showbackground\": true, \"ticks\": \"\", \"zerolinecolor\": \"white\"}}, \"shapedefaults\": {\"line\": {\"color\": \"#2a3f5f\"}}, \"ternary\": {\"aaxis\": {\"gridcolor\": \"white\", \"linecolor\": \"white\", \"ticks\": \"\"}, \"baxis\": {\"gridcolor\": \"white\", \"linecolor\": \"white\", \"ticks\": \"\"}, \"bgcolor\": \"#E5ECF6\", \"caxis\": {\"gridcolor\": \"white\", \"linecolor\": \"white\", \"ticks\": \"\"}}, \"title\": {\"x\": 0.05}, \"xaxis\": {\"automargin\": true, \"gridcolor\": \"white\", \"linecolor\": \"white\", \"ticks\": \"\", \"title\": {\"standoff\": 15}, \"zerolinecolor\": \"white\", \"zerolinewidth\": 2}, \"yaxis\": {\"automargin\": true, \"gridcolor\": \"white\", \"linecolor\": \"white\", \"ticks\": \"\", \"title\": {\"standoff\": 15}, \"zerolinecolor\": \"white\", \"zerolinewidth\": 2}}}, \"title\": {\"font\": {\"color\": \"#4D5663\"}}, \"xaxis\": {\"gridcolor\": \"#E1E5ED\", \"showgrid\": true, \"tickfont\": {\"color\": \"#4D5663\"}, \"title\": {\"font\": {\"color\": \"#4D5663\"}, \"text\": \"\"}, \"zerolinecolor\": \"#E1E5ED\"}, \"yaxis\": {\"gridcolor\": \"#E1E5ED\", \"showgrid\": true, \"tickfont\": {\"color\": \"#4D5663\"}, \"title\": {\"font\": {\"color\": \"#4D5663\"}, \"text\": \"\"}, \"zerolinecolor\": \"#E1E5ED\"}},\n",
       "                        {\"showLink\": true, \"linkText\": \"Export to plot.ly\", \"plotlyServerURL\": \"https://plot.ly\", \"responsive\": true}\n",
       "                    ).then(function(){\n",
       "                            \n",
       "var gd = document.getElementById('90ad3c3b-a1cb-4f6c-b3ad-cc96d31ccf92');\n",
       "var x = new MutationObserver(function (mutations, observer) {{\n",
       "        var display = window.getComputedStyle(gd).display;\n",
       "        if (!display || display === 'none') {{\n",
       "            console.log([gd, 'removed!']);\n",
       "            Plotly.purge(gd);\n",
       "            observer.disconnect();\n",
       "        }}\n",
       "}});\n",
       "\n",
       "// Listen for the removal of the full notebook cells\n",
       "var notebookContainer = gd.closest('#notebook-container');\n",
       "if (notebookContainer) {{\n",
       "    x.observe(notebookContainer, {childList: true});\n",
       "}}\n",
       "\n",
       "// Listen for the clearing of the current output cell\n",
       "var outputEl = gd.closest('.output');\n",
       "if (outputEl) {{\n",
       "    x.observe(outputEl, {childList: true});\n",
       "}}\n",
       "\n",
       "                        })\n",
       "                };\n",
       "                });\n",
       "            </script>\n",
       "        </div>"
      ]
     },
     "metadata": {},
     "output_type": "display_data"
    }
   ],
   "source": [
    "df.iplot()"
   ]
  },
  {
   "cell_type": "code",
   "execution_count": 18,
   "metadata": {},
   "outputs": [
    {
     "data": {
      "application/vnd.plotly.v1+json": {
       "config": {
        "linkText": "Export to plot.ly",
        "plotlyServerURL": "https://plot.ly",
        "showLink": true
       },
       "data": [
        {
         "line": {
          "color": "rgba(255, 153, 51, 1.0)",
          "dash": "solid",
          "shape": "linear",
          "width": 1.3
         },
         "marker": {
          "size": 12,
          "symbol": "circle"
         },
         "mode": "markers",
         "name": "B",
         "text": "",
         "type": "scatter",
         "x": [
          1.5023563012055845,
          0.4087626388893659,
          1.5993197844213576,
          -0.5215118809744652,
          1.5681236600191981,
          0.7468356261210932,
          -0.749310641952968,
          0.1159935148313741,
          0.22045916587711767,
          -0.4550011729283677,
          0.8563933097341867,
          -2.066795909564812,
          -0.38285290167817404,
          0.01900787684381683,
          -0.12630271810268817,
          0.5680388021904351,
          1.14854911597069,
          0.6436069259066923,
          0.13859935383240438,
          -0.4956911855443848,
          0.4836194286327407,
          -1.2764417035087179,
          -0.5398190900873907,
          0.5796992019373896,
          -0.6037038043213754,
          0.7253532286953808,
          0.6834182495980821,
          -2.8845872018457897,
          1.0233482449319187,
          -2.552401535794378,
          2.3124239629877583,
          -0.8127401942686726,
          -0.23445084013367548,
          -0.6759192578683721,
          -2.5062077810487255,
          -1.2244355783037433,
          0.6694110332929116,
          -0.0034276115223639343,
          0.03204469823716342,
          -0.648084262291826,
          2.5628246207053778,
          0.9000009050597508,
          0.7517099499732545,
          1.2007637923291639,
          -1.9465668851371996,
          -2.413766407744819,
          -0.05082089573082934,
          1.207415735066595,
          -0.3835094510702304,
          0.5221421859827696,
          -0.5248958874051288,
          0.24619873930310585,
          0.5677610344566094,
          -0.4866092245561927,
          -0.7416586364234559,
          0.24855280589543127,
          1.2144044039988526,
          -0.14093054717060302,
          0.2963349236939744,
          -0.4291217100089392,
          1.1491732439347566,
          -0.5216591508755286,
          1.31822530500963,
          -0.47105727955537935,
          -0.40446633360902595,
          2.1459042895302747,
          0.6334555504966481,
          0.4176419554202106,
          -1.0273773683227392,
          1.1263431197506402,
          0.10469582241142089,
          -0.5906651009155758,
          -0.45518656697518617,
          1.3026059396663974,
          0.7571755070928892,
          0.10743952906925054,
          2.0706685836531564,
          0.5559870929964155,
          2.380054547983395,
          -0.39070598757151437,
          1.16309570735863,
          0.53168218102069,
          0.5568769817666138,
          0.39298936796065026,
          0.7338227726831591,
          0.5032917926801018,
          -0.5716134754818609,
          1.286383898901556,
          0.025648738117446,
          0.5157472248880189,
          -0.5104493617558568,
          -0.4733753767654713,
          0.36745876642344916,
          1.3072126283906071,
          0.35925235054705673,
          0.3793647207507,
          -0.21779341066885025,
          -0.5505938066317233,
          -0.5936228067274162,
          -0.18854451853239493
         ],
         "y": [
          -0.1412993310039659,
          0.11155348249657292,
          1.7453199674605695,
          -0.814399733552155,
          0.6214554653204177,
          -0.8935622081683393,
          0.7423908327196167,
          0.08876231792153962,
          0.40884368254280434,
          1.5231546429751541,
          -0.5038028339596781,
          1.277663239880953,
          1.9315664231705278,
          1.2882374316313956,
          -0.814476238152969,
          -2.0472988868964954,
          -1.1619809357848054,
          -0.6020708574357105,
          -0.4172171560670958,
          0.5656423397142257,
          -0.4422039548072374,
          1.6173040675324941,
          0.6934044898267794,
          -0.4948009086882394,
          -0.7040470246206365,
          -1.9134367284968632,
          0.7383244841914276,
          -1.1883843708189352,
          0.30363915459858953,
          0.2776451954473241,
          -0.7165225765471165,
          1.0077314628934022,
          -0.4603279365194043,
          0.38373042738479957,
          -0.518952600073326,
          -1.4636786992458364,
          0.7476083884716154,
          0.31237621371744645,
          1.1441291559955,
          -0.13738132300664588,
          0.2917094591812687,
          -0.5435138932574668,
          -0.09764547059440395,
          -0.8543035432170192,
          -1.694606999440116,
          0.6872321801985894,
          -0.3105771583046316,
          -0.14628769666578054,
          -1.2645444232569238,
          1.3221177881297856,
          -0.06864973864910799,
          0.5369862529725257,
          0.20434322894119525,
          0.9269791155272793,
          -0.10772717371906558,
          0.6636624429782333,
          -1.1341086710570782,
          0.7112881367396519,
          -0.24585306295182344,
          2.7491305879931875,
          -0.9081798223062961,
          -0.9157857216788398,
          -0.008619830977527013,
          0.4968473874841331,
          -0.5343255676597688,
          0.2855137060759064,
          0.6117559359156879,
          -2.446379280416086,
          0.33071812904434594,
          -1.071280221455606,
          0.685618779079314,
          1.4672553004235602,
          -0.3727388594504119,
          -0.09291567551181286,
          -0.34523412406140225,
          -0.05274550962737803,
          0.04654323576000232,
          0.2916776854652369,
          0.963598536755656,
          0.4654431727575727,
          0.19669889726716824,
          -0.7242027558405483,
          -0.7113448412421286,
          -0.21696242004052127,
          -0.6539765540211312,
          -1.9236864401903981,
          1.0149705541185587,
          1.0646071027030528,
          -0.9559870634609606,
          0.46215740722226095,
          -0.5700862496512421,
          0.5363637562177255,
          -1.0839231569328327,
          0.5562315410374225,
          -0.7832219667339138,
          0.4841939952459761,
          -2.3192789416549995,
          -1.4624996532320187,
          -0.31539742955163974,
          0.07762935312683132
         ]
        }
       ],
       "layout": {
        "legend": {
         "bgcolor": "#F5F6F9",
         "font": {
          "color": "#4D5663"
         }
        },
        "paper_bgcolor": "#F5F6F9",
        "plot_bgcolor": "#F5F6F9",
        "template": {
         "data": {
          "bar": [
           {
            "error_x": {
             "color": "#2a3f5f"
            },
            "error_y": {
             "color": "#2a3f5f"
            },
            "marker": {
             "line": {
              "color": "#E5ECF6",
              "width": 0.5
             }
            },
            "type": "bar"
           }
          ],
          "barpolar": [
           {
            "marker": {
             "line": {
              "color": "#E5ECF6",
              "width": 0.5
             }
            },
            "type": "barpolar"
           }
          ],
          "carpet": [
           {
            "aaxis": {
             "endlinecolor": "#2a3f5f",
             "gridcolor": "white",
             "linecolor": "white",
             "minorgridcolor": "white",
             "startlinecolor": "#2a3f5f"
            },
            "baxis": {
             "endlinecolor": "#2a3f5f",
             "gridcolor": "white",
             "linecolor": "white",
             "minorgridcolor": "white",
             "startlinecolor": "#2a3f5f"
            },
            "type": "carpet"
           }
          ],
          "choropleth": [
           {
            "colorbar": {
             "outlinewidth": 0,
             "ticks": ""
            },
            "type": "choropleth"
           }
          ],
          "contour": [
           {
            "colorbar": {
             "outlinewidth": 0,
             "ticks": ""
            },
            "colorscale": [
             [
              0,
              "#0d0887"
             ],
             [
              0.1111111111111111,
              "#46039f"
             ],
             [
              0.2222222222222222,
              "#7201a8"
             ],
             [
              0.3333333333333333,
              "#9c179e"
             ],
             [
              0.4444444444444444,
              "#bd3786"
             ],
             [
              0.5555555555555556,
              "#d8576b"
             ],
             [
              0.6666666666666666,
              "#ed7953"
             ],
             [
              0.7777777777777778,
              "#fb9f3a"
             ],
             [
              0.8888888888888888,
              "#fdca26"
             ],
             [
              1,
              "#f0f921"
             ]
            ],
            "type": "contour"
           }
          ],
          "contourcarpet": [
           {
            "colorbar": {
             "outlinewidth": 0,
             "ticks": ""
            },
            "type": "contourcarpet"
           }
          ],
          "heatmap": [
           {
            "colorbar": {
             "outlinewidth": 0,
             "ticks": ""
            },
            "colorscale": [
             [
              0,
              "#0d0887"
             ],
             [
              0.1111111111111111,
              "#46039f"
             ],
             [
              0.2222222222222222,
              "#7201a8"
             ],
             [
              0.3333333333333333,
              "#9c179e"
             ],
             [
              0.4444444444444444,
              "#bd3786"
             ],
             [
              0.5555555555555556,
              "#d8576b"
             ],
             [
              0.6666666666666666,
              "#ed7953"
             ],
             [
              0.7777777777777778,
              "#fb9f3a"
             ],
             [
              0.8888888888888888,
              "#fdca26"
             ],
             [
              1,
              "#f0f921"
             ]
            ],
            "type": "heatmap"
           }
          ],
          "heatmapgl": [
           {
            "colorbar": {
             "outlinewidth": 0,
             "ticks": ""
            },
            "colorscale": [
             [
              0,
              "#0d0887"
             ],
             [
              0.1111111111111111,
              "#46039f"
             ],
             [
              0.2222222222222222,
              "#7201a8"
             ],
             [
              0.3333333333333333,
              "#9c179e"
             ],
             [
              0.4444444444444444,
              "#bd3786"
             ],
             [
              0.5555555555555556,
              "#d8576b"
             ],
             [
              0.6666666666666666,
              "#ed7953"
             ],
             [
              0.7777777777777778,
              "#fb9f3a"
             ],
             [
              0.8888888888888888,
              "#fdca26"
             ],
             [
              1,
              "#f0f921"
             ]
            ],
            "type": "heatmapgl"
           }
          ],
          "histogram": [
           {
            "marker": {
             "colorbar": {
              "outlinewidth": 0,
              "ticks": ""
             }
            },
            "type": "histogram"
           }
          ],
          "histogram2d": [
           {
            "colorbar": {
             "outlinewidth": 0,
             "ticks": ""
            },
            "colorscale": [
             [
              0,
              "#0d0887"
             ],
             [
              0.1111111111111111,
              "#46039f"
             ],
             [
              0.2222222222222222,
              "#7201a8"
             ],
             [
              0.3333333333333333,
              "#9c179e"
             ],
             [
              0.4444444444444444,
              "#bd3786"
             ],
             [
              0.5555555555555556,
              "#d8576b"
             ],
             [
              0.6666666666666666,
              "#ed7953"
             ],
             [
              0.7777777777777778,
              "#fb9f3a"
             ],
             [
              0.8888888888888888,
              "#fdca26"
             ],
             [
              1,
              "#f0f921"
             ]
            ],
            "type": "histogram2d"
           }
          ],
          "histogram2dcontour": [
           {
            "colorbar": {
             "outlinewidth": 0,
             "ticks": ""
            },
            "colorscale": [
             [
              0,
              "#0d0887"
             ],
             [
              0.1111111111111111,
              "#46039f"
             ],
             [
              0.2222222222222222,
              "#7201a8"
             ],
             [
              0.3333333333333333,
              "#9c179e"
             ],
             [
              0.4444444444444444,
              "#bd3786"
             ],
             [
              0.5555555555555556,
              "#d8576b"
             ],
             [
              0.6666666666666666,
              "#ed7953"
             ],
             [
              0.7777777777777778,
              "#fb9f3a"
             ],
             [
              0.8888888888888888,
              "#fdca26"
             ],
             [
              1,
              "#f0f921"
             ]
            ],
            "type": "histogram2dcontour"
           }
          ],
          "mesh3d": [
           {
            "colorbar": {
             "outlinewidth": 0,
             "ticks": ""
            },
            "type": "mesh3d"
           }
          ],
          "parcoords": [
           {
            "line": {
             "colorbar": {
              "outlinewidth": 0,
              "ticks": ""
             }
            },
            "type": "parcoords"
           }
          ],
          "pie": [
           {
            "automargin": true,
            "type": "pie"
           }
          ],
          "scatter": [
           {
            "marker": {
             "colorbar": {
              "outlinewidth": 0,
              "ticks": ""
             }
            },
            "type": "scatter"
           }
          ],
          "scatter3d": [
           {
            "line": {
             "colorbar": {
              "outlinewidth": 0,
              "ticks": ""
             }
            },
            "marker": {
             "colorbar": {
              "outlinewidth": 0,
              "ticks": ""
             }
            },
            "type": "scatter3d"
           }
          ],
          "scattercarpet": [
           {
            "marker": {
             "colorbar": {
              "outlinewidth": 0,
              "ticks": ""
             }
            },
            "type": "scattercarpet"
           }
          ],
          "scattergeo": [
           {
            "marker": {
             "colorbar": {
              "outlinewidth": 0,
              "ticks": ""
             }
            },
            "type": "scattergeo"
           }
          ],
          "scattergl": [
           {
            "marker": {
             "colorbar": {
              "outlinewidth": 0,
              "ticks": ""
             }
            },
            "type": "scattergl"
           }
          ],
          "scattermapbox": [
           {
            "marker": {
             "colorbar": {
              "outlinewidth": 0,
              "ticks": ""
             }
            },
            "type": "scattermapbox"
           }
          ],
          "scatterpolar": [
           {
            "marker": {
             "colorbar": {
              "outlinewidth": 0,
              "ticks": ""
             }
            },
            "type": "scatterpolar"
           }
          ],
          "scatterpolargl": [
           {
            "marker": {
             "colorbar": {
              "outlinewidth": 0,
              "ticks": ""
             }
            },
            "type": "scatterpolargl"
           }
          ],
          "scatterternary": [
           {
            "marker": {
             "colorbar": {
              "outlinewidth": 0,
              "ticks": ""
             }
            },
            "type": "scatterternary"
           }
          ],
          "surface": [
           {
            "colorbar": {
             "outlinewidth": 0,
             "ticks": ""
            },
            "colorscale": [
             [
              0,
              "#0d0887"
             ],
             [
              0.1111111111111111,
              "#46039f"
             ],
             [
              0.2222222222222222,
              "#7201a8"
             ],
             [
              0.3333333333333333,
              "#9c179e"
             ],
             [
              0.4444444444444444,
              "#bd3786"
             ],
             [
              0.5555555555555556,
              "#d8576b"
             ],
             [
              0.6666666666666666,
              "#ed7953"
             ],
             [
              0.7777777777777778,
              "#fb9f3a"
             ],
             [
              0.8888888888888888,
              "#fdca26"
             ],
             [
              1,
              "#f0f921"
             ]
            ],
            "type": "surface"
           }
          ],
          "table": [
           {
            "cells": {
             "fill": {
              "color": "#EBF0F8"
             },
             "line": {
              "color": "white"
             }
            },
            "header": {
             "fill": {
              "color": "#C8D4E3"
             },
             "line": {
              "color": "white"
             }
            },
            "type": "table"
           }
          ]
         },
         "layout": {
          "annotationdefaults": {
           "arrowcolor": "#2a3f5f",
           "arrowhead": 0,
           "arrowwidth": 1
          },
          "coloraxis": {
           "colorbar": {
            "outlinewidth": 0,
            "ticks": ""
           }
          },
          "colorscale": {
           "diverging": [
            [
             0,
             "#8e0152"
            ],
            [
             0.1,
             "#c51b7d"
            ],
            [
             0.2,
             "#de77ae"
            ],
            [
             0.3,
             "#f1b6da"
            ],
            [
             0.4,
             "#fde0ef"
            ],
            [
             0.5,
             "#f7f7f7"
            ],
            [
             0.6,
             "#e6f5d0"
            ],
            [
             0.7,
             "#b8e186"
            ],
            [
             0.8,
             "#7fbc41"
            ],
            [
             0.9,
             "#4d9221"
            ],
            [
             1,
             "#276419"
            ]
           ],
           "sequential": [
            [
             0,
             "#0d0887"
            ],
            [
             0.1111111111111111,
             "#46039f"
            ],
            [
             0.2222222222222222,
             "#7201a8"
            ],
            [
             0.3333333333333333,
             "#9c179e"
            ],
            [
             0.4444444444444444,
             "#bd3786"
            ],
            [
             0.5555555555555556,
             "#d8576b"
            ],
            [
             0.6666666666666666,
             "#ed7953"
            ],
            [
             0.7777777777777778,
             "#fb9f3a"
            ],
            [
             0.8888888888888888,
             "#fdca26"
            ],
            [
             1,
             "#f0f921"
            ]
           ],
           "sequentialminus": [
            [
             0,
             "#0d0887"
            ],
            [
             0.1111111111111111,
             "#46039f"
            ],
            [
             0.2222222222222222,
             "#7201a8"
            ],
            [
             0.3333333333333333,
             "#9c179e"
            ],
            [
             0.4444444444444444,
             "#bd3786"
            ],
            [
             0.5555555555555556,
             "#d8576b"
            ],
            [
             0.6666666666666666,
             "#ed7953"
            ],
            [
             0.7777777777777778,
             "#fb9f3a"
            ],
            [
             0.8888888888888888,
             "#fdca26"
            ],
            [
             1,
             "#f0f921"
            ]
           ]
          },
          "colorway": [
           "#636efa",
           "#EF553B",
           "#00cc96",
           "#ab63fa",
           "#FFA15A",
           "#19d3f3",
           "#FF6692",
           "#B6E880",
           "#FF97FF",
           "#FECB52"
          ],
          "font": {
           "color": "#2a3f5f"
          },
          "geo": {
           "bgcolor": "white",
           "lakecolor": "white",
           "landcolor": "#E5ECF6",
           "showlakes": true,
           "showland": true,
           "subunitcolor": "white"
          },
          "hoverlabel": {
           "align": "left"
          },
          "hovermode": "closest",
          "mapbox": {
           "style": "light"
          },
          "paper_bgcolor": "white",
          "plot_bgcolor": "#E5ECF6",
          "polar": {
           "angularaxis": {
            "gridcolor": "white",
            "linecolor": "white",
            "ticks": ""
           },
           "bgcolor": "#E5ECF6",
           "radialaxis": {
            "gridcolor": "white",
            "linecolor": "white",
            "ticks": ""
           }
          },
          "scene": {
           "xaxis": {
            "backgroundcolor": "#E5ECF6",
            "gridcolor": "white",
            "gridwidth": 2,
            "linecolor": "white",
            "showbackground": true,
            "ticks": "",
            "zerolinecolor": "white"
           },
           "yaxis": {
            "backgroundcolor": "#E5ECF6",
            "gridcolor": "white",
            "gridwidth": 2,
            "linecolor": "white",
            "showbackground": true,
            "ticks": "",
            "zerolinecolor": "white"
           },
           "zaxis": {
            "backgroundcolor": "#E5ECF6",
            "gridcolor": "white",
            "gridwidth": 2,
            "linecolor": "white",
            "showbackground": true,
            "ticks": "",
            "zerolinecolor": "white"
           }
          },
          "shapedefaults": {
           "line": {
            "color": "#2a3f5f"
           }
          },
          "ternary": {
           "aaxis": {
            "gridcolor": "white",
            "linecolor": "white",
            "ticks": ""
           },
           "baxis": {
            "gridcolor": "white",
            "linecolor": "white",
            "ticks": ""
           },
           "bgcolor": "#E5ECF6",
           "caxis": {
            "gridcolor": "white",
            "linecolor": "white",
            "ticks": ""
           }
          },
          "title": {
           "x": 0.05
          },
          "xaxis": {
           "automargin": true,
           "gridcolor": "white",
           "linecolor": "white",
           "ticks": "",
           "title": {
            "standoff": 15
           },
           "zerolinecolor": "white",
           "zerolinewidth": 2
          },
          "yaxis": {
           "automargin": true,
           "gridcolor": "white",
           "linecolor": "white",
           "ticks": "",
           "title": {
            "standoff": 15
           },
           "zerolinecolor": "white",
           "zerolinewidth": 2
          }
         }
        },
        "title": {
         "font": {
          "color": "#4D5663"
         }
        },
        "xaxis": {
         "gridcolor": "#E1E5ED",
         "showgrid": true,
         "tickfont": {
          "color": "#4D5663"
         },
         "title": {
          "font": {
           "color": "#4D5663"
          },
          "text": ""
         },
         "zerolinecolor": "#E1E5ED"
        },
        "yaxis": {
         "gridcolor": "#E1E5ED",
         "showgrid": true,
         "tickfont": {
          "color": "#4D5663"
         },
         "title": {
          "font": {
           "color": "#4D5663"
          },
          "text": ""
         },
         "zerolinecolor": "#E1E5ED"
        }
       }
      },
      "text/html": [
       "<div>\n",
       "        \n",
       "        \n",
       "            <div id=\"a3f472fa-b3ae-462f-a19e-279593123160\" class=\"plotly-graph-div\" style=\"height:525px; width:100%;\"></div>\n",
       "            <script type=\"text/javascript\">\n",
       "                require([\"plotly\"], function(Plotly) {\n",
       "                    window.PLOTLYENV=window.PLOTLYENV || {};\n",
       "                    window.PLOTLYENV.BASE_URL='https://plot.ly';\n",
       "                    \n",
       "                if (document.getElementById(\"a3f472fa-b3ae-462f-a19e-279593123160\")) {\n",
       "                    Plotly.newPlot(\n",
       "                        'a3f472fa-b3ae-462f-a19e-279593123160',\n",
       "                        [{\"line\": {\"color\": \"rgba(255, 153, 51, 1.0)\", \"dash\": \"solid\", \"shape\": \"linear\", \"width\": 1.3}, \"marker\": {\"size\": 12, \"symbol\": \"circle\"}, \"mode\": \"markers\", \"name\": \"B\", \"text\": \"\", \"type\": \"scatter\", \"x\": [1.5023563012055845, 0.4087626388893659, 1.5993197844213576, -0.5215118809744652, 1.5681236600191981, 0.7468356261210932, -0.749310641952968, 0.1159935148313741, 0.22045916587711767, -0.4550011729283677, 0.8563933097341867, -2.066795909564812, -0.38285290167817404, 0.01900787684381683, -0.12630271810268817, 0.5680388021904351, 1.14854911597069, 0.6436069259066923, 0.13859935383240438, -0.4956911855443848, 0.4836194286327407, -1.2764417035087179, -0.5398190900873907, 0.5796992019373896, -0.6037038043213754, 0.7253532286953808, 0.6834182495980821, -2.8845872018457897, 1.0233482449319187, -2.552401535794378, 2.3124239629877583, -0.8127401942686726, -0.23445084013367548, -0.6759192578683721, -2.5062077810487255, -1.2244355783037433, 0.6694110332929116, -0.0034276115223639343, 0.03204469823716342, -0.648084262291826, 2.5628246207053778, 0.9000009050597508, 0.7517099499732545, 1.2007637923291639, -1.9465668851371996, -2.413766407744819, -0.05082089573082934, 1.207415735066595, -0.3835094510702304, 0.5221421859827696, -0.5248958874051288, 0.24619873930310585, 0.5677610344566094, -0.4866092245561927, -0.7416586364234559, 0.24855280589543127, 1.2144044039988526, -0.14093054717060302, 0.2963349236939744, -0.4291217100089392, 1.1491732439347566, -0.5216591508755286, 1.31822530500963, -0.47105727955537935, -0.40446633360902595, 2.1459042895302747, 0.6334555504966481, 0.4176419554202106, -1.0273773683227392, 1.1263431197506402, 0.10469582241142089, -0.5906651009155758, -0.45518656697518617, 1.3026059396663974, 0.7571755070928892, 0.10743952906925054, 2.0706685836531564, 0.5559870929964155, 2.380054547983395, -0.39070598757151437, 1.16309570735863, 0.53168218102069, 0.5568769817666138, 0.39298936796065026, 0.7338227726831591, 0.5032917926801018, -0.5716134754818609, 1.286383898901556, 0.025648738117446, 0.5157472248880189, -0.5104493617558568, -0.4733753767654713, 0.36745876642344916, 1.3072126283906071, 0.35925235054705673, 0.3793647207507, -0.21779341066885025, -0.5505938066317233, -0.5936228067274162, -0.18854451853239493], \"y\": [-0.1412993310039659, 0.11155348249657292, 1.7453199674605695, -0.814399733552155, 0.6214554653204177, -0.8935622081683393, 0.7423908327196167, 0.08876231792153962, 0.40884368254280434, 1.5231546429751541, -0.5038028339596781, 1.277663239880953, 1.9315664231705278, 1.2882374316313956, -0.814476238152969, -2.0472988868964954, -1.1619809357848054, -0.6020708574357105, -0.4172171560670958, 0.5656423397142257, -0.4422039548072374, 1.6173040675324941, 0.6934044898267794, -0.4948009086882394, -0.7040470246206365, -1.9134367284968632, 0.7383244841914276, -1.1883843708189352, 0.30363915459858953, 0.2776451954473241, -0.7165225765471165, 1.0077314628934022, -0.4603279365194043, 0.38373042738479957, -0.518952600073326, -1.4636786992458364, 0.7476083884716154, 0.31237621371744645, 1.1441291559955, -0.13738132300664588, 0.2917094591812687, -0.5435138932574668, -0.09764547059440395, -0.8543035432170192, -1.694606999440116, 0.6872321801985894, -0.3105771583046316, -0.14628769666578054, -1.2645444232569238, 1.3221177881297856, -0.06864973864910799, 0.5369862529725257, 0.20434322894119525, 0.9269791155272793, -0.10772717371906558, 0.6636624429782333, -1.1341086710570782, 0.7112881367396519, -0.24585306295182344, 2.7491305879931875, -0.9081798223062961, -0.9157857216788398, -0.008619830977527013, 0.4968473874841331, -0.5343255676597688, 0.2855137060759064, 0.6117559359156879, -2.446379280416086, 0.33071812904434594, -1.071280221455606, 0.685618779079314, 1.4672553004235602, -0.3727388594504119, -0.09291567551181286, -0.34523412406140225, -0.05274550962737803, 0.04654323576000232, 0.2916776854652369, 0.963598536755656, 0.4654431727575727, 0.19669889726716824, -0.7242027558405483, -0.7113448412421286, -0.21696242004052127, -0.6539765540211312, -1.9236864401903981, 1.0149705541185587, 1.0646071027030528, -0.9559870634609606, 0.46215740722226095, -0.5700862496512421, 0.5363637562177255, -1.0839231569328327, 0.5562315410374225, -0.7832219667339138, 0.4841939952459761, -2.3192789416549995, -1.4624996532320187, -0.31539742955163974, 0.07762935312683132]}],\n",
       "                        {\"legend\": {\"bgcolor\": \"#F5F6F9\", \"font\": {\"color\": \"#4D5663\"}}, \"paper_bgcolor\": \"#F5F6F9\", \"plot_bgcolor\": \"#F5F6F9\", \"template\": {\"data\": {\"bar\": [{\"error_x\": {\"color\": \"#2a3f5f\"}, \"error_y\": {\"color\": \"#2a3f5f\"}, \"marker\": {\"line\": {\"color\": \"#E5ECF6\", \"width\": 0.5}}, \"type\": \"bar\"}], \"barpolar\": [{\"marker\": {\"line\": {\"color\": \"#E5ECF6\", \"width\": 0.5}}, \"type\": \"barpolar\"}], \"carpet\": [{\"aaxis\": {\"endlinecolor\": \"#2a3f5f\", \"gridcolor\": \"white\", \"linecolor\": \"white\", \"minorgridcolor\": \"white\", \"startlinecolor\": \"#2a3f5f\"}, \"baxis\": {\"endlinecolor\": \"#2a3f5f\", \"gridcolor\": \"white\", \"linecolor\": \"white\", \"minorgridcolor\": \"white\", \"startlinecolor\": \"#2a3f5f\"}, \"type\": \"carpet\"}], \"choropleth\": [{\"colorbar\": {\"outlinewidth\": 0, \"ticks\": \"\"}, \"type\": \"choropleth\"}], \"contour\": [{\"colorbar\": {\"outlinewidth\": 0, \"ticks\": \"\"}, \"colorscale\": [[0.0, \"#0d0887\"], [0.1111111111111111, \"#46039f\"], [0.2222222222222222, \"#7201a8\"], [0.3333333333333333, \"#9c179e\"], [0.4444444444444444, \"#bd3786\"], [0.5555555555555556, \"#d8576b\"], [0.6666666666666666, \"#ed7953\"], [0.7777777777777778, \"#fb9f3a\"], [0.8888888888888888, \"#fdca26\"], [1.0, \"#f0f921\"]], \"type\": \"contour\"}], \"contourcarpet\": [{\"colorbar\": {\"outlinewidth\": 0, \"ticks\": \"\"}, \"type\": \"contourcarpet\"}], \"heatmap\": [{\"colorbar\": {\"outlinewidth\": 0, \"ticks\": \"\"}, \"colorscale\": [[0.0, \"#0d0887\"], [0.1111111111111111, \"#46039f\"], [0.2222222222222222, \"#7201a8\"], [0.3333333333333333, \"#9c179e\"], [0.4444444444444444, \"#bd3786\"], [0.5555555555555556, \"#d8576b\"], [0.6666666666666666, \"#ed7953\"], [0.7777777777777778, \"#fb9f3a\"], [0.8888888888888888, \"#fdca26\"], [1.0, \"#f0f921\"]], \"type\": \"heatmap\"}], \"heatmapgl\": [{\"colorbar\": {\"outlinewidth\": 0, \"ticks\": \"\"}, \"colorscale\": [[0.0, \"#0d0887\"], [0.1111111111111111, \"#46039f\"], [0.2222222222222222, \"#7201a8\"], [0.3333333333333333, \"#9c179e\"], [0.4444444444444444, \"#bd3786\"], [0.5555555555555556, \"#d8576b\"], [0.6666666666666666, \"#ed7953\"], [0.7777777777777778, \"#fb9f3a\"], [0.8888888888888888, \"#fdca26\"], [1.0, \"#f0f921\"]], \"type\": \"heatmapgl\"}], \"histogram\": [{\"marker\": {\"colorbar\": {\"outlinewidth\": 0, \"ticks\": \"\"}}, \"type\": \"histogram\"}], \"histogram2d\": [{\"colorbar\": {\"outlinewidth\": 0, \"ticks\": \"\"}, \"colorscale\": [[0.0, \"#0d0887\"], [0.1111111111111111, \"#46039f\"], [0.2222222222222222, \"#7201a8\"], [0.3333333333333333, \"#9c179e\"], [0.4444444444444444, \"#bd3786\"], [0.5555555555555556, \"#d8576b\"], [0.6666666666666666, \"#ed7953\"], [0.7777777777777778, \"#fb9f3a\"], [0.8888888888888888, \"#fdca26\"], [1.0, \"#f0f921\"]], \"type\": \"histogram2d\"}], \"histogram2dcontour\": [{\"colorbar\": {\"outlinewidth\": 0, \"ticks\": \"\"}, \"colorscale\": [[0.0, \"#0d0887\"], [0.1111111111111111, \"#46039f\"], [0.2222222222222222, \"#7201a8\"], [0.3333333333333333, \"#9c179e\"], [0.4444444444444444, \"#bd3786\"], [0.5555555555555556, \"#d8576b\"], [0.6666666666666666, \"#ed7953\"], [0.7777777777777778, \"#fb9f3a\"], [0.8888888888888888, \"#fdca26\"], [1.0, \"#f0f921\"]], \"type\": \"histogram2dcontour\"}], \"mesh3d\": [{\"colorbar\": {\"outlinewidth\": 0, \"ticks\": \"\"}, \"type\": \"mesh3d\"}], \"parcoords\": [{\"line\": {\"colorbar\": {\"outlinewidth\": 0, \"ticks\": \"\"}}, \"type\": \"parcoords\"}], \"pie\": [{\"automargin\": true, \"type\": \"pie\"}], \"scatter\": [{\"marker\": {\"colorbar\": {\"outlinewidth\": 0, \"ticks\": \"\"}}, \"type\": \"scatter\"}], \"scatter3d\": [{\"line\": {\"colorbar\": {\"outlinewidth\": 0, \"ticks\": \"\"}}, \"marker\": {\"colorbar\": {\"outlinewidth\": 0, \"ticks\": \"\"}}, \"type\": \"scatter3d\"}], \"scattercarpet\": [{\"marker\": {\"colorbar\": {\"outlinewidth\": 0, \"ticks\": \"\"}}, \"type\": \"scattercarpet\"}], \"scattergeo\": [{\"marker\": {\"colorbar\": {\"outlinewidth\": 0, \"ticks\": \"\"}}, \"type\": \"scattergeo\"}], \"scattergl\": [{\"marker\": {\"colorbar\": {\"outlinewidth\": 0, \"ticks\": \"\"}}, \"type\": \"scattergl\"}], \"scattermapbox\": [{\"marker\": {\"colorbar\": {\"outlinewidth\": 0, \"ticks\": \"\"}}, \"type\": \"scattermapbox\"}], \"scatterpolar\": [{\"marker\": {\"colorbar\": {\"outlinewidth\": 0, \"ticks\": \"\"}}, \"type\": \"scatterpolar\"}], \"scatterpolargl\": [{\"marker\": {\"colorbar\": {\"outlinewidth\": 0, \"ticks\": \"\"}}, \"type\": \"scatterpolargl\"}], \"scatterternary\": [{\"marker\": {\"colorbar\": {\"outlinewidth\": 0, \"ticks\": \"\"}}, \"type\": \"scatterternary\"}], \"surface\": [{\"colorbar\": {\"outlinewidth\": 0, \"ticks\": \"\"}, \"colorscale\": [[0.0, \"#0d0887\"], [0.1111111111111111, \"#46039f\"], [0.2222222222222222, \"#7201a8\"], [0.3333333333333333, \"#9c179e\"], [0.4444444444444444, \"#bd3786\"], [0.5555555555555556, \"#d8576b\"], [0.6666666666666666, \"#ed7953\"], [0.7777777777777778, \"#fb9f3a\"], [0.8888888888888888, \"#fdca26\"], [1.0, \"#f0f921\"]], \"type\": \"surface\"}], \"table\": [{\"cells\": {\"fill\": {\"color\": \"#EBF0F8\"}, \"line\": {\"color\": \"white\"}}, \"header\": {\"fill\": {\"color\": \"#C8D4E3\"}, \"line\": {\"color\": \"white\"}}, \"type\": \"table\"}]}, \"layout\": {\"annotationdefaults\": {\"arrowcolor\": \"#2a3f5f\", \"arrowhead\": 0, \"arrowwidth\": 1}, \"coloraxis\": {\"colorbar\": {\"outlinewidth\": 0, \"ticks\": \"\"}}, \"colorscale\": {\"diverging\": [[0, \"#8e0152\"], [0.1, \"#c51b7d\"], [0.2, \"#de77ae\"], [0.3, \"#f1b6da\"], [0.4, \"#fde0ef\"], [0.5, \"#f7f7f7\"], [0.6, \"#e6f5d0\"], [0.7, \"#b8e186\"], [0.8, \"#7fbc41\"], [0.9, \"#4d9221\"], [1, \"#276419\"]], \"sequential\": [[0.0, \"#0d0887\"], [0.1111111111111111, \"#46039f\"], [0.2222222222222222, \"#7201a8\"], [0.3333333333333333, \"#9c179e\"], [0.4444444444444444, \"#bd3786\"], [0.5555555555555556, \"#d8576b\"], [0.6666666666666666, \"#ed7953\"], [0.7777777777777778, \"#fb9f3a\"], [0.8888888888888888, \"#fdca26\"], [1.0, \"#f0f921\"]], \"sequentialminus\": [[0.0, \"#0d0887\"], [0.1111111111111111, \"#46039f\"], [0.2222222222222222, \"#7201a8\"], [0.3333333333333333, \"#9c179e\"], [0.4444444444444444, \"#bd3786\"], [0.5555555555555556, \"#d8576b\"], [0.6666666666666666, \"#ed7953\"], [0.7777777777777778, \"#fb9f3a\"], [0.8888888888888888, \"#fdca26\"], [1.0, \"#f0f921\"]]}, \"colorway\": [\"#636efa\", \"#EF553B\", \"#00cc96\", \"#ab63fa\", \"#FFA15A\", \"#19d3f3\", \"#FF6692\", \"#B6E880\", \"#FF97FF\", \"#FECB52\"], \"font\": {\"color\": \"#2a3f5f\"}, \"geo\": {\"bgcolor\": \"white\", \"lakecolor\": \"white\", \"landcolor\": \"#E5ECF6\", \"showlakes\": true, \"showland\": true, \"subunitcolor\": \"white\"}, \"hoverlabel\": {\"align\": \"left\"}, \"hovermode\": \"closest\", \"mapbox\": {\"style\": \"light\"}, \"paper_bgcolor\": \"white\", \"plot_bgcolor\": \"#E5ECF6\", \"polar\": {\"angularaxis\": {\"gridcolor\": \"white\", \"linecolor\": \"white\", \"ticks\": \"\"}, \"bgcolor\": \"#E5ECF6\", \"radialaxis\": {\"gridcolor\": \"white\", \"linecolor\": \"white\", \"ticks\": \"\"}}, \"scene\": {\"xaxis\": {\"backgroundcolor\": \"#E5ECF6\", \"gridcolor\": \"white\", \"gridwidth\": 2, \"linecolor\": \"white\", \"showbackground\": true, \"ticks\": \"\", \"zerolinecolor\": \"white\"}, \"yaxis\": {\"backgroundcolor\": \"#E5ECF6\", \"gridcolor\": \"white\", \"gridwidth\": 2, \"linecolor\": \"white\", \"showbackground\": true, \"ticks\": \"\", \"zerolinecolor\": \"white\"}, \"zaxis\": {\"backgroundcolor\": \"#E5ECF6\", \"gridcolor\": \"white\", \"gridwidth\": 2, \"linecolor\": \"white\", \"showbackground\": true, \"ticks\": \"\", \"zerolinecolor\": \"white\"}}, \"shapedefaults\": {\"line\": {\"color\": \"#2a3f5f\"}}, \"ternary\": {\"aaxis\": {\"gridcolor\": \"white\", \"linecolor\": \"white\", \"ticks\": \"\"}, \"baxis\": {\"gridcolor\": \"white\", \"linecolor\": \"white\", \"ticks\": \"\"}, \"bgcolor\": \"#E5ECF6\", \"caxis\": {\"gridcolor\": \"white\", \"linecolor\": \"white\", \"ticks\": \"\"}}, \"title\": {\"x\": 0.05}, \"xaxis\": {\"automargin\": true, \"gridcolor\": \"white\", \"linecolor\": \"white\", \"ticks\": \"\", \"title\": {\"standoff\": 15}, \"zerolinecolor\": \"white\", \"zerolinewidth\": 2}, \"yaxis\": {\"automargin\": true, \"gridcolor\": \"white\", \"linecolor\": \"white\", \"ticks\": \"\", \"title\": {\"standoff\": 15}, \"zerolinecolor\": \"white\", \"zerolinewidth\": 2}}}, \"title\": {\"font\": {\"color\": \"#4D5663\"}}, \"xaxis\": {\"gridcolor\": \"#E1E5ED\", \"showgrid\": true, \"tickfont\": {\"color\": \"#4D5663\"}, \"title\": {\"font\": {\"color\": \"#4D5663\"}, \"text\": \"\"}, \"zerolinecolor\": \"#E1E5ED\"}, \"yaxis\": {\"gridcolor\": \"#E1E5ED\", \"showgrid\": true, \"tickfont\": {\"color\": \"#4D5663\"}, \"title\": {\"font\": {\"color\": \"#4D5663\"}, \"text\": \"\"}, \"zerolinecolor\": \"#E1E5ED\"}},\n",
       "                        {\"showLink\": true, \"linkText\": \"Export to plot.ly\", \"plotlyServerURL\": \"https://plot.ly\", \"responsive\": true}\n",
       "                    ).then(function(){\n",
       "                            \n",
       "var gd = document.getElementById('a3f472fa-b3ae-462f-a19e-279593123160');\n",
       "var x = new MutationObserver(function (mutations, observer) {{\n",
       "        var display = window.getComputedStyle(gd).display;\n",
       "        if (!display || display === 'none') {{\n",
       "            console.log([gd, 'removed!']);\n",
       "            Plotly.purge(gd);\n",
       "            observer.disconnect();\n",
       "        }}\n",
       "}});\n",
       "\n",
       "// Listen for the removal of the full notebook cells\n",
       "var notebookContainer = gd.closest('#notebook-container');\n",
       "if (notebookContainer) {{\n",
       "    x.observe(notebookContainer, {childList: true});\n",
       "}}\n",
       "\n",
       "// Listen for the clearing of the current output cell\n",
       "var outputEl = gd.closest('.output');\n",
       "if (outputEl) {{\n",
       "    x.observe(outputEl, {childList: true});\n",
       "}}\n",
       "\n",
       "                        })\n",
       "                };\n",
       "                });\n",
       "            </script>\n",
       "        </div>"
      ]
     },
     "metadata": {},
     "output_type": "display_data"
    }
   ],
   "source": [
    "df.iplot(kind='scatter',x='A',y='B',mode='markers')"
   ]
  },
  {
   "cell_type": "code",
   "execution_count": 19,
   "metadata": {},
   "outputs": [
    {
     "data": {
      "application/vnd.plotly.v1+json": {
       "config": {
        "linkText": "Export to plot.ly",
        "plotlyServerURL": "https://plot.ly",
        "showLink": true
       },
       "data": [
        {
         "marker": {
          "color": "rgba(255, 153, 51, 0.6)",
          "line": {
           "color": "rgba(255, 153, 51, 1.0)",
           "width": 1
          }
         },
         "name": "A",
         "orientation": "v",
         "text": "",
         "type": "bar",
         "x": [
          0,
          1,
          2,
          3,
          4,
          5,
          6,
          7,
          8,
          9,
          10,
          11,
          12,
          13,
          14,
          15,
          16,
          17,
          18,
          19,
          20,
          21,
          22,
          23,
          24,
          25,
          26,
          27,
          28,
          29,
          30,
          31,
          32,
          33,
          34,
          35,
          36,
          37,
          38,
          39,
          40,
          41,
          42,
          43,
          44,
          45,
          46,
          47,
          48,
          49,
          50,
          51,
          52,
          53,
          54,
          55,
          56,
          57,
          58,
          59,
          60,
          61,
          62,
          63,
          64,
          65,
          66,
          67,
          68,
          69,
          70,
          71,
          72,
          73,
          74,
          75,
          76,
          77,
          78,
          79,
          80,
          81,
          82,
          83,
          84,
          85,
          86,
          87,
          88,
          89,
          90,
          91,
          92,
          93,
          94,
          95,
          96,
          97,
          98,
          99
         ],
         "y": [
          1.5023563012055845,
          0.4087626388893659,
          1.5993197844213576,
          -0.5215118809744652,
          1.5681236600191981,
          0.7468356261210932,
          -0.749310641952968,
          0.1159935148313741,
          0.22045916587711767,
          -0.4550011729283677,
          0.8563933097341867,
          -2.066795909564812,
          -0.38285290167817404,
          0.01900787684381683,
          -0.12630271810268817,
          0.5680388021904351,
          1.14854911597069,
          0.6436069259066923,
          0.13859935383240438,
          -0.4956911855443848,
          0.4836194286327407,
          -1.2764417035087179,
          -0.5398190900873907,
          0.5796992019373896,
          -0.6037038043213754,
          0.7253532286953808,
          0.6834182495980821,
          -2.8845872018457897,
          1.0233482449319187,
          -2.552401535794378,
          2.3124239629877583,
          -0.8127401942686726,
          -0.23445084013367548,
          -0.6759192578683721,
          -2.5062077810487255,
          -1.2244355783037433,
          0.6694110332929116,
          -0.0034276115223639343,
          0.03204469823716342,
          -0.648084262291826,
          2.5628246207053778,
          0.9000009050597508,
          0.7517099499732545,
          1.2007637923291639,
          -1.9465668851371996,
          -2.413766407744819,
          -0.05082089573082934,
          1.207415735066595,
          -0.3835094510702304,
          0.5221421859827696,
          -0.5248958874051288,
          0.24619873930310585,
          0.5677610344566094,
          -0.4866092245561927,
          -0.7416586364234559,
          0.24855280589543127,
          1.2144044039988526,
          -0.14093054717060302,
          0.2963349236939744,
          -0.4291217100089392,
          1.1491732439347566,
          -0.5216591508755286,
          1.31822530500963,
          -0.47105727955537935,
          -0.40446633360902595,
          2.1459042895302747,
          0.6334555504966481,
          0.4176419554202106,
          -1.0273773683227392,
          1.1263431197506402,
          0.10469582241142089,
          -0.5906651009155758,
          -0.45518656697518617,
          1.3026059396663974,
          0.7571755070928892,
          0.10743952906925054,
          2.0706685836531564,
          0.5559870929964155,
          2.380054547983395,
          -0.39070598757151437,
          1.16309570735863,
          0.53168218102069,
          0.5568769817666138,
          0.39298936796065026,
          0.7338227726831591,
          0.5032917926801018,
          -0.5716134754818609,
          1.286383898901556,
          0.025648738117446,
          0.5157472248880189,
          -0.5104493617558568,
          -0.4733753767654713,
          0.36745876642344916,
          1.3072126283906071,
          0.35925235054705673,
          0.3793647207507,
          -0.21779341066885025,
          -0.5505938066317233,
          -0.5936228067274162,
          -0.18854451853239493
         ]
        },
        {
         "marker": {
          "color": "rgba(55, 128, 191, 0.6)",
          "line": {
           "color": "rgba(55, 128, 191, 1.0)",
           "width": 1
          }
         },
         "name": "B",
         "orientation": "v",
         "text": "",
         "type": "bar",
         "x": [
          0,
          1,
          2,
          3,
          4,
          5,
          6,
          7,
          8,
          9,
          10,
          11,
          12,
          13,
          14,
          15,
          16,
          17,
          18,
          19,
          20,
          21,
          22,
          23,
          24,
          25,
          26,
          27,
          28,
          29,
          30,
          31,
          32,
          33,
          34,
          35,
          36,
          37,
          38,
          39,
          40,
          41,
          42,
          43,
          44,
          45,
          46,
          47,
          48,
          49,
          50,
          51,
          52,
          53,
          54,
          55,
          56,
          57,
          58,
          59,
          60,
          61,
          62,
          63,
          64,
          65,
          66,
          67,
          68,
          69,
          70,
          71,
          72,
          73,
          74,
          75,
          76,
          77,
          78,
          79,
          80,
          81,
          82,
          83,
          84,
          85,
          86,
          87,
          88,
          89,
          90,
          91,
          92,
          93,
          94,
          95,
          96,
          97,
          98,
          99
         ],
         "y": [
          -0.1412993310039659,
          0.11155348249657292,
          1.7453199674605695,
          -0.814399733552155,
          0.6214554653204177,
          -0.8935622081683393,
          0.7423908327196167,
          0.08876231792153962,
          0.40884368254280434,
          1.5231546429751541,
          -0.5038028339596781,
          1.277663239880953,
          1.9315664231705278,
          1.2882374316313956,
          -0.814476238152969,
          -2.0472988868964954,
          -1.1619809357848054,
          -0.6020708574357105,
          -0.4172171560670958,
          0.5656423397142257,
          -0.4422039548072374,
          1.6173040675324941,
          0.6934044898267794,
          -0.4948009086882394,
          -0.7040470246206365,
          -1.9134367284968632,
          0.7383244841914276,
          -1.1883843708189352,
          0.30363915459858953,
          0.2776451954473241,
          -0.7165225765471165,
          1.0077314628934022,
          -0.4603279365194043,
          0.38373042738479957,
          -0.518952600073326,
          -1.4636786992458364,
          0.7476083884716154,
          0.31237621371744645,
          1.1441291559955,
          -0.13738132300664588,
          0.2917094591812687,
          -0.5435138932574668,
          -0.09764547059440395,
          -0.8543035432170192,
          -1.694606999440116,
          0.6872321801985894,
          -0.3105771583046316,
          -0.14628769666578054,
          -1.2645444232569238,
          1.3221177881297856,
          -0.06864973864910799,
          0.5369862529725257,
          0.20434322894119525,
          0.9269791155272793,
          -0.10772717371906558,
          0.6636624429782333,
          -1.1341086710570782,
          0.7112881367396519,
          -0.24585306295182344,
          2.7491305879931875,
          -0.9081798223062961,
          -0.9157857216788398,
          -0.008619830977527013,
          0.4968473874841331,
          -0.5343255676597688,
          0.2855137060759064,
          0.6117559359156879,
          -2.446379280416086,
          0.33071812904434594,
          -1.071280221455606,
          0.685618779079314,
          1.4672553004235602,
          -0.3727388594504119,
          -0.09291567551181286,
          -0.34523412406140225,
          -0.05274550962737803,
          0.04654323576000232,
          0.2916776854652369,
          0.963598536755656,
          0.4654431727575727,
          0.19669889726716824,
          -0.7242027558405483,
          -0.7113448412421286,
          -0.21696242004052127,
          -0.6539765540211312,
          -1.9236864401903981,
          1.0149705541185587,
          1.0646071027030528,
          -0.9559870634609606,
          0.46215740722226095,
          -0.5700862496512421,
          0.5363637562177255,
          -1.0839231569328327,
          0.5562315410374225,
          -0.7832219667339138,
          0.4841939952459761,
          -2.3192789416549995,
          -1.4624996532320187,
          -0.31539742955163974,
          0.07762935312683132
         ]
        },
        {
         "marker": {
          "color": "rgba(50, 171, 96, 0.6)",
          "line": {
           "color": "rgba(50, 171, 96, 1.0)",
           "width": 1
          }
         },
         "name": "C",
         "orientation": "v",
         "text": "",
         "type": "bar",
         "x": [
          0,
          1,
          2,
          3,
          4,
          5,
          6,
          7,
          8,
          9,
          10,
          11,
          12,
          13,
          14,
          15,
          16,
          17,
          18,
          19,
          20,
          21,
          22,
          23,
          24,
          25,
          26,
          27,
          28,
          29,
          30,
          31,
          32,
          33,
          34,
          35,
          36,
          37,
          38,
          39,
          40,
          41,
          42,
          43,
          44,
          45,
          46,
          47,
          48,
          49,
          50,
          51,
          52,
          53,
          54,
          55,
          56,
          57,
          58,
          59,
          60,
          61,
          62,
          63,
          64,
          65,
          66,
          67,
          68,
          69,
          70,
          71,
          72,
          73,
          74,
          75,
          76,
          77,
          78,
          79,
          80,
          81,
          82,
          83,
          84,
          85,
          86,
          87,
          88,
          89,
          90,
          91,
          92,
          93,
          94,
          95,
          96,
          97,
          98,
          99
         ],
         "y": [
          0.4060127339438663,
          -0.7982496783697365,
          1.123601971839627,
          0.4058048602297246,
          0.2745561016720758,
          0.027475844105220772,
          -0.22383021302281453,
          -0.39387936056102335,
          0.46958773686681554,
          1.0318532728612242,
          -0.24670914055786855,
          -0.6158092236253605,
          0.3357316529625056,
          0.33549334879556586,
          -0.3420057984448994,
          -0.5729067470502307,
          0.944555988637591,
          1.6466709364637417,
          -0.6046253611903157,
          1.1164169657669007,
          -0.20836647515525453,
          -0.3251835589694398,
          -1.2223825639379888,
          0.9111127533544581,
          0.7714510155383001,
          -0.11910029332390273,
          0.6925253498084671,
          0.761678498587015,
          -0.21122116515593753,
          -1.8911317407454065,
          -0.6477421966041468,
          1.746998679272337,
          -1.7771617442088992,
          0.6549085009105307,
          1.4788993264746322,
          -0.5627472212555263,
          -0.9117802943654789,
          -0.044173489311235214,
          0.7799243277831824,
          -0.009326740102037481,
          -0.7202522194882793,
          -0.7240445885164354,
          0.49987218845528786,
          -0.19517962211662349,
          0.012250267699824213,
          -0.22559392376468862,
          -0.4808350357460893,
          -0.8198241736310934,
          0.19911254148027172,
          0.5290633506851798,
          0.2526330126879686,
          -0.9212198132849635,
          1.330206416841273,
          -1.3646681089815724,
          -0.8176747165637754,
          0.8453057646843333,
          -0.4028552804000192,
          -2.060148639010836,
          0.5812027839577867,
          0.11052420643035013,
          0.41282004544314155,
          -0.14089989297248323,
          1.45061283483238,
          0.18831388859592682,
          -1.1439882648437452,
          -1.1849927000093727,
          1.2413796077745642,
          -0.5577161325566812,
          -0.61933102563376,
          -1.037967425542334,
          -1.1119068495937685,
          -0.34404925965830496,
          -1.5708253521732911,
          -0.1744878934567653,
          -0.6375590559920541,
          -1.5414458738716459,
          0.919868277100258,
          1.0490659600613328,
          0.08470892651567892,
          -1.1117047344287596,
          0.07203519479416232,
          0.006055862150619064,
          1.2245168625491816,
          0.3591325369860431,
          -0.014752796925019226,
          0.9663004218908801,
          0.6340307723650775,
          1.1679323322976998,
          -0.8019974364914285,
          2.009899707838478,
          1.351686235098478,
          -0.16357633038026712,
          1.0467381976205765,
          -0.9884777911500046,
          -1.179242961599606,
          0.19637991258516102,
          0.02752192332194667,
          -0.4772929189208354,
          -1.2072566311627462,
          0.28531937373349664
         ]
        },
        {
         "marker": {
          "color": "rgba(128, 0, 128, 0.6)",
          "line": {
           "color": "rgba(128, 0, 128, 1.0)",
           "width": 1
          }
         },
         "name": "D",
         "orientation": "v",
         "text": "",
         "type": "bar",
         "x": [
          0,
          1,
          2,
          3,
          4,
          5,
          6,
          7,
          8,
          9,
          10,
          11,
          12,
          13,
          14,
          15,
          16,
          17,
          18,
          19,
          20,
          21,
          22,
          23,
          24,
          25,
          26,
          27,
          28,
          29,
          30,
          31,
          32,
          33,
          34,
          35,
          36,
          37,
          38,
          39,
          40,
          41,
          42,
          43,
          44,
          45,
          46,
          47,
          48,
          49,
          50,
          51,
          52,
          53,
          54,
          55,
          56,
          57,
          58,
          59,
          60,
          61,
          62,
          63,
          64,
          65,
          66,
          67,
          68,
          69,
          70,
          71,
          72,
          73,
          74,
          75,
          76,
          77,
          78,
          79,
          80,
          81,
          82,
          83,
          84,
          85,
          86,
          87,
          88,
          89,
          90,
          91,
          92,
          93,
          94,
          95,
          96,
          97,
          98,
          99
         ],
         "y": [
          -1.384133836883895,
          1.6279036565882115,
          -0.9299821435910816,
          0.35486494817093983,
          1.6290606005838537,
          0.8653327008822459,
          0.15013252944094518,
          0.28971818542358885,
          -0.6452317482474019,
          1.3151329392327118,
          -0.4601930499485809,
          0.01796751366341419,
          -0.2863077986587903,
          0.7221752593929269,
          1.1438494986725094,
          1.704750899635022,
          2.0255558584427145,
          0.4869696515487609,
          -0.7753590689761756,
          0.5894599802215743,
          -0.5099209544243769,
          0.971142453454226,
          1.4135296149222607,
          0.46368222120546493,
          -0.2099110424911986,
          0.8555892169194312,
          -0.8666033652100801,
          -0.2306133820653981,
          1.9089544676825587,
          0.48126067046847626,
          -0.6815478231682852,
          -0.7012394354255265,
          -0.4047358182565961,
          -1.0906657672931215,
          -0.5310813760482439,
          -1.1553728557319203,
          2.1544499479595145,
          0.21019983690878644,
          0.11648620825479883,
          -0.6736364979743092,
          0.43450673915401905,
          -0.98897228814661,
          -0.5665651061675469,
          1.6754808091110636,
          0.22626422636394813,
          0.07919047376157638,
          0.47646469707111916,
          0.314116725600217,
          1.0625187131973928,
          -0.2287637563650373,
          -0.08284518464672441,
          -0.8301973110501326,
          -0.4028005160347876,
          0.24672132353258178,
          0.15450240306366955,
          -0.8804013772595688,
          -0.7580135896092738,
          -1.7051536353409653,
          1.0626662974393108,
          0.2526824633221683,
          0.8340379444053333,
          0.14124629647157924,
          -0.49243382012914344,
          -0.9599076627068123,
          0.7149885906661986,
          0.4750175942064842,
          -0.5873964713638485,
          1.6930034548000927,
          -0.09315530497266254,
          0.710403964378997,
          -1.1932154200104725,
          -1.0562238516298499,
          -0.2690924803512119,
          0.49758681226637225,
          -1.0773982877105088,
          0.07911034291757471,
          -0.39902453071887745,
          1.0700856351960735,
          -1.057358139564738,
          0.37533863810957413,
          -2.84037344606979,
          -0.7091852096155062,
          -0.9566975881638045,
          0.35100423287660615,
          -1.4217070977134791,
          0.4182186974869994,
          0.15184097974894464,
          0.013448617348159643,
          0.3125613854661278,
          1.514216766439221,
          1.3523238006848513,
          -0.24663932645882697,
          1.0446188476433422,
          -0.8035903583066685,
          -0.8232789379519444,
          0.28646918218662437,
          -0.4371347569536695,
          -0.3411639230662988,
          -1.0645835371189294,
          0.7317930121637225
         ]
        }
       ],
       "layout": {
        "legend": {
         "bgcolor": "#F5F6F9",
         "font": {
          "color": "#4D5663"
         }
        },
        "paper_bgcolor": "#F5F6F9",
        "plot_bgcolor": "#F5F6F9",
        "template": {
         "data": {
          "bar": [
           {
            "error_x": {
             "color": "#2a3f5f"
            },
            "error_y": {
             "color": "#2a3f5f"
            },
            "marker": {
             "line": {
              "color": "#E5ECF6",
              "width": 0.5
             }
            },
            "type": "bar"
           }
          ],
          "barpolar": [
           {
            "marker": {
             "line": {
              "color": "#E5ECF6",
              "width": 0.5
             }
            },
            "type": "barpolar"
           }
          ],
          "carpet": [
           {
            "aaxis": {
             "endlinecolor": "#2a3f5f",
             "gridcolor": "white",
             "linecolor": "white",
             "minorgridcolor": "white",
             "startlinecolor": "#2a3f5f"
            },
            "baxis": {
             "endlinecolor": "#2a3f5f",
             "gridcolor": "white",
             "linecolor": "white",
             "minorgridcolor": "white",
             "startlinecolor": "#2a3f5f"
            },
            "type": "carpet"
           }
          ],
          "choropleth": [
           {
            "colorbar": {
             "outlinewidth": 0,
             "ticks": ""
            },
            "type": "choropleth"
           }
          ],
          "contour": [
           {
            "colorbar": {
             "outlinewidth": 0,
             "ticks": ""
            },
            "colorscale": [
             [
              0,
              "#0d0887"
             ],
             [
              0.1111111111111111,
              "#46039f"
             ],
             [
              0.2222222222222222,
              "#7201a8"
             ],
             [
              0.3333333333333333,
              "#9c179e"
             ],
             [
              0.4444444444444444,
              "#bd3786"
             ],
             [
              0.5555555555555556,
              "#d8576b"
             ],
             [
              0.6666666666666666,
              "#ed7953"
             ],
             [
              0.7777777777777778,
              "#fb9f3a"
             ],
             [
              0.8888888888888888,
              "#fdca26"
             ],
             [
              1,
              "#f0f921"
             ]
            ],
            "type": "contour"
           }
          ],
          "contourcarpet": [
           {
            "colorbar": {
             "outlinewidth": 0,
             "ticks": ""
            },
            "type": "contourcarpet"
           }
          ],
          "heatmap": [
           {
            "colorbar": {
             "outlinewidth": 0,
             "ticks": ""
            },
            "colorscale": [
             [
              0,
              "#0d0887"
             ],
             [
              0.1111111111111111,
              "#46039f"
             ],
             [
              0.2222222222222222,
              "#7201a8"
             ],
             [
              0.3333333333333333,
              "#9c179e"
             ],
             [
              0.4444444444444444,
              "#bd3786"
             ],
             [
              0.5555555555555556,
              "#d8576b"
             ],
             [
              0.6666666666666666,
              "#ed7953"
             ],
             [
              0.7777777777777778,
              "#fb9f3a"
             ],
             [
              0.8888888888888888,
              "#fdca26"
             ],
             [
              1,
              "#f0f921"
             ]
            ],
            "type": "heatmap"
           }
          ],
          "heatmapgl": [
           {
            "colorbar": {
             "outlinewidth": 0,
             "ticks": ""
            },
            "colorscale": [
             [
              0,
              "#0d0887"
             ],
             [
              0.1111111111111111,
              "#46039f"
             ],
             [
              0.2222222222222222,
              "#7201a8"
             ],
             [
              0.3333333333333333,
              "#9c179e"
             ],
             [
              0.4444444444444444,
              "#bd3786"
             ],
             [
              0.5555555555555556,
              "#d8576b"
             ],
             [
              0.6666666666666666,
              "#ed7953"
             ],
             [
              0.7777777777777778,
              "#fb9f3a"
             ],
             [
              0.8888888888888888,
              "#fdca26"
             ],
             [
              1,
              "#f0f921"
             ]
            ],
            "type": "heatmapgl"
           }
          ],
          "histogram": [
           {
            "marker": {
             "colorbar": {
              "outlinewidth": 0,
              "ticks": ""
             }
            },
            "type": "histogram"
           }
          ],
          "histogram2d": [
           {
            "colorbar": {
             "outlinewidth": 0,
             "ticks": ""
            },
            "colorscale": [
             [
              0,
              "#0d0887"
             ],
             [
              0.1111111111111111,
              "#46039f"
             ],
             [
              0.2222222222222222,
              "#7201a8"
             ],
             [
              0.3333333333333333,
              "#9c179e"
             ],
             [
              0.4444444444444444,
              "#bd3786"
             ],
             [
              0.5555555555555556,
              "#d8576b"
             ],
             [
              0.6666666666666666,
              "#ed7953"
             ],
             [
              0.7777777777777778,
              "#fb9f3a"
             ],
             [
              0.8888888888888888,
              "#fdca26"
             ],
             [
              1,
              "#f0f921"
             ]
            ],
            "type": "histogram2d"
           }
          ],
          "histogram2dcontour": [
           {
            "colorbar": {
             "outlinewidth": 0,
             "ticks": ""
            },
            "colorscale": [
             [
              0,
              "#0d0887"
             ],
             [
              0.1111111111111111,
              "#46039f"
             ],
             [
              0.2222222222222222,
              "#7201a8"
             ],
             [
              0.3333333333333333,
              "#9c179e"
             ],
             [
              0.4444444444444444,
              "#bd3786"
             ],
             [
              0.5555555555555556,
              "#d8576b"
             ],
             [
              0.6666666666666666,
              "#ed7953"
             ],
             [
              0.7777777777777778,
              "#fb9f3a"
             ],
             [
              0.8888888888888888,
              "#fdca26"
             ],
             [
              1,
              "#f0f921"
             ]
            ],
            "type": "histogram2dcontour"
           }
          ],
          "mesh3d": [
           {
            "colorbar": {
             "outlinewidth": 0,
             "ticks": ""
            },
            "type": "mesh3d"
           }
          ],
          "parcoords": [
           {
            "line": {
             "colorbar": {
              "outlinewidth": 0,
              "ticks": ""
             }
            },
            "type": "parcoords"
           }
          ],
          "pie": [
           {
            "automargin": true,
            "type": "pie"
           }
          ],
          "scatter": [
           {
            "marker": {
             "colorbar": {
              "outlinewidth": 0,
              "ticks": ""
             }
            },
            "type": "scatter"
           }
          ],
          "scatter3d": [
           {
            "line": {
             "colorbar": {
              "outlinewidth": 0,
              "ticks": ""
             }
            },
            "marker": {
             "colorbar": {
              "outlinewidth": 0,
              "ticks": ""
             }
            },
            "type": "scatter3d"
           }
          ],
          "scattercarpet": [
           {
            "marker": {
             "colorbar": {
              "outlinewidth": 0,
              "ticks": ""
             }
            },
            "type": "scattercarpet"
           }
          ],
          "scattergeo": [
           {
            "marker": {
             "colorbar": {
              "outlinewidth": 0,
              "ticks": ""
             }
            },
            "type": "scattergeo"
           }
          ],
          "scattergl": [
           {
            "marker": {
             "colorbar": {
              "outlinewidth": 0,
              "ticks": ""
             }
            },
            "type": "scattergl"
           }
          ],
          "scattermapbox": [
           {
            "marker": {
             "colorbar": {
              "outlinewidth": 0,
              "ticks": ""
             }
            },
            "type": "scattermapbox"
           }
          ],
          "scatterpolar": [
           {
            "marker": {
             "colorbar": {
              "outlinewidth": 0,
              "ticks": ""
             }
            },
            "type": "scatterpolar"
           }
          ],
          "scatterpolargl": [
           {
            "marker": {
             "colorbar": {
              "outlinewidth": 0,
              "ticks": ""
             }
            },
            "type": "scatterpolargl"
           }
          ],
          "scatterternary": [
           {
            "marker": {
             "colorbar": {
              "outlinewidth": 0,
              "ticks": ""
             }
            },
            "type": "scatterternary"
           }
          ],
          "surface": [
           {
            "colorbar": {
             "outlinewidth": 0,
             "ticks": ""
            },
            "colorscale": [
             [
              0,
              "#0d0887"
             ],
             [
              0.1111111111111111,
              "#46039f"
             ],
             [
              0.2222222222222222,
              "#7201a8"
             ],
             [
              0.3333333333333333,
              "#9c179e"
             ],
             [
              0.4444444444444444,
              "#bd3786"
             ],
             [
              0.5555555555555556,
              "#d8576b"
             ],
             [
              0.6666666666666666,
              "#ed7953"
             ],
             [
              0.7777777777777778,
              "#fb9f3a"
             ],
             [
              0.8888888888888888,
              "#fdca26"
             ],
             [
              1,
              "#f0f921"
             ]
            ],
            "type": "surface"
           }
          ],
          "table": [
           {
            "cells": {
             "fill": {
              "color": "#EBF0F8"
             },
             "line": {
              "color": "white"
             }
            },
            "header": {
             "fill": {
              "color": "#C8D4E3"
             },
             "line": {
              "color": "white"
             }
            },
            "type": "table"
           }
          ]
         },
         "layout": {
          "annotationdefaults": {
           "arrowcolor": "#2a3f5f",
           "arrowhead": 0,
           "arrowwidth": 1
          },
          "coloraxis": {
           "colorbar": {
            "outlinewidth": 0,
            "ticks": ""
           }
          },
          "colorscale": {
           "diverging": [
            [
             0,
             "#8e0152"
            ],
            [
             0.1,
             "#c51b7d"
            ],
            [
             0.2,
             "#de77ae"
            ],
            [
             0.3,
             "#f1b6da"
            ],
            [
             0.4,
             "#fde0ef"
            ],
            [
             0.5,
             "#f7f7f7"
            ],
            [
             0.6,
             "#e6f5d0"
            ],
            [
             0.7,
             "#b8e186"
            ],
            [
             0.8,
             "#7fbc41"
            ],
            [
             0.9,
             "#4d9221"
            ],
            [
             1,
             "#276419"
            ]
           ],
           "sequential": [
            [
             0,
             "#0d0887"
            ],
            [
             0.1111111111111111,
             "#46039f"
            ],
            [
             0.2222222222222222,
             "#7201a8"
            ],
            [
             0.3333333333333333,
             "#9c179e"
            ],
            [
             0.4444444444444444,
             "#bd3786"
            ],
            [
             0.5555555555555556,
             "#d8576b"
            ],
            [
             0.6666666666666666,
             "#ed7953"
            ],
            [
             0.7777777777777778,
             "#fb9f3a"
            ],
            [
             0.8888888888888888,
             "#fdca26"
            ],
            [
             1,
             "#f0f921"
            ]
           ],
           "sequentialminus": [
            [
             0,
             "#0d0887"
            ],
            [
             0.1111111111111111,
             "#46039f"
            ],
            [
             0.2222222222222222,
             "#7201a8"
            ],
            [
             0.3333333333333333,
             "#9c179e"
            ],
            [
             0.4444444444444444,
             "#bd3786"
            ],
            [
             0.5555555555555556,
             "#d8576b"
            ],
            [
             0.6666666666666666,
             "#ed7953"
            ],
            [
             0.7777777777777778,
             "#fb9f3a"
            ],
            [
             0.8888888888888888,
             "#fdca26"
            ],
            [
             1,
             "#f0f921"
            ]
           ]
          },
          "colorway": [
           "#636efa",
           "#EF553B",
           "#00cc96",
           "#ab63fa",
           "#FFA15A",
           "#19d3f3",
           "#FF6692",
           "#B6E880",
           "#FF97FF",
           "#FECB52"
          ],
          "font": {
           "color": "#2a3f5f"
          },
          "geo": {
           "bgcolor": "white",
           "lakecolor": "white",
           "landcolor": "#E5ECF6",
           "showlakes": true,
           "showland": true,
           "subunitcolor": "white"
          },
          "hoverlabel": {
           "align": "left"
          },
          "hovermode": "closest",
          "mapbox": {
           "style": "light"
          },
          "paper_bgcolor": "white",
          "plot_bgcolor": "#E5ECF6",
          "polar": {
           "angularaxis": {
            "gridcolor": "white",
            "linecolor": "white",
            "ticks": ""
           },
           "bgcolor": "#E5ECF6",
           "radialaxis": {
            "gridcolor": "white",
            "linecolor": "white",
            "ticks": ""
           }
          },
          "scene": {
           "xaxis": {
            "backgroundcolor": "#E5ECF6",
            "gridcolor": "white",
            "gridwidth": 2,
            "linecolor": "white",
            "showbackground": true,
            "ticks": "",
            "zerolinecolor": "white"
           },
           "yaxis": {
            "backgroundcolor": "#E5ECF6",
            "gridcolor": "white",
            "gridwidth": 2,
            "linecolor": "white",
            "showbackground": true,
            "ticks": "",
            "zerolinecolor": "white"
           },
           "zaxis": {
            "backgroundcolor": "#E5ECF6",
            "gridcolor": "white",
            "gridwidth": 2,
            "linecolor": "white",
            "showbackground": true,
            "ticks": "",
            "zerolinecolor": "white"
           }
          },
          "shapedefaults": {
           "line": {
            "color": "#2a3f5f"
           }
          },
          "ternary": {
           "aaxis": {
            "gridcolor": "white",
            "linecolor": "white",
            "ticks": ""
           },
           "baxis": {
            "gridcolor": "white",
            "linecolor": "white",
            "ticks": ""
           },
           "bgcolor": "#E5ECF6",
           "caxis": {
            "gridcolor": "white",
            "linecolor": "white",
            "ticks": ""
           }
          },
          "title": {
           "x": 0.05
          },
          "xaxis": {
           "automargin": true,
           "gridcolor": "white",
           "linecolor": "white",
           "ticks": "",
           "title": {
            "standoff": 15
           },
           "zerolinecolor": "white",
           "zerolinewidth": 2
          },
          "yaxis": {
           "automargin": true,
           "gridcolor": "white",
           "linecolor": "white",
           "ticks": "",
           "title": {
            "standoff": 15
           },
           "zerolinecolor": "white",
           "zerolinewidth": 2
          }
         }
        },
        "title": {
         "font": {
          "color": "#4D5663"
         }
        },
        "xaxis": {
         "gridcolor": "#E1E5ED",
         "showgrid": true,
         "tickfont": {
          "color": "#4D5663"
         },
         "title": {
          "font": {
           "color": "#4D5663"
          },
          "text": ""
         },
         "zerolinecolor": "#E1E5ED"
        },
        "yaxis": {
         "gridcolor": "#E1E5ED",
         "showgrid": true,
         "tickfont": {
          "color": "#4D5663"
         },
         "title": {
          "font": {
           "color": "#4D5663"
          },
          "text": ""
         },
         "zerolinecolor": "#E1E5ED"
        }
       }
      },
      "text/html": [
       "<div>\n",
       "        \n",
       "        \n",
       "            <div id=\"1128f6ca-45bd-486c-8e1b-e55c74b1733f\" class=\"plotly-graph-div\" style=\"height:525px; width:100%;\"></div>\n",
       "            <script type=\"text/javascript\">\n",
       "                require([\"plotly\"], function(Plotly) {\n",
       "                    window.PLOTLYENV=window.PLOTLYENV || {};\n",
       "                    window.PLOTLYENV.BASE_URL='https://plot.ly';\n",
       "                    \n",
       "                if (document.getElementById(\"1128f6ca-45bd-486c-8e1b-e55c74b1733f\")) {\n",
       "                    Plotly.newPlot(\n",
       "                        '1128f6ca-45bd-486c-8e1b-e55c74b1733f',\n",
       "                        [{\"marker\": {\"color\": \"rgba(255, 153, 51, 0.6)\", \"line\": {\"color\": \"rgba(255, 153, 51, 1.0)\", \"width\": 1}}, \"name\": \"A\", \"orientation\": \"v\", \"text\": \"\", \"type\": \"bar\", \"x\": [0, 1, 2, 3, 4, 5, 6, 7, 8, 9, 10, 11, 12, 13, 14, 15, 16, 17, 18, 19, 20, 21, 22, 23, 24, 25, 26, 27, 28, 29, 30, 31, 32, 33, 34, 35, 36, 37, 38, 39, 40, 41, 42, 43, 44, 45, 46, 47, 48, 49, 50, 51, 52, 53, 54, 55, 56, 57, 58, 59, 60, 61, 62, 63, 64, 65, 66, 67, 68, 69, 70, 71, 72, 73, 74, 75, 76, 77, 78, 79, 80, 81, 82, 83, 84, 85, 86, 87, 88, 89, 90, 91, 92, 93, 94, 95, 96, 97, 98, 99], \"y\": [1.5023563012055845, 0.4087626388893659, 1.5993197844213576, -0.5215118809744652, 1.5681236600191981, 0.7468356261210932, -0.749310641952968, 0.1159935148313741, 0.22045916587711767, -0.4550011729283677, 0.8563933097341867, -2.066795909564812, -0.38285290167817404, 0.01900787684381683, -0.12630271810268817, 0.5680388021904351, 1.14854911597069, 0.6436069259066923, 0.13859935383240438, -0.4956911855443848, 0.4836194286327407, -1.2764417035087179, -0.5398190900873907, 0.5796992019373896, -0.6037038043213754, 0.7253532286953808, 0.6834182495980821, -2.8845872018457897, 1.0233482449319187, -2.552401535794378, 2.3124239629877583, -0.8127401942686726, -0.23445084013367548, -0.6759192578683721, -2.5062077810487255, -1.2244355783037433, 0.6694110332929116, -0.0034276115223639343, 0.03204469823716342, -0.648084262291826, 2.5628246207053778, 0.9000009050597508, 0.7517099499732545, 1.2007637923291639, -1.9465668851371996, -2.413766407744819, -0.05082089573082934, 1.207415735066595, -0.3835094510702304, 0.5221421859827696, -0.5248958874051288, 0.24619873930310585, 0.5677610344566094, -0.4866092245561927, -0.7416586364234559, 0.24855280589543127, 1.2144044039988526, -0.14093054717060302, 0.2963349236939744, -0.4291217100089392, 1.1491732439347566, -0.5216591508755286, 1.31822530500963, -0.47105727955537935, -0.40446633360902595, 2.1459042895302747, 0.6334555504966481, 0.4176419554202106, -1.0273773683227392, 1.1263431197506402, 0.10469582241142089, -0.5906651009155758, -0.45518656697518617, 1.3026059396663974, 0.7571755070928892, 0.10743952906925054, 2.0706685836531564, 0.5559870929964155, 2.380054547983395, -0.39070598757151437, 1.16309570735863, 0.53168218102069, 0.5568769817666138, 0.39298936796065026, 0.7338227726831591, 0.5032917926801018, -0.5716134754818609, 1.286383898901556, 0.025648738117446, 0.5157472248880189, -0.5104493617558568, -0.4733753767654713, 0.36745876642344916, 1.3072126283906071, 0.35925235054705673, 0.3793647207507, -0.21779341066885025, -0.5505938066317233, -0.5936228067274162, -0.18854451853239493]}, {\"marker\": {\"color\": \"rgba(55, 128, 191, 0.6)\", \"line\": {\"color\": \"rgba(55, 128, 191, 1.0)\", \"width\": 1}}, \"name\": \"B\", \"orientation\": \"v\", \"text\": \"\", \"type\": \"bar\", \"x\": [0, 1, 2, 3, 4, 5, 6, 7, 8, 9, 10, 11, 12, 13, 14, 15, 16, 17, 18, 19, 20, 21, 22, 23, 24, 25, 26, 27, 28, 29, 30, 31, 32, 33, 34, 35, 36, 37, 38, 39, 40, 41, 42, 43, 44, 45, 46, 47, 48, 49, 50, 51, 52, 53, 54, 55, 56, 57, 58, 59, 60, 61, 62, 63, 64, 65, 66, 67, 68, 69, 70, 71, 72, 73, 74, 75, 76, 77, 78, 79, 80, 81, 82, 83, 84, 85, 86, 87, 88, 89, 90, 91, 92, 93, 94, 95, 96, 97, 98, 99], \"y\": [-0.1412993310039659, 0.11155348249657292, 1.7453199674605695, -0.814399733552155, 0.6214554653204177, -0.8935622081683393, 0.7423908327196167, 0.08876231792153962, 0.40884368254280434, 1.5231546429751541, -0.5038028339596781, 1.277663239880953, 1.9315664231705278, 1.2882374316313956, -0.814476238152969, -2.0472988868964954, -1.1619809357848054, -0.6020708574357105, -0.4172171560670958, 0.5656423397142257, -0.4422039548072374, 1.6173040675324941, 0.6934044898267794, -0.4948009086882394, -0.7040470246206365, -1.9134367284968632, 0.7383244841914276, -1.1883843708189352, 0.30363915459858953, 0.2776451954473241, -0.7165225765471165, 1.0077314628934022, -0.4603279365194043, 0.38373042738479957, -0.518952600073326, -1.4636786992458364, 0.7476083884716154, 0.31237621371744645, 1.1441291559955, -0.13738132300664588, 0.2917094591812687, -0.5435138932574668, -0.09764547059440395, -0.8543035432170192, -1.694606999440116, 0.6872321801985894, -0.3105771583046316, -0.14628769666578054, -1.2645444232569238, 1.3221177881297856, -0.06864973864910799, 0.5369862529725257, 0.20434322894119525, 0.9269791155272793, -0.10772717371906558, 0.6636624429782333, -1.1341086710570782, 0.7112881367396519, -0.24585306295182344, 2.7491305879931875, -0.9081798223062961, -0.9157857216788398, -0.008619830977527013, 0.4968473874841331, -0.5343255676597688, 0.2855137060759064, 0.6117559359156879, -2.446379280416086, 0.33071812904434594, -1.071280221455606, 0.685618779079314, 1.4672553004235602, -0.3727388594504119, -0.09291567551181286, -0.34523412406140225, -0.05274550962737803, 0.04654323576000232, 0.2916776854652369, 0.963598536755656, 0.4654431727575727, 0.19669889726716824, -0.7242027558405483, -0.7113448412421286, -0.21696242004052127, -0.6539765540211312, -1.9236864401903981, 1.0149705541185587, 1.0646071027030528, -0.9559870634609606, 0.46215740722226095, -0.5700862496512421, 0.5363637562177255, -1.0839231569328327, 0.5562315410374225, -0.7832219667339138, 0.4841939952459761, -2.3192789416549995, -1.4624996532320187, -0.31539742955163974, 0.07762935312683132]}, {\"marker\": {\"color\": \"rgba(50, 171, 96, 0.6)\", \"line\": {\"color\": \"rgba(50, 171, 96, 1.0)\", \"width\": 1}}, \"name\": \"C\", \"orientation\": \"v\", \"text\": \"\", \"type\": \"bar\", \"x\": [0, 1, 2, 3, 4, 5, 6, 7, 8, 9, 10, 11, 12, 13, 14, 15, 16, 17, 18, 19, 20, 21, 22, 23, 24, 25, 26, 27, 28, 29, 30, 31, 32, 33, 34, 35, 36, 37, 38, 39, 40, 41, 42, 43, 44, 45, 46, 47, 48, 49, 50, 51, 52, 53, 54, 55, 56, 57, 58, 59, 60, 61, 62, 63, 64, 65, 66, 67, 68, 69, 70, 71, 72, 73, 74, 75, 76, 77, 78, 79, 80, 81, 82, 83, 84, 85, 86, 87, 88, 89, 90, 91, 92, 93, 94, 95, 96, 97, 98, 99], \"y\": [0.4060127339438663, -0.7982496783697365, 1.123601971839627, 0.4058048602297246, 0.2745561016720758, 0.027475844105220772, -0.22383021302281453, -0.39387936056102335, 0.46958773686681554, 1.0318532728612242, -0.24670914055786855, -0.6158092236253605, 0.3357316529625056, 0.33549334879556586, -0.3420057984448994, -0.5729067470502307, 0.944555988637591, 1.6466709364637417, -0.6046253611903157, 1.1164169657669007, -0.20836647515525453, -0.3251835589694398, -1.2223825639379888, 0.9111127533544581, 0.7714510155383001, -0.11910029332390273, 0.6925253498084671, 0.761678498587015, -0.21122116515593753, -1.8911317407454065, -0.6477421966041468, 1.746998679272337, -1.7771617442088992, 0.6549085009105307, 1.4788993264746322, -0.5627472212555263, -0.9117802943654789, -0.044173489311235214, 0.7799243277831824, -0.009326740102037481, -0.7202522194882793, -0.7240445885164354, 0.49987218845528786, -0.19517962211662349, 0.012250267699824213, -0.22559392376468862, -0.4808350357460893, -0.8198241736310934, 0.19911254148027172, 0.5290633506851798, 0.2526330126879686, -0.9212198132849635, 1.330206416841273, -1.3646681089815724, -0.8176747165637754, 0.8453057646843333, -0.4028552804000192, -2.060148639010836, 0.5812027839577867, 0.11052420643035013, 0.41282004544314155, -0.14089989297248323, 1.45061283483238, 0.18831388859592682, -1.1439882648437452, -1.1849927000093727, 1.2413796077745642, -0.5577161325566812, -0.61933102563376, -1.037967425542334, -1.1119068495937685, -0.34404925965830496, -1.5708253521732911, -0.1744878934567653, -0.6375590559920541, -1.5414458738716459, 0.919868277100258, 1.0490659600613328, 0.08470892651567892, -1.1117047344287596, 0.07203519479416232, 0.006055862150619064, 1.2245168625491816, 0.3591325369860431, -0.014752796925019226, 0.9663004218908801, 0.6340307723650775, 1.1679323322976998, -0.8019974364914285, 2.009899707838478, 1.351686235098478, -0.16357633038026712, 1.0467381976205765, -0.9884777911500046, -1.179242961599606, 0.19637991258516102, 0.02752192332194667, -0.4772929189208354, -1.2072566311627462, 0.28531937373349664]}, {\"marker\": {\"color\": \"rgba(128, 0, 128, 0.6)\", \"line\": {\"color\": \"rgba(128, 0, 128, 1.0)\", \"width\": 1}}, \"name\": \"D\", \"orientation\": \"v\", \"text\": \"\", \"type\": \"bar\", \"x\": [0, 1, 2, 3, 4, 5, 6, 7, 8, 9, 10, 11, 12, 13, 14, 15, 16, 17, 18, 19, 20, 21, 22, 23, 24, 25, 26, 27, 28, 29, 30, 31, 32, 33, 34, 35, 36, 37, 38, 39, 40, 41, 42, 43, 44, 45, 46, 47, 48, 49, 50, 51, 52, 53, 54, 55, 56, 57, 58, 59, 60, 61, 62, 63, 64, 65, 66, 67, 68, 69, 70, 71, 72, 73, 74, 75, 76, 77, 78, 79, 80, 81, 82, 83, 84, 85, 86, 87, 88, 89, 90, 91, 92, 93, 94, 95, 96, 97, 98, 99], \"y\": [-1.384133836883895, 1.6279036565882115, -0.9299821435910816, 0.35486494817093983, 1.6290606005838537, 0.8653327008822459, 0.15013252944094518, 0.28971818542358885, -0.6452317482474019, 1.3151329392327118, -0.4601930499485809, 0.01796751366341419, -0.2863077986587903, 0.7221752593929269, 1.1438494986725094, 1.704750899635022, 2.0255558584427145, 0.4869696515487609, -0.7753590689761756, 0.5894599802215743, -0.5099209544243769, 0.971142453454226, 1.4135296149222607, 0.46368222120546493, -0.2099110424911986, 0.8555892169194312, -0.8666033652100801, -0.2306133820653981, 1.9089544676825587, 0.48126067046847626, -0.6815478231682852, -0.7012394354255265, -0.4047358182565961, -1.0906657672931215, -0.5310813760482439, -1.1553728557319203, 2.1544499479595145, 0.21019983690878644, 0.11648620825479883, -0.6736364979743092, 0.43450673915401905, -0.98897228814661, -0.5665651061675469, 1.6754808091110636, 0.22626422636394813, 0.07919047376157638, 0.47646469707111916, 0.314116725600217, 1.0625187131973928, -0.2287637563650373, -0.08284518464672441, -0.8301973110501326, -0.4028005160347876, 0.24672132353258178, 0.15450240306366955, -0.8804013772595688, -0.7580135896092738, -1.7051536353409653, 1.0626662974393108, 0.2526824633221683, 0.8340379444053333, 0.14124629647157924, -0.49243382012914344, -0.9599076627068123, 0.7149885906661986, 0.4750175942064842, -0.5873964713638485, 1.6930034548000927, -0.09315530497266254, 0.710403964378997, -1.1932154200104725, -1.0562238516298499, -0.2690924803512119, 0.49758681226637225, -1.0773982877105088, 0.07911034291757471, -0.39902453071887745, 1.0700856351960735, -1.057358139564738, 0.37533863810957413, -2.84037344606979, -0.7091852096155062, -0.9566975881638045, 0.35100423287660615, -1.4217070977134791, 0.4182186974869994, 0.15184097974894464, 0.013448617348159643, 0.3125613854661278, 1.514216766439221, 1.3523238006848513, -0.24663932645882697, 1.0446188476433422, -0.8035903583066685, -0.8232789379519444, 0.28646918218662437, -0.4371347569536695, -0.3411639230662988, -1.0645835371189294, 0.7317930121637225]}],\n",
       "                        {\"legend\": {\"bgcolor\": \"#F5F6F9\", \"font\": {\"color\": \"#4D5663\"}}, \"paper_bgcolor\": \"#F5F6F9\", \"plot_bgcolor\": \"#F5F6F9\", \"template\": {\"data\": {\"bar\": [{\"error_x\": {\"color\": \"#2a3f5f\"}, \"error_y\": {\"color\": \"#2a3f5f\"}, \"marker\": {\"line\": {\"color\": \"#E5ECF6\", \"width\": 0.5}}, \"type\": \"bar\"}], \"barpolar\": [{\"marker\": {\"line\": {\"color\": \"#E5ECF6\", \"width\": 0.5}}, \"type\": \"barpolar\"}], \"carpet\": [{\"aaxis\": {\"endlinecolor\": \"#2a3f5f\", \"gridcolor\": \"white\", \"linecolor\": \"white\", \"minorgridcolor\": \"white\", \"startlinecolor\": \"#2a3f5f\"}, \"baxis\": {\"endlinecolor\": \"#2a3f5f\", \"gridcolor\": \"white\", \"linecolor\": \"white\", \"minorgridcolor\": \"white\", \"startlinecolor\": \"#2a3f5f\"}, \"type\": \"carpet\"}], \"choropleth\": [{\"colorbar\": {\"outlinewidth\": 0, \"ticks\": \"\"}, \"type\": \"choropleth\"}], \"contour\": [{\"colorbar\": {\"outlinewidth\": 0, \"ticks\": \"\"}, \"colorscale\": [[0.0, \"#0d0887\"], [0.1111111111111111, \"#46039f\"], [0.2222222222222222, \"#7201a8\"], [0.3333333333333333, \"#9c179e\"], [0.4444444444444444, \"#bd3786\"], [0.5555555555555556, \"#d8576b\"], [0.6666666666666666, \"#ed7953\"], [0.7777777777777778, \"#fb9f3a\"], [0.8888888888888888, \"#fdca26\"], [1.0, \"#f0f921\"]], \"type\": \"contour\"}], \"contourcarpet\": [{\"colorbar\": {\"outlinewidth\": 0, \"ticks\": \"\"}, \"type\": \"contourcarpet\"}], \"heatmap\": [{\"colorbar\": {\"outlinewidth\": 0, \"ticks\": \"\"}, \"colorscale\": [[0.0, \"#0d0887\"], [0.1111111111111111, \"#46039f\"], [0.2222222222222222, \"#7201a8\"], [0.3333333333333333, \"#9c179e\"], [0.4444444444444444, \"#bd3786\"], [0.5555555555555556, \"#d8576b\"], [0.6666666666666666, \"#ed7953\"], [0.7777777777777778, \"#fb9f3a\"], [0.8888888888888888, \"#fdca26\"], [1.0, \"#f0f921\"]], \"type\": \"heatmap\"}], \"heatmapgl\": [{\"colorbar\": {\"outlinewidth\": 0, \"ticks\": \"\"}, \"colorscale\": [[0.0, \"#0d0887\"], [0.1111111111111111, \"#46039f\"], [0.2222222222222222, \"#7201a8\"], [0.3333333333333333, \"#9c179e\"], [0.4444444444444444, \"#bd3786\"], [0.5555555555555556, \"#d8576b\"], [0.6666666666666666, \"#ed7953\"], [0.7777777777777778, \"#fb9f3a\"], [0.8888888888888888, \"#fdca26\"], [1.0, \"#f0f921\"]], \"type\": \"heatmapgl\"}], \"histogram\": [{\"marker\": {\"colorbar\": {\"outlinewidth\": 0, \"ticks\": \"\"}}, \"type\": \"histogram\"}], \"histogram2d\": [{\"colorbar\": {\"outlinewidth\": 0, \"ticks\": \"\"}, \"colorscale\": [[0.0, \"#0d0887\"], [0.1111111111111111, \"#46039f\"], [0.2222222222222222, \"#7201a8\"], [0.3333333333333333, \"#9c179e\"], [0.4444444444444444, \"#bd3786\"], [0.5555555555555556, \"#d8576b\"], [0.6666666666666666, \"#ed7953\"], [0.7777777777777778, \"#fb9f3a\"], [0.8888888888888888, \"#fdca26\"], [1.0, \"#f0f921\"]], \"type\": \"histogram2d\"}], \"histogram2dcontour\": [{\"colorbar\": {\"outlinewidth\": 0, \"ticks\": \"\"}, \"colorscale\": [[0.0, \"#0d0887\"], [0.1111111111111111, \"#46039f\"], [0.2222222222222222, \"#7201a8\"], [0.3333333333333333, \"#9c179e\"], [0.4444444444444444, \"#bd3786\"], [0.5555555555555556, \"#d8576b\"], [0.6666666666666666, \"#ed7953\"], [0.7777777777777778, \"#fb9f3a\"], [0.8888888888888888, \"#fdca26\"], [1.0, \"#f0f921\"]], \"type\": \"histogram2dcontour\"}], \"mesh3d\": [{\"colorbar\": {\"outlinewidth\": 0, \"ticks\": \"\"}, \"type\": \"mesh3d\"}], \"parcoords\": [{\"line\": {\"colorbar\": {\"outlinewidth\": 0, \"ticks\": \"\"}}, \"type\": \"parcoords\"}], \"pie\": [{\"automargin\": true, \"type\": \"pie\"}], \"scatter\": [{\"marker\": {\"colorbar\": {\"outlinewidth\": 0, \"ticks\": \"\"}}, \"type\": \"scatter\"}], \"scatter3d\": [{\"line\": {\"colorbar\": {\"outlinewidth\": 0, \"ticks\": \"\"}}, \"marker\": {\"colorbar\": {\"outlinewidth\": 0, \"ticks\": \"\"}}, \"type\": \"scatter3d\"}], \"scattercarpet\": [{\"marker\": {\"colorbar\": {\"outlinewidth\": 0, \"ticks\": \"\"}}, \"type\": \"scattercarpet\"}], \"scattergeo\": [{\"marker\": {\"colorbar\": {\"outlinewidth\": 0, \"ticks\": \"\"}}, \"type\": \"scattergeo\"}], \"scattergl\": [{\"marker\": {\"colorbar\": {\"outlinewidth\": 0, \"ticks\": \"\"}}, \"type\": \"scattergl\"}], \"scattermapbox\": [{\"marker\": {\"colorbar\": {\"outlinewidth\": 0, \"ticks\": \"\"}}, \"type\": \"scattermapbox\"}], \"scatterpolar\": [{\"marker\": {\"colorbar\": {\"outlinewidth\": 0, \"ticks\": \"\"}}, \"type\": \"scatterpolar\"}], \"scatterpolargl\": [{\"marker\": {\"colorbar\": {\"outlinewidth\": 0, \"ticks\": \"\"}}, \"type\": \"scatterpolargl\"}], \"scatterternary\": [{\"marker\": {\"colorbar\": {\"outlinewidth\": 0, \"ticks\": \"\"}}, \"type\": \"scatterternary\"}], \"surface\": [{\"colorbar\": {\"outlinewidth\": 0, \"ticks\": \"\"}, \"colorscale\": [[0.0, \"#0d0887\"], [0.1111111111111111, \"#46039f\"], [0.2222222222222222, \"#7201a8\"], [0.3333333333333333, \"#9c179e\"], [0.4444444444444444, \"#bd3786\"], [0.5555555555555556, \"#d8576b\"], [0.6666666666666666, \"#ed7953\"], [0.7777777777777778, \"#fb9f3a\"], [0.8888888888888888, \"#fdca26\"], [1.0, \"#f0f921\"]], \"type\": \"surface\"}], \"table\": [{\"cells\": {\"fill\": {\"color\": \"#EBF0F8\"}, \"line\": {\"color\": \"white\"}}, \"header\": {\"fill\": {\"color\": \"#C8D4E3\"}, \"line\": {\"color\": \"white\"}}, \"type\": \"table\"}]}, \"layout\": {\"annotationdefaults\": {\"arrowcolor\": \"#2a3f5f\", \"arrowhead\": 0, \"arrowwidth\": 1}, \"coloraxis\": {\"colorbar\": {\"outlinewidth\": 0, \"ticks\": \"\"}}, \"colorscale\": {\"diverging\": [[0, \"#8e0152\"], [0.1, \"#c51b7d\"], [0.2, \"#de77ae\"], [0.3, \"#f1b6da\"], [0.4, \"#fde0ef\"], [0.5, \"#f7f7f7\"], [0.6, \"#e6f5d0\"], [0.7, \"#b8e186\"], [0.8, \"#7fbc41\"], [0.9, \"#4d9221\"], [1, \"#276419\"]], \"sequential\": [[0.0, \"#0d0887\"], [0.1111111111111111, \"#46039f\"], [0.2222222222222222, \"#7201a8\"], [0.3333333333333333, \"#9c179e\"], [0.4444444444444444, \"#bd3786\"], [0.5555555555555556, \"#d8576b\"], [0.6666666666666666, \"#ed7953\"], [0.7777777777777778, \"#fb9f3a\"], [0.8888888888888888, \"#fdca26\"], [1.0, \"#f0f921\"]], \"sequentialminus\": [[0.0, \"#0d0887\"], [0.1111111111111111, \"#46039f\"], [0.2222222222222222, \"#7201a8\"], [0.3333333333333333, \"#9c179e\"], [0.4444444444444444, \"#bd3786\"], [0.5555555555555556, \"#d8576b\"], [0.6666666666666666, \"#ed7953\"], [0.7777777777777778, \"#fb9f3a\"], [0.8888888888888888, \"#fdca26\"], [1.0, \"#f0f921\"]]}, \"colorway\": [\"#636efa\", \"#EF553B\", \"#00cc96\", \"#ab63fa\", \"#FFA15A\", \"#19d3f3\", \"#FF6692\", \"#B6E880\", \"#FF97FF\", \"#FECB52\"], \"font\": {\"color\": \"#2a3f5f\"}, \"geo\": {\"bgcolor\": \"white\", \"lakecolor\": \"white\", \"landcolor\": \"#E5ECF6\", \"showlakes\": true, \"showland\": true, \"subunitcolor\": \"white\"}, \"hoverlabel\": {\"align\": \"left\"}, \"hovermode\": \"closest\", \"mapbox\": {\"style\": \"light\"}, \"paper_bgcolor\": \"white\", \"plot_bgcolor\": \"#E5ECF6\", \"polar\": {\"angularaxis\": {\"gridcolor\": \"white\", \"linecolor\": \"white\", \"ticks\": \"\"}, \"bgcolor\": \"#E5ECF6\", \"radialaxis\": {\"gridcolor\": \"white\", \"linecolor\": \"white\", \"ticks\": \"\"}}, \"scene\": {\"xaxis\": {\"backgroundcolor\": \"#E5ECF6\", \"gridcolor\": \"white\", \"gridwidth\": 2, \"linecolor\": \"white\", \"showbackground\": true, \"ticks\": \"\", \"zerolinecolor\": \"white\"}, \"yaxis\": {\"backgroundcolor\": \"#E5ECF6\", \"gridcolor\": \"white\", \"gridwidth\": 2, \"linecolor\": \"white\", \"showbackground\": true, \"ticks\": \"\", \"zerolinecolor\": \"white\"}, \"zaxis\": {\"backgroundcolor\": \"#E5ECF6\", \"gridcolor\": \"white\", \"gridwidth\": 2, \"linecolor\": \"white\", \"showbackground\": true, \"ticks\": \"\", \"zerolinecolor\": \"white\"}}, \"shapedefaults\": {\"line\": {\"color\": \"#2a3f5f\"}}, \"ternary\": {\"aaxis\": {\"gridcolor\": \"white\", \"linecolor\": \"white\", \"ticks\": \"\"}, \"baxis\": {\"gridcolor\": \"white\", \"linecolor\": \"white\", \"ticks\": \"\"}, \"bgcolor\": \"#E5ECF6\", \"caxis\": {\"gridcolor\": \"white\", \"linecolor\": \"white\", \"ticks\": \"\"}}, \"title\": {\"x\": 0.05}, \"xaxis\": {\"automargin\": true, \"gridcolor\": \"white\", \"linecolor\": \"white\", \"ticks\": \"\", \"title\": {\"standoff\": 15}, \"zerolinecolor\": \"white\", \"zerolinewidth\": 2}, \"yaxis\": {\"automargin\": true, \"gridcolor\": \"white\", \"linecolor\": \"white\", \"ticks\": \"\", \"title\": {\"standoff\": 15}, \"zerolinecolor\": \"white\", \"zerolinewidth\": 2}}}, \"title\": {\"font\": {\"color\": \"#4D5663\"}}, \"xaxis\": {\"gridcolor\": \"#E1E5ED\", \"showgrid\": true, \"tickfont\": {\"color\": \"#4D5663\"}, \"title\": {\"font\": {\"color\": \"#4D5663\"}, \"text\": \"\"}, \"zerolinecolor\": \"#E1E5ED\"}, \"yaxis\": {\"gridcolor\": \"#E1E5ED\", \"showgrid\": true, \"tickfont\": {\"color\": \"#4D5663\"}, \"title\": {\"font\": {\"color\": \"#4D5663\"}, \"text\": \"\"}, \"zerolinecolor\": \"#E1E5ED\"}},\n",
       "                        {\"showLink\": true, \"linkText\": \"Export to plot.ly\", \"plotlyServerURL\": \"https://plot.ly\", \"responsive\": true}\n",
       "                    ).then(function(){\n",
       "                            \n",
       "var gd = document.getElementById('1128f6ca-45bd-486c-8e1b-e55c74b1733f');\n",
       "var x = new MutationObserver(function (mutations, observer) {{\n",
       "        var display = window.getComputedStyle(gd).display;\n",
       "        if (!display || display === 'none') {{\n",
       "            console.log([gd, 'removed!']);\n",
       "            Plotly.purge(gd);\n",
       "            observer.disconnect();\n",
       "        }}\n",
       "}});\n",
       "\n",
       "// Listen for the removal of the full notebook cells\n",
       "var notebookContainer = gd.closest('#notebook-container');\n",
       "if (notebookContainer) {{\n",
       "    x.observe(notebookContainer, {childList: true});\n",
       "}}\n",
       "\n",
       "// Listen for the clearing of the current output cell\n",
       "var outputEl = gd.closest('.output');\n",
       "if (outputEl) {{\n",
       "    x.observe(outputEl, {childList: true});\n",
       "}}\n",
       "\n",
       "                        })\n",
       "                };\n",
       "                });\n",
       "            </script>\n",
       "        </div>"
      ]
     },
     "metadata": {},
     "output_type": "display_data"
    }
   ],
   "source": [
    "df.iplot(kind='bar')"
   ]
  },
  {
   "cell_type": "code",
   "execution_count": 21,
   "metadata": {},
   "outputs": [
    {
     "data": {
      "application/vnd.plotly.v1+json": {
       "config": {
        "linkText": "Export to plot.ly",
        "plotlyServerURL": "https://plot.ly",
        "showLink": true
       },
       "data": [
        {
         "marker": {
          "color": "rgba(255, 153, 51, 0.6)",
          "line": {
           "color": "rgba(255, 153, 51, 1.0)",
           "width": 1
          }
         },
         "name": "values",
         "orientation": "v",
         "text": "",
         "type": "bar",
         "x": [
          "A",
          "B",
          "C"
         ],
         "y": [
          32,
          43,
          50
         ]
        }
       ],
       "layout": {
        "legend": {
         "bgcolor": "#F5F6F9",
         "font": {
          "color": "#4D5663"
         }
        },
        "paper_bgcolor": "#F5F6F9",
        "plot_bgcolor": "#F5F6F9",
        "template": {
         "data": {
          "bar": [
           {
            "error_x": {
             "color": "#2a3f5f"
            },
            "error_y": {
             "color": "#2a3f5f"
            },
            "marker": {
             "line": {
              "color": "#E5ECF6",
              "width": 0.5
             }
            },
            "type": "bar"
           }
          ],
          "barpolar": [
           {
            "marker": {
             "line": {
              "color": "#E5ECF6",
              "width": 0.5
             }
            },
            "type": "barpolar"
           }
          ],
          "carpet": [
           {
            "aaxis": {
             "endlinecolor": "#2a3f5f",
             "gridcolor": "white",
             "linecolor": "white",
             "minorgridcolor": "white",
             "startlinecolor": "#2a3f5f"
            },
            "baxis": {
             "endlinecolor": "#2a3f5f",
             "gridcolor": "white",
             "linecolor": "white",
             "minorgridcolor": "white",
             "startlinecolor": "#2a3f5f"
            },
            "type": "carpet"
           }
          ],
          "choropleth": [
           {
            "colorbar": {
             "outlinewidth": 0,
             "ticks": ""
            },
            "type": "choropleth"
           }
          ],
          "contour": [
           {
            "colorbar": {
             "outlinewidth": 0,
             "ticks": ""
            },
            "colorscale": [
             [
              0,
              "#0d0887"
             ],
             [
              0.1111111111111111,
              "#46039f"
             ],
             [
              0.2222222222222222,
              "#7201a8"
             ],
             [
              0.3333333333333333,
              "#9c179e"
             ],
             [
              0.4444444444444444,
              "#bd3786"
             ],
             [
              0.5555555555555556,
              "#d8576b"
             ],
             [
              0.6666666666666666,
              "#ed7953"
             ],
             [
              0.7777777777777778,
              "#fb9f3a"
             ],
             [
              0.8888888888888888,
              "#fdca26"
             ],
             [
              1,
              "#f0f921"
             ]
            ],
            "type": "contour"
           }
          ],
          "contourcarpet": [
           {
            "colorbar": {
             "outlinewidth": 0,
             "ticks": ""
            },
            "type": "contourcarpet"
           }
          ],
          "heatmap": [
           {
            "colorbar": {
             "outlinewidth": 0,
             "ticks": ""
            },
            "colorscale": [
             [
              0,
              "#0d0887"
             ],
             [
              0.1111111111111111,
              "#46039f"
             ],
             [
              0.2222222222222222,
              "#7201a8"
             ],
             [
              0.3333333333333333,
              "#9c179e"
             ],
             [
              0.4444444444444444,
              "#bd3786"
             ],
             [
              0.5555555555555556,
              "#d8576b"
             ],
             [
              0.6666666666666666,
              "#ed7953"
             ],
             [
              0.7777777777777778,
              "#fb9f3a"
             ],
             [
              0.8888888888888888,
              "#fdca26"
             ],
             [
              1,
              "#f0f921"
             ]
            ],
            "type": "heatmap"
           }
          ],
          "heatmapgl": [
           {
            "colorbar": {
             "outlinewidth": 0,
             "ticks": ""
            },
            "colorscale": [
             [
              0,
              "#0d0887"
             ],
             [
              0.1111111111111111,
              "#46039f"
             ],
             [
              0.2222222222222222,
              "#7201a8"
             ],
             [
              0.3333333333333333,
              "#9c179e"
             ],
             [
              0.4444444444444444,
              "#bd3786"
             ],
             [
              0.5555555555555556,
              "#d8576b"
             ],
             [
              0.6666666666666666,
              "#ed7953"
             ],
             [
              0.7777777777777778,
              "#fb9f3a"
             ],
             [
              0.8888888888888888,
              "#fdca26"
             ],
             [
              1,
              "#f0f921"
             ]
            ],
            "type": "heatmapgl"
           }
          ],
          "histogram": [
           {
            "marker": {
             "colorbar": {
              "outlinewidth": 0,
              "ticks": ""
             }
            },
            "type": "histogram"
           }
          ],
          "histogram2d": [
           {
            "colorbar": {
             "outlinewidth": 0,
             "ticks": ""
            },
            "colorscale": [
             [
              0,
              "#0d0887"
             ],
             [
              0.1111111111111111,
              "#46039f"
             ],
             [
              0.2222222222222222,
              "#7201a8"
             ],
             [
              0.3333333333333333,
              "#9c179e"
             ],
             [
              0.4444444444444444,
              "#bd3786"
             ],
             [
              0.5555555555555556,
              "#d8576b"
             ],
             [
              0.6666666666666666,
              "#ed7953"
             ],
             [
              0.7777777777777778,
              "#fb9f3a"
             ],
             [
              0.8888888888888888,
              "#fdca26"
             ],
             [
              1,
              "#f0f921"
             ]
            ],
            "type": "histogram2d"
           }
          ],
          "histogram2dcontour": [
           {
            "colorbar": {
             "outlinewidth": 0,
             "ticks": ""
            },
            "colorscale": [
             [
              0,
              "#0d0887"
             ],
             [
              0.1111111111111111,
              "#46039f"
             ],
             [
              0.2222222222222222,
              "#7201a8"
             ],
             [
              0.3333333333333333,
              "#9c179e"
             ],
             [
              0.4444444444444444,
              "#bd3786"
             ],
             [
              0.5555555555555556,
              "#d8576b"
             ],
             [
              0.6666666666666666,
              "#ed7953"
             ],
             [
              0.7777777777777778,
              "#fb9f3a"
             ],
             [
              0.8888888888888888,
              "#fdca26"
             ],
             [
              1,
              "#f0f921"
             ]
            ],
            "type": "histogram2dcontour"
           }
          ],
          "mesh3d": [
           {
            "colorbar": {
             "outlinewidth": 0,
             "ticks": ""
            },
            "type": "mesh3d"
           }
          ],
          "parcoords": [
           {
            "line": {
             "colorbar": {
              "outlinewidth": 0,
              "ticks": ""
             }
            },
            "type": "parcoords"
           }
          ],
          "pie": [
           {
            "automargin": true,
            "type": "pie"
           }
          ],
          "scatter": [
           {
            "marker": {
             "colorbar": {
              "outlinewidth": 0,
              "ticks": ""
             }
            },
            "type": "scatter"
           }
          ],
          "scatter3d": [
           {
            "line": {
             "colorbar": {
              "outlinewidth": 0,
              "ticks": ""
             }
            },
            "marker": {
             "colorbar": {
              "outlinewidth": 0,
              "ticks": ""
             }
            },
            "type": "scatter3d"
           }
          ],
          "scattercarpet": [
           {
            "marker": {
             "colorbar": {
              "outlinewidth": 0,
              "ticks": ""
             }
            },
            "type": "scattercarpet"
           }
          ],
          "scattergeo": [
           {
            "marker": {
             "colorbar": {
              "outlinewidth": 0,
              "ticks": ""
             }
            },
            "type": "scattergeo"
           }
          ],
          "scattergl": [
           {
            "marker": {
             "colorbar": {
              "outlinewidth": 0,
              "ticks": ""
             }
            },
            "type": "scattergl"
           }
          ],
          "scattermapbox": [
           {
            "marker": {
             "colorbar": {
              "outlinewidth": 0,
              "ticks": ""
             }
            },
            "type": "scattermapbox"
           }
          ],
          "scatterpolar": [
           {
            "marker": {
             "colorbar": {
              "outlinewidth": 0,
              "ticks": ""
             }
            },
            "type": "scatterpolar"
           }
          ],
          "scatterpolargl": [
           {
            "marker": {
             "colorbar": {
              "outlinewidth": 0,
              "ticks": ""
             }
            },
            "type": "scatterpolargl"
           }
          ],
          "scatterternary": [
           {
            "marker": {
             "colorbar": {
              "outlinewidth": 0,
              "ticks": ""
             }
            },
            "type": "scatterternary"
           }
          ],
          "surface": [
           {
            "colorbar": {
             "outlinewidth": 0,
             "ticks": ""
            },
            "colorscale": [
             [
              0,
              "#0d0887"
             ],
             [
              0.1111111111111111,
              "#46039f"
             ],
             [
              0.2222222222222222,
              "#7201a8"
             ],
             [
              0.3333333333333333,
              "#9c179e"
             ],
             [
              0.4444444444444444,
              "#bd3786"
             ],
             [
              0.5555555555555556,
              "#d8576b"
             ],
             [
              0.6666666666666666,
              "#ed7953"
             ],
             [
              0.7777777777777778,
              "#fb9f3a"
             ],
             [
              0.8888888888888888,
              "#fdca26"
             ],
             [
              1,
              "#f0f921"
             ]
            ],
            "type": "surface"
           }
          ],
          "table": [
           {
            "cells": {
             "fill": {
              "color": "#EBF0F8"
             },
             "line": {
              "color": "white"
             }
            },
            "header": {
             "fill": {
              "color": "#C8D4E3"
             },
             "line": {
              "color": "white"
             }
            },
            "type": "table"
           }
          ]
         },
         "layout": {
          "annotationdefaults": {
           "arrowcolor": "#2a3f5f",
           "arrowhead": 0,
           "arrowwidth": 1
          },
          "coloraxis": {
           "colorbar": {
            "outlinewidth": 0,
            "ticks": ""
           }
          },
          "colorscale": {
           "diverging": [
            [
             0,
             "#8e0152"
            ],
            [
             0.1,
             "#c51b7d"
            ],
            [
             0.2,
             "#de77ae"
            ],
            [
             0.3,
             "#f1b6da"
            ],
            [
             0.4,
             "#fde0ef"
            ],
            [
             0.5,
             "#f7f7f7"
            ],
            [
             0.6,
             "#e6f5d0"
            ],
            [
             0.7,
             "#b8e186"
            ],
            [
             0.8,
             "#7fbc41"
            ],
            [
             0.9,
             "#4d9221"
            ],
            [
             1,
             "#276419"
            ]
           ],
           "sequential": [
            [
             0,
             "#0d0887"
            ],
            [
             0.1111111111111111,
             "#46039f"
            ],
            [
             0.2222222222222222,
             "#7201a8"
            ],
            [
             0.3333333333333333,
             "#9c179e"
            ],
            [
             0.4444444444444444,
             "#bd3786"
            ],
            [
             0.5555555555555556,
             "#d8576b"
            ],
            [
             0.6666666666666666,
             "#ed7953"
            ],
            [
             0.7777777777777778,
             "#fb9f3a"
            ],
            [
             0.8888888888888888,
             "#fdca26"
            ],
            [
             1,
             "#f0f921"
            ]
           ],
           "sequentialminus": [
            [
             0,
             "#0d0887"
            ],
            [
             0.1111111111111111,
             "#46039f"
            ],
            [
             0.2222222222222222,
             "#7201a8"
            ],
            [
             0.3333333333333333,
             "#9c179e"
            ],
            [
             0.4444444444444444,
             "#bd3786"
            ],
            [
             0.5555555555555556,
             "#d8576b"
            ],
            [
             0.6666666666666666,
             "#ed7953"
            ],
            [
             0.7777777777777778,
             "#fb9f3a"
            ],
            [
             0.8888888888888888,
             "#fdca26"
            ],
            [
             1,
             "#f0f921"
            ]
           ]
          },
          "colorway": [
           "#636efa",
           "#EF553B",
           "#00cc96",
           "#ab63fa",
           "#FFA15A",
           "#19d3f3",
           "#FF6692",
           "#B6E880",
           "#FF97FF",
           "#FECB52"
          ],
          "font": {
           "color": "#2a3f5f"
          },
          "geo": {
           "bgcolor": "white",
           "lakecolor": "white",
           "landcolor": "#E5ECF6",
           "showlakes": true,
           "showland": true,
           "subunitcolor": "white"
          },
          "hoverlabel": {
           "align": "left"
          },
          "hovermode": "closest",
          "mapbox": {
           "style": "light"
          },
          "paper_bgcolor": "white",
          "plot_bgcolor": "#E5ECF6",
          "polar": {
           "angularaxis": {
            "gridcolor": "white",
            "linecolor": "white",
            "ticks": ""
           },
           "bgcolor": "#E5ECF6",
           "radialaxis": {
            "gridcolor": "white",
            "linecolor": "white",
            "ticks": ""
           }
          },
          "scene": {
           "xaxis": {
            "backgroundcolor": "#E5ECF6",
            "gridcolor": "white",
            "gridwidth": 2,
            "linecolor": "white",
            "showbackground": true,
            "ticks": "",
            "zerolinecolor": "white"
           },
           "yaxis": {
            "backgroundcolor": "#E5ECF6",
            "gridcolor": "white",
            "gridwidth": 2,
            "linecolor": "white",
            "showbackground": true,
            "ticks": "",
            "zerolinecolor": "white"
           },
           "zaxis": {
            "backgroundcolor": "#E5ECF6",
            "gridcolor": "white",
            "gridwidth": 2,
            "linecolor": "white",
            "showbackground": true,
            "ticks": "",
            "zerolinecolor": "white"
           }
          },
          "shapedefaults": {
           "line": {
            "color": "#2a3f5f"
           }
          },
          "ternary": {
           "aaxis": {
            "gridcolor": "white",
            "linecolor": "white",
            "ticks": ""
           },
           "baxis": {
            "gridcolor": "white",
            "linecolor": "white",
            "ticks": ""
           },
           "bgcolor": "#E5ECF6",
           "caxis": {
            "gridcolor": "white",
            "linecolor": "white",
            "ticks": ""
           }
          },
          "title": {
           "x": 0.05
          },
          "xaxis": {
           "automargin": true,
           "gridcolor": "white",
           "linecolor": "white",
           "ticks": "",
           "title": {
            "standoff": 15
           },
           "zerolinecolor": "white",
           "zerolinewidth": 2
          },
          "yaxis": {
           "automargin": true,
           "gridcolor": "white",
           "linecolor": "white",
           "ticks": "",
           "title": {
            "standoff": 15
           },
           "zerolinecolor": "white",
           "zerolinewidth": 2
          }
         }
        },
        "title": {
         "font": {
          "color": "#4D5663"
         }
        },
        "xaxis": {
         "gridcolor": "#E1E5ED",
         "showgrid": true,
         "tickfont": {
          "color": "#4D5663"
         },
         "title": {
          "font": {
           "color": "#4D5663"
          },
          "text": ""
         },
         "zerolinecolor": "#E1E5ED"
        },
        "yaxis": {
         "gridcolor": "#E1E5ED",
         "showgrid": true,
         "tickfont": {
          "color": "#4D5663"
         },
         "title": {
          "font": {
           "color": "#4D5663"
          },
          "text": ""
         },
         "zerolinecolor": "#E1E5ED"
        }
       }
      },
      "text/html": [
       "<div>\n",
       "        \n",
       "        \n",
       "            <div id=\"ecdaa116-0de1-4ada-8832-bba69667682e\" class=\"plotly-graph-div\" style=\"height:525px; width:100%;\"></div>\n",
       "            <script type=\"text/javascript\">\n",
       "                require([\"plotly\"], function(Plotly) {\n",
       "                    window.PLOTLYENV=window.PLOTLYENV || {};\n",
       "                    window.PLOTLYENV.BASE_URL='https://plot.ly';\n",
       "                    \n",
       "                if (document.getElementById(\"ecdaa116-0de1-4ada-8832-bba69667682e\")) {\n",
       "                    Plotly.newPlot(\n",
       "                        'ecdaa116-0de1-4ada-8832-bba69667682e',\n",
       "                        [{\"marker\": {\"color\": \"rgba(255, 153, 51, 0.6)\", \"line\": {\"color\": \"rgba(255, 153, 51, 1.0)\", \"width\": 1}}, \"name\": \"values\", \"orientation\": \"v\", \"text\": \"\", \"type\": \"bar\", \"x\": [\"A\", \"B\", \"C\"], \"y\": [32, 43, 50]}],\n",
       "                        {\"legend\": {\"bgcolor\": \"#F5F6F9\", \"font\": {\"color\": \"#4D5663\"}}, \"paper_bgcolor\": \"#F5F6F9\", \"plot_bgcolor\": \"#F5F6F9\", \"template\": {\"data\": {\"bar\": [{\"error_x\": {\"color\": \"#2a3f5f\"}, \"error_y\": {\"color\": \"#2a3f5f\"}, \"marker\": {\"line\": {\"color\": \"#E5ECF6\", \"width\": 0.5}}, \"type\": \"bar\"}], \"barpolar\": [{\"marker\": {\"line\": {\"color\": \"#E5ECF6\", \"width\": 0.5}}, \"type\": \"barpolar\"}], \"carpet\": [{\"aaxis\": {\"endlinecolor\": \"#2a3f5f\", \"gridcolor\": \"white\", \"linecolor\": \"white\", \"minorgridcolor\": \"white\", \"startlinecolor\": \"#2a3f5f\"}, \"baxis\": {\"endlinecolor\": \"#2a3f5f\", \"gridcolor\": \"white\", \"linecolor\": \"white\", \"minorgridcolor\": \"white\", \"startlinecolor\": \"#2a3f5f\"}, \"type\": \"carpet\"}], \"choropleth\": [{\"colorbar\": {\"outlinewidth\": 0, \"ticks\": \"\"}, \"type\": \"choropleth\"}], \"contour\": [{\"colorbar\": {\"outlinewidth\": 0, \"ticks\": \"\"}, \"colorscale\": [[0.0, \"#0d0887\"], [0.1111111111111111, \"#46039f\"], [0.2222222222222222, \"#7201a8\"], [0.3333333333333333, \"#9c179e\"], [0.4444444444444444, \"#bd3786\"], [0.5555555555555556, \"#d8576b\"], [0.6666666666666666, \"#ed7953\"], [0.7777777777777778, \"#fb9f3a\"], [0.8888888888888888, \"#fdca26\"], [1.0, \"#f0f921\"]], \"type\": \"contour\"}], \"contourcarpet\": [{\"colorbar\": {\"outlinewidth\": 0, \"ticks\": \"\"}, \"type\": \"contourcarpet\"}], \"heatmap\": [{\"colorbar\": {\"outlinewidth\": 0, \"ticks\": \"\"}, \"colorscale\": [[0.0, \"#0d0887\"], [0.1111111111111111, \"#46039f\"], [0.2222222222222222, \"#7201a8\"], [0.3333333333333333, \"#9c179e\"], [0.4444444444444444, \"#bd3786\"], [0.5555555555555556, \"#d8576b\"], [0.6666666666666666, \"#ed7953\"], [0.7777777777777778, \"#fb9f3a\"], [0.8888888888888888, \"#fdca26\"], [1.0, \"#f0f921\"]], \"type\": \"heatmap\"}], \"heatmapgl\": [{\"colorbar\": {\"outlinewidth\": 0, \"ticks\": \"\"}, \"colorscale\": [[0.0, \"#0d0887\"], [0.1111111111111111, \"#46039f\"], [0.2222222222222222, \"#7201a8\"], [0.3333333333333333, \"#9c179e\"], [0.4444444444444444, \"#bd3786\"], [0.5555555555555556, \"#d8576b\"], [0.6666666666666666, \"#ed7953\"], [0.7777777777777778, \"#fb9f3a\"], [0.8888888888888888, \"#fdca26\"], [1.0, \"#f0f921\"]], \"type\": \"heatmapgl\"}], \"histogram\": [{\"marker\": {\"colorbar\": {\"outlinewidth\": 0, \"ticks\": \"\"}}, \"type\": \"histogram\"}], \"histogram2d\": [{\"colorbar\": {\"outlinewidth\": 0, \"ticks\": \"\"}, \"colorscale\": [[0.0, \"#0d0887\"], [0.1111111111111111, \"#46039f\"], [0.2222222222222222, \"#7201a8\"], [0.3333333333333333, \"#9c179e\"], [0.4444444444444444, \"#bd3786\"], [0.5555555555555556, \"#d8576b\"], [0.6666666666666666, \"#ed7953\"], [0.7777777777777778, \"#fb9f3a\"], [0.8888888888888888, \"#fdca26\"], [1.0, \"#f0f921\"]], \"type\": \"histogram2d\"}], \"histogram2dcontour\": [{\"colorbar\": {\"outlinewidth\": 0, \"ticks\": \"\"}, \"colorscale\": [[0.0, \"#0d0887\"], [0.1111111111111111, \"#46039f\"], [0.2222222222222222, \"#7201a8\"], [0.3333333333333333, \"#9c179e\"], [0.4444444444444444, \"#bd3786\"], [0.5555555555555556, \"#d8576b\"], [0.6666666666666666, \"#ed7953\"], [0.7777777777777778, \"#fb9f3a\"], [0.8888888888888888, \"#fdca26\"], [1.0, \"#f0f921\"]], \"type\": \"histogram2dcontour\"}], \"mesh3d\": [{\"colorbar\": {\"outlinewidth\": 0, \"ticks\": \"\"}, \"type\": \"mesh3d\"}], \"parcoords\": [{\"line\": {\"colorbar\": {\"outlinewidth\": 0, \"ticks\": \"\"}}, \"type\": \"parcoords\"}], \"pie\": [{\"automargin\": true, \"type\": \"pie\"}], \"scatter\": [{\"marker\": {\"colorbar\": {\"outlinewidth\": 0, \"ticks\": \"\"}}, \"type\": \"scatter\"}], \"scatter3d\": [{\"line\": {\"colorbar\": {\"outlinewidth\": 0, \"ticks\": \"\"}}, \"marker\": {\"colorbar\": {\"outlinewidth\": 0, \"ticks\": \"\"}}, \"type\": \"scatter3d\"}], \"scattercarpet\": [{\"marker\": {\"colorbar\": {\"outlinewidth\": 0, \"ticks\": \"\"}}, \"type\": \"scattercarpet\"}], \"scattergeo\": [{\"marker\": {\"colorbar\": {\"outlinewidth\": 0, \"ticks\": \"\"}}, \"type\": \"scattergeo\"}], \"scattergl\": [{\"marker\": {\"colorbar\": {\"outlinewidth\": 0, \"ticks\": \"\"}}, \"type\": \"scattergl\"}], \"scattermapbox\": [{\"marker\": {\"colorbar\": {\"outlinewidth\": 0, \"ticks\": \"\"}}, \"type\": \"scattermapbox\"}], \"scatterpolar\": [{\"marker\": {\"colorbar\": {\"outlinewidth\": 0, \"ticks\": \"\"}}, \"type\": \"scatterpolar\"}], \"scatterpolargl\": [{\"marker\": {\"colorbar\": {\"outlinewidth\": 0, \"ticks\": \"\"}}, \"type\": \"scatterpolargl\"}], \"scatterternary\": [{\"marker\": {\"colorbar\": {\"outlinewidth\": 0, \"ticks\": \"\"}}, \"type\": \"scatterternary\"}], \"surface\": [{\"colorbar\": {\"outlinewidth\": 0, \"ticks\": \"\"}, \"colorscale\": [[0.0, \"#0d0887\"], [0.1111111111111111, \"#46039f\"], [0.2222222222222222, \"#7201a8\"], [0.3333333333333333, \"#9c179e\"], [0.4444444444444444, \"#bd3786\"], [0.5555555555555556, \"#d8576b\"], [0.6666666666666666, \"#ed7953\"], [0.7777777777777778, \"#fb9f3a\"], [0.8888888888888888, \"#fdca26\"], [1.0, \"#f0f921\"]], \"type\": \"surface\"}], \"table\": [{\"cells\": {\"fill\": {\"color\": \"#EBF0F8\"}, \"line\": {\"color\": \"white\"}}, \"header\": {\"fill\": {\"color\": \"#C8D4E3\"}, \"line\": {\"color\": \"white\"}}, \"type\": \"table\"}]}, \"layout\": {\"annotationdefaults\": {\"arrowcolor\": \"#2a3f5f\", \"arrowhead\": 0, \"arrowwidth\": 1}, \"coloraxis\": {\"colorbar\": {\"outlinewidth\": 0, \"ticks\": \"\"}}, \"colorscale\": {\"diverging\": [[0, \"#8e0152\"], [0.1, \"#c51b7d\"], [0.2, \"#de77ae\"], [0.3, \"#f1b6da\"], [0.4, \"#fde0ef\"], [0.5, \"#f7f7f7\"], [0.6, \"#e6f5d0\"], [0.7, \"#b8e186\"], [0.8, \"#7fbc41\"], [0.9, \"#4d9221\"], [1, \"#276419\"]], \"sequential\": [[0.0, \"#0d0887\"], [0.1111111111111111, \"#46039f\"], [0.2222222222222222, \"#7201a8\"], [0.3333333333333333, \"#9c179e\"], [0.4444444444444444, \"#bd3786\"], [0.5555555555555556, \"#d8576b\"], [0.6666666666666666, \"#ed7953\"], [0.7777777777777778, \"#fb9f3a\"], [0.8888888888888888, \"#fdca26\"], [1.0, \"#f0f921\"]], \"sequentialminus\": [[0.0, \"#0d0887\"], [0.1111111111111111, \"#46039f\"], [0.2222222222222222, \"#7201a8\"], [0.3333333333333333, \"#9c179e\"], [0.4444444444444444, \"#bd3786\"], [0.5555555555555556, \"#d8576b\"], [0.6666666666666666, \"#ed7953\"], [0.7777777777777778, \"#fb9f3a\"], [0.8888888888888888, \"#fdca26\"], [1.0, \"#f0f921\"]]}, \"colorway\": [\"#636efa\", \"#EF553B\", \"#00cc96\", \"#ab63fa\", \"#FFA15A\", \"#19d3f3\", \"#FF6692\", \"#B6E880\", \"#FF97FF\", \"#FECB52\"], \"font\": {\"color\": \"#2a3f5f\"}, \"geo\": {\"bgcolor\": \"white\", \"lakecolor\": \"white\", \"landcolor\": \"#E5ECF6\", \"showlakes\": true, \"showland\": true, \"subunitcolor\": \"white\"}, \"hoverlabel\": {\"align\": \"left\"}, \"hovermode\": \"closest\", \"mapbox\": {\"style\": \"light\"}, \"paper_bgcolor\": \"white\", \"plot_bgcolor\": \"#E5ECF6\", \"polar\": {\"angularaxis\": {\"gridcolor\": \"white\", \"linecolor\": \"white\", \"ticks\": \"\"}, \"bgcolor\": \"#E5ECF6\", \"radialaxis\": {\"gridcolor\": \"white\", \"linecolor\": \"white\", \"ticks\": \"\"}}, \"scene\": {\"xaxis\": {\"backgroundcolor\": \"#E5ECF6\", \"gridcolor\": \"white\", \"gridwidth\": 2, \"linecolor\": \"white\", \"showbackground\": true, \"ticks\": \"\", \"zerolinecolor\": \"white\"}, \"yaxis\": {\"backgroundcolor\": \"#E5ECF6\", \"gridcolor\": \"white\", \"gridwidth\": 2, \"linecolor\": \"white\", \"showbackground\": true, \"ticks\": \"\", \"zerolinecolor\": \"white\"}, \"zaxis\": {\"backgroundcolor\": \"#E5ECF6\", \"gridcolor\": \"white\", \"gridwidth\": 2, \"linecolor\": \"white\", \"showbackground\": true, \"ticks\": \"\", \"zerolinecolor\": \"white\"}}, \"shapedefaults\": {\"line\": {\"color\": \"#2a3f5f\"}}, \"ternary\": {\"aaxis\": {\"gridcolor\": \"white\", \"linecolor\": \"white\", \"ticks\": \"\"}, \"baxis\": {\"gridcolor\": \"white\", \"linecolor\": \"white\", \"ticks\": \"\"}, \"bgcolor\": \"#E5ECF6\", \"caxis\": {\"gridcolor\": \"white\", \"linecolor\": \"white\", \"ticks\": \"\"}}, \"title\": {\"x\": 0.05}, \"xaxis\": {\"automargin\": true, \"gridcolor\": \"white\", \"linecolor\": \"white\", \"ticks\": \"\", \"title\": {\"standoff\": 15}, \"zerolinecolor\": \"white\", \"zerolinewidth\": 2}, \"yaxis\": {\"automargin\": true, \"gridcolor\": \"white\", \"linecolor\": \"white\", \"ticks\": \"\", \"title\": {\"standoff\": 15}, \"zerolinecolor\": \"white\", \"zerolinewidth\": 2}}}, \"title\": {\"font\": {\"color\": \"#4D5663\"}}, \"xaxis\": {\"gridcolor\": \"#E1E5ED\", \"showgrid\": true, \"tickfont\": {\"color\": \"#4D5663\"}, \"title\": {\"font\": {\"color\": \"#4D5663\"}, \"text\": \"\"}, \"zerolinecolor\": \"#E1E5ED\"}, \"yaxis\": {\"gridcolor\": \"#E1E5ED\", \"showgrid\": true, \"tickfont\": {\"color\": \"#4D5663\"}, \"title\": {\"font\": {\"color\": \"#4D5663\"}, \"text\": \"\"}, \"zerolinecolor\": \"#E1E5ED\"}},\n",
       "                        {\"showLink\": true, \"linkText\": \"Export to plot.ly\", \"plotlyServerURL\": \"https://plot.ly\", \"responsive\": true}\n",
       "                    ).then(function(){\n",
       "                            \n",
       "var gd = document.getElementById('ecdaa116-0de1-4ada-8832-bba69667682e');\n",
       "var x = new MutationObserver(function (mutations, observer) {{\n",
       "        var display = window.getComputedStyle(gd).display;\n",
       "        if (!display || display === 'none') {{\n",
       "            console.log([gd, 'removed!']);\n",
       "            Plotly.purge(gd);\n",
       "            observer.disconnect();\n",
       "        }}\n",
       "}});\n",
       "\n",
       "// Listen for the removal of the full notebook cells\n",
       "var notebookContainer = gd.closest('#notebook-container');\n",
       "if (notebookContainer) {{\n",
       "    x.observe(notebookContainer, {childList: true});\n",
       "}}\n",
       "\n",
       "// Listen for the clearing of the current output cell\n",
       "var outputEl = gd.closest('.output');\n",
       "if (outputEl) {{\n",
       "    x.observe(outputEl, {childList: true});\n",
       "}}\n",
       "\n",
       "                        })\n",
       "                };\n",
       "                });\n",
       "            </script>\n",
       "        </div>"
      ]
     },
     "metadata": {},
     "output_type": "display_data"
    }
   ],
   "source": [
    "df2.iplot(kind='bar',x='Category',y='values')"
   ]
  },
  {
   "cell_type": "code",
   "execution_count": 22,
   "metadata": {},
   "outputs": [
    {
     "data": {
      "application/vnd.plotly.v1+json": {
       "config": {
        "linkText": "Export to plot.ly",
        "plotlyServerURL": "https://plot.ly",
        "showLink": true
       },
       "data": [
        {
         "marker": {
          "color": "rgba(255, 153, 51, 0.6)",
          "line": {
           "color": "rgba(255, 153, 51, 1.0)",
           "width": 1
          }
         },
         "name": "None",
         "orientation": "v",
         "text": "",
         "type": "bar",
         "x": [
          "A",
          "B",
          "C",
          "D"
         ],
         "y": [
          100,
          100,
          100,
          100
         ]
        }
       ],
       "layout": {
        "legend": {
         "bgcolor": "#F5F6F9",
         "font": {
          "color": "#4D5663"
         }
        },
        "paper_bgcolor": "#F5F6F9",
        "plot_bgcolor": "#F5F6F9",
        "template": {
         "data": {
          "bar": [
           {
            "error_x": {
             "color": "#2a3f5f"
            },
            "error_y": {
             "color": "#2a3f5f"
            },
            "marker": {
             "line": {
              "color": "#E5ECF6",
              "width": 0.5
             }
            },
            "type": "bar"
           }
          ],
          "barpolar": [
           {
            "marker": {
             "line": {
              "color": "#E5ECF6",
              "width": 0.5
             }
            },
            "type": "barpolar"
           }
          ],
          "carpet": [
           {
            "aaxis": {
             "endlinecolor": "#2a3f5f",
             "gridcolor": "white",
             "linecolor": "white",
             "minorgridcolor": "white",
             "startlinecolor": "#2a3f5f"
            },
            "baxis": {
             "endlinecolor": "#2a3f5f",
             "gridcolor": "white",
             "linecolor": "white",
             "minorgridcolor": "white",
             "startlinecolor": "#2a3f5f"
            },
            "type": "carpet"
           }
          ],
          "choropleth": [
           {
            "colorbar": {
             "outlinewidth": 0,
             "ticks": ""
            },
            "type": "choropleth"
           }
          ],
          "contour": [
           {
            "colorbar": {
             "outlinewidth": 0,
             "ticks": ""
            },
            "colorscale": [
             [
              0,
              "#0d0887"
             ],
             [
              0.1111111111111111,
              "#46039f"
             ],
             [
              0.2222222222222222,
              "#7201a8"
             ],
             [
              0.3333333333333333,
              "#9c179e"
             ],
             [
              0.4444444444444444,
              "#bd3786"
             ],
             [
              0.5555555555555556,
              "#d8576b"
             ],
             [
              0.6666666666666666,
              "#ed7953"
             ],
             [
              0.7777777777777778,
              "#fb9f3a"
             ],
             [
              0.8888888888888888,
              "#fdca26"
             ],
             [
              1,
              "#f0f921"
             ]
            ],
            "type": "contour"
           }
          ],
          "contourcarpet": [
           {
            "colorbar": {
             "outlinewidth": 0,
             "ticks": ""
            },
            "type": "contourcarpet"
           }
          ],
          "heatmap": [
           {
            "colorbar": {
             "outlinewidth": 0,
             "ticks": ""
            },
            "colorscale": [
             [
              0,
              "#0d0887"
             ],
             [
              0.1111111111111111,
              "#46039f"
             ],
             [
              0.2222222222222222,
              "#7201a8"
             ],
             [
              0.3333333333333333,
              "#9c179e"
             ],
             [
              0.4444444444444444,
              "#bd3786"
             ],
             [
              0.5555555555555556,
              "#d8576b"
             ],
             [
              0.6666666666666666,
              "#ed7953"
             ],
             [
              0.7777777777777778,
              "#fb9f3a"
             ],
             [
              0.8888888888888888,
              "#fdca26"
             ],
             [
              1,
              "#f0f921"
             ]
            ],
            "type": "heatmap"
           }
          ],
          "heatmapgl": [
           {
            "colorbar": {
             "outlinewidth": 0,
             "ticks": ""
            },
            "colorscale": [
             [
              0,
              "#0d0887"
             ],
             [
              0.1111111111111111,
              "#46039f"
             ],
             [
              0.2222222222222222,
              "#7201a8"
             ],
             [
              0.3333333333333333,
              "#9c179e"
             ],
             [
              0.4444444444444444,
              "#bd3786"
             ],
             [
              0.5555555555555556,
              "#d8576b"
             ],
             [
              0.6666666666666666,
              "#ed7953"
             ],
             [
              0.7777777777777778,
              "#fb9f3a"
             ],
             [
              0.8888888888888888,
              "#fdca26"
             ],
             [
              1,
              "#f0f921"
             ]
            ],
            "type": "heatmapgl"
           }
          ],
          "histogram": [
           {
            "marker": {
             "colorbar": {
              "outlinewidth": 0,
              "ticks": ""
             }
            },
            "type": "histogram"
           }
          ],
          "histogram2d": [
           {
            "colorbar": {
             "outlinewidth": 0,
             "ticks": ""
            },
            "colorscale": [
             [
              0,
              "#0d0887"
             ],
             [
              0.1111111111111111,
              "#46039f"
             ],
             [
              0.2222222222222222,
              "#7201a8"
             ],
             [
              0.3333333333333333,
              "#9c179e"
             ],
             [
              0.4444444444444444,
              "#bd3786"
             ],
             [
              0.5555555555555556,
              "#d8576b"
             ],
             [
              0.6666666666666666,
              "#ed7953"
             ],
             [
              0.7777777777777778,
              "#fb9f3a"
             ],
             [
              0.8888888888888888,
              "#fdca26"
             ],
             [
              1,
              "#f0f921"
             ]
            ],
            "type": "histogram2d"
           }
          ],
          "histogram2dcontour": [
           {
            "colorbar": {
             "outlinewidth": 0,
             "ticks": ""
            },
            "colorscale": [
             [
              0,
              "#0d0887"
             ],
             [
              0.1111111111111111,
              "#46039f"
             ],
             [
              0.2222222222222222,
              "#7201a8"
             ],
             [
              0.3333333333333333,
              "#9c179e"
             ],
             [
              0.4444444444444444,
              "#bd3786"
             ],
             [
              0.5555555555555556,
              "#d8576b"
             ],
             [
              0.6666666666666666,
              "#ed7953"
             ],
             [
              0.7777777777777778,
              "#fb9f3a"
             ],
             [
              0.8888888888888888,
              "#fdca26"
             ],
             [
              1,
              "#f0f921"
             ]
            ],
            "type": "histogram2dcontour"
           }
          ],
          "mesh3d": [
           {
            "colorbar": {
             "outlinewidth": 0,
             "ticks": ""
            },
            "type": "mesh3d"
           }
          ],
          "parcoords": [
           {
            "line": {
             "colorbar": {
              "outlinewidth": 0,
              "ticks": ""
             }
            },
            "type": "parcoords"
           }
          ],
          "pie": [
           {
            "automargin": true,
            "type": "pie"
           }
          ],
          "scatter": [
           {
            "marker": {
             "colorbar": {
              "outlinewidth": 0,
              "ticks": ""
             }
            },
            "type": "scatter"
           }
          ],
          "scatter3d": [
           {
            "line": {
             "colorbar": {
              "outlinewidth": 0,
              "ticks": ""
             }
            },
            "marker": {
             "colorbar": {
              "outlinewidth": 0,
              "ticks": ""
             }
            },
            "type": "scatter3d"
           }
          ],
          "scattercarpet": [
           {
            "marker": {
             "colorbar": {
              "outlinewidth": 0,
              "ticks": ""
             }
            },
            "type": "scattercarpet"
           }
          ],
          "scattergeo": [
           {
            "marker": {
             "colorbar": {
              "outlinewidth": 0,
              "ticks": ""
             }
            },
            "type": "scattergeo"
           }
          ],
          "scattergl": [
           {
            "marker": {
             "colorbar": {
              "outlinewidth": 0,
              "ticks": ""
             }
            },
            "type": "scattergl"
           }
          ],
          "scattermapbox": [
           {
            "marker": {
             "colorbar": {
              "outlinewidth": 0,
              "ticks": ""
             }
            },
            "type": "scattermapbox"
           }
          ],
          "scatterpolar": [
           {
            "marker": {
             "colorbar": {
              "outlinewidth": 0,
              "ticks": ""
             }
            },
            "type": "scatterpolar"
           }
          ],
          "scatterpolargl": [
           {
            "marker": {
             "colorbar": {
              "outlinewidth": 0,
              "ticks": ""
             }
            },
            "type": "scatterpolargl"
           }
          ],
          "scatterternary": [
           {
            "marker": {
             "colorbar": {
              "outlinewidth": 0,
              "ticks": ""
             }
            },
            "type": "scatterternary"
           }
          ],
          "surface": [
           {
            "colorbar": {
             "outlinewidth": 0,
             "ticks": ""
            },
            "colorscale": [
             [
              0,
              "#0d0887"
             ],
             [
              0.1111111111111111,
              "#46039f"
             ],
             [
              0.2222222222222222,
              "#7201a8"
             ],
             [
              0.3333333333333333,
              "#9c179e"
             ],
             [
              0.4444444444444444,
              "#bd3786"
             ],
             [
              0.5555555555555556,
              "#d8576b"
             ],
             [
              0.6666666666666666,
              "#ed7953"
             ],
             [
              0.7777777777777778,
              "#fb9f3a"
             ],
             [
              0.8888888888888888,
              "#fdca26"
             ],
             [
              1,
              "#f0f921"
             ]
            ],
            "type": "surface"
           }
          ],
          "table": [
           {
            "cells": {
             "fill": {
              "color": "#EBF0F8"
             },
             "line": {
              "color": "white"
             }
            },
            "header": {
             "fill": {
              "color": "#C8D4E3"
             },
             "line": {
              "color": "white"
             }
            },
            "type": "table"
           }
          ]
         },
         "layout": {
          "annotationdefaults": {
           "arrowcolor": "#2a3f5f",
           "arrowhead": 0,
           "arrowwidth": 1
          },
          "coloraxis": {
           "colorbar": {
            "outlinewidth": 0,
            "ticks": ""
           }
          },
          "colorscale": {
           "diverging": [
            [
             0,
             "#8e0152"
            ],
            [
             0.1,
             "#c51b7d"
            ],
            [
             0.2,
             "#de77ae"
            ],
            [
             0.3,
             "#f1b6da"
            ],
            [
             0.4,
             "#fde0ef"
            ],
            [
             0.5,
             "#f7f7f7"
            ],
            [
             0.6,
             "#e6f5d0"
            ],
            [
             0.7,
             "#b8e186"
            ],
            [
             0.8,
             "#7fbc41"
            ],
            [
             0.9,
             "#4d9221"
            ],
            [
             1,
             "#276419"
            ]
           ],
           "sequential": [
            [
             0,
             "#0d0887"
            ],
            [
             0.1111111111111111,
             "#46039f"
            ],
            [
             0.2222222222222222,
             "#7201a8"
            ],
            [
             0.3333333333333333,
             "#9c179e"
            ],
            [
             0.4444444444444444,
             "#bd3786"
            ],
            [
             0.5555555555555556,
             "#d8576b"
            ],
            [
             0.6666666666666666,
             "#ed7953"
            ],
            [
             0.7777777777777778,
             "#fb9f3a"
            ],
            [
             0.8888888888888888,
             "#fdca26"
            ],
            [
             1,
             "#f0f921"
            ]
           ],
           "sequentialminus": [
            [
             0,
             "#0d0887"
            ],
            [
             0.1111111111111111,
             "#46039f"
            ],
            [
             0.2222222222222222,
             "#7201a8"
            ],
            [
             0.3333333333333333,
             "#9c179e"
            ],
            [
             0.4444444444444444,
             "#bd3786"
            ],
            [
             0.5555555555555556,
             "#d8576b"
            ],
            [
             0.6666666666666666,
             "#ed7953"
            ],
            [
             0.7777777777777778,
             "#fb9f3a"
            ],
            [
             0.8888888888888888,
             "#fdca26"
            ],
            [
             1,
             "#f0f921"
            ]
           ]
          },
          "colorway": [
           "#636efa",
           "#EF553B",
           "#00cc96",
           "#ab63fa",
           "#FFA15A",
           "#19d3f3",
           "#FF6692",
           "#B6E880",
           "#FF97FF",
           "#FECB52"
          ],
          "font": {
           "color": "#2a3f5f"
          },
          "geo": {
           "bgcolor": "white",
           "lakecolor": "white",
           "landcolor": "#E5ECF6",
           "showlakes": true,
           "showland": true,
           "subunitcolor": "white"
          },
          "hoverlabel": {
           "align": "left"
          },
          "hovermode": "closest",
          "mapbox": {
           "style": "light"
          },
          "paper_bgcolor": "white",
          "plot_bgcolor": "#E5ECF6",
          "polar": {
           "angularaxis": {
            "gridcolor": "white",
            "linecolor": "white",
            "ticks": ""
           },
           "bgcolor": "#E5ECF6",
           "radialaxis": {
            "gridcolor": "white",
            "linecolor": "white",
            "ticks": ""
           }
          },
          "scene": {
           "xaxis": {
            "backgroundcolor": "#E5ECF6",
            "gridcolor": "white",
            "gridwidth": 2,
            "linecolor": "white",
            "showbackground": true,
            "ticks": "",
            "zerolinecolor": "white"
           },
           "yaxis": {
            "backgroundcolor": "#E5ECF6",
            "gridcolor": "white",
            "gridwidth": 2,
            "linecolor": "white",
            "showbackground": true,
            "ticks": "",
            "zerolinecolor": "white"
           },
           "zaxis": {
            "backgroundcolor": "#E5ECF6",
            "gridcolor": "white",
            "gridwidth": 2,
            "linecolor": "white",
            "showbackground": true,
            "ticks": "",
            "zerolinecolor": "white"
           }
          },
          "shapedefaults": {
           "line": {
            "color": "#2a3f5f"
           }
          },
          "ternary": {
           "aaxis": {
            "gridcolor": "white",
            "linecolor": "white",
            "ticks": ""
           },
           "baxis": {
            "gridcolor": "white",
            "linecolor": "white",
            "ticks": ""
           },
           "bgcolor": "#E5ECF6",
           "caxis": {
            "gridcolor": "white",
            "linecolor": "white",
            "ticks": ""
           }
          },
          "title": {
           "x": 0.05
          },
          "xaxis": {
           "automargin": true,
           "gridcolor": "white",
           "linecolor": "white",
           "ticks": "",
           "title": {
            "standoff": 15
           },
           "zerolinecolor": "white",
           "zerolinewidth": 2
          },
          "yaxis": {
           "automargin": true,
           "gridcolor": "white",
           "linecolor": "white",
           "ticks": "",
           "title": {
            "standoff": 15
           },
           "zerolinecolor": "white",
           "zerolinewidth": 2
          }
         }
        },
        "title": {
         "font": {
          "color": "#4D5663"
         }
        },
        "xaxis": {
         "gridcolor": "#E1E5ED",
         "showgrid": true,
         "tickfont": {
          "color": "#4D5663"
         },
         "title": {
          "font": {
           "color": "#4D5663"
          },
          "text": ""
         },
         "zerolinecolor": "#E1E5ED"
        },
        "yaxis": {
         "gridcolor": "#E1E5ED",
         "showgrid": true,
         "tickfont": {
          "color": "#4D5663"
         },
         "title": {
          "font": {
           "color": "#4D5663"
          },
          "text": ""
         },
         "zerolinecolor": "#E1E5ED"
        }
       }
      },
      "text/html": [
       "<div>\n",
       "        \n",
       "        \n",
       "            <div id=\"1d3247c6-2b14-4d82-b6fc-31df2a35c104\" class=\"plotly-graph-div\" style=\"height:525px; width:100%;\"></div>\n",
       "            <script type=\"text/javascript\">\n",
       "                require([\"plotly\"], function(Plotly) {\n",
       "                    window.PLOTLYENV=window.PLOTLYENV || {};\n",
       "                    window.PLOTLYENV.BASE_URL='https://plot.ly';\n",
       "                    \n",
       "                if (document.getElementById(\"1d3247c6-2b14-4d82-b6fc-31df2a35c104\")) {\n",
       "                    Plotly.newPlot(\n",
       "                        '1d3247c6-2b14-4d82-b6fc-31df2a35c104',\n",
       "                        [{\"marker\": {\"color\": \"rgba(255, 153, 51, 0.6)\", \"line\": {\"color\": \"rgba(255, 153, 51, 1.0)\", \"width\": 1}}, \"name\": \"None\", \"orientation\": \"v\", \"text\": \"\", \"type\": \"bar\", \"x\": [\"A\", \"B\", \"C\", \"D\"], \"y\": [100, 100, 100, 100]}],\n",
       "                        {\"legend\": {\"bgcolor\": \"#F5F6F9\", \"font\": {\"color\": \"#4D5663\"}}, \"paper_bgcolor\": \"#F5F6F9\", \"plot_bgcolor\": \"#F5F6F9\", \"template\": {\"data\": {\"bar\": [{\"error_x\": {\"color\": \"#2a3f5f\"}, \"error_y\": {\"color\": \"#2a3f5f\"}, \"marker\": {\"line\": {\"color\": \"#E5ECF6\", \"width\": 0.5}}, \"type\": \"bar\"}], \"barpolar\": [{\"marker\": {\"line\": {\"color\": \"#E5ECF6\", \"width\": 0.5}}, \"type\": \"barpolar\"}], \"carpet\": [{\"aaxis\": {\"endlinecolor\": \"#2a3f5f\", \"gridcolor\": \"white\", \"linecolor\": \"white\", \"minorgridcolor\": \"white\", \"startlinecolor\": \"#2a3f5f\"}, \"baxis\": {\"endlinecolor\": \"#2a3f5f\", \"gridcolor\": \"white\", \"linecolor\": \"white\", \"minorgridcolor\": \"white\", \"startlinecolor\": \"#2a3f5f\"}, \"type\": \"carpet\"}], \"choropleth\": [{\"colorbar\": {\"outlinewidth\": 0, \"ticks\": \"\"}, \"type\": \"choropleth\"}], \"contour\": [{\"colorbar\": {\"outlinewidth\": 0, \"ticks\": \"\"}, \"colorscale\": [[0.0, \"#0d0887\"], [0.1111111111111111, \"#46039f\"], [0.2222222222222222, \"#7201a8\"], [0.3333333333333333, \"#9c179e\"], [0.4444444444444444, \"#bd3786\"], [0.5555555555555556, \"#d8576b\"], [0.6666666666666666, \"#ed7953\"], [0.7777777777777778, \"#fb9f3a\"], [0.8888888888888888, \"#fdca26\"], [1.0, \"#f0f921\"]], \"type\": \"contour\"}], \"contourcarpet\": [{\"colorbar\": {\"outlinewidth\": 0, \"ticks\": \"\"}, \"type\": \"contourcarpet\"}], \"heatmap\": [{\"colorbar\": {\"outlinewidth\": 0, \"ticks\": \"\"}, \"colorscale\": [[0.0, \"#0d0887\"], [0.1111111111111111, \"#46039f\"], [0.2222222222222222, \"#7201a8\"], [0.3333333333333333, \"#9c179e\"], [0.4444444444444444, \"#bd3786\"], [0.5555555555555556, \"#d8576b\"], [0.6666666666666666, \"#ed7953\"], [0.7777777777777778, \"#fb9f3a\"], [0.8888888888888888, \"#fdca26\"], [1.0, \"#f0f921\"]], \"type\": \"heatmap\"}], \"heatmapgl\": [{\"colorbar\": {\"outlinewidth\": 0, \"ticks\": \"\"}, \"colorscale\": [[0.0, \"#0d0887\"], [0.1111111111111111, \"#46039f\"], [0.2222222222222222, \"#7201a8\"], [0.3333333333333333, \"#9c179e\"], [0.4444444444444444, \"#bd3786\"], [0.5555555555555556, \"#d8576b\"], [0.6666666666666666, \"#ed7953\"], [0.7777777777777778, \"#fb9f3a\"], [0.8888888888888888, \"#fdca26\"], [1.0, \"#f0f921\"]], \"type\": \"heatmapgl\"}], \"histogram\": [{\"marker\": {\"colorbar\": {\"outlinewidth\": 0, \"ticks\": \"\"}}, \"type\": \"histogram\"}], \"histogram2d\": [{\"colorbar\": {\"outlinewidth\": 0, \"ticks\": \"\"}, \"colorscale\": [[0.0, \"#0d0887\"], [0.1111111111111111, \"#46039f\"], [0.2222222222222222, \"#7201a8\"], [0.3333333333333333, \"#9c179e\"], [0.4444444444444444, \"#bd3786\"], [0.5555555555555556, \"#d8576b\"], [0.6666666666666666, \"#ed7953\"], [0.7777777777777778, \"#fb9f3a\"], [0.8888888888888888, \"#fdca26\"], [1.0, \"#f0f921\"]], \"type\": \"histogram2d\"}], \"histogram2dcontour\": [{\"colorbar\": {\"outlinewidth\": 0, \"ticks\": \"\"}, \"colorscale\": [[0.0, \"#0d0887\"], [0.1111111111111111, \"#46039f\"], [0.2222222222222222, \"#7201a8\"], [0.3333333333333333, \"#9c179e\"], [0.4444444444444444, \"#bd3786\"], [0.5555555555555556, \"#d8576b\"], [0.6666666666666666, \"#ed7953\"], [0.7777777777777778, \"#fb9f3a\"], [0.8888888888888888, \"#fdca26\"], [1.0, \"#f0f921\"]], \"type\": \"histogram2dcontour\"}], \"mesh3d\": [{\"colorbar\": {\"outlinewidth\": 0, \"ticks\": \"\"}, \"type\": \"mesh3d\"}], \"parcoords\": [{\"line\": {\"colorbar\": {\"outlinewidth\": 0, \"ticks\": \"\"}}, \"type\": \"parcoords\"}], \"pie\": [{\"automargin\": true, \"type\": \"pie\"}], \"scatter\": [{\"marker\": {\"colorbar\": {\"outlinewidth\": 0, \"ticks\": \"\"}}, \"type\": \"scatter\"}], \"scatter3d\": [{\"line\": {\"colorbar\": {\"outlinewidth\": 0, \"ticks\": \"\"}}, \"marker\": {\"colorbar\": {\"outlinewidth\": 0, \"ticks\": \"\"}}, \"type\": \"scatter3d\"}], \"scattercarpet\": [{\"marker\": {\"colorbar\": {\"outlinewidth\": 0, \"ticks\": \"\"}}, \"type\": \"scattercarpet\"}], \"scattergeo\": [{\"marker\": {\"colorbar\": {\"outlinewidth\": 0, \"ticks\": \"\"}}, \"type\": \"scattergeo\"}], \"scattergl\": [{\"marker\": {\"colorbar\": {\"outlinewidth\": 0, \"ticks\": \"\"}}, \"type\": \"scattergl\"}], \"scattermapbox\": [{\"marker\": {\"colorbar\": {\"outlinewidth\": 0, \"ticks\": \"\"}}, \"type\": \"scattermapbox\"}], \"scatterpolar\": [{\"marker\": {\"colorbar\": {\"outlinewidth\": 0, \"ticks\": \"\"}}, \"type\": \"scatterpolar\"}], \"scatterpolargl\": [{\"marker\": {\"colorbar\": {\"outlinewidth\": 0, \"ticks\": \"\"}}, \"type\": \"scatterpolargl\"}], \"scatterternary\": [{\"marker\": {\"colorbar\": {\"outlinewidth\": 0, \"ticks\": \"\"}}, \"type\": \"scatterternary\"}], \"surface\": [{\"colorbar\": {\"outlinewidth\": 0, \"ticks\": \"\"}, \"colorscale\": [[0.0, \"#0d0887\"], [0.1111111111111111, \"#46039f\"], [0.2222222222222222, \"#7201a8\"], [0.3333333333333333, \"#9c179e\"], [0.4444444444444444, \"#bd3786\"], [0.5555555555555556, \"#d8576b\"], [0.6666666666666666, \"#ed7953\"], [0.7777777777777778, \"#fb9f3a\"], [0.8888888888888888, \"#fdca26\"], [1.0, \"#f0f921\"]], \"type\": \"surface\"}], \"table\": [{\"cells\": {\"fill\": {\"color\": \"#EBF0F8\"}, \"line\": {\"color\": \"white\"}}, \"header\": {\"fill\": {\"color\": \"#C8D4E3\"}, \"line\": {\"color\": \"white\"}}, \"type\": \"table\"}]}, \"layout\": {\"annotationdefaults\": {\"arrowcolor\": \"#2a3f5f\", \"arrowhead\": 0, \"arrowwidth\": 1}, \"coloraxis\": {\"colorbar\": {\"outlinewidth\": 0, \"ticks\": \"\"}}, \"colorscale\": {\"diverging\": [[0, \"#8e0152\"], [0.1, \"#c51b7d\"], [0.2, \"#de77ae\"], [0.3, \"#f1b6da\"], [0.4, \"#fde0ef\"], [0.5, \"#f7f7f7\"], [0.6, \"#e6f5d0\"], [0.7, \"#b8e186\"], [0.8, \"#7fbc41\"], [0.9, \"#4d9221\"], [1, \"#276419\"]], \"sequential\": [[0.0, \"#0d0887\"], [0.1111111111111111, \"#46039f\"], [0.2222222222222222, \"#7201a8\"], [0.3333333333333333, \"#9c179e\"], [0.4444444444444444, \"#bd3786\"], [0.5555555555555556, \"#d8576b\"], [0.6666666666666666, \"#ed7953\"], [0.7777777777777778, \"#fb9f3a\"], [0.8888888888888888, \"#fdca26\"], [1.0, \"#f0f921\"]], \"sequentialminus\": [[0.0, \"#0d0887\"], [0.1111111111111111, \"#46039f\"], [0.2222222222222222, \"#7201a8\"], [0.3333333333333333, \"#9c179e\"], [0.4444444444444444, \"#bd3786\"], [0.5555555555555556, \"#d8576b\"], [0.6666666666666666, \"#ed7953\"], [0.7777777777777778, \"#fb9f3a\"], [0.8888888888888888, \"#fdca26\"], [1.0, \"#f0f921\"]]}, \"colorway\": [\"#636efa\", \"#EF553B\", \"#00cc96\", \"#ab63fa\", \"#FFA15A\", \"#19d3f3\", \"#FF6692\", \"#B6E880\", \"#FF97FF\", \"#FECB52\"], \"font\": {\"color\": \"#2a3f5f\"}, \"geo\": {\"bgcolor\": \"white\", \"lakecolor\": \"white\", \"landcolor\": \"#E5ECF6\", \"showlakes\": true, \"showland\": true, \"subunitcolor\": \"white\"}, \"hoverlabel\": {\"align\": \"left\"}, \"hovermode\": \"closest\", \"mapbox\": {\"style\": \"light\"}, \"paper_bgcolor\": \"white\", \"plot_bgcolor\": \"#E5ECF6\", \"polar\": {\"angularaxis\": {\"gridcolor\": \"white\", \"linecolor\": \"white\", \"ticks\": \"\"}, \"bgcolor\": \"#E5ECF6\", \"radialaxis\": {\"gridcolor\": \"white\", \"linecolor\": \"white\", \"ticks\": \"\"}}, \"scene\": {\"xaxis\": {\"backgroundcolor\": \"#E5ECF6\", \"gridcolor\": \"white\", \"gridwidth\": 2, \"linecolor\": \"white\", \"showbackground\": true, \"ticks\": \"\", \"zerolinecolor\": \"white\"}, \"yaxis\": {\"backgroundcolor\": \"#E5ECF6\", \"gridcolor\": \"white\", \"gridwidth\": 2, \"linecolor\": \"white\", \"showbackground\": true, \"ticks\": \"\", \"zerolinecolor\": \"white\"}, \"zaxis\": {\"backgroundcolor\": \"#E5ECF6\", \"gridcolor\": \"white\", \"gridwidth\": 2, \"linecolor\": \"white\", \"showbackground\": true, \"ticks\": \"\", \"zerolinecolor\": \"white\"}}, \"shapedefaults\": {\"line\": {\"color\": \"#2a3f5f\"}}, \"ternary\": {\"aaxis\": {\"gridcolor\": \"white\", \"linecolor\": \"white\", \"ticks\": \"\"}, \"baxis\": {\"gridcolor\": \"white\", \"linecolor\": \"white\", \"ticks\": \"\"}, \"bgcolor\": \"#E5ECF6\", \"caxis\": {\"gridcolor\": \"white\", \"linecolor\": \"white\", \"ticks\": \"\"}}, \"title\": {\"x\": 0.05}, \"xaxis\": {\"automargin\": true, \"gridcolor\": \"white\", \"linecolor\": \"white\", \"ticks\": \"\", \"title\": {\"standoff\": 15}, \"zerolinecolor\": \"white\", \"zerolinewidth\": 2}, \"yaxis\": {\"automargin\": true, \"gridcolor\": \"white\", \"linecolor\": \"white\", \"ticks\": \"\", \"title\": {\"standoff\": 15}, \"zerolinecolor\": \"white\", \"zerolinewidth\": 2}}}, \"title\": {\"font\": {\"color\": \"#4D5663\"}}, \"xaxis\": {\"gridcolor\": \"#E1E5ED\", \"showgrid\": true, \"tickfont\": {\"color\": \"#4D5663\"}, \"title\": {\"font\": {\"color\": \"#4D5663\"}, \"text\": \"\"}, \"zerolinecolor\": \"#E1E5ED\"}, \"yaxis\": {\"gridcolor\": \"#E1E5ED\", \"showgrid\": true, \"tickfont\": {\"color\": \"#4D5663\"}, \"title\": {\"font\": {\"color\": \"#4D5663\"}, \"text\": \"\"}, \"zerolinecolor\": \"#E1E5ED\"}},\n",
       "                        {\"showLink\": true, \"linkText\": \"Export to plot.ly\", \"plotlyServerURL\": \"https://plot.ly\", \"responsive\": true}\n",
       "                    ).then(function(){\n",
       "                            \n",
       "var gd = document.getElementById('1d3247c6-2b14-4d82-b6fc-31df2a35c104');\n",
       "var x = new MutationObserver(function (mutations, observer) {{\n",
       "        var display = window.getComputedStyle(gd).display;\n",
       "        if (!display || display === 'none') {{\n",
       "            console.log([gd, 'removed!']);\n",
       "            Plotly.purge(gd);\n",
       "            observer.disconnect();\n",
       "        }}\n",
       "}});\n",
       "\n",
       "// Listen for the removal of the full notebook cells\n",
       "var notebookContainer = gd.closest('#notebook-container');\n",
       "if (notebookContainer) {{\n",
       "    x.observe(notebookContainer, {childList: true});\n",
       "}}\n",
       "\n",
       "// Listen for the clearing of the current output cell\n",
       "var outputEl = gd.closest('.output');\n",
       "if (outputEl) {{\n",
       "    x.observe(outputEl, {childList: true});\n",
       "}}\n",
       "\n",
       "                        })\n",
       "                };\n",
       "                });\n",
       "            </script>\n",
       "        </div>"
      ]
     },
     "metadata": {},
     "output_type": "display_data"
    }
   ],
   "source": [
    "df.count().iplot(kind='bar')"
   ]
  },
  {
   "cell_type": "code",
   "execution_count": 23,
   "metadata": {},
   "outputs": [
    {
     "data": {
      "application/vnd.plotly.v1+json": {
       "config": {
        "linkText": "Export to plot.ly",
        "plotlyServerURL": "https://plot.ly",
        "showLink": true
       },
       "data": [
        {
         "boxpoints": false,
         "line": {
          "width": 1.3
         },
         "marker": {
          "color": "rgba(255, 153, 51, 1.0)"
         },
         "name": "A",
         "orientation": "v",
         "type": "box",
         "y": [
          1.5023563012055845,
          0.4087626388893659,
          1.5993197844213576,
          -0.5215118809744652,
          1.5681236600191981,
          0.7468356261210932,
          -0.749310641952968,
          0.1159935148313741,
          0.22045916587711767,
          -0.4550011729283677,
          0.8563933097341867,
          -2.066795909564812,
          -0.38285290167817404,
          0.01900787684381683,
          -0.12630271810268817,
          0.5680388021904351,
          1.14854911597069,
          0.6436069259066923,
          0.13859935383240438,
          -0.4956911855443848,
          0.4836194286327407,
          -1.2764417035087179,
          -0.5398190900873907,
          0.5796992019373896,
          -0.6037038043213754,
          0.7253532286953808,
          0.6834182495980821,
          -2.8845872018457897,
          1.0233482449319187,
          -2.552401535794378,
          2.3124239629877583,
          -0.8127401942686726,
          -0.23445084013367548,
          -0.6759192578683721,
          -2.5062077810487255,
          -1.2244355783037433,
          0.6694110332929116,
          -0.0034276115223639343,
          0.03204469823716342,
          -0.648084262291826,
          2.5628246207053778,
          0.9000009050597508,
          0.7517099499732545,
          1.2007637923291639,
          -1.9465668851371996,
          -2.413766407744819,
          -0.05082089573082934,
          1.207415735066595,
          -0.3835094510702304,
          0.5221421859827696,
          -0.5248958874051288,
          0.24619873930310585,
          0.5677610344566094,
          -0.4866092245561927,
          -0.7416586364234559,
          0.24855280589543127,
          1.2144044039988526,
          -0.14093054717060302,
          0.2963349236939744,
          -0.4291217100089392,
          1.1491732439347566,
          -0.5216591508755286,
          1.31822530500963,
          -0.47105727955537935,
          -0.40446633360902595,
          2.1459042895302747,
          0.6334555504966481,
          0.4176419554202106,
          -1.0273773683227392,
          1.1263431197506402,
          0.10469582241142089,
          -0.5906651009155758,
          -0.45518656697518617,
          1.3026059396663974,
          0.7571755070928892,
          0.10743952906925054,
          2.0706685836531564,
          0.5559870929964155,
          2.380054547983395,
          -0.39070598757151437,
          1.16309570735863,
          0.53168218102069,
          0.5568769817666138,
          0.39298936796065026,
          0.7338227726831591,
          0.5032917926801018,
          -0.5716134754818609,
          1.286383898901556,
          0.025648738117446,
          0.5157472248880189,
          -0.5104493617558568,
          -0.4733753767654713,
          0.36745876642344916,
          1.3072126283906071,
          0.35925235054705673,
          0.3793647207507,
          -0.21779341066885025,
          -0.5505938066317233,
          -0.5936228067274162,
          -0.18854451853239493
         ]
        },
        {
         "boxpoints": false,
         "line": {
          "width": 1.3
         },
         "marker": {
          "color": "rgba(55, 128, 191, 1.0)"
         },
         "name": "B",
         "orientation": "v",
         "type": "box",
         "y": [
          -0.1412993310039659,
          0.11155348249657292,
          1.7453199674605695,
          -0.814399733552155,
          0.6214554653204177,
          -0.8935622081683393,
          0.7423908327196167,
          0.08876231792153962,
          0.40884368254280434,
          1.5231546429751541,
          -0.5038028339596781,
          1.277663239880953,
          1.9315664231705278,
          1.2882374316313956,
          -0.814476238152969,
          -2.0472988868964954,
          -1.1619809357848054,
          -0.6020708574357105,
          -0.4172171560670958,
          0.5656423397142257,
          -0.4422039548072374,
          1.6173040675324941,
          0.6934044898267794,
          -0.4948009086882394,
          -0.7040470246206365,
          -1.9134367284968632,
          0.7383244841914276,
          -1.1883843708189352,
          0.30363915459858953,
          0.2776451954473241,
          -0.7165225765471165,
          1.0077314628934022,
          -0.4603279365194043,
          0.38373042738479957,
          -0.518952600073326,
          -1.4636786992458364,
          0.7476083884716154,
          0.31237621371744645,
          1.1441291559955,
          -0.13738132300664588,
          0.2917094591812687,
          -0.5435138932574668,
          -0.09764547059440395,
          -0.8543035432170192,
          -1.694606999440116,
          0.6872321801985894,
          -0.3105771583046316,
          -0.14628769666578054,
          -1.2645444232569238,
          1.3221177881297856,
          -0.06864973864910799,
          0.5369862529725257,
          0.20434322894119525,
          0.9269791155272793,
          -0.10772717371906558,
          0.6636624429782333,
          -1.1341086710570782,
          0.7112881367396519,
          -0.24585306295182344,
          2.7491305879931875,
          -0.9081798223062961,
          -0.9157857216788398,
          -0.008619830977527013,
          0.4968473874841331,
          -0.5343255676597688,
          0.2855137060759064,
          0.6117559359156879,
          -2.446379280416086,
          0.33071812904434594,
          -1.071280221455606,
          0.685618779079314,
          1.4672553004235602,
          -0.3727388594504119,
          -0.09291567551181286,
          -0.34523412406140225,
          -0.05274550962737803,
          0.04654323576000232,
          0.2916776854652369,
          0.963598536755656,
          0.4654431727575727,
          0.19669889726716824,
          -0.7242027558405483,
          -0.7113448412421286,
          -0.21696242004052127,
          -0.6539765540211312,
          -1.9236864401903981,
          1.0149705541185587,
          1.0646071027030528,
          -0.9559870634609606,
          0.46215740722226095,
          -0.5700862496512421,
          0.5363637562177255,
          -1.0839231569328327,
          0.5562315410374225,
          -0.7832219667339138,
          0.4841939952459761,
          -2.3192789416549995,
          -1.4624996532320187,
          -0.31539742955163974,
          0.07762935312683132
         ]
        },
        {
         "boxpoints": false,
         "line": {
          "width": 1.3
         },
         "marker": {
          "color": "rgba(50, 171, 96, 1.0)"
         },
         "name": "C",
         "orientation": "v",
         "type": "box",
         "y": [
          0.4060127339438663,
          -0.7982496783697365,
          1.123601971839627,
          0.4058048602297246,
          0.2745561016720758,
          0.027475844105220772,
          -0.22383021302281453,
          -0.39387936056102335,
          0.46958773686681554,
          1.0318532728612242,
          -0.24670914055786855,
          -0.6158092236253605,
          0.3357316529625056,
          0.33549334879556586,
          -0.3420057984448994,
          -0.5729067470502307,
          0.944555988637591,
          1.6466709364637417,
          -0.6046253611903157,
          1.1164169657669007,
          -0.20836647515525453,
          -0.3251835589694398,
          -1.2223825639379888,
          0.9111127533544581,
          0.7714510155383001,
          -0.11910029332390273,
          0.6925253498084671,
          0.761678498587015,
          -0.21122116515593753,
          -1.8911317407454065,
          -0.6477421966041468,
          1.746998679272337,
          -1.7771617442088992,
          0.6549085009105307,
          1.4788993264746322,
          -0.5627472212555263,
          -0.9117802943654789,
          -0.044173489311235214,
          0.7799243277831824,
          -0.009326740102037481,
          -0.7202522194882793,
          -0.7240445885164354,
          0.49987218845528786,
          -0.19517962211662349,
          0.012250267699824213,
          -0.22559392376468862,
          -0.4808350357460893,
          -0.8198241736310934,
          0.19911254148027172,
          0.5290633506851798,
          0.2526330126879686,
          -0.9212198132849635,
          1.330206416841273,
          -1.3646681089815724,
          -0.8176747165637754,
          0.8453057646843333,
          -0.4028552804000192,
          -2.060148639010836,
          0.5812027839577867,
          0.11052420643035013,
          0.41282004544314155,
          -0.14089989297248323,
          1.45061283483238,
          0.18831388859592682,
          -1.1439882648437452,
          -1.1849927000093727,
          1.2413796077745642,
          -0.5577161325566812,
          -0.61933102563376,
          -1.037967425542334,
          -1.1119068495937685,
          -0.34404925965830496,
          -1.5708253521732911,
          -0.1744878934567653,
          -0.6375590559920541,
          -1.5414458738716459,
          0.919868277100258,
          1.0490659600613328,
          0.08470892651567892,
          -1.1117047344287596,
          0.07203519479416232,
          0.006055862150619064,
          1.2245168625491816,
          0.3591325369860431,
          -0.014752796925019226,
          0.9663004218908801,
          0.6340307723650775,
          1.1679323322976998,
          -0.8019974364914285,
          2.009899707838478,
          1.351686235098478,
          -0.16357633038026712,
          1.0467381976205765,
          -0.9884777911500046,
          -1.179242961599606,
          0.19637991258516102,
          0.02752192332194667,
          -0.4772929189208354,
          -1.2072566311627462,
          0.28531937373349664
         ]
        },
        {
         "boxpoints": false,
         "line": {
          "width": 1.3
         },
         "marker": {
          "color": "rgba(128, 0, 128, 1.0)"
         },
         "name": "D",
         "orientation": "v",
         "type": "box",
         "y": [
          -1.384133836883895,
          1.6279036565882115,
          -0.9299821435910816,
          0.35486494817093983,
          1.6290606005838537,
          0.8653327008822459,
          0.15013252944094518,
          0.28971818542358885,
          -0.6452317482474019,
          1.3151329392327118,
          -0.4601930499485809,
          0.01796751366341419,
          -0.2863077986587903,
          0.7221752593929269,
          1.1438494986725094,
          1.704750899635022,
          2.0255558584427145,
          0.4869696515487609,
          -0.7753590689761756,
          0.5894599802215743,
          -0.5099209544243769,
          0.971142453454226,
          1.4135296149222607,
          0.46368222120546493,
          -0.2099110424911986,
          0.8555892169194312,
          -0.8666033652100801,
          -0.2306133820653981,
          1.9089544676825587,
          0.48126067046847626,
          -0.6815478231682852,
          -0.7012394354255265,
          -0.4047358182565961,
          -1.0906657672931215,
          -0.5310813760482439,
          -1.1553728557319203,
          2.1544499479595145,
          0.21019983690878644,
          0.11648620825479883,
          -0.6736364979743092,
          0.43450673915401905,
          -0.98897228814661,
          -0.5665651061675469,
          1.6754808091110636,
          0.22626422636394813,
          0.07919047376157638,
          0.47646469707111916,
          0.314116725600217,
          1.0625187131973928,
          -0.2287637563650373,
          -0.08284518464672441,
          -0.8301973110501326,
          -0.4028005160347876,
          0.24672132353258178,
          0.15450240306366955,
          -0.8804013772595688,
          -0.7580135896092738,
          -1.7051536353409653,
          1.0626662974393108,
          0.2526824633221683,
          0.8340379444053333,
          0.14124629647157924,
          -0.49243382012914344,
          -0.9599076627068123,
          0.7149885906661986,
          0.4750175942064842,
          -0.5873964713638485,
          1.6930034548000927,
          -0.09315530497266254,
          0.710403964378997,
          -1.1932154200104725,
          -1.0562238516298499,
          -0.2690924803512119,
          0.49758681226637225,
          -1.0773982877105088,
          0.07911034291757471,
          -0.39902453071887745,
          1.0700856351960735,
          -1.057358139564738,
          0.37533863810957413,
          -2.84037344606979,
          -0.7091852096155062,
          -0.9566975881638045,
          0.35100423287660615,
          -1.4217070977134791,
          0.4182186974869994,
          0.15184097974894464,
          0.013448617348159643,
          0.3125613854661278,
          1.514216766439221,
          1.3523238006848513,
          -0.24663932645882697,
          1.0446188476433422,
          -0.8035903583066685,
          -0.8232789379519444,
          0.28646918218662437,
          -0.4371347569536695,
          -0.3411639230662988,
          -1.0645835371189294,
          0.7317930121637225
         ]
        }
       ],
       "layout": {
        "legend": {
         "bgcolor": "#F5F6F9",
         "font": {
          "color": "#4D5663"
         }
        },
        "paper_bgcolor": "#F5F6F9",
        "plot_bgcolor": "#F5F6F9",
        "template": {
         "data": {
          "bar": [
           {
            "error_x": {
             "color": "#2a3f5f"
            },
            "error_y": {
             "color": "#2a3f5f"
            },
            "marker": {
             "line": {
              "color": "#E5ECF6",
              "width": 0.5
             }
            },
            "type": "bar"
           }
          ],
          "barpolar": [
           {
            "marker": {
             "line": {
              "color": "#E5ECF6",
              "width": 0.5
             }
            },
            "type": "barpolar"
           }
          ],
          "carpet": [
           {
            "aaxis": {
             "endlinecolor": "#2a3f5f",
             "gridcolor": "white",
             "linecolor": "white",
             "minorgridcolor": "white",
             "startlinecolor": "#2a3f5f"
            },
            "baxis": {
             "endlinecolor": "#2a3f5f",
             "gridcolor": "white",
             "linecolor": "white",
             "minorgridcolor": "white",
             "startlinecolor": "#2a3f5f"
            },
            "type": "carpet"
           }
          ],
          "choropleth": [
           {
            "colorbar": {
             "outlinewidth": 0,
             "ticks": ""
            },
            "type": "choropleth"
           }
          ],
          "contour": [
           {
            "colorbar": {
             "outlinewidth": 0,
             "ticks": ""
            },
            "colorscale": [
             [
              0,
              "#0d0887"
             ],
             [
              0.1111111111111111,
              "#46039f"
             ],
             [
              0.2222222222222222,
              "#7201a8"
             ],
             [
              0.3333333333333333,
              "#9c179e"
             ],
             [
              0.4444444444444444,
              "#bd3786"
             ],
             [
              0.5555555555555556,
              "#d8576b"
             ],
             [
              0.6666666666666666,
              "#ed7953"
             ],
             [
              0.7777777777777778,
              "#fb9f3a"
             ],
             [
              0.8888888888888888,
              "#fdca26"
             ],
             [
              1,
              "#f0f921"
             ]
            ],
            "type": "contour"
           }
          ],
          "contourcarpet": [
           {
            "colorbar": {
             "outlinewidth": 0,
             "ticks": ""
            },
            "type": "contourcarpet"
           }
          ],
          "heatmap": [
           {
            "colorbar": {
             "outlinewidth": 0,
             "ticks": ""
            },
            "colorscale": [
             [
              0,
              "#0d0887"
             ],
             [
              0.1111111111111111,
              "#46039f"
             ],
             [
              0.2222222222222222,
              "#7201a8"
             ],
             [
              0.3333333333333333,
              "#9c179e"
             ],
             [
              0.4444444444444444,
              "#bd3786"
             ],
             [
              0.5555555555555556,
              "#d8576b"
             ],
             [
              0.6666666666666666,
              "#ed7953"
             ],
             [
              0.7777777777777778,
              "#fb9f3a"
             ],
             [
              0.8888888888888888,
              "#fdca26"
             ],
             [
              1,
              "#f0f921"
             ]
            ],
            "type": "heatmap"
           }
          ],
          "heatmapgl": [
           {
            "colorbar": {
             "outlinewidth": 0,
             "ticks": ""
            },
            "colorscale": [
             [
              0,
              "#0d0887"
             ],
             [
              0.1111111111111111,
              "#46039f"
             ],
             [
              0.2222222222222222,
              "#7201a8"
             ],
             [
              0.3333333333333333,
              "#9c179e"
             ],
             [
              0.4444444444444444,
              "#bd3786"
             ],
             [
              0.5555555555555556,
              "#d8576b"
             ],
             [
              0.6666666666666666,
              "#ed7953"
             ],
             [
              0.7777777777777778,
              "#fb9f3a"
             ],
             [
              0.8888888888888888,
              "#fdca26"
             ],
             [
              1,
              "#f0f921"
             ]
            ],
            "type": "heatmapgl"
           }
          ],
          "histogram": [
           {
            "marker": {
             "colorbar": {
              "outlinewidth": 0,
              "ticks": ""
             }
            },
            "type": "histogram"
           }
          ],
          "histogram2d": [
           {
            "colorbar": {
             "outlinewidth": 0,
             "ticks": ""
            },
            "colorscale": [
             [
              0,
              "#0d0887"
             ],
             [
              0.1111111111111111,
              "#46039f"
             ],
             [
              0.2222222222222222,
              "#7201a8"
             ],
             [
              0.3333333333333333,
              "#9c179e"
             ],
             [
              0.4444444444444444,
              "#bd3786"
             ],
             [
              0.5555555555555556,
              "#d8576b"
             ],
             [
              0.6666666666666666,
              "#ed7953"
             ],
             [
              0.7777777777777778,
              "#fb9f3a"
             ],
             [
              0.8888888888888888,
              "#fdca26"
             ],
             [
              1,
              "#f0f921"
             ]
            ],
            "type": "histogram2d"
           }
          ],
          "histogram2dcontour": [
           {
            "colorbar": {
             "outlinewidth": 0,
             "ticks": ""
            },
            "colorscale": [
             [
              0,
              "#0d0887"
             ],
             [
              0.1111111111111111,
              "#46039f"
             ],
             [
              0.2222222222222222,
              "#7201a8"
             ],
             [
              0.3333333333333333,
              "#9c179e"
             ],
             [
              0.4444444444444444,
              "#bd3786"
             ],
             [
              0.5555555555555556,
              "#d8576b"
             ],
             [
              0.6666666666666666,
              "#ed7953"
             ],
             [
              0.7777777777777778,
              "#fb9f3a"
             ],
             [
              0.8888888888888888,
              "#fdca26"
             ],
             [
              1,
              "#f0f921"
             ]
            ],
            "type": "histogram2dcontour"
           }
          ],
          "mesh3d": [
           {
            "colorbar": {
             "outlinewidth": 0,
             "ticks": ""
            },
            "type": "mesh3d"
           }
          ],
          "parcoords": [
           {
            "line": {
             "colorbar": {
              "outlinewidth": 0,
              "ticks": ""
             }
            },
            "type": "parcoords"
           }
          ],
          "pie": [
           {
            "automargin": true,
            "type": "pie"
           }
          ],
          "scatter": [
           {
            "marker": {
             "colorbar": {
              "outlinewidth": 0,
              "ticks": ""
             }
            },
            "type": "scatter"
           }
          ],
          "scatter3d": [
           {
            "line": {
             "colorbar": {
              "outlinewidth": 0,
              "ticks": ""
             }
            },
            "marker": {
             "colorbar": {
              "outlinewidth": 0,
              "ticks": ""
             }
            },
            "type": "scatter3d"
           }
          ],
          "scattercarpet": [
           {
            "marker": {
             "colorbar": {
              "outlinewidth": 0,
              "ticks": ""
             }
            },
            "type": "scattercarpet"
           }
          ],
          "scattergeo": [
           {
            "marker": {
             "colorbar": {
              "outlinewidth": 0,
              "ticks": ""
             }
            },
            "type": "scattergeo"
           }
          ],
          "scattergl": [
           {
            "marker": {
             "colorbar": {
              "outlinewidth": 0,
              "ticks": ""
             }
            },
            "type": "scattergl"
           }
          ],
          "scattermapbox": [
           {
            "marker": {
             "colorbar": {
              "outlinewidth": 0,
              "ticks": ""
             }
            },
            "type": "scattermapbox"
           }
          ],
          "scatterpolar": [
           {
            "marker": {
             "colorbar": {
              "outlinewidth": 0,
              "ticks": ""
             }
            },
            "type": "scatterpolar"
           }
          ],
          "scatterpolargl": [
           {
            "marker": {
             "colorbar": {
              "outlinewidth": 0,
              "ticks": ""
             }
            },
            "type": "scatterpolargl"
           }
          ],
          "scatterternary": [
           {
            "marker": {
             "colorbar": {
              "outlinewidth": 0,
              "ticks": ""
             }
            },
            "type": "scatterternary"
           }
          ],
          "surface": [
           {
            "colorbar": {
             "outlinewidth": 0,
             "ticks": ""
            },
            "colorscale": [
             [
              0,
              "#0d0887"
             ],
             [
              0.1111111111111111,
              "#46039f"
             ],
             [
              0.2222222222222222,
              "#7201a8"
             ],
             [
              0.3333333333333333,
              "#9c179e"
             ],
             [
              0.4444444444444444,
              "#bd3786"
             ],
             [
              0.5555555555555556,
              "#d8576b"
             ],
             [
              0.6666666666666666,
              "#ed7953"
             ],
             [
              0.7777777777777778,
              "#fb9f3a"
             ],
             [
              0.8888888888888888,
              "#fdca26"
             ],
             [
              1,
              "#f0f921"
             ]
            ],
            "type": "surface"
           }
          ],
          "table": [
           {
            "cells": {
             "fill": {
              "color": "#EBF0F8"
             },
             "line": {
              "color": "white"
             }
            },
            "header": {
             "fill": {
              "color": "#C8D4E3"
             },
             "line": {
              "color": "white"
             }
            },
            "type": "table"
           }
          ]
         },
         "layout": {
          "annotationdefaults": {
           "arrowcolor": "#2a3f5f",
           "arrowhead": 0,
           "arrowwidth": 1
          },
          "coloraxis": {
           "colorbar": {
            "outlinewidth": 0,
            "ticks": ""
           }
          },
          "colorscale": {
           "diverging": [
            [
             0,
             "#8e0152"
            ],
            [
             0.1,
             "#c51b7d"
            ],
            [
             0.2,
             "#de77ae"
            ],
            [
             0.3,
             "#f1b6da"
            ],
            [
             0.4,
             "#fde0ef"
            ],
            [
             0.5,
             "#f7f7f7"
            ],
            [
             0.6,
             "#e6f5d0"
            ],
            [
             0.7,
             "#b8e186"
            ],
            [
             0.8,
             "#7fbc41"
            ],
            [
             0.9,
             "#4d9221"
            ],
            [
             1,
             "#276419"
            ]
           ],
           "sequential": [
            [
             0,
             "#0d0887"
            ],
            [
             0.1111111111111111,
             "#46039f"
            ],
            [
             0.2222222222222222,
             "#7201a8"
            ],
            [
             0.3333333333333333,
             "#9c179e"
            ],
            [
             0.4444444444444444,
             "#bd3786"
            ],
            [
             0.5555555555555556,
             "#d8576b"
            ],
            [
             0.6666666666666666,
             "#ed7953"
            ],
            [
             0.7777777777777778,
             "#fb9f3a"
            ],
            [
             0.8888888888888888,
             "#fdca26"
            ],
            [
             1,
             "#f0f921"
            ]
           ],
           "sequentialminus": [
            [
             0,
             "#0d0887"
            ],
            [
             0.1111111111111111,
             "#46039f"
            ],
            [
             0.2222222222222222,
             "#7201a8"
            ],
            [
             0.3333333333333333,
             "#9c179e"
            ],
            [
             0.4444444444444444,
             "#bd3786"
            ],
            [
             0.5555555555555556,
             "#d8576b"
            ],
            [
             0.6666666666666666,
             "#ed7953"
            ],
            [
             0.7777777777777778,
             "#fb9f3a"
            ],
            [
             0.8888888888888888,
             "#fdca26"
            ],
            [
             1,
             "#f0f921"
            ]
           ]
          },
          "colorway": [
           "#636efa",
           "#EF553B",
           "#00cc96",
           "#ab63fa",
           "#FFA15A",
           "#19d3f3",
           "#FF6692",
           "#B6E880",
           "#FF97FF",
           "#FECB52"
          ],
          "font": {
           "color": "#2a3f5f"
          },
          "geo": {
           "bgcolor": "white",
           "lakecolor": "white",
           "landcolor": "#E5ECF6",
           "showlakes": true,
           "showland": true,
           "subunitcolor": "white"
          },
          "hoverlabel": {
           "align": "left"
          },
          "hovermode": "closest",
          "mapbox": {
           "style": "light"
          },
          "paper_bgcolor": "white",
          "plot_bgcolor": "#E5ECF6",
          "polar": {
           "angularaxis": {
            "gridcolor": "white",
            "linecolor": "white",
            "ticks": ""
           },
           "bgcolor": "#E5ECF6",
           "radialaxis": {
            "gridcolor": "white",
            "linecolor": "white",
            "ticks": ""
           }
          },
          "scene": {
           "xaxis": {
            "backgroundcolor": "#E5ECF6",
            "gridcolor": "white",
            "gridwidth": 2,
            "linecolor": "white",
            "showbackground": true,
            "ticks": "",
            "zerolinecolor": "white"
           },
           "yaxis": {
            "backgroundcolor": "#E5ECF6",
            "gridcolor": "white",
            "gridwidth": 2,
            "linecolor": "white",
            "showbackground": true,
            "ticks": "",
            "zerolinecolor": "white"
           },
           "zaxis": {
            "backgroundcolor": "#E5ECF6",
            "gridcolor": "white",
            "gridwidth": 2,
            "linecolor": "white",
            "showbackground": true,
            "ticks": "",
            "zerolinecolor": "white"
           }
          },
          "shapedefaults": {
           "line": {
            "color": "#2a3f5f"
           }
          },
          "ternary": {
           "aaxis": {
            "gridcolor": "white",
            "linecolor": "white",
            "ticks": ""
           },
           "baxis": {
            "gridcolor": "white",
            "linecolor": "white",
            "ticks": ""
           },
           "bgcolor": "#E5ECF6",
           "caxis": {
            "gridcolor": "white",
            "linecolor": "white",
            "ticks": ""
           }
          },
          "title": {
           "x": 0.05
          },
          "xaxis": {
           "automargin": true,
           "gridcolor": "white",
           "linecolor": "white",
           "ticks": "",
           "title": {
            "standoff": 15
           },
           "zerolinecolor": "white",
           "zerolinewidth": 2
          },
          "yaxis": {
           "automargin": true,
           "gridcolor": "white",
           "linecolor": "white",
           "ticks": "",
           "title": {
            "standoff": 15
           },
           "zerolinecolor": "white",
           "zerolinewidth": 2
          }
         }
        },
        "title": {
         "font": {
          "color": "#4D5663"
         }
        },
        "xaxis": {
         "gridcolor": "#E1E5ED",
         "showgrid": true,
         "tickfont": {
          "color": "#4D5663"
         },
         "title": {
          "font": {
           "color": "#4D5663"
          },
          "text": ""
         },
         "zerolinecolor": "#E1E5ED"
        },
        "yaxis": {
         "gridcolor": "#E1E5ED",
         "showgrid": true,
         "tickfont": {
          "color": "#4D5663"
         },
         "title": {
          "font": {
           "color": "#4D5663"
          },
          "text": ""
         },
         "zerolinecolor": "#E1E5ED"
        }
       }
      },
      "text/html": [
       "<div>\n",
       "        \n",
       "        \n",
       "            <div id=\"662dfc07-b2d2-41a8-b32b-8ffe4f5a4605\" class=\"plotly-graph-div\" style=\"height:525px; width:100%;\"></div>\n",
       "            <script type=\"text/javascript\">\n",
       "                require([\"plotly\"], function(Plotly) {\n",
       "                    window.PLOTLYENV=window.PLOTLYENV || {};\n",
       "                    window.PLOTLYENV.BASE_URL='https://plot.ly';\n",
       "                    \n",
       "                if (document.getElementById(\"662dfc07-b2d2-41a8-b32b-8ffe4f5a4605\")) {\n",
       "                    Plotly.newPlot(\n",
       "                        '662dfc07-b2d2-41a8-b32b-8ffe4f5a4605',\n",
       "                        [{\"boxpoints\": false, \"line\": {\"width\": 1.3}, \"marker\": {\"color\": \"rgba(255, 153, 51, 1.0)\"}, \"name\": \"A\", \"orientation\": \"v\", \"type\": \"box\", \"y\": [1.5023563012055845, 0.4087626388893659, 1.5993197844213576, -0.5215118809744652, 1.5681236600191981, 0.7468356261210932, -0.749310641952968, 0.1159935148313741, 0.22045916587711767, -0.4550011729283677, 0.8563933097341867, -2.066795909564812, -0.38285290167817404, 0.01900787684381683, -0.12630271810268817, 0.5680388021904351, 1.14854911597069, 0.6436069259066923, 0.13859935383240438, -0.4956911855443848, 0.4836194286327407, -1.2764417035087179, -0.5398190900873907, 0.5796992019373896, -0.6037038043213754, 0.7253532286953808, 0.6834182495980821, -2.8845872018457897, 1.0233482449319187, -2.552401535794378, 2.3124239629877583, -0.8127401942686726, -0.23445084013367548, -0.6759192578683721, -2.5062077810487255, -1.2244355783037433, 0.6694110332929116, -0.0034276115223639343, 0.03204469823716342, -0.648084262291826, 2.5628246207053778, 0.9000009050597508, 0.7517099499732545, 1.2007637923291639, -1.9465668851371996, -2.413766407744819, -0.05082089573082934, 1.207415735066595, -0.3835094510702304, 0.5221421859827696, -0.5248958874051288, 0.24619873930310585, 0.5677610344566094, -0.4866092245561927, -0.7416586364234559, 0.24855280589543127, 1.2144044039988526, -0.14093054717060302, 0.2963349236939744, -0.4291217100089392, 1.1491732439347566, -0.5216591508755286, 1.31822530500963, -0.47105727955537935, -0.40446633360902595, 2.1459042895302747, 0.6334555504966481, 0.4176419554202106, -1.0273773683227392, 1.1263431197506402, 0.10469582241142089, -0.5906651009155758, -0.45518656697518617, 1.3026059396663974, 0.7571755070928892, 0.10743952906925054, 2.0706685836531564, 0.5559870929964155, 2.380054547983395, -0.39070598757151437, 1.16309570735863, 0.53168218102069, 0.5568769817666138, 0.39298936796065026, 0.7338227726831591, 0.5032917926801018, -0.5716134754818609, 1.286383898901556, 0.025648738117446, 0.5157472248880189, -0.5104493617558568, -0.4733753767654713, 0.36745876642344916, 1.3072126283906071, 0.35925235054705673, 0.3793647207507, -0.21779341066885025, -0.5505938066317233, -0.5936228067274162, -0.18854451853239493]}, {\"boxpoints\": false, \"line\": {\"width\": 1.3}, \"marker\": {\"color\": \"rgba(55, 128, 191, 1.0)\"}, \"name\": \"B\", \"orientation\": \"v\", \"type\": \"box\", \"y\": [-0.1412993310039659, 0.11155348249657292, 1.7453199674605695, -0.814399733552155, 0.6214554653204177, -0.8935622081683393, 0.7423908327196167, 0.08876231792153962, 0.40884368254280434, 1.5231546429751541, -0.5038028339596781, 1.277663239880953, 1.9315664231705278, 1.2882374316313956, -0.814476238152969, -2.0472988868964954, -1.1619809357848054, -0.6020708574357105, -0.4172171560670958, 0.5656423397142257, -0.4422039548072374, 1.6173040675324941, 0.6934044898267794, -0.4948009086882394, -0.7040470246206365, -1.9134367284968632, 0.7383244841914276, -1.1883843708189352, 0.30363915459858953, 0.2776451954473241, -0.7165225765471165, 1.0077314628934022, -0.4603279365194043, 0.38373042738479957, -0.518952600073326, -1.4636786992458364, 0.7476083884716154, 0.31237621371744645, 1.1441291559955, -0.13738132300664588, 0.2917094591812687, -0.5435138932574668, -0.09764547059440395, -0.8543035432170192, -1.694606999440116, 0.6872321801985894, -0.3105771583046316, -0.14628769666578054, -1.2645444232569238, 1.3221177881297856, -0.06864973864910799, 0.5369862529725257, 0.20434322894119525, 0.9269791155272793, -0.10772717371906558, 0.6636624429782333, -1.1341086710570782, 0.7112881367396519, -0.24585306295182344, 2.7491305879931875, -0.9081798223062961, -0.9157857216788398, -0.008619830977527013, 0.4968473874841331, -0.5343255676597688, 0.2855137060759064, 0.6117559359156879, -2.446379280416086, 0.33071812904434594, -1.071280221455606, 0.685618779079314, 1.4672553004235602, -0.3727388594504119, -0.09291567551181286, -0.34523412406140225, -0.05274550962737803, 0.04654323576000232, 0.2916776854652369, 0.963598536755656, 0.4654431727575727, 0.19669889726716824, -0.7242027558405483, -0.7113448412421286, -0.21696242004052127, -0.6539765540211312, -1.9236864401903981, 1.0149705541185587, 1.0646071027030528, -0.9559870634609606, 0.46215740722226095, -0.5700862496512421, 0.5363637562177255, -1.0839231569328327, 0.5562315410374225, -0.7832219667339138, 0.4841939952459761, -2.3192789416549995, -1.4624996532320187, -0.31539742955163974, 0.07762935312683132]}, {\"boxpoints\": false, \"line\": {\"width\": 1.3}, \"marker\": {\"color\": \"rgba(50, 171, 96, 1.0)\"}, \"name\": \"C\", \"orientation\": \"v\", \"type\": \"box\", \"y\": [0.4060127339438663, -0.7982496783697365, 1.123601971839627, 0.4058048602297246, 0.2745561016720758, 0.027475844105220772, -0.22383021302281453, -0.39387936056102335, 0.46958773686681554, 1.0318532728612242, -0.24670914055786855, -0.6158092236253605, 0.3357316529625056, 0.33549334879556586, -0.3420057984448994, -0.5729067470502307, 0.944555988637591, 1.6466709364637417, -0.6046253611903157, 1.1164169657669007, -0.20836647515525453, -0.3251835589694398, -1.2223825639379888, 0.9111127533544581, 0.7714510155383001, -0.11910029332390273, 0.6925253498084671, 0.761678498587015, -0.21122116515593753, -1.8911317407454065, -0.6477421966041468, 1.746998679272337, -1.7771617442088992, 0.6549085009105307, 1.4788993264746322, -0.5627472212555263, -0.9117802943654789, -0.044173489311235214, 0.7799243277831824, -0.009326740102037481, -0.7202522194882793, -0.7240445885164354, 0.49987218845528786, -0.19517962211662349, 0.012250267699824213, -0.22559392376468862, -0.4808350357460893, -0.8198241736310934, 0.19911254148027172, 0.5290633506851798, 0.2526330126879686, -0.9212198132849635, 1.330206416841273, -1.3646681089815724, -0.8176747165637754, 0.8453057646843333, -0.4028552804000192, -2.060148639010836, 0.5812027839577867, 0.11052420643035013, 0.41282004544314155, -0.14089989297248323, 1.45061283483238, 0.18831388859592682, -1.1439882648437452, -1.1849927000093727, 1.2413796077745642, -0.5577161325566812, -0.61933102563376, -1.037967425542334, -1.1119068495937685, -0.34404925965830496, -1.5708253521732911, -0.1744878934567653, -0.6375590559920541, -1.5414458738716459, 0.919868277100258, 1.0490659600613328, 0.08470892651567892, -1.1117047344287596, 0.07203519479416232, 0.006055862150619064, 1.2245168625491816, 0.3591325369860431, -0.014752796925019226, 0.9663004218908801, 0.6340307723650775, 1.1679323322976998, -0.8019974364914285, 2.009899707838478, 1.351686235098478, -0.16357633038026712, 1.0467381976205765, -0.9884777911500046, -1.179242961599606, 0.19637991258516102, 0.02752192332194667, -0.4772929189208354, -1.2072566311627462, 0.28531937373349664]}, {\"boxpoints\": false, \"line\": {\"width\": 1.3}, \"marker\": {\"color\": \"rgba(128, 0, 128, 1.0)\"}, \"name\": \"D\", \"orientation\": \"v\", \"type\": \"box\", \"y\": [-1.384133836883895, 1.6279036565882115, -0.9299821435910816, 0.35486494817093983, 1.6290606005838537, 0.8653327008822459, 0.15013252944094518, 0.28971818542358885, -0.6452317482474019, 1.3151329392327118, -0.4601930499485809, 0.01796751366341419, -0.2863077986587903, 0.7221752593929269, 1.1438494986725094, 1.704750899635022, 2.0255558584427145, 0.4869696515487609, -0.7753590689761756, 0.5894599802215743, -0.5099209544243769, 0.971142453454226, 1.4135296149222607, 0.46368222120546493, -0.2099110424911986, 0.8555892169194312, -0.8666033652100801, -0.2306133820653981, 1.9089544676825587, 0.48126067046847626, -0.6815478231682852, -0.7012394354255265, -0.4047358182565961, -1.0906657672931215, -0.5310813760482439, -1.1553728557319203, 2.1544499479595145, 0.21019983690878644, 0.11648620825479883, -0.6736364979743092, 0.43450673915401905, -0.98897228814661, -0.5665651061675469, 1.6754808091110636, 0.22626422636394813, 0.07919047376157638, 0.47646469707111916, 0.314116725600217, 1.0625187131973928, -0.2287637563650373, -0.08284518464672441, -0.8301973110501326, -0.4028005160347876, 0.24672132353258178, 0.15450240306366955, -0.8804013772595688, -0.7580135896092738, -1.7051536353409653, 1.0626662974393108, 0.2526824633221683, 0.8340379444053333, 0.14124629647157924, -0.49243382012914344, -0.9599076627068123, 0.7149885906661986, 0.4750175942064842, -0.5873964713638485, 1.6930034548000927, -0.09315530497266254, 0.710403964378997, -1.1932154200104725, -1.0562238516298499, -0.2690924803512119, 0.49758681226637225, -1.0773982877105088, 0.07911034291757471, -0.39902453071887745, 1.0700856351960735, -1.057358139564738, 0.37533863810957413, -2.84037344606979, -0.7091852096155062, -0.9566975881638045, 0.35100423287660615, -1.4217070977134791, 0.4182186974869994, 0.15184097974894464, 0.013448617348159643, 0.3125613854661278, 1.514216766439221, 1.3523238006848513, -0.24663932645882697, 1.0446188476433422, -0.8035903583066685, -0.8232789379519444, 0.28646918218662437, -0.4371347569536695, -0.3411639230662988, -1.0645835371189294, 0.7317930121637225]}],\n",
       "                        {\"legend\": {\"bgcolor\": \"#F5F6F9\", \"font\": {\"color\": \"#4D5663\"}}, \"paper_bgcolor\": \"#F5F6F9\", \"plot_bgcolor\": \"#F5F6F9\", \"template\": {\"data\": {\"bar\": [{\"error_x\": {\"color\": \"#2a3f5f\"}, \"error_y\": {\"color\": \"#2a3f5f\"}, \"marker\": {\"line\": {\"color\": \"#E5ECF6\", \"width\": 0.5}}, \"type\": \"bar\"}], \"barpolar\": [{\"marker\": {\"line\": {\"color\": \"#E5ECF6\", \"width\": 0.5}}, \"type\": \"barpolar\"}], \"carpet\": [{\"aaxis\": {\"endlinecolor\": \"#2a3f5f\", \"gridcolor\": \"white\", \"linecolor\": \"white\", \"minorgridcolor\": \"white\", \"startlinecolor\": \"#2a3f5f\"}, \"baxis\": {\"endlinecolor\": \"#2a3f5f\", \"gridcolor\": \"white\", \"linecolor\": \"white\", \"minorgridcolor\": \"white\", \"startlinecolor\": \"#2a3f5f\"}, \"type\": \"carpet\"}], \"choropleth\": [{\"colorbar\": {\"outlinewidth\": 0, \"ticks\": \"\"}, \"type\": \"choropleth\"}], \"contour\": [{\"colorbar\": {\"outlinewidth\": 0, \"ticks\": \"\"}, \"colorscale\": [[0.0, \"#0d0887\"], [0.1111111111111111, \"#46039f\"], [0.2222222222222222, \"#7201a8\"], [0.3333333333333333, \"#9c179e\"], [0.4444444444444444, \"#bd3786\"], [0.5555555555555556, \"#d8576b\"], [0.6666666666666666, \"#ed7953\"], [0.7777777777777778, \"#fb9f3a\"], [0.8888888888888888, \"#fdca26\"], [1.0, \"#f0f921\"]], \"type\": \"contour\"}], \"contourcarpet\": [{\"colorbar\": {\"outlinewidth\": 0, \"ticks\": \"\"}, \"type\": \"contourcarpet\"}], \"heatmap\": [{\"colorbar\": {\"outlinewidth\": 0, \"ticks\": \"\"}, \"colorscale\": [[0.0, \"#0d0887\"], [0.1111111111111111, \"#46039f\"], [0.2222222222222222, \"#7201a8\"], [0.3333333333333333, \"#9c179e\"], [0.4444444444444444, \"#bd3786\"], [0.5555555555555556, \"#d8576b\"], [0.6666666666666666, \"#ed7953\"], [0.7777777777777778, \"#fb9f3a\"], [0.8888888888888888, \"#fdca26\"], [1.0, \"#f0f921\"]], \"type\": \"heatmap\"}], \"heatmapgl\": [{\"colorbar\": {\"outlinewidth\": 0, \"ticks\": \"\"}, \"colorscale\": [[0.0, \"#0d0887\"], [0.1111111111111111, \"#46039f\"], [0.2222222222222222, \"#7201a8\"], [0.3333333333333333, \"#9c179e\"], [0.4444444444444444, \"#bd3786\"], [0.5555555555555556, \"#d8576b\"], [0.6666666666666666, \"#ed7953\"], [0.7777777777777778, \"#fb9f3a\"], [0.8888888888888888, \"#fdca26\"], [1.0, \"#f0f921\"]], \"type\": \"heatmapgl\"}], \"histogram\": [{\"marker\": {\"colorbar\": {\"outlinewidth\": 0, \"ticks\": \"\"}}, \"type\": \"histogram\"}], \"histogram2d\": [{\"colorbar\": {\"outlinewidth\": 0, \"ticks\": \"\"}, \"colorscale\": [[0.0, \"#0d0887\"], [0.1111111111111111, \"#46039f\"], [0.2222222222222222, \"#7201a8\"], [0.3333333333333333, \"#9c179e\"], [0.4444444444444444, \"#bd3786\"], [0.5555555555555556, \"#d8576b\"], [0.6666666666666666, \"#ed7953\"], [0.7777777777777778, \"#fb9f3a\"], [0.8888888888888888, \"#fdca26\"], [1.0, \"#f0f921\"]], \"type\": \"histogram2d\"}], \"histogram2dcontour\": [{\"colorbar\": {\"outlinewidth\": 0, \"ticks\": \"\"}, \"colorscale\": [[0.0, \"#0d0887\"], [0.1111111111111111, \"#46039f\"], [0.2222222222222222, \"#7201a8\"], [0.3333333333333333, \"#9c179e\"], [0.4444444444444444, \"#bd3786\"], [0.5555555555555556, \"#d8576b\"], [0.6666666666666666, \"#ed7953\"], [0.7777777777777778, \"#fb9f3a\"], [0.8888888888888888, \"#fdca26\"], [1.0, \"#f0f921\"]], \"type\": \"histogram2dcontour\"}], \"mesh3d\": [{\"colorbar\": {\"outlinewidth\": 0, \"ticks\": \"\"}, \"type\": \"mesh3d\"}], \"parcoords\": [{\"line\": {\"colorbar\": {\"outlinewidth\": 0, \"ticks\": \"\"}}, \"type\": \"parcoords\"}], \"pie\": [{\"automargin\": true, \"type\": \"pie\"}], \"scatter\": [{\"marker\": {\"colorbar\": {\"outlinewidth\": 0, \"ticks\": \"\"}}, \"type\": \"scatter\"}], \"scatter3d\": [{\"line\": {\"colorbar\": {\"outlinewidth\": 0, \"ticks\": \"\"}}, \"marker\": {\"colorbar\": {\"outlinewidth\": 0, \"ticks\": \"\"}}, \"type\": \"scatter3d\"}], \"scattercarpet\": [{\"marker\": {\"colorbar\": {\"outlinewidth\": 0, \"ticks\": \"\"}}, \"type\": \"scattercarpet\"}], \"scattergeo\": [{\"marker\": {\"colorbar\": {\"outlinewidth\": 0, \"ticks\": \"\"}}, \"type\": \"scattergeo\"}], \"scattergl\": [{\"marker\": {\"colorbar\": {\"outlinewidth\": 0, \"ticks\": \"\"}}, \"type\": \"scattergl\"}], \"scattermapbox\": [{\"marker\": {\"colorbar\": {\"outlinewidth\": 0, \"ticks\": \"\"}}, \"type\": \"scattermapbox\"}], \"scatterpolar\": [{\"marker\": {\"colorbar\": {\"outlinewidth\": 0, \"ticks\": \"\"}}, \"type\": \"scatterpolar\"}], \"scatterpolargl\": [{\"marker\": {\"colorbar\": {\"outlinewidth\": 0, \"ticks\": \"\"}}, \"type\": \"scatterpolargl\"}], \"scatterternary\": [{\"marker\": {\"colorbar\": {\"outlinewidth\": 0, \"ticks\": \"\"}}, \"type\": \"scatterternary\"}], \"surface\": [{\"colorbar\": {\"outlinewidth\": 0, \"ticks\": \"\"}, \"colorscale\": [[0.0, \"#0d0887\"], [0.1111111111111111, \"#46039f\"], [0.2222222222222222, \"#7201a8\"], [0.3333333333333333, \"#9c179e\"], [0.4444444444444444, \"#bd3786\"], [0.5555555555555556, \"#d8576b\"], [0.6666666666666666, \"#ed7953\"], [0.7777777777777778, \"#fb9f3a\"], [0.8888888888888888, \"#fdca26\"], [1.0, \"#f0f921\"]], \"type\": \"surface\"}], \"table\": [{\"cells\": {\"fill\": {\"color\": \"#EBF0F8\"}, \"line\": {\"color\": \"white\"}}, \"header\": {\"fill\": {\"color\": \"#C8D4E3\"}, \"line\": {\"color\": \"white\"}}, \"type\": \"table\"}]}, \"layout\": {\"annotationdefaults\": {\"arrowcolor\": \"#2a3f5f\", \"arrowhead\": 0, \"arrowwidth\": 1}, \"coloraxis\": {\"colorbar\": {\"outlinewidth\": 0, \"ticks\": \"\"}}, \"colorscale\": {\"diverging\": [[0, \"#8e0152\"], [0.1, \"#c51b7d\"], [0.2, \"#de77ae\"], [0.3, \"#f1b6da\"], [0.4, \"#fde0ef\"], [0.5, \"#f7f7f7\"], [0.6, \"#e6f5d0\"], [0.7, \"#b8e186\"], [0.8, \"#7fbc41\"], [0.9, \"#4d9221\"], [1, \"#276419\"]], \"sequential\": [[0.0, \"#0d0887\"], [0.1111111111111111, \"#46039f\"], [0.2222222222222222, \"#7201a8\"], [0.3333333333333333, \"#9c179e\"], [0.4444444444444444, \"#bd3786\"], [0.5555555555555556, \"#d8576b\"], [0.6666666666666666, \"#ed7953\"], [0.7777777777777778, \"#fb9f3a\"], [0.8888888888888888, \"#fdca26\"], [1.0, \"#f0f921\"]], \"sequentialminus\": [[0.0, \"#0d0887\"], [0.1111111111111111, \"#46039f\"], [0.2222222222222222, \"#7201a8\"], [0.3333333333333333, \"#9c179e\"], [0.4444444444444444, \"#bd3786\"], [0.5555555555555556, \"#d8576b\"], [0.6666666666666666, \"#ed7953\"], [0.7777777777777778, \"#fb9f3a\"], [0.8888888888888888, \"#fdca26\"], [1.0, \"#f0f921\"]]}, \"colorway\": [\"#636efa\", \"#EF553B\", \"#00cc96\", \"#ab63fa\", \"#FFA15A\", \"#19d3f3\", \"#FF6692\", \"#B6E880\", \"#FF97FF\", \"#FECB52\"], \"font\": {\"color\": \"#2a3f5f\"}, \"geo\": {\"bgcolor\": \"white\", \"lakecolor\": \"white\", \"landcolor\": \"#E5ECF6\", \"showlakes\": true, \"showland\": true, \"subunitcolor\": \"white\"}, \"hoverlabel\": {\"align\": \"left\"}, \"hovermode\": \"closest\", \"mapbox\": {\"style\": \"light\"}, \"paper_bgcolor\": \"white\", \"plot_bgcolor\": \"#E5ECF6\", \"polar\": {\"angularaxis\": {\"gridcolor\": \"white\", \"linecolor\": \"white\", \"ticks\": \"\"}, \"bgcolor\": \"#E5ECF6\", \"radialaxis\": {\"gridcolor\": \"white\", \"linecolor\": \"white\", \"ticks\": \"\"}}, \"scene\": {\"xaxis\": {\"backgroundcolor\": \"#E5ECF6\", \"gridcolor\": \"white\", \"gridwidth\": 2, \"linecolor\": \"white\", \"showbackground\": true, \"ticks\": \"\", \"zerolinecolor\": \"white\"}, \"yaxis\": {\"backgroundcolor\": \"#E5ECF6\", \"gridcolor\": \"white\", \"gridwidth\": 2, \"linecolor\": \"white\", \"showbackground\": true, \"ticks\": \"\", \"zerolinecolor\": \"white\"}, \"zaxis\": {\"backgroundcolor\": \"#E5ECF6\", \"gridcolor\": \"white\", \"gridwidth\": 2, \"linecolor\": \"white\", \"showbackground\": true, \"ticks\": \"\", \"zerolinecolor\": \"white\"}}, \"shapedefaults\": {\"line\": {\"color\": \"#2a3f5f\"}}, \"ternary\": {\"aaxis\": {\"gridcolor\": \"white\", \"linecolor\": \"white\", \"ticks\": \"\"}, \"baxis\": {\"gridcolor\": \"white\", \"linecolor\": \"white\", \"ticks\": \"\"}, \"bgcolor\": \"#E5ECF6\", \"caxis\": {\"gridcolor\": \"white\", \"linecolor\": \"white\", \"ticks\": \"\"}}, \"title\": {\"x\": 0.05}, \"xaxis\": {\"automargin\": true, \"gridcolor\": \"white\", \"linecolor\": \"white\", \"ticks\": \"\", \"title\": {\"standoff\": 15}, \"zerolinecolor\": \"white\", \"zerolinewidth\": 2}, \"yaxis\": {\"automargin\": true, \"gridcolor\": \"white\", \"linecolor\": \"white\", \"ticks\": \"\", \"title\": {\"standoff\": 15}, \"zerolinecolor\": \"white\", \"zerolinewidth\": 2}}}, \"title\": {\"font\": {\"color\": \"#4D5663\"}}, \"xaxis\": {\"gridcolor\": \"#E1E5ED\", \"showgrid\": true, \"tickfont\": {\"color\": \"#4D5663\"}, \"title\": {\"font\": {\"color\": \"#4D5663\"}, \"text\": \"\"}, \"zerolinecolor\": \"#E1E5ED\"}, \"yaxis\": {\"gridcolor\": \"#E1E5ED\", \"showgrid\": true, \"tickfont\": {\"color\": \"#4D5663\"}, \"title\": {\"font\": {\"color\": \"#4D5663\"}, \"text\": \"\"}, \"zerolinecolor\": \"#E1E5ED\"}},\n",
       "                        {\"showLink\": true, \"linkText\": \"Export to plot.ly\", \"plotlyServerURL\": \"https://plot.ly\", \"responsive\": true}\n",
       "                    ).then(function(){\n",
       "                            \n",
       "var gd = document.getElementById('662dfc07-b2d2-41a8-b32b-8ffe4f5a4605');\n",
       "var x = new MutationObserver(function (mutations, observer) {{\n",
       "        var display = window.getComputedStyle(gd).display;\n",
       "        if (!display || display === 'none') {{\n",
       "            console.log([gd, 'removed!']);\n",
       "            Plotly.purge(gd);\n",
       "            observer.disconnect();\n",
       "        }}\n",
       "}});\n",
       "\n",
       "// Listen for the removal of the full notebook cells\n",
       "var notebookContainer = gd.closest('#notebook-container');\n",
       "if (notebookContainer) {{\n",
       "    x.observe(notebookContainer, {childList: true});\n",
       "}}\n",
       "\n",
       "// Listen for the clearing of the current output cell\n",
       "var outputEl = gd.closest('.output');\n",
       "if (outputEl) {{\n",
       "    x.observe(outputEl, {childList: true});\n",
       "}}\n",
       "\n",
       "                        })\n",
       "                };\n",
       "                });\n",
       "            </script>\n",
       "        </div>"
      ]
     },
     "metadata": {},
     "output_type": "display_data"
    }
   ],
   "source": [
    "df.iplot(kind='box')"
   ]
  },
  {
   "cell_type": "code",
   "execution_count": 16,
   "metadata": {},
   "outputs": [],
   "source": [
    "df3=pd.DataFrame({'x':[1,2,3,4,5],'y':[10,20,30,20,10],'z':[500,400,300,200,100]})"
   ]
  },
  {
   "cell_type": "code",
   "execution_count": 17,
   "metadata": {},
   "outputs": [
    {
     "data": {
      "text/html": [
       "<div>\n",
       "<style scoped>\n",
       "    .dataframe tbody tr th:only-of-type {\n",
       "        vertical-align: middle;\n",
       "    }\n",
       "\n",
       "    .dataframe tbody tr th {\n",
       "        vertical-align: top;\n",
       "    }\n",
       "\n",
       "    .dataframe thead th {\n",
       "        text-align: right;\n",
       "    }\n",
       "</style>\n",
       "<table border=\"1\" class=\"dataframe\">\n",
       "  <thead>\n",
       "    <tr style=\"text-align: right;\">\n",
       "      <th></th>\n",
       "      <th>x</th>\n",
       "      <th>y</th>\n",
       "      <th>z</th>\n",
       "    </tr>\n",
       "  </thead>\n",
       "  <tbody>\n",
       "    <tr>\n",
       "      <th>0</th>\n",
       "      <td>1</td>\n",
       "      <td>10</td>\n",
       "      <td>500</td>\n",
       "    </tr>\n",
       "    <tr>\n",
       "      <th>1</th>\n",
       "      <td>2</td>\n",
       "      <td>20</td>\n",
       "      <td>400</td>\n",
       "    </tr>\n",
       "    <tr>\n",
       "      <th>2</th>\n",
       "      <td>3</td>\n",
       "      <td>30</td>\n",
       "      <td>300</td>\n",
       "    </tr>\n",
       "    <tr>\n",
       "      <th>3</th>\n",
       "      <td>4</td>\n",
       "      <td>20</td>\n",
       "      <td>200</td>\n",
       "    </tr>\n",
       "    <tr>\n",
       "      <th>4</th>\n",
       "      <td>5</td>\n",
       "      <td>10</td>\n",
       "      <td>100</td>\n",
       "    </tr>\n",
       "  </tbody>\n",
       "</table>\n",
       "</div>"
      ],
      "text/plain": [
       "   x   y    z\n",
       "0  1  10  500\n",
       "1  2  20  400\n",
       "2  3  30  300\n",
       "3  4  20  200\n",
       "4  5  10  100"
      ]
     },
     "execution_count": 17,
     "metadata": {},
     "output_type": "execute_result"
    }
   ],
   "source": [
    "df3"
   ]
  },
  {
   "cell_type": "code",
   "execution_count": 18,
   "metadata": {},
   "outputs": [
    {
     "data": {
      "application/vnd.plotly.v1+json": {
       "config": {
        "linkText": "Export to plot.ly",
        "plotlyServerURL": "https://plot.ly",
        "showLink": true
       },
       "data": [
        {
         "colorscale": [
          [
           0,
           "rgb(165,0,38)"
          ],
          [
           0.1,
           "rgb(215,48,39)"
          ],
          [
           0.2,
           "rgb(244,109,67)"
          ],
          [
           0.3,
           "rgb(253,174,97)"
          ],
          [
           0.4,
           "rgb(254,224,144)"
          ],
          [
           0.5,
           "rgb(255,255,191)"
          ],
          [
           0.6,
           "rgb(224,243,248)"
          ],
          [
           0.7,
           "rgb(171,217,233)"
          ],
          [
           0.8,
           "rgb(116,173,209)"
          ],
          [
           0.9,
           "rgb(69,117,180)"
          ],
          [
           1,
           "rgb(49,54,149)"
          ]
         ],
         "type": "surface",
         "x": [
          0,
          1,
          2,
          3,
          4
         ],
         "y": [
          "x",
          "y",
          "z"
         ],
         "z": [
          [
           1,
           2,
           3,
           4,
           5
          ],
          [
           10,
           20,
           30,
           20,
           10
          ],
          [
           500,
           400,
           300,
           200,
           100
          ]
         ]
        }
       ],
       "layout": {
        "legend": {
         "bgcolor": "#F5F6F9",
         "font": {
          "color": "#4D5663"
         }
        },
        "paper_bgcolor": "#F5F6F9",
        "plot_bgcolor": "#F5F6F9",
        "template": {
         "data": {
          "bar": [
           {
            "error_x": {
             "color": "#2a3f5f"
            },
            "error_y": {
             "color": "#2a3f5f"
            },
            "marker": {
             "line": {
              "color": "#E5ECF6",
              "width": 0.5
             }
            },
            "type": "bar"
           }
          ],
          "barpolar": [
           {
            "marker": {
             "line": {
              "color": "#E5ECF6",
              "width": 0.5
             }
            },
            "type": "barpolar"
           }
          ],
          "carpet": [
           {
            "aaxis": {
             "endlinecolor": "#2a3f5f",
             "gridcolor": "white",
             "linecolor": "white",
             "minorgridcolor": "white",
             "startlinecolor": "#2a3f5f"
            },
            "baxis": {
             "endlinecolor": "#2a3f5f",
             "gridcolor": "white",
             "linecolor": "white",
             "minorgridcolor": "white",
             "startlinecolor": "#2a3f5f"
            },
            "type": "carpet"
           }
          ],
          "choropleth": [
           {
            "colorbar": {
             "outlinewidth": 0,
             "ticks": ""
            },
            "type": "choropleth"
           }
          ],
          "contour": [
           {
            "colorbar": {
             "outlinewidth": 0,
             "ticks": ""
            },
            "colorscale": [
             [
              0,
              "#0d0887"
             ],
             [
              0.1111111111111111,
              "#46039f"
             ],
             [
              0.2222222222222222,
              "#7201a8"
             ],
             [
              0.3333333333333333,
              "#9c179e"
             ],
             [
              0.4444444444444444,
              "#bd3786"
             ],
             [
              0.5555555555555556,
              "#d8576b"
             ],
             [
              0.6666666666666666,
              "#ed7953"
             ],
             [
              0.7777777777777778,
              "#fb9f3a"
             ],
             [
              0.8888888888888888,
              "#fdca26"
             ],
             [
              1,
              "#f0f921"
             ]
            ],
            "type": "contour"
           }
          ],
          "contourcarpet": [
           {
            "colorbar": {
             "outlinewidth": 0,
             "ticks": ""
            },
            "type": "contourcarpet"
           }
          ],
          "heatmap": [
           {
            "colorbar": {
             "outlinewidth": 0,
             "ticks": ""
            },
            "colorscale": [
             [
              0,
              "#0d0887"
             ],
             [
              0.1111111111111111,
              "#46039f"
             ],
             [
              0.2222222222222222,
              "#7201a8"
             ],
             [
              0.3333333333333333,
              "#9c179e"
             ],
             [
              0.4444444444444444,
              "#bd3786"
             ],
             [
              0.5555555555555556,
              "#d8576b"
             ],
             [
              0.6666666666666666,
              "#ed7953"
             ],
             [
              0.7777777777777778,
              "#fb9f3a"
             ],
             [
              0.8888888888888888,
              "#fdca26"
             ],
             [
              1,
              "#f0f921"
             ]
            ],
            "type": "heatmap"
           }
          ],
          "heatmapgl": [
           {
            "colorbar": {
             "outlinewidth": 0,
             "ticks": ""
            },
            "colorscale": [
             [
              0,
              "#0d0887"
             ],
             [
              0.1111111111111111,
              "#46039f"
             ],
             [
              0.2222222222222222,
              "#7201a8"
             ],
             [
              0.3333333333333333,
              "#9c179e"
             ],
             [
              0.4444444444444444,
              "#bd3786"
             ],
             [
              0.5555555555555556,
              "#d8576b"
             ],
             [
              0.6666666666666666,
              "#ed7953"
             ],
             [
              0.7777777777777778,
              "#fb9f3a"
             ],
             [
              0.8888888888888888,
              "#fdca26"
             ],
             [
              1,
              "#f0f921"
             ]
            ],
            "type": "heatmapgl"
           }
          ],
          "histogram": [
           {
            "marker": {
             "colorbar": {
              "outlinewidth": 0,
              "ticks": ""
             }
            },
            "type": "histogram"
           }
          ],
          "histogram2d": [
           {
            "colorbar": {
             "outlinewidth": 0,
             "ticks": ""
            },
            "colorscale": [
             [
              0,
              "#0d0887"
             ],
             [
              0.1111111111111111,
              "#46039f"
             ],
             [
              0.2222222222222222,
              "#7201a8"
             ],
             [
              0.3333333333333333,
              "#9c179e"
             ],
             [
              0.4444444444444444,
              "#bd3786"
             ],
             [
              0.5555555555555556,
              "#d8576b"
             ],
             [
              0.6666666666666666,
              "#ed7953"
             ],
             [
              0.7777777777777778,
              "#fb9f3a"
             ],
             [
              0.8888888888888888,
              "#fdca26"
             ],
             [
              1,
              "#f0f921"
             ]
            ],
            "type": "histogram2d"
           }
          ],
          "histogram2dcontour": [
           {
            "colorbar": {
             "outlinewidth": 0,
             "ticks": ""
            },
            "colorscale": [
             [
              0,
              "#0d0887"
             ],
             [
              0.1111111111111111,
              "#46039f"
             ],
             [
              0.2222222222222222,
              "#7201a8"
             ],
             [
              0.3333333333333333,
              "#9c179e"
             ],
             [
              0.4444444444444444,
              "#bd3786"
             ],
             [
              0.5555555555555556,
              "#d8576b"
             ],
             [
              0.6666666666666666,
              "#ed7953"
             ],
             [
              0.7777777777777778,
              "#fb9f3a"
             ],
             [
              0.8888888888888888,
              "#fdca26"
             ],
             [
              1,
              "#f0f921"
             ]
            ],
            "type": "histogram2dcontour"
           }
          ],
          "mesh3d": [
           {
            "colorbar": {
             "outlinewidth": 0,
             "ticks": ""
            },
            "type": "mesh3d"
           }
          ],
          "parcoords": [
           {
            "line": {
             "colorbar": {
              "outlinewidth": 0,
              "ticks": ""
             }
            },
            "type": "parcoords"
           }
          ],
          "pie": [
           {
            "automargin": true,
            "type": "pie"
           }
          ],
          "scatter": [
           {
            "marker": {
             "colorbar": {
              "outlinewidth": 0,
              "ticks": ""
             }
            },
            "type": "scatter"
           }
          ],
          "scatter3d": [
           {
            "line": {
             "colorbar": {
              "outlinewidth": 0,
              "ticks": ""
             }
            },
            "marker": {
             "colorbar": {
              "outlinewidth": 0,
              "ticks": ""
             }
            },
            "type": "scatter3d"
           }
          ],
          "scattercarpet": [
           {
            "marker": {
             "colorbar": {
              "outlinewidth": 0,
              "ticks": ""
             }
            },
            "type": "scattercarpet"
           }
          ],
          "scattergeo": [
           {
            "marker": {
             "colorbar": {
              "outlinewidth": 0,
              "ticks": ""
             }
            },
            "type": "scattergeo"
           }
          ],
          "scattergl": [
           {
            "marker": {
             "colorbar": {
              "outlinewidth": 0,
              "ticks": ""
             }
            },
            "type": "scattergl"
           }
          ],
          "scattermapbox": [
           {
            "marker": {
             "colorbar": {
              "outlinewidth": 0,
              "ticks": ""
             }
            },
            "type": "scattermapbox"
           }
          ],
          "scatterpolar": [
           {
            "marker": {
             "colorbar": {
              "outlinewidth": 0,
              "ticks": ""
             }
            },
            "type": "scatterpolar"
           }
          ],
          "scatterpolargl": [
           {
            "marker": {
             "colorbar": {
              "outlinewidth": 0,
              "ticks": ""
             }
            },
            "type": "scatterpolargl"
           }
          ],
          "scatterternary": [
           {
            "marker": {
             "colorbar": {
              "outlinewidth": 0,
              "ticks": ""
             }
            },
            "type": "scatterternary"
           }
          ],
          "surface": [
           {
            "colorbar": {
             "outlinewidth": 0,
             "ticks": ""
            },
            "colorscale": [
             [
              0,
              "#0d0887"
             ],
             [
              0.1111111111111111,
              "#46039f"
             ],
             [
              0.2222222222222222,
              "#7201a8"
             ],
             [
              0.3333333333333333,
              "#9c179e"
             ],
             [
              0.4444444444444444,
              "#bd3786"
             ],
             [
              0.5555555555555556,
              "#d8576b"
             ],
             [
              0.6666666666666666,
              "#ed7953"
             ],
             [
              0.7777777777777778,
              "#fb9f3a"
             ],
             [
              0.8888888888888888,
              "#fdca26"
             ],
             [
              1,
              "#f0f921"
             ]
            ],
            "type": "surface"
           }
          ],
          "table": [
           {
            "cells": {
             "fill": {
              "color": "#EBF0F8"
             },
             "line": {
              "color": "white"
             }
            },
            "header": {
             "fill": {
              "color": "#C8D4E3"
             },
             "line": {
              "color": "white"
             }
            },
            "type": "table"
           }
          ]
         },
         "layout": {
          "annotationdefaults": {
           "arrowcolor": "#2a3f5f",
           "arrowhead": 0,
           "arrowwidth": 1
          },
          "coloraxis": {
           "colorbar": {
            "outlinewidth": 0,
            "ticks": ""
           }
          },
          "colorscale": {
           "diverging": [
            [
             0,
             "#8e0152"
            ],
            [
             0.1,
             "#c51b7d"
            ],
            [
             0.2,
             "#de77ae"
            ],
            [
             0.3,
             "#f1b6da"
            ],
            [
             0.4,
             "#fde0ef"
            ],
            [
             0.5,
             "#f7f7f7"
            ],
            [
             0.6,
             "#e6f5d0"
            ],
            [
             0.7,
             "#b8e186"
            ],
            [
             0.8,
             "#7fbc41"
            ],
            [
             0.9,
             "#4d9221"
            ],
            [
             1,
             "#276419"
            ]
           ],
           "sequential": [
            [
             0,
             "#0d0887"
            ],
            [
             0.1111111111111111,
             "#46039f"
            ],
            [
             0.2222222222222222,
             "#7201a8"
            ],
            [
             0.3333333333333333,
             "#9c179e"
            ],
            [
             0.4444444444444444,
             "#bd3786"
            ],
            [
             0.5555555555555556,
             "#d8576b"
            ],
            [
             0.6666666666666666,
             "#ed7953"
            ],
            [
             0.7777777777777778,
             "#fb9f3a"
            ],
            [
             0.8888888888888888,
             "#fdca26"
            ],
            [
             1,
             "#f0f921"
            ]
           ],
           "sequentialminus": [
            [
             0,
             "#0d0887"
            ],
            [
             0.1111111111111111,
             "#46039f"
            ],
            [
             0.2222222222222222,
             "#7201a8"
            ],
            [
             0.3333333333333333,
             "#9c179e"
            ],
            [
             0.4444444444444444,
             "#bd3786"
            ],
            [
             0.5555555555555556,
             "#d8576b"
            ],
            [
             0.6666666666666666,
             "#ed7953"
            ],
            [
             0.7777777777777778,
             "#fb9f3a"
            ],
            [
             0.8888888888888888,
             "#fdca26"
            ],
            [
             1,
             "#f0f921"
            ]
           ]
          },
          "colorway": [
           "#636efa",
           "#EF553B",
           "#00cc96",
           "#ab63fa",
           "#FFA15A",
           "#19d3f3",
           "#FF6692",
           "#B6E880",
           "#FF97FF",
           "#FECB52"
          ],
          "font": {
           "color": "#2a3f5f"
          },
          "geo": {
           "bgcolor": "white",
           "lakecolor": "white",
           "landcolor": "#E5ECF6",
           "showlakes": true,
           "showland": true,
           "subunitcolor": "white"
          },
          "hoverlabel": {
           "align": "left"
          },
          "hovermode": "closest",
          "mapbox": {
           "style": "light"
          },
          "paper_bgcolor": "white",
          "plot_bgcolor": "#E5ECF6",
          "polar": {
           "angularaxis": {
            "gridcolor": "white",
            "linecolor": "white",
            "ticks": ""
           },
           "bgcolor": "#E5ECF6",
           "radialaxis": {
            "gridcolor": "white",
            "linecolor": "white",
            "ticks": ""
           }
          },
          "scene": {
           "xaxis": {
            "backgroundcolor": "#E5ECF6",
            "gridcolor": "white",
            "gridwidth": 2,
            "linecolor": "white",
            "showbackground": true,
            "ticks": "",
            "zerolinecolor": "white"
           },
           "yaxis": {
            "backgroundcolor": "#E5ECF6",
            "gridcolor": "white",
            "gridwidth": 2,
            "linecolor": "white",
            "showbackground": true,
            "ticks": "",
            "zerolinecolor": "white"
           },
           "zaxis": {
            "backgroundcolor": "#E5ECF6",
            "gridcolor": "white",
            "gridwidth": 2,
            "linecolor": "white",
            "showbackground": true,
            "ticks": "",
            "zerolinecolor": "white"
           }
          },
          "shapedefaults": {
           "line": {
            "color": "#2a3f5f"
           }
          },
          "ternary": {
           "aaxis": {
            "gridcolor": "white",
            "linecolor": "white",
            "ticks": ""
           },
           "baxis": {
            "gridcolor": "white",
            "linecolor": "white",
            "ticks": ""
           },
           "bgcolor": "#E5ECF6",
           "caxis": {
            "gridcolor": "white",
            "linecolor": "white",
            "ticks": ""
           }
          },
          "title": {
           "x": 0.05
          },
          "xaxis": {
           "automargin": true,
           "gridcolor": "white",
           "linecolor": "white",
           "ticks": "",
           "title": {
            "standoff": 15
           },
           "zerolinecolor": "white",
           "zerolinewidth": 2
          },
          "yaxis": {
           "automargin": true,
           "gridcolor": "white",
           "linecolor": "white",
           "ticks": "",
           "title": {
            "standoff": 15
           },
           "zerolinecolor": "white",
           "zerolinewidth": 2
          }
         }
        },
        "title": {
         "font": {
          "color": "#4D5663"
         }
        },
        "xaxis": {
         "gridcolor": "#E1E5ED",
         "showgrid": true,
         "tickfont": {
          "color": "#4D5663"
         },
         "title": {
          "font": {
           "color": "#4D5663"
          },
          "text": ""
         },
         "zerolinecolor": "#E1E5ED"
        },
        "yaxis": {
         "gridcolor": "#E1E5ED",
         "showgrid": true,
         "tickfont": {
          "color": "#4D5663"
         },
         "title": {
          "font": {
           "color": "#4D5663"
          },
          "text": ""
         },
         "zerolinecolor": "#E1E5ED"
        }
       }
      },
      "text/html": [
       "<div>\n",
       "        \n",
       "        \n",
       "            <div id=\"e29d0869-46ce-4af0-941a-6e9a1c042bff\" class=\"plotly-graph-div\" style=\"height:525px; width:100%;\"></div>\n",
       "            <script type=\"text/javascript\">\n",
       "                require([\"plotly\"], function(Plotly) {\n",
       "                    window.PLOTLYENV=window.PLOTLYENV || {};\n",
       "                    window.PLOTLYENV.BASE_URL='https://plot.ly';\n",
       "                    \n",
       "                if (document.getElementById(\"e29d0869-46ce-4af0-941a-6e9a1c042bff\")) {\n",
       "                    Plotly.newPlot(\n",
       "                        'e29d0869-46ce-4af0-941a-6e9a1c042bff',\n",
       "                        [{\"colorscale\": [[0.0, \"rgb(165,0,38)\"], [0.1, \"rgb(215,48,39)\"], [0.2, \"rgb(244,109,67)\"], [0.3, \"rgb(253,174,97)\"], [0.4, \"rgb(254,224,144)\"], [0.5, \"rgb(255,255,191)\"], [0.6, \"rgb(224,243,248)\"], [0.7, \"rgb(171,217,233)\"], [0.8, \"rgb(116,173,209)\"], [0.9, \"rgb(69,117,180)\"], [1.0, \"rgb(49,54,149)\"]], \"type\": \"surface\", \"x\": [0, 1, 2, 3, 4], \"y\": [\"x\", \"y\", \"z\"], \"z\": [[1, 2, 3, 4, 5], [10, 20, 30, 20, 10], [500, 400, 300, 200, 100]]}],\n",
       "                        {\"legend\": {\"bgcolor\": \"#F5F6F9\", \"font\": {\"color\": \"#4D5663\"}}, \"paper_bgcolor\": \"#F5F6F9\", \"plot_bgcolor\": \"#F5F6F9\", \"template\": {\"data\": {\"bar\": [{\"error_x\": {\"color\": \"#2a3f5f\"}, \"error_y\": {\"color\": \"#2a3f5f\"}, \"marker\": {\"line\": {\"color\": \"#E5ECF6\", \"width\": 0.5}}, \"type\": \"bar\"}], \"barpolar\": [{\"marker\": {\"line\": {\"color\": \"#E5ECF6\", \"width\": 0.5}}, \"type\": \"barpolar\"}], \"carpet\": [{\"aaxis\": {\"endlinecolor\": \"#2a3f5f\", \"gridcolor\": \"white\", \"linecolor\": \"white\", \"minorgridcolor\": \"white\", \"startlinecolor\": \"#2a3f5f\"}, \"baxis\": {\"endlinecolor\": \"#2a3f5f\", \"gridcolor\": \"white\", \"linecolor\": \"white\", \"minorgridcolor\": \"white\", \"startlinecolor\": \"#2a3f5f\"}, \"type\": \"carpet\"}], \"choropleth\": [{\"colorbar\": {\"outlinewidth\": 0, \"ticks\": \"\"}, \"type\": \"choropleth\"}], \"contour\": [{\"colorbar\": {\"outlinewidth\": 0, \"ticks\": \"\"}, \"colorscale\": [[0.0, \"#0d0887\"], [0.1111111111111111, \"#46039f\"], [0.2222222222222222, \"#7201a8\"], [0.3333333333333333, \"#9c179e\"], [0.4444444444444444, \"#bd3786\"], [0.5555555555555556, \"#d8576b\"], [0.6666666666666666, \"#ed7953\"], [0.7777777777777778, \"#fb9f3a\"], [0.8888888888888888, \"#fdca26\"], [1.0, \"#f0f921\"]], \"type\": \"contour\"}], \"contourcarpet\": [{\"colorbar\": {\"outlinewidth\": 0, \"ticks\": \"\"}, \"type\": \"contourcarpet\"}], \"heatmap\": [{\"colorbar\": {\"outlinewidth\": 0, \"ticks\": \"\"}, \"colorscale\": [[0.0, \"#0d0887\"], [0.1111111111111111, \"#46039f\"], [0.2222222222222222, \"#7201a8\"], [0.3333333333333333, \"#9c179e\"], [0.4444444444444444, \"#bd3786\"], [0.5555555555555556, \"#d8576b\"], [0.6666666666666666, \"#ed7953\"], [0.7777777777777778, \"#fb9f3a\"], [0.8888888888888888, \"#fdca26\"], [1.0, \"#f0f921\"]], \"type\": \"heatmap\"}], \"heatmapgl\": [{\"colorbar\": {\"outlinewidth\": 0, \"ticks\": \"\"}, \"colorscale\": [[0.0, \"#0d0887\"], [0.1111111111111111, \"#46039f\"], [0.2222222222222222, \"#7201a8\"], [0.3333333333333333, \"#9c179e\"], [0.4444444444444444, \"#bd3786\"], [0.5555555555555556, \"#d8576b\"], [0.6666666666666666, \"#ed7953\"], [0.7777777777777778, \"#fb9f3a\"], [0.8888888888888888, \"#fdca26\"], [1.0, \"#f0f921\"]], \"type\": \"heatmapgl\"}], \"histogram\": [{\"marker\": {\"colorbar\": {\"outlinewidth\": 0, \"ticks\": \"\"}}, \"type\": \"histogram\"}], \"histogram2d\": [{\"colorbar\": {\"outlinewidth\": 0, \"ticks\": \"\"}, \"colorscale\": [[0.0, \"#0d0887\"], [0.1111111111111111, \"#46039f\"], [0.2222222222222222, \"#7201a8\"], [0.3333333333333333, \"#9c179e\"], [0.4444444444444444, \"#bd3786\"], [0.5555555555555556, \"#d8576b\"], [0.6666666666666666, \"#ed7953\"], [0.7777777777777778, \"#fb9f3a\"], [0.8888888888888888, \"#fdca26\"], [1.0, \"#f0f921\"]], \"type\": \"histogram2d\"}], \"histogram2dcontour\": [{\"colorbar\": {\"outlinewidth\": 0, \"ticks\": \"\"}, \"colorscale\": [[0.0, \"#0d0887\"], [0.1111111111111111, \"#46039f\"], [0.2222222222222222, \"#7201a8\"], [0.3333333333333333, \"#9c179e\"], [0.4444444444444444, \"#bd3786\"], [0.5555555555555556, \"#d8576b\"], [0.6666666666666666, \"#ed7953\"], [0.7777777777777778, \"#fb9f3a\"], [0.8888888888888888, \"#fdca26\"], [1.0, \"#f0f921\"]], \"type\": \"histogram2dcontour\"}], \"mesh3d\": [{\"colorbar\": {\"outlinewidth\": 0, \"ticks\": \"\"}, \"type\": \"mesh3d\"}], \"parcoords\": [{\"line\": {\"colorbar\": {\"outlinewidth\": 0, \"ticks\": \"\"}}, \"type\": \"parcoords\"}], \"pie\": [{\"automargin\": true, \"type\": \"pie\"}], \"scatter\": [{\"marker\": {\"colorbar\": {\"outlinewidth\": 0, \"ticks\": \"\"}}, \"type\": \"scatter\"}], \"scatter3d\": [{\"line\": {\"colorbar\": {\"outlinewidth\": 0, \"ticks\": \"\"}}, \"marker\": {\"colorbar\": {\"outlinewidth\": 0, \"ticks\": \"\"}}, \"type\": \"scatter3d\"}], \"scattercarpet\": [{\"marker\": {\"colorbar\": {\"outlinewidth\": 0, \"ticks\": \"\"}}, \"type\": \"scattercarpet\"}], \"scattergeo\": [{\"marker\": {\"colorbar\": {\"outlinewidth\": 0, \"ticks\": \"\"}}, \"type\": \"scattergeo\"}], \"scattergl\": [{\"marker\": {\"colorbar\": {\"outlinewidth\": 0, \"ticks\": \"\"}}, \"type\": \"scattergl\"}], \"scattermapbox\": [{\"marker\": {\"colorbar\": {\"outlinewidth\": 0, \"ticks\": \"\"}}, \"type\": \"scattermapbox\"}], \"scatterpolar\": [{\"marker\": {\"colorbar\": {\"outlinewidth\": 0, \"ticks\": \"\"}}, \"type\": \"scatterpolar\"}], \"scatterpolargl\": [{\"marker\": {\"colorbar\": {\"outlinewidth\": 0, \"ticks\": \"\"}}, \"type\": \"scatterpolargl\"}], \"scatterternary\": [{\"marker\": {\"colorbar\": {\"outlinewidth\": 0, \"ticks\": \"\"}}, \"type\": \"scatterternary\"}], \"surface\": [{\"colorbar\": {\"outlinewidth\": 0, \"ticks\": \"\"}, \"colorscale\": [[0.0, \"#0d0887\"], [0.1111111111111111, \"#46039f\"], [0.2222222222222222, \"#7201a8\"], [0.3333333333333333, \"#9c179e\"], [0.4444444444444444, \"#bd3786\"], [0.5555555555555556, \"#d8576b\"], [0.6666666666666666, \"#ed7953\"], [0.7777777777777778, \"#fb9f3a\"], [0.8888888888888888, \"#fdca26\"], [1.0, \"#f0f921\"]], \"type\": \"surface\"}], \"table\": [{\"cells\": {\"fill\": {\"color\": \"#EBF0F8\"}, \"line\": {\"color\": \"white\"}}, \"header\": {\"fill\": {\"color\": \"#C8D4E3\"}, \"line\": {\"color\": \"white\"}}, \"type\": \"table\"}]}, \"layout\": {\"annotationdefaults\": {\"arrowcolor\": \"#2a3f5f\", \"arrowhead\": 0, \"arrowwidth\": 1}, \"coloraxis\": {\"colorbar\": {\"outlinewidth\": 0, \"ticks\": \"\"}}, \"colorscale\": {\"diverging\": [[0, \"#8e0152\"], [0.1, \"#c51b7d\"], [0.2, \"#de77ae\"], [0.3, \"#f1b6da\"], [0.4, \"#fde0ef\"], [0.5, \"#f7f7f7\"], [0.6, \"#e6f5d0\"], [0.7, \"#b8e186\"], [0.8, \"#7fbc41\"], [0.9, \"#4d9221\"], [1, \"#276419\"]], \"sequential\": [[0.0, \"#0d0887\"], [0.1111111111111111, \"#46039f\"], [0.2222222222222222, \"#7201a8\"], [0.3333333333333333, \"#9c179e\"], [0.4444444444444444, \"#bd3786\"], [0.5555555555555556, \"#d8576b\"], [0.6666666666666666, \"#ed7953\"], [0.7777777777777778, \"#fb9f3a\"], [0.8888888888888888, \"#fdca26\"], [1.0, \"#f0f921\"]], \"sequentialminus\": [[0.0, \"#0d0887\"], [0.1111111111111111, \"#46039f\"], [0.2222222222222222, \"#7201a8\"], [0.3333333333333333, \"#9c179e\"], [0.4444444444444444, \"#bd3786\"], [0.5555555555555556, \"#d8576b\"], [0.6666666666666666, \"#ed7953\"], [0.7777777777777778, \"#fb9f3a\"], [0.8888888888888888, \"#fdca26\"], [1.0, \"#f0f921\"]]}, \"colorway\": [\"#636efa\", \"#EF553B\", \"#00cc96\", \"#ab63fa\", \"#FFA15A\", \"#19d3f3\", \"#FF6692\", \"#B6E880\", \"#FF97FF\", \"#FECB52\"], \"font\": {\"color\": \"#2a3f5f\"}, \"geo\": {\"bgcolor\": \"white\", \"lakecolor\": \"white\", \"landcolor\": \"#E5ECF6\", \"showlakes\": true, \"showland\": true, \"subunitcolor\": \"white\"}, \"hoverlabel\": {\"align\": \"left\"}, \"hovermode\": \"closest\", \"mapbox\": {\"style\": \"light\"}, \"paper_bgcolor\": \"white\", \"plot_bgcolor\": \"#E5ECF6\", \"polar\": {\"angularaxis\": {\"gridcolor\": \"white\", \"linecolor\": \"white\", \"ticks\": \"\"}, \"bgcolor\": \"#E5ECF6\", \"radialaxis\": {\"gridcolor\": \"white\", \"linecolor\": \"white\", \"ticks\": \"\"}}, \"scene\": {\"xaxis\": {\"backgroundcolor\": \"#E5ECF6\", \"gridcolor\": \"white\", \"gridwidth\": 2, \"linecolor\": \"white\", \"showbackground\": true, \"ticks\": \"\", \"zerolinecolor\": \"white\"}, \"yaxis\": {\"backgroundcolor\": \"#E5ECF6\", \"gridcolor\": \"white\", \"gridwidth\": 2, \"linecolor\": \"white\", \"showbackground\": true, \"ticks\": \"\", \"zerolinecolor\": \"white\"}, \"zaxis\": {\"backgroundcolor\": \"#E5ECF6\", \"gridcolor\": \"white\", \"gridwidth\": 2, \"linecolor\": \"white\", \"showbackground\": true, \"ticks\": \"\", \"zerolinecolor\": \"white\"}}, \"shapedefaults\": {\"line\": {\"color\": \"#2a3f5f\"}}, \"ternary\": {\"aaxis\": {\"gridcolor\": \"white\", \"linecolor\": \"white\", \"ticks\": \"\"}, \"baxis\": {\"gridcolor\": \"white\", \"linecolor\": \"white\", \"ticks\": \"\"}, \"bgcolor\": \"#E5ECF6\", \"caxis\": {\"gridcolor\": \"white\", \"linecolor\": \"white\", \"ticks\": \"\"}}, \"title\": {\"x\": 0.05}, \"xaxis\": {\"automargin\": true, \"gridcolor\": \"white\", \"linecolor\": \"white\", \"ticks\": \"\", \"title\": {\"standoff\": 15}, \"zerolinecolor\": \"white\", \"zerolinewidth\": 2}, \"yaxis\": {\"automargin\": true, \"gridcolor\": \"white\", \"linecolor\": \"white\", \"ticks\": \"\", \"title\": {\"standoff\": 15}, \"zerolinecolor\": \"white\", \"zerolinewidth\": 2}}}, \"title\": {\"font\": {\"color\": \"#4D5663\"}}, \"xaxis\": {\"gridcolor\": \"#E1E5ED\", \"showgrid\": true, \"tickfont\": {\"color\": \"#4D5663\"}, \"title\": {\"font\": {\"color\": \"#4D5663\"}, \"text\": \"\"}, \"zerolinecolor\": \"#E1E5ED\"}, \"yaxis\": {\"gridcolor\": \"#E1E5ED\", \"showgrid\": true, \"tickfont\": {\"color\": \"#4D5663\"}, \"title\": {\"font\": {\"color\": \"#4D5663\"}, \"text\": \"\"}, \"zerolinecolor\": \"#E1E5ED\"}},\n",
       "                        {\"showLink\": true, \"linkText\": \"Export to plot.ly\", \"plotlyServerURL\": \"https://plot.ly\", \"responsive\": true}\n",
       "                    ).then(function(){\n",
       "                            \n",
       "var gd = document.getElementById('e29d0869-46ce-4af0-941a-6e9a1c042bff');\n",
       "var x = new MutationObserver(function (mutations, observer) {{\n",
       "        var display = window.getComputedStyle(gd).display;\n",
       "        if (!display || display === 'none') {{\n",
       "            console.log([gd, 'removed!']);\n",
       "            Plotly.purge(gd);\n",
       "            observer.disconnect();\n",
       "        }}\n",
       "}});\n",
       "\n",
       "// Listen for the removal of the full notebook cells\n",
       "var notebookContainer = gd.closest('#notebook-container');\n",
       "if (notebookContainer) {{\n",
       "    x.observe(notebookContainer, {childList: true});\n",
       "}}\n",
       "\n",
       "// Listen for the clearing of the current output cell\n",
       "var outputEl = gd.closest('.output');\n",
       "if (outputEl) {{\n",
       "    x.observe(outputEl, {childList: true});\n",
       "}}\n",
       "\n",
       "                        })\n",
       "                };\n",
       "                });\n",
       "            </script>\n",
       "        </div>"
      ]
     },
     "metadata": {},
     "output_type": "display_data"
    }
   ],
   "source": [
    "df3.iplot(kind='surface',colorscale='rdylbu')"
   ]
  },
  {
   "cell_type": "code",
   "execution_count": 19,
   "metadata": {},
   "outputs": [
    {
     "data": {
      "application/vnd.plotly.v1+json": {
       "config": {
        "linkText": "Export to plot.ly",
        "plotlyServerURL": "https://plot.ly",
        "showLink": true
       },
       "data": [
        {
         "histfunc": "count",
         "histnorm": "",
         "marker": {
          "color": "rgba(255, 153, 51, 1.0)",
          "line": {
           "color": "#4D5663",
           "width": 1.3
          }
         },
         "name": "A",
         "opacity": 0.8,
         "orientation": "v",
         "type": "histogram",
         "x": [
          1.0382366963092549,
          -2.400155902890422,
          0.2965349865300015,
          -0.06810621767640156,
          0.40986532593557184,
          2.980340503066905,
          -0.8113478267697151,
          0.12320917274783742,
          -0.7614388234908033,
          -1.6261937919214988,
          -0.4563416646160593,
          0.8100652375053653,
          -0.4786810244642336,
          -0.15125352763689717,
          -0.35363337608754686,
          -0.4600439741878424,
          -0.548594427223353,
          0.15179013108414735,
          1.2527836008333177,
          -0.01486881648200595,
          -1.321028273052858,
          -1.215056740365512,
          -0.46443149005930484,
          -0.2148944304441226,
          1.05921261639197,
          -0.44083508838166113,
          0.2893866833914568,
          -0.08920210825676385,
          -2.141856887876484,
          -1.6561139570133645,
          0.7297351210382328,
          0.3621479005302017,
          0.4544305516587094,
          1.1267997842916877,
          0.4980719238796653,
          0.7538993836558499,
          0.316316710943558,
          -0.7647936388049383,
          1.1335735802883333,
          1.5811875685001238,
          0.4262992431174364,
          -0.18199337606603036,
          -1.6987872789952148,
          -0.31966643306678155,
          -1.0381492197795885,
          -0.7210400728089623,
          -0.5232424059498656,
          0.33977487524362276,
          2.399931576633395,
          -0.9645654786318648,
          1.0038087775500733,
          -1.8883035577730836,
          0.40755480079472817,
          1.620992384935556,
          -1.5144382193345716,
          0.931603224067061,
          -0.0690937367458445,
          -1.1113666817523113,
          -1.6884862187088228,
          0.4847823519219444,
          -0.05144663802383848,
          0.36834324602109547,
          -0.8353614597181127,
          0.22373281034340456,
          -0.3566184980772613,
          1.195601554009199,
          0.06820956515592667,
          0.04083572678921148,
          -0.6184542972098993,
          -2.051234833545991,
          -0.14841116035642724,
          -0.03474205360657567,
          -0.5092248018023503,
          1.5827581291154604,
          1.014753174170827,
          -0.8796020182618397,
          1.5156583685885863,
          0.3459349898339406,
          -1.0614935144891169,
          -0.7649817166963779,
          0.9542728262990114,
          0.648275202973677,
          1.4943115581023017,
          -0.05217028507026561,
          -2.5758228868679427,
          1.167717895603323,
          -0.3904663846029581,
          -1.1167983296391784,
          -1.2833065183657555,
          0.1914994460291949,
          -1.0098431205894374,
          0.6341599431397855,
          1.0297851263869595,
          -0.8389507488561836,
          1.5475484215159128,
          -0.7317169193187559,
          0.7991377097309073,
          0.8423863489416101,
          -0.6566768816715937,
          0.6671829937032094
         ]
        }
       ],
       "layout": {
        "barmode": "overlay",
        "legend": {
         "bgcolor": "#F5F6F9",
         "font": {
          "color": "#4D5663"
         }
        },
        "paper_bgcolor": "#F5F6F9",
        "plot_bgcolor": "#F5F6F9",
        "template": {
         "data": {
          "bar": [
           {
            "error_x": {
             "color": "#2a3f5f"
            },
            "error_y": {
             "color": "#2a3f5f"
            },
            "marker": {
             "line": {
              "color": "#E5ECF6",
              "width": 0.5
             }
            },
            "type": "bar"
           }
          ],
          "barpolar": [
           {
            "marker": {
             "line": {
              "color": "#E5ECF6",
              "width": 0.5
             }
            },
            "type": "barpolar"
           }
          ],
          "carpet": [
           {
            "aaxis": {
             "endlinecolor": "#2a3f5f",
             "gridcolor": "white",
             "linecolor": "white",
             "minorgridcolor": "white",
             "startlinecolor": "#2a3f5f"
            },
            "baxis": {
             "endlinecolor": "#2a3f5f",
             "gridcolor": "white",
             "linecolor": "white",
             "minorgridcolor": "white",
             "startlinecolor": "#2a3f5f"
            },
            "type": "carpet"
           }
          ],
          "choropleth": [
           {
            "colorbar": {
             "outlinewidth": 0,
             "ticks": ""
            },
            "type": "choropleth"
           }
          ],
          "contour": [
           {
            "colorbar": {
             "outlinewidth": 0,
             "ticks": ""
            },
            "colorscale": [
             [
              0,
              "#0d0887"
             ],
             [
              0.1111111111111111,
              "#46039f"
             ],
             [
              0.2222222222222222,
              "#7201a8"
             ],
             [
              0.3333333333333333,
              "#9c179e"
             ],
             [
              0.4444444444444444,
              "#bd3786"
             ],
             [
              0.5555555555555556,
              "#d8576b"
             ],
             [
              0.6666666666666666,
              "#ed7953"
             ],
             [
              0.7777777777777778,
              "#fb9f3a"
             ],
             [
              0.8888888888888888,
              "#fdca26"
             ],
             [
              1,
              "#f0f921"
             ]
            ],
            "type": "contour"
           }
          ],
          "contourcarpet": [
           {
            "colorbar": {
             "outlinewidth": 0,
             "ticks": ""
            },
            "type": "contourcarpet"
           }
          ],
          "heatmap": [
           {
            "colorbar": {
             "outlinewidth": 0,
             "ticks": ""
            },
            "colorscale": [
             [
              0,
              "#0d0887"
             ],
             [
              0.1111111111111111,
              "#46039f"
             ],
             [
              0.2222222222222222,
              "#7201a8"
             ],
             [
              0.3333333333333333,
              "#9c179e"
             ],
             [
              0.4444444444444444,
              "#bd3786"
             ],
             [
              0.5555555555555556,
              "#d8576b"
             ],
             [
              0.6666666666666666,
              "#ed7953"
             ],
             [
              0.7777777777777778,
              "#fb9f3a"
             ],
             [
              0.8888888888888888,
              "#fdca26"
             ],
             [
              1,
              "#f0f921"
             ]
            ],
            "type": "heatmap"
           }
          ],
          "heatmapgl": [
           {
            "colorbar": {
             "outlinewidth": 0,
             "ticks": ""
            },
            "colorscale": [
             [
              0,
              "#0d0887"
             ],
             [
              0.1111111111111111,
              "#46039f"
             ],
             [
              0.2222222222222222,
              "#7201a8"
             ],
             [
              0.3333333333333333,
              "#9c179e"
             ],
             [
              0.4444444444444444,
              "#bd3786"
             ],
             [
              0.5555555555555556,
              "#d8576b"
             ],
             [
              0.6666666666666666,
              "#ed7953"
             ],
             [
              0.7777777777777778,
              "#fb9f3a"
             ],
             [
              0.8888888888888888,
              "#fdca26"
             ],
             [
              1,
              "#f0f921"
             ]
            ],
            "type": "heatmapgl"
           }
          ],
          "histogram": [
           {
            "marker": {
             "colorbar": {
              "outlinewidth": 0,
              "ticks": ""
             }
            },
            "type": "histogram"
           }
          ],
          "histogram2d": [
           {
            "colorbar": {
             "outlinewidth": 0,
             "ticks": ""
            },
            "colorscale": [
             [
              0,
              "#0d0887"
             ],
             [
              0.1111111111111111,
              "#46039f"
             ],
             [
              0.2222222222222222,
              "#7201a8"
             ],
             [
              0.3333333333333333,
              "#9c179e"
             ],
             [
              0.4444444444444444,
              "#bd3786"
             ],
             [
              0.5555555555555556,
              "#d8576b"
             ],
             [
              0.6666666666666666,
              "#ed7953"
             ],
             [
              0.7777777777777778,
              "#fb9f3a"
             ],
             [
              0.8888888888888888,
              "#fdca26"
             ],
             [
              1,
              "#f0f921"
             ]
            ],
            "type": "histogram2d"
           }
          ],
          "histogram2dcontour": [
           {
            "colorbar": {
             "outlinewidth": 0,
             "ticks": ""
            },
            "colorscale": [
             [
              0,
              "#0d0887"
             ],
             [
              0.1111111111111111,
              "#46039f"
             ],
             [
              0.2222222222222222,
              "#7201a8"
             ],
             [
              0.3333333333333333,
              "#9c179e"
             ],
             [
              0.4444444444444444,
              "#bd3786"
             ],
             [
              0.5555555555555556,
              "#d8576b"
             ],
             [
              0.6666666666666666,
              "#ed7953"
             ],
             [
              0.7777777777777778,
              "#fb9f3a"
             ],
             [
              0.8888888888888888,
              "#fdca26"
             ],
             [
              1,
              "#f0f921"
             ]
            ],
            "type": "histogram2dcontour"
           }
          ],
          "mesh3d": [
           {
            "colorbar": {
             "outlinewidth": 0,
             "ticks": ""
            },
            "type": "mesh3d"
           }
          ],
          "parcoords": [
           {
            "line": {
             "colorbar": {
              "outlinewidth": 0,
              "ticks": ""
             }
            },
            "type": "parcoords"
           }
          ],
          "pie": [
           {
            "automargin": true,
            "type": "pie"
           }
          ],
          "scatter": [
           {
            "marker": {
             "colorbar": {
              "outlinewidth": 0,
              "ticks": ""
             }
            },
            "type": "scatter"
           }
          ],
          "scatter3d": [
           {
            "line": {
             "colorbar": {
              "outlinewidth": 0,
              "ticks": ""
             }
            },
            "marker": {
             "colorbar": {
              "outlinewidth": 0,
              "ticks": ""
             }
            },
            "type": "scatter3d"
           }
          ],
          "scattercarpet": [
           {
            "marker": {
             "colorbar": {
              "outlinewidth": 0,
              "ticks": ""
             }
            },
            "type": "scattercarpet"
           }
          ],
          "scattergeo": [
           {
            "marker": {
             "colorbar": {
              "outlinewidth": 0,
              "ticks": ""
             }
            },
            "type": "scattergeo"
           }
          ],
          "scattergl": [
           {
            "marker": {
             "colorbar": {
              "outlinewidth": 0,
              "ticks": ""
             }
            },
            "type": "scattergl"
           }
          ],
          "scattermapbox": [
           {
            "marker": {
             "colorbar": {
              "outlinewidth": 0,
              "ticks": ""
             }
            },
            "type": "scattermapbox"
           }
          ],
          "scatterpolar": [
           {
            "marker": {
             "colorbar": {
              "outlinewidth": 0,
              "ticks": ""
             }
            },
            "type": "scatterpolar"
           }
          ],
          "scatterpolargl": [
           {
            "marker": {
             "colorbar": {
              "outlinewidth": 0,
              "ticks": ""
             }
            },
            "type": "scatterpolargl"
           }
          ],
          "scatterternary": [
           {
            "marker": {
             "colorbar": {
              "outlinewidth": 0,
              "ticks": ""
             }
            },
            "type": "scatterternary"
           }
          ],
          "surface": [
           {
            "colorbar": {
             "outlinewidth": 0,
             "ticks": ""
            },
            "colorscale": [
             [
              0,
              "#0d0887"
             ],
             [
              0.1111111111111111,
              "#46039f"
             ],
             [
              0.2222222222222222,
              "#7201a8"
             ],
             [
              0.3333333333333333,
              "#9c179e"
             ],
             [
              0.4444444444444444,
              "#bd3786"
             ],
             [
              0.5555555555555556,
              "#d8576b"
             ],
             [
              0.6666666666666666,
              "#ed7953"
             ],
             [
              0.7777777777777778,
              "#fb9f3a"
             ],
             [
              0.8888888888888888,
              "#fdca26"
             ],
             [
              1,
              "#f0f921"
             ]
            ],
            "type": "surface"
           }
          ],
          "table": [
           {
            "cells": {
             "fill": {
              "color": "#EBF0F8"
             },
             "line": {
              "color": "white"
             }
            },
            "header": {
             "fill": {
              "color": "#C8D4E3"
             },
             "line": {
              "color": "white"
             }
            },
            "type": "table"
           }
          ]
         },
         "layout": {
          "annotationdefaults": {
           "arrowcolor": "#2a3f5f",
           "arrowhead": 0,
           "arrowwidth": 1
          },
          "coloraxis": {
           "colorbar": {
            "outlinewidth": 0,
            "ticks": ""
           }
          },
          "colorscale": {
           "diverging": [
            [
             0,
             "#8e0152"
            ],
            [
             0.1,
             "#c51b7d"
            ],
            [
             0.2,
             "#de77ae"
            ],
            [
             0.3,
             "#f1b6da"
            ],
            [
             0.4,
             "#fde0ef"
            ],
            [
             0.5,
             "#f7f7f7"
            ],
            [
             0.6,
             "#e6f5d0"
            ],
            [
             0.7,
             "#b8e186"
            ],
            [
             0.8,
             "#7fbc41"
            ],
            [
             0.9,
             "#4d9221"
            ],
            [
             1,
             "#276419"
            ]
           ],
           "sequential": [
            [
             0,
             "#0d0887"
            ],
            [
             0.1111111111111111,
             "#46039f"
            ],
            [
             0.2222222222222222,
             "#7201a8"
            ],
            [
             0.3333333333333333,
             "#9c179e"
            ],
            [
             0.4444444444444444,
             "#bd3786"
            ],
            [
             0.5555555555555556,
             "#d8576b"
            ],
            [
             0.6666666666666666,
             "#ed7953"
            ],
            [
             0.7777777777777778,
             "#fb9f3a"
            ],
            [
             0.8888888888888888,
             "#fdca26"
            ],
            [
             1,
             "#f0f921"
            ]
           ],
           "sequentialminus": [
            [
             0,
             "#0d0887"
            ],
            [
             0.1111111111111111,
             "#46039f"
            ],
            [
             0.2222222222222222,
             "#7201a8"
            ],
            [
             0.3333333333333333,
             "#9c179e"
            ],
            [
             0.4444444444444444,
             "#bd3786"
            ],
            [
             0.5555555555555556,
             "#d8576b"
            ],
            [
             0.6666666666666666,
             "#ed7953"
            ],
            [
             0.7777777777777778,
             "#fb9f3a"
            ],
            [
             0.8888888888888888,
             "#fdca26"
            ],
            [
             1,
             "#f0f921"
            ]
           ]
          },
          "colorway": [
           "#636efa",
           "#EF553B",
           "#00cc96",
           "#ab63fa",
           "#FFA15A",
           "#19d3f3",
           "#FF6692",
           "#B6E880",
           "#FF97FF",
           "#FECB52"
          ],
          "font": {
           "color": "#2a3f5f"
          },
          "geo": {
           "bgcolor": "white",
           "lakecolor": "white",
           "landcolor": "#E5ECF6",
           "showlakes": true,
           "showland": true,
           "subunitcolor": "white"
          },
          "hoverlabel": {
           "align": "left"
          },
          "hovermode": "closest",
          "mapbox": {
           "style": "light"
          },
          "paper_bgcolor": "white",
          "plot_bgcolor": "#E5ECF6",
          "polar": {
           "angularaxis": {
            "gridcolor": "white",
            "linecolor": "white",
            "ticks": ""
           },
           "bgcolor": "#E5ECF6",
           "radialaxis": {
            "gridcolor": "white",
            "linecolor": "white",
            "ticks": ""
           }
          },
          "scene": {
           "xaxis": {
            "backgroundcolor": "#E5ECF6",
            "gridcolor": "white",
            "gridwidth": 2,
            "linecolor": "white",
            "showbackground": true,
            "ticks": "",
            "zerolinecolor": "white"
           },
           "yaxis": {
            "backgroundcolor": "#E5ECF6",
            "gridcolor": "white",
            "gridwidth": 2,
            "linecolor": "white",
            "showbackground": true,
            "ticks": "",
            "zerolinecolor": "white"
           },
           "zaxis": {
            "backgroundcolor": "#E5ECF6",
            "gridcolor": "white",
            "gridwidth": 2,
            "linecolor": "white",
            "showbackground": true,
            "ticks": "",
            "zerolinecolor": "white"
           }
          },
          "shapedefaults": {
           "line": {
            "color": "#2a3f5f"
           }
          },
          "ternary": {
           "aaxis": {
            "gridcolor": "white",
            "linecolor": "white",
            "ticks": ""
           },
           "baxis": {
            "gridcolor": "white",
            "linecolor": "white",
            "ticks": ""
           },
           "bgcolor": "#E5ECF6",
           "caxis": {
            "gridcolor": "white",
            "linecolor": "white",
            "ticks": ""
           }
          },
          "title": {
           "x": 0.05
          },
          "xaxis": {
           "automargin": true,
           "gridcolor": "white",
           "linecolor": "white",
           "ticks": "",
           "title": {
            "standoff": 15
           },
           "zerolinecolor": "white",
           "zerolinewidth": 2
          },
          "yaxis": {
           "automargin": true,
           "gridcolor": "white",
           "linecolor": "white",
           "ticks": "",
           "title": {
            "standoff": 15
           },
           "zerolinecolor": "white",
           "zerolinewidth": 2
          }
         }
        },
        "title": {
         "font": {
          "color": "#4D5663"
         }
        },
        "xaxis": {
         "gridcolor": "#E1E5ED",
         "showgrid": true,
         "tickfont": {
          "color": "#4D5663"
         },
         "title": {
          "font": {
           "color": "#4D5663"
          },
          "text": ""
         },
         "zerolinecolor": "#E1E5ED"
        },
        "yaxis": {
         "gridcolor": "#E1E5ED",
         "showgrid": true,
         "tickfont": {
          "color": "#4D5663"
         },
         "title": {
          "font": {
           "color": "#4D5663"
          },
          "text": ""
         },
         "zerolinecolor": "#E1E5ED"
        }
       }
      },
      "text/html": [
       "<div>\n",
       "        \n",
       "        \n",
       "            <div id=\"53382348-b010-4c18-99cd-0f5e08a4ed39\" class=\"plotly-graph-div\" style=\"height:525px; width:100%;\"></div>\n",
       "            <script type=\"text/javascript\">\n",
       "                require([\"plotly\"], function(Plotly) {\n",
       "                    window.PLOTLYENV=window.PLOTLYENV || {};\n",
       "                    window.PLOTLYENV.BASE_URL='https://plot.ly';\n",
       "                    \n",
       "                if (document.getElementById(\"53382348-b010-4c18-99cd-0f5e08a4ed39\")) {\n",
       "                    Plotly.newPlot(\n",
       "                        '53382348-b010-4c18-99cd-0f5e08a4ed39',\n",
       "                        [{\"histfunc\": \"count\", \"histnorm\": \"\", \"marker\": {\"color\": \"rgba(255, 153, 51, 1.0)\", \"line\": {\"color\": \"#4D5663\", \"width\": 1.3}}, \"name\": \"A\", \"opacity\": 0.8, \"orientation\": \"v\", \"type\": \"histogram\", \"x\": [1.0382366963092549, -2.400155902890422, 0.2965349865300015, -0.06810621767640156, 0.40986532593557184, 2.980340503066905, -0.8113478267697151, 0.12320917274783742, -0.7614388234908033, -1.6261937919214988, -0.4563416646160593, 0.8100652375053653, -0.4786810244642336, -0.15125352763689717, -0.35363337608754686, -0.4600439741878424, -0.548594427223353, 0.15179013108414735, 1.2527836008333177, -0.01486881648200595, -1.321028273052858, -1.215056740365512, -0.46443149005930484, -0.2148944304441226, 1.05921261639197, -0.44083508838166113, 0.2893866833914568, -0.08920210825676385, -2.141856887876484, -1.6561139570133645, 0.7297351210382328, 0.3621479005302017, 0.4544305516587094, 1.1267997842916877, 0.4980719238796653, 0.7538993836558499, 0.316316710943558, -0.7647936388049383, 1.1335735802883333, 1.5811875685001238, 0.4262992431174364, -0.18199337606603036, -1.6987872789952148, -0.31966643306678155, -1.0381492197795885, -0.7210400728089623, -0.5232424059498656, 0.33977487524362276, 2.399931576633395, -0.9645654786318648, 1.0038087775500733, -1.8883035577730836, 0.40755480079472817, 1.620992384935556, -1.5144382193345716, 0.931603224067061, -0.0690937367458445, -1.1113666817523113, -1.6884862187088228, 0.4847823519219444, -0.05144663802383848, 0.36834324602109547, -0.8353614597181127, 0.22373281034340456, -0.3566184980772613, 1.195601554009199, 0.06820956515592667, 0.04083572678921148, -0.6184542972098993, -2.051234833545991, -0.14841116035642724, -0.03474205360657567, -0.5092248018023503, 1.5827581291154604, 1.014753174170827, -0.8796020182618397, 1.5156583685885863, 0.3459349898339406, -1.0614935144891169, -0.7649817166963779, 0.9542728262990114, 0.648275202973677, 1.4943115581023017, -0.05217028507026561, -2.5758228868679427, 1.167717895603323, -0.3904663846029581, -1.1167983296391784, -1.2833065183657555, 0.1914994460291949, -1.0098431205894374, 0.6341599431397855, 1.0297851263869595, -0.8389507488561836, 1.5475484215159128, -0.7317169193187559, 0.7991377097309073, 0.8423863489416101, -0.6566768816715937, 0.6671829937032094]}],\n",
       "                        {\"barmode\": \"overlay\", \"legend\": {\"bgcolor\": \"#F5F6F9\", \"font\": {\"color\": \"#4D5663\"}}, \"paper_bgcolor\": \"#F5F6F9\", \"plot_bgcolor\": \"#F5F6F9\", \"template\": {\"data\": {\"bar\": [{\"error_x\": {\"color\": \"#2a3f5f\"}, \"error_y\": {\"color\": \"#2a3f5f\"}, \"marker\": {\"line\": {\"color\": \"#E5ECF6\", \"width\": 0.5}}, \"type\": \"bar\"}], \"barpolar\": [{\"marker\": {\"line\": {\"color\": \"#E5ECF6\", \"width\": 0.5}}, \"type\": \"barpolar\"}], \"carpet\": [{\"aaxis\": {\"endlinecolor\": \"#2a3f5f\", \"gridcolor\": \"white\", \"linecolor\": \"white\", \"minorgridcolor\": \"white\", \"startlinecolor\": \"#2a3f5f\"}, \"baxis\": {\"endlinecolor\": \"#2a3f5f\", \"gridcolor\": \"white\", \"linecolor\": \"white\", \"minorgridcolor\": \"white\", \"startlinecolor\": \"#2a3f5f\"}, \"type\": \"carpet\"}], \"choropleth\": [{\"colorbar\": {\"outlinewidth\": 0, \"ticks\": \"\"}, \"type\": \"choropleth\"}], \"contour\": [{\"colorbar\": {\"outlinewidth\": 0, \"ticks\": \"\"}, \"colorscale\": [[0.0, \"#0d0887\"], [0.1111111111111111, \"#46039f\"], [0.2222222222222222, \"#7201a8\"], [0.3333333333333333, \"#9c179e\"], [0.4444444444444444, \"#bd3786\"], [0.5555555555555556, \"#d8576b\"], [0.6666666666666666, \"#ed7953\"], [0.7777777777777778, \"#fb9f3a\"], [0.8888888888888888, \"#fdca26\"], [1.0, \"#f0f921\"]], \"type\": \"contour\"}], \"contourcarpet\": [{\"colorbar\": {\"outlinewidth\": 0, \"ticks\": \"\"}, \"type\": \"contourcarpet\"}], \"heatmap\": [{\"colorbar\": {\"outlinewidth\": 0, \"ticks\": \"\"}, \"colorscale\": [[0.0, \"#0d0887\"], [0.1111111111111111, \"#46039f\"], [0.2222222222222222, \"#7201a8\"], [0.3333333333333333, \"#9c179e\"], [0.4444444444444444, \"#bd3786\"], [0.5555555555555556, \"#d8576b\"], [0.6666666666666666, \"#ed7953\"], [0.7777777777777778, \"#fb9f3a\"], [0.8888888888888888, \"#fdca26\"], [1.0, \"#f0f921\"]], \"type\": \"heatmap\"}], \"heatmapgl\": [{\"colorbar\": {\"outlinewidth\": 0, \"ticks\": \"\"}, \"colorscale\": [[0.0, \"#0d0887\"], [0.1111111111111111, \"#46039f\"], [0.2222222222222222, \"#7201a8\"], [0.3333333333333333, \"#9c179e\"], [0.4444444444444444, \"#bd3786\"], [0.5555555555555556, \"#d8576b\"], [0.6666666666666666, \"#ed7953\"], [0.7777777777777778, \"#fb9f3a\"], [0.8888888888888888, \"#fdca26\"], [1.0, \"#f0f921\"]], \"type\": \"heatmapgl\"}], \"histogram\": [{\"marker\": {\"colorbar\": {\"outlinewidth\": 0, \"ticks\": \"\"}}, \"type\": \"histogram\"}], \"histogram2d\": [{\"colorbar\": {\"outlinewidth\": 0, \"ticks\": \"\"}, \"colorscale\": [[0.0, \"#0d0887\"], [0.1111111111111111, \"#46039f\"], [0.2222222222222222, \"#7201a8\"], [0.3333333333333333, \"#9c179e\"], [0.4444444444444444, \"#bd3786\"], [0.5555555555555556, \"#d8576b\"], [0.6666666666666666, \"#ed7953\"], [0.7777777777777778, \"#fb9f3a\"], [0.8888888888888888, \"#fdca26\"], [1.0, \"#f0f921\"]], \"type\": \"histogram2d\"}], \"histogram2dcontour\": [{\"colorbar\": {\"outlinewidth\": 0, \"ticks\": \"\"}, \"colorscale\": [[0.0, \"#0d0887\"], [0.1111111111111111, \"#46039f\"], [0.2222222222222222, \"#7201a8\"], [0.3333333333333333, \"#9c179e\"], [0.4444444444444444, \"#bd3786\"], [0.5555555555555556, \"#d8576b\"], [0.6666666666666666, \"#ed7953\"], [0.7777777777777778, \"#fb9f3a\"], [0.8888888888888888, \"#fdca26\"], [1.0, \"#f0f921\"]], \"type\": \"histogram2dcontour\"}], \"mesh3d\": [{\"colorbar\": {\"outlinewidth\": 0, \"ticks\": \"\"}, \"type\": \"mesh3d\"}], \"parcoords\": [{\"line\": {\"colorbar\": {\"outlinewidth\": 0, \"ticks\": \"\"}}, \"type\": \"parcoords\"}], \"pie\": [{\"automargin\": true, \"type\": \"pie\"}], \"scatter\": [{\"marker\": {\"colorbar\": {\"outlinewidth\": 0, \"ticks\": \"\"}}, \"type\": \"scatter\"}], \"scatter3d\": [{\"line\": {\"colorbar\": {\"outlinewidth\": 0, \"ticks\": \"\"}}, \"marker\": {\"colorbar\": {\"outlinewidth\": 0, \"ticks\": \"\"}}, \"type\": \"scatter3d\"}], \"scattercarpet\": [{\"marker\": {\"colorbar\": {\"outlinewidth\": 0, \"ticks\": \"\"}}, \"type\": \"scattercarpet\"}], \"scattergeo\": [{\"marker\": {\"colorbar\": {\"outlinewidth\": 0, \"ticks\": \"\"}}, \"type\": \"scattergeo\"}], \"scattergl\": [{\"marker\": {\"colorbar\": {\"outlinewidth\": 0, \"ticks\": \"\"}}, \"type\": \"scattergl\"}], \"scattermapbox\": [{\"marker\": {\"colorbar\": {\"outlinewidth\": 0, \"ticks\": \"\"}}, \"type\": \"scattermapbox\"}], \"scatterpolar\": [{\"marker\": {\"colorbar\": {\"outlinewidth\": 0, \"ticks\": \"\"}}, \"type\": \"scatterpolar\"}], \"scatterpolargl\": [{\"marker\": {\"colorbar\": {\"outlinewidth\": 0, \"ticks\": \"\"}}, \"type\": \"scatterpolargl\"}], \"scatterternary\": [{\"marker\": {\"colorbar\": {\"outlinewidth\": 0, \"ticks\": \"\"}}, \"type\": \"scatterternary\"}], \"surface\": [{\"colorbar\": {\"outlinewidth\": 0, \"ticks\": \"\"}, \"colorscale\": [[0.0, \"#0d0887\"], [0.1111111111111111, \"#46039f\"], [0.2222222222222222, \"#7201a8\"], [0.3333333333333333, \"#9c179e\"], [0.4444444444444444, \"#bd3786\"], [0.5555555555555556, \"#d8576b\"], [0.6666666666666666, \"#ed7953\"], [0.7777777777777778, \"#fb9f3a\"], [0.8888888888888888, \"#fdca26\"], [1.0, \"#f0f921\"]], \"type\": \"surface\"}], \"table\": [{\"cells\": {\"fill\": {\"color\": \"#EBF0F8\"}, \"line\": {\"color\": \"white\"}}, \"header\": {\"fill\": {\"color\": \"#C8D4E3\"}, \"line\": {\"color\": \"white\"}}, \"type\": \"table\"}]}, \"layout\": {\"annotationdefaults\": {\"arrowcolor\": \"#2a3f5f\", \"arrowhead\": 0, \"arrowwidth\": 1}, \"coloraxis\": {\"colorbar\": {\"outlinewidth\": 0, \"ticks\": \"\"}}, \"colorscale\": {\"diverging\": [[0, \"#8e0152\"], [0.1, \"#c51b7d\"], [0.2, \"#de77ae\"], [0.3, \"#f1b6da\"], [0.4, \"#fde0ef\"], [0.5, \"#f7f7f7\"], [0.6, \"#e6f5d0\"], [0.7, \"#b8e186\"], [0.8, \"#7fbc41\"], [0.9, \"#4d9221\"], [1, \"#276419\"]], \"sequential\": [[0.0, \"#0d0887\"], [0.1111111111111111, \"#46039f\"], [0.2222222222222222, \"#7201a8\"], [0.3333333333333333, \"#9c179e\"], [0.4444444444444444, \"#bd3786\"], [0.5555555555555556, \"#d8576b\"], [0.6666666666666666, \"#ed7953\"], [0.7777777777777778, \"#fb9f3a\"], [0.8888888888888888, \"#fdca26\"], [1.0, \"#f0f921\"]], \"sequentialminus\": [[0.0, \"#0d0887\"], [0.1111111111111111, \"#46039f\"], [0.2222222222222222, \"#7201a8\"], [0.3333333333333333, \"#9c179e\"], [0.4444444444444444, \"#bd3786\"], [0.5555555555555556, \"#d8576b\"], [0.6666666666666666, \"#ed7953\"], [0.7777777777777778, \"#fb9f3a\"], [0.8888888888888888, \"#fdca26\"], [1.0, \"#f0f921\"]]}, \"colorway\": [\"#636efa\", \"#EF553B\", \"#00cc96\", \"#ab63fa\", \"#FFA15A\", \"#19d3f3\", \"#FF6692\", \"#B6E880\", \"#FF97FF\", \"#FECB52\"], \"font\": {\"color\": \"#2a3f5f\"}, \"geo\": {\"bgcolor\": \"white\", \"lakecolor\": \"white\", \"landcolor\": \"#E5ECF6\", \"showlakes\": true, \"showland\": true, \"subunitcolor\": \"white\"}, \"hoverlabel\": {\"align\": \"left\"}, \"hovermode\": \"closest\", \"mapbox\": {\"style\": \"light\"}, \"paper_bgcolor\": \"white\", \"plot_bgcolor\": \"#E5ECF6\", \"polar\": {\"angularaxis\": {\"gridcolor\": \"white\", \"linecolor\": \"white\", \"ticks\": \"\"}, \"bgcolor\": \"#E5ECF6\", \"radialaxis\": {\"gridcolor\": \"white\", \"linecolor\": \"white\", \"ticks\": \"\"}}, \"scene\": {\"xaxis\": {\"backgroundcolor\": \"#E5ECF6\", \"gridcolor\": \"white\", \"gridwidth\": 2, \"linecolor\": \"white\", \"showbackground\": true, \"ticks\": \"\", \"zerolinecolor\": \"white\"}, \"yaxis\": {\"backgroundcolor\": \"#E5ECF6\", \"gridcolor\": \"white\", \"gridwidth\": 2, \"linecolor\": \"white\", \"showbackground\": true, \"ticks\": \"\", \"zerolinecolor\": \"white\"}, \"zaxis\": {\"backgroundcolor\": \"#E5ECF6\", \"gridcolor\": \"white\", \"gridwidth\": 2, \"linecolor\": \"white\", \"showbackground\": true, \"ticks\": \"\", \"zerolinecolor\": \"white\"}}, \"shapedefaults\": {\"line\": {\"color\": \"#2a3f5f\"}}, \"ternary\": {\"aaxis\": {\"gridcolor\": \"white\", \"linecolor\": \"white\", \"ticks\": \"\"}, \"baxis\": {\"gridcolor\": \"white\", \"linecolor\": \"white\", \"ticks\": \"\"}, \"bgcolor\": \"#E5ECF6\", \"caxis\": {\"gridcolor\": \"white\", \"linecolor\": \"white\", \"ticks\": \"\"}}, \"title\": {\"x\": 0.05}, \"xaxis\": {\"automargin\": true, \"gridcolor\": \"white\", \"linecolor\": \"white\", \"ticks\": \"\", \"title\": {\"standoff\": 15}, \"zerolinecolor\": \"white\", \"zerolinewidth\": 2}, \"yaxis\": {\"automargin\": true, \"gridcolor\": \"white\", \"linecolor\": \"white\", \"ticks\": \"\", \"title\": {\"standoff\": 15}, \"zerolinecolor\": \"white\", \"zerolinewidth\": 2}}}, \"title\": {\"font\": {\"color\": \"#4D5663\"}}, \"xaxis\": {\"gridcolor\": \"#E1E5ED\", \"showgrid\": true, \"tickfont\": {\"color\": \"#4D5663\"}, \"title\": {\"font\": {\"color\": \"#4D5663\"}, \"text\": \"\"}, \"zerolinecolor\": \"#E1E5ED\"}, \"yaxis\": {\"gridcolor\": \"#E1E5ED\", \"showgrid\": true, \"tickfont\": {\"color\": \"#4D5663\"}, \"title\": {\"font\": {\"color\": \"#4D5663\"}, \"text\": \"\"}, \"zerolinecolor\": \"#E1E5ED\"}},\n",
       "                        {\"showLink\": true, \"linkText\": \"Export to plot.ly\", \"plotlyServerURL\": \"https://plot.ly\", \"responsive\": true}\n",
       "                    ).then(function(){\n",
       "                            \n",
       "var gd = document.getElementById('53382348-b010-4c18-99cd-0f5e08a4ed39');\n",
       "var x = new MutationObserver(function (mutations, observer) {{\n",
       "        var display = window.getComputedStyle(gd).display;\n",
       "        if (!display || display === 'none') {{\n",
       "            console.log([gd, 'removed!']);\n",
       "            Plotly.purge(gd);\n",
       "            observer.disconnect();\n",
       "        }}\n",
       "}});\n",
       "\n",
       "// Listen for the removal of the full notebook cells\n",
       "var notebookContainer = gd.closest('#notebook-container');\n",
       "if (notebookContainer) {{\n",
       "    x.observe(notebookContainer, {childList: true});\n",
       "}}\n",
       "\n",
       "// Listen for the clearing of the current output cell\n",
       "var outputEl = gd.closest('.output');\n",
       "if (outputEl) {{\n",
       "    x.observe(outputEl, {childList: true});\n",
       "}}\n",
       "\n",
       "                        })\n",
       "                };\n",
       "                });\n",
       "            </script>\n",
       "        </div>"
      ]
     },
     "metadata": {},
     "output_type": "display_data"
    }
   ],
   "source": [
    "df['A'].iplot(kind='hist')"
   ]
  },
  {
   "cell_type": "code",
   "execution_count": 20,
   "metadata": {},
   "outputs": [
    {
     "data": {
      "application/vnd.plotly.v1+json": {
       "config": {
        "linkText": "Export to plot.ly",
        "plotlyServerURL": "https://plot.ly",
        "showLink": true
       },
       "data": [
        {
         "histfunc": "count",
         "histnorm": "",
         "marker": {
          "color": "rgba(255, 153, 51, 1.0)",
          "line": {
           "color": "#4D5663",
           "width": 1.3
          }
         },
         "name": "A",
         "opacity": 0.8,
         "orientation": "v",
         "type": "histogram",
         "x": [
          1.0382366963092549,
          -2.400155902890422,
          0.2965349865300015,
          -0.06810621767640156,
          0.40986532593557184,
          2.980340503066905,
          -0.8113478267697151,
          0.12320917274783742,
          -0.7614388234908033,
          -1.6261937919214988,
          -0.4563416646160593,
          0.8100652375053653,
          -0.4786810244642336,
          -0.15125352763689717,
          -0.35363337608754686,
          -0.4600439741878424,
          -0.548594427223353,
          0.15179013108414735,
          1.2527836008333177,
          -0.01486881648200595,
          -1.321028273052858,
          -1.215056740365512,
          -0.46443149005930484,
          -0.2148944304441226,
          1.05921261639197,
          -0.44083508838166113,
          0.2893866833914568,
          -0.08920210825676385,
          -2.141856887876484,
          -1.6561139570133645,
          0.7297351210382328,
          0.3621479005302017,
          0.4544305516587094,
          1.1267997842916877,
          0.4980719238796653,
          0.7538993836558499,
          0.316316710943558,
          -0.7647936388049383,
          1.1335735802883333,
          1.5811875685001238,
          0.4262992431174364,
          -0.18199337606603036,
          -1.6987872789952148,
          -0.31966643306678155,
          -1.0381492197795885,
          -0.7210400728089623,
          -0.5232424059498656,
          0.33977487524362276,
          2.399931576633395,
          -0.9645654786318648,
          1.0038087775500733,
          -1.8883035577730836,
          0.40755480079472817,
          1.620992384935556,
          -1.5144382193345716,
          0.931603224067061,
          -0.0690937367458445,
          -1.1113666817523113,
          -1.6884862187088228,
          0.4847823519219444,
          -0.05144663802383848,
          0.36834324602109547,
          -0.8353614597181127,
          0.22373281034340456,
          -0.3566184980772613,
          1.195601554009199,
          0.06820956515592667,
          0.04083572678921148,
          -0.6184542972098993,
          -2.051234833545991,
          -0.14841116035642724,
          -0.03474205360657567,
          -0.5092248018023503,
          1.5827581291154604,
          1.014753174170827,
          -0.8796020182618397,
          1.5156583685885863,
          0.3459349898339406,
          -1.0614935144891169,
          -0.7649817166963779,
          0.9542728262990114,
          0.648275202973677,
          1.4943115581023017,
          -0.05217028507026561,
          -2.5758228868679427,
          1.167717895603323,
          -0.3904663846029581,
          -1.1167983296391784,
          -1.2833065183657555,
          0.1914994460291949,
          -1.0098431205894374,
          0.6341599431397855,
          1.0297851263869595,
          -0.8389507488561836,
          1.5475484215159128,
          -0.7317169193187559,
          0.7991377097309073,
          0.8423863489416101,
          -0.6566768816715937,
          0.6671829937032094
         ]
        },
        {
         "histfunc": "count",
         "histnorm": "",
         "marker": {
          "color": "rgba(55, 128, 191, 1.0)",
          "line": {
           "color": "#4D5663",
           "width": 1.3
          }
         },
         "name": "B",
         "opacity": 0.8,
         "orientation": "v",
         "type": "histogram",
         "x": [
          1.2352637423497352,
          -0.644403593249537,
          -0.21583932947160878,
          -0.3065930615464294,
          0.6665906880616215,
          0.8274128978167663,
          0.05207674860437279,
          1.080405009642796,
          1.5503160159883964,
          -0.3976979490057124,
          -0.6995457282171443,
          0.5019567846337258,
          0.784414208144939,
          -0.9684400337727636,
          1.4681555528388157,
          0.9738748547542355,
          -0.1683756778040267,
          0.3284689415865835,
          -0.1019530754349385,
          0.9083874292429925,
          -0.7002357326015257,
          0.10253269120604626,
          -0.28304613432624315,
          0.29043776828919987,
          -1.5054504867131828,
          0.18888259838641094,
          0.7286810867526122,
          0.4024645562824474,
          -0.442632044759658,
          1.0128378062330445,
          1.4084203254739425,
          -1.7985124548998326,
          -1.4766875740832202,
          -0.14385940913942347,
          0.17461525221701604,
          -0.05939915810810186,
          1.1036634894886488,
          -1.614960059971259,
          0.9318582971966591,
          -1.5215083013652648,
          -0.6091839263780852,
          -1.487550522210282,
          1.5750848833669928,
          0.4460744620597566,
          1.3584587583826973,
          0.5305091400254296,
          0.4933623947455486,
          1.1827465762712785,
          0.16328972905461056,
          -0.32020332895890746,
          0.4465826943725874,
          2.2137359418920566,
          -0.5416389204214601,
          -2.374674201725834,
          -0.3318575370120358,
          0.3125129865243422,
          -1.2902209289754214,
          0.9453003743451314,
          -0.7222568276366002,
          -1.1086224341893036,
          0.9698175766464336,
          -0.02289777986971175,
          1.0119705009285886,
          -1.197599765857664,
          0.38586981097800205,
          0.1679327921569883,
          -1.1542382780421319,
          -2.6064743089733695,
          1.7539940301882824,
          -0.05325637220002819,
          0.8146578039065746,
          0.4061439818110797,
          1.1762007407215433,
          -1.4790773409005213,
          0.9741379879968607,
          -1.2534825112644354,
          -0.9035510642832751,
          -1.3400183078899761,
          1.3840795732538014,
          0.08235629844734149,
          0.526065491888457,
          1.1735641106989962,
          0.8725788127710796,
          -1.2212273380904914,
          -1.891203170183768,
          1.6731060104584292,
          -0.9194250381539126,
          -0.6757601984666243,
          1.07769365533154,
          0.5003415018622092,
          -0.5339589964979589,
          -1.9382073393181636,
          0.10156924921382787,
          1.4759570773089004,
          0.5185152737926203,
          -0.8940324829248656,
          0.626322064988126,
          1.9586230496827788,
          0.18164223414444486,
          0.3753347024349057
         ]
        },
        {
         "histfunc": "count",
         "histnorm": "",
         "marker": {
          "color": "rgba(50, 171, 96, 1.0)",
          "line": {
           "color": "#4D5663",
           "width": 1.3
          }
         },
         "name": "C",
         "opacity": 0.8,
         "orientation": "v",
         "type": "histogram",
         "x": [
          0.7171100537947829,
          -0.6705043942082773,
          0.31089544958537835,
          -0.5043338553673823,
          -0.9742934286592914,
          -0.1733077424089138,
          0.40273899477371145,
          -0.6353727131784702,
          0.6799008398905035,
          0.29401464110270065,
          -1.375383559586756,
          -0.6647087831656143,
          1.6878695232537342,
          -0.6775008445543156,
          0.06392053534539674,
          -0.10491907377723063,
          -1.7116153418750857,
          0.9132426243282985,
          0.3274138137400342,
          -1.1210504061662332,
          -0.6791126142611109,
          0.1885879389467673,
          0.3909779275251414,
          -0.9288957049944576,
          -2.7577958831534803,
          -1.2785164155839637,
          0.5621501801073486,
          1.7610820566494194,
          -0.21618981557249262,
          -0.5388315352174506,
          -0.18319484127549743,
          -1.2832271004863351,
          2.6350522687278297,
          0.527329557007783,
          2.0859269989831413,
          1.3173174640212095,
          0.06019145113004047,
          0.2803281571923362,
          0.12137096803749506,
          -0.7595620995669927,
          0.8063272411837533,
          0.3454677919922995,
          -1.5144978373390645,
          0.9098287486379316,
          -0.473253461076539,
          0.2546361718204737,
          -0.35631102763063105,
          -0.6560096359506616,
          -1.1504116315618926,
          -1.8092297541955427,
          0.3728890371817506,
          -0.3768972461695595,
          0.8618457937312982,
          0.9327747362965856,
          -0.0002969481683752328,
          -0.8025540412798581,
          -1.360758773697659,
          0.42442110317748133,
          0.5102958163011305,
          -1.1621362462104412,
          1.93438554911377,
          0.38054893117410227,
          0.4483119979873048,
          -0.1570420000950534,
          -0.47460728642647093,
          -0.3303592140332204,
          -0.3064263804028798,
          1.835841696252868,
          1.1173094754592006,
          1.5250387129796623,
          -0.057291305693003565,
          -0.1277431798795453,
          -0.42379062111402,
          1.3036894405310675,
          0.5069626545732473,
          -0.6490656729012979,
          0.8428305032262942,
          1.9077142030202825,
          0.6380603845203026,
          -0.5103004666672093,
          0.11796286832900063,
          -1.1643156350132926,
          0.8119996821846642,
          0.5159794791484065,
          1.1318910776205982,
          0.8570045052237849,
          -0.3304934378727535,
          -0.4294680263145168,
          0.7986529969396823,
          -0.9811302866659917,
          -0.38656570749482927,
          -1.0466307421303616,
          -1.8336662239594692,
          -1.1901951766741279,
          0.3101164589901357,
          -0.2205163030743878,
          0.09272998727655567,
          -0.07627106087898423,
          0.35305705832500406,
          1.7536382042482186
         ]
        },
        {
         "histfunc": "count",
         "histnorm": "",
         "marker": {
          "color": "rgba(128, 0, 128, 1.0)",
          "line": {
           "color": "#4D5663",
           "width": 1.3
          }
         },
         "name": "D",
         "opacity": 0.8,
         "orientation": "v",
         "type": "histogram",
         "x": [
          1.5944141224570951,
          -1.4422217718810517,
          -0.6775056248359165,
          0.5425327711778104,
          -1.150421084363576,
          0.5135457245087396,
          -1.321111295035442,
          -1.1114269353719264,
          -0.5482860723138663,
          -0.3826233020610873,
          1.8945668683576136,
          -0.7515833234081605,
          1.283833326285015,
          -0.8275993454656554,
          0.12838341498868214,
          0.8403329131702698,
          0.17060824519329876,
          -0.30011765035326887,
          0.4854545829024947,
          -1.8911154724785426,
          1.1917266999118605,
          2.10723855258812,
          0.3049749458737713,
          0.8629112602491235,
          1.3330630415456524,
          0.20595123957798286,
          1.134227029379625,
          -0.6242571940611776,
          0.8833618491795998,
          0.21596464385150554,
          0.23418253153394541,
          0.07659354311937588,
          -0.6967684344050352,
          0.3333750596807909,
          -0.4808972157811444,
          -0.4159007897049626,
          -1.4005464146445767,
          1.2344271956283603,
          -0.3076470278751892,
          -0.8955674379768139,
          0.30926774929739015,
          0.6297600251903708,
          1.7990748884496843,
          -0.5778543973249138,
          -0.335489100776331,
          1.0191314191159482,
          -0.24034705593365235,
          -0.6240939115662526,
          -0.1785435178941472,
          -0.0032633320920254657,
          -1.505027767445995,
          0.07444195095500496,
          -1.1804303602380004,
          -1.6787581401627665,
          1.548182150258975,
          -1.142038892624844,
          -1.1590141809540022,
          2.205301029707225,
          -1.7082026370724346,
          -0.4522905464781231,
          -1.560559469274855,
          -1.272695536524901,
          1.7508925284907684,
          0.265320949621517,
          -0.19252060791086,
          -0.0032326746137167433,
          -0.6622006488014425,
          -1.459023071543362,
          0.40990808542328505,
          0.17859359274457023,
          -0.46530176905928394,
          1.3943541030179492,
          0.5864037378850627,
          0.6072339357545016,
          0.14416285070077703,
          0.9317279671975461,
          0.5854298942901607,
          -1.4156750489248187,
          -0.5402684261429752,
          1.2560099479342928,
          -0.6501632557247102,
          -1.5112492067267687,
          -0.05218975454021778,
          0.41239328991222945,
          0.5445250929155341,
          0.37996094849536,
          -1.9119546395647826,
          0.709352415504824,
          -0.09305523635944245,
          0.3206055887521061,
          0.2200818497447563,
          0.3946196674990109,
          0.5530028946009807,
          1.4197216025804544,
          -0.5057009939104495,
          0.9786812076343843,
          0.7802124003868645,
          0.21398415474113802,
          -0.7621475066145035,
          0.3572791397580236
         ]
        }
       ],
       "layout": {
        "barmode": "overlay",
        "legend": {
         "bgcolor": "#F5F6F9",
         "font": {
          "color": "#4D5663"
         }
        },
        "paper_bgcolor": "#F5F6F9",
        "plot_bgcolor": "#F5F6F9",
        "template": {
         "data": {
          "bar": [
           {
            "error_x": {
             "color": "#2a3f5f"
            },
            "error_y": {
             "color": "#2a3f5f"
            },
            "marker": {
             "line": {
              "color": "#E5ECF6",
              "width": 0.5
             }
            },
            "type": "bar"
           }
          ],
          "barpolar": [
           {
            "marker": {
             "line": {
              "color": "#E5ECF6",
              "width": 0.5
             }
            },
            "type": "barpolar"
           }
          ],
          "carpet": [
           {
            "aaxis": {
             "endlinecolor": "#2a3f5f",
             "gridcolor": "white",
             "linecolor": "white",
             "minorgridcolor": "white",
             "startlinecolor": "#2a3f5f"
            },
            "baxis": {
             "endlinecolor": "#2a3f5f",
             "gridcolor": "white",
             "linecolor": "white",
             "minorgridcolor": "white",
             "startlinecolor": "#2a3f5f"
            },
            "type": "carpet"
           }
          ],
          "choropleth": [
           {
            "colorbar": {
             "outlinewidth": 0,
             "ticks": ""
            },
            "type": "choropleth"
           }
          ],
          "contour": [
           {
            "colorbar": {
             "outlinewidth": 0,
             "ticks": ""
            },
            "colorscale": [
             [
              0,
              "#0d0887"
             ],
             [
              0.1111111111111111,
              "#46039f"
             ],
             [
              0.2222222222222222,
              "#7201a8"
             ],
             [
              0.3333333333333333,
              "#9c179e"
             ],
             [
              0.4444444444444444,
              "#bd3786"
             ],
             [
              0.5555555555555556,
              "#d8576b"
             ],
             [
              0.6666666666666666,
              "#ed7953"
             ],
             [
              0.7777777777777778,
              "#fb9f3a"
             ],
             [
              0.8888888888888888,
              "#fdca26"
             ],
             [
              1,
              "#f0f921"
             ]
            ],
            "type": "contour"
           }
          ],
          "contourcarpet": [
           {
            "colorbar": {
             "outlinewidth": 0,
             "ticks": ""
            },
            "type": "contourcarpet"
           }
          ],
          "heatmap": [
           {
            "colorbar": {
             "outlinewidth": 0,
             "ticks": ""
            },
            "colorscale": [
             [
              0,
              "#0d0887"
             ],
             [
              0.1111111111111111,
              "#46039f"
             ],
             [
              0.2222222222222222,
              "#7201a8"
             ],
             [
              0.3333333333333333,
              "#9c179e"
             ],
             [
              0.4444444444444444,
              "#bd3786"
             ],
             [
              0.5555555555555556,
              "#d8576b"
             ],
             [
              0.6666666666666666,
              "#ed7953"
             ],
             [
              0.7777777777777778,
              "#fb9f3a"
             ],
             [
              0.8888888888888888,
              "#fdca26"
             ],
             [
              1,
              "#f0f921"
             ]
            ],
            "type": "heatmap"
           }
          ],
          "heatmapgl": [
           {
            "colorbar": {
             "outlinewidth": 0,
             "ticks": ""
            },
            "colorscale": [
             [
              0,
              "#0d0887"
             ],
             [
              0.1111111111111111,
              "#46039f"
             ],
             [
              0.2222222222222222,
              "#7201a8"
             ],
             [
              0.3333333333333333,
              "#9c179e"
             ],
             [
              0.4444444444444444,
              "#bd3786"
             ],
             [
              0.5555555555555556,
              "#d8576b"
             ],
             [
              0.6666666666666666,
              "#ed7953"
             ],
             [
              0.7777777777777778,
              "#fb9f3a"
             ],
             [
              0.8888888888888888,
              "#fdca26"
             ],
             [
              1,
              "#f0f921"
             ]
            ],
            "type": "heatmapgl"
           }
          ],
          "histogram": [
           {
            "marker": {
             "colorbar": {
              "outlinewidth": 0,
              "ticks": ""
             }
            },
            "type": "histogram"
           }
          ],
          "histogram2d": [
           {
            "colorbar": {
             "outlinewidth": 0,
             "ticks": ""
            },
            "colorscale": [
             [
              0,
              "#0d0887"
             ],
             [
              0.1111111111111111,
              "#46039f"
             ],
             [
              0.2222222222222222,
              "#7201a8"
             ],
             [
              0.3333333333333333,
              "#9c179e"
             ],
             [
              0.4444444444444444,
              "#bd3786"
             ],
             [
              0.5555555555555556,
              "#d8576b"
             ],
             [
              0.6666666666666666,
              "#ed7953"
             ],
             [
              0.7777777777777778,
              "#fb9f3a"
             ],
             [
              0.8888888888888888,
              "#fdca26"
             ],
             [
              1,
              "#f0f921"
             ]
            ],
            "type": "histogram2d"
           }
          ],
          "histogram2dcontour": [
           {
            "colorbar": {
             "outlinewidth": 0,
             "ticks": ""
            },
            "colorscale": [
             [
              0,
              "#0d0887"
             ],
             [
              0.1111111111111111,
              "#46039f"
             ],
             [
              0.2222222222222222,
              "#7201a8"
             ],
             [
              0.3333333333333333,
              "#9c179e"
             ],
             [
              0.4444444444444444,
              "#bd3786"
             ],
             [
              0.5555555555555556,
              "#d8576b"
             ],
             [
              0.6666666666666666,
              "#ed7953"
             ],
             [
              0.7777777777777778,
              "#fb9f3a"
             ],
             [
              0.8888888888888888,
              "#fdca26"
             ],
             [
              1,
              "#f0f921"
             ]
            ],
            "type": "histogram2dcontour"
           }
          ],
          "mesh3d": [
           {
            "colorbar": {
             "outlinewidth": 0,
             "ticks": ""
            },
            "type": "mesh3d"
           }
          ],
          "parcoords": [
           {
            "line": {
             "colorbar": {
              "outlinewidth": 0,
              "ticks": ""
             }
            },
            "type": "parcoords"
           }
          ],
          "pie": [
           {
            "automargin": true,
            "type": "pie"
           }
          ],
          "scatter": [
           {
            "marker": {
             "colorbar": {
              "outlinewidth": 0,
              "ticks": ""
             }
            },
            "type": "scatter"
           }
          ],
          "scatter3d": [
           {
            "line": {
             "colorbar": {
              "outlinewidth": 0,
              "ticks": ""
             }
            },
            "marker": {
             "colorbar": {
              "outlinewidth": 0,
              "ticks": ""
             }
            },
            "type": "scatter3d"
           }
          ],
          "scattercarpet": [
           {
            "marker": {
             "colorbar": {
              "outlinewidth": 0,
              "ticks": ""
             }
            },
            "type": "scattercarpet"
           }
          ],
          "scattergeo": [
           {
            "marker": {
             "colorbar": {
              "outlinewidth": 0,
              "ticks": ""
             }
            },
            "type": "scattergeo"
           }
          ],
          "scattergl": [
           {
            "marker": {
             "colorbar": {
              "outlinewidth": 0,
              "ticks": ""
             }
            },
            "type": "scattergl"
           }
          ],
          "scattermapbox": [
           {
            "marker": {
             "colorbar": {
              "outlinewidth": 0,
              "ticks": ""
             }
            },
            "type": "scattermapbox"
           }
          ],
          "scatterpolar": [
           {
            "marker": {
             "colorbar": {
              "outlinewidth": 0,
              "ticks": ""
             }
            },
            "type": "scatterpolar"
           }
          ],
          "scatterpolargl": [
           {
            "marker": {
             "colorbar": {
              "outlinewidth": 0,
              "ticks": ""
             }
            },
            "type": "scatterpolargl"
           }
          ],
          "scatterternary": [
           {
            "marker": {
             "colorbar": {
              "outlinewidth": 0,
              "ticks": ""
             }
            },
            "type": "scatterternary"
           }
          ],
          "surface": [
           {
            "colorbar": {
             "outlinewidth": 0,
             "ticks": ""
            },
            "colorscale": [
             [
              0,
              "#0d0887"
             ],
             [
              0.1111111111111111,
              "#46039f"
             ],
             [
              0.2222222222222222,
              "#7201a8"
             ],
             [
              0.3333333333333333,
              "#9c179e"
             ],
             [
              0.4444444444444444,
              "#bd3786"
             ],
             [
              0.5555555555555556,
              "#d8576b"
             ],
             [
              0.6666666666666666,
              "#ed7953"
             ],
             [
              0.7777777777777778,
              "#fb9f3a"
             ],
             [
              0.8888888888888888,
              "#fdca26"
             ],
             [
              1,
              "#f0f921"
             ]
            ],
            "type": "surface"
           }
          ],
          "table": [
           {
            "cells": {
             "fill": {
              "color": "#EBF0F8"
             },
             "line": {
              "color": "white"
             }
            },
            "header": {
             "fill": {
              "color": "#C8D4E3"
             },
             "line": {
              "color": "white"
             }
            },
            "type": "table"
           }
          ]
         },
         "layout": {
          "annotationdefaults": {
           "arrowcolor": "#2a3f5f",
           "arrowhead": 0,
           "arrowwidth": 1
          },
          "coloraxis": {
           "colorbar": {
            "outlinewidth": 0,
            "ticks": ""
           }
          },
          "colorscale": {
           "diverging": [
            [
             0,
             "#8e0152"
            ],
            [
             0.1,
             "#c51b7d"
            ],
            [
             0.2,
             "#de77ae"
            ],
            [
             0.3,
             "#f1b6da"
            ],
            [
             0.4,
             "#fde0ef"
            ],
            [
             0.5,
             "#f7f7f7"
            ],
            [
             0.6,
             "#e6f5d0"
            ],
            [
             0.7,
             "#b8e186"
            ],
            [
             0.8,
             "#7fbc41"
            ],
            [
             0.9,
             "#4d9221"
            ],
            [
             1,
             "#276419"
            ]
           ],
           "sequential": [
            [
             0,
             "#0d0887"
            ],
            [
             0.1111111111111111,
             "#46039f"
            ],
            [
             0.2222222222222222,
             "#7201a8"
            ],
            [
             0.3333333333333333,
             "#9c179e"
            ],
            [
             0.4444444444444444,
             "#bd3786"
            ],
            [
             0.5555555555555556,
             "#d8576b"
            ],
            [
             0.6666666666666666,
             "#ed7953"
            ],
            [
             0.7777777777777778,
             "#fb9f3a"
            ],
            [
             0.8888888888888888,
             "#fdca26"
            ],
            [
             1,
             "#f0f921"
            ]
           ],
           "sequentialminus": [
            [
             0,
             "#0d0887"
            ],
            [
             0.1111111111111111,
             "#46039f"
            ],
            [
             0.2222222222222222,
             "#7201a8"
            ],
            [
             0.3333333333333333,
             "#9c179e"
            ],
            [
             0.4444444444444444,
             "#bd3786"
            ],
            [
             0.5555555555555556,
             "#d8576b"
            ],
            [
             0.6666666666666666,
             "#ed7953"
            ],
            [
             0.7777777777777778,
             "#fb9f3a"
            ],
            [
             0.8888888888888888,
             "#fdca26"
            ],
            [
             1,
             "#f0f921"
            ]
           ]
          },
          "colorway": [
           "#636efa",
           "#EF553B",
           "#00cc96",
           "#ab63fa",
           "#FFA15A",
           "#19d3f3",
           "#FF6692",
           "#B6E880",
           "#FF97FF",
           "#FECB52"
          ],
          "font": {
           "color": "#2a3f5f"
          },
          "geo": {
           "bgcolor": "white",
           "lakecolor": "white",
           "landcolor": "#E5ECF6",
           "showlakes": true,
           "showland": true,
           "subunitcolor": "white"
          },
          "hoverlabel": {
           "align": "left"
          },
          "hovermode": "closest",
          "mapbox": {
           "style": "light"
          },
          "paper_bgcolor": "white",
          "plot_bgcolor": "#E5ECF6",
          "polar": {
           "angularaxis": {
            "gridcolor": "white",
            "linecolor": "white",
            "ticks": ""
           },
           "bgcolor": "#E5ECF6",
           "radialaxis": {
            "gridcolor": "white",
            "linecolor": "white",
            "ticks": ""
           }
          },
          "scene": {
           "xaxis": {
            "backgroundcolor": "#E5ECF6",
            "gridcolor": "white",
            "gridwidth": 2,
            "linecolor": "white",
            "showbackground": true,
            "ticks": "",
            "zerolinecolor": "white"
           },
           "yaxis": {
            "backgroundcolor": "#E5ECF6",
            "gridcolor": "white",
            "gridwidth": 2,
            "linecolor": "white",
            "showbackground": true,
            "ticks": "",
            "zerolinecolor": "white"
           },
           "zaxis": {
            "backgroundcolor": "#E5ECF6",
            "gridcolor": "white",
            "gridwidth": 2,
            "linecolor": "white",
            "showbackground": true,
            "ticks": "",
            "zerolinecolor": "white"
           }
          },
          "shapedefaults": {
           "line": {
            "color": "#2a3f5f"
           }
          },
          "ternary": {
           "aaxis": {
            "gridcolor": "white",
            "linecolor": "white",
            "ticks": ""
           },
           "baxis": {
            "gridcolor": "white",
            "linecolor": "white",
            "ticks": ""
           },
           "bgcolor": "#E5ECF6",
           "caxis": {
            "gridcolor": "white",
            "linecolor": "white",
            "ticks": ""
           }
          },
          "title": {
           "x": 0.05
          },
          "xaxis": {
           "automargin": true,
           "gridcolor": "white",
           "linecolor": "white",
           "ticks": "",
           "title": {
            "standoff": 15
           },
           "zerolinecolor": "white",
           "zerolinewidth": 2
          },
          "yaxis": {
           "automargin": true,
           "gridcolor": "white",
           "linecolor": "white",
           "ticks": "",
           "title": {
            "standoff": 15
           },
           "zerolinecolor": "white",
           "zerolinewidth": 2
          }
         }
        },
        "title": {
         "font": {
          "color": "#4D5663"
         }
        },
        "xaxis": {
         "gridcolor": "#E1E5ED",
         "showgrid": true,
         "tickfont": {
          "color": "#4D5663"
         },
         "title": {
          "font": {
           "color": "#4D5663"
          },
          "text": ""
         },
         "zerolinecolor": "#E1E5ED"
        },
        "yaxis": {
         "gridcolor": "#E1E5ED",
         "showgrid": true,
         "tickfont": {
          "color": "#4D5663"
         },
         "title": {
          "font": {
           "color": "#4D5663"
          },
          "text": ""
         },
         "zerolinecolor": "#E1E5ED"
        }
       }
      },
      "text/html": [
       "<div>\n",
       "        \n",
       "        \n",
       "            <div id=\"aa1d373d-6fc7-4bd1-97af-f78b5ab61f65\" class=\"plotly-graph-div\" style=\"height:525px; width:100%;\"></div>\n",
       "            <script type=\"text/javascript\">\n",
       "                require([\"plotly\"], function(Plotly) {\n",
       "                    window.PLOTLYENV=window.PLOTLYENV || {};\n",
       "                    window.PLOTLYENV.BASE_URL='https://plot.ly';\n",
       "                    \n",
       "                if (document.getElementById(\"aa1d373d-6fc7-4bd1-97af-f78b5ab61f65\")) {\n",
       "                    Plotly.newPlot(\n",
       "                        'aa1d373d-6fc7-4bd1-97af-f78b5ab61f65',\n",
       "                        [{\"histfunc\": \"count\", \"histnorm\": \"\", \"marker\": {\"color\": \"rgba(255, 153, 51, 1.0)\", \"line\": {\"color\": \"#4D5663\", \"width\": 1.3}}, \"name\": \"A\", \"opacity\": 0.8, \"orientation\": \"v\", \"type\": \"histogram\", \"x\": [1.0382366963092549, -2.400155902890422, 0.2965349865300015, -0.06810621767640156, 0.40986532593557184, 2.980340503066905, -0.8113478267697151, 0.12320917274783742, -0.7614388234908033, -1.6261937919214988, -0.4563416646160593, 0.8100652375053653, -0.4786810244642336, -0.15125352763689717, -0.35363337608754686, -0.4600439741878424, -0.548594427223353, 0.15179013108414735, 1.2527836008333177, -0.01486881648200595, -1.321028273052858, -1.215056740365512, -0.46443149005930484, -0.2148944304441226, 1.05921261639197, -0.44083508838166113, 0.2893866833914568, -0.08920210825676385, -2.141856887876484, -1.6561139570133645, 0.7297351210382328, 0.3621479005302017, 0.4544305516587094, 1.1267997842916877, 0.4980719238796653, 0.7538993836558499, 0.316316710943558, -0.7647936388049383, 1.1335735802883333, 1.5811875685001238, 0.4262992431174364, -0.18199337606603036, -1.6987872789952148, -0.31966643306678155, -1.0381492197795885, -0.7210400728089623, -0.5232424059498656, 0.33977487524362276, 2.399931576633395, -0.9645654786318648, 1.0038087775500733, -1.8883035577730836, 0.40755480079472817, 1.620992384935556, -1.5144382193345716, 0.931603224067061, -0.0690937367458445, -1.1113666817523113, -1.6884862187088228, 0.4847823519219444, -0.05144663802383848, 0.36834324602109547, -0.8353614597181127, 0.22373281034340456, -0.3566184980772613, 1.195601554009199, 0.06820956515592667, 0.04083572678921148, -0.6184542972098993, -2.051234833545991, -0.14841116035642724, -0.03474205360657567, -0.5092248018023503, 1.5827581291154604, 1.014753174170827, -0.8796020182618397, 1.5156583685885863, 0.3459349898339406, -1.0614935144891169, -0.7649817166963779, 0.9542728262990114, 0.648275202973677, 1.4943115581023017, -0.05217028507026561, -2.5758228868679427, 1.167717895603323, -0.3904663846029581, -1.1167983296391784, -1.2833065183657555, 0.1914994460291949, -1.0098431205894374, 0.6341599431397855, 1.0297851263869595, -0.8389507488561836, 1.5475484215159128, -0.7317169193187559, 0.7991377097309073, 0.8423863489416101, -0.6566768816715937, 0.6671829937032094]}, {\"histfunc\": \"count\", \"histnorm\": \"\", \"marker\": {\"color\": \"rgba(55, 128, 191, 1.0)\", \"line\": {\"color\": \"#4D5663\", \"width\": 1.3}}, \"name\": \"B\", \"opacity\": 0.8, \"orientation\": \"v\", \"type\": \"histogram\", \"x\": [1.2352637423497352, -0.644403593249537, -0.21583932947160878, -0.3065930615464294, 0.6665906880616215, 0.8274128978167663, 0.05207674860437279, 1.080405009642796, 1.5503160159883964, -0.3976979490057124, -0.6995457282171443, 0.5019567846337258, 0.784414208144939, -0.9684400337727636, 1.4681555528388157, 0.9738748547542355, -0.1683756778040267, 0.3284689415865835, -0.1019530754349385, 0.9083874292429925, -0.7002357326015257, 0.10253269120604626, -0.28304613432624315, 0.29043776828919987, -1.5054504867131828, 0.18888259838641094, 0.7286810867526122, 0.4024645562824474, -0.442632044759658, 1.0128378062330445, 1.4084203254739425, -1.7985124548998326, -1.4766875740832202, -0.14385940913942347, 0.17461525221701604, -0.05939915810810186, 1.1036634894886488, -1.614960059971259, 0.9318582971966591, -1.5215083013652648, -0.6091839263780852, -1.487550522210282, 1.5750848833669928, 0.4460744620597566, 1.3584587583826973, 0.5305091400254296, 0.4933623947455486, 1.1827465762712785, 0.16328972905461056, -0.32020332895890746, 0.4465826943725874, 2.2137359418920566, -0.5416389204214601, -2.374674201725834, -0.3318575370120358, 0.3125129865243422, -1.2902209289754214, 0.9453003743451314, -0.7222568276366002, -1.1086224341893036, 0.9698175766464336, -0.02289777986971175, 1.0119705009285886, -1.197599765857664, 0.38586981097800205, 0.1679327921569883, -1.1542382780421319, -2.6064743089733695, 1.7539940301882824, -0.05325637220002819, 0.8146578039065746, 0.4061439818110797, 1.1762007407215433, -1.4790773409005213, 0.9741379879968607, -1.2534825112644354, -0.9035510642832751, -1.3400183078899761, 1.3840795732538014, 0.08235629844734149, 0.526065491888457, 1.1735641106989962, 0.8725788127710796, -1.2212273380904914, -1.891203170183768, 1.6731060104584292, -0.9194250381539126, -0.6757601984666243, 1.07769365533154, 0.5003415018622092, -0.5339589964979589, -1.9382073393181636, 0.10156924921382787, 1.4759570773089004, 0.5185152737926203, -0.8940324829248656, 0.626322064988126, 1.9586230496827788, 0.18164223414444486, 0.3753347024349057]}, {\"histfunc\": \"count\", \"histnorm\": \"\", \"marker\": {\"color\": \"rgba(50, 171, 96, 1.0)\", \"line\": {\"color\": \"#4D5663\", \"width\": 1.3}}, \"name\": \"C\", \"opacity\": 0.8, \"orientation\": \"v\", \"type\": \"histogram\", \"x\": [0.7171100537947829, -0.6705043942082773, 0.31089544958537835, -0.5043338553673823, -0.9742934286592914, -0.1733077424089138, 0.40273899477371145, -0.6353727131784702, 0.6799008398905035, 0.29401464110270065, -1.375383559586756, -0.6647087831656143, 1.6878695232537342, -0.6775008445543156, 0.06392053534539674, -0.10491907377723063, -1.7116153418750857, 0.9132426243282985, 0.3274138137400342, -1.1210504061662332, -0.6791126142611109, 0.1885879389467673, 0.3909779275251414, -0.9288957049944576, -2.7577958831534803, -1.2785164155839637, 0.5621501801073486, 1.7610820566494194, -0.21618981557249262, -0.5388315352174506, -0.18319484127549743, -1.2832271004863351, 2.6350522687278297, 0.527329557007783, 2.0859269989831413, 1.3173174640212095, 0.06019145113004047, 0.2803281571923362, 0.12137096803749506, -0.7595620995669927, 0.8063272411837533, 0.3454677919922995, -1.5144978373390645, 0.9098287486379316, -0.473253461076539, 0.2546361718204737, -0.35631102763063105, -0.6560096359506616, -1.1504116315618926, -1.8092297541955427, 0.3728890371817506, -0.3768972461695595, 0.8618457937312982, 0.9327747362965856, -0.0002969481683752328, -0.8025540412798581, -1.360758773697659, 0.42442110317748133, 0.5102958163011305, -1.1621362462104412, 1.93438554911377, 0.38054893117410227, 0.4483119979873048, -0.1570420000950534, -0.47460728642647093, -0.3303592140332204, -0.3064263804028798, 1.835841696252868, 1.1173094754592006, 1.5250387129796623, -0.057291305693003565, -0.1277431798795453, -0.42379062111402, 1.3036894405310675, 0.5069626545732473, -0.6490656729012979, 0.8428305032262942, 1.9077142030202825, 0.6380603845203026, -0.5103004666672093, 0.11796286832900063, -1.1643156350132926, 0.8119996821846642, 0.5159794791484065, 1.1318910776205982, 0.8570045052237849, -0.3304934378727535, -0.4294680263145168, 0.7986529969396823, -0.9811302866659917, -0.38656570749482927, -1.0466307421303616, -1.8336662239594692, -1.1901951766741279, 0.3101164589901357, -0.2205163030743878, 0.09272998727655567, -0.07627106087898423, 0.35305705832500406, 1.7536382042482186]}, {\"histfunc\": \"count\", \"histnorm\": \"\", \"marker\": {\"color\": \"rgba(128, 0, 128, 1.0)\", \"line\": {\"color\": \"#4D5663\", \"width\": 1.3}}, \"name\": \"D\", \"opacity\": 0.8, \"orientation\": \"v\", \"type\": \"histogram\", \"x\": [1.5944141224570951, -1.4422217718810517, -0.6775056248359165, 0.5425327711778104, -1.150421084363576, 0.5135457245087396, -1.321111295035442, -1.1114269353719264, -0.5482860723138663, -0.3826233020610873, 1.8945668683576136, -0.7515833234081605, 1.283833326285015, -0.8275993454656554, 0.12838341498868214, 0.8403329131702698, 0.17060824519329876, -0.30011765035326887, 0.4854545829024947, -1.8911154724785426, 1.1917266999118605, 2.10723855258812, 0.3049749458737713, 0.8629112602491235, 1.3330630415456524, 0.20595123957798286, 1.134227029379625, -0.6242571940611776, 0.8833618491795998, 0.21596464385150554, 0.23418253153394541, 0.07659354311937588, -0.6967684344050352, 0.3333750596807909, -0.4808972157811444, -0.4159007897049626, -1.4005464146445767, 1.2344271956283603, -0.3076470278751892, -0.8955674379768139, 0.30926774929739015, 0.6297600251903708, 1.7990748884496843, -0.5778543973249138, -0.335489100776331, 1.0191314191159482, -0.24034705593365235, -0.6240939115662526, -0.1785435178941472, -0.0032633320920254657, -1.505027767445995, 0.07444195095500496, -1.1804303602380004, -1.6787581401627665, 1.548182150258975, -1.142038892624844, -1.1590141809540022, 2.205301029707225, -1.7082026370724346, -0.4522905464781231, -1.560559469274855, -1.272695536524901, 1.7508925284907684, 0.265320949621517, -0.19252060791086, -0.0032326746137167433, -0.6622006488014425, -1.459023071543362, 0.40990808542328505, 0.17859359274457023, -0.46530176905928394, 1.3943541030179492, 0.5864037378850627, 0.6072339357545016, 0.14416285070077703, 0.9317279671975461, 0.5854298942901607, -1.4156750489248187, -0.5402684261429752, 1.2560099479342928, -0.6501632557247102, -1.5112492067267687, -0.05218975454021778, 0.41239328991222945, 0.5445250929155341, 0.37996094849536, -1.9119546395647826, 0.709352415504824, -0.09305523635944245, 0.3206055887521061, 0.2200818497447563, 0.3946196674990109, 0.5530028946009807, 1.4197216025804544, -0.5057009939104495, 0.9786812076343843, 0.7802124003868645, 0.21398415474113802, -0.7621475066145035, 0.3572791397580236]}],\n",
       "                        {\"barmode\": \"overlay\", \"legend\": {\"bgcolor\": \"#F5F6F9\", \"font\": {\"color\": \"#4D5663\"}}, \"paper_bgcolor\": \"#F5F6F9\", \"plot_bgcolor\": \"#F5F6F9\", \"template\": {\"data\": {\"bar\": [{\"error_x\": {\"color\": \"#2a3f5f\"}, \"error_y\": {\"color\": \"#2a3f5f\"}, \"marker\": {\"line\": {\"color\": \"#E5ECF6\", \"width\": 0.5}}, \"type\": \"bar\"}], \"barpolar\": [{\"marker\": {\"line\": {\"color\": \"#E5ECF6\", \"width\": 0.5}}, \"type\": \"barpolar\"}], \"carpet\": [{\"aaxis\": {\"endlinecolor\": \"#2a3f5f\", \"gridcolor\": \"white\", \"linecolor\": \"white\", \"minorgridcolor\": \"white\", \"startlinecolor\": \"#2a3f5f\"}, \"baxis\": {\"endlinecolor\": \"#2a3f5f\", \"gridcolor\": \"white\", \"linecolor\": \"white\", \"minorgridcolor\": \"white\", \"startlinecolor\": \"#2a3f5f\"}, \"type\": \"carpet\"}], \"choropleth\": [{\"colorbar\": {\"outlinewidth\": 0, \"ticks\": \"\"}, \"type\": \"choropleth\"}], \"contour\": [{\"colorbar\": {\"outlinewidth\": 0, \"ticks\": \"\"}, \"colorscale\": [[0.0, \"#0d0887\"], [0.1111111111111111, \"#46039f\"], [0.2222222222222222, \"#7201a8\"], [0.3333333333333333, \"#9c179e\"], [0.4444444444444444, \"#bd3786\"], [0.5555555555555556, \"#d8576b\"], [0.6666666666666666, \"#ed7953\"], [0.7777777777777778, \"#fb9f3a\"], [0.8888888888888888, \"#fdca26\"], [1.0, \"#f0f921\"]], \"type\": \"contour\"}], \"contourcarpet\": [{\"colorbar\": {\"outlinewidth\": 0, \"ticks\": \"\"}, \"type\": \"contourcarpet\"}], \"heatmap\": [{\"colorbar\": {\"outlinewidth\": 0, \"ticks\": \"\"}, \"colorscale\": [[0.0, \"#0d0887\"], [0.1111111111111111, \"#46039f\"], [0.2222222222222222, \"#7201a8\"], [0.3333333333333333, \"#9c179e\"], [0.4444444444444444, \"#bd3786\"], [0.5555555555555556, \"#d8576b\"], [0.6666666666666666, \"#ed7953\"], [0.7777777777777778, \"#fb9f3a\"], [0.8888888888888888, \"#fdca26\"], [1.0, \"#f0f921\"]], \"type\": \"heatmap\"}], \"heatmapgl\": [{\"colorbar\": {\"outlinewidth\": 0, \"ticks\": \"\"}, \"colorscale\": [[0.0, \"#0d0887\"], [0.1111111111111111, \"#46039f\"], [0.2222222222222222, \"#7201a8\"], [0.3333333333333333, \"#9c179e\"], [0.4444444444444444, \"#bd3786\"], [0.5555555555555556, \"#d8576b\"], [0.6666666666666666, \"#ed7953\"], [0.7777777777777778, \"#fb9f3a\"], [0.8888888888888888, \"#fdca26\"], [1.0, \"#f0f921\"]], \"type\": \"heatmapgl\"}], \"histogram\": [{\"marker\": {\"colorbar\": {\"outlinewidth\": 0, \"ticks\": \"\"}}, \"type\": \"histogram\"}], \"histogram2d\": [{\"colorbar\": {\"outlinewidth\": 0, \"ticks\": \"\"}, \"colorscale\": [[0.0, \"#0d0887\"], [0.1111111111111111, \"#46039f\"], [0.2222222222222222, \"#7201a8\"], [0.3333333333333333, \"#9c179e\"], [0.4444444444444444, \"#bd3786\"], [0.5555555555555556, \"#d8576b\"], [0.6666666666666666, \"#ed7953\"], [0.7777777777777778, \"#fb9f3a\"], [0.8888888888888888, \"#fdca26\"], [1.0, \"#f0f921\"]], \"type\": \"histogram2d\"}], \"histogram2dcontour\": [{\"colorbar\": {\"outlinewidth\": 0, \"ticks\": \"\"}, \"colorscale\": [[0.0, \"#0d0887\"], [0.1111111111111111, \"#46039f\"], [0.2222222222222222, \"#7201a8\"], [0.3333333333333333, \"#9c179e\"], [0.4444444444444444, \"#bd3786\"], [0.5555555555555556, \"#d8576b\"], [0.6666666666666666, \"#ed7953\"], [0.7777777777777778, \"#fb9f3a\"], [0.8888888888888888, \"#fdca26\"], [1.0, \"#f0f921\"]], \"type\": \"histogram2dcontour\"}], \"mesh3d\": [{\"colorbar\": {\"outlinewidth\": 0, \"ticks\": \"\"}, \"type\": \"mesh3d\"}], \"parcoords\": [{\"line\": {\"colorbar\": {\"outlinewidth\": 0, \"ticks\": \"\"}}, \"type\": \"parcoords\"}], \"pie\": [{\"automargin\": true, \"type\": \"pie\"}], \"scatter\": [{\"marker\": {\"colorbar\": {\"outlinewidth\": 0, \"ticks\": \"\"}}, \"type\": \"scatter\"}], \"scatter3d\": [{\"line\": {\"colorbar\": {\"outlinewidth\": 0, \"ticks\": \"\"}}, \"marker\": {\"colorbar\": {\"outlinewidth\": 0, \"ticks\": \"\"}}, \"type\": \"scatter3d\"}], \"scattercarpet\": [{\"marker\": {\"colorbar\": {\"outlinewidth\": 0, \"ticks\": \"\"}}, \"type\": \"scattercarpet\"}], \"scattergeo\": [{\"marker\": {\"colorbar\": {\"outlinewidth\": 0, \"ticks\": \"\"}}, \"type\": \"scattergeo\"}], \"scattergl\": [{\"marker\": {\"colorbar\": {\"outlinewidth\": 0, \"ticks\": \"\"}}, \"type\": \"scattergl\"}], \"scattermapbox\": [{\"marker\": {\"colorbar\": {\"outlinewidth\": 0, \"ticks\": \"\"}}, \"type\": \"scattermapbox\"}], \"scatterpolar\": [{\"marker\": {\"colorbar\": {\"outlinewidth\": 0, \"ticks\": \"\"}}, \"type\": \"scatterpolar\"}], \"scatterpolargl\": [{\"marker\": {\"colorbar\": {\"outlinewidth\": 0, \"ticks\": \"\"}}, \"type\": \"scatterpolargl\"}], \"scatterternary\": [{\"marker\": {\"colorbar\": {\"outlinewidth\": 0, \"ticks\": \"\"}}, \"type\": \"scatterternary\"}], \"surface\": [{\"colorbar\": {\"outlinewidth\": 0, \"ticks\": \"\"}, \"colorscale\": [[0.0, \"#0d0887\"], [0.1111111111111111, \"#46039f\"], [0.2222222222222222, \"#7201a8\"], [0.3333333333333333, \"#9c179e\"], [0.4444444444444444, \"#bd3786\"], [0.5555555555555556, \"#d8576b\"], [0.6666666666666666, \"#ed7953\"], [0.7777777777777778, \"#fb9f3a\"], [0.8888888888888888, \"#fdca26\"], [1.0, \"#f0f921\"]], \"type\": \"surface\"}], \"table\": [{\"cells\": {\"fill\": {\"color\": \"#EBF0F8\"}, \"line\": {\"color\": \"white\"}}, \"header\": {\"fill\": {\"color\": \"#C8D4E3\"}, \"line\": {\"color\": \"white\"}}, \"type\": \"table\"}]}, \"layout\": {\"annotationdefaults\": {\"arrowcolor\": \"#2a3f5f\", \"arrowhead\": 0, \"arrowwidth\": 1}, \"coloraxis\": {\"colorbar\": {\"outlinewidth\": 0, \"ticks\": \"\"}}, \"colorscale\": {\"diverging\": [[0, \"#8e0152\"], [0.1, \"#c51b7d\"], [0.2, \"#de77ae\"], [0.3, \"#f1b6da\"], [0.4, \"#fde0ef\"], [0.5, \"#f7f7f7\"], [0.6, \"#e6f5d0\"], [0.7, \"#b8e186\"], [0.8, \"#7fbc41\"], [0.9, \"#4d9221\"], [1, \"#276419\"]], \"sequential\": [[0.0, \"#0d0887\"], [0.1111111111111111, \"#46039f\"], [0.2222222222222222, \"#7201a8\"], [0.3333333333333333, \"#9c179e\"], [0.4444444444444444, \"#bd3786\"], [0.5555555555555556, \"#d8576b\"], [0.6666666666666666, \"#ed7953\"], [0.7777777777777778, \"#fb9f3a\"], [0.8888888888888888, \"#fdca26\"], [1.0, \"#f0f921\"]], \"sequentialminus\": [[0.0, \"#0d0887\"], [0.1111111111111111, \"#46039f\"], [0.2222222222222222, \"#7201a8\"], [0.3333333333333333, \"#9c179e\"], [0.4444444444444444, \"#bd3786\"], [0.5555555555555556, \"#d8576b\"], [0.6666666666666666, \"#ed7953\"], [0.7777777777777778, \"#fb9f3a\"], [0.8888888888888888, \"#fdca26\"], [1.0, \"#f0f921\"]]}, \"colorway\": [\"#636efa\", \"#EF553B\", \"#00cc96\", \"#ab63fa\", \"#FFA15A\", \"#19d3f3\", \"#FF6692\", \"#B6E880\", \"#FF97FF\", \"#FECB52\"], \"font\": {\"color\": \"#2a3f5f\"}, \"geo\": {\"bgcolor\": \"white\", \"lakecolor\": \"white\", \"landcolor\": \"#E5ECF6\", \"showlakes\": true, \"showland\": true, \"subunitcolor\": \"white\"}, \"hoverlabel\": {\"align\": \"left\"}, \"hovermode\": \"closest\", \"mapbox\": {\"style\": \"light\"}, \"paper_bgcolor\": \"white\", \"plot_bgcolor\": \"#E5ECF6\", \"polar\": {\"angularaxis\": {\"gridcolor\": \"white\", \"linecolor\": \"white\", \"ticks\": \"\"}, \"bgcolor\": \"#E5ECF6\", \"radialaxis\": {\"gridcolor\": \"white\", \"linecolor\": \"white\", \"ticks\": \"\"}}, \"scene\": {\"xaxis\": {\"backgroundcolor\": \"#E5ECF6\", \"gridcolor\": \"white\", \"gridwidth\": 2, \"linecolor\": \"white\", \"showbackground\": true, \"ticks\": \"\", \"zerolinecolor\": \"white\"}, \"yaxis\": {\"backgroundcolor\": \"#E5ECF6\", \"gridcolor\": \"white\", \"gridwidth\": 2, \"linecolor\": \"white\", \"showbackground\": true, \"ticks\": \"\", \"zerolinecolor\": \"white\"}, \"zaxis\": {\"backgroundcolor\": \"#E5ECF6\", \"gridcolor\": \"white\", \"gridwidth\": 2, \"linecolor\": \"white\", \"showbackground\": true, \"ticks\": \"\", \"zerolinecolor\": \"white\"}}, \"shapedefaults\": {\"line\": {\"color\": \"#2a3f5f\"}}, \"ternary\": {\"aaxis\": {\"gridcolor\": \"white\", \"linecolor\": \"white\", \"ticks\": \"\"}, \"baxis\": {\"gridcolor\": \"white\", \"linecolor\": \"white\", \"ticks\": \"\"}, \"bgcolor\": \"#E5ECF6\", \"caxis\": {\"gridcolor\": \"white\", \"linecolor\": \"white\", \"ticks\": \"\"}}, \"title\": {\"x\": 0.05}, \"xaxis\": {\"automargin\": true, \"gridcolor\": \"white\", \"linecolor\": \"white\", \"ticks\": \"\", \"title\": {\"standoff\": 15}, \"zerolinecolor\": \"white\", \"zerolinewidth\": 2}, \"yaxis\": {\"automargin\": true, \"gridcolor\": \"white\", \"linecolor\": \"white\", \"ticks\": \"\", \"title\": {\"standoff\": 15}, \"zerolinecolor\": \"white\", \"zerolinewidth\": 2}}}, \"title\": {\"font\": {\"color\": \"#4D5663\"}}, \"xaxis\": {\"gridcolor\": \"#E1E5ED\", \"showgrid\": true, \"tickfont\": {\"color\": \"#4D5663\"}, \"title\": {\"font\": {\"color\": \"#4D5663\"}, \"text\": \"\"}, \"zerolinecolor\": \"#E1E5ED\"}, \"yaxis\": {\"gridcolor\": \"#E1E5ED\", \"showgrid\": true, \"tickfont\": {\"color\": \"#4D5663\"}, \"title\": {\"font\": {\"color\": \"#4D5663\"}, \"text\": \"\"}, \"zerolinecolor\": \"#E1E5ED\"}},\n",
       "                        {\"showLink\": true, \"linkText\": \"Export to plot.ly\", \"plotlyServerURL\": \"https://plot.ly\", \"responsive\": true}\n",
       "                    ).then(function(){\n",
       "                            \n",
       "var gd = document.getElementById('aa1d373d-6fc7-4bd1-97af-f78b5ab61f65');\n",
       "var x = new MutationObserver(function (mutations, observer) {{\n",
       "        var display = window.getComputedStyle(gd).display;\n",
       "        if (!display || display === 'none') {{\n",
       "            console.log([gd, 'removed!']);\n",
       "            Plotly.purge(gd);\n",
       "            observer.disconnect();\n",
       "        }}\n",
       "}});\n",
       "\n",
       "// Listen for the removal of the full notebook cells\n",
       "var notebookContainer = gd.closest('#notebook-container');\n",
       "if (notebookContainer) {{\n",
       "    x.observe(notebookContainer, {childList: true});\n",
       "}}\n",
       "\n",
       "// Listen for the clearing of the current output cell\n",
       "var outputEl = gd.closest('.output');\n",
       "if (outputEl) {{\n",
       "    x.observe(outputEl, {childList: true});\n",
       "}}\n",
       "\n",
       "                        })\n",
       "                };\n",
       "                });\n",
       "            </script>\n",
       "        </div>"
      ]
     },
     "metadata": {},
     "output_type": "display_data"
    }
   ],
   "source": [
    "df.iplot(kind='hist')"
   ]
  },
  {
   "cell_type": "code",
   "execution_count": 21,
   "metadata": {},
   "outputs": [
    {
     "name": "stderr",
     "output_type": "stream",
     "text": [
      "D:\\Install folder\\lib\\site-packages\\cufflinks\\plotlytools.py:849: FutureWarning:\n",
      "\n",
      "The pandas.np module is deprecated and will be removed from pandas in a future version. Import numpy directly instead\n",
      "\n",
      "D:\\Install folder\\lib\\site-packages\\cufflinks\\plotlytools.py:850: FutureWarning:\n",
      "\n",
      "The pandas.np module is deprecated and will be removed from pandas in a future version. Import numpy directly instead\n",
      "\n"
     ]
    },
    {
     "data": {
      "application/vnd.plotly.v1+json": {
       "config": {
        "linkText": "Export to plot.ly",
        "plotlyServerURL": "https://plot.ly",
        "showLink": true
       },
       "data": [
        {
         "line": {
          "color": "rgba(255, 153, 51, 1.0)",
          "dash": "solid",
          "shape": "linear",
          "width": 1.3
         },
         "mode": "lines",
         "name": "A",
         "text": "",
         "type": "scatter",
         "x": [
          0,
          1,
          2,
          3,
          4,
          5,
          6,
          7,
          8,
          9,
          10,
          11,
          12,
          13,
          14,
          15,
          16,
          17,
          18,
          19,
          20,
          21,
          22,
          23,
          24,
          25,
          26,
          27,
          28,
          29,
          30,
          31,
          32,
          33,
          34,
          35,
          36,
          37,
          38,
          39,
          40,
          41,
          42,
          43,
          44,
          45,
          46,
          47,
          48,
          49,
          50,
          51,
          52,
          53,
          54,
          55,
          56,
          57,
          58,
          59,
          60,
          61,
          62,
          63,
          64,
          65,
          66,
          67,
          68,
          69,
          70,
          71,
          72,
          73,
          74,
          75,
          76,
          77,
          78,
          79,
          80,
          81,
          82,
          83,
          84,
          85,
          86,
          87,
          88,
          89,
          90,
          91,
          92,
          93,
          94,
          95,
          96,
          97,
          98,
          99
         ],
         "y": [
          1.0382366963092549,
          -2.400155902890422,
          0.2965349865300015,
          -0.06810621767640156,
          0.40986532593557184,
          2.980340503066905,
          -0.8113478267697151,
          0.12320917274783742,
          -0.7614388234908033,
          -1.6261937919214988,
          -0.4563416646160593,
          0.8100652375053653,
          -0.4786810244642336,
          -0.15125352763689717,
          -0.35363337608754686,
          -0.4600439741878424,
          -0.548594427223353,
          0.15179013108414735,
          1.2527836008333177,
          -0.01486881648200595,
          -1.321028273052858,
          -1.215056740365512,
          -0.46443149005930484,
          -0.2148944304441226,
          1.05921261639197,
          -0.44083508838166113,
          0.2893866833914568,
          -0.08920210825676385,
          -2.141856887876484,
          -1.6561139570133645,
          0.7297351210382328,
          0.3621479005302017,
          0.4544305516587094,
          1.1267997842916877,
          0.4980719238796653,
          0.7538993836558499,
          0.316316710943558,
          -0.7647936388049383,
          1.1335735802883333,
          1.5811875685001238,
          0.4262992431174364,
          -0.18199337606603036,
          -1.6987872789952148,
          -0.31966643306678155,
          -1.0381492197795885,
          -0.7210400728089623,
          -0.5232424059498656,
          0.33977487524362276,
          2.399931576633395,
          -0.9645654786318648,
          1.0038087775500733,
          -1.8883035577730836,
          0.40755480079472817,
          1.620992384935556,
          -1.5144382193345716,
          0.931603224067061,
          -0.0690937367458445,
          -1.1113666817523113,
          -1.6884862187088228,
          0.4847823519219444,
          -0.05144663802383848,
          0.36834324602109547,
          -0.8353614597181127,
          0.22373281034340456,
          -0.3566184980772613,
          1.195601554009199,
          0.06820956515592667,
          0.04083572678921148,
          -0.6184542972098993,
          -2.051234833545991,
          -0.14841116035642724,
          -0.03474205360657567,
          -0.5092248018023503,
          1.5827581291154604,
          1.014753174170827,
          -0.8796020182618397,
          1.5156583685885863,
          0.3459349898339406,
          -1.0614935144891169,
          -0.7649817166963779,
          0.9542728262990114,
          0.648275202973677,
          1.4943115581023017,
          -0.05217028507026561,
          -2.5758228868679427,
          1.167717895603323,
          -0.3904663846029581,
          -1.1167983296391784,
          -1.2833065183657555,
          0.1914994460291949,
          -1.0098431205894374,
          0.6341599431397855,
          1.0297851263869595,
          -0.8389507488561836,
          1.5475484215159128,
          -0.7317169193187559,
          0.7991377097309073,
          0.8423863489416101,
          -0.6566768816715937,
          0.6671829937032094
         ]
        },
        {
         "line": {
          "color": "rgba(55, 128, 191, 1.0)",
          "dash": "solid",
          "shape": "linear",
          "width": 1.3
         },
         "mode": "lines",
         "name": "B",
         "text": "",
         "type": "scatter",
         "x": [
          0,
          1,
          2,
          3,
          4,
          5,
          6,
          7,
          8,
          9,
          10,
          11,
          12,
          13,
          14,
          15,
          16,
          17,
          18,
          19,
          20,
          21,
          22,
          23,
          24,
          25,
          26,
          27,
          28,
          29,
          30,
          31,
          32,
          33,
          34,
          35,
          36,
          37,
          38,
          39,
          40,
          41,
          42,
          43,
          44,
          45,
          46,
          47,
          48,
          49,
          50,
          51,
          52,
          53,
          54,
          55,
          56,
          57,
          58,
          59,
          60,
          61,
          62,
          63,
          64,
          65,
          66,
          67,
          68,
          69,
          70,
          71,
          72,
          73,
          74,
          75,
          76,
          77,
          78,
          79,
          80,
          81,
          82,
          83,
          84,
          85,
          86,
          87,
          88,
          89,
          90,
          91,
          92,
          93,
          94,
          95,
          96,
          97,
          98,
          99
         ],
         "y": [
          1.2352637423497352,
          -0.644403593249537,
          -0.21583932947160878,
          -0.3065930615464294,
          0.6665906880616215,
          0.8274128978167663,
          0.05207674860437279,
          1.080405009642796,
          1.5503160159883964,
          -0.3976979490057124,
          -0.6995457282171443,
          0.5019567846337258,
          0.784414208144939,
          -0.9684400337727636,
          1.4681555528388157,
          0.9738748547542355,
          -0.1683756778040267,
          0.3284689415865835,
          -0.1019530754349385,
          0.9083874292429925,
          -0.7002357326015257,
          0.10253269120604626,
          -0.28304613432624315,
          0.29043776828919987,
          -1.5054504867131828,
          0.18888259838641094,
          0.7286810867526122,
          0.4024645562824474,
          -0.442632044759658,
          1.0128378062330445,
          1.4084203254739425,
          -1.7985124548998326,
          -1.4766875740832202,
          -0.14385940913942347,
          0.17461525221701604,
          -0.05939915810810186,
          1.1036634894886488,
          -1.614960059971259,
          0.9318582971966591,
          -1.5215083013652648,
          -0.6091839263780852,
          -1.487550522210282,
          1.5750848833669928,
          0.4460744620597566,
          1.3584587583826973,
          0.5305091400254296,
          0.4933623947455486,
          1.1827465762712785,
          0.16328972905461056,
          -0.32020332895890746,
          0.4465826943725874,
          2.2137359418920566,
          -0.5416389204214601,
          -2.374674201725834,
          -0.3318575370120358,
          0.3125129865243422,
          -1.2902209289754214,
          0.9453003743451314,
          -0.7222568276366002,
          -1.1086224341893036,
          0.9698175766464336,
          -0.02289777986971175,
          1.0119705009285886,
          -1.197599765857664,
          0.38586981097800205,
          0.1679327921569883,
          -1.1542382780421319,
          -2.6064743089733695,
          1.7539940301882824,
          -0.05325637220002819,
          0.8146578039065746,
          0.4061439818110797,
          1.1762007407215433,
          -1.4790773409005213,
          0.9741379879968607,
          -1.2534825112644354,
          -0.9035510642832751,
          -1.3400183078899761,
          1.3840795732538014,
          0.08235629844734149,
          0.526065491888457,
          1.1735641106989962,
          0.8725788127710796,
          -1.2212273380904914,
          -1.891203170183768,
          1.6731060104584292,
          -0.9194250381539126,
          -0.6757601984666243,
          1.07769365533154,
          0.5003415018622092,
          -0.5339589964979589,
          -1.9382073393181636,
          0.10156924921382787,
          1.4759570773089004,
          0.5185152737926203,
          -0.8940324829248656,
          0.626322064988126,
          1.9586230496827788,
          0.18164223414444486,
          0.3753347024349057
         ]
        },
        {
         "connectgaps": false,
         "fill": "tozeroy",
         "line": {
          "color": "green",
          "dash": "solid",
          "shape": "linear",
          "width": 0.5
         },
         "mode": "lines",
         "name": "Spread",
         "showlegend": false,
         "type": "scatter",
         "x": [
          0,
          1,
          2,
          3,
          4,
          5,
          6,
          7,
          8,
          9,
          10,
          11,
          12,
          13,
          14,
          15,
          16,
          17,
          18,
          19,
          20,
          21,
          22,
          23,
          24,
          25,
          26,
          27,
          28,
          29,
          30,
          31,
          32,
          33,
          34,
          35,
          36,
          37,
          38,
          39,
          40,
          41,
          42,
          43,
          44,
          45,
          46,
          47,
          48,
          49,
          50,
          51,
          52,
          53,
          54,
          55,
          56,
          57,
          58,
          59,
          60,
          61,
          62,
          63,
          64,
          65,
          66,
          67,
          68,
          69,
          70,
          71,
          72,
          73,
          74,
          75,
          76,
          77,
          78,
          79,
          80,
          81,
          82,
          83,
          84,
          85,
          86,
          87,
          88,
          89,
          90,
          91,
          92,
          93,
          94,
          95,
          96,
          97,
          98,
          99
         ],
         "xaxis": "x2",
         "y": [
          "",
          "",
          0.5123743160016103,
          0.23848684387002783,
          "",
          2.152927605250139,
          "",
          "",
          "",
          "",
          0.24320406360108504,
          0.30810845287163946,
          "",
          0.8171865061358664,
          "",
          "",
          "",
          "",
          1.3547366762682562,
          "",
          "",
          "",
          "",
          "",
          2.5646631031051528,
          "",
          "",
          "",
          "",
          "",
          "",
          2.1606603554300343,
          1.9311181257419294,
          1.2706591934311111,
          0.32345667166264924,
          0.8132985417639517,
          "",
          0.8501664211663207,
          0.2017152830916742,
          3.1026958698653884,
          1.0354831694955215,
          1.3055571461442517,
          "",
          "",
          "",
          "",
          "",
          "",
          2.236641847578784,
          "",
          0.5572260831774858,
          "",
          0.9491937212161883,
          3.99566658666139,
          "",
          0.6190902375427187,
          1.221127192229577,
          "",
          "",
          1.5934047861112481,
          "",
          0.3912410258908072,
          "",
          1.4213325762010687,
          "",
          1.027668761852211,
          1.2224478431980585,
          2.647310035762581,
          "",
          "",
          "",
          "",
          "",
          3.061835470015982,
          0.04061518617396642,
          0.37388049300259574,
          2.4192094328718614,
          1.6859532977239167,
          "",
          "",
          0.4282073344105545,
          "",
          0.621732745331222,
          1.1690570530202258,
          "",
          "",
          0.5289586535509545,
          "",
          "",
          "",
          "",
          2.5723672824579493,
          0.9282158771731317,
          "",
          1.0290331477232924,
          0.16231556360610966,
          0.17281564474278122,
          "",
          "",
          0.29184829126830375
         ],
         "yaxis": "y2"
        },
        {
         "connectgaps": false,
         "fill": "tozeroy",
         "line": {
          "color": "red",
          "dash": "solid",
          "shape": "linear",
          "width": 0.5
         },
         "mode": "lines",
         "name": "Spread",
         "showlegend": false,
         "type": "scatter",
         "x": [
          0,
          1,
          2,
          3,
          4,
          5,
          6,
          7,
          8,
          9,
          10,
          11,
          12,
          13,
          14,
          15,
          16,
          17,
          18,
          19,
          20,
          21,
          22,
          23,
          24,
          25,
          26,
          27,
          28,
          29,
          30,
          31,
          32,
          33,
          34,
          35,
          36,
          37,
          38,
          39,
          40,
          41,
          42,
          43,
          44,
          45,
          46,
          47,
          48,
          49,
          50,
          51,
          52,
          53,
          54,
          55,
          56,
          57,
          58,
          59,
          60,
          61,
          62,
          63,
          64,
          65,
          66,
          67,
          68,
          69,
          70,
          71,
          72,
          73,
          74,
          75,
          76,
          77,
          78,
          79,
          80,
          81,
          82,
          83,
          84,
          85,
          86,
          87,
          88,
          89,
          90,
          91,
          92,
          93,
          94,
          95,
          96,
          97,
          98,
          99
         ],
         "xaxis": "x2",
         "y": [
          -0.19702704604048038,
          -1.7557523096408847,
          "",
          "",
          -0.2567253621260496,
          "",
          -0.8634245753740879,
          -0.9571958368949586,
          -2.3117548394791996,
          -1.2284958429157864,
          "",
          "",
          -1.2630952326091727,
          "",
          -1.8217889289263627,
          -1.433918828942078,
          -0.3802187494193263,
          -0.17667881050243617,
          "",
          -0.9232562457249985,
          -0.6207925404513323,
          -1.3175894315715582,
          -0.1813853557330617,
          -0.5053321987333225,
          "",
          -0.629717686768072,
          -0.43929440336115544,
          -0.49166666453921126,
          -1.6992248431168262,
          -2.668951763246409,
          -0.6786852044357097,
          "",
          "",
          "",
          "",
          "",
          -0.7873467785450907,
          "",
          "",
          "",
          "",
          "",
          -3.2738721623622076,
          -0.7657408951265381,
          -2.3966079781622858,
          -1.251549212834392,
          -1.0166048006954143,
          -0.8429717010276558,
          "",
          -0.6443621496729574,
          "",
          -4.10203949966514,
          "",
          "",
          -1.1825806823225358,
          "",
          "",
          -2.0566670560974427,
          -0.9662293910722226,
          "",
          -1.0212642146702722,
          "",
          -1.8473319606467014,
          "",
          -0.7424883090552634,
          "",
          "",
          "",
          -2.372448327398182,
          -1.9979784613459628,
          -0.9630689642630018,
          -0.44088603541765536,
          -1.6854255425238938,
          "",
          "",
          "",
          "",
          "",
          -2.4455730877429183,
          -0.8473380151437194,
          "",
          -0.5252889077253192,
          "",
          "",
          -0.6846197166841748,
          -0.5053881148551063,
          "",
          -0.4410381311725541,
          -2.3610001736972954,
          -0.3088420558330143,
          -0.4758841240914785,
          "",
          "",
          -2.3149078261650837,
          "",
          "",
          "",
          -1.1162367007411687,
          -0.8383191158160386,
          ""
         ],
         "yaxis": "y2"
        }
       ],
       "layout": {
        "hovermode": "x",
        "legend": {
         "bgcolor": "#F5F6F9",
         "font": {
          "color": "#4D5663"
         }
        },
        "paper_bgcolor": "#F5F6F9",
        "plot_bgcolor": "#F5F6F9",
        "template": {
         "data": {
          "bar": [
           {
            "error_x": {
             "color": "#2a3f5f"
            },
            "error_y": {
             "color": "#2a3f5f"
            },
            "marker": {
             "line": {
              "color": "#E5ECF6",
              "width": 0.5
             }
            },
            "type": "bar"
           }
          ],
          "barpolar": [
           {
            "marker": {
             "line": {
              "color": "#E5ECF6",
              "width": 0.5
             }
            },
            "type": "barpolar"
           }
          ],
          "carpet": [
           {
            "aaxis": {
             "endlinecolor": "#2a3f5f",
             "gridcolor": "white",
             "linecolor": "white",
             "minorgridcolor": "white",
             "startlinecolor": "#2a3f5f"
            },
            "baxis": {
             "endlinecolor": "#2a3f5f",
             "gridcolor": "white",
             "linecolor": "white",
             "minorgridcolor": "white",
             "startlinecolor": "#2a3f5f"
            },
            "type": "carpet"
           }
          ],
          "choropleth": [
           {
            "colorbar": {
             "outlinewidth": 0,
             "ticks": ""
            },
            "type": "choropleth"
           }
          ],
          "contour": [
           {
            "colorbar": {
             "outlinewidth": 0,
             "ticks": ""
            },
            "colorscale": [
             [
              0,
              "#0d0887"
             ],
             [
              0.1111111111111111,
              "#46039f"
             ],
             [
              0.2222222222222222,
              "#7201a8"
             ],
             [
              0.3333333333333333,
              "#9c179e"
             ],
             [
              0.4444444444444444,
              "#bd3786"
             ],
             [
              0.5555555555555556,
              "#d8576b"
             ],
             [
              0.6666666666666666,
              "#ed7953"
             ],
             [
              0.7777777777777778,
              "#fb9f3a"
             ],
             [
              0.8888888888888888,
              "#fdca26"
             ],
             [
              1,
              "#f0f921"
             ]
            ],
            "type": "contour"
           }
          ],
          "contourcarpet": [
           {
            "colorbar": {
             "outlinewidth": 0,
             "ticks": ""
            },
            "type": "contourcarpet"
           }
          ],
          "heatmap": [
           {
            "colorbar": {
             "outlinewidth": 0,
             "ticks": ""
            },
            "colorscale": [
             [
              0,
              "#0d0887"
             ],
             [
              0.1111111111111111,
              "#46039f"
             ],
             [
              0.2222222222222222,
              "#7201a8"
             ],
             [
              0.3333333333333333,
              "#9c179e"
             ],
             [
              0.4444444444444444,
              "#bd3786"
             ],
             [
              0.5555555555555556,
              "#d8576b"
             ],
             [
              0.6666666666666666,
              "#ed7953"
             ],
             [
              0.7777777777777778,
              "#fb9f3a"
             ],
             [
              0.8888888888888888,
              "#fdca26"
             ],
             [
              1,
              "#f0f921"
             ]
            ],
            "type": "heatmap"
           }
          ],
          "heatmapgl": [
           {
            "colorbar": {
             "outlinewidth": 0,
             "ticks": ""
            },
            "colorscale": [
             [
              0,
              "#0d0887"
             ],
             [
              0.1111111111111111,
              "#46039f"
             ],
             [
              0.2222222222222222,
              "#7201a8"
             ],
             [
              0.3333333333333333,
              "#9c179e"
             ],
             [
              0.4444444444444444,
              "#bd3786"
             ],
             [
              0.5555555555555556,
              "#d8576b"
             ],
             [
              0.6666666666666666,
              "#ed7953"
             ],
             [
              0.7777777777777778,
              "#fb9f3a"
             ],
             [
              0.8888888888888888,
              "#fdca26"
             ],
             [
              1,
              "#f0f921"
             ]
            ],
            "type": "heatmapgl"
           }
          ],
          "histogram": [
           {
            "marker": {
             "colorbar": {
              "outlinewidth": 0,
              "ticks": ""
             }
            },
            "type": "histogram"
           }
          ],
          "histogram2d": [
           {
            "colorbar": {
             "outlinewidth": 0,
             "ticks": ""
            },
            "colorscale": [
             [
              0,
              "#0d0887"
             ],
             [
              0.1111111111111111,
              "#46039f"
             ],
             [
              0.2222222222222222,
              "#7201a8"
             ],
             [
              0.3333333333333333,
              "#9c179e"
             ],
             [
              0.4444444444444444,
              "#bd3786"
             ],
             [
              0.5555555555555556,
              "#d8576b"
             ],
             [
              0.6666666666666666,
              "#ed7953"
             ],
             [
              0.7777777777777778,
              "#fb9f3a"
             ],
             [
              0.8888888888888888,
              "#fdca26"
             ],
             [
              1,
              "#f0f921"
             ]
            ],
            "type": "histogram2d"
           }
          ],
          "histogram2dcontour": [
           {
            "colorbar": {
             "outlinewidth": 0,
             "ticks": ""
            },
            "colorscale": [
             [
              0,
              "#0d0887"
             ],
             [
              0.1111111111111111,
              "#46039f"
             ],
             [
              0.2222222222222222,
              "#7201a8"
             ],
             [
              0.3333333333333333,
              "#9c179e"
             ],
             [
              0.4444444444444444,
              "#bd3786"
             ],
             [
              0.5555555555555556,
              "#d8576b"
             ],
             [
              0.6666666666666666,
              "#ed7953"
             ],
             [
              0.7777777777777778,
              "#fb9f3a"
             ],
             [
              0.8888888888888888,
              "#fdca26"
             ],
             [
              1,
              "#f0f921"
             ]
            ],
            "type": "histogram2dcontour"
           }
          ],
          "mesh3d": [
           {
            "colorbar": {
             "outlinewidth": 0,
             "ticks": ""
            },
            "type": "mesh3d"
           }
          ],
          "parcoords": [
           {
            "line": {
             "colorbar": {
              "outlinewidth": 0,
              "ticks": ""
             }
            },
            "type": "parcoords"
           }
          ],
          "pie": [
           {
            "automargin": true,
            "type": "pie"
           }
          ],
          "scatter": [
           {
            "marker": {
             "colorbar": {
              "outlinewidth": 0,
              "ticks": ""
             }
            },
            "type": "scatter"
           }
          ],
          "scatter3d": [
           {
            "line": {
             "colorbar": {
              "outlinewidth": 0,
              "ticks": ""
             }
            },
            "marker": {
             "colorbar": {
              "outlinewidth": 0,
              "ticks": ""
             }
            },
            "type": "scatter3d"
           }
          ],
          "scattercarpet": [
           {
            "marker": {
             "colorbar": {
              "outlinewidth": 0,
              "ticks": ""
             }
            },
            "type": "scattercarpet"
           }
          ],
          "scattergeo": [
           {
            "marker": {
             "colorbar": {
              "outlinewidth": 0,
              "ticks": ""
             }
            },
            "type": "scattergeo"
           }
          ],
          "scattergl": [
           {
            "marker": {
             "colorbar": {
              "outlinewidth": 0,
              "ticks": ""
             }
            },
            "type": "scattergl"
           }
          ],
          "scattermapbox": [
           {
            "marker": {
             "colorbar": {
              "outlinewidth": 0,
              "ticks": ""
             }
            },
            "type": "scattermapbox"
           }
          ],
          "scatterpolar": [
           {
            "marker": {
             "colorbar": {
              "outlinewidth": 0,
              "ticks": ""
             }
            },
            "type": "scatterpolar"
           }
          ],
          "scatterpolargl": [
           {
            "marker": {
             "colorbar": {
              "outlinewidth": 0,
              "ticks": ""
             }
            },
            "type": "scatterpolargl"
           }
          ],
          "scatterternary": [
           {
            "marker": {
             "colorbar": {
              "outlinewidth": 0,
              "ticks": ""
             }
            },
            "type": "scatterternary"
           }
          ],
          "surface": [
           {
            "colorbar": {
             "outlinewidth": 0,
             "ticks": ""
            },
            "colorscale": [
             [
              0,
              "#0d0887"
             ],
             [
              0.1111111111111111,
              "#46039f"
             ],
             [
              0.2222222222222222,
              "#7201a8"
             ],
             [
              0.3333333333333333,
              "#9c179e"
             ],
             [
              0.4444444444444444,
              "#bd3786"
             ],
             [
              0.5555555555555556,
              "#d8576b"
             ],
             [
              0.6666666666666666,
              "#ed7953"
             ],
             [
              0.7777777777777778,
              "#fb9f3a"
             ],
             [
              0.8888888888888888,
              "#fdca26"
             ],
             [
              1,
              "#f0f921"
             ]
            ],
            "type": "surface"
           }
          ],
          "table": [
           {
            "cells": {
             "fill": {
              "color": "#EBF0F8"
             },
             "line": {
              "color": "white"
             }
            },
            "header": {
             "fill": {
              "color": "#C8D4E3"
             },
             "line": {
              "color": "white"
             }
            },
            "type": "table"
           }
          ]
         },
         "layout": {
          "annotationdefaults": {
           "arrowcolor": "#2a3f5f",
           "arrowhead": 0,
           "arrowwidth": 1
          },
          "coloraxis": {
           "colorbar": {
            "outlinewidth": 0,
            "ticks": ""
           }
          },
          "colorscale": {
           "diverging": [
            [
             0,
             "#8e0152"
            ],
            [
             0.1,
             "#c51b7d"
            ],
            [
             0.2,
             "#de77ae"
            ],
            [
             0.3,
             "#f1b6da"
            ],
            [
             0.4,
             "#fde0ef"
            ],
            [
             0.5,
             "#f7f7f7"
            ],
            [
             0.6,
             "#e6f5d0"
            ],
            [
             0.7,
             "#b8e186"
            ],
            [
             0.8,
             "#7fbc41"
            ],
            [
             0.9,
             "#4d9221"
            ],
            [
             1,
             "#276419"
            ]
           ],
           "sequential": [
            [
             0,
             "#0d0887"
            ],
            [
             0.1111111111111111,
             "#46039f"
            ],
            [
             0.2222222222222222,
             "#7201a8"
            ],
            [
             0.3333333333333333,
             "#9c179e"
            ],
            [
             0.4444444444444444,
             "#bd3786"
            ],
            [
             0.5555555555555556,
             "#d8576b"
            ],
            [
             0.6666666666666666,
             "#ed7953"
            ],
            [
             0.7777777777777778,
             "#fb9f3a"
            ],
            [
             0.8888888888888888,
             "#fdca26"
            ],
            [
             1,
             "#f0f921"
            ]
           ],
           "sequentialminus": [
            [
             0,
             "#0d0887"
            ],
            [
             0.1111111111111111,
             "#46039f"
            ],
            [
             0.2222222222222222,
             "#7201a8"
            ],
            [
             0.3333333333333333,
             "#9c179e"
            ],
            [
             0.4444444444444444,
             "#bd3786"
            ],
            [
             0.5555555555555556,
             "#d8576b"
            ],
            [
             0.6666666666666666,
             "#ed7953"
            ],
            [
             0.7777777777777778,
             "#fb9f3a"
            ],
            [
             0.8888888888888888,
             "#fdca26"
            ],
            [
             1,
             "#f0f921"
            ]
           ]
          },
          "colorway": [
           "#636efa",
           "#EF553B",
           "#00cc96",
           "#ab63fa",
           "#FFA15A",
           "#19d3f3",
           "#FF6692",
           "#B6E880",
           "#FF97FF",
           "#FECB52"
          ],
          "font": {
           "color": "#2a3f5f"
          },
          "geo": {
           "bgcolor": "white",
           "lakecolor": "white",
           "landcolor": "#E5ECF6",
           "showlakes": true,
           "showland": true,
           "subunitcolor": "white"
          },
          "hoverlabel": {
           "align": "left"
          },
          "hovermode": "closest",
          "mapbox": {
           "style": "light"
          },
          "paper_bgcolor": "white",
          "plot_bgcolor": "#E5ECF6",
          "polar": {
           "angularaxis": {
            "gridcolor": "white",
            "linecolor": "white",
            "ticks": ""
           },
           "bgcolor": "#E5ECF6",
           "radialaxis": {
            "gridcolor": "white",
            "linecolor": "white",
            "ticks": ""
           }
          },
          "scene": {
           "xaxis": {
            "backgroundcolor": "#E5ECF6",
            "gridcolor": "white",
            "gridwidth": 2,
            "linecolor": "white",
            "showbackground": true,
            "ticks": "",
            "zerolinecolor": "white"
           },
           "yaxis": {
            "backgroundcolor": "#E5ECF6",
            "gridcolor": "white",
            "gridwidth": 2,
            "linecolor": "white",
            "showbackground": true,
            "ticks": "",
            "zerolinecolor": "white"
           },
           "zaxis": {
            "backgroundcolor": "#E5ECF6",
            "gridcolor": "white",
            "gridwidth": 2,
            "linecolor": "white",
            "showbackground": true,
            "ticks": "",
            "zerolinecolor": "white"
           }
          },
          "shapedefaults": {
           "line": {
            "color": "#2a3f5f"
           }
          },
          "ternary": {
           "aaxis": {
            "gridcolor": "white",
            "linecolor": "white",
            "ticks": ""
           },
           "baxis": {
            "gridcolor": "white",
            "linecolor": "white",
            "ticks": ""
           },
           "bgcolor": "#E5ECF6",
           "caxis": {
            "gridcolor": "white",
            "linecolor": "white",
            "ticks": ""
           }
          },
          "title": {
           "x": 0.05
          },
          "xaxis": {
           "automargin": true,
           "gridcolor": "white",
           "linecolor": "white",
           "ticks": "",
           "title": {
            "standoff": 15
           },
           "zerolinecolor": "white",
           "zerolinewidth": 2
          },
          "yaxis": {
           "automargin": true,
           "gridcolor": "white",
           "linecolor": "white",
           "ticks": "",
           "title": {
            "standoff": 15
           },
           "zerolinecolor": "white",
           "zerolinewidth": 2
          }
         }
        },
        "title": {
         "font": {
          "color": "#4D5663"
         }
        },
        "xaxis": {
         "gridcolor": "#E1E5ED",
         "showgrid": true,
         "tickfont": {
          "color": "#4D5663"
         },
         "title": {
          "font": {
           "color": "#4D5663"
          },
          "text": ""
         },
         "zerolinecolor": "#E1E5ED"
        },
        "xaxis2": {
         "anchor": "y2",
         "gridcolor": "#E1E5ED",
         "showgrid": true,
         "showticklabels": false,
         "tickfont": {
          "color": "#4D5663"
         },
         "title": {
          "font": {
           "color": "#4D5663"
          },
          "text": ""
         },
         "zerolinecolor": "#E1E5ED"
        },
        "yaxis": {
         "domain": [
          0.3,
          1
         ],
         "gridcolor": "#E1E5ED",
         "showgrid": true,
         "tickfont": {
          "color": "#4D5663"
         },
         "title": {
          "font": {
           "color": "#4D5663"
          },
          "text": ""
         },
         "zerolinecolor": "#E1E5ED"
        },
        "yaxis2": {
         "domain": [
          0,
          0.25
         ],
         "gridcolor": "#E1E5ED",
         "showgrid": true,
         "tickfont": {
          "color": "#4D5663"
         },
         "title": {
          "font": {
           "color": "#4D5663"
          },
          "text": "Spread"
         },
         "zerolinecolor": "#E1E5ED"
        }
       }
      },
      "text/html": [
       "<div>\n",
       "        \n",
       "        \n",
       "            <div id=\"5acf7c0d-3186-475f-8578-5d2cf801064b\" class=\"plotly-graph-div\" style=\"height:525px; width:100%;\"></div>\n",
       "            <script type=\"text/javascript\">\n",
       "                require([\"plotly\"], function(Plotly) {\n",
       "                    window.PLOTLYENV=window.PLOTLYENV || {};\n",
       "                    window.PLOTLYENV.BASE_URL='https://plot.ly';\n",
       "                    \n",
       "                if (document.getElementById(\"5acf7c0d-3186-475f-8578-5d2cf801064b\")) {\n",
       "                    Plotly.newPlot(\n",
       "                        '5acf7c0d-3186-475f-8578-5d2cf801064b',\n",
       "                        [{\"line\": {\"color\": \"rgba(255, 153, 51, 1.0)\", \"dash\": \"solid\", \"shape\": \"linear\", \"width\": 1.3}, \"mode\": \"lines\", \"name\": \"A\", \"text\": \"\", \"type\": \"scatter\", \"x\": [0, 1, 2, 3, 4, 5, 6, 7, 8, 9, 10, 11, 12, 13, 14, 15, 16, 17, 18, 19, 20, 21, 22, 23, 24, 25, 26, 27, 28, 29, 30, 31, 32, 33, 34, 35, 36, 37, 38, 39, 40, 41, 42, 43, 44, 45, 46, 47, 48, 49, 50, 51, 52, 53, 54, 55, 56, 57, 58, 59, 60, 61, 62, 63, 64, 65, 66, 67, 68, 69, 70, 71, 72, 73, 74, 75, 76, 77, 78, 79, 80, 81, 82, 83, 84, 85, 86, 87, 88, 89, 90, 91, 92, 93, 94, 95, 96, 97, 98, 99], \"y\": [1.0382366963092549, -2.400155902890422, 0.2965349865300015, -0.06810621767640156, 0.40986532593557184, 2.980340503066905, -0.8113478267697151, 0.12320917274783742, -0.7614388234908033, -1.6261937919214988, -0.4563416646160593, 0.8100652375053653, -0.4786810244642336, -0.15125352763689717, -0.35363337608754686, -0.4600439741878424, -0.548594427223353, 0.15179013108414735, 1.2527836008333177, -0.01486881648200595, -1.321028273052858, -1.215056740365512, -0.46443149005930484, -0.2148944304441226, 1.05921261639197, -0.44083508838166113, 0.2893866833914568, -0.08920210825676385, -2.141856887876484, -1.6561139570133645, 0.7297351210382328, 0.3621479005302017, 0.4544305516587094, 1.1267997842916877, 0.4980719238796653, 0.7538993836558499, 0.316316710943558, -0.7647936388049383, 1.1335735802883333, 1.5811875685001238, 0.4262992431174364, -0.18199337606603036, -1.6987872789952148, -0.31966643306678155, -1.0381492197795885, -0.7210400728089623, -0.5232424059498656, 0.33977487524362276, 2.399931576633395, -0.9645654786318648, 1.0038087775500733, -1.8883035577730836, 0.40755480079472817, 1.620992384935556, -1.5144382193345716, 0.931603224067061, -0.0690937367458445, -1.1113666817523113, -1.6884862187088228, 0.4847823519219444, -0.05144663802383848, 0.36834324602109547, -0.8353614597181127, 0.22373281034340456, -0.3566184980772613, 1.195601554009199, 0.06820956515592667, 0.04083572678921148, -0.6184542972098993, -2.051234833545991, -0.14841116035642724, -0.03474205360657567, -0.5092248018023503, 1.5827581291154604, 1.014753174170827, -0.8796020182618397, 1.5156583685885863, 0.3459349898339406, -1.0614935144891169, -0.7649817166963779, 0.9542728262990114, 0.648275202973677, 1.4943115581023017, -0.05217028507026561, -2.5758228868679427, 1.167717895603323, -0.3904663846029581, -1.1167983296391784, -1.2833065183657555, 0.1914994460291949, -1.0098431205894374, 0.6341599431397855, 1.0297851263869595, -0.8389507488561836, 1.5475484215159128, -0.7317169193187559, 0.7991377097309073, 0.8423863489416101, -0.6566768816715937, 0.6671829937032094]}, {\"line\": {\"color\": \"rgba(55, 128, 191, 1.0)\", \"dash\": \"solid\", \"shape\": \"linear\", \"width\": 1.3}, \"mode\": \"lines\", \"name\": \"B\", \"text\": \"\", \"type\": \"scatter\", \"x\": [0, 1, 2, 3, 4, 5, 6, 7, 8, 9, 10, 11, 12, 13, 14, 15, 16, 17, 18, 19, 20, 21, 22, 23, 24, 25, 26, 27, 28, 29, 30, 31, 32, 33, 34, 35, 36, 37, 38, 39, 40, 41, 42, 43, 44, 45, 46, 47, 48, 49, 50, 51, 52, 53, 54, 55, 56, 57, 58, 59, 60, 61, 62, 63, 64, 65, 66, 67, 68, 69, 70, 71, 72, 73, 74, 75, 76, 77, 78, 79, 80, 81, 82, 83, 84, 85, 86, 87, 88, 89, 90, 91, 92, 93, 94, 95, 96, 97, 98, 99], \"y\": [1.2352637423497352, -0.644403593249537, -0.21583932947160878, -0.3065930615464294, 0.6665906880616215, 0.8274128978167663, 0.05207674860437279, 1.080405009642796, 1.5503160159883964, -0.3976979490057124, -0.6995457282171443, 0.5019567846337258, 0.784414208144939, -0.9684400337727636, 1.4681555528388157, 0.9738748547542355, -0.1683756778040267, 0.3284689415865835, -0.1019530754349385, 0.9083874292429925, -0.7002357326015257, 0.10253269120604626, -0.28304613432624315, 0.29043776828919987, -1.5054504867131828, 0.18888259838641094, 0.7286810867526122, 0.4024645562824474, -0.442632044759658, 1.0128378062330445, 1.4084203254739425, -1.7985124548998326, -1.4766875740832202, -0.14385940913942347, 0.17461525221701604, -0.05939915810810186, 1.1036634894886488, -1.614960059971259, 0.9318582971966591, -1.5215083013652648, -0.6091839263780852, -1.487550522210282, 1.5750848833669928, 0.4460744620597566, 1.3584587583826973, 0.5305091400254296, 0.4933623947455486, 1.1827465762712785, 0.16328972905461056, -0.32020332895890746, 0.4465826943725874, 2.2137359418920566, -0.5416389204214601, -2.374674201725834, -0.3318575370120358, 0.3125129865243422, -1.2902209289754214, 0.9453003743451314, -0.7222568276366002, -1.1086224341893036, 0.9698175766464336, -0.02289777986971175, 1.0119705009285886, -1.197599765857664, 0.38586981097800205, 0.1679327921569883, -1.1542382780421319, -2.6064743089733695, 1.7539940301882824, -0.05325637220002819, 0.8146578039065746, 0.4061439818110797, 1.1762007407215433, -1.4790773409005213, 0.9741379879968607, -1.2534825112644354, -0.9035510642832751, -1.3400183078899761, 1.3840795732538014, 0.08235629844734149, 0.526065491888457, 1.1735641106989962, 0.8725788127710796, -1.2212273380904914, -1.891203170183768, 1.6731060104584292, -0.9194250381539126, -0.6757601984666243, 1.07769365533154, 0.5003415018622092, -0.5339589964979589, -1.9382073393181636, 0.10156924921382787, 1.4759570773089004, 0.5185152737926203, -0.8940324829248656, 0.626322064988126, 1.9586230496827788, 0.18164223414444486, 0.3753347024349057]}, {\"connectgaps\": false, \"fill\": \"tozeroy\", \"line\": {\"color\": \"green\", \"dash\": \"solid\", \"shape\": \"linear\", \"width\": 0.5}, \"mode\": \"lines\", \"name\": \"Spread\", \"showlegend\": false, \"type\": \"scatter\", \"x\": [0, 1, 2, 3, 4, 5, 6, 7, 8, 9, 10, 11, 12, 13, 14, 15, 16, 17, 18, 19, 20, 21, 22, 23, 24, 25, 26, 27, 28, 29, 30, 31, 32, 33, 34, 35, 36, 37, 38, 39, 40, 41, 42, 43, 44, 45, 46, 47, 48, 49, 50, 51, 52, 53, 54, 55, 56, 57, 58, 59, 60, 61, 62, 63, 64, 65, 66, 67, 68, 69, 70, 71, 72, 73, 74, 75, 76, 77, 78, 79, 80, 81, 82, 83, 84, 85, 86, 87, 88, 89, 90, 91, 92, 93, 94, 95, 96, 97, 98, 99], \"xaxis\": \"x2\", \"y\": [\"\", \"\", 0.5123743160016103, 0.23848684387002783, \"\", 2.152927605250139, \"\", \"\", \"\", \"\", 0.24320406360108504, 0.30810845287163946, \"\", 0.8171865061358664, \"\", \"\", \"\", \"\", 1.3547366762682562, \"\", \"\", \"\", \"\", \"\", 2.5646631031051528, \"\", \"\", \"\", \"\", \"\", \"\", 2.1606603554300343, 1.9311181257419294, 1.2706591934311111, 0.32345667166264924, 0.8132985417639517, \"\", 0.8501664211663207, 0.2017152830916742, 3.1026958698653884, 1.0354831694955215, 1.3055571461442517, \"\", \"\", \"\", \"\", \"\", \"\", 2.236641847578784, \"\", 0.5572260831774858, \"\", 0.9491937212161883, 3.99566658666139, \"\", 0.6190902375427187, 1.221127192229577, \"\", \"\", 1.5934047861112481, \"\", 0.3912410258908072, \"\", 1.4213325762010687, \"\", 1.027668761852211, 1.2224478431980585, 2.647310035762581, \"\", \"\", \"\", \"\", \"\", 3.061835470015982, 0.04061518617396642, 0.37388049300259574, 2.4192094328718614, 1.6859532977239167, \"\", \"\", 0.4282073344105545, \"\", 0.621732745331222, 1.1690570530202258, \"\", \"\", 0.5289586535509545, \"\", \"\", \"\", \"\", 2.5723672824579493, 0.9282158771731317, \"\", 1.0290331477232924, 0.16231556360610966, 0.17281564474278122, \"\", \"\", 0.29184829126830375], \"yaxis\": \"y2\"}, {\"connectgaps\": false, \"fill\": \"tozeroy\", \"line\": {\"color\": \"red\", \"dash\": \"solid\", \"shape\": \"linear\", \"width\": 0.5}, \"mode\": \"lines\", \"name\": \"Spread\", \"showlegend\": false, \"type\": \"scatter\", \"x\": [0, 1, 2, 3, 4, 5, 6, 7, 8, 9, 10, 11, 12, 13, 14, 15, 16, 17, 18, 19, 20, 21, 22, 23, 24, 25, 26, 27, 28, 29, 30, 31, 32, 33, 34, 35, 36, 37, 38, 39, 40, 41, 42, 43, 44, 45, 46, 47, 48, 49, 50, 51, 52, 53, 54, 55, 56, 57, 58, 59, 60, 61, 62, 63, 64, 65, 66, 67, 68, 69, 70, 71, 72, 73, 74, 75, 76, 77, 78, 79, 80, 81, 82, 83, 84, 85, 86, 87, 88, 89, 90, 91, 92, 93, 94, 95, 96, 97, 98, 99], \"xaxis\": \"x2\", \"y\": [-0.19702704604048038, -1.7557523096408847, \"\", \"\", -0.2567253621260496, \"\", -0.8634245753740879, -0.9571958368949586, -2.3117548394791996, -1.2284958429157864, \"\", \"\", -1.2630952326091727, \"\", -1.8217889289263627, -1.433918828942078, -0.3802187494193263, -0.17667881050243617, \"\", -0.9232562457249985, -0.6207925404513323, -1.3175894315715582, -0.1813853557330617, -0.5053321987333225, \"\", -0.629717686768072, -0.43929440336115544, -0.49166666453921126, -1.6992248431168262, -2.668951763246409, -0.6786852044357097, \"\", \"\", \"\", \"\", \"\", -0.7873467785450907, \"\", \"\", \"\", \"\", \"\", -3.2738721623622076, -0.7657408951265381, -2.3966079781622858, -1.251549212834392, -1.0166048006954143, -0.8429717010276558, \"\", -0.6443621496729574, \"\", -4.10203949966514, \"\", \"\", -1.1825806823225358, \"\", \"\", -2.0566670560974427, -0.9662293910722226, \"\", -1.0212642146702722, \"\", -1.8473319606467014, \"\", -0.7424883090552634, \"\", \"\", \"\", -2.372448327398182, -1.9979784613459628, -0.9630689642630018, -0.44088603541765536, -1.6854255425238938, \"\", \"\", \"\", \"\", \"\", -2.4455730877429183, -0.8473380151437194, \"\", -0.5252889077253192, \"\", \"\", -0.6846197166841748, -0.5053881148551063, \"\", -0.4410381311725541, -2.3610001736972954, -0.3088420558330143, -0.4758841240914785, \"\", \"\", -2.3149078261650837, \"\", \"\", \"\", -1.1162367007411687, -0.8383191158160386, \"\"], \"yaxis\": \"y2\"}],\n",
       "                        {\"hovermode\": \"x\", \"legend\": {\"bgcolor\": \"#F5F6F9\", \"font\": {\"color\": \"#4D5663\"}}, \"paper_bgcolor\": \"#F5F6F9\", \"plot_bgcolor\": \"#F5F6F9\", \"template\": {\"data\": {\"bar\": [{\"error_x\": {\"color\": \"#2a3f5f\"}, \"error_y\": {\"color\": \"#2a3f5f\"}, \"marker\": {\"line\": {\"color\": \"#E5ECF6\", \"width\": 0.5}}, \"type\": \"bar\"}], \"barpolar\": [{\"marker\": {\"line\": {\"color\": \"#E5ECF6\", \"width\": 0.5}}, \"type\": \"barpolar\"}], \"carpet\": [{\"aaxis\": {\"endlinecolor\": \"#2a3f5f\", \"gridcolor\": \"white\", \"linecolor\": \"white\", \"minorgridcolor\": \"white\", \"startlinecolor\": \"#2a3f5f\"}, \"baxis\": {\"endlinecolor\": \"#2a3f5f\", \"gridcolor\": \"white\", \"linecolor\": \"white\", \"minorgridcolor\": \"white\", \"startlinecolor\": \"#2a3f5f\"}, \"type\": \"carpet\"}], \"choropleth\": [{\"colorbar\": {\"outlinewidth\": 0, \"ticks\": \"\"}, \"type\": \"choropleth\"}], \"contour\": [{\"colorbar\": {\"outlinewidth\": 0, \"ticks\": \"\"}, \"colorscale\": [[0.0, \"#0d0887\"], [0.1111111111111111, \"#46039f\"], [0.2222222222222222, \"#7201a8\"], [0.3333333333333333, \"#9c179e\"], [0.4444444444444444, \"#bd3786\"], [0.5555555555555556, \"#d8576b\"], [0.6666666666666666, \"#ed7953\"], [0.7777777777777778, \"#fb9f3a\"], [0.8888888888888888, \"#fdca26\"], [1.0, \"#f0f921\"]], \"type\": \"contour\"}], \"contourcarpet\": [{\"colorbar\": {\"outlinewidth\": 0, \"ticks\": \"\"}, \"type\": \"contourcarpet\"}], \"heatmap\": [{\"colorbar\": {\"outlinewidth\": 0, \"ticks\": \"\"}, \"colorscale\": [[0.0, \"#0d0887\"], [0.1111111111111111, \"#46039f\"], [0.2222222222222222, \"#7201a8\"], [0.3333333333333333, \"#9c179e\"], [0.4444444444444444, \"#bd3786\"], [0.5555555555555556, \"#d8576b\"], [0.6666666666666666, \"#ed7953\"], [0.7777777777777778, \"#fb9f3a\"], [0.8888888888888888, \"#fdca26\"], [1.0, \"#f0f921\"]], \"type\": \"heatmap\"}], \"heatmapgl\": [{\"colorbar\": {\"outlinewidth\": 0, \"ticks\": \"\"}, \"colorscale\": [[0.0, \"#0d0887\"], [0.1111111111111111, \"#46039f\"], [0.2222222222222222, \"#7201a8\"], [0.3333333333333333, \"#9c179e\"], [0.4444444444444444, \"#bd3786\"], [0.5555555555555556, \"#d8576b\"], [0.6666666666666666, \"#ed7953\"], [0.7777777777777778, \"#fb9f3a\"], [0.8888888888888888, \"#fdca26\"], [1.0, \"#f0f921\"]], \"type\": \"heatmapgl\"}], \"histogram\": [{\"marker\": {\"colorbar\": {\"outlinewidth\": 0, \"ticks\": \"\"}}, \"type\": \"histogram\"}], \"histogram2d\": [{\"colorbar\": {\"outlinewidth\": 0, \"ticks\": \"\"}, \"colorscale\": [[0.0, \"#0d0887\"], [0.1111111111111111, \"#46039f\"], [0.2222222222222222, \"#7201a8\"], [0.3333333333333333, \"#9c179e\"], [0.4444444444444444, \"#bd3786\"], [0.5555555555555556, \"#d8576b\"], [0.6666666666666666, \"#ed7953\"], [0.7777777777777778, \"#fb9f3a\"], [0.8888888888888888, \"#fdca26\"], [1.0, \"#f0f921\"]], \"type\": \"histogram2d\"}], \"histogram2dcontour\": [{\"colorbar\": {\"outlinewidth\": 0, \"ticks\": \"\"}, \"colorscale\": [[0.0, \"#0d0887\"], [0.1111111111111111, \"#46039f\"], [0.2222222222222222, \"#7201a8\"], [0.3333333333333333, \"#9c179e\"], [0.4444444444444444, \"#bd3786\"], [0.5555555555555556, \"#d8576b\"], [0.6666666666666666, \"#ed7953\"], [0.7777777777777778, \"#fb9f3a\"], [0.8888888888888888, \"#fdca26\"], [1.0, \"#f0f921\"]], \"type\": \"histogram2dcontour\"}], \"mesh3d\": [{\"colorbar\": {\"outlinewidth\": 0, \"ticks\": \"\"}, \"type\": \"mesh3d\"}], \"parcoords\": [{\"line\": {\"colorbar\": {\"outlinewidth\": 0, \"ticks\": \"\"}}, \"type\": \"parcoords\"}], \"pie\": [{\"automargin\": true, \"type\": \"pie\"}], \"scatter\": [{\"marker\": {\"colorbar\": {\"outlinewidth\": 0, \"ticks\": \"\"}}, \"type\": \"scatter\"}], \"scatter3d\": [{\"line\": {\"colorbar\": {\"outlinewidth\": 0, \"ticks\": \"\"}}, \"marker\": {\"colorbar\": {\"outlinewidth\": 0, \"ticks\": \"\"}}, \"type\": \"scatter3d\"}], \"scattercarpet\": [{\"marker\": {\"colorbar\": {\"outlinewidth\": 0, \"ticks\": \"\"}}, \"type\": \"scattercarpet\"}], \"scattergeo\": [{\"marker\": {\"colorbar\": {\"outlinewidth\": 0, \"ticks\": \"\"}}, \"type\": \"scattergeo\"}], \"scattergl\": [{\"marker\": {\"colorbar\": {\"outlinewidth\": 0, \"ticks\": \"\"}}, \"type\": \"scattergl\"}], \"scattermapbox\": [{\"marker\": {\"colorbar\": {\"outlinewidth\": 0, \"ticks\": \"\"}}, \"type\": \"scattermapbox\"}], \"scatterpolar\": [{\"marker\": {\"colorbar\": {\"outlinewidth\": 0, \"ticks\": \"\"}}, \"type\": \"scatterpolar\"}], \"scatterpolargl\": [{\"marker\": {\"colorbar\": {\"outlinewidth\": 0, \"ticks\": \"\"}}, \"type\": \"scatterpolargl\"}], \"scatterternary\": [{\"marker\": {\"colorbar\": {\"outlinewidth\": 0, \"ticks\": \"\"}}, \"type\": \"scatterternary\"}], \"surface\": [{\"colorbar\": {\"outlinewidth\": 0, \"ticks\": \"\"}, \"colorscale\": [[0.0, \"#0d0887\"], [0.1111111111111111, \"#46039f\"], [0.2222222222222222, \"#7201a8\"], [0.3333333333333333, \"#9c179e\"], [0.4444444444444444, \"#bd3786\"], [0.5555555555555556, \"#d8576b\"], [0.6666666666666666, \"#ed7953\"], [0.7777777777777778, \"#fb9f3a\"], [0.8888888888888888, \"#fdca26\"], [1.0, \"#f0f921\"]], \"type\": \"surface\"}], \"table\": [{\"cells\": {\"fill\": {\"color\": \"#EBF0F8\"}, \"line\": {\"color\": \"white\"}}, \"header\": {\"fill\": {\"color\": \"#C8D4E3\"}, \"line\": {\"color\": \"white\"}}, \"type\": \"table\"}]}, \"layout\": {\"annotationdefaults\": {\"arrowcolor\": \"#2a3f5f\", \"arrowhead\": 0, \"arrowwidth\": 1}, \"coloraxis\": {\"colorbar\": {\"outlinewidth\": 0, \"ticks\": \"\"}}, \"colorscale\": {\"diverging\": [[0, \"#8e0152\"], [0.1, \"#c51b7d\"], [0.2, \"#de77ae\"], [0.3, \"#f1b6da\"], [0.4, \"#fde0ef\"], [0.5, \"#f7f7f7\"], [0.6, \"#e6f5d0\"], [0.7, \"#b8e186\"], [0.8, \"#7fbc41\"], [0.9, \"#4d9221\"], [1, \"#276419\"]], \"sequential\": [[0.0, \"#0d0887\"], [0.1111111111111111, \"#46039f\"], [0.2222222222222222, \"#7201a8\"], [0.3333333333333333, \"#9c179e\"], [0.4444444444444444, \"#bd3786\"], [0.5555555555555556, \"#d8576b\"], [0.6666666666666666, \"#ed7953\"], [0.7777777777777778, \"#fb9f3a\"], [0.8888888888888888, \"#fdca26\"], [1.0, \"#f0f921\"]], \"sequentialminus\": [[0.0, \"#0d0887\"], [0.1111111111111111, \"#46039f\"], [0.2222222222222222, \"#7201a8\"], [0.3333333333333333, \"#9c179e\"], [0.4444444444444444, \"#bd3786\"], [0.5555555555555556, \"#d8576b\"], [0.6666666666666666, \"#ed7953\"], [0.7777777777777778, \"#fb9f3a\"], [0.8888888888888888, \"#fdca26\"], [1.0, \"#f0f921\"]]}, \"colorway\": [\"#636efa\", \"#EF553B\", \"#00cc96\", \"#ab63fa\", \"#FFA15A\", \"#19d3f3\", \"#FF6692\", \"#B6E880\", \"#FF97FF\", \"#FECB52\"], \"font\": {\"color\": \"#2a3f5f\"}, \"geo\": {\"bgcolor\": \"white\", \"lakecolor\": \"white\", \"landcolor\": \"#E5ECF6\", \"showlakes\": true, \"showland\": true, \"subunitcolor\": \"white\"}, \"hoverlabel\": {\"align\": \"left\"}, \"hovermode\": \"closest\", \"mapbox\": {\"style\": \"light\"}, \"paper_bgcolor\": \"white\", \"plot_bgcolor\": \"#E5ECF6\", \"polar\": {\"angularaxis\": {\"gridcolor\": \"white\", \"linecolor\": \"white\", \"ticks\": \"\"}, \"bgcolor\": \"#E5ECF6\", \"radialaxis\": {\"gridcolor\": \"white\", \"linecolor\": \"white\", \"ticks\": \"\"}}, \"scene\": {\"xaxis\": {\"backgroundcolor\": \"#E5ECF6\", \"gridcolor\": \"white\", \"gridwidth\": 2, \"linecolor\": \"white\", \"showbackground\": true, \"ticks\": \"\", \"zerolinecolor\": \"white\"}, \"yaxis\": {\"backgroundcolor\": \"#E5ECF6\", \"gridcolor\": \"white\", \"gridwidth\": 2, \"linecolor\": \"white\", \"showbackground\": true, \"ticks\": \"\", \"zerolinecolor\": \"white\"}, \"zaxis\": {\"backgroundcolor\": \"#E5ECF6\", \"gridcolor\": \"white\", \"gridwidth\": 2, \"linecolor\": \"white\", \"showbackground\": true, \"ticks\": \"\", \"zerolinecolor\": \"white\"}}, \"shapedefaults\": {\"line\": {\"color\": \"#2a3f5f\"}}, \"ternary\": {\"aaxis\": {\"gridcolor\": \"white\", \"linecolor\": \"white\", \"ticks\": \"\"}, \"baxis\": {\"gridcolor\": \"white\", \"linecolor\": \"white\", \"ticks\": \"\"}, \"bgcolor\": \"#E5ECF6\", \"caxis\": {\"gridcolor\": \"white\", \"linecolor\": \"white\", \"ticks\": \"\"}}, \"title\": {\"x\": 0.05}, \"xaxis\": {\"automargin\": true, \"gridcolor\": \"white\", \"linecolor\": \"white\", \"ticks\": \"\", \"title\": {\"standoff\": 15}, \"zerolinecolor\": \"white\", \"zerolinewidth\": 2}, \"yaxis\": {\"automargin\": true, \"gridcolor\": \"white\", \"linecolor\": \"white\", \"ticks\": \"\", \"title\": {\"standoff\": 15}, \"zerolinecolor\": \"white\", \"zerolinewidth\": 2}}}, \"title\": {\"font\": {\"color\": \"#4D5663\"}}, \"xaxis\": {\"gridcolor\": \"#E1E5ED\", \"showgrid\": true, \"tickfont\": {\"color\": \"#4D5663\"}, \"title\": {\"font\": {\"color\": \"#4D5663\"}, \"text\": \"\"}, \"zerolinecolor\": \"#E1E5ED\"}, \"xaxis2\": {\"anchor\": \"y2\", \"gridcolor\": \"#E1E5ED\", \"showgrid\": true, \"showticklabels\": false, \"tickfont\": {\"color\": \"#4D5663\"}, \"title\": {\"font\": {\"color\": \"#4D5663\"}, \"text\": \"\"}, \"zerolinecolor\": \"#E1E5ED\"}, \"yaxis\": {\"domain\": [0.3, 1], \"gridcolor\": \"#E1E5ED\", \"showgrid\": true, \"tickfont\": {\"color\": \"#4D5663\"}, \"title\": {\"font\": {\"color\": \"#4D5663\"}, \"text\": \"\"}, \"zerolinecolor\": \"#E1E5ED\"}, \"yaxis2\": {\"domain\": [0, 0.25], \"gridcolor\": \"#E1E5ED\", \"showgrid\": true, \"tickfont\": {\"color\": \"#4D5663\"}, \"title\": {\"font\": {\"color\": \"#4D5663\"}, \"text\": \"Spread\"}, \"zerolinecolor\": \"#E1E5ED\"}},\n",
       "                        {\"showLink\": true, \"linkText\": \"Export to plot.ly\", \"plotlyServerURL\": \"https://plot.ly\", \"responsive\": true}\n",
       "                    ).then(function(){\n",
       "                            \n",
       "var gd = document.getElementById('5acf7c0d-3186-475f-8578-5d2cf801064b');\n",
       "var x = new MutationObserver(function (mutations, observer) {{\n",
       "        var display = window.getComputedStyle(gd).display;\n",
       "        if (!display || display === 'none') {{\n",
       "            console.log([gd, 'removed!']);\n",
       "            Plotly.purge(gd);\n",
       "            observer.disconnect();\n",
       "        }}\n",
       "}});\n",
       "\n",
       "// Listen for the removal of the full notebook cells\n",
       "var notebookContainer = gd.closest('#notebook-container');\n",
       "if (notebookContainer) {{\n",
       "    x.observe(notebookContainer, {childList: true});\n",
       "}}\n",
       "\n",
       "// Listen for the clearing of the current output cell\n",
       "var outputEl = gd.closest('.output');\n",
       "if (outputEl) {{\n",
       "    x.observe(outputEl, {childList: true});\n",
       "}}\n",
       "\n",
       "                        })\n",
       "                };\n",
       "                });\n",
       "            </script>\n",
       "        </div>"
      ]
     },
     "metadata": {},
     "output_type": "display_data"
    }
   ],
   "source": [
    "df[['A','B']].iplot(kind='spread')"
   ]
  },
  {
   "cell_type": "code",
   "execution_count": 23,
   "metadata": {},
   "outputs": [
    {
     "ename": "KeyError",
     "evalue": "'c'",
     "output_type": "error",
     "traceback": [
      "\u001b[1;31m---------------------------------------------------------------------------\u001b[0m",
      "\u001b[1;31mKeyError\u001b[0m                                  Traceback (most recent call last)",
      "\u001b[1;32mD:\\Install folder\\lib\\site-packages\\pandas\\core\\indexes\\base.py\u001b[0m in \u001b[0;36mget_loc\u001b[1;34m(self, key, method, tolerance)\u001b[0m\n\u001b[0;32m   2645\u001b[0m             \u001b[1;32mtry\u001b[0m\u001b[1;33m:\u001b[0m\u001b[1;33m\u001b[0m\u001b[1;33m\u001b[0m\u001b[0m\n\u001b[1;32m-> 2646\u001b[1;33m                 \u001b[1;32mreturn\u001b[0m \u001b[0mself\u001b[0m\u001b[1;33m.\u001b[0m\u001b[0m_engine\u001b[0m\u001b[1;33m.\u001b[0m\u001b[0mget_loc\u001b[0m\u001b[1;33m(\u001b[0m\u001b[0mkey\u001b[0m\u001b[1;33m)\u001b[0m\u001b[1;33m\u001b[0m\u001b[1;33m\u001b[0m\u001b[0m\n\u001b[0m\u001b[0;32m   2647\u001b[0m             \u001b[1;32mexcept\u001b[0m \u001b[0mKeyError\u001b[0m\u001b[1;33m:\u001b[0m\u001b[1;33m\u001b[0m\u001b[1;33m\u001b[0m\u001b[0m\n",
      "\u001b[1;32mpandas\\_libs\\index.pyx\u001b[0m in \u001b[0;36mpandas._libs.index.IndexEngine.get_loc\u001b[1;34m()\u001b[0m\n",
      "\u001b[1;32mpandas\\_libs\\index.pyx\u001b[0m in \u001b[0;36mpandas._libs.index.IndexEngine.get_loc\u001b[1;34m()\u001b[0m\n",
      "\u001b[1;32mpandas\\_libs\\hashtable_class_helper.pxi\u001b[0m in \u001b[0;36mpandas._libs.hashtable.PyObjectHashTable.get_item\u001b[1;34m()\u001b[0m\n",
      "\u001b[1;32mpandas\\_libs\\hashtable_class_helper.pxi\u001b[0m in \u001b[0;36mpandas._libs.hashtable.PyObjectHashTable.get_item\u001b[1;34m()\u001b[0m\n",
      "\u001b[1;31mKeyError\u001b[0m: 'c'",
      "\nDuring handling of the above exception, another exception occurred:\n",
      "\u001b[1;31mKeyError\u001b[0m                                  Traceback (most recent call last)",
      "\u001b[1;32m<ipython-input-23-2db696da497b>\u001b[0m in \u001b[0;36m<module>\u001b[1;34m\u001b[0m\n\u001b[1;32m----> 1\u001b[1;33m \u001b[0mdf\u001b[0m\u001b[1;33m.\u001b[0m\u001b[0miplot\u001b[0m\u001b[1;33m(\u001b[0m\u001b[0mkind\u001b[0m\u001b[1;33m=\u001b[0m\u001b[1;34m'bubble'\u001b[0m\u001b[1;33m,\u001b[0m\u001b[0mx\u001b[0m\u001b[1;33m=\u001b[0m\u001b[1;34m'A'\u001b[0m\u001b[1;33m,\u001b[0m\u001b[0my\u001b[0m\u001b[1;33m=\u001b[0m\u001b[1;34m'B'\u001b[0m\u001b[1;33m,\u001b[0m\u001b[0msize\u001b[0m\u001b[1;33m=\u001b[0m\u001b[1;34m'c'\u001b[0m\u001b[1;33m)\u001b[0m\u001b[1;33m\u001b[0m\u001b[1;33m\u001b[0m\u001b[0m\n\u001b[0m",
      "\u001b[1;32mD:\\Install folder\\lib\\site-packages\\cufflinks\\plotlytools.py\u001b[0m in \u001b[0;36m_iplot\u001b[1;34m(self, kind, data, layout, filename, sharing, title, xTitle, yTitle, zTitle, theme, colors, colorscale, fill, width, dash, mode, interpolation, symbol, size, barmode, sortbars, bargap, bargroupgap, bins, histnorm, histfunc, orientation, boxpoints, annotations, keys, bestfit, bestfit_colors, mean, mean_colors, categories, x, y, z, text, gridcolor, zerolinecolor, margin, labels, values, secondary_y, secondary_y_title, subplots, shape, error_x, error_y, error_type, locations, lon, lat, asFrame, asDates, asFigure, asImage, dimensions, asPlot, asUrl, online, **kwargs)\u001b[0m\n\u001b[0;32m    879\u001b[0m                                 \u001b[0my\u001b[0m\u001b[1;33m=\u001b[0m\u001b[0mself\u001b[0m\u001b[1;33m[\u001b[0m\u001b[0my\u001b[0m\u001b[1;33m]\u001b[0m\u001b[1;33m.\u001b[0m\u001b[0mvalues\u001b[0m\u001b[1;33m.\u001b[0m\u001b[0mtolist\u001b[0m\u001b[1;33m(\u001b[0m\u001b[1;33m)\u001b[0m\u001b[1;33m\u001b[0m\u001b[1;33m\u001b[0m\u001b[0m\n\u001b[0;32m    880\u001b[0m                                 \u001b[0mz\u001b[0m\u001b[1;33m=\u001b[0m\u001b[0msize\u001b[0m \u001b[1;32mif\u001b[0m \u001b[0msize\u001b[0m \u001b[1;32melse\u001b[0m \u001b[0mz\u001b[0m\u001b[1;33m\u001b[0m\u001b[1;33m\u001b[0m\u001b[0m\n\u001b[1;32m--> 881\u001b[1;33m                                 \u001b[0mrg\u001b[0m\u001b[1;33m=\u001b[0m\u001b[0mself\u001b[0m\u001b[1;33m[\u001b[0m\u001b[0mz\u001b[0m\u001b[1;33m]\u001b[0m\u001b[1;33m.\u001b[0m\u001b[0mvalues\u001b[0m\u001b[1;33m\u001b[0m\u001b[1;33m\u001b[0m\u001b[0m\n\u001b[0m\u001b[0;32m    882\u001b[0m                                 \u001b[1;32mif\u001b[0m \u001b[1;32mnot\u001b[0m \u001b[0mkwargs\u001b[0m\u001b[1;33m.\u001b[0m\u001b[0mget\u001b[0m\u001b[1;33m(\u001b[0m\u001b[1;34m'abs_size'\u001b[0m\u001b[1;33m,\u001b[0m\u001b[1;32mFalse\u001b[0m\u001b[1;33m)\u001b[0m\u001b[1;33m:\u001b[0m\u001b[1;33m\u001b[0m\u001b[1;33m\u001b[0m\u001b[0m\n\u001b[0;32m    883\u001b[0m                                         \u001b[1;32mif\u001b[0m \u001b[0mlen\u001b[0m\u001b[1;33m(\u001b[0m\u001b[0mrg\u001b[0m\u001b[1;33m)\u001b[0m \u001b[1;33m>\u001b[0m \u001b[1;36m1\u001b[0m\u001b[1;33m:\u001b[0m\u001b[1;33m\u001b[0m\u001b[1;33m\u001b[0m\u001b[0m\n",
      "\u001b[1;32mD:\\Install folder\\lib\\site-packages\\pandas\\core\\frame.py\u001b[0m in \u001b[0;36m__getitem__\u001b[1;34m(self, key)\u001b[0m\n\u001b[0;32m   2798\u001b[0m             \u001b[1;32mif\u001b[0m \u001b[0mself\u001b[0m\u001b[1;33m.\u001b[0m\u001b[0mcolumns\u001b[0m\u001b[1;33m.\u001b[0m\u001b[0mnlevels\u001b[0m \u001b[1;33m>\u001b[0m \u001b[1;36m1\u001b[0m\u001b[1;33m:\u001b[0m\u001b[1;33m\u001b[0m\u001b[1;33m\u001b[0m\u001b[0m\n\u001b[0;32m   2799\u001b[0m                 \u001b[1;32mreturn\u001b[0m \u001b[0mself\u001b[0m\u001b[1;33m.\u001b[0m\u001b[0m_getitem_multilevel\u001b[0m\u001b[1;33m(\u001b[0m\u001b[0mkey\u001b[0m\u001b[1;33m)\u001b[0m\u001b[1;33m\u001b[0m\u001b[1;33m\u001b[0m\u001b[0m\n\u001b[1;32m-> 2800\u001b[1;33m             \u001b[0mindexer\u001b[0m \u001b[1;33m=\u001b[0m \u001b[0mself\u001b[0m\u001b[1;33m.\u001b[0m\u001b[0mcolumns\u001b[0m\u001b[1;33m.\u001b[0m\u001b[0mget_loc\u001b[0m\u001b[1;33m(\u001b[0m\u001b[0mkey\u001b[0m\u001b[1;33m)\u001b[0m\u001b[1;33m\u001b[0m\u001b[1;33m\u001b[0m\u001b[0m\n\u001b[0m\u001b[0;32m   2801\u001b[0m             \u001b[1;32mif\u001b[0m \u001b[0mis_integer\u001b[0m\u001b[1;33m(\u001b[0m\u001b[0mindexer\u001b[0m\u001b[1;33m)\u001b[0m\u001b[1;33m:\u001b[0m\u001b[1;33m\u001b[0m\u001b[1;33m\u001b[0m\u001b[0m\n\u001b[0;32m   2802\u001b[0m                 \u001b[0mindexer\u001b[0m \u001b[1;33m=\u001b[0m \u001b[1;33m[\u001b[0m\u001b[0mindexer\u001b[0m\u001b[1;33m]\u001b[0m\u001b[1;33m\u001b[0m\u001b[1;33m\u001b[0m\u001b[0m\n",
      "\u001b[1;32mD:\\Install folder\\lib\\site-packages\\pandas\\core\\indexes\\base.py\u001b[0m in \u001b[0;36mget_loc\u001b[1;34m(self, key, method, tolerance)\u001b[0m\n\u001b[0;32m   2646\u001b[0m                 \u001b[1;32mreturn\u001b[0m \u001b[0mself\u001b[0m\u001b[1;33m.\u001b[0m\u001b[0m_engine\u001b[0m\u001b[1;33m.\u001b[0m\u001b[0mget_loc\u001b[0m\u001b[1;33m(\u001b[0m\u001b[0mkey\u001b[0m\u001b[1;33m)\u001b[0m\u001b[1;33m\u001b[0m\u001b[1;33m\u001b[0m\u001b[0m\n\u001b[0;32m   2647\u001b[0m             \u001b[1;32mexcept\u001b[0m \u001b[0mKeyError\u001b[0m\u001b[1;33m:\u001b[0m\u001b[1;33m\u001b[0m\u001b[1;33m\u001b[0m\u001b[0m\n\u001b[1;32m-> 2648\u001b[1;33m                 \u001b[1;32mreturn\u001b[0m \u001b[0mself\u001b[0m\u001b[1;33m.\u001b[0m\u001b[0m_engine\u001b[0m\u001b[1;33m.\u001b[0m\u001b[0mget_loc\u001b[0m\u001b[1;33m(\u001b[0m\u001b[0mself\u001b[0m\u001b[1;33m.\u001b[0m\u001b[0m_maybe_cast_indexer\u001b[0m\u001b[1;33m(\u001b[0m\u001b[0mkey\u001b[0m\u001b[1;33m)\u001b[0m\u001b[1;33m)\u001b[0m\u001b[1;33m\u001b[0m\u001b[1;33m\u001b[0m\u001b[0m\n\u001b[0m\u001b[0;32m   2649\u001b[0m         \u001b[0mindexer\u001b[0m \u001b[1;33m=\u001b[0m \u001b[0mself\u001b[0m\u001b[1;33m.\u001b[0m\u001b[0mget_indexer\u001b[0m\u001b[1;33m(\u001b[0m\u001b[1;33m[\u001b[0m\u001b[0mkey\u001b[0m\u001b[1;33m]\u001b[0m\u001b[1;33m,\u001b[0m \u001b[0mmethod\u001b[0m\u001b[1;33m=\u001b[0m\u001b[0mmethod\u001b[0m\u001b[1;33m,\u001b[0m \u001b[0mtolerance\u001b[0m\u001b[1;33m=\u001b[0m\u001b[0mtolerance\u001b[0m\u001b[1;33m)\u001b[0m\u001b[1;33m\u001b[0m\u001b[1;33m\u001b[0m\u001b[0m\n\u001b[0;32m   2650\u001b[0m         \u001b[1;32mif\u001b[0m \u001b[0mindexer\u001b[0m\u001b[1;33m.\u001b[0m\u001b[0mndim\u001b[0m \u001b[1;33m>\u001b[0m \u001b[1;36m1\u001b[0m \u001b[1;32mor\u001b[0m \u001b[0mindexer\u001b[0m\u001b[1;33m.\u001b[0m\u001b[0msize\u001b[0m \u001b[1;33m>\u001b[0m \u001b[1;36m1\u001b[0m\u001b[1;33m:\u001b[0m\u001b[1;33m\u001b[0m\u001b[1;33m\u001b[0m\u001b[0m\n",
      "\u001b[1;32mpandas\\_libs\\index.pyx\u001b[0m in \u001b[0;36mpandas._libs.index.IndexEngine.get_loc\u001b[1;34m()\u001b[0m\n",
      "\u001b[1;32mpandas\\_libs\\index.pyx\u001b[0m in \u001b[0;36mpandas._libs.index.IndexEngine.get_loc\u001b[1;34m()\u001b[0m\n",
      "\u001b[1;32mpandas\\_libs\\hashtable_class_helper.pxi\u001b[0m in \u001b[0;36mpandas._libs.hashtable.PyObjectHashTable.get_item\u001b[1;34m()\u001b[0m\n",
      "\u001b[1;32mpandas\\_libs\\hashtable_class_helper.pxi\u001b[0m in \u001b[0;36mpandas._libs.hashtable.PyObjectHashTable.get_item\u001b[1;34m()\u001b[0m\n",
      "\u001b[1;31mKeyError\u001b[0m: 'c'"
     ]
    }
   ],
   "source": [
    "df.iplot(kind='bubble',x='A',y='B',size='c')"
   ]
  },
  {
   "cell_type": "code",
   "execution_count": 24,
   "metadata": {},
   "outputs": [
    {
     "data": {
      "application/vnd.plotly.v1+json": {
       "config": {
        "linkText": "Export to plot.ly",
        "plotlyServerURL": "https://plot.ly",
        "showLink": true
       },
       "data": [
        {
         "histfunc": "count",
         "histnorm": "",
         "marker": {
          "color": "rgba(255, 153, 51, 1.0)",
          "line": {
           "color": "#4D5663",
           "width": 1.3
          }
         },
         "name": "A",
         "nbinsx": 10,
         "opacity": 0.8,
         "orientation": "v",
         "type": "histogram",
         "x": [
          1.0382366963092549,
          -2.400155902890422,
          0.2965349865300015,
          -0.06810621767640156,
          0.40986532593557184,
          2.980340503066905,
          -0.8113478267697151,
          0.12320917274783742,
          -0.7614388234908033,
          -1.6261937919214988,
          -0.4563416646160593,
          0.8100652375053653,
          -0.4786810244642336,
          -0.15125352763689717,
          -0.35363337608754686,
          -0.4600439741878424,
          -0.548594427223353,
          0.15179013108414735,
          1.2527836008333177,
          -0.01486881648200595,
          -1.321028273052858,
          -1.215056740365512,
          -0.46443149005930484,
          -0.2148944304441226,
          1.05921261639197,
          -0.44083508838166113,
          0.2893866833914568,
          -0.08920210825676385,
          -2.141856887876484,
          -1.6561139570133645,
          0.7297351210382328,
          0.3621479005302017,
          0.4544305516587094,
          1.1267997842916877,
          0.4980719238796653,
          0.7538993836558499,
          0.316316710943558,
          -0.7647936388049383,
          1.1335735802883333,
          1.5811875685001238,
          0.4262992431174364,
          -0.18199337606603036,
          -1.6987872789952148,
          -0.31966643306678155,
          -1.0381492197795885,
          -0.7210400728089623,
          -0.5232424059498656,
          0.33977487524362276,
          2.399931576633395,
          -0.9645654786318648,
          1.0038087775500733,
          -1.8883035577730836,
          0.40755480079472817,
          1.620992384935556,
          -1.5144382193345716,
          0.931603224067061,
          -0.0690937367458445,
          -1.1113666817523113,
          -1.6884862187088228,
          0.4847823519219444,
          -0.05144663802383848,
          0.36834324602109547,
          -0.8353614597181127,
          0.22373281034340456,
          -0.3566184980772613,
          1.195601554009199,
          0.06820956515592667,
          0.04083572678921148,
          -0.6184542972098993,
          -2.051234833545991,
          -0.14841116035642724,
          -0.03474205360657567,
          -0.5092248018023503,
          1.5827581291154604,
          1.014753174170827,
          -0.8796020182618397,
          1.5156583685885863,
          0.3459349898339406,
          -1.0614935144891169,
          -0.7649817166963779,
          0.9542728262990114,
          0.648275202973677,
          1.4943115581023017,
          -0.05217028507026561,
          -2.5758228868679427,
          1.167717895603323,
          -0.3904663846029581,
          -1.1167983296391784,
          -1.2833065183657555,
          0.1914994460291949,
          -1.0098431205894374,
          0.6341599431397855,
          1.0297851263869595,
          -0.8389507488561836,
          1.5475484215159128,
          -0.7317169193187559,
          0.7991377097309073,
          0.8423863489416101,
          -0.6566768816715937,
          0.6671829937032094
         ],
         "xaxis": "x",
         "yaxis": "y"
        },
        {
         "line": {
          "color": "rgba(128, 128, 128, 1.0)",
          "dash": "solid",
          "shape": "linear",
          "width": 1.3
         },
         "marker": {
          "size": 2,
          "symbol": "circle"
         },
         "mode": "markers",
         "name": "A",
         "text": "",
         "type": "scatter",
         "x": [
          1.2352637423497352,
          -0.644403593249537,
          -0.21583932947160878,
          -0.3065930615464294,
          0.6665906880616215,
          0.8274128978167663,
          0.05207674860437279,
          1.080405009642796,
          1.5503160159883964,
          -0.3976979490057124,
          -0.6995457282171443,
          0.5019567846337258,
          0.784414208144939,
          -0.9684400337727636,
          1.4681555528388157,
          0.9738748547542355,
          -0.1683756778040267,
          0.3284689415865835,
          -0.1019530754349385,
          0.9083874292429925,
          -0.7002357326015257,
          0.10253269120604626,
          -0.28304613432624315,
          0.29043776828919987,
          -1.5054504867131828,
          0.18888259838641094,
          0.7286810867526122,
          0.4024645562824474,
          -0.442632044759658,
          1.0128378062330445,
          1.4084203254739425,
          -1.7985124548998326,
          -1.4766875740832202,
          -0.14385940913942347,
          0.17461525221701604,
          -0.05939915810810186,
          1.1036634894886488,
          -1.614960059971259,
          0.9318582971966591,
          -1.5215083013652648,
          -0.6091839263780852,
          -1.487550522210282,
          1.5750848833669928,
          0.4460744620597566,
          1.3584587583826973,
          0.5305091400254296,
          0.4933623947455486,
          1.1827465762712785,
          0.16328972905461056,
          -0.32020332895890746,
          0.4465826943725874,
          2.2137359418920566,
          -0.5416389204214601,
          -2.374674201725834,
          -0.3318575370120358,
          0.3125129865243422,
          -1.2902209289754214,
          0.9453003743451314,
          -0.7222568276366002,
          -1.1086224341893036,
          0.9698175766464336,
          -0.02289777986971175,
          1.0119705009285886,
          -1.197599765857664,
          0.38586981097800205,
          0.1679327921569883,
          -1.1542382780421319,
          -2.6064743089733695,
          1.7539940301882824,
          -0.05325637220002819,
          0.8146578039065746,
          0.4061439818110797,
          1.1762007407215433,
          -1.4790773409005213,
          0.9741379879968607,
          -1.2534825112644354,
          -0.9035510642832751,
          -1.3400183078899761,
          1.3840795732538014,
          0.08235629844734149,
          0.526065491888457,
          1.1735641106989962,
          0.8725788127710796,
          -1.2212273380904914,
          -1.891203170183768,
          1.6731060104584292,
          -0.9194250381539126,
          -0.6757601984666243,
          1.07769365533154,
          0.5003415018622092,
          -0.5339589964979589,
          -1.9382073393181636,
          0.10156924921382787,
          1.4759570773089004,
          0.5185152737926203,
          -0.8940324829248656,
          0.626322064988126,
          1.9586230496827788,
          0.18164223414444486,
          0.3753347024349057
         ],
         "xaxis": "x2",
         "y": [
          1.0382366963092549,
          -2.400155902890422,
          0.2965349865300015,
          -0.06810621767640156,
          0.40986532593557184,
          2.980340503066905,
          -0.8113478267697151,
          0.12320917274783742,
          -0.7614388234908033,
          -1.6261937919214988,
          -0.4563416646160593,
          0.8100652375053653,
          -0.4786810244642336,
          -0.15125352763689717,
          -0.35363337608754686,
          -0.4600439741878424,
          -0.548594427223353,
          0.15179013108414735,
          1.2527836008333177,
          -0.01486881648200595,
          -1.321028273052858,
          -1.215056740365512,
          -0.46443149005930484,
          -0.2148944304441226,
          1.05921261639197,
          -0.44083508838166113,
          0.2893866833914568,
          -0.08920210825676385,
          -2.141856887876484,
          -1.6561139570133645,
          0.7297351210382328,
          0.3621479005302017,
          0.4544305516587094,
          1.1267997842916877,
          0.4980719238796653,
          0.7538993836558499,
          0.316316710943558,
          -0.7647936388049383,
          1.1335735802883333,
          1.5811875685001238,
          0.4262992431174364,
          -0.18199337606603036,
          -1.6987872789952148,
          -0.31966643306678155,
          -1.0381492197795885,
          -0.7210400728089623,
          -0.5232424059498656,
          0.33977487524362276,
          2.399931576633395,
          -0.9645654786318648,
          1.0038087775500733,
          -1.8883035577730836,
          0.40755480079472817,
          1.620992384935556,
          -1.5144382193345716,
          0.931603224067061,
          -0.0690937367458445,
          -1.1113666817523113,
          -1.6884862187088228,
          0.4847823519219444,
          -0.05144663802383848,
          0.36834324602109547,
          -0.8353614597181127,
          0.22373281034340456,
          -0.3566184980772613,
          1.195601554009199,
          0.06820956515592667,
          0.04083572678921148,
          -0.6184542972098993,
          -2.051234833545991,
          -0.14841116035642724,
          -0.03474205360657567,
          -0.5092248018023503,
          1.5827581291154604,
          1.014753174170827,
          -0.8796020182618397,
          1.5156583685885863,
          0.3459349898339406,
          -1.0614935144891169,
          -0.7649817166963779,
          0.9542728262990114,
          0.648275202973677,
          1.4943115581023017,
          -0.05217028507026561,
          -2.5758228868679427,
          1.167717895603323,
          -0.3904663846029581,
          -1.1167983296391784,
          -1.2833065183657555,
          0.1914994460291949,
          -1.0098431205894374,
          0.6341599431397855,
          1.0297851263869595,
          -0.8389507488561836,
          1.5475484215159128,
          -0.7317169193187559,
          0.7991377097309073,
          0.8423863489416101,
          -0.6566768816715937,
          0.6671829937032094
         ],
         "yaxis": "y2"
        },
        {
         "line": {
          "color": "rgba(128, 128, 128, 1.0)",
          "dash": "solid",
          "shape": "linear",
          "width": 1.3
         },
         "marker": {
          "size": 2,
          "symbol": "circle"
         },
         "mode": "markers",
         "name": "A",
         "text": "",
         "type": "scatter",
         "x": [
          0.7171100537947829,
          -0.6705043942082773,
          0.31089544958537835,
          -0.5043338553673823,
          -0.9742934286592914,
          -0.1733077424089138,
          0.40273899477371145,
          -0.6353727131784702,
          0.6799008398905035,
          0.29401464110270065,
          -1.375383559586756,
          -0.6647087831656143,
          1.6878695232537342,
          -0.6775008445543156,
          0.06392053534539674,
          -0.10491907377723063,
          -1.7116153418750857,
          0.9132426243282985,
          0.3274138137400342,
          -1.1210504061662332,
          -0.6791126142611109,
          0.1885879389467673,
          0.3909779275251414,
          -0.9288957049944576,
          -2.7577958831534803,
          -1.2785164155839637,
          0.5621501801073486,
          1.7610820566494194,
          -0.21618981557249262,
          -0.5388315352174506,
          -0.18319484127549743,
          -1.2832271004863351,
          2.6350522687278297,
          0.527329557007783,
          2.0859269989831413,
          1.3173174640212095,
          0.06019145113004047,
          0.2803281571923362,
          0.12137096803749506,
          -0.7595620995669927,
          0.8063272411837533,
          0.3454677919922995,
          -1.5144978373390645,
          0.9098287486379316,
          -0.473253461076539,
          0.2546361718204737,
          -0.35631102763063105,
          -0.6560096359506616,
          -1.1504116315618926,
          -1.8092297541955427,
          0.3728890371817506,
          -0.3768972461695595,
          0.8618457937312982,
          0.9327747362965856,
          -0.0002969481683752328,
          -0.8025540412798581,
          -1.360758773697659,
          0.42442110317748133,
          0.5102958163011305,
          -1.1621362462104412,
          1.93438554911377,
          0.38054893117410227,
          0.4483119979873048,
          -0.1570420000950534,
          -0.47460728642647093,
          -0.3303592140332204,
          -0.3064263804028798,
          1.835841696252868,
          1.1173094754592006,
          1.5250387129796623,
          -0.057291305693003565,
          -0.1277431798795453,
          -0.42379062111402,
          1.3036894405310675,
          0.5069626545732473,
          -0.6490656729012979,
          0.8428305032262942,
          1.9077142030202825,
          0.6380603845203026,
          -0.5103004666672093,
          0.11796286832900063,
          -1.1643156350132926,
          0.8119996821846642,
          0.5159794791484065,
          1.1318910776205982,
          0.8570045052237849,
          -0.3304934378727535,
          -0.4294680263145168,
          0.7986529969396823,
          -0.9811302866659917,
          -0.38656570749482927,
          -1.0466307421303616,
          -1.8336662239594692,
          -1.1901951766741279,
          0.3101164589901357,
          -0.2205163030743878,
          0.09272998727655567,
          -0.07627106087898423,
          0.35305705832500406,
          1.7536382042482186
         ],
         "xaxis": "x3",
         "y": [
          1.0382366963092549,
          -2.400155902890422,
          0.2965349865300015,
          -0.06810621767640156,
          0.40986532593557184,
          2.980340503066905,
          -0.8113478267697151,
          0.12320917274783742,
          -0.7614388234908033,
          -1.6261937919214988,
          -0.4563416646160593,
          0.8100652375053653,
          -0.4786810244642336,
          -0.15125352763689717,
          -0.35363337608754686,
          -0.4600439741878424,
          -0.548594427223353,
          0.15179013108414735,
          1.2527836008333177,
          -0.01486881648200595,
          -1.321028273052858,
          -1.215056740365512,
          -0.46443149005930484,
          -0.2148944304441226,
          1.05921261639197,
          -0.44083508838166113,
          0.2893866833914568,
          -0.08920210825676385,
          -2.141856887876484,
          -1.6561139570133645,
          0.7297351210382328,
          0.3621479005302017,
          0.4544305516587094,
          1.1267997842916877,
          0.4980719238796653,
          0.7538993836558499,
          0.316316710943558,
          -0.7647936388049383,
          1.1335735802883333,
          1.5811875685001238,
          0.4262992431174364,
          -0.18199337606603036,
          -1.6987872789952148,
          -0.31966643306678155,
          -1.0381492197795885,
          -0.7210400728089623,
          -0.5232424059498656,
          0.33977487524362276,
          2.399931576633395,
          -0.9645654786318648,
          1.0038087775500733,
          -1.8883035577730836,
          0.40755480079472817,
          1.620992384935556,
          -1.5144382193345716,
          0.931603224067061,
          -0.0690937367458445,
          -1.1113666817523113,
          -1.6884862187088228,
          0.4847823519219444,
          -0.05144663802383848,
          0.36834324602109547,
          -0.8353614597181127,
          0.22373281034340456,
          -0.3566184980772613,
          1.195601554009199,
          0.06820956515592667,
          0.04083572678921148,
          -0.6184542972098993,
          -2.051234833545991,
          -0.14841116035642724,
          -0.03474205360657567,
          -0.5092248018023503,
          1.5827581291154604,
          1.014753174170827,
          -0.8796020182618397,
          1.5156583685885863,
          0.3459349898339406,
          -1.0614935144891169,
          -0.7649817166963779,
          0.9542728262990114,
          0.648275202973677,
          1.4943115581023017,
          -0.05217028507026561,
          -2.5758228868679427,
          1.167717895603323,
          -0.3904663846029581,
          -1.1167983296391784,
          -1.2833065183657555,
          0.1914994460291949,
          -1.0098431205894374,
          0.6341599431397855,
          1.0297851263869595,
          -0.8389507488561836,
          1.5475484215159128,
          -0.7317169193187559,
          0.7991377097309073,
          0.8423863489416101,
          -0.6566768816715937,
          0.6671829937032094
         ],
         "yaxis": "y3"
        },
        {
         "line": {
          "color": "rgba(128, 128, 128, 1.0)",
          "dash": "solid",
          "shape": "linear",
          "width": 1.3
         },
         "marker": {
          "size": 2,
          "symbol": "circle"
         },
         "mode": "markers",
         "name": "A",
         "text": "",
         "type": "scatter",
         "x": [
          1.5944141224570951,
          -1.4422217718810517,
          -0.6775056248359165,
          0.5425327711778104,
          -1.150421084363576,
          0.5135457245087396,
          -1.321111295035442,
          -1.1114269353719264,
          -0.5482860723138663,
          -0.3826233020610873,
          1.8945668683576136,
          -0.7515833234081605,
          1.283833326285015,
          -0.8275993454656554,
          0.12838341498868214,
          0.8403329131702698,
          0.17060824519329876,
          -0.30011765035326887,
          0.4854545829024947,
          -1.8911154724785426,
          1.1917266999118605,
          2.10723855258812,
          0.3049749458737713,
          0.8629112602491235,
          1.3330630415456524,
          0.20595123957798286,
          1.134227029379625,
          -0.6242571940611776,
          0.8833618491795998,
          0.21596464385150554,
          0.23418253153394541,
          0.07659354311937588,
          -0.6967684344050352,
          0.3333750596807909,
          -0.4808972157811444,
          -0.4159007897049626,
          -1.4005464146445767,
          1.2344271956283603,
          -0.3076470278751892,
          -0.8955674379768139,
          0.30926774929739015,
          0.6297600251903708,
          1.7990748884496843,
          -0.5778543973249138,
          -0.335489100776331,
          1.0191314191159482,
          -0.24034705593365235,
          -0.6240939115662526,
          -0.1785435178941472,
          -0.0032633320920254657,
          -1.505027767445995,
          0.07444195095500496,
          -1.1804303602380004,
          -1.6787581401627665,
          1.548182150258975,
          -1.142038892624844,
          -1.1590141809540022,
          2.205301029707225,
          -1.7082026370724346,
          -0.4522905464781231,
          -1.560559469274855,
          -1.272695536524901,
          1.7508925284907684,
          0.265320949621517,
          -0.19252060791086,
          -0.0032326746137167433,
          -0.6622006488014425,
          -1.459023071543362,
          0.40990808542328505,
          0.17859359274457023,
          -0.46530176905928394,
          1.3943541030179492,
          0.5864037378850627,
          0.6072339357545016,
          0.14416285070077703,
          0.9317279671975461,
          0.5854298942901607,
          -1.4156750489248187,
          -0.5402684261429752,
          1.2560099479342928,
          -0.6501632557247102,
          -1.5112492067267687,
          -0.05218975454021778,
          0.41239328991222945,
          0.5445250929155341,
          0.37996094849536,
          -1.9119546395647826,
          0.709352415504824,
          -0.09305523635944245,
          0.3206055887521061,
          0.2200818497447563,
          0.3946196674990109,
          0.5530028946009807,
          1.4197216025804544,
          -0.5057009939104495,
          0.9786812076343843,
          0.7802124003868645,
          0.21398415474113802,
          -0.7621475066145035,
          0.3572791397580236
         ],
         "xaxis": "x4",
         "y": [
          1.0382366963092549,
          -2.400155902890422,
          0.2965349865300015,
          -0.06810621767640156,
          0.40986532593557184,
          2.980340503066905,
          -0.8113478267697151,
          0.12320917274783742,
          -0.7614388234908033,
          -1.6261937919214988,
          -0.4563416646160593,
          0.8100652375053653,
          -0.4786810244642336,
          -0.15125352763689717,
          -0.35363337608754686,
          -0.4600439741878424,
          -0.548594427223353,
          0.15179013108414735,
          1.2527836008333177,
          -0.01486881648200595,
          -1.321028273052858,
          -1.215056740365512,
          -0.46443149005930484,
          -0.2148944304441226,
          1.05921261639197,
          -0.44083508838166113,
          0.2893866833914568,
          -0.08920210825676385,
          -2.141856887876484,
          -1.6561139570133645,
          0.7297351210382328,
          0.3621479005302017,
          0.4544305516587094,
          1.1267997842916877,
          0.4980719238796653,
          0.7538993836558499,
          0.316316710943558,
          -0.7647936388049383,
          1.1335735802883333,
          1.5811875685001238,
          0.4262992431174364,
          -0.18199337606603036,
          -1.6987872789952148,
          -0.31966643306678155,
          -1.0381492197795885,
          -0.7210400728089623,
          -0.5232424059498656,
          0.33977487524362276,
          2.399931576633395,
          -0.9645654786318648,
          1.0038087775500733,
          -1.8883035577730836,
          0.40755480079472817,
          1.620992384935556,
          -1.5144382193345716,
          0.931603224067061,
          -0.0690937367458445,
          -1.1113666817523113,
          -1.6884862187088228,
          0.4847823519219444,
          -0.05144663802383848,
          0.36834324602109547,
          -0.8353614597181127,
          0.22373281034340456,
          -0.3566184980772613,
          1.195601554009199,
          0.06820956515592667,
          0.04083572678921148,
          -0.6184542972098993,
          -2.051234833545991,
          -0.14841116035642724,
          -0.03474205360657567,
          -0.5092248018023503,
          1.5827581291154604,
          1.014753174170827,
          -0.8796020182618397,
          1.5156583685885863,
          0.3459349898339406,
          -1.0614935144891169,
          -0.7649817166963779,
          0.9542728262990114,
          0.648275202973677,
          1.4943115581023017,
          -0.05217028507026561,
          -2.5758228868679427,
          1.167717895603323,
          -0.3904663846029581,
          -1.1167983296391784,
          -1.2833065183657555,
          0.1914994460291949,
          -1.0098431205894374,
          0.6341599431397855,
          1.0297851263869595,
          -0.8389507488561836,
          1.5475484215159128,
          -0.7317169193187559,
          0.7991377097309073,
          0.8423863489416101,
          -0.6566768816715937,
          0.6671829937032094
         ],
         "yaxis": "y4"
        },
        {
         "line": {
          "color": "rgba(128, 128, 128, 1.0)",
          "dash": "solid",
          "shape": "linear",
          "width": 1.3
         },
         "marker": {
          "size": 2,
          "symbol": "circle"
         },
         "mode": "markers",
         "name": "B",
         "text": "",
         "type": "scatter",
         "x": [
          1.0382366963092549,
          -2.400155902890422,
          0.2965349865300015,
          -0.06810621767640156,
          0.40986532593557184,
          2.980340503066905,
          -0.8113478267697151,
          0.12320917274783742,
          -0.7614388234908033,
          -1.6261937919214988,
          -0.4563416646160593,
          0.8100652375053653,
          -0.4786810244642336,
          -0.15125352763689717,
          -0.35363337608754686,
          -0.4600439741878424,
          -0.548594427223353,
          0.15179013108414735,
          1.2527836008333177,
          -0.01486881648200595,
          -1.321028273052858,
          -1.215056740365512,
          -0.46443149005930484,
          -0.2148944304441226,
          1.05921261639197,
          -0.44083508838166113,
          0.2893866833914568,
          -0.08920210825676385,
          -2.141856887876484,
          -1.6561139570133645,
          0.7297351210382328,
          0.3621479005302017,
          0.4544305516587094,
          1.1267997842916877,
          0.4980719238796653,
          0.7538993836558499,
          0.316316710943558,
          -0.7647936388049383,
          1.1335735802883333,
          1.5811875685001238,
          0.4262992431174364,
          -0.18199337606603036,
          -1.6987872789952148,
          -0.31966643306678155,
          -1.0381492197795885,
          -0.7210400728089623,
          -0.5232424059498656,
          0.33977487524362276,
          2.399931576633395,
          -0.9645654786318648,
          1.0038087775500733,
          -1.8883035577730836,
          0.40755480079472817,
          1.620992384935556,
          -1.5144382193345716,
          0.931603224067061,
          -0.0690937367458445,
          -1.1113666817523113,
          -1.6884862187088228,
          0.4847823519219444,
          -0.05144663802383848,
          0.36834324602109547,
          -0.8353614597181127,
          0.22373281034340456,
          -0.3566184980772613,
          1.195601554009199,
          0.06820956515592667,
          0.04083572678921148,
          -0.6184542972098993,
          -2.051234833545991,
          -0.14841116035642724,
          -0.03474205360657567,
          -0.5092248018023503,
          1.5827581291154604,
          1.014753174170827,
          -0.8796020182618397,
          1.5156583685885863,
          0.3459349898339406,
          -1.0614935144891169,
          -0.7649817166963779,
          0.9542728262990114,
          0.648275202973677,
          1.4943115581023017,
          -0.05217028507026561,
          -2.5758228868679427,
          1.167717895603323,
          -0.3904663846029581,
          -1.1167983296391784,
          -1.2833065183657555,
          0.1914994460291949,
          -1.0098431205894374,
          0.6341599431397855,
          1.0297851263869595,
          -0.8389507488561836,
          1.5475484215159128,
          -0.7317169193187559,
          0.7991377097309073,
          0.8423863489416101,
          -0.6566768816715937,
          0.6671829937032094
         ],
         "xaxis": "x5",
         "y": [
          1.2352637423497352,
          -0.644403593249537,
          -0.21583932947160878,
          -0.3065930615464294,
          0.6665906880616215,
          0.8274128978167663,
          0.05207674860437279,
          1.080405009642796,
          1.5503160159883964,
          -0.3976979490057124,
          -0.6995457282171443,
          0.5019567846337258,
          0.784414208144939,
          -0.9684400337727636,
          1.4681555528388157,
          0.9738748547542355,
          -0.1683756778040267,
          0.3284689415865835,
          -0.1019530754349385,
          0.9083874292429925,
          -0.7002357326015257,
          0.10253269120604626,
          -0.28304613432624315,
          0.29043776828919987,
          -1.5054504867131828,
          0.18888259838641094,
          0.7286810867526122,
          0.4024645562824474,
          -0.442632044759658,
          1.0128378062330445,
          1.4084203254739425,
          -1.7985124548998326,
          -1.4766875740832202,
          -0.14385940913942347,
          0.17461525221701604,
          -0.05939915810810186,
          1.1036634894886488,
          -1.614960059971259,
          0.9318582971966591,
          -1.5215083013652648,
          -0.6091839263780852,
          -1.487550522210282,
          1.5750848833669928,
          0.4460744620597566,
          1.3584587583826973,
          0.5305091400254296,
          0.4933623947455486,
          1.1827465762712785,
          0.16328972905461056,
          -0.32020332895890746,
          0.4465826943725874,
          2.2137359418920566,
          -0.5416389204214601,
          -2.374674201725834,
          -0.3318575370120358,
          0.3125129865243422,
          -1.2902209289754214,
          0.9453003743451314,
          -0.7222568276366002,
          -1.1086224341893036,
          0.9698175766464336,
          -0.02289777986971175,
          1.0119705009285886,
          -1.197599765857664,
          0.38586981097800205,
          0.1679327921569883,
          -1.1542382780421319,
          -2.6064743089733695,
          1.7539940301882824,
          -0.05325637220002819,
          0.8146578039065746,
          0.4061439818110797,
          1.1762007407215433,
          -1.4790773409005213,
          0.9741379879968607,
          -1.2534825112644354,
          -0.9035510642832751,
          -1.3400183078899761,
          1.3840795732538014,
          0.08235629844734149,
          0.526065491888457,
          1.1735641106989962,
          0.8725788127710796,
          -1.2212273380904914,
          -1.891203170183768,
          1.6731060104584292,
          -0.9194250381539126,
          -0.6757601984666243,
          1.07769365533154,
          0.5003415018622092,
          -0.5339589964979589,
          -1.9382073393181636,
          0.10156924921382787,
          1.4759570773089004,
          0.5185152737926203,
          -0.8940324829248656,
          0.626322064988126,
          1.9586230496827788,
          0.18164223414444486,
          0.3753347024349057
         ],
         "yaxis": "y5"
        },
        {
         "histfunc": "count",
         "histnorm": "",
         "marker": {
          "color": "rgba(55, 128, 191, 1.0)",
          "line": {
           "color": "#4D5663",
           "width": 1.3
          }
         },
         "name": "B",
         "nbinsx": 10,
         "opacity": 0.8,
         "orientation": "v",
         "type": "histogram",
         "x": [
          1.2352637423497352,
          -0.644403593249537,
          -0.21583932947160878,
          -0.3065930615464294,
          0.6665906880616215,
          0.8274128978167663,
          0.05207674860437279,
          1.080405009642796,
          1.5503160159883964,
          -0.3976979490057124,
          -0.6995457282171443,
          0.5019567846337258,
          0.784414208144939,
          -0.9684400337727636,
          1.4681555528388157,
          0.9738748547542355,
          -0.1683756778040267,
          0.3284689415865835,
          -0.1019530754349385,
          0.9083874292429925,
          -0.7002357326015257,
          0.10253269120604626,
          -0.28304613432624315,
          0.29043776828919987,
          -1.5054504867131828,
          0.18888259838641094,
          0.7286810867526122,
          0.4024645562824474,
          -0.442632044759658,
          1.0128378062330445,
          1.4084203254739425,
          -1.7985124548998326,
          -1.4766875740832202,
          -0.14385940913942347,
          0.17461525221701604,
          -0.05939915810810186,
          1.1036634894886488,
          -1.614960059971259,
          0.9318582971966591,
          -1.5215083013652648,
          -0.6091839263780852,
          -1.487550522210282,
          1.5750848833669928,
          0.4460744620597566,
          1.3584587583826973,
          0.5305091400254296,
          0.4933623947455486,
          1.1827465762712785,
          0.16328972905461056,
          -0.32020332895890746,
          0.4465826943725874,
          2.2137359418920566,
          -0.5416389204214601,
          -2.374674201725834,
          -0.3318575370120358,
          0.3125129865243422,
          -1.2902209289754214,
          0.9453003743451314,
          -0.7222568276366002,
          -1.1086224341893036,
          0.9698175766464336,
          -0.02289777986971175,
          1.0119705009285886,
          -1.197599765857664,
          0.38586981097800205,
          0.1679327921569883,
          -1.1542382780421319,
          -2.6064743089733695,
          1.7539940301882824,
          -0.05325637220002819,
          0.8146578039065746,
          0.4061439818110797,
          1.1762007407215433,
          -1.4790773409005213,
          0.9741379879968607,
          -1.2534825112644354,
          -0.9035510642832751,
          -1.3400183078899761,
          1.3840795732538014,
          0.08235629844734149,
          0.526065491888457,
          1.1735641106989962,
          0.8725788127710796,
          -1.2212273380904914,
          -1.891203170183768,
          1.6731060104584292,
          -0.9194250381539126,
          -0.6757601984666243,
          1.07769365533154,
          0.5003415018622092,
          -0.5339589964979589,
          -1.9382073393181636,
          0.10156924921382787,
          1.4759570773089004,
          0.5185152737926203,
          -0.8940324829248656,
          0.626322064988126,
          1.9586230496827788,
          0.18164223414444486,
          0.3753347024349057
         ],
         "xaxis": "x6",
         "yaxis": "y6"
        },
        {
         "line": {
          "color": "rgba(128, 128, 128, 1.0)",
          "dash": "solid",
          "shape": "linear",
          "width": 1.3
         },
         "marker": {
          "size": 2,
          "symbol": "circle"
         },
         "mode": "markers",
         "name": "B",
         "text": "",
         "type": "scatter",
         "x": [
          0.7171100537947829,
          -0.6705043942082773,
          0.31089544958537835,
          -0.5043338553673823,
          -0.9742934286592914,
          -0.1733077424089138,
          0.40273899477371145,
          -0.6353727131784702,
          0.6799008398905035,
          0.29401464110270065,
          -1.375383559586756,
          -0.6647087831656143,
          1.6878695232537342,
          -0.6775008445543156,
          0.06392053534539674,
          -0.10491907377723063,
          -1.7116153418750857,
          0.9132426243282985,
          0.3274138137400342,
          -1.1210504061662332,
          -0.6791126142611109,
          0.1885879389467673,
          0.3909779275251414,
          -0.9288957049944576,
          -2.7577958831534803,
          -1.2785164155839637,
          0.5621501801073486,
          1.7610820566494194,
          -0.21618981557249262,
          -0.5388315352174506,
          -0.18319484127549743,
          -1.2832271004863351,
          2.6350522687278297,
          0.527329557007783,
          2.0859269989831413,
          1.3173174640212095,
          0.06019145113004047,
          0.2803281571923362,
          0.12137096803749506,
          -0.7595620995669927,
          0.8063272411837533,
          0.3454677919922995,
          -1.5144978373390645,
          0.9098287486379316,
          -0.473253461076539,
          0.2546361718204737,
          -0.35631102763063105,
          -0.6560096359506616,
          -1.1504116315618926,
          -1.8092297541955427,
          0.3728890371817506,
          -0.3768972461695595,
          0.8618457937312982,
          0.9327747362965856,
          -0.0002969481683752328,
          -0.8025540412798581,
          -1.360758773697659,
          0.42442110317748133,
          0.5102958163011305,
          -1.1621362462104412,
          1.93438554911377,
          0.38054893117410227,
          0.4483119979873048,
          -0.1570420000950534,
          -0.47460728642647093,
          -0.3303592140332204,
          -0.3064263804028798,
          1.835841696252868,
          1.1173094754592006,
          1.5250387129796623,
          -0.057291305693003565,
          -0.1277431798795453,
          -0.42379062111402,
          1.3036894405310675,
          0.5069626545732473,
          -0.6490656729012979,
          0.8428305032262942,
          1.9077142030202825,
          0.6380603845203026,
          -0.5103004666672093,
          0.11796286832900063,
          -1.1643156350132926,
          0.8119996821846642,
          0.5159794791484065,
          1.1318910776205982,
          0.8570045052237849,
          -0.3304934378727535,
          -0.4294680263145168,
          0.7986529969396823,
          -0.9811302866659917,
          -0.38656570749482927,
          -1.0466307421303616,
          -1.8336662239594692,
          -1.1901951766741279,
          0.3101164589901357,
          -0.2205163030743878,
          0.09272998727655567,
          -0.07627106087898423,
          0.35305705832500406,
          1.7536382042482186
         ],
         "xaxis": "x7",
         "y": [
          1.2352637423497352,
          -0.644403593249537,
          -0.21583932947160878,
          -0.3065930615464294,
          0.6665906880616215,
          0.8274128978167663,
          0.05207674860437279,
          1.080405009642796,
          1.5503160159883964,
          -0.3976979490057124,
          -0.6995457282171443,
          0.5019567846337258,
          0.784414208144939,
          -0.9684400337727636,
          1.4681555528388157,
          0.9738748547542355,
          -0.1683756778040267,
          0.3284689415865835,
          -0.1019530754349385,
          0.9083874292429925,
          -0.7002357326015257,
          0.10253269120604626,
          -0.28304613432624315,
          0.29043776828919987,
          -1.5054504867131828,
          0.18888259838641094,
          0.7286810867526122,
          0.4024645562824474,
          -0.442632044759658,
          1.0128378062330445,
          1.4084203254739425,
          -1.7985124548998326,
          -1.4766875740832202,
          -0.14385940913942347,
          0.17461525221701604,
          -0.05939915810810186,
          1.1036634894886488,
          -1.614960059971259,
          0.9318582971966591,
          -1.5215083013652648,
          -0.6091839263780852,
          -1.487550522210282,
          1.5750848833669928,
          0.4460744620597566,
          1.3584587583826973,
          0.5305091400254296,
          0.4933623947455486,
          1.1827465762712785,
          0.16328972905461056,
          -0.32020332895890746,
          0.4465826943725874,
          2.2137359418920566,
          -0.5416389204214601,
          -2.374674201725834,
          -0.3318575370120358,
          0.3125129865243422,
          -1.2902209289754214,
          0.9453003743451314,
          -0.7222568276366002,
          -1.1086224341893036,
          0.9698175766464336,
          -0.02289777986971175,
          1.0119705009285886,
          -1.197599765857664,
          0.38586981097800205,
          0.1679327921569883,
          -1.1542382780421319,
          -2.6064743089733695,
          1.7539940301882824,
          -0.05325637220002819,
          0.8146578039065746,
          0.4061439818110797,
          1.1762007407215433,
          -1.4790773409005213,
          0.9741379879968607,
          -1.2534825112644354,
          -0.9035510642832751,
          -1.3400183078899761,
          1.3840795732538014,
          0.08235629844734149,
          0.526065491888457,
          1.1735641106989962,
          0.8725788127710796,
          -1.2212273380904914,
          -1.891203170183768,
          1.6731060104584292,
          -0.9194250381539126,
          -0.6757601984666243,
          1.07769365533154,
          0.5003415018622092,
          -0.5339589964979589,
          -1.9382073393181636,
          0.10156924921382787,
          1.4759570773089004,
          0.5185152737926203,
          -0.8940324829248656,
          0.626322064988126,
          1.9586230496827788,
          0.18164223414444486,
          0.3753347024349057
         ],
         "yaxis": "y7"
        },
        {
         "line": {
          "color": "rgba(128, 128, 128, 1.0)",
          "dash": "solid",
          "shape": "linear",
          "width": 1.3
         },
         "marker": {
          "size": 2,
          "symbol": "circle"
         },
         "mode": "markers",
         "name": "B",
         "text": "",
         "type": "scatter",
         "x": [
          1.5944141224570951,
          -1.4422217718810517,
          -0.6775056248359165,
          0.5425327711778104,
          -1.150421084363576,
          0.5135457245087396,
          -1.321111295035442,
          -1.1114269353719264,
          -0.5482860723138663,
          -0.3826233020610873,
          1.8945668683576136,
          -0.7515833234081605,
          1.283833326285015,
          -0.8275993454656554,
          0.12838341498868214,
          0.8403329131702698,
          0.17060824519329876,
          -0.30011765035326887,
          0.4854545829024947,
          -1.8911154724785426,
          1.1917266999118605,
          2.10723855258812,
          0.3049749458737713,
          0.8629112602491235,
          1.3330630415456524,
          0.20595123957798286,
          1.134227029379625,
          -0.6242571940611776,
          0.8833618491795998,
          0.21596464385150554,
          0.23418253153394541,
          0.07659354311937588,
          -0.6967684344050352,
          0.3333750596807909,
          -0.4808972157811444,
          -0.4159007897049626,
          -1.4005464146445767,
          1.2344271956283603,
          -0.3076470278751892,
          -0.8955674379768139,
          0.30926774929739015,
          0.6297600251903708,
          1.7990748884496843,
          -0.5778543973249138,
          -0.335489100776331,
          1.0191314191159482,
          -0.24034705593365235,
          -0.6240939115662526,
          -0.1785435178941472,
          -0.0032633320920254657,
          -1.505027767445995,
          0.07444195095500496,
          -1.1804303602380004,
          -1.6787581401627665,
          1.548182150258975,
          -1.142038892624844,
          -1.1590141809540022,
          2.205301029707225,
          -1.7082026370724346,
          -0.4522905464781231,
          -1.560559469274855,
          -1.272695536524901,
          1.7508925284907684,
          0.265320949621517,
          -0.19252060791086,
          -0.0032326746137167433,
          -0.6622006488014425,
          -1.459023071543362,
          0.40990808542328505,
          0.17859359274457023,
          -0.46530176905928394,
          1.3943541030179492,
          0.5864037378850627,
          0.6072339357545016,
          0.14416285070077703,
          0.9317279671975461,
          0.5854298942901607,
          -1.4156750489248187,
          -0.5402684261429752,
          1.2560099479342928,
          -0.6501632557247102,
          -1.5112492067267687,
          -0.05218975454021778,
          0.41239328991222945,
          0.5445250929155341,
          0.37996094849536,
          -1.9119546395647826,
          0.709352415504824,
          -0.09305523635944245,
          0.3206055887521061,
          0.2200818497447563,
          0.3946196674990109,
          0.5530028946009807,
          1.4197216025804544,
          -0.5057009939104495,
          0.9786812076343843,
          0.7802124003868645,
          0.21398415474113802,
          -0.7621475066145035,
          0.3572791397580236
         ],
         "xaxis": "x8",
         "y": [
          1.2352637423497352,
          -0.644403593249537,
          -0.21583932947160878,
          -0.3065930615464294,
          0.6665906880616215,
          0.8274128978167663,
          0.05207674860437279,
          1.080405009642796,
          1.5503160159883964,
          -0.3976979490057124,
          -0.6995457282171443,
          0.5019567846337258,
          0.784414208144939,
          -0.9684400337727636,
          1.4681555528388157,
          0.9738748547542355,
          -0.1683756778040267,
          0.3284689415865835,
          -0.1019530754349385,
          0.9083874292429925,
          -0.7002357326015257,
          0.10253269120604626,
          -0.28304613432624315,
          0.29043776828919987,
          -1.5054504867131828,
          0.18888259838641094,
          0.7286810867526122,
          0.4024645562824474,
          -0.442632044759658,
          1.0128378062330445,
          1.4084203254739425,
          -1.7985124548998326,
          -1.4766875740832202,
          -0.14385940913942347,
          0.17461525221701604,
          -0.05939915810810186,
          1.1036634894886488,
          -1.614960059971259,
          0.9318582971966591,
          -1.5215083013652648,
          -0.6091839263780852,
          -1.487550522210282,
          1.5750848833669928,
          0.4460744620597566,
          1.3584587583826973,
          0.5305091400254296,
          0.4933623947455486,
          1.1827465762712785,
          0.16328972905461056,
          -0.32020332895890746,
          0.4465826943725874,
          2.2137359418920566,
          -0.5416389204214601,
          -2.374674201725834,
          -0.3318575370120358,
          0.3125129865243422,
          -1.2902209289754214,
          0.9453003743451314,
          -0.7222568276366002,
          -1.1086224341893036,
          0.9698175766464336,
          -0.02289777986971175,
          1.0119705009285886,
          -1.197599765857664,
          0.38586981097800205,
          0.1679327921569883,
          -1.1542382780421319,
          -2.6064743089733695,
          1.7539940301882824,
          -0.05325637220002819,
          0.8146578039065746,
          0.4061439818110797,
          1.1762007407215433,
          -1.4790773409005213,
          0.9741379879968607,
          -1.2534825112644354,
          -0.9035510642832751,
          -1.3400183078899761,
          1.3840795732538014,
          0.08235629844734149,
          0.526065491888457,
          1.1735641106989962,
          0.8725788127710796,
          -1.2212273380904914,
          -1.891203170183768,
          1.6731060104584292,
          -0.9194250381539126,
          -0.6757601984666243,
          1.07769365533154,
          0.5003415018622092,
          -0.5339589964979589,
          -1.9382073393181636,
          0.10156924921382787,
          1.4759570773089004,
          0.5185152737926203,
          -0.8940324829248656,
          0.626322064988126,
          1.9586230496827788,
          0.18164223414444486,
          0.3753347024349057
         ],
         "yaxis": "y8"
        },
        {
         "line": {
          "color": "rgba(128, 128, 128, 1.0)",
          "dash": "solid",
          "shape": "linear",
          "width": 1.3
         },
         "marker": {
          "size": 2,
          "symbol": "circle"
         },
         "mode": "markers",
         "name": "C",
         "text": "",
         "type": "scatter",
         "x": [
          1.0382366963092549,
          -2.400155902890422,
          0.2965349865300015,
          -0.06810621767640156,
          0.40986532593557184,
          2.980340503066905,
          -0.8113478267697151,
          0.12320917274783742,
          -0.7614388234908033,
          -1.6261937919214988,
          -0.4563416646160593,
          0.8100652375053653,
          -0.4786810244642336,
          -0.15125352763689717,
          -0.35363337608754686,
          -0.4600439741878424,
          -0.548594427223353,
          0.15179013108414735,
          1.2527836008333177,
          -0.01486881648200595,
          -1.321028273052858,
          -1.215056740365512,
          -0.46443149005930484,
          -0.2148944304441226,
          1.05921261639197,
          -0.44083508838166113,
          0.2893866833914568,
          -0.08920210825676385,
          -2.141856887876484,
          -1.6561139570133645,
          0.7297351210382328,
          0.3621479005302017,
          0.4544305516587094,
          1.1267997842916877,
          0.4980719238796653,
          0.7538993836558499,
          0.316316710943558,
          -0.7647936388049383,
          1.1335735802883333,
          1.5811875685001238,
          0.4262992431174364,
          -0.18199337606603036,
          -1.6987872789952148,
          -0.31966643306678155,
          -1.0381492197795885,
          -0.7210400728089623,
          -0.5232424059498656,
          0.33977487524362276,
          2.399931576633395,
          -0.9645654786318648,
          1.0038087775500733,
          -1.8883035577730836,
          0.40755480079472817,
          1.620992384935556,
          -1.5144382193345716,
          0.931603224067061,
          -0.0690937367458445,
          -1.1113666817523113,
          -1.6884862187088228,
          0.4847823519219444,
          -0.05144663802383848,
          0.36834324602109547,
          -0.8353614597181127,
          0.22373281034340456,
          -0.3566184980772613,
          1.195601554009199,
          0.06820956515592667,
          0.04083572678921148,
          -0.6184542972098993,
          -2.051234833545991,
          -0.14841116035642724,
          -0.03474205360657567,
          -0.5092248018023503,
          1.5827581291154604,
          1.014753174170827,
          -0.8796020182618397,
          1.5156583685885863,
          0.3459349898339406,
          -1.0614935144891169,
          -0.7649817166963779,
          0.9542728262990114,
          0.648275202973677,
          1.4943115581023017,
          -0.05217028507026561,
          -2.5758228868679427,
          1.167717895603323,
          -0.3904663846029581,
          -1.1167983296391784,
          -1.2833065183657555,
          0.1914994460291949,
          -1.0098431205894374,
          0.6341599431397855,
          1.0297851263869595,
          -0.8389507488561836,
          1.5475484215159128,
          -0.7317169193187559,
          0.7991377097309073,
          0.8423863489416101,
          -0.6566768816715937,
          0.6671829937032094
         ],
         "xaxis": "x9",
         "y": [
          0.7171100537947829,
          -0.6705043942082773,
          0.31089544958537835,
          -0.5043338553673823,
          -0.9742934286592914,
          -0.1733077424089138,
          0.40273899477371145,
          -0.6353727131784702,
          0.6799008398905035,
          0.29401464110270065,
          -1.375383559586756,
          -0.6647087831656143,
          1.6878695232537342,
          -0.6775008445543156,
          0.06392053534539674,
          -0.10491907377723063,
          -1.7116153418750857,
          0.9132426243282985,
          0.3274138137400342,
          -1.1210504061662332,
          -0.6791126142611109,
          0.1885879389467673,
          0.3909779275251414,
          -0.9288957049944576,
          -2.7577958831534803,
          -1.2785164155839637,
          0.5621501801073486,
          1.7610820566494194,
          -0.21618981557249262,
          -0.5388315352174506,
          -0.18319484127549743,
          -1.2832271004863351,
          2.6350522687278297,
          0.527329557007783,
          2.0859269989831413,
          1.3173174640212095,
          0.06019145113004047,
          0.2803281571923362,
          0.12137096803749506,
          -0.7595620995669927,
          0.8063272411837533,
          0.3454677919922995,
          -1.5144978373390645,
          0.9098287486379316,
          -0.473253461076539,
          0.2546361718204737,
          -0.35631102763063105,
          -0.6560096359506616,
          -1.1504116315618926,
          -1.8092297541955427,
          0.3728890371817506,
          -0.3768972461695595,
          0.8618457937312982,
          0.9327747362965856,
          -0.0002969481683752328,
          -0.8025540412798581,
          -1.360758773697659,
          0.42442110317748133,
          0.5102958163011305,
          -1.1621362462104412,
          1.93438554911377,
          0.38054893117410227,
          0.4483119979873048,
          -0.1570420000950534,
          -0.47460728642647093,
          -0.3303592140332204,
          -0.3064263804028798,
          1.835841696252868,
          1.1173094754592006,
          1.5250387129796623,
          -0.057291305693003565,
          -0.1277431798795453,
          -0.42379062111402,
          1.3036894405310675,
          0.5069626545732473,
          -0.6490656729012979,
          0.8428305032262942,
          1.9077142030202825,
          0.6380603845203026,
          -0.5103004666672093,
          0.11796286832900063,
          -1.1643156350132926,
          0.8119996821846642,
          0.5159794791484065,
          1.1318910776205982,
          0.8570045052237849,
          -0.3304934378727535,
          -0.4294680263145168,
          0.7986529969396823,
          -0.9811302866659917,
          -0.38656570749482927,
          -1.0466307421303616,
          -1.8336662239594692,
          -1.1901951766741279,
          0.3101164589901357,
          -0.2205163030743878,
          0.09272998727655567,
          -0.07627106087898423,
          0.35305705832500406,
          1.7536382042482186
         ],
         "yaxis": "y9"
        },
        {
         "line": {
          "color": "rgba(128, 128, 128, 1.0)",
          "dash": "solid",
          "shape": "linear",
          "width": 1.3
         },
         "marker": {
          "size": 2,
          "symbol": "circle"
         },
         "mode": "markers",
         "name": "C",
         "text": "",
         "type": "scatter",
         "x": [
          1.2352637423497352,
          -0.644403593249537,
          -0.21583932947160878,
          -0.3065930615464294,
          0.6665906880616215,
          0.8274128978167663,
          0.05207674860437279,
          1.080405009642796,
          1.5503160159883964,
          -0.3976979490057124,
          -0.6995457282171443,
          0.5019567846337258,
          0.784414208144939,
          -0.9684400337727636,
          1.4681555528388157,
          0.9738748547542355,
          -0.1683756778040267,
          0.3284689415865835,
          -0.1019530754349385,
          0.9083874292429925,
          -0.7002357326015257,
          0.10253269120604626,
          -0.28304613432624315,
          0.29043776828919987,
          -1.5054504867131828,
          0.18888259838641094,
          0.7286810867526122,
          0.4024645562824474,
          -0.442632044759658,
          1.0128378062330445,
          1.4084203254739425,
          -1.7985124548998326,
          -1.4766875740832202,
          -0.14385940913942347,
          0.17461525221701604,
          -0.05939915810810186,
          1.1036634894886488,
          -1.614960059971259,
          0.9318582971966591,
          -1.5215083013652648,
          -0.6091839263780852,
          -1.487550522210282,
          1.5750848833669928,
          0.4460744620597566,
          1.3584587583826973,
          0.5305091400254296,
          0.4933623947455486,
          1.1827465762712785,
          0.16328972905461056,
          -0.32020332895890746,
          0.4465826943725874,
          2.2137359418920566,
          -0.5416389204214601,
          -2.374674201725834,
          -0.3318575370120358,
          0.3125129865243422,
          -1.2902209289754214,
          0.9453003743451314,
          -0.7222568276366002,
          -1.1086224341893036,
          0.9698175766464336,
          -0.02289777986971175,
          1.0119705009285886,
          -1.197599765857664,
          0.38586981097800205,
          0.1679327921569883,
          -1.1542382780421319,
          -2.6064743089733695,
          1.7539940301882824,
          -0.05325637220002819,
          0.8146578039065746,
          0.4061439818110797,
          1.1762007407215433,
          -1.4790773409005213,
          0.9741379879968607,
          -1.2534825112644354,
          -0.9035510642832751,
          -1.3400183078899761,
          1.3840795732538014,
          0.08235629844734149,
          0.526065491888457,
          1.1735641106989962,
          0.8725788127710796,
          -1.2212273380904914,
          -1.891203170183768,
          1.6731060104584292,
          -0.9194250381539126,
          -0.6757601984666243,
          1.07769365533154,
          0.5003415018622092,
          -0.5339589964979589,
          -1.9382073393181636,
          0.10156924921382787,
          1.4759570773089004,
          0.5185152737926203,
          -0.8940324829248656,
          0.626322064988126,
          1.9586230496827788,
          0.18164223414444486,
          0.3753347024349057
         ],
         "xaxis": "x10",
         "y": [
          0.7171100537947829,
          -0.6705043942082773,
          0.31089544958537835,
          -0.5043338553673823,
          -0.9742934286592914,
          -0.1733077424089138,
          0.40273899477371145,
          -0.6353727131784702,
          0.6799008398905035,
          0.29401464110270065,
          -1.375383559586756,
          -0.6647087831656143,
          1.6878695232537342,
          -0.6775008445543156,
          0.06392053534539674,
          -0.10491907377723063,
          -1.7116153418750857,
          0.9132426243282985,
          0.3274138137400342,
          -1.1210504061662332,
          -0.6791126142611109,
          0.1885879389467673,
          0.3909779275251414,
          -0.9288957049944576,
          -2.7577958831534803,
          -1.2785164155839637,
          0.5621501801073486,
          1.7610820566494194,
          -0.21618981557249262,
          -0.5388315352174506,
          -0.18319484127549743,
          -1.2832271004863351,
          2.6350522687278297,
          0.527329557007783,
          2.0859269989831413,
          1.3173174640212095,
          0.06019145113004047,
          0.2803281571923362,
          0.12137096803749506,
          -0.7595620995669927,
          0.8063272411837533,
          0.3454677919922995,
          -1.5144978373390645,
          0.9098287486379316,
          -0.473253461076539,
          0.2546361718204737,
          -0.35631102763063105,
          -0.6560096359506616,
          -1.1504116315618926,
          -1.8092297541955427,
          0.3728890371817506,
          -0.3768972461695595,
          0.8618457937312982,
          0.9327747362965856,
          -0.0002969481683752328,
          -0.8025540412798581,
          -1.360758773697659,
          0.42442110317748133,
          0.5102958163011305,
          -1.1621362462104412,
          1.93438554911377,
          0.38054893117410227,
          0.4483119979873048,
          -0.1570420000950534,
          -0.47460728642647093,
          -0.3303592140332204,
          -0.3064263804028798,
          1.835841696252868,
          1.1173094754592006,
          1.5250387129796623,
          -0.057291305693003565,
          -0.1277431798795453,
          -0.42379062111402,
          1.3036894405310675,
          0.5069626545732473,
          -0.6490656729012979,
          0.8428305032262942,
          1.9077142030202825,
          0.6380603845203026,
          -0.5103004666672093,
          0.11796286832900063,
          -1.1643156350132926,
          0.8119996821846642,
          0.5159794791484065,
          1.1318910776205982,
          0.8570045052237849,
          -0.3304934378727535,
          -0.4294680263145168,
          0.7986529969396823,
          -0.9811302866659917,
          -0.38656570749482927,
          -1.0466307421303616,
          -1.8336662239594692,
          -1.1901951766741279,
          0.3101164589901357,
          -0.2205163030743878,
          0.09272998727655567,
          -0.07627106087898423,
          0.35305705832500406,
          1.7536382042482186
         ],
         "yaxis": "y10"
        },
        {
         "histfunc": "count",
         "histnorm": "",
         "marker": {
          "color": "rgba(50, 171, 96, 1.0)",
          "line": {
           "color": "#4D5663",
           "width": 1.3
          }
         },
         "name": "C",
         "nbinsx": 10,
         "opacity": 0.8,
         "orientation": "v",
         "type": "histogram",
         "x": [
          0.7171100537947829,
          -0.6705043942082773,
          0.31089544958537835,
          -0.5043338553673823,
          -0.9742934286592914,
          -0.1733077424089138,
          0.40273899477371145,
          -0.6353727131784702,
          0.6799008398905035,
          0.29401464110270065,
          -1.375383559586756,
          -0.6647087831656143,
          1.6878695232537342,
          -0.6775008445543156,
          0.06392053534539674,
          -0.10491907377723063,
          -1.7116153418750857,
          0.9132426243282985,
          0.3274138137400342,
          -1.1210504061662332,
          -0.6791126142611109,
          0.1885879389467673,
          0.3909779275251414,
          -0.9288957049944576,
          -2.7577958831534803,
          -1.2785164155839637,
          0.5621501801073486,
          1.7610820566494194,
          -0.21618981557249262,
          -0.5388315352174506,
          -0.18319484127549743,
          -1.2832271004863351,
          2.6350522687278297,
          0.527329557007783,
          2.0859269989831413,
          1.3173174640212095,
          0.06019145113004047,
          0.2803281571923362,
          0.12137096803749506,
          -0.7595620995669927,
          0.8063272411837533,
          0.3454677919922995,
          -1.5144978373390645,
          0.9098287486379316,
          -0.473253461076539,
          0.2546361718204737,
          -0.35631102763063105,
          -0.6560096359506616,
          -1.1504116315618926,
          -1.8092297541955427,
          0.3728890371817506,
          -0.3768972461695595,
          0.8618457937312982,
          0.9327747362965856,
          -0.0002969481683752328,
          -0.8025540412798581,
          -1.360758773697659,
          0.42442110317748133,
          0.5102958163011305,
          -1.1621362462104412,
          1.93438554911377,
          0.38054893117410227,
          0.4483119979873048,
          -0.1570420000950534,
          -0.47460728642647093,
          -0.3303592140332204,
          -0.3064263804028798,
          1.835841696252868,
          1.1173094754592006,
          1.5250387129796623,
          -0.057291305693003565,
          -0.1277431798795453,
          -0.42379062111402,
          1.3036894405310675,
          0.5069626545732473,
          -0.6490656729012979,
          0.8428305032262942,
          1.9077142030202825,
          0.6380603845203026,
          -0.5103004666672093,
          0.11796286832900063,
          -1.1643156350132926,
          0.8119996821846642,
          0.5159794791484065,
          1.1318910776205982,
          0.8570045052237849,
          -0.3304934378727535,
          -0.4294680263145168,
          0.7986529969396823,
          -0.9811302866659917,
          -0.38656570749482927,
          -1.0466307421303616,
          -1.8336662239594692,
          -1.1901951766741279,
          0.3101164589901357,
          -0.2205163030743878,
          0.09272998727655567,
          -0.07627106087898423,
          0.35305705832500406,
          1.7536382042482186
         ],
         "xaxis": "x11",
         "yaxis": "y11"
        },
        {
         "line": {
          "color": "rgba(128, 128, 128, 1.0)",
          "dash": "solid",
          "shape": "linear",
          "width": 1.3
         },
         "marker": {
          "size": 2,
          "symbol": "circle"
         },
         "mode": "markers",
         "name": "C",
         "text": "",
         "type": "scatter",
         "x": [
          1.5944141224570951,
          -1.4422217718810517,
          -0.6775056248359165,
          0.5425327711778104,
          -1.150421084363576,
          0.5135457245087396,
          -1.321111295035442,
          -1.1114269353719264,
          -0.5482860723138663,
          -0.3826233020610873,
          1.8945668683576136,
          -0.7515833234081605,
          1.283833326285015,
          -0.8275993454656554,
          0.12838341498868214,
          0.8403329131702698,
          0.17060824519329876,
          -0.30011765035326887,
          0.4854545829024947,
          -1.8911154724785426,
          1.1917266999118605,
          2.10723855258812,
          0.3049749458737713,
          0.8629112602491235,
          1.3330630415456524,
          0.20595123957798286,
          1.134227029379625,
          -0.6242571940611776,
          0.8833618491795998,
          0.21596464385150554,
          0.23418253153394541,
          0.07659354311937588,
          -0.6967684344050352,
          0.3333750596807909,
          -0.4808972157811444,
          -0.4159007897049626,
          -1.4005464146445767,
          1.2344271956283603,
          -0.3076470278751892,
          -0.8955674379768139,
          0.30926774929739015,
          0.6297600251903708,
          1.7990748884496843,
          -0.5778543973249138,
          -0.335489100776331,
          1.0191314191159482,
          -0.24034705593365235,
          -0.6240939115662526,
          -0.1785435178941472,
          -0.0032633320920254657,
          -1.505027767445995,
          0.07444195095500496,
          -1.1804303602380004,
          -1.6787581401627665,
          1.548182150258975,
          -1.142038892624844,
          -1.1590141809540022,
          2.205301029707225,
          -1.7082026370724346,
          -0.4522905464781231,
          -1.560559469274855,
          -1.272695536524901,
          1.7508925284907684,
          0.265320949621517,
          -0.19252060791086,
          -0.0032326746137167433,
          -0.6622006488014425,
          -1.459023071543362,
          0.40990808542328505,
          0.17859359274457023,
          -0.46530176905928394,
          1.3943541030179492,
          0.5864037378850627,
          0.6072339357545016,
          0.14416285070077703,
          0.9317279671975461,
          0.5854298942901607,
          -1.4156750489248187,
          -0.5402684261429752,
          1.2560099479342928,
          -0.6501632557247102,
          -1.5112492067267687,
          -0.05218975454021778,
          0.41239328991222945,
          0.5445250929155341,
          0.37996094849536,
          -1.9119546395647826,
          0.709352415504824,
          -0.09305523635944245,
          0.3206055887521061,
          0.2200818497447563,
          0.3946196674990109,
          0.5530028946009807,
          1.4197216025804544,
          -0.5057009939104495,
          0.9786812076343843,
          0.7802124003868645,
          0.21398415474113802,
          -0.7621475066145035,
          0.3572791397580236
         ],
         "xaxis": "x12",
         "y": [
          0.7171100537947829,
          -0.6705043942082773,
          0.31089544958537835,
          -0.5043338553673823,
          -0.9742934286592914,
          -0.1733077424089138,
          0.40273899477371145,
          -0.6353727131784702,
          0.6799008398905035,
          0.29401464110270065,
          -1.375383559586756,
          -0.6647087831656143,
          1.6878695232537342,
          -0.6775008445543156,
          0.06392053534539674,
          -0.10491907377723063,
          -1.7116153418750857,
          0.9132426243282985,
          0.3274138137400342,
          -1.1210504061662332,
          -0.6791126142611109,
          0.1885879389467673,
          0.3909779275251414,
          -0.9288957049944576,
          -2.7577958831534803,
          -1.2785164155839637,
          0.5621501801073486,
          1.7610820566494194,
          -0.21618981557249262,
          -0.5388315352174506,
          -0.18319484127549743,
          -1.2832271004863351,
          2.6350522687278297,
          0.527329557007783,
          2.0859269989831413,
          1.3173174640212095,
          0.06019145113004047,
          0.2803281571923362,
          0.12137096803749506,
          -0.7595620995669927,
          0.8063272411837533,
          0.3454677919922995,
          -1.5144978373390645,
          0.9098287486379316,
          -0.473253461076539,
          0.2546361718204737,
          -0.35631102763063105,
          -0.6560096359506616,
          -1.1504116315618926,
          -1.8092297541955427,
          0.3728890371817506,
          -0.3768972461695595,
          0.8618457937312982,
          0.9327747362965856,
          -0.0002969481683752328,
          -0.8025540412798581,
          -1.360758773697659,
          0.42442110317748133,
          0.5102958163011305,
          -1.1621362462104412,
          1.93438554911377,
          0.38054893117410227,
          0.4483119979873048,
          -0.1570420000950534,
          -0.47460728642647093,
          -0.3303592140332204,
          -0.3064263804028798,
          1.835841696252868,
          1.1173094754592006,
          1.5250387129796623,
          -0.057291305693003565,
          -0.1277431798795453,
          -0.42379062111402,
          1.3036894405310675,
          0.5069626545732473,
          -0.6490656729012979,
          0.8428305032262942,
          1.9077142030202825,
          0.6380603845203026,
          -0.5103004666672093,
          0.11796286832900063,
          -1.1643156350132926,
          0.8119996821846642,
          0.5159794791484065,
          1.1318910776205982,
          0.8570045052237849,
          -0.3304934378727535,
          -0.4294680263145168,
          0.7986529969396823,
          -0.9811302866659917,
          -0.38656570749482927,
          -1.0466307421303616,
          -1.8336662239594692,
          -1.1901951766741279,
          0.3101164589901357,
          -0.2205163030743878,
          0.09272998727655567,
          -0.07627106087898423,
          0.35305705832500406,
          1.7536382042482186
         ],
         "yaxis": "y12"
        },
        {
         "line": {
          "color": "rgba(128, 128, 128, 1.0)",
          "dash": "solid",
          "shape": "linear",
          "width": 1.3
         },
         "marker": {
          "size": 2,
          "symbol": "circle"
         },
         "mode": "markers",
         "name": "D",
         "text": "",
         "type": "scatter",
         "x": [
          1.0382366963092549,
          -2.400155902890422,
          0.2965349865300015,
          -0.06810621767640156,
          0.40986532593557184,
          2.980340503066905,
          -0.8113478267697151,
          0.12320917274783742,
          -0.7614388234908033,
          -1.6261937919214988,
          -0.4563416646160593,
          0.8100652375053653,
          -0.4786810244642336,
          -0.15125352763689717,
          -0.35363337608754686,
          -0.4600439741878424,
          -0.548594427223353,
          0.15179013108414735,
          1.2527836008333177,
          -0.01486881648200595,
          -1.321028273052858,
          -1.215056740365512,
          -0.46443149005930484,
          -0.2148944304441226,
          1.05921261639197,
          -0.44083508838166113,
          0.2893866833914568,
          -0.08920210825676385,
          -2.141856887876484,
          -1.6561139570133645,
          0.7297351210382328,
          0.3621479005302017,
          0.4544305516587094,
          1.1267997842916877,
          0.4980719238796653,
          0.7538993836558499,
          0.316316710943558,
          -0.7647936388049383,
          1.1335735802883333,
          1.5811875685001238,
          0.4262992431174364,
          -0.18199337606603036,
          -1.6987872789952148,
          -0.31966643306678155,
          -1.0381492197795885,
          -0.7210400728089623,
          -0.5232424059498656,
          0.33977487524362276,
          2.399931576633395,
          -0.9645654786318648,
          1.0038087775500733,
          -1.8883035577730836,
          0.40755480079472817,
          1.620992384935556,
          -1.5144382193345716,
          0.931603224067061,
          -0.0690937367458445,
          -1.1113666817523113,
          -1.6884862187088228,
          0.4847823519219444,
          -0.05144663802383848,
          0.36834324602109547,
          -0.8353614597181127,
          0.22373281034340456,
          -0.3566184980772613,
          1.195601554009199,
          0.06820956515592667,
          0.04083572678921148,
          -0.6184542972098993,
          -2.051234833545991,
          -0.14841116035642724,
          -0.03474205360657567,
          -0.5092248018023503,
          1.5827581291154604,
          1.014753174170827,
          -0.8796020182618397,
          1.5156583685885863,
          0.3459349898339406,
          -1.0614935144891169,
          -0.7649817166963779,
          0.9542728262990114,
          0.648275202973677,
          1.4943115581023017,
          -0.05217028507026561,
          -2.5758228868679427,
          1.167717895603323,
          -0.3904663846029581,
          -1.1167983296391784,
          -1.2833065183657555,
          0.1914994460291949,
          -1.0098431205894374,
          0.6341599431397855,
          1.0297851263869595,
          -0.8389507488561836,
          1.5475484215159128,
          -0.7317169193187559,
          0.7991377097309073,
          0.8423863489416101,
          -0.6566768816715937,
          0.6671829937032094
         ],
         "xaxis": "x13",
         "y": [
          1.5944141224570951,
          -1.4422217718810517,
          -0.6775056248359165,
          0.5425327711778104,
          -1.150421084363576,
          0.5135457245087396,
          -1.321111295035442,
          -1.1114269353719264,
          -0.5482860723138663,
          -0.3826233020610873,
          1.8945668683576136,
          -0.7515833234081605,
          1.283833326285015,
          -0.8275993454656554,
          0.12838341498868214,
          0.8403329131702698,
          0.17060824519329876,
          -0.30011765035326887,
          0.4854545829024947,
          -1.8911154724785426,
          1.1917266999118605,
          2.10723855258812,
          0.3049749458737713,
          0.8629112602491235,
          1.3330630415456524,
          0.20595123957798286,
          1.134227029379625,
          -0.6242571940611776,
          0.8833618491795998,
          0.21596464385150554,
          0.23418253153394541,
          0.07659354311937588,
          -0.6967684344050352,
          0.3333750596807909,
          -0.4808972157811444,
          -0.4159007897049626,
          -1.4005464146445767,
          1.2344271956283603,
          -0.3076470278751892,
          -0.8955674379768139,
          0.30926774929739015,
          0.6297600251903708,
          1.7990748884496843,
          -0.5778543973249138,
          -0.335489100776331,
          1.0191314191159482,
          -0.24034705593365235,
          -0.6240939115662526,
          -0.1785435178941472,
          -0.0032633320920254657,
          -1.505027767445995,
          0.07444195095500496,
          -1.1804303602380004,
          -1.6787581401627665,
          1.548182150258975,
          -1.142038892624844,
          -1.1590141809540022,
          2.205301029707225,
          -1.7082026370724346,
          -0.4522905464781231,
          -1.560559469274855,
          -1.272695536524901,
          1.7508925284907684,
          0.265320949621517,
          -0.19252060791086,
          -0.0032326746137167433,
          -0.6622006488014425,
          -1.459023071543362,
          0.40990808542328505,
          0.17859359274457023,
          -0.46530176905928394,
          1.3943541030179492,
          0.5864037378850627,
          0.6072339357545016,
          0.14416285070077703,
          0.9317279671975461,
          0.5854298942901607,
          -1.4156750489248187,
          -0.5402684261429752,
          1.2560099479342928,
          -0.6501632557247102,
          -1.5112492067267687,
          -0.05218975454021778,
          0.41239328991222945,
          0.5445250929155341,
          0.37996094849536,
          -1.9119546395647826,
          0.709352415504824,
          -0.09305523635944245,
          0.3206055887521061,
          0.2200818497447563,
          0.3946196674990109,
          0.5530028946009807,
          1.4197216025804544,
          -0.5057009939104495,
          0.9786812076343843,
          0.7802124003868645,
          0.21398415474113802,
          -0.7621475066145035,
          0.3572791397580236
         ],
         "yaxis": "y13"
        },
        {
         "line": {
          "color": "rgba(128, 128, 128, 1.0)",
          "dash": "solid",
          "shape": "linear",
          "width": 1.3
         },
         "marker": {
          "size": 2,
          "symbol": "circle"
         },
         "mode": "markers",
         "name": "D",
         "text": "",
         "type": "scatter",
         "x": [
          1.2352637423497352,
          -0.644403593249537,
          -0.21583932947160878,
          -0.3065930615464294,
          0.6665906880616215,
          0.8274128978167663,
          0.05207674860437279,
          1.080405009642796,
          1.5503160159883964,
          -0.3976979490057124,
          -0.6995457282171443,
          0.5019567846337258,
          0.784414208144939,
          -0.9684400337727636,
          1.4681555528388157,
          0.9738748547542355,
          -0.1683756778040267,
          0.3284689415865835,
          -0.1019530754349385,
          0.9083874292429925,
          -0.7002357326015257,
          0.10253269120604626,
          -0.28304613432624315,
          0.29043776828919987,
          -1.5054504867131828,
          0.18888259838641094,
          0.7286810867526122,
          0.4024645562824474,
          -0.442632044759658,
          1.0128378062330445,
          1.4084203254739425,
          -1.7985124548998326,
          -1.4766875740832202,
          -0.14385940913942347,
          0.17461525221701604,
          -0.05939915810810186,
          1.1036634894886488,
          -1.614960059971259,
          0.9318582971966591,
          -1.5215083013652648,
          -0.6091839263780852,
          -1.487550522210282,
          1.5750848833669928,
          0.4460744620597566,
          1.3584587583826973,
          0.5305091400254296,
          0.4933623947455486,
          1.1827465762712785,
          0.16328972905461056,
          -0.32020332895890746,
          0.4465826943725874,
          2.2137359418920566,
          -0.5416389204214601,
          -2.374674201725834,
          -0.3318575370120358,
          0.3125129865243422,
          -1.2902209289754214,
          0.9453003743451314,
          -0.7222568276366002,
          -1.1086224341893036,
          0.9698175766464336,
          -0.02289777986971175,
          1.0119705009285886,
          -1.197599765857664,
          0.38586981097800205,
          0.1679327921569883,
          -1.1542382780421319,
          -2.6064743089733695,
          1.7539940301882824,
          -0.05325637220002819,
          0.8146578039065746,
          0.4061439818110797,
          1.1762007407215433,
          -1.4790773409005213,
          0.9741379879968607,
          -1.2534825112644354,
          -0.9035510642832751,
          -1.3400183078899761,
          1.3840795732538014,
          0.08235629844734149,
          0.526065491888457,
          1.1735641106989962,
          0.8725788127710796,
          -1.2212273380904914,
          -1.891203170183768,
          1.6731060104584292,
          -0.9194250381539126,
          -0.6757601984666243,
          1.07769365533154,
          0.5003415018622092,
          -0.5339589964979589,
          -1.9382073393181636,
          0.10156924921382787,
          1.4759570773089004,
          0.5185152737926203,
          -0.8940324829248656,
          0.626322064988126,
          1.9586230496827788,
          0.18164223414444486,
          0.3753347024349057
         ],
         "xaxis": "x14",
         "y": [
          1.5944141224570951,
          -1.4422217718810517,
          -0.6775056248359165,
          0.5425327711778104,
          -1.150421084363576,
          0.5135457245087396,
          -1.321111295035442,
          -1.1114269353719264,
          -0.5482860723138663,
          -0.3826233020610873,
          1.8945668683576136,
          -0.7515833234081605,
          1.283833326285015,
          -0.8275993454656554,
          0.12838341498868214,
          0.8403329131702698,
          0.17060824519329876,
          -0.30011765035326887,
          0.4854545829024947,
          -1.8911154724785426,
          1.1917266999118605,
          2.10723855258812,
          0.3049749458737713,
          0.8629112602491235,
          1.3330630415456524,
          0.20595123957798286,
          1.134227029379625,
          -0.6242571940611776,
          0.8833618491795998,
          0.21596464385150554,
          0.23418253153394541,
          0.07659354311937588,
          -0.6967684344050352,
          0.3333750596807909,
          -0.4808972157811444,
          -0.4159007897049626,
          -1.4005464146445767,
          1.2344271956283603,
          -0.3076470278751892,
          -0.8955674379768139,
          0.30926774929739015,
          0.6297600251903708,
          1.7990748884496843,
          -0.5778543973249138,
          -0.335489100776331,
          1.0191314191159482,
          -0.24034705593365235,
          -0.6240939115662526,
          -0.1785435178941472,
          -0.0032633320920254657,
          -1.505027767445995,
          0.07444195095500496,
          -1.1804303602380004,
          -1.6787581401627665,
          1.548182150258975,
          -1.142038892624844,
          -1.1590141809540022,
          2.205301029707225,
          -1.7082026370724346,
          -0.4522905464781231,
          -1.560559469274855,
          -1.272695536524901,
          1.7508925284907684,
          0.265320949621517,
          -0.19252060791086,
          -0.0032326746137167433,
          -0.6622006488014425,
          -1.459023071543362,
          0.40990808542328505,
          0.17859359274457023,
          -0.46530176905928394,
          1.3943541030179492,
          0.5864037378850627,
          0.6072339357545016,
          0.14416285070077703,
          0.9317279671975461,
          0.5854298942901607,
          -1.4156750489248187,
          -0.5402684261429752,
          1.2560099479342928,
          -0.6501632557247102,
          -1.5112492067267687,
          -0.05218975454021778,
          0.41239328991222945,
          0.5445250929155341,
          0.37996094849536,
          -1.9119546395647826,
          0.709352415504824,
          -0.09305523635944245,
          0.3206055887521061,
          0.2200818497447563,
          0.3946196674990109,
          0.5530028946009807,
          1.4197216025804544,
          -0.5057009939104495,
          0.9786812076343843,
          0.7802124003868645,
          0.21398415474113802,
          -0.7621475066145035,
          0.3572791397580236
         ],
         "yaxis": "y14"
        },
        {
         "line": {
          "color": "rgba(128, 128, 128, 1.0)",
          "dash": "solid",
          "shape": "linear",
          "width": 1.3
         },
         "marker": {
          "size": 2,
          "symbol": "circle"
         },
         "mode": "markers",
         "name": "D",
         "text": "",
         "type": "scatter",
         "x": [
          0.7171100537947829,
          -0.6705043942082773,
          0.31089544958537835,
          -0.5043338553673823,
          -0.9742934286592914,
          -0.1733077424089138,
          0.40273899477371145,
          -0.6353727131784702,
          0.6799008398905035,
          0.29401464110270065,
          -1.375383559586756,
          -0.6647087831656143,
          1.6878695232537342,
          -0.6775008445543156,
          0.06392053534539674,
          -0.10491907377723063,
          -1.7116153418750857,
          0.9132426243282985,
          0.3274138137400342,
          -1.1210504061662332,
          -0.6791126142611109,
          0.1885879389467673,
          0.3909779275251414,
          -0.9288957049944576,
          -2.7577958831534803,
          -1.2785164155839637,
          0.5621501801073486,
          1.7610820566494194,
          -0.21618981557249262,
          -0.5388315352174506,
          -0.18319484127549743,
          -1.2832271004863351,
          2.6350522687278297,
          0.527329557007783,
          2.0859269989831413,
          1.3173174640212095,
          0.06019145113004047,
          0.2803281571923362,
          0.12137096803749506,
          -0.7595620995669927,
          0.8063272411837533,
          0.3454677919922995,
          -1.5144978373390645,
          0.9098287486379316,
          -0.473253461076539,
          0.2546361718204737,
          -0.35631102763063105,
          -0.6560096359506616,
          -1.1504116315618926,
          -1.8092297541955427,
          0.3728890371817506,
          -0.3768972461695595,
          0.8618457937312982,
          0.9327747362965856,
          -0.0002969481683752328,
          -0.8025540412798581,
          -1.360758773697659,
          0.42442110317748133,
          0.5102958163011305,
          -1.1621362462104412,
          1.93438554911377,
          0.38054893117410227,
          0.4483119979873048,
          -0.1570420000950534,
          -0.47460728642647093,
          -0.3303592140332204,
          -0.3064263804028798,
          1.835841696252868,
          1.1173094754592006,
          1.5250387129796623,
          -0.057291305693003565,
          -0.1277431798795453,
          -0.42379062111402,
          1.3036894405310675,
          0.5069626545732473,
          -0.6490656729012979,
          0.8428305032262942,
          1.9077142030202825,
          0.6380603845203026,
          -0.5103004666672093,
          0.11796286832900063,
          -1.1643156350132926,
          0.8119996821846642,
          0.5159794791484065,
          1.1318910776205982,
          0.8570045052237849,
          -0.3304934378727535,
          -0.4294680263145168,
          0.7986529969396823,
          -0.9811302866659917,
          -0.38656570749482927,
          -1.0466307421303616,
          -1.8336662239594692,
          -1.1901951766741279,
          0.3101164589901357,
          -0.2205163030743878,
          0.09272998727655567,
          -0.07627106087898423,
          0.35305705832500406,
          1.7536382042482186
         ],
         "xaxis": "x15",
         "y": [
          1.5944141224570951,
          -1.4422217718810517,
          -0.6775056248359165,
          0.5425327711778104,
          -1.150421084363576,
          0.5135457245087396,
          -1.321111295035442,
          -1.1114269353719264,
          -0.5482860723138663,
          -0.3826233020610873,
          1.8945668683576136,
          -0.7515833234081605,
          1.283833326285015,
          -0.8275993454656554,
          0.12838341498868214,
          0.8403329131702698,
          0.17060824519329876,
          -0.30011765035326887,
          0.4854545829024947,
          -1.8911154724785426,
          1.1917266999118605,
          2.10723855258812,
          0.3049749458737713,
          0.8629112602491235,
          1.3330630415456524,
          0.20595123957798286,
          1.134227029379625,
          -0.6242571940611776,
          0.8833618491795998,
          0.21596464385150554,
          0.23418253153394541,
          0.07659354311937588,
          -0.6967684344050352,
          0.3333750596807909,
          -0.4808972157811444,
          -0.4159007897049626,
          -1.4005464146445767,
          1.2344271956283603,
          -0.3076470278751892,
          -0.8955674379768139,
          0.30926774929739015,
          0.6297600251903708,
          1.7990748884496843,
          -0.5778543973249138,
          -0.335489100776331,
          1.0191314191159482,
          -0.24034705593365235,
          -0.6240939115662526,
          -0.1785435178941472,
          -0.0032633320920254657,
          -1.505027767445995,
          0.07444195095500496,
          -1.1804303602380004,
          -1.6787581401627665,
          1.548182150258975,
          -1.142038892624844,
          -1.1590141809540022,
          2.205301029707225,
          -1.7082026370724346,
          -0.4522905464781231,
          -1.560559469274855,
          -1.272695536524901,
          1.7508925284907684,
          0.265320949621517,
          -0.19252060791086,
          -0.0032326746137167433,
          -0.6622006488014425,
          -1.459023071543362,
          0.40990808542328505,
          0.17859359274457023,
          -0.46530176905928394,
          1.3943541030179492,
          0.5864037378850627,
          0.6072339357545016,
          0.14416285070077703,
          0.9317279671975461,
          0.5854298942901607,
          -1.4156750489248187,
          -0.5402684261429752,
          1.2560099479342928,
          -0.6501632557247102,
          -1.5112492067267687,
          -0.05218975454021778,
          0.41239328991222945,
          0.5445250929155341,
          0.37996094849536,
          -1.9119546395647826,
          0.709352415504824,
          -0.09305523635944245,
          0.3206055887521061,
          0.2200818497447563,
          0.3946196674990109,
          0.5530028946009807,
          1.4197216025804544,
          -0.5057009939104495,
          0.9786812076343843,
          0.7802124003868645,
          0.21398415474113802,
          -0.7621475066145035,
          0.3572791397580236
         ],
         "yaxis": "y15"
        },
        {
         "histfunc": "count",
         "histnorm": "",
         "marker": {
          "color": "rgba(128, 0, 128, 1.0)",
          "line": {
           "color": "#4D5663",
           "width": 1.3
          }
         },
         "name": "D",
         "nbinsx": 10,
         "opacity": 0.8,
         "orientation": "v",
         "type": "histogram",
         "x": [
          1.5944141224570951,
          -1.4422217718810517,
          -0.6775056248359165,
          0.5425327711778104,
          -1.150421084363576,
          0.5135457245087396,
          -1.321111295035442,
          -1.1114269353719264,
          -0.5482860723138663,
          -0.3826233020610873,
          1.8945668683576136,
          -0.7515833234081605,
          1.283833326285015,
          -0.8275993454656554,
          0.12838341498868214,
          0.8403329131702698,
          0.17060824519329876,
          -0.30011765035326887,
          0.4854545829024947,
          -1.8911154724785426,
          1.1917266999118605,
          2.10723855258812,
          0.3049749458737713,
          0.8629112602491235,
          1.3330630415456524,
          0.20595123957798286,
          1.134227029379625,
          -0.6242571940611776,
          0.8833618491795998,
          0.21596464385150554,
          0.23418253153394541,
          0.07659354311937588,
          -0.6967684344050352,
          0.3333750596807909,
          -0.4808972157811444,
          -0.4159007897049626,
          -1.4005464146445767,
          1.2344271956283603,
          -0.3076470278751892,
          -0.8955674379768139,
          0.30926774929739015,
          0.6297600251903708,
          1.7990748884496843,
          -0.5778543973249138,
          -0.335489100776331,
          1.0191314191159482,
          -0.24034705593365235,
          -0.6240939115662526,
          -0.1785435178941472,
          -0.0032633320920254657,
          -1.505027767445995,
          0.07444195095500496,
          -1.1804303602380004,
          -1.6787581401627665,
          1.548182150258975,
          -1.142038892624844,
          -1.1590141809540022,
          2.205301029707225,
          -1.7082026370724346,
          -0.4522905464781231,
          -1.560559469274855,
          -1.272695536524901,
          1.7508925284907684,
          0.265320949621517,
          -0.19252060791086,
          -0.0032326746137167433,
          -0.6622006488014425,
          -1.459023071543362,
          0.40990808542328505,
          0.17859359274457023,
          -0.46530176905928394,
          1.3943541030179492,
          0.5864037378850627,
          0.6072339357545016,
          0.14416285070077703,
          0.9317279671975461,
          0.5854298942901607,
          -1.4156750489248187,
          -0.5402684261429752,
          1.2560099479342928,
          -0.6501632557247102,
          -1.5112492067267687,
          -0.05218975454021778,
          0.41239328991222945,
          0.5445250929155341,
          0.37996094849536,
          -1.9119546395647826,
          0.709352415504824,
          -0.09305523635944245,
          0.3206055887521061,
          0.2200818497447563,
          0.3946196674990109,
          0.5530028946009807,
          1.4197216025804544,
          -0.5057009939104495,
          0.9786812076343843,
          0.7802124003868645,
          0.21398415474113802,
          -0.7621475066145035,
          0.3572791397580236
         ],
         "xaxis": "x16",
         "yaxis": "y16"
        }
       ],
       "layout": {
        "bargap": 0.02,
        "legend": {
         "bgcolor": "#F5F6F9",
         "font": {
          "color": "#4D5663"
         }
        },
        "paper_bgcolor": "#F5F6F9",
        "plot_bgcolor": "#F5F6F9",
        "showlegend": false,
        "template": {
         "data": {
          "bar": [
           {
            "error_x": {
             "color": "#2a3f5f"
            },
            "error_y": {
             "color": "#2a3f5f"
            },
            "marker": {
             "line": {
              "color": "#E5ECF6",
              "width": 0.5
             }
            },
            "type": "bar"
           }
          ],
          "barpolar": [
           {
            "marker": {
             "line": {
              "color": "#E5ECF6",
              "width": 0.5
             }
            },
            "type": "barpolar"
           }
          ],
          "carpet": [
           {
            "aaxis": {
             "endlinecolor": "#2a3f5f",
             "gridcolor": "white",
             "linecolor": "white",
             "minorgridcolor": "white",
             "startlinecolor": "#2a3f5f"
            },
            "baxis": {
             "endlinecolor": "#2a3f5f",
             "gridcolor": "white",
             "linecolor": "white",
             "minorgridcolor": "white",
             "startlinecolor": "#2a3f5f"
            },
            "type": "carpet"
           }
          ],
          "choropleth": [
           {
            "colorbar": {
             "outlinewidth": 0,
             "ticks": ""
            },
            "type": "choropleth"
           }
          ],
          "contour": [
           {
            "colorbar": {
             "outlinewidth": 0,
             "ticks": ""
            },
            "colorscale": [
             [
              0,
              "#0d0887"
             ],
             [
              0.1111111111111111,
              "#46039f"
             ],
             [
              0.2222222222222222,
              "#7201a8"
             ],
             [
              0.3333333333333333,
              "#9c179e"
             ],
             [
              0.4444444444444444,
              "#bd3786"
             ],
             [
              0.5555555555555556,
              "#d8576b"
             ],
             [
              0.6666666666666666,
              "#ed7953"
             ],
             [
              0.7777777777777778,
              "#fb9f3a"
             ],
             [
              0.8888888888888888,
              "#fdca26"
             ],
             [
              1,
              "#f0f921"
             ]
            ],
            "type": "contour"
           }
          ],
          "contourcarpet": [
           {
            "colorbar": {
             "outlinewidth": 0,
             "ticks": ""
            },
            "type": "contourcarpet"
           }
          ],
          "heatmap": [
           {
            "colorbar": {
             "outlinewidth": 0,
             "ticks": ""
            },
            "colorscale": [
             [
              0,
              "#0d0887"
             ],
             [
              0.1111111111111111,
              "#46039f"
             ],
             [
              0.2222222222222222,
              "#7201a8"
             ],
             [
              0.3333333333333333,
              "#9c179e"
             ],
             [
              0.4444444444444444,
              "#bd3786"
             ],
             [
              0.5555555555555556,
              "#d8576b"
             ],
             [
              0.6666666666666666,
              "#ed7953"
             ],
             [
              0.7777777777777778,
              "#fb9f3a"
             ],
             [
              0.8888888888888888,
              "#fdca26"
             ],
             [
              1,
              "#f0f921"
             ]
            ],
            "type": "heatmap"
           }
          ],
          "heatmapgl": [
           {
            "colorbar": {
             "outlinewidth": 0,
             "ticks": ""
            },
            "colorscale": [
             [
              0,
              "#0d0887"
             ],
             [
              0.1111111111111111,
              "#46039f"
             ],
             [
              0.2222222222222222,
              "#7201a8"
             ],
             [
              0.3333333333333333,
              "#9c179e"
             ],
             [
              0.4444444444444444,
              "#bd3786"
             ],
             [
              0.5555555555555556,
              "#d8576b"
             ],
             [
              0.6666666666666666,
              "#ed7953"
             ],
             [
              0.7777777777777778,
              "#fb9f3a"
             ],
             [
              0.8888888888888888,
              "#fdca26"
             ],
             [
              1,
              "#f0f921"
             ]
            ],
            "type": "heatmapgl"
           }
          ],
          "histogram": [
           {
            "marker": {
             "colorbar": {
              "outlinewidth": 0,
              "ticks": ""
             }
            },
            "type": "histogram"
           }
          ],
          "histogram2d": [
           {
            "colorbar": {
             "outlinewidth": 0,
             "ticks": ""
            },
            "colorscale": [
             [
              0,
              "#0d0887"
             ],
             [
              0.1111111111111111,
              "#46039f"
             ],
             [
              0.2222222222222222,
              "#7201a8"
             ],
             [
              0.3333333333333333,
              "#9c179e"
             ],
             [
              0.4444444444444444,
              "#bd3786"
             ],
             [
              0.5555555555555556,
              "#d8576b"
             ],
             [
              0.6666666666666666,
              "#ed7953"
             ],
             [
              0.7777777777777778,
              "#fb9f3a"
             ],
             [
              0.8888888888888888,
              "#fdca26"
             ],
             [
              1,
              "#f0f921"
             ]
            ],
            "type": "histogram2d"
           }
          ],
          "histogram2dcontour": [
           {
            "colorbar": {
             "outlinewidth": 0,
             "ticks": ""
            },
            "colorscale": [
             [
              0,
              "#0d0887"
             ],
             [
              0.1111111111111111,
              "#46039f"
             ],
             [
              0.2222222222222222,
              "#7201a8"
             ],
             [
              0.3333333333333333,
              "#9c179e"
             ],
             [
              0.4444444444444444,
              "#bd3786"
             ],
             [
              0.5555555555555556,
              "#d8576b"
             ],
             [
              0.6666666666666666,
              "#ed7953"
             ],
             [
              0.7777777777777778,
              "#fb9f3a"
             ],
             [
              0.8888888888888888,
              "#fdca26"
             ],
             [
              1,
              "#f0f921"
             ]
            ],
            "type": "histogram2dcontour"
           }
          ],
          "mesh3d": [
           {
            "colorbar": {
             "outlinewidth": 0,
             "ticks": ""
            },
            "type": "mesh3d"
           }
          ],
          "parcoords": [
           {
            "line": {
             "colorbar": {
              "outlinewidth": 0,
              "ticks": ""
             }
            },
            "type": "parcoords"
           }
          ],
          "pie": [
           {
            "automargin": true,
            "type": "pie"
           }
          ],
          "scatter": [
           {
            "marker": {
             "colorbar": {
              "outlinewidth": 0,
              "ticks": ""
             }
            },
            "type": "scatter"
           }
          ],
          "scatter3d": [
           {
            "line": {
             "colorbar": {
              "outlinewidth": 0,
              "ticks": ""
             }
            },
            "marker": {
             "colorbar": {
              "outlinewidth": 0,
              "ticks": ""
             }
            },
            "type": "scatter3d"
           }
          ],
          "scattercarpet": [
           {
            "marker": {
             "colorbar": {
              "outlinewidth": 0,
              "ticks": ""
             }
            },
            "type": "scattercarpet"
           }
          ],
          "scattergeo": [
           {
            "marker": {
             "colorbar": {
              "outlinewidth": 0,
              "ticks": ""
             }
            },
            "type": "scattergeo"
           }
          ],
          "scattergl": [
           {
            "marker": {
             "colorbar": {
              "outlinewidth": 0,
              "ticks": ""
             }
            },
            "type": "scattergl"
           }
          ],
          "scattermapbox": [
           {
            "marker": {
             "colorbar": {
              "outlinewidth": 0,
              "ticks": ""
             }
            },
            "type": "scattermapbox"
           }
          ],
          "scatterpolar": [
           {
            "marker": {
             "colorbar": {
              "outlinewidth": 0,
              "ticks": ""
             }
            },
            "type": "scatterpolar"
           }
          ],
          "scatterpolargl": [
           {
            "marker": {
             "colorbar": {
              "outlinewidth": 0,
              "ticks": ""
             }
            },
            "type": "scatterpolargl"
           }
          ],
          "scatterternary": [
           {
            "marker": {
             "colorbar": {
              "outlinewidth": 0,
              "ticks": ""
             }
            },
            "type": "scatterternary"
           }
          ],
          "surface": [
           {
            "colorbar": {
             "outlinewidth": 0,
             "ticks": ""
            },
            "colorscale": [
             [
              0,
              "#0d0887"
             ],
             [
              0.1111111111111111,
              "#46039f"
             ],
             [
              0.2222222222222222,
              "#7201a8"
             ],
             [
              0.3333333333333333,
              "#9c179e"
             ],
             [
              0.4444444444444444,
              "#bd3786"
             ],
             [
              0.5555555555555556,
              "#d8576b"
             ],
             [
              0.6666666666666666,
              "#ed7953"
             ],
             [
              0.7777777777777778,
              "#fb9f3a"
             ],
             [
              0.8888888888888888,
              "#fdca26"
             ],
             [
              1,
              "#f0f921"
             ]
            ],
            "type": "surface"
           }
          ],
          "table": [
           {
            "cells": {
             "fill": {
              "color": "#EBF0F8"
             },
             "line": {
              "color": "white"
             }
            },
            "header": {
             "fill": {
              "color": "#C8D4E3"
             },
             "line": {
              "color": "white"
             }
            },
            "type": "table"
           }
          ]
         },
         "layout": {
          "annotationdefaults": {
           "arrowcolor": "#2a3f5f",
           "arrowhead": 0,
           "arrowwidth": 1
          },
          "coloraxis": {
           "colorbar": {
            "outlinewidth": 0,
            "ticks": ""
           }
          },
          "colorscale": {
           "diverging": [
            [
             0,
             "#8e0152"
            ],
            [
             0.1,
             "#c51b7d"
            ],
            [
             0.2,
             "#de77ae"
            ],
            [
             0.3,
             "#f1b6da"
            ],
            [
             0.4,
             "#fde0ef"
            ],
            [
             0.5,
             "#f7f7f7"
            ],
            [
             0.6,
             "#e6f5d0"
            ],
            [
             0.7,
             "#b8e186"
            ],
            [
             0.8,
             "#7fbc41"
            ],
            [
             0.9,
             "#4d9221"
            ],
            [
             1,
             "#276419"
            ]
           ],
           "sequential": [
            [
             0,
             "#0d0887"
            ],
            [
             0.1111111111111111,
             "#46039f"
            ],
            [
             0.2222222222222222,
             "#7201a8"
            ],
            [
             0.3333333333333333,
             "#9c179e"
            ],
            [
             0.4444444444444444,
             "#bd3786"
            ],
            [
             0.5555555555555556,
             "#d8576b"
            ],
            [
             0.6666666666666666,
             "#ed7953"
            ],
            [
             0.7777777777777778,
             "#fb9f3a"
            ],
            [
             0.8888888888888888,
             "#fdca26"
            ],
            [
             1,
             "#f0f921"
            ]
           ],
           "sequentialminus": [
            [
             0,
             "#0d0887"
            ],
            [
             0.1111111111111111,
             "#46039f"
            ],
            [
             0.2222222222222222,
             "#7201a8"
            ],
            [
             0.3333333333333333,
             "#9c179e"
            ],
            [
             0.4444444444444444,
             "#bd3786"
            ],
            [
             0.5555555555555556,
             "#d8576b"
            ],
            [
             0.6666666666666666,
             "#ed7953"
            ],
            [
             0.7777777777777778,
             "#fb9f3a"
            ],
            [
             0.8888888888888888,
             "#fdca26"
            ],
            [
             1,
             "#f0f921"
            ]
           ]
          },
          "colorway": [
           "#636efa",
           "#EF553B",
           "#00cc96",
           "#ab63fa",
           "#FFA15A",
           "#19d3f3",
           "#FF6692",
           "#B6E880",
           "#FF97FF",
           "#FECB52"
          ],
          "font": {
           "color": "#2a3f5f"
          },
          "geo": {
           "bgcolor": "white",
           "lakecolor": "white",
           "landcolor": "#E5ECF6",
           "showlakes": true,
           "showland": true,
           "subunitcolor": "white"
          },
          "hoverlabel": {
           "align": "left"
          },
          "hovermode": "closest",
          "mapbox": {
           "style": "light"
          },
          "paper_bgcolor": "white",
          "plot_bgcolor": "#E5ECF6",
          "polar": {
           "angularaxis": {
            "gridcolor": "white",
            "linecolor": "white",
            "ticks": ""
           },
           "bgcolor": "#E5ECF6",
           "radialaxis": {
            "gridcolor": "white",
            "linecolor": "white",
            "ticks": ""
           }
          },
          "scene": {
           "xaxis": {
            "backgroundcolor": "#E5ECF6",
            "gridcolor": "white",
            "gridwidth": 2,
            "linecolor": "white",
            "showbackground": true,
            "ticks": "",
            "zerolinecolor": "white"
           },
           "yaxis": {
            "backgroundcolor": "#E5ECF6",
            "gridcolor": "white",
            "gridwidth": 2,
            "linecolor": "white",
            "showbackground": true,
            "ticks": "",
            "zerolinecolor": "white"
           },
           "zaxis": {
            "backgroundcolor": "#E5ECF6",
            "gridcolor": "white",
            "gridwidth": 2,
            "linecolor": "white",
            "showbackground": true,
            "ticks": "",
            "zerolinecolor": "white"
           }
          },
          "shapedefaults": {
           "line": {
            "color": "#2a3f5f"
           }
          },
          "ternary": {
           "aaxis": {
            "gridcolor": "white",
            "linecolor": "white",
            "ticks": ""
           },
           "baxis": {
            "gridcolor": "white",
            "linecolor": "white",
            "ticks": ""
           },
           "bgcolor": "#E5ECF6",
           "caxis": {
            "gridcolor": "white",
            "linecolor": "white",
            "ticks": ""
           }
          },
          "title": {
           "x": 0.05
          },
          "xaxis": {
           "automargin": true,
           "gridcolor": "white",
           "linecolor": "white",
           "ticks": "",
           "title": {
            "standoff": 15
           },
           "zerolinecolor": "white",
           "zerolinewidth": 2
          },
          "yaxis": {
           "automargin": true,
           "gridcolor": "white",
           "linecolor": "white",
           "ticks": "",
           "title": {
            "standoff": 15
           },
           "zerolinecolor": "white",
           "zerolinewidth": 2
          }
         }
        },
        "title": {
         "font": {
          "color": "#4D5663"
         }
        },
        "xaxis": {
         "anchor": "y",
         "domain": [
          0,
          0.2125
         ],
         "gridcolor": "#E1E5ED",
         "showgrid": false,
         "tickfont": {
          "color": "#4D5663"
         },
         "title": {
          "font": {
           "color": "#4D5663"
          },
          "text": ""
         },
         "zerolinecolor": "#E1E5ED"
        },
        "xaxis10": {
         "anchor": "y10",
         "domain": [
          0.2625,
          0.475
         ],
         "gridcolor": "#E1E5ED",
         "showgrid": false,
         "tickfont": {
          "color": "#4D5663"
         },
         "title": {
          "font": {
           "color": "#4D5663"
          },
          "text": ""
         },
         "zerolinecolor": "#E1E5ED"
        },
        "xaxis11": {
         "anchor": "y11",
         "domain": [
          0.525,
          0.7375
         ],
         "gridcolor": "#E1E5ED",
         "showgrid": false,
         "tickfont": {
          "color": "#4D5663"
         },
         "title": {
          "font": {
           "color": "#4D5663"
          },
          "text": ""
         },
         "zerolinecolor": "#E1E5ED"
        },
        "xaxis12": {
         "anchor": "y12",
         "domain": [
          0.7875,
          1
         ],
         "gridcolor": "#E1E5ED",
         "showgrid": false,
         "tickfont": {
          "color": "#4D5663"
         },
         "title": {
          "font": {
           "color": "#4D5663"
          },
          "text": ""
         },
         "zerolinecolor": "#E1E5ED"
        },
        "xaxis13": {
         "anchor": "y13",
         "domain": [
          0,
          0.2125
         ],
         "gridcolor": "#E1E5ED",
         "showgrid": false,
         "tickfont": {
          "color": "#4D5663"
         },
         "title": {
          "font": {
           "color": "#4D5663"
          },
          "text": ""
         },
         "zerolinecolor": "#E1E5ED"
        },
        "xaxis14": {
         "anchor": "y14",
         "domain": [
          0.2625,
          0.475
         ],
         "gridcolor": "#E1E5ED",
         "showgrid": false,
         "tickfont": {
          "color": "#4D5663"
         },
         "title": {
          "font": {
           "color": "#4D5663"
          },
          "text": ""
         },
         "zerolinecolor": "#E1E5ED"
        },
        "xaxis15": {
         "anchor": "y15",
         "domain": [
          0.525,
          0.7375
         ],
         "gridcolor": "#E1E5ED",
         "showgrid": false,
         "tickfont": {
          "color": "#4D5663"
         },
         "title": {
          "font": {
           "color": "#4D5663"
          },
          "text": ""
         },
         "zerolinecolor": "#E1E5ED"
        },
        "xaxis16": {
         "anchor": "y16",
         "domain": [
          0.7875,
          1
         ],
         "gridcolor": "#E1E5ED",
         "showgrid": false,
         "tickfont": {
          "color": "#4D5663"
         },
         "title": {
          "font": {
           "color": "#4D5663"
          },
          "text": ""
         },
         "zerolinecolor": "#E1E5ED"
        },
        "xaxis2": {
         "anchor": "y2",
         "domain": [
          0.2625,
          0.475
         ],
         "gridcolor": "#E1E5ED",
         "showgrid": false,
         "tickfont": {
          "color": "#4D5663"
         },
         "title": {
          "font": {
           "color": "#4D5663"
          },
          "text": ""
         },
         "zerolinecolor": "#E1E5ED"
        },
        "xaxis3": {
         "anchor": "y3",
         "domain": [
          0.525,
          0.7375
         ],
         "gridcolor": "#E1E5ED",
         "showgrid": false,
         "tickfont": {
          "color": "#4D5663"
         },
         "title": {
          "font": {
           "color": "#4D5663"
          },
          "text": ""
         },
         "zerolinecolor": "#E1E5ED"
        },
        "xaxis4": {
         "anchor": "y4",
         "domain": [
          0.7875,
          1
         ],
         "gridcolor": "#E1E5ED",
         "showgrid": false,
         "tickfont": {
          "color": "#4D5663"
         },
         "title": {
          "font": {
           "color": "#4D5663"
          },
          "text": ""
         },
         "zerolinecolor": "#E1E5ED"
        },
        "xaxis5": {
         "anchor": "y5",
         "domain": [
          0,
          0.2125
         ],
         "gridcolor": "#E1E5ED",
         "showgrid": false,
         "tickfont": {
          "color": "#4D5663"
         },
         "title": {
          "font": {
           "color": "#4D5663"
          },
          "text": ""
         },
         "zerolinecolor": "#E1E5ED"
        },
        "xaxis6": {
         "anchor": "y6",
         "domain": [
          0.2625,
          0.475
         ],
         "gridcolor": "#E1E5ED",
         "showgrid": false,
         "tickfont": {
          "color": "#4D5663"
         },
         "title": {
          "font": {
           "color": "#4D5663"
          },
          "text": ""
         },
         "zerolinecolor": "#E1E5ED"
        },
        "xaxis7": {
         "anchor": "y7",
         "domain": [
          0.525,
          0.7375
         ],
         "gridcolor": "#E1E5ED",
         "showgrid": false,
         "tickfont": {
          "color": "#4D5663"
         },
         "title": {
          "font": {
           "color": "#4D5663"
          },
          "text": ""
         },
         "zerolinecolor": "#E1E5ED"
        },
        "xaxis8": {
         "anchor": "y8",
         "domain": [
          0.7875,
          1
         ],
         "gridcolor": "#E1E5ED",
         "showgrid": false,
         "tickfont": {
          "color": "#4D5663"
         },
         "title": {
          "font": {
           "color": "#4D5663"
          },
          "text": ""
         },
         "zerolinecolor": "#E1E5ED"
        },
        "xaxis9": {
         "anchor": "y9",
         "domain": [
          0,
          0.2125
         ],
         "gridcolor": "#E1E5ED",
         "showgrid": false,
         "tickfont": {
          "color": "#4D5663"
         },
         "title": {
          "font": {
           "color": "#4D5663"
          },
          "text": ""
         },
         "zerolinecolor": "#E1E5ED"
        },
        "yaxis": {
         "anchor": "x",
         "domain": [
          0.8025,
          1
         ],
         "gridcolor": "#E1E5ED",
         "showgrid": false,
         "tickfont": {
          "color": "#4D5663"
         },
         "title": {
          "font": {
           "color": "#4D5663"
          },
          "text": ""
         },
         "zerolinecolor": "#E1E5ED"
        },
        "yaxis10": {
         "anchor": "x10",
         "domain": [
          0.2675,
          0.465
         ],
         "gridcolor": "#E1E5ED",
         "showgrid": false,
         "tickfont": {
          "color": "#4D5663"
         },
         "title": {
          "font": {
           "color": "#4D5663"
          },
          "text": ""
         },
         "zerolinecolor": "#E1E5ED"
        },
        "yaxis11": {
         "anchor": "x11",
         "domain": [
          0.2675,
          0.465
         ],
         "gridcolor": "#E1E5ED",
         "showgrid": false,
         "tickfont": {
          "color": "#4D5663"
         },
         "title": {
          "font": {
           "color": "#4D5663"
          },
          "text": ""
         },
         "zerolinecolor": "#E1E5ED"
        },
        "yaxis12": {
         "anchor": "x12",
         "domain": [
          0.2675,
          0.465
         ],
         "gridcolor": "#E1E5ED",
         "showgrid": false,
         "tickfont": {
          "color": "#4D5663"
         },
         "title": {
          "font": {
           "color": "#4D5663"
          },
          "text": ""
         },
         "zerolinecolor": "#E1E5ED"
        },
        "yaxis13": {
         "anchor": "x13",
         "domain": [
          0,
          0.1975
         ],
         "gridcolor": "#E1E5ED",
         "showgrid": false,
         "tickfont": {
          "color": "#4D5663"
         },
         "title": {
          "font": {
           "color": "#4D5663"
          },
          "text": ""
         },
         "zerolinecolor": "#E1E5ED"
        },
        "yaxis14": {
         "anchor": "x14",
         "domain": [
          0,
          0.1975
         ],
         "gridcolor": "#E1E5ED",
         "showgrid": false,
         "tickfont": {
          "color": "#4D5663"
         },
         "title": {
          "font": {
           "color": "#4D5663"
          },
          "text": ""
         },
         "zerolinecolor": "#E1E5ED"
        },
        "yaxis15": {
         "anchor": "x15",
         "domain": [
          0,
          0.1975
         ],
         "gridcolor": "#E1E5ED",
         "showgrid": false,
         "tickfont": {
          "color": "#4D5663"
         },
         "title": {
          "font": {
           "color": "#4D5663"
          },
          "text": ""
         },
         "zerolinecolor": "#E1E5ED"
        },
        "yaxis16": {
         "anchor": "x16",
         "domain": [
          0,
          0.1975
         ],
         "gridcolor": "#E1E5ED",
         "showgrid": false,
         "tickfont": {
          "color": "#4D5663"
         },
         "title": {
          "font": {
           "color": "#4D5663"
          },
          "text": ""
         },
         "zerolinecolor": "#E1E5ED"
        },
        "yaxis2": {
         "anchor": "x2",
         "domain": [
          0.8025,
          1
         ],
         "gridcolor": "#E1E5ED",
         "showgrid": false,
         "tickfont": {
          "color": "#4D5663"
         },
         "title": {
          "font": {
           "color": "#4D5663"
          },
          "text": ""
         },
         "zerolinecolor": "#E1E5ED"
        },
        "yaxis3": {
         "anchor": "x3",
         "domain": [
          0.8025,
          1
         ],
         "gridcolor": "#E1E5ED",
         "showgrid": false,
         "tickfont": {
          "color": "#4D5663"
         },
         "title": {
          "font": {
           "color": "#4D5663"
          },
          "text": ""
         },
         "zerolinecolor": "#E1E5ED"
        },
        "yaxis4": {
         "anchor": "x4",
         "domain": [
          0.8025,
          1
         ],
         "gridcolor": "#E1E5ED",
         "showgrid": false,
         "tickfont": {
          "color": "#4D5663"
         },
         "title": {
          "font": {
           "color": "#4D5663"
          },
          "text": ""
         },
         "zerolinecolor": "#E1E5ED"
        },
        "yaxis5": {
         "anchor": "x5",
         "domain": [
          0.535,
          0.7325
         ],
         "gridcolor": "#E1E5ED",
         "showgrid": false,
         "tickfont": {
          "color": "#4D5663"
         },
         "title": {
          "font": {
           "color": "#4D5663"
          },
          "text": ""
         },
         "zerolinecolor": "#E1E5ED"
        },
        "yaxis6": {
         "anchor": "x6",
         "domain": [
          0.535,
          0.7325
         ],
         "gridcolor": "#E1E5ED",
         "showgrid": false,
         "tickfont": {
          "color": "#4D5663"
         },
         "title": {
          "font": {
           "color": "#4D5663"
          },
          "text": ""
         },
         "zerolinecolor": "#E1E5ED"
        },
        "yaxis7": {
         "anchor": "x7",
         "domain": [
          0.535,
          0.7325
         ],
         "gridcolor": "#E1E5ED",
         "showgrid": false,
         "tickfont": {
          "color": "#4D5663"
         },
         "title": {
          "font": {
           "color": "#4D5663"
          },
          "text": ""
         },
         "zerolinecolor": "#E1E5ED"
        },
        "yaxis8": {
         "anchor": "x8",
         "domain": [
          0.535,
          0.7325
         ],
         "gridcolor": "#E1E5ED",
         "showgrid": false,
         "tickfont": {
          "color": "#4D5663"
         },
         "title": {
          "font": {
           "color": "#4D5663"
          },
          "text": ""
         },
         "zerolinecolor": "#E1E5ED"
        },
        "yaxis9": {
         "anchor": "x9",
         "domain": [
          0.2675,
          0.465
         ],
         "gridcolor": "#E1E5ED",
         "showgrid": false,
         "tickfont": {
          "color": "#4D5663"
         },
         "title": {
          "font": {
           "color": "#4D5663"
          },
          "text": ""
         },
         "zerolinecolor": "#E1E5ED"
        }
       }
      },
      "text/html": [
       "<div>\n",
       "        \n",
       "        \n",
       "            <div id=\"0ebf72dd-982d-46de-bd59-6f2f5d3ed412\" class=\"plotly-graph-div\" style=\"height:525px; width:100%;\"></div>\n",
       "            <script type=\"text/javascript\">\n",
       "                require([\"plotly\"], function(Plotly) {\n",
       "                    window.PLOTLYENV=window.PLOTLYENV || {};\n",
       "                    window.PLOTLYENV.BASE_URL='https://plot.ly';\n",
       "                    \n",
       "                if (document.getElementById(\"0ebf72dd-982d-46de-bd59-6f2f5d3ed412\")) {\n",
       "                    Plotly.newPlot(\n",
       "                        '0ebf72dd-982d-46de-bd59-6f2f5d3ed412',\n",
       "                        [{\"histfunc\": \"count\", \"histnorm\": \"\", \"marker\": {\"color\": \"rgba(255, 153, 51, 1.0)\", \"line\": {\"color\": \"#4D5663\", \"width\": 1.3}}, \"name\": \"A\", \"nbinsx\": 10, \"opacity\": 0.8, \"orientation\": \"v\", \"type\": \"histogram\", \"x\": [1.0382366963092549, -2.400155902890422, 0.2965349865300015, -0.06810621767640156, 0.40986532593557184, 2.980340503066905, -0.8113478267697151, 0.12320917274783742, -0.7614388234908033, -1.6261937919214988, -0.4563416646160593, 0.8100652375053653, -0.4786810244642336, -0.15125352763689717, -0.35363337608754686, -0.4600439741878424, -0.548594427223353, 0.15179013108414735, 1.2527836008333177, -0.01486881648200595, -1.321028273052858, -1.215056740365512, -0.46443149005930484, -0.2148944304441226, 1.05921261639197, -0.44083508838166113, 0.2893866833914568, -0.08920210825676385, -2.141856887876484, -1.6561139570133645, 0.7297351210382328, 0.3621479005302017, 0.4544305516587094, 1.1267997842916877, 0.4980719238796653, 0.7538993836558499, 0.316316710943558, -0.7647936388049383, 1.1335735802883333, 1.5811875685001238, 0.4262992431174364, -0.18199337606603036, -1.6987872789952148, -0.31966643306678155, -1.0381492197795885, -0.7210400728089623, -0.5232424059498656, 0.33977487524362276, 2.399931576633395, -0.9645654786318648, 1.0038087775500733, -1.8883035577730836, 0.40755480079472817, 1.620992384935556, -1.5144382193345716, 0.931603224067061, -0.0690937367458445, -1.1113666817523113, -1.6884862187088228, 0.4847823519219444, -0.05144663802383848, 0.36834324602109547, -0.8353614597181127, 0.22373281034340456, -0.3566184980772613, 1.195601554009199, 0.06820956515592667, 0.04083572678921148, -0.6184542972098993, -2.051234833545991, -0.14841116035642724, -0.03474205360657567, -0.5092248018023503, 1.5827581291154604, 1.014753174170827, -0.8796020182618397, 1.5156583685885863, 0.3459349898339406, -1.0614935144891169, -0.7649817166963779, 0.9542728262990114, 0.648275202973677, 1.4943115581023017, -0.05217028507026561, -2.5758228868679427, 1.167717895603323, -0.3904663846029581, -1.1167983296391784, -1.2833065183657555, 0.1914994460291949, -1.0098431205894374, 0.6341599431397855, 1.0297851263869595, -0.8389507488561836, 1.5475484215159128, -0.7317169193187559, 0.7991377097309073, 0.8423863489416101, -0.6566768816715937, 0.6671829937032094], \"xaxis\": \"x\", \"yaxis\": \"y\"}, {\"line\": {\"color\": \"rgba(128, 128, 128, 1.0)\", \"dash\": \"solid\", \"shape\": \"linear\", \"width\": 1.3}, \"marker\": {\"size\": 2, \"symbol\": \"circle\"}, \"mode\": \"markers\", \"name\": \"A\", \"text\": \"\", \"type\": \"scatter\", \"x\": [1.2352637423497352, -0.644403593249537, -0.21583932947160878, -0.3065930615464294, 0.6665906880616215, 0.8274128978167663, 0.05207674860437279, 1.080405009642796, 1.5503160159883964, -0.3976979490057124, -0.6995457282171443, 0.5019567846337258, 0.784414208144939, -0.9684400337727636, 1.4681555528388157, 0.9738748547542355, -0.1683756778040267, 0.3284689415865835, -0.1019530754349385, 0.9083874292429925, -0.7002357326015257, 0.10253269120604626, -0.28304613432624315, 0.29043776828919987, -1.5054504867131828, 0.18888259838641094, 0.7286810867526122, 0.4024645562824474, -0.442632044759658, 1.0128378062330445, 1.4084203254739425, -1.7985124548998326, -1.4766875740832202, -0.14385940913942347, 0.17461525221701604, -0.05939915810810186, 1.1036634894886488, -1.614960059971259, 0.9318582971966591, -1.5215083013652648, -0.6091839263780852, -1.487550522210282, 1.5750848833669928, 0.4460744620597566, 1.3584587583826973, 0.5305091400254296, 0.4933623947455486, 1.1827465762712785, 0.16328972905461056, -0.32020332895890746, 0.4465826943725874, 2.2137359418920566, -0.5416389204214601, -2.374674201725834, -0.3318575370120358, 0.3125129865243422, -1.2902209289754214, 0.9453003743451314, -0.7222568276366002, -1.1086224341893036, 0.9698175766464336, -0.02289777986971175, 1.0119705009285886, -1.197599765857664, 0.38586981097800205, 0.1679327921569883, -1.1542382780421319, -2.6064743089733695, 1.7539940301882824, -0.05325637220002819, 0.8146578039065746, 0.4061439818110797, 1.1762007407215433, -1.4790773409005213, 0.9741379879968607, -1.2534825112644354, -0.9035510642832751, -1.3400183078899761, 1.3840795732538014, 0.08235629844734149, 0.526065491888457, 1.1735641106989962, 0.8725788127710796, -1.2212273380904914, -1.891203170183768, 1.6731060104584292, -0.9194250381539126, -0.6757601984666243, 1.07769365533154, 0.5003415018622092, -0.5339589964979589, -1.9382073393181636, 0.10156924921382787, 1.4759570773089004, 0.5185152737926203, -0.8940324829248656, 0.626322064988126, 1.9586230496827788, 0.18164223414444486, 0.3753347024349057], \"xaxis\": \"x2\", \"y\": [1.0382366963092549, -2.400155902890422, 0.2965349865300015, -0.06810621767640156, 0.40986532593557184, 2.980340503066905, -0.8113478267697151, 0.12320917274783742, -0.7614388234908033, -1.6261937919214988, -0.4563416646160593, 0.8100652375053653, -0.4786810244642336, -0.15125352763689717, -0.35363337608754686, -0.4600439741878424, -0.548594427223353, 0.15179013108414735, 1.2527836008333177, -0.01486881648200595, -1.321028273052858, -1.215056740365512, -0.46443149005930484, -0.2148944304441226, 1.05921261639197, -0.44083508838166113, 0.2893866833914568, -0.08920210825676385, -2.141856887876484, -1.6561139570133645, 0.7297351210382328, 0.3621479005302017, 0.4544305516587094, 1.1267997842916877, 0.4980719238796653, 0.7538993836558499, 0.316316710943558, -0.7647936388049383, 1.1335735802883333, 1.5811875685001238, 0.4262992431174364, -0.18199337606603036, -1.6987872789952148, -0.31966643306678155, -1.0381492197795885, -0.7210400728089623, -0.5232424059498656, 0.33977487524362276, 2.399931576633395, -0.9645654786318648, 1.0038087775500733, -1.8883035577730836, 0.40755480079472817, 1.620992384935556, -1.5144382193345716, 0.931603224067061, -0.0690937367458445, -1.1113666817523113, -1.6884862187088228, 0.4847823519219444, -0.05144663802383848, 0.36834324602109547, -0.8353614597181127, 0.22373281034340456, -0.3566184980772613, 1.195601554009199, 0.06820956515592667, 0.04083572678921148, -0.6184542972098993, -2.051234833545991, -0.14841116035642724, -0.03474205360657567, -0.5092248018023503, 1.5827581291154604, 1.014753174170827, -0.8796020182618397, 1.5156583685885863, 0.3459349898339406, -1.0614935144891169, -0.7649817166963779, 0.9542728262990114, 0.648275202973677, 1.4943115581023017, -0.05217028507026561, -2.5758228868679427, 1.167717895603323, -0.3904663846029581, -1.1167983296391784, -1.2833065183657555, 0.1914994460291949, -1.0098431205894374, 0.6341599431397855, 1.0297851263869595, -0.8389507488561836, 1.5475484215159128, -0.7317169193187559, 0.7991377097309073, 0.8423863489416101, -0.6566768816715937, 0.6671829937032094], \"yaxis\": \"y2\"}, {\"line\": {\"color\": \"rgba(128, 128, 128, 1.0)\", \"dash\": \"solid\", \"shape\": \"linear\", \"width\": 1.3}, \"marker\": {\"size\": 2, \"symbol\": \"circle\"}, \"mode\": \"markers\", \"name\": \"A\", \"text\": \"\", \"type\": \"scatter\", \"x\": [0.7171100537947829, -0.6705043942082773, 0.31089544958537835, -0.5043338553673823, -0.9742934286592914, -0.1733077424089138, 0.40273899477371145, -0.6353727131784702, 0.6799008398905035, 0.29401464110270065, -1.375383559586756, -0.6647087831656143, 1.6878695232537342, -0.6775008445543156, 0.06392053534539674, -0.10491907377723063, -1.7116153418750857, 0.9132426243282985, 0.3274138137400342, -1.1210504061662332, -0.6791126142611109, 0.1885879389467673, 0.3909779275251414, -0.9288957049944576, -2.7577958831534803, -1.2785164155839637, 0.5621501801073486, 1.7610820566494194, -0.21618981557249262, -0.5388315352174506, -0.18319484127549743, -1.2832271004863351, 2.6350522687278297, 0.527329557007783, 2.0859269989831413, 1.3173174640212095, 0.06019145113004047, 0.2803281571923362, 0.12137096803749506, -0.7595620995669927, 0.8063272411837533, 0.3454677919922995, -1.5144978373390645, 0.9098287486379316, -0.473253461076539, 0.2546361718204737, -0.35631102763063105, -0.6560096359506616, -1.1504116315618926, -1.8092297541955427, 0.3728890371817506, -0.3768972461695595, 0.8618457937312982, 0.9327747362965856, -0.0002969481683752328, -0.8025540412798581, -1.360758773697659, 0.42442110317748133, 0.5102958163011305, -1.1621362462104412, 1.93438554911377, 0.38054893117410227, 0.4483119979873048, -0.1570420000950534, -0.47460728642647093, -0.3303592140332204, -0.3064263804028798, 1.835841696252868, 1.1173094754592006, 1.5250387129796623, -0.057291305693003565, -0.1277431798795453, -0.42379062111402, 1.3036894405310675, 0.5069626545732473, -0.6490656729012979, 0.8428305032262942, 1.9077142030202825, 0.6380603845203026, -0.5103004666672093, 0.11796286832900063, -1.1643156350132926, 0.8119996821846642, 0.5159794791484065, 1.1318910776205982, 0.8570045052237849, -0.3304934378727535, -0.4294680263145168, 0.7986529969396823, -0.9811302866659917, -0.38656570749482927, -1.0466307421303616, -1.8336662239594692, -1.1901951766741279, 0.3101164589901357, -0.2205163030743878, 0.09272998727655567, -0.07627106087898423, 0.35305705832500406, 1.7536382042482186], \"xaxis\": \"x3\", \"y\": [1.0382366963092549, -2.400155902890422, 0.2965349865300015, -0.06810621767640156, 0.40986532593557184, 2.980340503066905, -0.8113478267697151, 0.12320917274783742, -0.7614388234908033, -1.6261937919214988, -0.4563416646160593, 0.8100652375053653, -0.4786810244642336, -0.15125352763689717, -0.35363337608754686, -0.4600439741878424, -0.548594427223353, 0.15179013108414735, 1.2527836008333177, -0.01486881648200595, -1.321028273052858, -1.215056740365512, -0.46443149005930484, -0.2148944304441226, 1.05921261639197, -0.44083508838166113, 0.2893866833914568, -0.08920210825676385, -2.141856887876484, -1.6561139570133645, 0.7297351210382328, 0.3621479005302017, 0.4544305516587094, 1.1267997842916877, 0.4980719238796653, 0.7538993836558499, 0.316316710943558, -0.7647936388049383, 1.1335735802883333, 1.5811875685001238, 0.4262992431174364, -0.18199337606603036, -1.6987872789952148, -0.31966643306678155, -1.0381492197795885, -0.7210400728089623, -0.5232424059498656, 0.33977487524362276, 2.399931576633395, -0.9645654786318648, 1.0038087775500733, -1.8883035577730836, 0.40755480079472817, 1.620992384935556, -1.5144382193345716, 0.931603224067061, -0.0690937367458445, -1.1113666817523113, -1.6884862187088228, 0.4847823519219444, -0.05144663802383848, 0.36834324602109547, -0.8353614597181127, 0.22373281034340456, -0.3566184980772613, 1.195601554009199, 0.06820956515592667, 0.04083572678921148, -0.6184542972098993, -2.051234833545991, -0.14841116035642724, -0.03474205360657567, -0.5092248018023503, 1.5827581291154604, 1.014753174170827, -0.8796020182618397, 1.5156583685885863, 0.3459349898339406, -1.0614935144891169, -0.7649817166963779, 0.9542728262990114, 0.648275202973677, 1.4943115581023017, -0.05217028507026561, -2.5758228868679427, 1.167717895603323, -0.3904663846029581, -1.1167983296391784, -1.2833065183657555, 0.1914994460291949, -1.0098431205894374, 0.6341599431397855, 1.0297851263869595, -0.8389507488561836, 1.5475484215159128, -0.7317169193187559, 0.7991377097309073, 0.8423863489416101, -0.6566768816715937, 0.6671829937032094], \"yaxis\": \"y3\"}, {\"line\": {\"color\": \"rgba(128, 128, 128, 1.0)\", \"dash\": \"solid\", \"shape\": \"linear\", \"width\": 1.3}, \"marker\": {\"size\": 2, \"symbol\": \"circle\"}, \"mode\": \"markers\", \"name\": \"A\", \"text\": \"\", \"type\": \"scatter\", \"x\": [1.5944141224570951, -1.4422217718810517, -0.6775056248359165, 0.5425327711778104, -1.150421084363576, 0.5135457245087396, -1.321111295035442, -1.1114269353719264, -0.5482860723138663, -0.3826233020610873, 1.8945668683576136, -0.7515833234081605, 1.283833326285015, -0.8275993454656554, 0.12838341498868214, 0.8403329131702698, 0.17060824519329876, -0.30011765035326887, 0.4854545829024947, -1.8911154724785426, 1.1917266999118605, 2.10723855258812, 0.3049749458737713, 0.8629112602491235, 1.3330630415456524, 0.20595123957798286, 1.134227029379625, -0.6242571940611776, 0.8833618491795998, 0.21596464385150554, 0.23418253153394541, 0.07659354311937588, -0.6967684344050352, 0.3333750596807909, -0.4808972157811444, -0.4159007897049626, -1.4005464146445767, 1.2344271956283603, -0.3076470278751892, -0.8955674379768139, 0.30926774929739015, 0.6297600251903708, 1.7990748884496843, -0.5778543973249138, -0.335489100776331, 1.0191314191159482, -0.24034705593365235, -0.6240939115662526, -0.1785435178941472, -0.0032633320920254657, -1.505027767445995, 0.07444195095500496, -1.1804303602380004, -1.6787581401627665, 1.548182150258975, -1.142038892624844, -1.1590141809540022, 2.205301029707225, -1.7082026370724346, -0.4522905464781231, -1.560559469274855, -1.272695536524901, 1.7508925284907684, 0.265320949621517, -0.19252060791086, -0.0032326746137167433, -0.6622006488014425, -1.459023071543362, 0.40990808542328505, 0.17859359274457023, -0.46530176905928394, 1.3943541030179492, 0.5864037378850627, 0.6072339357545016, 0.14416285070077703, 0.9317279671975461, 0.5854298942901607, -1.4156750489248187, -0.5402684261429752, 1.2560099479342928, -0.6501632557247102, -1.5112492067267687, -0.05218975454021778, 0.41239328991222945, 0.5445250929155341, 0.37996094849536, -1.9119546395647826, 0.709352415504824, -0.09305523635944245, 0.3206055887521061, 0.2200818497447563, 0.3946196674990109, 0.5530028946009807, 1.4197216025804544, -0.5057009939104495, 0.9786812076343843, 0.7802124003868645, 0.21398415474113802, -0.7621475066145035, 0.3572791397580236], \"xaxis\": \"x4\", \"y\": [1.0382366963092549, -2.400155902890422, 0.2965349865300015, -0.06810621767640156, 0.40986532593557184, 2.980340503066905, -0.8113478267697151, 0.12320917274783742, -0.7614388234908033, -1.6261937919214988, -0.4563416646160593, 0.8100652375053653, -0.4786810244642336, -0.15125352763689717, -0.35363337608754686, -0.4600439741878424, -0.548594427223353, 0.15179013108414735, 1.2527836008333177, -0.01486881648200595, -1.321028273052858, -1.215056740365512, -0.46443149005930484, -0.2148944304441226, 1.05921261639197, -0.44083508838166113, 0.2893866833914568, -0.08920210825676385, -2.141856887876484, -1.6561139570133645, 0.7297351210382328, 0.3621479005302017, 0.4544305516587094, 1.1267997842916877, 0.4980719238796653, 0.7538993836558499, 0.316316710943558, -0.7647936388049383, 1.1335735802883333, 1.5811875685001238, 0.4262992431174364, -0.18199337606603036, -1.6987872789952148, -0.31966643306678155, -1.0381492197795885, -0.7210400728089623, -0.5232424059498656, 0.33977487524362276, 2.399931576633395, -0.9645654786318648, 1.0038087775500733, -1.8883035577730836, 0.40755480079472817, 1.620992384935556, -1.5144382193345716, 0.931603224067061, -0.0690937367458445, -1.1113666817523113, -1.6884862187088228, 0.4847823519219444, -0.05144663802383848, 0.36834324602109547, -0.8353614597181127, 0.22373281034340456, -0.3566184980772613, 1.195601554009199, 0.06820956515592667, 0.04083572678921148, -0.6184542972098993, -2.051234833545991, -0.14841116035642724, -0.03474205360657567, -0.5092248018023503, 1.5827581291154604, 1.014753174170827, -0.8796020182618397, 1.5156583685885863, 0.3459349898339406, -1.0614935144891169, -0.7649817166963779, 0.9542728262990114, 0.648275202973677, 1.4943115581023017, -0.05217028507026561, -2.5758228868679427, 1.167717895603323, -0.3904663846029581, -1.1167983296391784, -1.2833065183657555, 0.1914994460291949, -1.0098431205894374, 0.6341599431397855, 1.0297851263869595, -0.8389507488561836, 1.5475484215159128, -0.7317169193187559, 0.7991377097309073, 0.8423863489416101, -0.6566768816715937, 0.6671829937032094], \"yaxis\": \"y4\"}, {\"line\": {\"color\": \"rgba(128, 128, 128, 1.0)\", \"dash\": \"solid\", \"shape\": \"linear\", \"width\": 1.3}, \"marker\": {\"size\": 2, \"symbol\": \"circle\"}, \"mode\": \"markers\", \"name\": \"B\", \"text\": \"\", \"type\": \"scatter\", \"x\": [1.0382366963092549, -2.400155902890422, 0.2965349865300015, -0.06810621767640156, 0.40986532593557184, 2.980340503066905, -0.8113478267697151, 0.12320917274783742, -0.7614388234908033, -1.6261937919214988, -0.4563416646160593, 0.8100652375053653, -0.4786810244642336, -0.15125352763689717, -0.35363337608754686, -0.4600439741878424, -0.548594427223353, 0.15179013108414735, 1.2527836008333177, -0.01486881648200595, -1.321028273052858, -1.215056740365512, -0.46443149005930484, -0.2148944304441226, 1.05921261639197, -0.44083508838166113, 0.2893866833914568, -0.08920210825676385, -2.141856887876484, -1.6561139570133645, 0.7297351210382328, 0.3621479005302017, 0.4544305516587094, 1.1267997842916877, 0.4980719238796653, 0.7538993836558499, 0.316316710943558, -0.7647936388049383, 1.1335735802883333, 1.5811875685001238, 0.4262992431174364, -0.18199337606603036, -1.6987872789952148, -0.31966643306678155, -1.0381492197795885, -0.7210400728089623, -0.5232424059498656, 0.33977487524362276, 2.399931576633395, -0.9645654786318648, 1.0038087775500733, -1.8883035577730836, 0.40755480079472817, 1.620992384935556, -1.5144382193345716, 0.931603224067061, -0.0690937367458445, -1.1113666817523113, -1.6884862187088228, 0.4847823519219444, -0.05144663802383848, 0.36834324602109547, -0.8353614597181127, 0.22373281034340456, -0.3566184980772613, 1.195601554009199, 0.06820956515592667, 0.04083572678921148, -0.6184542972098993, -2.051234833545991, -0.14841116035642724, -0.03474205360657567, -0.5092248018023503, 1.5827581291154604, 1.014753174170827, -0.8796020182618397, 1.5156583685885863, 0.3459349898339406, -1.0614935144891169, -0.7649817166963779, 0.9542728262990114, 0.648275202973677, 1.4943115581023017, -0.05217028507026561, -2.5758228868679427, 1.167717895603323, -0.3904663846029581, -1.1167983296391784, -1.2833065183657555, 0.1914994460291949, -1.0098431205894374, 0.6341599431397855, 1.0297851263869595, -0.8389507488561836, 1.5475484215159128, -0.7317169193187559, 0.7991377097309073, 0.8423863489416101, -0.6566768816715937, 0.6671829937032094], \"xaxis\": \"x5\", \"y\": [1.2352637423497352, -0.644403593249537, -0.21583932947160878, -0.3065930615464294, 0.6665906880616215, 0.8274128978167663, 0.05207674860437279, 1.080405009642796, 1.5503160159883964, -0.3976979490057124, -0.6995457282171443, 0.5019567846337258, 0.784414208144939, -0.9684400337727636, 1.4681555528388157, 0.9738748547542355, -0.1683756778040267, 0.3284689415865835, -0.1019530754349385, 0.9083874292429925, -0.7002357326015257, 0.10253269120604626, -0.28304613432624315, 0.29043776828919987, -1.5054504867131828, 0.18888259838641094, 0.7286810867526122, 0.4024645562824474, -0.442632044759658, 1.0128378062330445, 1.4084203254739425, -1.7985124548998326, -1.4766875740832202, -0.14385940913942347, 0.17461525221701604, -0.05939915810810186, 1.1036634894886488, -1.614960059971259, 0.9318582971966591, -1.5215083013652648, -0.6091839263780852, -1.487550522210282, 1.5750848833669928, 0.4460744620597566, 1.3584587583826973, 0.5305091400254296, 0.4933623947455486, 1.1827465762712785, 0.16328972905461056, -0.32020332895890746, 0.4465826943725874, 2.2137359418920566, -0.5416389204214601, -2.374674201725834, -0.3318575370120358, 0.3125129865243422, -1.2902209289754214, 0.9453003743451314, -0.7222568276366002, -1.1086224341893036, 0.9698175766464336, -0.02289777986971175, 1.0119705009285886, -1.197599765857664, 0.38586981097800205, 0.1679327921569883, -1.1542382780421319, -2.6064743089733695, 1.7539940301882824, -0.05325637220002819, 0.8146578039065746, 0.4061439818110797, 1.1762007407215433, -1.4790773409005213, 0.9741379879968607, -1.2534825112644354, -0.9035510642832751, -1.3400183078899761, 1.3840795732538014, 0.08235629844734149, 0.526065491888457, 1.1735641106989962, 0.8725788127710796, -1.2212273380904914, -1.891203170183768, 1.6731060104584292, -0.9194250381539126, -0.6757601984666243, 1.07769365533154, 0.5003415018622092, -0.5339589964979589, -1.9382073393181636, 0.10156924921382787, 1.4759570773089004, 0.5185152737926203, -0.8940324829248656, 0.626322064988126, 1.9586230496827788, 0.18164223414444486, 0.3753347024349057], \"yaxis\": \"y5\"}, {\"histfunc\": \"count\", \"histnorm\": \"\", \"marker\": {\"color\": \"rgba(55, 128, 191, 1.0)\", \"line\": {\"color\": \"#4D5663\", \"width\": 1.3}}, \"name\": \"B\", \"nbinsx\": 10, \"opacity\": 0.8, \"orientation\": \"v\", \"type\": \"histogram\", \"x\": [1.2352637423497352, -0.644403593249537, -0.21583932947160878, -0.3065930615464294, 0.6665906880616215, 0.8274128978167663, 0.05207674860437279, 1.080405009642796, 1.5503160159883964, -0.3976979490057124, -0.6995457282171443, 0.5019567846337258, 0.784414208144939, -0.9684400337727636, 1.4681555528388157, 0.9738748547542355, -0.1683756778040267, 0.3284689415865835, -0.1019530754349385, 0.9083874292429925, -0.7002357326015257, 0.10253269120604626, -0.28304613432624315, 0.29043776828919987, -1.5054504867131828, 0.18888259838641094, 0.7286810867526122, 0.4024645562824474, -0.442632044759658, 1.0128378062330445, 1.4084203254739425, -1.7985124548998326, -1.4766875740832202, -0.14385940913942347, 0.17461525221701604, -0.05939915810810186, 1.1036634894886488, -1.614960059971259, 0.9318582971966591, -1.5215083013652648, -0.6091839263780852, -1.487550522210282, 1.5750848833669928, 0.4460744620597566, 1.3584587583826973, 0.5305091400254296, 0.4933623947455486, 1.1827465762712785, 0.16328972905461056, -0.32020332895890746, 0.4465826943725874, 2.2137359418920566, -0.5416389204214601, -2.374674201725834, -0.3318575370120358, 0.3125129865243422, -1.2902209289754214, 0.9453003743451314, -0.7222568276366002, -1.1086224341893036, 0.9698175766464336, -0.02289777986971175, 1.0119705009285886, -1.197599765857664, 0.38586981097800205, 0.1679327921569883, -1.1542382780421319, -2.6064743089733695, 1.7539940301882824, -0.05325637220002819, 0.8146578039065746, 0.4061439818110797, 1.1762007407215433, -1.4790773409005213, 0.9741379879968607, -1.2534825112644354, -0.9035510642832751, -1.3400183078899761, 1.3840795732538014, 0.08235629844734149, 0.526065491888457, 1.1735641106989962, 0.8725788127710796, -1.2212273380904914, -1.891203170183768, 1.6731060104584292, -0.9194250381539126, -0.6757601984666243, 1.07769365533154, 0.5003415018622092, -0.5339589964979589, -1.9382073393181636, 0.10156924921382787, 1.4759570773089004, 0.5185152737926203, -0.8940324829248656, 0.626322064988126, 1.9586230496827788, 0.18164223414444486, 0.3753347024349057], \"xaxis\": \"x6\", \"yaxis\": \"y6\"}, {\"line\": {\"color\": \"rgba(128, 128, 128, 1.0)\", \"dash\": \"solid\", \"shape\": \"linear\", \"width\": 1.3}, \"marker\": {\"size\": 2, \"symbol\": \"circle\"}, \"mode\": \"markers\", \"name\": \"B\", \"text\": \"\", \"type\": \"scatter\", \"x\": [0.7171100537947829, -0.6705043942082773, 0.31089544958537835, -0.5043338553673823, -0.9742934286592914, -0.1733077424089138, 0.40273899477371145, -0.6353727131784702, 0.6799008398905035, 0.29401464110270065, -1.375383559586756, -0.6647087831656143, 1.6878695232537342, -0.6775008445543156, 0.06392053534539674, -0.10491907377723063, -1.7116153418750857, 0.9132426243282985, 0.3274138137400342, -1.1210504061662332, -0.6791126142611109, 0.1885879389467673, 0.3909779275251414, -0.9288957049944576, -2.7577958831534803, -1.2785164155839637, 0.5621501801073486, 1.7610820566494194, -0.21618981557249262, -0.5388315352174506, -0.18319484127549743, -1.2832271004863351, 2.6350522687278297, 0.527329557007783, 2.0859269989831413, 1.3173174640212095, 0.06019145113004047, 0.2803281571923362, 0.12137096803749506, -0.7595620995669927, 0.8063272411837533, 0.3454677919922995, -1.5144978373390645, 0.9098287486379316, -0.473253461076539, 0.2546361718204737, -0.35631102763063105, -0.6560096359506616, -1.1504116315618926, -1.8092297541955427, 0.3728890371817506, -0.3768972461695595, 0.8618457937312982, 0.9327747362965856, -0.0002969481683752328, -0.8025540412798581, -1.360758773697659, 0.42442110317748133, 0.5102958163011305, -1.1621362462104412, 1.93438554911377, 0.38054893117410227, 0.4483119979873048, -0.1570420000950534, -0.47460728642647093, -0.3303592140332204, -0.3064263804028798, 1.835841696252868, 1.1173094754592006, 1.5250387129796623, -0.057291305693003565, -0.1277431798795453, -0.42379062111402, 1.3036894405310675, 0.5069626545732473, -0.6490656729012979, 0.8428305032262942, 1.9077142030202825, 0.6380603845203026, -0.5103004666672093, 0.11796286832900063, -1.1643156350132926, 0.8119996821846642, 0.5159794791484065, 1.1318910776205982, 0.8570045052237849, -0.3304934378727535, -0.4294680263145168, 0.7986529969396823, -0.9811302866659917, -0.38656570749482927, -1.0466307421303616, -1.8336662239594692, -1.1901951766741279, 0.3101164589901357, -0.2205163030743878, 0.09272998727655567, -0.07627106087898423, 0.35305705832500406, 1.7536382042482186], \"xaxis\": \"x7\", \"y\": [1.2352637423497352, -0.644403593249537, -0.21583932947160878, -0.3065930615464294, 0.6665906880616215, 0.8274128978167663, 0.05207674860437279, 1.080405009642796, 1.5503160159883964, -0.3976979490057124, -0.6995457282171443, 0.5019567846337258, 0.784414208144939, -0.9684400337727636, 1.4681555528388157, 0.9738748547542355, -0.1683756778040267, 0.3284689415865835, -0.1019530754349385, 0.9083874292429925, -0.7002357326015257, 0.10253269120604626, -0.28304613432624315, 0.29043776828919987, -1.5054504867131828, 0.18888259838641094, 0.7286810867526122, 0.4024645562824474, -0.442632044759658, 1.0128378062330445, 1.4084203254739425, -1.7985124548998326, -1.4766875740832202, -0.14385940913942347, 0.17461525221701604, -0.05939915810810186, 1.1036634894886488, -1.614960059971259, 0.9318582971966591, -1.5215083013652648, -0.6091839263780852, -1.487550522210282, 1.5750848833669928, 0.4460744620597566, 1.3584587583826973, 0.5305091400254296, 0.4933623947455486, 1.1827465762712785, 0.16328972905461056, -0.32020332895890746, 0.4465826943725874, 2.2137359418920566, -0.5416389204214601, -2.374674201725834, -0.3318575370120358, 0.3125129865243422, -1.2902209289754214, 0.9453003743451314, -0.7222568276366002, -1.1086224341893036, 0.9698175766464336, -0.02289777986971175, 1.0119705009285886, -1.197599765857664, 0.38586981097800205, 0.1679327921569883, -1.1542382780421319, -2.6064743089733695, 1.7539940301882824, -0.05325637220002819, 0.8146578039065746, 0.4061439818110797, 1.1762007407215433, -1.4790773409005213, 0.9741379879968607, -1.2534825112644354, -0.9035510642832751, -1.3400183078899761, 1.3840795732538014, 0.08235629844734149, 0.526065491888457, 1.1735641106989962, 0.8725788127710796, -1.2212273380904914, -1.891203170183768, 1.6731060104584292, -0.9194250381539126, -0.6757601984666243, 1.07769365533154, 0.5003415018622092, -0.5339589964979589, -1.9382073393181636, 0.10156924921382787, 1.4759570773089004, 0.5185152737926203, -0.8940324829248656, 0.626322064988126, 1.9586230496827788, 0.18164223414444486, 0.3753347024349057], \"yaxis\": \"y7\"}, {\"line\": {\"color\": \"rgba(128, 128, 128, 1.0)\", \"dash\": \"solid\", \"shape\": \"linear\", \"width\": 1.3}, \"marker\": {\"size\": 2, \"symbol\": \"circle\"}, \"mode\": \"markers\", \"name\": \"B\", \"text\": \"\", \"type\": \"scatter\", \"x\": [1.5944141224570951, -1.4422217718810517, -0.6775056248359165, 0.5425327711778104, -1.150421084363576, 0.5135457245087396, -1.321111295035442, -1.1114269353719264, -0.5482860723138663, -0.3826233020610873, 1.8945668683576136, -0.7515833234081605, 1.283833326285015, -0.8275993454656554, 0.12838341498868214, 0.8403329131702698, 0.17060824519329876, -0.30011765035326887, 0.4854545829024947, -1.8911154724785426, 1.1917266999118605, 2.10723855258812, 0.3049749458737713, 0.8629112602491235, 1.3330630415456524, 0.20595123957798286, 1.134227029379625, -0.6242571940611776, 0.8833618491795998, 0.21596464385150554, 0.23418253153394541, 0.07659354311937588, -0.6967684344050352, 0.3333750596807909, -0.4808972157811444, -0.4159007897049626, -1.4005464146445767, 1.2344271956283603, -0.3076470278751892, -0.8955674379768139, 0.30926774929739015, 0.6297600251903708, 1.7990748884496843, -0.5778543973249138, -0.335489100776331, 1.0191314191159482, -0.24034705593365235, -0.6240939115662526, -0.1785435178941472, -0.0032633320920254657, -1.505027767445995, 0.07444195095500496, -1.1804303602380004, -1.6787581401627665, 1.548182150258975, -1.142038892624844, -1.1590141809540022, 2.205301029707225, -1.7082026370724346, -0.4522905464781231, -1.560559469274855, -1.272695536524901, 1.7508925284907684, 0.265320949621517, -0.19252060791086, -0.0032326746137167433, -0.6622006488014425, -1.459023071543362, 0.40990808542328505, 0.17859359274457023, -0.46530176905928394, 1.3943541030179492, 0.5864037378850627, 0.6072339357545016, 0.14416285070077703, 0.9317279671975461, 0.5854298942901607, -1.4156750489248187, -0.5402684261429752, 1.2560099479342928, -0.6501632557247102, -1.5112492067267687, -0.05218975454021778, 0.41239328991222945, 0.5445250929155341, 0.37996094849536, -1.9119546395647826, 0.709352415504824, -0.09305523635944245, 0.3206055887521061, 0.2200818497447563, 0.3946196674990109, 0.5530028946009807, 1.4197216025804544, -0.5057009939104495, 0.9786812076343843, 0.7802124003868645, 0.21398415474113802, -0.7621475066145035, 0.3572791397580236], \"xaxis\": \"x8\", \"y\": [1.2352637423497352, -0.644403593249537, -0.21583932947160878, -0.3065930615464294, 0.6665906880616215, 0.8274128978167663, 0.05207674860437279, 1.080405009642796, 1.5503160159883964, -0.3976979490057124, -0.6995457282171443, 0.5019567846337258, 0.784414208144939, -0.9684400337727636, 1.4681555528388157, 0.9738748547542355, -0.1683756778040267, 0.3284689415865835, -0.1019530754349385, 0.9083874292429925, -0.7002357326015257, 0.10253269120604626, -0.28304613432624315, 0.29043776828919987, -1.5054504867131828, 0.18888259838641094, 0.7286810867526122, 0.4024645562824474, -0.442632044759658, 1.0128378062330445, 1.4084203254739425, -1.7985124548998326, -1.4766875740832202, -0.14385940913942347, 0.17461525221701604, -0.05939915810810186, 1.1036634894886488, -1.614960059971259, 0.9318582971966591, -1.5215083013652648, -0.6091839263780852, -1.487550522210282, 1.5750848833669928, 0.4460744620597566, 1.3584587583826973, 0.5305091400254296, 0.4933623947455486, 1.1827465762712785, 0.16328972905461056, -0.32020332895890746, 0.4465826943725874, 2.2137359418920566, -0.5416389204214601, -2.374674201725834, -0.3318575370120358, 0.3125129865243422, -1.2902209289754214, 0.9453003743451314, -0.7222568276366002, -1.1086224341893036, 0.9698175766464336, -0.02289777986971175, 1.0119705009285886, -1.197599765857664, 0.38586981097800205, 0.1679327921569883, -1.1542382780421319, -2.6064743089733695, 1.7539940301882824, -0.05325637220002819, 0.8146578039065746, 0.4061439818110797, 1.1762007407215433, -1.4790773409005213, 0.9741379879968607, -1.2534825112644354, -0.9035510642832751, -1.3400183078899761, 1.3840795732538014, 0.08235629844734149, 0.526065491888457, 1.1735641106989962, 0.8725788127710796, -1.2212273380904914, -1.891203170183768, 1.6731060104584292, -0.9194250381539126, -0.6757601984666243, 1.07769365533154, 0.5003415018622092, -0.5339589964979589, -1.9382073393181636, 0.10156924921382787, 1.4759570773089004, 0.5185152737926203, -0.8940324829248656, 0.626322064988126, 1.9586230496827788, 0.18164223414444486, 0.3753347024349057], \"yaxis\": \"y8\"}, {\"line\": {\"color\": \"rgba(128, 128, 128, 1.0)\", \"dash\": \"solid\", \"shape\": \"linear\", \"width\": 1.3}, \"marker\": {\"size\": 2, \"symbol\": \"circle\"}, \"mode\": \"markers\", \"name\": \"C\", \"text\": \"\", \"type\": \"scatter\", \"x\": [1.0382366963092549, -2.400155902890422, 0.2965349865300015, -0.06810621767640156, 0.40986532593557184, 2.980340503066905, -0.8113478267697151, 0.12320917274783742, -0.7614388234908033, -1.6261937919214988, -0.4563416646160593, 0.8100652375053653, -0.4786810244642336, -0.15125352763689717, -0.35363337608754686, -0.4600439741878424, -0.548594427223353, 0.15179013108414735, 1.2527836008333177, -0.01486881648200595, -1.321028273052858, -1.215056740365512, -0.46443149005930484, -0.2148944304441226, 1.05921261639197, -0.44083508838166113, 0.2893866833914568, -0.08920210825676385, -2.141856887876484, -1.6561139570133645, 0.7297351210382328, 0.3621479005302017, 0.4544305516587094, 1.1267997842916877, 0.4980719238796653, 0.7538993836558499, 0.316316710943558, -0.7647936388049383, 1.1335735802883333, 1.5811875685001238, 0.4262992431174364, -0.18199337606603036, -1.6987872789952148, -0.31966643306678155, -1.0381492197795885, -0.7210400728089623, -0.5232424059498656, 0.33977487524362276, 2.399931576633395, -0.9645654786318648, 1.0038087775500733, -1.8883035577730836, 0.40755480079472817, 1.620992384935556, -1.5144382193345716, 0.931603224067061, -0.0690937367458445, -1.1113666817523113, -1.6884862187088228, 0.4847823519219444, -0.05144663802383848, 0.36834324602109547, -0.8353614597181127, 0.22373281034340456, -0.3566184980772613, 1.195601554009199, 0.06820956515592667, 0.04083572678921148, -0.6184542972098993, -2.051234833545991, -0.14841116035642724, -0.03474205360657567, -0.5092248018023503, 1.5827581291154604, 1.014753174170827, -0.8796020182618397, 1.5156583685885863, 0.3459349898339406, -1.0614935144891169, -0.7649817166963779, 0.9542728262990114, 0.648275202973677, 1.4943115581023017, -0.05217028507026561, -2.5758228868679427, 1.167717895603323, -0.3904663846029581, -1.1167983296391784, -1.2833065183657555, 0.1914994460291949, -1.0098431205894374, 0.6341599431397855, 1.0297851263869595, -0.8389507488561836, 1.5475484215159128, -0.7317169193187559, 0.7991377097309073, 0.8423863489416101, -0.6566768816715937, 0.6671829937032094], \"xaxis\": \"x9\", \"y\": [0.7171100537947829, -0.6705043942082773, 0.31089544958537835, -0.5043338553673823, -0.9742934286592914, -0.1733077424089138, 0.40273899477371145, -0.6353727131784702, 0.6799008398905035, 0.29401464110270065, -1.375383559586756, -0.6647087831656143, 1.6878695232537342, -0.6775008445543156, 0.06392053534539674, -0.10491907377723063, -1.7116153418750857, 0.9132426243282985, 0.3274138137400342, -1.1210504061662332, -0.6791126142611109, 0.1885879389467673, 0.3909779275251414, -0.9288957049944576, -2.7577958831534803, -1.2785164155839637, 0.5621501801073486, 1.7610820566494194, -0.21618981557249262, -0.5388315352174506, -0.18319484127549743, -1.2832271004863351, 2.6350522687278297, 0.527329557007783, 2.0859269989831413, 1.3173174640212095, 0.06019145113004047, 0.2803281571923362, 0.12137096803749506, -0.7595620995669927, 0.8063272411837533, 0.3454677919922995, -1.5144978373390645, 0.9098287486379316, -0.473253461076539, 0.2546361718204737, -0.35631102763063105, -0.6560096359506616, -1.1504116315618926, -1.8092297541955427, 0.3728890371817506, -0.3768972461695595, 0.8618457937312982, 0.9327747362965856, -0.0002969481683752328, -0.8025540412798581, -1.360758773697659, 0.42442110317748133, 0.5102958163011305, -1.1621362462104412, 1.93438554911377, 0.38054893117410227, 0.4483119979873048, -0.1570420000950534, -0.47460728642647093, -0.3303592140332204, -0.3064263804028798, 1.835841696252868, 1.1173094754592006, 1.5250387129796623, -0.057291305693003565, -0.1277431798795453, -0.42379062111402, 1.3036894405310675, 0.5069626545732473, -0.6490656729012979, 0.8428305032262942, 1.9077142030202825, 0.6380603845203026, -0.5103004666672093, 0.11796286832900063, -1.1643156350132926, 0.8119996821846642, 0.5159794791484065, 1.1318910776205982, 0.8570045052237849, -0.3304934378727535, -0.4294680263145168, 0.7986529969396823, -0.9811302866659917, -0.38656570749482927, -1.0466307421303616, -1.8336662239594692, -1.1901951766741279, 0.3101164589901357, -0.2205163030743878, 0.09272998727655567, -0.07627106087898423, 0.35305705832500406, 1.7536382042482186], \"yaxis\": \"y9\"}, {\"line\": {\"color\": \"rgba(128, 128, 128, 1.0)\", \"dash\": \"solid\", \"shape\": \"linear\", \"width\": 1.3}, \"marker\": {\"size\": 2, \"symbol\": \"circle\"}, \"mode\": \"markers\", \"name\": \"C\", \"text\": \"\", \"type\": \"scatter\", \"x\": [1.2352637423497352, -0.644403593249537, -0.21583932947160878, -0.3065930615464294, 0.6665906880616215, 0.8274128978167663, 0.05207674860437279, 1.080405009642796, 1.5503160159883964, -0.3976979490057124, -0.6995457282171443, 0.5019567846337258, 0.784414208144939, -0.9684400337727636, 1.4681555528388157, 0.9738748547542355, -0.1683756778040267, 0.3284689415865835, -0.1019530754349385, 0.9083874292429925, -0.7002357326015257, 0.10253269120604626, -0.28304613432624315, 0.29043776828919987, -1.5054504867131828, 0.18888259838641094, 0.7286810867526122, 0.4024645562824474, -0.442632044759658, 1.0128378062330445, 1.4084203254739425, -1.7985124548998326, -1.4766875740832202, -0.14385940913942347, 0.17461525221701604, -0.05939915810810186, 1.1036634894886488, -1.614960059971259, 0.9318582971966591, -1.5215083013652648, -0.6091839263780852, -1.487550522210282, 1.5750848833669928, 0.4460744620597566, 1.3584587583826973, 0.5305091400254296, 0.4933623947455486, 1.1827465762712785, 0.16328972905461056, -0.32020332895890746, 0.4465826943725874, 2.2137359418920566, -0.5416389204214601, -2.374674201725834, -0.3318575370120358, 0.3125129865243422, -1.2902209289754214, 0.9453003743451314, -0.7222568276366002, -1.1086224341893036, 0.9698175766464336, -0.02289777986971175, 1.0119705009285886, -1.197599765857664, 0.38586981097800205, 0.1679327921569883, -1.1542382780421319, -2.6064743089733695, 1.7539940301882824, -0.05325637220002819, 0.8146578039065746, 0.4061439818110797, 1.1762007407215433, -1.4790773409005213, 0.9741379879968607, -1.2534825112644354, -0.9035510642832751, -1.3400183078899761, 1.3840795732538014, 0.08235629844734149, 0.526065491888457, 1.1735641106989962, 0.8725788127710796, -1.2212273380904914, -1.891203170183768, 1.6731060104584292, -0.9194250381539126, -0.6757601984666243, 1.07769365533154, 0.5003415018622092, -0.5339589964979589, -1.9382073393181636, 0.10156924921382787, 1.4759570773089004, 0.5185152737926203, -0.8940324829248656, 0.626322064988126, 1.9586230496827788, 0.18164223414444486, 0.3753347024349057], \"xaxis\": \"x10\", \"y\": [0.7171100537947829, -0.6705043942082773, 0.31089544958537835, -0.5043338553673823, -0.9742934286592914, -0.1733077424089138, 0.40273899477371145, -0.6353727131784702, 0.6799008398905035, 0.29401464110270065, -1.375383559586756, -0.6647087831656143, 1.6878695232537342, -0.6775008445543156, 0.06392053534539674, -0.10491907377723063, -1.7116153418750857, 0.9132426243282985, 0.3274138137400342, -1.1210504061662332, -0.6791126142611109, 0.1885879389467673, 0.3909779275251414, -0.9288957049944576, -2.7577958831534803, -1.2785164155839637, 0.5621501801073486, 1.7610820566494194, -0.21618981557249262, -0.5388315352174506, -0.18319484127549743, -1.2832271004863351, 2.6350522687278297, 0.527329557007783, 2.0859269989831413, 1.3173174640212095, 0.06019145113004047, 0.2803281571923362, 0.12137096803749506, -0.7595620995669927, 0.8063272411837533, 0.3454677919922995, -1.5144978373390645, 0.9098287486379316, -0.473253461076539, 0.2546361718204737, -0.35631102763063105, -0.6560096359506616, -1.1504116315618926, -1.8092297541955427, 0.3728890371817506, -0.3768972461695595, 0.8618457937312982, 0.9327747362965856, -0.0002969481683752328, -0.8025540412798581, -1.360758773697659, 0.42442110317748133, 0.5102958163011305, -1.1621362462104412, 1.93438554911377, 0.38054893117410227, 0.4483119979873048, -0.1570420000950534, -0.47460728642647093, -0.3303592140332204, -0.3064263804028798, 1.835841696252868, 1.1173094754592006, 1.5250387129796623, -0.057291305693003565, -0.1277431798795453, -0.42379062111402, 1.3036894405310675, 0.5069626545732473, -0.6490656729012979, 0.8428305032262942, 1.9077142030202825, 0.6380603845203026, -0.5103004666672093, 0.11796286832900063, -1.1643156350132926, 0.8119996821846642, 0.5159794791484065, 1.1318910776205982, 0.8570045052237849, -0.3304934378727535, -0.4294680263145168, 0.7986529969396823, -0.9811302866659917, -0.38656570749482927, -1.0466307421303616, -1.8336662239594692, -1.1901951766741279, 0.3101164589901357, -0.2205163030743878, 0.09272998727655567, -0.07627106087898423, 0.35305705832500406, 1.7536382042482186], \"yaxis\": \"y10\"}, {\"histfunc\": \"count\", \"histnorm\": \"\", \"marker\": {\"color\": \"rgba(50, 171, 96, 1.0)\", \"line\": {\"color\": \"#4D5663\", \"width\": 1.3}}, \"name\": \"C\", \"nbinsx\": 10, \"opacity\": 0.8, \"orientation\": \"v\", \"type\": \"histogram\", \"x\": [0.7171100537947829, -0.6705043942082773, 0.31089544958537835, -0.5043338553673823, -0.9742934286592914, -0.1733077424089138, 0.40273899477371145, -0.6353727131784702, 0.6799008398905035, 0.29401464110270065, -1.375383559586756, -0.6647087831656143, 1.6878695232537342, -0.6775008445543156, 0.06392053534539674, -0.10491907377723063, -1.7116153418750857, 0.9132426243282985, 0.3274138137400342, -1.1210504061662332, -0.6791126142611109, 0.1885879389467673, 0.3909779275251414, -0.9288957049944576, -2.7577958831534803, -1.2785164155839637, 0.5621501801073486, 1.7610820566494194, -0.21618981557249262, -0.5388315352174506, -0.18319484127549743, -1.2832271004863351, 2.6350522687278297, 0.527329557007783, 2.0859269989831413, 1.3173174640212095, 0.06019145113004047, 0.2803281571923362, 0.12137096803749506, -0.7595620995669927, 0.8063272411837533, 0.3454677919922995, -1.5144978373390645, 0.9098287486379316, -0.473253461076539, 0.2546361718204737, -0.35631102763063105, -0.6560096359506616, -1.1504116315618926, -1.8092297541955427, 0.3728890371817506, -0.3768972461695595, 0.8618457937312982, 0.9327747362965856, -0.0002969481683752328, -0.8025540412798581, -1.360758773697659, 0.42442110317748133, 0.5102958163011305, -1.1621362462104412, 1.93438554911377, 0.38054893117410227, 0.4483119979873048, -0.1570420000950534, -0.47460728642647093, -0.3303592140332204, -0.3064263804028798, 1.835841696252868, 1.1173094754592006, 1.5250387129796623, -0.057291305693003565, -0.1277431798795453, -0.42379062111402, 1.3036894405310675, 0.5069626545732473, -0.6490656729012979, 0.8428305032262942, 1.9077142030202825, 0.6380603845203026, -0.5103004666672093, 0.11796286832900063, -1.1643156350132926, 0.8119996821846642, 0.5159794791484065, 1.1318910776205982, 0.8570045052237849, -0.3304934378727535, -0.4294680263145168, 0.7986529969396823, -0.9811302866659917, -0.38656570749482927, -1.0466307421303616, -1.8336662239594692, -1.1901951766741279, 0.3101164589901357, -0.2205163030743878, 0.09272998727655567, -0.07627106087898423, 0.35305705832500406, 1.7536382042482186], \"xaxis\": \"x11\", \"yaxis\": \"y11\"}, {\"line\": {\"color\": \"rgba(128, 128, 128, 1.0)\", \"dash\": \"solid\", \"shape\": \"linear\", \"width\": 1.3}, \"marker\": {\"size\": 2, \"symbol\": \"circle\"}, \"mode\": \"markers\", \"name\": \"C\", \"text\": \"\", \"type\": \"scatter\", \"x\": [1.5944141224570951, -1.4422217718810517, -0.6775056248359165, 0.5425327711778104, -1.150421084363576, 0.5135457245087396, -1.321111295035442, -1.1114269353719264, -0.5482860723138663, -0.3826233020610873, 1.8945668683576136, -0.7515833234081605, 1.283833326285015, -0.8275993454656554, 0.12838341498868214, 0.8403329131702698, 0.17060824519329876, -0.30011765035326887, 0.4854545829024947, -1.8911154724785426, 1.1917266999118605, 2.10723855258812, 0.3049749458737713, 0.8629112602491235, 1.3330630415456524, 0.20595123957798286, 1.134227029379625, -0.6242571940611776, 0.8833618491795998, 0.21596464385150554, 0.23418253153394541, 0.07659354311937588, -0.6967684344050352, 0.3333750596807909, -0.4808972157811444, -0.4159007897049626, -1.4005464146445767, 1.2344271956283603, -0.3076470278751892, -0.8955674379768139, 0.30926774929739015, 0.6297600251903708, 1.7990748884496843, -0.5778543973249138, -0.335489100776331, 1.0191314191159482, -0.24034705593365235, -0.6240939115662526, -0.1785435178941472, -0.0032633320920254657, -1.505027767445995, 0.07444195095500496, -1.1804303602380004, -1.6787581401627665, 1.548182150258975, -1.142038892624844, -1.1590141809540022, 2.205301029707225, -1.7082026370724346, -0.4522905464781231, -1.560559469274855, -1.272695536524901, 1.7508925284907684, 0.265320949621517, -0.19252060791086, -0.0032326746137167433, -0.6622006488014425, -1.459023071543362, 0.40990808542328505, 0.17859359274457023, -0.46530176905928394, 1.3943541030179492, 0.5864037378850627, 0.6072339357545016, 0.14416285070077703, 0.9317279671975461, 0.5854298942901607, -1.4156750489248187, -0.5402684261429752, 1.2560099479342928, -0.6501632557247102, -1.5112492067267687, -0.05218975454021778, 0.41239328991222945, 0.5445250929155341, 0.37996094849536, -1.9119546395647826, 0.709352415504824, -0.09305523635944245, 0.3206055887521061, 0.2200818497447563, 0.3946196674990109, 0.5530028946009807, 1.4197216025804544, -0.5057009939104495, 0.9786812076343843, 0.7802124003868645, 0.21398415474113802, -0.7621475066145035, 0.3572791397580236], \"xaxis\": \"x12\", \"y\": [0.7171100537947829, -0.6705043942082773, 0.31089544958537835, -0.5043338553673823, -0.9742934286592914, -0.1733077424089138, 0.40273899477371145, -0.6353727131784702, 0.6799008398905035, 0.29401464110270065, -1.375383559586756, -0.6647087831656143, 1.6878695232537342, -0.6775008445543156, 0.06392053534539674, -0.10491907377723063, -1.7116153418750857, 0.9132426243282985, 0.3274138137400342, -1.1210504061662332, -0.6791126142611109, 0.1885879389467673, 0.3909779275251414, -0.9288957049944576, -2.7577958831534803, -1.2785164155839637, 0.5621501801073486, 1.7610820566494194, -0.21618981557249262, -0.5388315352174506, -0.18319484127549743, -1.2832271004863351, 2.6350522687278297, 0.527329557007783, 2.0859269989831413, 1.3173174640212095, 0.06019145113004047, 0.2803281571923362, 0.12137096803749506, -0.7595620995669927, 0.8063272411837533, 0.3454677919922995, -1.5144978373390645, 0.9098287486379316, -0.473253461076539, 0.2546361718204737, -0.35631102763063105, -0.6560096359506616, -1.1504116315618926, -1.8092297541955427, 0.3728890371817506, -0.3768972461695595, 0.8618457937312982, 0.9327747362965856, -0.0002969481683752328, -0.8025540412798581, -1.360758773697659, 0.42442110317748133, 0.5102958163011305, -1.1621362462104412, 1.93438554911377, 0.38054893117410227, 0.4483119979873048, -0.1570420000950534, -0.47460728642647093, -0.3303592140332204, -0.3064263804028798, 1.835841696252868, 1.1173094754592006, 1.5250387129796623, -0.057291305693003565, -0.1277431798795453, -0.42379062111402, 1.3036894405310675, 0.5069626545732473, -0.6490656729012979, 0.8428305032262942, 1.9077142030202825, 0.6380603845203026, -0.5103004666672093, 0.11796286832900063, -1.1643156350132926, 0.8119996821846642, 0.5159794791484065, 1.1318910776205982, 0.8570045052237849, -0.3304934378727535, -0.4294680263145168, 0.7986529969396823, -0.9811302866659917, -0.38656570749482927, -1.0466307421303616, -1.8336662239594692, -1.1901951766741279, 0.3101164589901357, -0.2205163030743878, 0.09272998727655567, -0.07627106087898423, 0.35305705832500406, 1.7536382042482186], \"yaxis\": \"y12\"}, {\"line\": {\"color\": \"rgba(128, 128, 128, 1.0)\", \"dash\": \"solid\", \"shape\": \"linear\", \"width\": 1.3}, \"marker\": {\"size\": 2, \"symbol\": \"circle\"}, \"mode\": \"markers\", \"name\": \"D\", \"text\": \"\", \"type\": \"scatter\", \"x\": [1.0382366963092549, -2.400155902890422, 0.2965349865300015, -0.06810621767640156, 0.40986532593557184, 2.980340503066905, -0.8113478267697151, 0.12320917274783742, -0.7614388234908033, -1.6261937919214988, -0.4563416646160593, 0.8100652375053653, -0.4786810244642336, -0.15125352763689717, -0.35363337608754686, -0.4600439741878424, -0.548594427223353, 0.15179013108414735, 1.2527836008333177, -0.01486881648200595, -1.321028273052858, -1.215056740365512, -0.46443149005930484, -0.2148944304441226, 1.05921261639197, -0.44083508838166113, 0.2893866833914568, -0.08920210825676385, -2.141856887876484, -1.6561139570133645, 0.7297351210382328, 0.3621479005302017, 0.4544305516587094, 1.1267997842916877, 0.4980719238796653, 0.7538993836558499, 0.316316710943558, -0.7647936388049383, 1.1335735802883333, 1.5811875685001238, 0.4262992431174364, -0.18199337606603036, -1.6987872789952148, -0.31966643306678155, -1.0381492197795885, -0.7210400728089623, -0.5232424059498656, 0.33977487524362276, 2.399931576633395, -0.9645654786318648, 1.0038087775500733, -1.8883035577730836, 0.40755480079472817, 1.620992384935556, -1.5144382193345716, 0.931603224067061, -0.0690937367458445, -1.1113666817523113, -1.6884862187088228, 0.4847823519219444, -0.05144663802383848, 0.36834324602109547, -0.8353614597181127, 0.22373281034340456, -0.3566184980772613, 1.195601554009199, 0.06820956515592667, 0.04083572678921148, -0.6184542972098993, -2.051234833545991, -0.14841116035642724, -0.03474205360657567, -0.5092248018023503, 1.5827581291154604, 1.014753174170827, -0.8796020182618397, 1.5156583685885863, 0.3459349898339406, -1.0614935144891169, -0.7649817166963779, 0.9542728262990114, 0.648275202973677, 1.4943115581023017, -0.05217028507026561, -2.5758228868679427, 1.167717895603323, -0.3904663846029581, -1.1167983296391784, -1.2833065183657555, 0.1914994460291949, -1.0098431205894374, 0.6341599431397855, 1.0297851263869595, -0.8389507488561836, 1.5475484215159128, -0.7317169193187559, 0.7991377097309073, 0.8423863489416101, -0.6566768816715937, 0.6671829937032094], \"xaxis\": \"x13\", \"y\": [1.5944141224570951, -1.4422217718810517, -0.6775056248359165, 0.5425327711778104, -1.150421084363576, 0.5135457245087396, -1.321111295035442, -1.1114269353719264, -0.5482860723138663, -0.3826233020610873, 1.8945668683576136, -0.7515833234081605, 1.283833326285015, -0.8275993454656554, 0.12838341498868214, 0.8403329131702698, 0.17060824519329876, -0.30011765035326887, 0.4854545829024947, -1.8911154724785426, 1.1917266999118605, 2.10723855258812, 0.3049749458737713, 0.8629112602491235, 1.3330630415456524, 0.20595123957798286, 1.134227029379625, -0.6242571940611776, 0.8833618491795998, 0.21596464385150554, 0.23418253153394541, 0.07659354311937588, -0.6967684344050352, 0.3333750596807909, -0.4808972157811444, -0.4159007897049626, -1.4005464146445767, 1.2344271956283603, -0.3076470278751892, -0.8955674379768139, 0.30926774929739015, 0.6297600251903708, 1.7990748884496843, -0.5778543973249138, -0.335489100776331, 1.0191314191159482, -0.24034705593365235, -0.6240939115662526, -0.1785435178941472, -0.0032633320920254657, -1.505027767445995, 0.07444195095500496, -1.1804303602380004, -1.6787581401627665, 1.548182150258975, -1.142038892624844, -1.1590141809540022, 2.205301029707225, -1.7082026370724346, -0.4522905464781231, -1.560559469274855, -1.272695536524901, 1.7508925284907684, 0.265320949621517, -0.19252060791086, -0.0032326746137167433, -0.6622006488014425, -1.459023071543362, 0.40990808542328505, 0.17859359274457023, -0.46530176905928394, 1.3943541030179492, 0.5864037378850627, 0.6072339357545016, 0.14416285070077703, 0.9317279671975461, 0.5854298942901607, -1.4156750489248187, -0.5402684261429752, 1.2560099479342928, -0.6501632557247102, -1.5112492067267687, -0.05218975454021778, 0.41239328991222945, 0.5445250929155341, 0.37996094849536, -1.9119546395647826, 0.709352415504824, -0.09305523635944245, 0.3206055887521061, 0.2200818497447563, 0.3946196674990109, 0.5530028946009807, 1.4197216025804544, -0.5057009939104495, 0.9786812076343843, 0.7802124003868645, 0.21398415474113802, -0.7621475066145035, 0.3572791397580236], \"yaxis\": \"y13\"}, {\"line\": {\"color\": \"rgba(128, 128, 128, 1.0)\", \"dash\": \"solid\", \"shape\": \"linear\", \"width\": 1.3}, \"marker\": {\"size\": 2, \"symbol\": \"circle\"}, \"mode\": \"markers\", \"name\": \"D\", \"text\": \"\", \"type\": \"scatter\", \"x\": [1.2352637423497352, -0.644403593249537, -0.21583932947160878, -0.3065930615464294, 0.6665906880616215, 0.8274128978167663, 0.05207674860437279, 1.080405009642796, 1.5503160159883964, -0.3976979490057124, -0.6995457282171443, 0.5019567846337258, 0.784414208144939, -0.9684400337727636, 1.4681555528388157, 0.9738748547542355, -0.1683756778040267, 0.3284689415865835, -0.1019530754349385, 0.9083874292429925, -0.7002357326015257, 0.10253269120604626, -0.28304613432624315, 0.29043776828919987, -1.5054504867131828, 0.18888259838641094, 0.7286810867526122, 0.4024645562824474, -0.442632044759658, 1.0128378062330445, 1.4084203254739425, -1.7985124548998326, -1.4766875740832202, -0.14385940913942347, 0.17461525221701604, -0.05939915810810186, 1.1036634894886488, -1.614960059971259, 0.9318582971966591, -1.5215083013652648, -0.6091839263780852, -1.487550522210282, 1.5750848833669928, 0.4460744620597566, 1.3584587583826973, 0.5305091400254296, 0.4933623947455486, 1.1827465762712785, 0.16328972905461056, -0.32020332895890746, 0.4465826943725874, 2.2137359418920566, -0.5416389204214601, -2.374674201725834, -0.3318575370120358, 0.3125129865243422, -1.2902209289754214, 0.9453003743451314, -0.7222568276366002, -1.1086224341893036, 0.9698175766464336, -0.02289777986971175, 1.0119705009285886, -1.197599765857664, 0.38586981097800205, 0.1679327921569883, -1.1542382780421319, -2.6064743089733695, 1.7539940301882824, -0.05325637220002819, 0.8146578039065746, 0.4061439818110797, 1.1762007407215433, -1.4790773409005213, 0.9741379879968607, -1.2534825112644354, -0.9035510642832751, -1.3400183078899761, 1.3840795732538014, 0.08235629844734149, 0.526065491888457, 1.1735641106989962, 0.8725788127710796, -1.2212273380904914, -1.891203170183768, 1.6731060104584292, -0.9194250381539126, -0.6757601984666243, 1.07769365533154, 0.5003415018622092, -0.5339589964979589, -1.9382073393181636, 0.10156924921382787, 1.4759570773089004, 0.5185152737926203, -0.8940324829248656, 0.626322064988126, 1.9586230496827788, 0.18164223414444486, 0.3753347024349057], \"xaxis\": \"x14\", \"y\": [1.5944141224570951, -1.4422217718810517, -0.6775056248359165, 0.5425327711778104, -1.150421084363576, 0.5135457245087396, -1.321111295035442, -1.1114269353719264, -0.5482860723138663, -0.3826233020610873, 1.8945668683576136, -0.7515833234081605, 1.283833326285015, -0.8275993454656554, 0.12838341498868214, 0.8403329131702698, 0.17060824519329876, -0.30011765035326887, 0.4854545829024947, -1.8911154724785426, 1.1917266999118605, 2.10723855258812, 0.3049749458737713, 0.8629112602491235, 1.3330630415456524, 0.20595123957798286, 1.134227029379625, -0.6242571940611776, 0.8833618491795998, 0.21596464385150554, 0.23418253153394541, 0.07659354311937588, -0.6967684344050352, 0.3333750596807909, -0.4808972157811444, -0.4159007897049626, -1.4005464146445767, 1.2344271956283603, -0.3076470278751892, -0.8955674379768139, 0.30926774929739015, 0.6297600251903708, 1.7990748884496843, -0.5778543973249138, -0.335489100776331, 1.0191314191159482, -0.24034705593365235, -0.6240939115662526, -0.1785435178941472, -0.0032633320920254657, -1.505027767445995, 0.07444195095500496, -1.1804303602380004, -1.6787581401627665, 1.548182150258975, -1.142038892624844, -1.1590141809540022, 2.205301029707225, -1.7082026370724346, -0.4522905464781231, -1.560559469274855, -1.272695536524901, 1.7508925284907684, 0.265320949621517, -0.19252060791086, -0.0032326746137167433, -0.6622006488014425, -1.459023071543362, 0.40990808542328505, 0.17859359274457023, -0.46530176905928394, 1.3943541030179492, 0.5864037378850627, 0.6072339357545016, 0.14416285070077703, 0.9317279671975461, 0.5854298942901607, -1.4156750489248187, -0.5402684261429752, 1.2560099479342928, -0.6501632557247102, -1.5112492067267687, -0.05218975454021778, 0.41239328991222945, 0.5445250929155341, 0.37996094849536, -1.9119546395647826, 0.709352415504824, -0.09305523635944245, 0.3206055887521061, 0.2200818497447563, 0.3946196674990109, 0.5530028946009807, 1.4197216025804544, -0.5057009939104495, 0.9786812076343843, 0.7802124003868645, 0.21398415474113802, -0.7621475066145035, 0.3572791397580236], \"yaxis\": \"y14\"}, {\"line\": {\"color\": \"rgba(128, 128, 128, 1.0)\", \"dash\": \"solid\", \"shape\": \"linear\", \"width\": 1.3}, \"marker\": {\"size\": 2, \"symbol\": \"circle\"}, \"mode\": \"markers\", \"name\": \"D\", \"text\": \"\", \"type\": \"scatter\", \"x\": [0.7171100537947829, -0.6705043942082773, 0.31089544958537835, -0.5043338553673823, -0.9742934286592914, -0.1733077424089138, 0.40273899477371145, -0.6353727131784702, 0.6799008398905035, 0.29401464110270065, -1.375383559586756, -0.6647087831656143, 1.6878695232537342, -0.6775008445543156, 0.06392053534539674, -0.10491907377723063, -1.7116153418750857, 0.9132426243282985, 0.3274138137400342, -1.1210504061662332, -0.6791126142611109, 0.1885879389467673, 0.3909779275251414, -0.9288957049944576, -2.7577958831534803, -1.2785164155839637, 0.5621501801073486, 1.7610820566494194, -0.21618981557249262, -0.5388315352174506, -0.18319484127549743, -1.2832271004863351, 2.6350522687278297, 0.527329557007783, 2.0859269989831413, 1.3173174640212095, 0.06019145113004047, 0.2803281571923362, 0.12137096803749506, -0.7595620995669927, 0.8063272411837533, 0.3454677919922995, -1.5144978373390645, 0.9098287486379316, -0.473253461076539, 0.2546361718204737, -0.35631102763063105, -0.6560096359506616, -1.1504116315618926, -1.8092297541955427, 0.3728890371817506, -0.3768972461695595, 0.8618457937312982, 0.9327747362965856, -0.0002969481683752328, -0.8025540412798581, -1.360758773697659, 0.42442110317748133, 0.5102958163011305, -1.1621362462104412, 1.93438554911377, 0.38054893117410227, 0.4483119979873048, -0.1570420000950534, -0.47460728642647093, -0.3303592140332204, -0.3064263804028798, 1.835841696252868, 1.1173094754592006, 1.5250387129796623, -0.057291305693003565, -0.1277431798795453, -0.42379062111402, 1.3036894405310675, 0.5069626545732473, -0.6490656729012979, 0.8428305032262942, 1.9077142030202825, 0.6380603845203026, -0.5103004666672093, 0.11796286832900063, -1.1643156350132926, 0.8119996821846642, 0.5159794791484065, 1.1318910776205982, 0.8570045052237849, -0.3304934378727535, -0.4294680263145168, 0.7986529969396823, -0.9811302866659917, -0.38656570749482927, -1.0466307421303616, -1.8336662239594692, -1.1901951766741279, 0.3101164589901357, -0.2205163030743878, 0.09272998727655567, -0.07627106087898423, 0.35305705832500406, 1.7536382042482186], \"xaxis\": \"x15\", \"y\": [1.5944141224570951, -1.4422217718810517, -0.6775056248359165, 0.5425327711778104, -1.150421084363576, 0.5135457245087396, -1.321111295035442, -1.1114269353719264, -0.5482860723138663, -0.3826233020610873, 1.8945668683576136, -0.7515833234081605, 1.283833326285015, -0.8275993454656554, 0.12838341498868214, 0.8403329131702698, 0.17060824519329876, -0.30011765035326887, 0.4854545829024947, -1.8911154724785426, 1.1917266999118605, 2.10723855258812, 0.3049749458737713, 0.8629112602491235, 1.3330630415456524, 0.20595123957798286, 1.134227029379625, -0.6242571940611776, 0.8833618491795998, 0.21596464385150554, 0.23418253153394541, 0.07659354311937588, -0.6967684344050352, 0.3333750596807909, -0.4808972157811444, -0.4159007897049626, -1.4005464146445767, 1.2344271956283603, -0.3076470278751892, -0.8955674379768139, 0.30926774929739015, 0.6297600251903708, 1.7990748884496843, -0.5778543973249138, -0.335489100776331, 1.0191314191159482, -0.24034705593365235, -0.6240939115662526, -0.1785435178941472, -0.0032633320920254657, -1.505027767445995, 0.07444195095500496, -1.1804303602380004, -1.6787581401627665, 1.548182150258975, -1.142038892624844, -1.1590141809540022, 2.205301029707225, -1.7082026370724346, -0.4522905464781231, -1.560559469274855, -1.272695536524901, 1.7508925284907684, 0.265320949621517, -0.19252060791086, -0.0032326746137167433, -0.6622006488014425, -1.459023071543362, 0.40990808542328505, 0.17859359274457023, -0.46530176905928394, 1.3943541030179492, 0.5864037378850627, 0.6072339357545016, 0.14416285070077703, 0.9317279671975461, 0.5854298942901607, -1.4156750489248187, -0.5402684261429752, 1.2560099479342928, -0.6501632557247102, -1.5112492067267687, -0.05218975454021778, 0.41239328991222945, 0.5445250929155341, 0.37996094849536, -1.9119546395647826, 0.709352415504824, -0.09305523635944245, 0.3206055887521061, 0.2200818497447563, 0.3946196674990109, 0.5530028946009807, 1.4197216025804544, -0.5057009939104495, 0.9786812076343843, 0.7802124003868645, 0.21398415474113802, -0.7621475066145035, 0.3572791397580236], \"yaxis\": \"y15\"}, {\"histfunc\": \"count\", \"histnorm\": \"\", \"marker\": {\"color\": \"rgba(128, 0, 128, 1.0)\", \"line\": {\"color\": \"#4D5663\", \"width\": 1.3}}, \"name\": \"D\", \"nbinsx\": 10, \"opacity\": 0.8, \"orientation\": \"v\", \"type\": \"histogram\", \"x\": [1.5944141224570951, -1.4422217718810517, -0.6775056248359165, 0.5425327711778104, -1.150421084363576, 0.5135457245087396, -1.321111295035442, -1.1114269353719264, -0.5482860723138663, -0.3826233020610873, 1.8945668683576136, -0.7515833234081605, 1.283833326285015, -0.8275993454656554, 0.12838341498868214, 0.8403329131702698, 0.17060824519329876, -0.30011765035326887, 0.4854545829024947, -1.8911154724785426, 1.1917266999118605, 2.10723855258812, 0.3049749458737713, 0.8629112602491235, 1.3330630415456524, 0.20595123957798286, 1.134227029379625, -0.6242571940611776, 0.8833618491795998, 0.21596464385150554, 0.23418253153394541, 0.07659354311937588, -0.6967684344050352, 0.3333750596807909, -0.4808972157811444, -0.4159007897049626, -1.4005464146445767, 1.2344271956283603, -0.3076470278751892, -0.8955674379768139, 0.30926774929739015, 0.6297600251903708, 1.7990748884496843, -0.5778543973249138, -0.335489100776331, 1.0191314191159482, -0.24034705593365235, -0.6240939115662526, -0.1785435178941472, -0.0032633320920254657, -1.505027767445995, 0.07444195095500496, -1.1804303602380004, -1.6787581401627665, 1.548182150258975, -1.142038892624844, -1.1590141809540022, 2.205301029707225, -1.7082026370724346, -0.4522905464781231, -1.560559469274855, -1.272695536524901, 1.7508925284907684, 0.265320949621517, -0.19252060791086, -0.0032326746137167433, -0.6622006488014425, -1.459023071543362, 0.40990808542328505, 0.17859359274457023, -0.46530176905928394, 1.3943541030179492, 0.5864037378850627, 0.6072339357545016, 0.14416285070077703, 0.9317279671975461, 0.5854298942901607, -1.4156750489248187, -0.5402684261429752, 1.2560099479342928, -0.6501632557247102, -1.5112492067267687, -0.05218975454021778, 0.41239328991222945, 0.5445250929155341, 0.37996094849536, -1.9119546395647826, 0.709352415504824, -0.09305523635944245, 0.3206055887521061, 0.2200818497447563, 0.3946196674990109, 0.5530028946009807, 1.4197216025804544, -0.5057009939104495, 0.9786812076343843, 0.7802124003868645, 0.21398415474113802, -0.7621475066145035, 0.3572791397580236], \"xaxis\": \"x16\", \"yaxis\": \"y16\"}],\n",
       "                        {\"bargap\": 0.02, \"legend\": {\"bgcolor\": \"#F5F6F9\", \"font\": {\"color\": \"#4D5663\"}}, \"paper_bgcolor\": \"#F5F6F9\", \"plot_bgcolor\": \"#F5F6F9\", \"showlegend\": false, \"template\": {\"data\": {\"bar\": [{\"error_x\": {\"color\": \"#2a3f5f\"}, \"error_y\": {\"color\": \"#2a3f5f\"}, \"marker\": {\"line\": {\"color\": \"#E5ECF6\", \"width\": 0.5}}, \"type\": \"bar\"}], \"barpolar\": [{\"marker\": {\"line\": {\"color\": \"#E5ECF6\", \"width\": 0.5}}, \"type\": \"barpolar\"}], \"carpet\": [{\"aaxis\": {\"endlinecolor\": \"#2a3f5f\", \"gridcolor\": \"white\", \"linecolor\": \"white\", \"minorgridcolor\": \"white\", \"startlinecolor\": \"#2a3f5f\"}, \"baxis\": {\"endlinecolor\": \"#2a3f5f\", \"gridcolor\": \"white\", \"linecolor\": \"white\", \"minorgridcolor\": \"white\", \"startlinecolor\": \"#2a3f5f\"}, \"type\": \"carpet\"}], \"choropleth\": [{\"colorbar\": {\"outlinewidth\": 0, \"ticks\": \"\"}, \"type\": \"choropleth\"}], \"contour\": [{\"colorbar\": {\"outlinewidth\": 0, \"ticks\": \"\"}, \"colorscale\": [[0.0, \"#0d0887\"], [0.1111111111111111, \"#46039f\"], [0.2222222222222222, \"#7201a8\"], [0.3333333333333333, \"#9c179e\"], [0.4444444444444444, \"#bd3786\"], [0.5555555555555556, \"#d8576b\"], [0.6666666666666666, \"#ed7953\"], [0.7777777777777778, \"#fb9f3a\"], [0.8888888888888888, \"#fdca26\"], [1.0, \"#f0f921\"]], \"type\": \"contour\"}], \"contourcarpet\": [{\"colorbar\": {\"outlinewidth\": 0, \"ticks\": \"\"}, \"type\": \"contourcarpet\"}], \"heatmap\": [{\"colorbar\": {\"outlinewidth\": 0, \"ticks\": \"\"}, \"colorscale\": [[0.0, \"#0d0887\"], [0.1111111111111111, \"#46039f\"], [0.2222222222222222, \"#7201a8\"], [0.3333333333333333, \"#9c179e\"], [0.4444444444444444, \"#bd3786\"], [0.5555555555555556, \"#d8576b\"], [0.6666666666666666, \"#ed7953\"], [0.7777777777777778, \"#fb9f3a\"], [0.8888888888888888, \"#fdca26\"], [1.0, \"#f0f921\"]], \"type\": \"heatmap\"}], \"heatmapgl\": [{\"colorbar\": {\"outlinewidth\": 0, \"ticks\": \"\"}, \"colorscale\": [[0.0, \"#0d0887\"], [0.1111111111111111, \"#46039f\"], [0.2222222222222222, \"#7201a8\"], [0.3333333333333333, \"#9c179e\"], [0.4444444444444444, \"#bd3786\"], [0.5555555555555556, \"#d8576b\"], [0.6666666666666666, \"#ed7953\"], [0.7777777777777778, \"#fb9f3a\"], [0.8888888888888888, \"#fdca26\"], [1.0, \"#f0f921\"]], \"type\": \"heatmapgl\"}], \"histogram\": [{\"marker\": {\"colorbar\": {\"outlinewidth\": 0, \"ticks\": \"\"}}, \"type\": \"histogram\"}], \"histogram2d\": [{\"colorbar\": {\"outlinewidth\": 0, \"ticks\": \"\"}, \"colorscale\": [[0.0, \"#0d0887\"], [0.1111111111111111, \"#46039f\"], [0.2222222222222222, \"#7201a8\"], [0.3333333333333333, \"#9c179e\"], [0.4444444444444444, \"#bd3786\"], [0.5555555555555556, \"#d8576b\"], [0.6666666666666666, \"#ed7953\"], [0.7777777777777778, \"#fb9f3a\"], [0.8888888888888888, \"#fdca26\"], [1.0, \"#f0f921\"]], \"type\": \"histogram2d\"}], \"histogram2dcontour\": [{\"colorbar\": {\"outlinewidth\": 0, \"ticks\": \"\"}, \"colorscale\": [[0.0, \"#0d0887\"], [0.1111111111111111, \"#46039f\"], [0.2222222222222222, \"#7201a8\"], [0.3333333333333333, \"#9c179e\"], [0.4444444444444444, \"#bd3786\"], [0.5555555555555556, \"#d8576b\"], [0.6666666666666666, \"#ed7953\"], [0.7777777777777778, \"#fb9f3a\"], [0.8888888888888888, \"#fdca26\"], [1.0, \"#f0f921\"]], \"type\": \"histogram2dcontour\"}], \"mesh3d\": [{\"colorbar\": {\"outlinewidth\": 0, \"ticks\": \"\"}, \"type\": \"mesh3d\"}], \"parcoords\": [{\"line\": {\"colorbar\": {\"outlinewidth\": 0, \"ticks\": \"\"}}, \"type\": \"parcoords\"}], \"pie\": [{\"automargin\": true, \"type\": \"pie\"}], \"scatter\": [{\"marker\": {\"colorbar\": {\"outlinewidth\": 0, \"ticks\": \"\"}}, \"type\": \"scatter\"}], \"scatter3d\": [{\"line\": {\"colorbar\": {\"outlinewidth\": 0, \"ticks\": \"\"}}, \"marker\": {\"colorbar\": {\"outlinewidth\": 0, \"ticks\": \"\"}}, \"type\": \"scatter3d\"}], \"scattercarpet\": [{\"marker\": {\"colorbar\": {\"outlinewidth\": 0, \"ticks\": \"\"}}, \"type\": \"scattercarpet\"}], \"scattergeo\": [{\"marker\": {\"colorbar\": {\"outlinewidth\": 0, \"ticks\": \"\"}}, \"type\": \"scattergeo\"}], \"scattergl\": [{\"marker\": {\"colorbar\": {\"outlinewidth\": 0, \"ticks\": \"\"}}, \"type\": \"scattergl\"}], \"scattermapbox\": [{\"marker\": {\"colorbar\": {\"outlinewidth\": 0, \"ticks\": \"\"}}, \"type\": \"scattermapbox\"}], \"scatterpolar\": [{\"marker\": {\"colorbar\": {\"outlinewidth\": 0, \"ticks\": \"\"}}, \"type\": \"scatterpolar\"}], \"scatterpolargl\": [{\"marker\": {\"colorbar\": {\"outlinewidth\": 0, \"ticks\": \"\"}}, \"type\": \"scatterpolargl\"}], \"scatterternary\": [{\"marker\": {\"colorbar\": {\"outlinewidth\": 0, \"ticks\": \"\"}}, \"type\": \"scatterternary\"}], \"surface\": [{\"colorbar\": {\"outlinewidth\": 0, \"ticks\": \"\"}, \"colorscale\": [[0.0, \"#0d0887\"], [0.1111111111111111, \"#46039f\"], [0.2222222222222222, \"#7201a8\"], [0.3333333333333333, \"#9c179e\"], [0.4444444444444444, \"#bd3786\"], [0.5555555555555556, \"#d8576b\"], [0.6666666666666666, \"#ed7953\"], [0.7777777777777778, \"#fb9f3a\"], [0.8888888888888888, \"#fdca26\"], [1.0, \"#f0f921\"]], \"type\": \"surface\"}], \"table\": [{\"cells\": {\"fill\": {\"color\": \"#EBF0F8\"}, \"line\": {\"color\": \"white\"}}, \"header\": {\"fill\": {\"color\": \"#C8D4E3\"}, \"line\": {\"color\": \"white\"}}, \"type\": \"table\"}]}, \"layout\": {\"annotationdefaults\": {\"arrowcolor\": \"#2a3f5f\", \"arrowhead\": 0, \"arrowwidth\": 1}, \"coloraxis\": {\"colorbar\": {\"outlinewidth\": 0, \"ticks\": \"\"}}, \"colorscale\": {\"diverging\": [[0, \"#8e0152\"], [0.1, \"#c51b7d\"], [0.2, \"#de77ae\"], [0.3, \"#f1b6da\"], [0.4, \"#fde0ef\"], [0.5, \"#f7f7f7\"], [0.6, \"#e6f5d0\"], [0.7, \"#b8e186\"], [0.8, \"#7fbc41\"], [0.9, \"#4d9221\"], [1, \"#276419\"]], \"sequential\": [[0.0, \"#0d0887\"], [0.1111111111111111, \"#46039f\"], [0.2222222222222222, \"#7201a8\"], [0.3333333333333333, \"#9c179e\"], [0.4444444444444444, \"#bd3786\"], [0.5555555555555556, \"#d8576b\"], [0.6666666666666666, \"#ed7953\"], [0.7777777777777778, \"#fb9f3a\"], [0.8888888888888888, \"#fdca26\"], [1.0, \"#f0f921\"]], \"sequentialminus\": [[0.0, \"#0d0887\"], [0.1111111111111111, \"#46039f\"], [0.2222222222222222, \"#7201a8\"], [0.3333333333333333, \"#9c179e\"], [0.4444444444444444, \"#bd3786\"], [0.5555555555555556, \"#d8576b\"], [0.6666666666666666, \"#ed7953\"], [0.7777777777777778, \"#fb9f3a\"], [0.8888888888888888, \"#fdca26\"], [1.0, \"#f0f921\"]]}, \"colorway\": [\"#636efa\", \"#EF553B\", \"#00cc96\", \"#ab63fa\", \"#FFA15A\", \"#19d3f3\", \"#FF6692\", \"#B6E880\", \"#FF97FF\", \"#FECB52\"], \"font\": {\"color\": \"#2a3f5f\"}, \"geo\": {\"bgcolor\": \"white\", \"lakecolor\": \"white\", \"landcolor\": \"#E5ECF6\", \"showlakes\": true, \"showland\": true, \"subunitcolor\": \"white\"}, \"hoverlabel\": {\"align\": \"left\"}, \"hovermode\": \"closest\", \"mapbox\": {\"style\": \"light\"}, \"paper_bgcolor\": \"white\", \"plot_bgcolor\": \"#E5ECF6\", \"polar\": {\"angularaxis\": {\"gridcolor\": \"white\", \"linecolor\": \"white\", \"ticks\": \"\"}, \"bgcolor\": \"#E5ECF6\", \"radialaxis\": {\"gridcolor\": \"white\", \"linecolor\": \"white\", \"ticks\": \"\"}}, \"scene\": {\"xaxis\": {\"backgroundcolor\": \"#E5ECF6\", \"gridcolor\": \"white\", \"gridwidth\": 2, \"linecolor\": \"white\", \"showbackground\": true, \"ticks\": \"\", \"zerolinecolor\": \"white\"}, \"yaxis\": {\"backgroundcolor\": \"#E5ECF6\", \"gridcolor\": \"white\", \"gridwidth\": 2, \"linecolor\": \"white\", \"showbackground\": true, \"ticks\": \"\", \"zerolinecolor\": \"white\"}, \"zaxis\": {\"backgroundcolor\": \"#E5ECF6\", \"gridcolor\": \"white\", \"gridwidth\": 2, \"linecolor\": \"white\", \"showbackground\": true, \"ticks\": \"\", \"zerolinecolor\": \"white\"}}, \"shapedefaults\": {\"line\": {\"color\": \"#2a3f5f\"}}, \"ternary\": {\"aaxis\": {\"gridcolor\": \"white\", \"linecolor\": \"white\", \"ticks\": \"\"}, \"baxis\": {\"gridcolor\": \"white\", \"linecolor\": \"white\", \"ticks\": \"\"}, \"bgcolor\": \"#E5ECF6\", \"caxis\": {\"gridcolor\": \"white\", \"linecolor\": \"white\", \"ticks\": \"\"}}, \"title\": {\"x\": 0.05}, \"xaxis\": {\"automargin\": true, \"gridcolor\": \"white\", \"linecolor\": \"white\", \"ticks\": \"\", \"title\": {\"standoff\": 15}, \"zerolinecolor\": \"white\", \"zerolinewidth\": 2}, \"yaxis\": {\"automargin\": true, \"gridcolor\": \"white\", \"linecolor\": \"white\", \"ticks\": \"\", \"title\": {\"standoff\": 15}, \"zerolinecolor\": \"white\", \"zerolinewidth\": 2}}}, \"title\": {\"font\": {\"color\": \"#4D5663\"}}, \"xaxis\": {\"anchor\": \"y\", \"domain\": [0.0, 0.2125], \"gridcolor\": \"#E1E5ED\", \"showgrid\": false, \"tickfont\": {\"color\": \"#4D5663\"}, \"title\": {\"font\": {\"color\": \"#4D5663\"}, \"text\": \"\"}, \"zerolinecolor\": \"#E1E5ED\"}, \"xaxis10\": {\"anchor\": \"y10\", \"domain\": [0.2625, 0.475], \"gridcolor\": \"#E1E5ED\", \"showgrid\": false, \"tickfont\": {\"color\": \"#4D5663\"}, \"title\": {\"font\": {\"color\": \"#4D5663\"}, \"text\": \"\"}, \"zerolinecolor\": \"#E1E5ED\"}, \"xaxis11\": {\"anchor\": \"y11\", \"domain\": [0.525, 0.7375], \"gridcolor\": \"#E1E5ED\", \"showgrid\": false, \"tickfont\": {\"color\": \"#4D5663\"}, \"title\": {\"font\": {\"color\": \"#4D5663\"}, \"text\": \"\"}, \"zerolinecolor\": \"#E1E5ED\"}, \"xaxis12\": {\"anchor\": \"y12\", \"domain\": [0.7875, 1.0], \"gridcolor\": \"#E1E5ED\", \"showgrid\": false, \"tickfont\": {\"color\": \"#4D5663\"}, \"title\": {\"font\": {\"color\": \"#4D5663\"}, \"text\": \"\"}, \"zerolinecolor\": \"#E1E5ED\"}, \"xaxis13\": {\"anchor\": \"y13\", \"domain\": [0.0, 0.2125], \"gridcolor\": \"#E1E5ED\", \"showgrid\": false, \"tickfont\": {\"color\": \"#4D5663\"}, \"title\": {\"font\": {\"color\": \"#4D5663\"}, \"text\": \"\"}, \"zerolinecolor\": \"#E1E5ED\"}, \"xaxis14\": {\"anchor\": \"y14\", \"domain\": [0.2625, 0.475], \"gridcolor\": \"#E1E5ED\", \"showgrid\": false, \"tickfont\": {\"color\": \"#4D5663\"}, \"title\": {\"font\": {\"color\": \"#4D5663\"}, \"text\": \"\"}, \"zerolinecolor\": \"#E1E5ED\"}, \"xaxis15\": {\"anchor\": \"y15\", \"domain\": [0.525, 0.7375], \"gridcolor\": \"#E1E5ED\", \"showgrid\": false, \"tickfont\": {\"color\": \"#4D5663\"}, \"title\": {\"font\": {\"color\": \"#4D5663\"}, \"text\": \"\"}, \"zerolinecolor\": \"#E1E5ED\"}, \"xaxis16\": {\"anchor\": \"y16\", \"domain\": [0.7875, 1.0], \"gridcolor\": \"#E1E5ED\", \"showgrid\": false, \"tickfont\": {\"color\": \"#4D5663\"}, \"title\": {\"font\": {\"color\": \"#4D5663\"}, \"text\": \"\"}, \"zerolinecolor\": \"#E1E5ED\"}, \"xaxis2\": {\"anchor\": \"y2\", \"domain\": [0.2625, 0.475], \"gridcolor\": \"#E1E5ED\", \"showgrid\": false, \"tickfont\": {\"color\": \"#4D5663\"}, \"title\": {\"font\": {\"color\": \"#4D5663\"}, \"text\": \"\"}, \"zerolinecolor\": \"#E1E5ED\"}, \"xaxis3\": {\"anchor\": \"y3\", \"domain\": [0.525, 0.7375], \"gridcolor\": \"#E1E5ED\", \"showgrid\": false, \"tickfont\": {\"color\": \"#4D5663\"}, \"title\": {\"font\": {\"color\": \"#4D5663\"}, \"text\": \"\"}, \"zerolinecolor\": \"#E1E5ED\"}, \"xaxis4\": {\"anchor\": \"y4\", \"domain\": [0.7875, 1.0], \"gridcolor\": \"#E1E5ED\", \"showgrid\": false, \"tickfont\": {\"color\": \"#4D5663\"}, \"title\": {\"font\": {\"color\": \"#4D5663\"}, \"text\": \"\"}, \"zerolinecolor\": \"#E1E5ED\"}, \"xaxis5\": {\"anchor\": \"y5\", \"domain\": [0.0, 0.2125], \"gridcolor\": \"#E1E5ED\", \"showgrid\": false, \"tickfont\": {\"color\": \"#4D5663\"}, \"title\": {\"font\": {\"color\": \"#4D5663\"}, \"text\": \"\"}, \"zerolinecolor\": \"#E1E5ED\"}, \"xaxis6\": {\"anchor\": \"y6\", \"domain\": [0.2625, 0.475], \"gridcolor\": \"#E1E5ED\", \"showgrid\": false, \"tickfont\": {\"color\": \"#4D5663\"}, \"title\": {\"font\": {\"color\": \"#4D5663\"}, \"text\": \"\"}, \"zerolinecolor\": \"#E1E5ED\"}, \"xaxis7\": {\"anchor\": \"y7\", \"domain\": [0.525, 0.7375], \"gridcolor\": \"#E1E5ED\", \"showgrid\": false, \"tickfont\": {\"color\": \"#4D5663\"}, \"title\": {\"font\": {\"color\": \"#4D5663\"}, \"text\": \"\"}, \"zerolinecolor\": \"#E1E5ED\"}, \"xaxis8\": {\"anchor\": \"y8\", \"domain\": [0.7875, 1.0], \"gridcolor\": \"#E1E5ED\", \"showgrid\": false, \"tickfont\": {\"color\": \"#4D5663\"}, \"title\": {\"font\": {\"color\": \"#4D5663\"}, \"text\": \"\"}, \"zerolinecolor\": \"#E1E5ED\"}, \"xaxis9\": {\"anchor\": \"y9\", \"domain\": [0.0, 0.2125], \"gridcolor\": \"#E1E5ED\", \"showgrid\": false, \"tickfont\": {\"color\": \"#4D5663\"}, \"title\": {\"font\": {\"color\": \"#4D5663\"}, \"text\": \"\"}, \"zerolinecolor\": \"#E1E5ED\"}, \"yaxis\": {\"anchor\": \"x\", \"domain\": [0.8025, 1.0], \"gridcolor\": \"#E1E5ED\", \"showgrid\": false, \"tickfont\": {\"color\": \"#4D5663\"}, \"title\": {\"font\": {\"color\": \"#4D5663\"}, \"text\": \"\"}, \"zerolinecolor\": \"#E1E5ED\"}, \"yaxis10\": {\"anchor\": \"x10\", \"domain\": [0.2675, 0.465], \"gridcolor\": \"#E1E5ED\", \"showgrid\": false, \"tickfont\": {\"color\": \"#4D5663\"}, \"title\": {\"font\": {\"color\": \"#4D5663\"}, \"text\": \"\"}, \"zerolinecolor\": \"#E1E5ED\"}, \"yaxis11\": {\"anchor\": \"x11\", \"domain\": [0.2675, 0.465], \"gridcolor\": \"#E1E5ED\", \"showgrid\": false, \"tickfont\": {\"color\": \"#4D5663\"}, \"title\": {\"font\": {\"color\": \"#4D5663\"}, \"text\": \"\"}, \"zerolinecolor\": \"#E1E5ED\"}, \"yaxis12\": {\"anchor\": \"x12\", \"domain\": [0.2675, 0.465], \"gridcolor\": \"#E1E5ED\", \"showgrid\": false, \"tickfont\": {\"color\": \"#4D5663\"}, \"title\": {\"font\": {\"color\": \"#4D5663\"}, \"text\": \"\"}, \"zerolinecolor\": \"#E1E5ED\"}, \"yaxis13\": {\"anchor\": \"x13\", \"domain\": [0.0, 0.1975], \"gridcolor\": \"#E1E5ED\", \"showgrid\": false, \"tickfont\": {\"color\": \"#4D5663\"}, \"title\": {\"font\": {\"color\": \"#4D5663\"}, \"text\": \"\"}, \"zerolinecolor\": \"#E1E5ED\"}, \"yaxis14\": {\"anchor\": \"x14\", \"domain\": [0.0, 0.1975], \"gridcolor\": \"#E1E5ED\", \"showgrid\": false, \"tickfont\": {\"color\": \"#4D5663\"}, \"title\": {\"font\": {\"color\": \"#4D5663\"}, \"text\": \"\"}, \"zerolinecolor\": \"#E1E5ED\"}, \"yaxis15\": {\"anchor\": \"x15\", \"domain\": [0.0, 0.1975], \"gridcolor\": \"#E1E5ED\", \"showgrid\": false, \"tickfont\": {\"color\": \"#4D5663\"}, \"title\": {\"font\": {\"color\": \"#4D5663\"}, \"text\": \"\"}, \"zerolinecolor\": \"#E1E5ED\"}, \"yaxis16\": {\"anchor\": \"x16\", \"domain\": [0.0, 0.1975], \"gridcolor\": \"#E1E5ED\", \"showgrid\": false, \"tickfont\": {\"color\": \"#4D5663\"}, \"title\": {\"font\": {\"color\": \"#4D5663\"}, \"text\": \"\"}, \"zerolinecolor\": \"#E1E5ED\"}, \"yaxis2\": {\"anchor\": \"x2\", \"domain\": [0.8025, 1.0], \"gridcolor\": \"#E1E5ED\", \"showgrid\": false, \"tickfont\": {\"color\": \"#4D5663\"}, \"title\": {\"font\": {\"color\": \"#4D5663\"}, \"text\": \"\"}, \"zerolinecolor\": \"#E1E5ED\"}, \"yaxis3\": {\"anchor\": \"x3\", \"domain\": [0.8025, 1.0], \"gridcolor\": \"#E1E5ED\", \"showgrid\": false, \"tickfont\": {\"color\": \"#4D5663\"}, \"title\": {\"font\": {\"color\": \"#4D5663\"}, \"text\": \"\"}, \"zerolinecolor\": \"#E1E5ED\"}, \"yaxis4\": {\"anchor\": \"x4\", \"domain\": [0.8025, 1.0], \"gridcolor\": \"#E1E5ED\", \"showgrid\": false, \"tickfont\": {\"color\": \"#4D5663\"}, \"title\": {\"font\": {\"color\": \"#4D5663\"}, \"text\": \"\"}, \"zerolinecolor\": \"#E1E5ED\"}, \"yaxis5\": {\"anchor\": \"x5\", \"domain\": [0.535, 0.7325], \"gridcolor\": \"#E1E5ED\", \"showgrid\": false, \"tickfont\": {\"color\": \"#4D5663\"}, \"title\": {\"font\": {\"color\": \"#4D5663\"}, \"text\": \"\"}, \"zerolinecolor\": \"#E1E5ED\"}, \"yaxis6\": {\"anchor\": \"x6\", \"domain\": [0.535, 0.7325], \"gridcolor\": \"#E1E5ED\", \"showgrid\": false, \"tickfont\": {\"color\": \"#4D5663\"}, \"title\": {\"font\": {\"color\": \"#4D5663\"}, \"text\": \"\"}, \"zerolinecolor\": \"#E1E5ED\"}, \"yaxis7\": {\"anchor\": \"x7\", \"domain\": [0.535, 0.7325], \"gridcolor\": \"#E1E5ED\", \"showgrid\": false, \"tickfont\": {\"color\": \"#4D5663\"}, \"title\": {\"font\": {\"color\": \"#4D5663\"}, \"text\": \"\"}, \"zerolinecolor\": \"#E1E5ED\"}, \"yaxis8\": {\"anchor\": \"x8\", \"domain\": [0.535, 0.7325], \"gridcolor\": \"#E1E5ED\", \"showgrid\": false, \"tickfont\": {\"color\": \"#4D5663\"}, \"title\": {\"font\": {\"color\": \"#4D5663\"}, \"text\": \"\"}, \"zerolinecolor\": \"#E1E5ED\"}, \"yaxis9\": {\"anchor\": \"x9\", \"domain\": [0.2675, 0.465], \"gridcolor\": \"#E1E5ED\", \"showgrid\": false, \"tickfont\": {\"color\": \"#4D5663\"}, \"title\": {\"font\": {\"color\": \"#4D5663\"}, \"text\": \"\"}, \"zerolinecolor\": \"#E1E5ED\"}},\n",
       "                        {\"showLink\": true, \"linkText\": \"Export to plot.ly\", \"plotlyServerURL\": \"https://plot.ly\", \"responsive\": true}\n",
       "                    ).then(function(){\n",
       "                            \n",
       "var gd = document.getElementById('0ebf72dd-982d-46de-bd59-6f2f5d3ed412');\n",
       "var x = new MutationObserver(function (mutations, observer) {{\n",
       "        var display = window.getComputedStyle(gd).display;\n",
       "        if (!display || display === 'none') {{\n",
       "            console.log([gd, 'removed!']);\n",
       "            Plotly.purge(gd);\n",
       "            observer.disconnect();\n",
       "        }}\n",
       "}});\n",
       "\n",
       "// Listen for the removal of the full notebook cells\n",
       "var notebookContainer = gd.closest('#notebook-container');\n",
       "if (notebookContainer) {{\n",
       "    x.observe(notebookContainer, {childList: true});\n",
       "}}\n",
       "\n",
       "// Listen for the clearing of the current output cell\n",
       "var outputEl = gd.closest('.output');\n",
       "if (outputEl) {{\n",
       "    x.observe(outputEl, {childList: true});\n",
       "}}\n",
       "\n",
       "                        })\n",
       "                };\n",
       "                });\n",
       "            </script>\n",
       "        </div>"
      ]
     },
     "metadata": {},
     "output_type": "display_data"
    }
   ],
   "source": [
    "df.scatter_matrix()"
   ]
  },
  {
   "cell_type": "code",
   "execution_count": null,
   "metadata": {},
   "outputs": [],
   "source": []
  }
 ],
 "metadata": {
  "kernelspec": {
   "display_name": "Python 3",
   "language": "python",
   "name": "python3"
  },
  "language_info": {
   "codemirror_mode": {
    "name": "ipython",
    "version": 3
   },
   "file_extension": ".py",
   "mimetype": "text/x-python",
   "name": "python",
   "nbconvert_exporter": "python",
   "pygments_lexer": "ipython3",
   "version": "3.7.6"
  }
 },
 "nbformat": 4,
 "nbformat_minor": 4
}
