{
 "cells": [
  {
   "cell_type": "markdown",
   "metadata": {},
   "source": [
    "# Plotly and cufflinks"
   ]
  },
  {
   "cell_type": "code",
   "execution_count": null,
   "metadata": {},
   "outputs": [],
   "source": [
    "Plotly is a"
   ]
  },
  {
   "cell_type": "code",
   "execution_count": null,
   "metadata": {},
   "outputs": [],
   "source": [
    "import numpy as np\n",
    "import pandas as pd"
   ]
  },
  {
   "cell_type": "code",
   "execution_count": 5,
   "metadata": {},
   "outputs": [],
   "source": [
    "from plotly import __version__"
   ]
  },
  {
   "cell_type": "code",
   "execution_count": 6,
   "metadata": {},
   "outputs": [],
   "source": [
    "import cufflinks as cf"
   ]
  },
  {
   "cell_type": "code",
   "execution_count": 9,
   "metadata": {},
   "outputs": [],
   "source": [
    "from plotly.offline import download_plotlyjs,init_notebook_mode,plot,iplot"
   ]
  },
  {
   "cell_type": "code",
   "execution_count": 10,
   "metadata": {},
   "outputs": [
    {
     "data": {
      "text/html": [
       "        <script type=\"text/javascript\">\n",
       "        window.PlotlyConfig = {MathJaxConfig: 'local'};\n",
       "        if (window.MathJax) {MathJax.Hub.Config({SVG: {font: \"STIX-Web\"}});}\n",
       "        if (typeof require !== 'undefined') {\n",
       "        require.undef(\"plotly\");\n",
       "        requirejs.config({\n",
       "            paths: {\n",
       "                'plotly': ['https://cdn.plot.ly/plotly-latest.min']\n",
       "            }\n",
       "        });\n",
       "        require(['plotly'], function(Plotly) {\n",
       "            window._Plotly = Plotly;\n",
       "        });\n",
       "        }\n",
       "        </script>\n",
       "        "
      ]
     },
     "metadata": {},
     "output_type": "display_data"
    }
   ],
   "source": [
    "init_notebook_mode(connected=True)"
   ]
  },
  {
   "cell_type": "code",
   "execution_count": 11,
   "metadata": {},
   "outputs": [
    {
     "data": {
      "text/html": [
       "        <script type=\"text/javascript\">\n",
       "        window.PlotlyConfig = {MathJaxConfig: 'local'};\n",
       "        if (window.MathJax) {MathJax.Hub.Config({SVG: {font: \"STIX-Web\"}});}\n",
       "        if (typeof require !== 'undefined') {\n",
       "        require.undef(\"plotly\");\n",
       "        requirejs.config({\n",
       "            paths: {\n",
       "                'plotly': ['https://cdn.plot.ly/plotly-latest.min']\n",
       "            }\n",
       "        });\n",
       "        require(['plotly'], function(Plotly) {\n",
       "            window._Plotly = Plotly;\n",
       "        });\n",
       "        }\n",
       "        </script>\n",
       "        "
      ]
     },
     "metadata": {},
     "output_type": "display_data"
    }
   ],
   "source": [
    "cf.go_offline()"
   ]
  },
  {
   "cell_type": "code",
   "execution_count": 12,
   "metadata": {},
   "outputs": [],
   "source": [
    "#Data\n",
    "df=pd.DataFrame(np.random.randn(100,4),columns='A B C D'.split())"
   ]
  },
  {
   "cell_type": "code",
   "execution_count": 13,
   "metadata": {},
   "outputs": [
    {
     "data": {
      "text/html": [
       "<div>\n",
       "<style scoped>\n",
       "    .dataframe tbody tr th:only-of-type {\n",
       "        vertical-align: middle;\n",
       "    }\n",
       "\n",
       "    .dataframe tbody tr th {\n",
       "        vertical-align: top;\n",
       "    }\n",
       "\n",
       "    .dataframe thead th {\n",
       "        text-align: right;\n",
       "    }\n",
       "</style>\n",
       "<table border=\"1\" class=\"dataframe\">\n",
       "  <thead>\n",
       "    <tr style=\"text-align: right;\">\n",
       "      <th></th>\n",
       "      <th>A</th>\n",
       "      <th>B</th>\n",
       "      <th>C</th>\n",
       "      <th>D</th>\n",
       "    </tr>\n",
       "  </thead>\n",
       "  <tbody>\n",
       "    <tr>\n",
       "      <th>0</th>\n",
       "      <td>1.502356</td>\n",
       "      <td>-0.141299</td>\n",
       "      <td>0.406013</td>\n",
       "      <td>-1.384134</td>\n",
       "    </tr>\n",
       "    <tr>\n",
       "      <th>1</th>\n",
       "      <td>0.408763</td>\n",
       "      <td>0.111553</td>\n",
       "      <td>-0.798250</td>\n",
       "      <td>1.627904</td>\n",
       "    </tr>\n",
       "    <tr>\n",
       "      <th>2</th>\n",
       "      <td>1.599320</td>\n",
       "      <td>1.745320</td>\n",
       "      <td>1.123602</td>\n",
       "      <td>-0.929982</td>\n",
       "    </tr>\n",
       "    <tr>\n",
       "      <th>3</th>\n",
       "      <td>-0.521512</td>\n",
       "      <td>-0.814400</td>\n",
       "      <td>0.405805</td>\n",
       "      <td>0.354865</td>\n",
       "    </tr>\n",
       "    <tr>\n",
       "      <th>4</th>\n",
       "      <td>1.568124</td>\n",
       "      <td>0.621455</td>\n",
       "      <td>0.274556</td>\n",
       "      <td>1.629061</td>\n",
       "    </tr>\n",
       "  </tbody>\n",
       "</table>\n",
       "</div>"
      ],
      "text/plain": [
       "          A         B         C         D\n",
       "0  1.502356 -0.141299  0.406013 -1.384134\n",
       "1  0.408763  0.111553 -0.798250  1.627904\n",
       "2  1.599320  1.745320  1.123602 -0.929982\n",
       "3 -0.521512 -0.814400  0.405805  0.354865\n",
       "4  1.568124  0.621455  0.274556  1.629061"
      ]
     },
     "execution_count": 13,
     "metadata": {},
     "output_type": "execute_result"
    }
   ],
   "source": [
    "df.head()"
   ]
  },
  {
   "cell_type": "code",
   "execution_count": 14,
   "metadata": {},
   "outputs": [],
   "source": [
    "df2=pd.DataFrame({'Category':['A','B','C'],'values':[32,43,50]})"
   ]
  },
  {
   "cell_type": "code",
   "execution_count": 15,
   "metadata": {},
   "outputs": [
    {
     "data": {
      "text/html": [
       "<div>\n",
       "<style scoped>\n",
       "    .dataframe tbody tr th:only-of-type {\n",
       "        vertical-align: middle;\n",
       "    }\n",
       "\n",
       "    .dataframe tbody tr th {\n",
       "        vertical-align: top;\n",
       "    }\n",
       "\n",
       "    .dataframe thead th {\n",
       "        text-align: right;\n",
       "    }\n",
       "</style>\n",
       "<table border=\"1\" class=\"dataframe\">\n",
       "  <thead>\n",
       "    <tr style=\"text-align: right;\">\n",
       "      <th></th>\n",
       "      <th>Category</th>\n",
       "      <th>values</th>\n",
       "    </tr>\n",
       "  </thead>\n",
       "  <tbody>\n",
       "    <tr>\n",
       "      <th>0</th>\n",
       "      <td>A</td>\n",
       "      <td>32</td>\n",
       "    </tr>\n",
       "    <tr>\n",
       "      <th>1</th>\n",
       "      <td>B</td>\n",
       "      <td>43</td>\n",
       "    </tr>\n",
       "    <tr>\n",
       "      <th>2</th>\n",
       "      <td>C</td>\n",
       "      <td>50</td>\n",
       "    </tr>\n",
       "  </tbody>\n",
       "</table>\n",
       "</div>"
      ],
      "text/plain": [
       "  Category  values\n",
       "0        A      32\n",
       "1        B      43\n",
       "2        C      50"
      ]
     },
     "execution_count": 15,
     "metadata": {},
     "output_type": "execute_result"
    }
   ],
   "source": [
    "df2"
   ]
  },
  {
   "cell_type": "code",
   "execution_count": 16,
   "metadata": {},
   "outputs": [
    {
     "data": {
      "text/plain": [
       "<matplotlib.axes._subplots.AxesSubplot at 0x25ffba09dc8>"
      ]
     },
     "execution_count": 16,
     "metadata": {},
     "output_type": "execute_result"
    },
    {
     "data": {
      "image/png": "[encoded data removed]",
      "text/plain": [
       "<Figure size 432x288 with 1 Axes>"
      ]
     },
     "metadata": {
      "needs_background": "light"
     },
     "output_type": "display_data"
    }
   ],
   "source": [
    "df.plot()"
   ]
  },
  {
   "cell_type": "code",
   "execution_count": 17,
   "metadata": {},
   "outputs": [
    {
     "data": {
      "application/vnd.plotly.v1+json": {
       "config": {
        "linkText": "Export to plot.ly",
        "plotlyServerURL": "https://plot.ly",
        "showLink": true
       },
       "data": [
        {
         "line": {
          "color": "rgba(255, 153, 51, 1.0)",
          "dash": "solid",
          "shape": "linear",
          "width": 1.3
         },
         "mode": "lines",
         "name": "A",
         "text": "",
         "type": "scatter",
         "x": [
          0,
          1,
          2,
          3,
          4,
          5,
          6,
          7,
          8,
          9,
          10,
          11,
          12,
          13,
          14,
          15,
          16,
          17,
          18,
          19,
          20,
          21,
          22,
          23,
          24,
          25,
          26,
          27,
          28,
          29,
          30,
          31,
          32,
          33,
          34,
          35,
          36,
          37,
          38,
          39,
          40,
          41,
          42,
          43,
          44,
          45,
          46,
          47,
          48,
          49,
          50,
          51,
          52,
          53,
          54,
          55,
          56,
          57,
          58,
          59,
          60,
          61,
          62,
          63,
          64,
          65,
          66,
          67,
          68,
          69,
          70,
          71,
          72,
          73,
          74,
          75,
          76,
          77,
          78,
          79,
          80,
          81,
          82,
          83,
          84,
          85,
          86,
          87,
          88,
          89,
          90,
          91,
          92,
          93,
          94,
          95,
          96,
          97,
          98,
          99
         ],
         "y": [
          1.5023563012055845,
          0.4087626388893659,
          1.5993197844213576,
          -0.5215118809744652,
          1.5681236600191981,
          0.7468356261210932,
          -0.749310641952968,
          0.1159935148313741,
          0.22045916587711767,
          -0.4550011729283677,
          0.8563933097341867,
          -2.066795909564812,
          -0.38285290167817404,
          0.01900787684381683,
          -0.12630271810268817,
          0.5680388021904351,
          1.14854911597069,
          0.6436069259066923,
          0.13859935383240438,
          -0.4956911855443848,
          0.4836194286327407,
          -1.2764417035087179,
          -0.5398190900873907,
          0.5796992019373896,
          -0.6037038043213754,
          0.7253532286953808,
          0.6834182495980821,
          -2.8845872018457897,
          1.0233482449319187,
          -2.552401535794378,
          2.3124239629877583,
          -0.8127401942686726,
          -0.23445084013367548,
          -0.6759192578683721,
          -2.5062077810487255,
          -1.2244355783037433,
          0.6694110332929116,
          -0.0034276115223639343,
          0.03204469823716342,
          -0.648084262291826,
          2.5628246207053778,
          0.9000009050597508,
          0.7517099499732545,
          1.2007637923291639,
          -1.9465668851371996,
          -2.413766407744819,
          -0.05082089573082934,
          1.207415735066595,
          -0.3835094510702304,
          0.5221421859827696,
          -0.5248958874051288,
          0.24619873930310585,
          0.5677610344566094,
          -0.4866092245561927,
          -0.7416586364234559,
          0.24855280589543127,
          1.2144044039988526,
          -0.14093054717060302,
          0.2963349236939744,
          -0.4291217100089392,
          1.1491732439347566,
          -0.5216591508755286,
          1.31822530500963,
          -0.47105727955537935,
          -0.40446633360902595,
          2.1459042895302747,
          0.6334555504966481,
          0.4176419554202106,
          -1.0273773683227392,
          1.1263431197506402,
          0.10469582241142089,
          -0.5906651009155758,
          -0.45518656697518617,
          1.3026059396663974,
          0.7571755070928892,
          0.10743952906925054,
          2.0706685836531564,
          0.5559870929964155,
          2.380054547983395,
          -0.39070598757151437,
          1.16309570735863,
          0.53168218102069,
          0.5568769817666138,
          0.39298936796065026,
          0.7338227726831591,
          0.5032917926801018,
          -0.5716134754818609,
          1.286383898901556,
          0.025648738117446,
          0.5157472248880189,
          -0.5104493617558568,
          -0.4733753767654713,
          0.36745876642344916,
          1.3072126283906071,
          0.35925235054705673,
          0.3793647207507,
          -0.21779341066885025,
          -0.5505938066317233,
          -0.5936228067274162,
          -0.18854451853239493
         ]
        },
        {
         "line": {
          "color": "rgba(55, 128, 191, 1.0)",
          "dash": "solid",
          "shape": "linear",
          "width": 1.3
         },
         "mode": "lines",
         "name": "B",
         "text": "",
         "type": "scatter",
         "x": [
          0,
          1,
          2,
          3,
          4,
          5,
          6,
          7,
          8,
          9,
          10,
          11,
          12,
          13,
          14,
          15,
          16,
          17,
          18,
          19,
          20,
          21,
          22,
          23,
          24,
          25,
          26,
          27,
          28,
          29,
          30,
          31,
          32,
          33,
          34,
          35,
          36,
          37,
          38,
          39,
          40,
          41,
          42,
          43,
          44,
          45,
          46,
          47,
          48,
          49,
          50,
          51,
          52,
          53,
          54,
          55,
          56,
          57,
          58,
          59,
          60,
          61,
          62,
          63,
          64,
          65,
          66,
          67,
          68,
          69,
          70,
          71,
          72,
          73,
          74,
          75,
          76,
          77,
          78,
          79,
          80,
          81,
          82,
          83,
          84,
          85,
          86,
          87,
          88,
          89,
          90,
          91,
          92,
          93,
          94,
          95,
          96,
          97,
          98,
          99
         ],
         "y": [
          -0.1412993310039659,
          0.11155348249657292,
          1.7453199674605695,
          -0.814399733552155,
          0.6214554653204177,
          -0.8935622081683393,
          0.7423908327196167,
          0.08876231792153962,
          0.40884368254280434,
          1.5231546429751541,
          -0.5038028339596781,
          1.277663239880953,
          1.9315664231705278,
          1.2882374316313956,
          -0.814476238152969,
          -2.0472988868964954,
          -1.1619809357848054,
          -0.6020708574357105,
          -0.4172171560670958,
          0.5656423397142257,
          -0.4422039548072374,
          1.6173040675324941,
          0.6934044898267794,
          -0.4948009086882394,
          -0.7040470246206365,
          -1.9134367284968632,
          0.7383244841914276,
          -1.1883843708189352,
          0.30363915459858953,
          0.2776451954473241,
          -0.7165225765471165,
          1.0077314628934022,
          -0.4603279365194043,
          0.38373042738479957,
          -0.518952600073326,
          -1.4636786992458364,
          0.7476083884716154,
          0.31237621371744645,
          1.1441291559955,
          -0.13738132300664588,
          0.2917094591812687,
          -0.5435138932574668,
          -0.09764547059440395,
          -0.8543035432170192,
          -1.694606999440116,
          0.6872321801985894,
          -0.3105771583046316,
          -0.14628769666578054,
          -1.2645444232569238,
          1.3221177881297856,
          -0.06864973864910799,
          0.5369862529725257,
          0.20434322894119525,
          0.9269791155272793,
          -0.10772717371906558,
          0.6636624429782333,
          -1.1341086710570782,
          0.7112881367396519,
          -0.24585306295182344,
          2.7491305879931875,
          -0.9081798223062961,
          -0.9157857216788398,
          -0.008619830977527013,
          0.4968473874841331,
          -0.5343255676597688,
          0.2855137060759064,
          0.6117559359156879,
          -2.446379280416086,
          0.33071812904434594,
          -1.071280221455606,
          0.685618779079314,
          1.4672553004235602,
          -0.3727388594504119,
          -0.09291567551181286,
          -0.34523412406140225,
          -0.05274550962737803,
          0.04654323576000232,
          0.2916776854652369,
          0.963598536755656,
          0.4654431727575727,
          0.19669889726716824,
          -0.7242027558405483,
          -0.7113448412421286,
          -0.21696242004052127,
          -0.6539765540211312,
          -1.9236864401903981,
          1.0149705541185587,
          1.0646071027030528,
          -0.9559870634609606,
          0.46215740722226095,
          -0.5700862496512421,
          0.5363637562177255,
          -1.0839231569328327,
          0.5562315410374225,
          -0.7832219667339138,
          0.4841939952459761,
          -2.3192789416549995,
          -1.4624996532320187,
          -0.31539742955163974,
          0.07762935312683132
         ]
        },
        {
         "line": {
          "color": "rgba(50, 171, 96, 1.0)",
          "dash": "solid",
          "shape": "linear",
          "width": 1.3
         },
         "mode": "lines",
         "name": "C",
         "text": "",
         "type": "scatter",
         "x": [
          0,
          1,
          2,
          3,
          4,
          5,
          6,
          7,
          8,
          9,
          10,
          11,
          12,
          13,
          14,
          15,
          16,
          17,
          18,
          19,
          20,
          21,
          22,
          23,
          24,
          25,
          26,
          27,
          28,
          29,
          30,
          31,
          32,
          33,
          34,
          35,
          36,
          37,
          38,
          39,
          40,
          41,
          42,
          43,
          44,
          45,
          46,
          47,
          48,
          49,
          50,
          51,
          52,
          53,
          54,
          55,
          56,
          57,
          58,
          59,
          60,
          61,
          62,
          63,
          64,
          65,
          66,
          67,
          68,
          69,
          70,
          71,
          72,
          73,
          74,
          75,
          76,
          77,
          78,
          79,
          80,
          81,
          82,
          83,
          84,
          85,
          86,
          87,
          88,
          89,
          90,
          91,
          92,
          93,
          94,
          95,
          96,
          97,
          98,
          99
         ],
         "y": [
          0.4060127339438663,
          -0.7982496783697365,
          1.123601971839627,
          0.4058048602297246,
          0.2745561016720758,
          0.027475844105220772,
          -0.22383021302281453,
          -0.39387936056102335,
          0.46958773686681554,
          1.0318532728612242,
          -0.24670914055786855,
          -0.6158092236253605,
          0.3357316529625056,
          0.33549334879556586,
          -0.3420057984448994,
          -0.5729067470502307,
          0.944555988637591,
          1.6466709364637417,
          -0.6046253611903157,
          1.1164169657669007,
          -0.20836647515525453,
          -0.3251835589694398,
          -1.2223825639379888,
          0.9111127533544581,
          0.7714510155383001,
          -0.11910029332390273,
          0.6925253498084671,
          0.761678498587015,
          -0.21122116515593753,
          -1.8911317407454065,
          -0.6477421966041468,
          1.746998679272337,
          -1.7771617442088992,
          0.6549085009105307,
          1.4788993264746322,
          -0.5627472212555263,
          -0.9117802943654789,
          -0.044173489311235214,
          0.7799243277831824,
          -0.009326740102037481,
          -0.7202522194882793,
          -0.7240445885164354,
          0.49987218845528786,
          -0.19517962211662349,
          0.012250267699824213,
          -0.22559392376468862,
          -0.4808350357460893,
          -0.8198241736310934,
          0.19911254148027172,
          0.5290633506851798,
          0.2526330126879686,
          -0.9212198132849635,
          1.330206416841273,
          -1.3646681089815724,
          -0.8176747165637754,
          0.8453057646843333,
          -0.4028552804000192,
          -2.060148639010836,
          0.5812027839577867,
          0.11052420643035013,
          0.41282004544314155,
          -0.14089989297248323,
          1.45061283483238,
          0.18831388859592682,
          -1.1439882648437452,
          -1.1849927000093727,
          1.2413796077745642,
          -0.5577161325566812,
          -0.61933102563376,
          -1.037967425542334,
          -1.1119068495937685,
          -0.34404925965830496,
          -1.5708253521732911,
          -0.1744878934567653,
          -0.6375590559920541,
          -1.5414458738716459,
          0.919868277100258,
          1.0490659600613328,
          0.08470892651567892,
          -1.1117047344287596,
          0.07203519479416232,
          0.006055862150619064,
          1.2245168625491816,
          0.3591325369860431,
          -0.014752796925019226,
          0.9663004218908801,
          0.6340307723650775,
          1.1679323322976998,
          -0.8019974364914285,
          2.009899707838478,
          1.351686235098478,
          -0.16357633038026712,
          1.0467381976205765,
          -0.9884777911500046,
          -1.179242961599606,
          0.19637991258516102,
          0.02752192332194667,
          -0.4772929189208354,
          -1.2072566311627462,
          0.28531937373349664
         ]
        },
        {
         "line": {
          "color": "rgba(128, 0, 128, 1.0)",
          "dash": "solid",
          "shape": "linear",
          "width": 1.3
         },
         "mode": "lines",
         "name": "D",
         "text": "",
         "type": "scatter",
         "x": [
          0,
          1,
          2,
          3,
          4,
          5,
          6,
          7,
          8,
          9,
          10,
          11,
          12,
          13,
          14,
          15,
          16,
          17,
          18,
          19,
          20,
          21,
          22,
          23,
          24,
          25,
          26,
          27,
          28,
          29,
          30,
          31,
          32,
          33,
          34,
          35,
          36,
          37,
          38,
          39,
          40,
          41,
          42,
          43,
          44,
          45,
          46,
          47,
          48,
          49,
          50,
          51,
          52,
          53,
          54,
          55,
          56,
          57,
          58,
          59,
          60,
          61,
          62,
          63,
          64,
          65,
          66,
          67,
          68,
          69,
          70,
          71,
          72,
          73,
          74,
          75,
          76,
          77,
          78,
          79,
          80,
          81,
          82,
          83,
          84,
          85,
          86,
          87,
          88,
          89,
          90,
          91,
          92,
          93,
          94,
          95,
          96,
          97,
          98,
          99
         ],
         "y": [
          -1.384133836883895,
          1.6279036565882115,
          -0.9299821435910816,
          0.35486494817093983,
          1.6290606005838537,
          0.8653327008822459,
          0.15013252944094518,
          0.28971818542358885,
          -0.6452317482474019,
          1.3151329392327118,
          -0.4601930499485809,
          0.01796751366341419,
          -0.2863077986587903,
          0.7221752593929269,
          1.1438494986725094,
          1.704750899635022,
          2.0255558584427145,
          0.4869696515487609,
          -0.7753590689761756,
          0.5894599802215743,
          -0.5099209544243769,
          0.971142453454226,
          1.4135296149222607,
          0.46368222120546493,
          -0.2099110424911986,
          0.8555892169194312,
          -0.8666033652100801,
          -0.2306133820653981,
          1.9089544676825587,
          0.48126067046847626,
          -0.6815478231682852,
          -0.7012394354255265,
          -0.4047358182565961,
          -1.0906657672931215,
          -0.5310813760482439,
          -1.1553728557319203,
          2.1544499479595145,
          0.21019983690878644,
          0.11648620825479883,
          -0.6736364979743092,
          0.43450673915401905,
          -0.98897228814661,
          -0.5665651061675469,
          1.6754808091110636,
          0.22626422636394813,
          0.07919047376157638,
          0.47646469707111916,
          0.314116725600217,
          1.0625187131973928,
          -0.2287637563650373,
          -0.08284518464672441,
          -0.8301973110501326,
          -0.4028005160347876,
          0.24672132353258178,
          0.15450240306366955,
          -0.8804013772595688,
          -0.7580135896092738,
          -1.7051536353409653,
          1.0626662974393108,
          0.2526824633221683,
          0.8340379444053333,
          0.14124629647157924,
          -0.49243382012914344,
          -0.9599076627068123,
          0.7149885906661986,
          0.4750175942064842,
          -0.5873964713638485,
          1.6930034548000927,
          -0.09315530497266254,
          0.710403964378997,
          -1.1932154200104725,
          -1.0562238516298499,
          -0.2690924803512119,
          0.49758681226637225,
          -1.0773982877105088,
          0.07911034291757471,
          -0.39902453071887745,
          1.0700856351960735,
          -1.057358139564738,
          0.37533863810957413,
          -2.84037344606979,
          -0.7091852096155062,
          -0.9566975881638045,
          0.35100423287660615,
          -1.4217070977134791,
          0.4182186974869994,
          0.15184097974894464,
          0.013448617348159643,
          0.3125613854661278,
          1.514216766439221,
          1.3523238006848513,
          -0.24663932645882697,
          1.0446188476433422,
          -0.8035903583066685,
          -0.8232789379519444,
          0.28646918218662437,
          -0.4371347569536695,
          -0.3411639230662988,
          -1.0645835371189294,
          0.7317930121637225
         ]
        }
       ],
       "layout": {
        "legend": {
         "bgcolor": "#F5F6F9",
         "font": {
          "color": "#4D5663"
         }
        },
        "paper_bgcolor": "#F5F6F9",
        "plot_bgcolor": "#F5F6F9",
        "template": {
         "data": {
          "bar": [
           {
            "error_x": {
             "color": "#2a3f5f"
            },
            "error_y": {
             "color": "#2a3f5f"
            },
            "marker": {
             "line": {
              "color": "#E5ECF6",
              "width": 0.5
             }
            },
            "type": "bar"
           }
          ],
          "barpolar": [
           {
            "marker": {
             "line": {
              "color": "#E5ECF6",
              "width": 0.5
             }
            },
            "type": "barpolar"
           }
          ],
          "carpet": [
           {
            "aaxis": {
             "endlinecolor": "#2a3f5f",
             "gridcolor": "white",
             "linecolor": "white",
             "minorgridcolor": "white",
             "startlinecolor": "#2a3f5f"
            },
            "baxis": {
             "endlinecolor": "#2a3f5f",
             "gridcolor": "white",
             "linecolor": "white",
             "minorgridcolor": "white",
             "startlinecolor": "#2a3f5f"
            },
            "type": "carpet"
           }
          ],
          "choropleth": [
           {
            "colorbar": {
             "outlinewidth": 0,
             "ticks": ""
            },
            "type": "choropleth"
           }
          ],
          "contour": [
           {
            "colorbar": {
             "outlinewidth": 0,
             "ticks": ""
            },
            "colorscale": [
             [
              0,
              "#0d0887"
             ],
             [
              0.1111111111111111,
              "#46039f"
             ],
             [
              0.2222222222222222,
              "#7201a8"
             ],
             [
              0.3333333333333333,
              "#9c179e"
             ],
             [
              0.4444444444444444,
              "#bd3786"
             ],
             [
              0.5555555555555556,
              "#d8576b"
             ],
             [
              0.6666666666666666,
              "#ed7953"
             ],
             [
              0.7777777777777778,
              "#fb9f3a"
             ],
             [
              0.8888888888888888,
              "#fdca26"
             ],
             [
              1,
              "#f0f921"
             ]
            ],
            "type": "contour"
           }
          ],
          "contourcarpet": [
           {
            "colorbar": {
             "outlinewidth": 0,
             "ticks": ""
            },
            "type": "contourcarpet"
           }
          ],
          "heatmap": [
           {
            "colorbar": {
             "outlinewidth": 0,
             "ticks": ""
            },
            "colorscale": [
             [
              0,
              "#0d0887"
             ],
             [
              0.1111111111111111,
              "#46039f"
             ],
             [
              0.2222222222222222,
              "#7201a8"
             ],
             [
              0.3333333333333333,
              "#9c179e"
             ],
             [
              0.4444444444444444,
              "#bd3786"
             ],
             [
              0.5555555555555556,
              "#d8576b"
             ],
             [
              0.6666666666666666,
              "#ed7953"
             ],
             [
              0.7777777777777778,
              "#fb9f3a"
             ],
             [
              0.8888888888888888,
              "#fdca26"
             ],
             [
              1,
              "#f0f921"
             ]
            ],
            "type": "heatmap"
           }
          ],
          "heatmapgl": [
           {
            "colorbar": {
             "outlinewidth": 0,
             "ticks": ""
            },
            "colorscale": [
             [
              0,
              "#0d0887"
             ],
             [
              0.1111111111111111,
              "#46039f"
             ],
             [
              0.2222222222222222,
              "#7201a8"
             ],
             [
              0.3333333333333333,
              "#9c179e"
             ],
             [
              0.4444444444444444,
              "#bd3786"
             ],
             [
              0.5555555555555556,
              "#d8576b"
             ],
             [
              0.6666666666666666,
              "#ed7953"
             ],
             [
              0.7777777777777778,
              "#fb9f3a"
             ],
             [
              0.8888888888888888,
              "#fdca26"
             ],
             [
              1,
              "#f0f921"
             ]
            ],
            "type": "heatmapgl"
           }
          ],
          "histogram": [
           {
            "marker": {
             "colorbar": {
              "outlinewidth": 0,
              "ticks": ""
             }
            },
            "type": "histogram"
           }
          ],
          "histogram2d": [
           {
            "colorbar": {
             "outlinewidth": 0,
             "ticks": ""
            },
            "colorscale": [
             [
              0,
              "#0d0887"
             ],
             [
              0.1111111111111111,
              "#46039f"
             ],
             [
              0.2222222222222222,
              "#7201a8"
             ],
             [
              0.3333333333333333,
              "#9c179e"
             ],
             [
              0.4444444444444444,
              "#bd3786"
             ],
             [
              0.5555555555555556,
              "#d8576b"
             ],
             [
              0.6666666666666666,
              "#ed7953"
             ],
             [
              0.7777777777777778,
              "#fb9f3a"
             ],
             [
              0.8888888888888888,
              "#fdca26"
             ],
             [
              1,
              "#f0f921"
             ]
            ],
            "type": "histogram2d"
           }
          ],
          "histogram2dcontour": [
           {
            "colorbar": {
             "outlinewidth": 0,
             "ticks": ""
            },
            "colorscale": [
             [
              0,
              "#0d0887"
             ],
             [
              0.1111111111111111,
              "#46039f"
             ],
             [
              0.2222222222222222,
              "#7201a8"
             ],
             [
              0.3333333333333333,
              "#9c179e"
             ],
             [
              0.4444444444444444,
              "#bd3786"
             ],
             [
              0.5555555555555556,
              "#d8576b"
             ],
             [
              0.6666666666666666,
              "#ed7953"
             ],
             [
              0.7777777777777778,
              "#fb9f3a"
             ],
             [
              0.8888888888888888,
              "#fdca26"
             ],
             [
              1,
              "#f0f921"
             ]
            ],
            "type": "histogram2dcontour"
           }
          ],
          "mesh3d": [
           {
            "colorbar": {
             "outlinewidth": 0,
             "ticks": ""
            },
            "type": "mesh3d"
           }
          ],
          "parcoords": [
           {
            "line": {
             "colorbar": {
              "outlinewidth": 0,
              "ticks": ""
             }
            },
            "type": "parcoords"
           }
          ],
          "pie": [
           {
            "automargin": true,
            "type": "pie"
           }
          ],
          "scatter": [
           {
            "marker": {
             "colorbar": {
              "outlinewidth": 0,
              "ticks": ""
             }
            },
            "type": "scatter"
           }
          ],
          "scatter3d": [
           {
            "line": {
             "colorbar": {
              "outlinewidth": 0,
              "ticks": ""
             }
            },
            "marker": {
             "colorbar": {
              "outlinewidth": 0,
              "ticks": ""
             }
            },
            "type": "scatter3d"
           }
          ],
          "scattercarpet": [
           {
            "marker": {
             "colorbar": {
              "outlinewidth": 0,
              "ticks": ""
             }
            },
            "type": "scattercarpet"
           }
          ],
          "scattergeo": [
           {
            "marker": {
             "colorbar": {
              "outlinewidth": 0,
              "ticks": ""
             }
            },
            "type": "scattergeo"
           }
          ],
          "scattergl": [
           {
            "marker": {
             "colorbar": {
              "outlinewidth": 0,
              "ticks": ""
             }
            },
            "type": "scattergl"
           }
          ],
          "scattermapbox": [
           {
            "marker": {
             "colorbar": {
              "outlinewidth": 0,
              "ticks": ""
             }
            },
            "type": "scattermapbox"
           }
          ],
          "scatterpolar": [
           {
            "marker": {
             "colorbar": {
              "outlinewidth": 0,
              "ticks": ""
             }
            },
            "type": "scatterpolar"
           }
          ],
          "scatterpolargl": [
           {
            "marker": {
             "colorbar": {
              "outlinewidth": 0,
              "ticks": ""
             }
            },
            "type": "scatterpolargl"
           }
          ],
          "scatterternary": [
           {
            "marker": {
             "colorbar": {
              "outlinewidth": 0,
              "ticks": ""
             }
            },
            "type": "scatterternary"
           }
          ],
          "surface": [
           {
            "colorbar": {
             "outlinewidth": 0,
             "ticks": ""
            },
            "colorscale": [
             [
              0,
              "#0d0887"
             ],
             [
              0.1111111111111111,
              "#46039f"
             ],
             [
              0.2222222222222222,
              "#7201a8"
             ],
             [
              0.3333333333333333,
              "#9c179e"
             ],
             [
              0.4444444444444444,
              "#bd3786"
             ],
             [
              0.5555555555555556,
              "#d8576b"
             ],
             [
              0.6666666666666666,
              "#ed7953"
             ],
             [
              0.7777777777777778,
              "#fb9f3a"
             ],
             [
              0.8888888888888888,
              "#fdca26"
             ],
             [
              1,
              "#f0f921"
             ]
            ],
            "type": "surface"
           }
          ],
          "table": [
           {
            "cells": {
             "fill": {
              "color": "#EBF0F8"
             },
             "line": {
              "color": "white"
             }
            },
            "header": {
             "fill": {
              "color": "#C8D4E3"
             },
             "line": {
              "color": "white"
             }
            },
            "type": "table"
           }
          ]
         },
         "layout": {
          "annotationdefaults": {
           "arrowcolor": "#2a3f5f",
           "arrowhead": 0,
           "arrowwidth": 1
          },
          "coloraxis": {
           "colorbar": {
            "outlinewidth": 0,
            "ticks": ""
           }
          },
          "colorscale": {
           "diverging": [
            [
             0,
             "#8e0152"
            ],
            [
             0.1,
             "#c51b7d"
            ],
            [
             0.2,
             "#de77ae"
            ],
            [
             0.3,
             "#f1b6da"
            ],
            [
             0.4,
             "#fde0ef"
            ],
            [
             0.5,
             "#f7f7f7"
            ],
            [
             0.6,
             "#e6f5d0"
            ],
            [
             0.7,
             "#b8e186"
            ],
            [
             0.8,
             "#7fbc41"
            ],
            [
             0.9,
             "#4d9221"
            ],
            [
             1,
             "#276419"
            ]
           ],
           "sequential": [
            [
             0,
             "#0d0887"
            ],
            [
             0.1111111111111111,
             "#46039f"
            ],
            [
             0.2222222222222222,
             "#7201a8"
            ],
            [
             0.3333333333333333,
             "#9c179e"
            ],
            [
             0.4444444444444444,
             "#bd3786"
            ],
            [
             0.5555555555555556,
             "#d8576b"
            ],
            [
             0.6666666666666666,
             "#ed7953"
            ],
            [
             0.7777777777777778,
             "#fb9f3a"
            ],
            [
             0.8888888888888888,
             "#fdca26"
            ],
            [
             1,
             "#f0f921"
            ]
           ],
           "sequentialminus": [
            [
             0,
             "#0d0887"
            ],
            [
             0.1111111111111111,
             "#46039f"
            ],
            [
             0.2222222222222222,
             "#7201a8"
            ],
            [
             0.3333333333333333,
             "#9c179e"
            ],
            [
             0.4444444444444444,
             "#bd3786"
            ],
            [
             0.5555555555555556,
             "#d8576b"
            ],
            [
             0.6666666666666666,
             "#ed7953"
            ],
            [
             0.7777777777777778,
             "#fb9f3a"
            ],
            [
             0.8888888888888888,
             "#fdca26"
            ],
            [
             1,
             "#f0f921"
            ]
           ]
          },
          "colorway": [
           "#636efa",
           "#EF553B",
           "#00cc96",
           "#ab63fa",
           "#FFA15A",
           "#19d3f3",
           "#FF6692",
           "#B6E880",
           "#FF97FF",
           "#FECB52"
          ],
          "font": {
           "color": "#2a3f5f"
          },
          "geo": {
           "bgcolor": "white",
           "lakecolor": "white",
           "landcolor": "#E5ECF6",
           "showlakes": true,
           "showland": true,
           "subunitcolor": "white"
          },
          "hoverlabel": {
           "align": "left"
          },
          "hovermode": "closest",
          "mapbox": {
           "style": "light"
          },
          "paper_bgcolor": "white",
          "plot_bgcolor": "#E5ECF6",
          "polar": {
           "angularaxis": {
            "gridcolor": "white",
            "linecolor": "white",
            "ticks": ""
           },
           "bgcolor": "#E5ECF6",
           "radialaxis": {
            "gridcolor": "white",
            "linecolor": "white",
            "ticks": ""
           }
          },
          "scene": {
           "xaxis": {
            "backgroundcolor": "#E5ECF6",
            "gridcolor": "white",
            "gridwidth": 2,
            "linecolor": "white",
            "showbackground": true,
            "ticks": "",
            "zerolinecolor": "white"
           },
           "yaxis": {
            "backgroundcolor": "#E5ECF6",
            "gridcolor": "white",
            "gridwidth": 2,
            "linecolor": "white",
            "showbackground": true,
            "ticks": "",
            "zerolinecolor": "white"
           },
           "zaxis": {
            "backgroundcolor": "#E5ECF6",
            "gridcolor": "white",
            "gridwidth": 2,
            "linecolor": "white",
            "showbackground": true,
            "ticks": "",
            "zerolinecolor": "white"
           }
          },
          "shapedefaults": {
           "line": {
            "color": "#2a3f5f"
           }
          },
          "ternary": {
           "aaxis": {
            "gridcolor": "white",
            "linecolor": "white",
            "ticks": ""
           },
           "baxis": {
            "gridcolor": "white",
            "linecolor": "white",
            "ticks": ""
           },
           "bgcolor": "#E5ECF6",
           "caxis": {
            "gridcolor": "white",
            "linecolor": "white",
            "ticks": ""
           }
          },
          "title": {
           "x": 0.05
          },
          "xaxis": {
           "automargin": true,
           "gridcolor": "white",
           "linecolor": "white",
           "ticks": "",
           "title": {
            "standoff": 15
           },
           "zerolinecolor": "white",
           "zerolinewidth": 2
          },
          "yaxis": {
           "automargin": true,
           "gridcolor": "white",
           "linecolor": "white",
           "ticks": "",
           "title": {
            "standoff": 15
           },
           "zerolinecolor": "white",
           "zerolinewidth": 2
          }
         }
        },
        "title": {
         "font": {
          "color": "#4D5663"
         }
        },
        "xaxis": {
         "gridcolor": "#E1E5ED",
         "showgrid": true,
         "tickfont": {
          "color": "#4D5663"
         },
         "title": {
          "font": {
           "color": "#4D5663"
          },
          "text": ""
         },
         "zerolinecolor": "#E1E5ED"
        },
        "yaxis": {
         "gridcolor": "#E1E5ED",
         "showgrid": true,
         "tickfont": {
          "color": "#4D5663"
         },
         "title": {
          "font": {
           "color": "#4D5663"
          },
          "text": ""
         },
         "zerolinecolor": "#E1E5ED"
        }
       }
      },
      "text/html": [
       "<div>\n",
       "        \n",
       "        \n",
       "            <div id=\"c10d6015-ddcc-42b3-9d7f-61ad31348b18\" class=\"plotly-graph-div\" style=\"height:525px; width:100%;\"></div>\n",
       "            <script type=\"text/javascript\">\n",
       "                require([\"plotly\"], function(Plotly) {\n",
       "                    window.PLOTLYENV=window.PLOTLYENV || {};\n",
       "                    window.PLOTLYENV.BASE_URL='https://plot.ly';\n",
       "                    \n",
       "                if (document.getElementById(\"c10d6015-ddcc-42b3-9d7f-61ad31348b18\")) {\n",
       "                    Plotly.newPlot(\n",
       "                        'c10d6015-ddcc-42b3-9d7f-61ad31348b18',\n",
       "                        [{\"line\": {\"color\": \"rgba(255, 153, 51, 1.0)\", \"dash\": \"solid\", \"shape\": \"linear\", \"width\": 1.3}, \"mode\": \"lines\", \"name\": \"A\", \"text\": \"\", \"type\": \"scatter\", \"x\": [0, 1, 2, 3, 4, 5, 6, 7, 8, 9, 10, 11, 12, 13, 14, 15, 16, 17, 18, 19, 20, 21, 22, 23, 24, 25, 26, 27, 28, 29, 30, 31, 32, 33, 34, 35, 36, 37, 38, 39, 40, 41, 42, 43, 44, 45, 46, 47, 48, 49, 50, 51, 52, 53, 54, 55, 56, 57, 58, 59, 60, 61, 62, 63, 64, 65, 66, 67, 68, 69, 70, 71, 72, 73, 74, 75, 76, 77, 78, 79, 80, 81, 82, 83, 84, 85, 86, 87, 88, 89, 90, 91, 92, 93, 94, 95, 96, 97, 98, 99], \"y\": [1.5023563012055845, 0.4087626388893659, 1.5993197844213576, -0.5215118809744652, 1.5681236600191981, 0.7468356261210932, -0.749310641952968, 0.1159935148313741, 0.22045916587711767, -0.4550011729283677, 0.8563933097341867, -2.066795909564812, -0.38285290167817404, 0.01900787684381683, -0.12630271810268817, 0.5680388021904351, 1.14854911597069, 0.6436069259066923, 0.13859935383240438, -0.4956911855443848, 0.4836194286327407, -1.2764417035087179, -0.5398190900873907, 0.5796992019373896, -0.6037038043213754, 0.7253532286953808, 0.6834182495980821, -2.8845872018457897, 1.0233482449319187, -2.552401535794378, 2.3124239629877583, -0.8127401942686726, -0.23445084013367548, -0.6759192578683721, -2.5062077810487255, -1.2244355783037433, 0.6694110332929116, -0.0034276115223639343, 0.03204469823716342, -0.648084262291826, 2.5628246207053778, 0.9000009050597508, 0.7517099499732545, 1.2007637923291639, -1.9465668851371996, -2.413766407744819, -0.05082089573082934, 1.207415735066595, -0.3835094510702304, 0.5221421859827696, -0.5248958874051288, 0.24619873930310585, 0.5677610344566094, -0.4866092245561927, -0.7416586364234559, 0.24855280589543127, 1.2144044039988526, -0.14093054717060302, 0.2963349236939744, -0.4291217100089392, 1.1491732439347566, -0.5216591508755286, 1.31822530500963, -0.47105727955537935, -0.40446633360902595, 2.1459042895302747, 0.6334555504966481, 0.4176419554202106, -1.0273773683227392, 1.1263431197506402, 0.10469582241142089, -0.5906651009155758, -0.45518656697518617, 1.3026059396663974, 0.7571755070928892, 0.10743952906925054, 2.0706685836531564, 0.5559870929964155, 2.380054547983395, -0.39070598757151437, 1.16309570735863, 0.53168218102069, 0.5568769817666138, 0.39298936796065026, 0.7338227726831591, 0.5032917926801018, -0.5716134754818609, 1.286383898901556, 0.025648738117446, 0.5157472248880189, -0.5104493617558568, -0.4733753767654713, 0.36745876642344916, 1.3072126283906071, 0.35925235054705673, 0.3793647207507, -0.21779341066885025, -0.5505938066317233, -0.5936228067274162, -0.18854451853239493]}, {\"line\": {\"color\": \"rgba(55, 128, 191, 1.0)\", \"dash\": \"solid\", \"shape\": \"linear\", \"width\": 1.3}, \"mode\": \"lines\", \"name\": \"B\", \"text\": \"\", \"type\": \"scatter\", \"x\": [0, 1, 2, 3, 4, 5, 6, 7, 8, 9, 10, 11, 12, 13, 14, 15, 16, 17, 18, 19, 20, 21, 22, 23, 24, 25, 26, 27, 28, 29, 30, 31, 32, 33, 34, 35, 36, 37, 38, 39, 40, 41, 42, 43, 44, 45, 46, 47, 48, 49, 50, 51, 52, 53, 54, 55, 56, 57, 58, 59, 60, 61, 62, 63, 64, 65, 66, 67, 68, 69, 70, 71, 72, 73, 74, 75, 76, 77, 78, 79, 80, 81, 82, 83, 84, 85, 86, 87, 88, 89, 90, 91, 92, 93, 94, 95, 96, 97, 98, 99], \"y\": [-0.1412993310039659, 0.11155348249657292, 1.7453199674605695, -0.814399733552155, 0.6214554653204177, -0.8935622081683393, 0.7423908327196167, 0.08876231792153962, 0.40884368254280434, 1.5231546429751541, -0.5038028339596781, 1.277663239880953, 1.9315664231705278, 1.2882374316313956, -0.814476238152969, -2.0472988868964954, -1.1619809357848054, -0.6020708574357105, -0.4172171560670958, 0.5656423397142257, -0.4422039548072374, 1.6173040675324941, 0.6934044898267794, -0.4948009086882394, -0.7040470246206365, -1.9134367284968632, 0.7383244841914276, -1.1883843708189352, 0.30363915459858953, 0.2776451954473241, -0.7165225765471165, 1.0077314628934022, -0.4603279365194043, 0.38373042738479957, -0.518952600073326, -1.4636786992458364, 0.7476083884716154, 0.31237621371744645, 1.1441291559955, -0.13738132300664588, 0.2917094591812687, -0.5435138932574668, -0.09764547059440395, -0.8543035432170192, -1.694606999440116, 0.6872321801985894, -0.3105771583046316, -0.14628769666578054, -1.2645444232569238, 1.3221177881297856, -0.06864973864910799, 0.5369862529725257, 0.20434322894119525, 0.9269791155272793, -0.10772717371906558, 0.6636624429782333, -1.1341086710570782, 0.7112881367396519, -0.24585306295182344, 2.7491305879931875, -0.9081798223062961, -0.9157857216788398, -0.008619830977527013, 0.4968473874841331, -0.5343255676597688, 0.2855137060759064, 0.6117559359156879, -2.446379280416086, 0.33071812904434594, -1.071280221455606, 0.685618779079314, 1.4672553004235602, -0.3727388594504119, -0.09291567551181286, -0.34523412406140225, -0.05274550962737803, 0.04654323576000232, 0.2916776854652369, 0.963598536755656, 0.4654431727575727, 0.19669889726716824, -0.7242027558405483, -0.7113448412421286, -0.21696242004052127, -0.6539765540211312, -1.9236864401903981, 1.0149705541185587, 1.0646071027030528, -0.9559870634609606, 0.46215740722226095, -0.5700862496512421, 0.5363637562177255, -1.0839231569328327, 0.5562315410374225, -0.7832219667339138, 0.4841939952459761, -2.3192789416549995, -1.4624996532320187, -0.31539742955163974, 0.07762935312683132]}, {\"line\": {\"color\": \"rgba(50, 171, 96, 1.0)\", \"dash\": \"solid\", \"shape\": \"linear\", \"width\": 1.3}, \"mode\": \"lines\", \"name\": \"C\", \"text\": \"\", \"type\": \"scatter\", \"x\": [0, 1, 2, 3, 4, 5, 6, 7, 8, 9, 10, 11, 12, 13, 14, 15, 16, 17, 18, 19, 20, 21, 22, 23, 24, 25, 26, 27, 28, 29, 30, 31, 32, 33, 34, 35, 36, 37, 38, 39, 40, 41, 42, 43, 44, 45, 46, 47, 48, 49, 50, 51, 52, 53, 54, 55, 56, 57, 58, 59, 60, 61, 62, 63, 64, 65, 66, 67, 68, 69, 70, 71, 72, 73, 74, 75, 76, 77, 78, 79, 80, 81, 82, 83, 84, 85, 86, 87, 88, 89, 90, 91, 92, 93, 94, 95, 96, 97, 98, 99], \"y\": [0.4060127339438663, -0.7982496783697365, 1.123601971839627, 0.4058048602297246, 0.2745561016720758, 0.027475844105220772, -0.22383021302281453, -0.39387936056102335, 0.46958773686681554, 1.0318532728612242, -0.24670914055786855, -0.6158092236253605, 0.3357316529625056, 0.33549334879556586, -0.3420057984448994, -0.5729067470502307, 0.944555988637591, 1.6466709364637417, -0.6046253611903157, 1.1164169657669007, -0.20836647515525453, -0.3251835589694398, -1.2223825639379888, 0.9111127533544581, 0.7714510155383001, -0.11910029332390273, 0.6925253498084671, 0.761678498587015, -0.21122116515593753, -1.8911317407454065, -0.6477421966041468, 1.746998679272337, -1.7771617442088992, 0.6549085009105307, 1.4788993264746322, -0.5627472212555263, -0.9117802943654789, -0.044173489311235214, 0.7799243277831824, -0.009326740102037481, -0.7202522194882793, -0.7240445885164354, 0.49987218845528786, -0.19517962211662349, 0.012250267699824213, -0.22559392376468862, -0.4808350357460893, -0.8198241736310934, 0.19911254148027172, 0.5290633506851798, 0.2526330126879686, -0.9212198132849635, 1.330206416841273, -1.3646681089815724, -0.8176747165637754, 0.8453057646843333, -0.4028552804000192, -2.060148639010836, 0.5812027839577867, 0.11052420643035013, 0.41282004544314155, -0.14089989297248323, 1.45061283483238, 0.18831388859592682, -1.1439882648437452, -1.1849927000093727, 1.2413796077745642, -0.5577161325566812, -0.61933102563376, -1.037967425542334, -1.1119068495937685, -0.34404925965830496, -1.5708253521732911, -0.1744878934567653, -0.6375590559920541, -1.5414458738716459, 0.919868277100258, 1.0490659600613328, 0.08470892651567892, -1.1117047344287596, 0.07203519479416232, 0.006055862150619064, 1.2245168625491816, 0.3591325369860431, -0.014752796925019226, 0.9663004218908801, 0.6340307723650775, 1.1679323322976998, -0.8019974364914285, 2.009899707838478, 1.351686235098478, -0.16357633038026712, 1.0467381976205765, -0.9884777911500046, -1.179242961599606, 0.19637991258516102, 0.02752192332194667, -0.4772929189208354, -1.2072566311627462, 0.28531937373349664]}, {\"line\": {\"color\": \"rgba(128, 0, 128, 1.0)\", \"dash\": \"solid\", \"shape\": \"linear\", \"width\": 1.3}, \"mode\": \"lines\", \"name\": \"D\", \"text\": \"\", \"type\": \"scatter\", \"x\": [0, 1, 2, 3, 4, 5, 6, 7, 8, 9, 10, 11, 12, 13, 14, 15, 16, 17, 18, 19, 20, 21, 22, 23, 24, 25, 26, 27, 28, 29, 30, 31, 32, 33, 34, 35, 36, 37, 38, 39, 40, 41, 42, 43, 44, 45, 46, 47, 48, 49, 50, 51, 52, 53, 54, 55, 56, 57, 58, 59, 60, 61, 62, 63, 64, 65, 66, 67, 68, 69, 70, 71, 72, 73, 74, 75, 76, 77, 78, 79, 80, 81, 82, 83, 84, 85, 86, 87, 88, 89, 90, 91, 92, 93, 94, 95, 96, 97, 98, 99], \"y\": [-1.384133836883895, 1.6279036565882115, -0.9299821435910816, 0.35486494817093983, 1.6290606005838537, 0.8653327008822459, 0.15013252944094518, 0.28971818542358885, -0.6452317482474019, 1.3151329392327118, -0.4601930499485809, 0.01796751366341419, -0.2863077986587903, 0.7221752593929269, 1.1438494986725094, 1.704750899635022, 2.0255558584427145, 0.4869696515487609, -0.7753590689761756, 0.5894599802215743, -0.5099209544243769, 0.971142453454226, 1.4135296149222607, 0.46368222120546493, -0.2099110424911986, 0.8555892169194312, -0.8666033652100801, -0.2306133820653981, 1.9089544676825587, 0.48126067046847626, -0.6815478231682852, -0.7012394354255265, -0.4047358182565961, -1.0906657672931215, -0.5310813760482439, -1.1553728557319203, 2.1544499479595145, 0.21019983690878644, 0.11648620825479883, -0.6736364979743092, 0.43450673915401905, -0.98897228814661, -0.5665651061675469, 1.6754808091110636, 0.22626422636394813, 0.07919047376157638, 0.47646469707111916, 0.314116725600217, 1.0625187131973928, -0.2287637563650373, -0.08284518464672441, -0.8301973110501326, -0.4028005160347876, 0.24672132353258178, 0.15450240306366955, -0.8804013772595688, -0.7580135896092738, -1.7051536353409653, 1.0626662974393108, 0.2526824633221683, 0.8340379444053333, 0.14124629647157924, -0.49243382012914344, -0.9599076627068123, 0.7149885906661986, 0.4750175942064842, -0.5873964713638485, 1.6930034548000927, -0.09315530497266254, 0.710403964378997, -1.1932154200104725, -1.0562238516298499, -0.2690924803512119, 0.49758681226637225, -1.0773982877105088, 0.07911034291757471, -0.39902453071887745, 1.0700856351960735, -1.057358139564738, 0.37533863810957413, -2.84037344606979, -0.7091852096155062, -0.9566975881638045, 0.35100423287660615, -1.4217070977134791, 0.4182186974869994, 0.15184097974894464, 0.013448617348159643, 0.3125613854661278, 1.514216766439221, 1.3523238006848513, -0.24663932645882697, 1.0446188476433422, -0.8035903583066685, -0.8232789379519444, 0.28646918218662437, -0.4371347569536695, -0.3411639230662988, -1.0645835371189294, 0.7317930121637225]}],\n",
       "                        {\"legend\": {\"bgcolor\": \"#F5F6F9\", \"font\": {\"color\": \"#4D5663\"}}, \"paper_bgcolor\": \"#F5F6F9\", \"plot_bgcolor\": \"#F5F6F9\", \"template\": {\"data\": {\"bar\": [{\"error_x\": {\"color\": \"#2a3f5f\"}, \"error_y\": {\"color\": \"#2a3f5f\"}, \"marker\": {\"line\": {\"color\": \"#E5ECF6\", \"width\": 0.5}}, \"type\": \"bar\"}], \"barpolar\": [{\"marker\": {\"line\": {\"color\": \"#E5ECF6\", \"width\": 0.5}}, \"type\": \"barpolar\"}], \"carpet\": [{\"aaxis\": {\"endlinecolor\": \"#2a3f5f\", \"gridcolor\": \"white\", \"linecolor\": \"white\", \"minorgridcolor\": \"white\", \"startlinecolor\": \"#2a3f5f\"}, \"baxis\": {\"endlinecolor\": \"#2a3f5f\", \"gridcolor\": \"white\", \"linecolor\": \"white\", \"minorgridcolor\": \"white\", \"startlinecolor\": \"#2a3f5f\"}, \"type\": \"carpet\"}], \"choropleth\": [{\"colorbar\": {\"outlinewidth\": 0, \"ticks\": \"\"}, \"type\": \"choropleth\"}], \"contour\": [{\"colorbar\": {\"outlinewidth\": 0, \"ticks\": \"\"}, \"colorscale\": [[0.0, \"#0d0887\"], [0.1111111111111111, \"#46039f\"], [0.2222222222222222, \"#7201a8\"], [0.3333333333333333, \"#9c179e\"], [0.4444444444444444, \"#bd3786\"], [0.5555555555555556, \"#d8576b\"], [0.6666666666666666, \"#ed7953\"], [0.7777777777777778, \"#fb9f3a\"], [0.8888888888888888, \"#fdca26\"], [1.0, \"#f0f921\"]], \"type\": \"contour\"}], \"contourcarpet\": [{\"colorbar\": {\"outlinewidth\": 0, \"ticks\": \"\"}, \"type\": \"contourcarpet\"}], \"heatmap\": [{\"colorbar\": {\"outlinewidth\": 0, \"ticks\": \"\"}, \"colorscale\": [[0.0, \"#0d0887\"], [0.1111111111111111, \"#46039f\"], [0.2222222222222222, \"#7201a8\"], [0.3333333333333333, \"#9c179e\"], [0.4444444444444444, \"#bd3786\"], [0.5555555555555556, \"#d8576b\"], [0.6666666666666666, \"#ed7953\"], [0.7777777777777778, \"#fb9f3a\"], [0.8888888888888888, \"#fdca26\"], [1.0, \"#f0f921\"]], \"type\": \"heatmap\"}], \"heatmapgl\": [{\"colorbar\": {\"outlinewidth\": 0, \"ticks\": \"\"}, \"colorscale\": [[0.0, \"#0d0887\"], [0.1111111111111111, \"#46039f\"], [0.2222222222222222, \"#7201a8\"], [0.3333333333333333, \"#9c179e\"], [0.4444444444444444, \"#bd3786\"], [0.5555555555555556, \"#d8576b\"], [0.6666666666666666, \"#ed7953\"], [0.7777777777777778, \"#fb9f3a\"], [0.8888888888888888, \"#fdca26\"], [1.0, \"#f0f921\"]], \"type\": \"heatmapgl\"}], \"histogram\": [{\"marker\": {\"colorbar\": {\"outlinewidth\": 0, \"ticks\": \"\"}}, \"type\": \"histogram\"}], \"histogram2d\": [{\"colorbar\": {\"outlinewidth\": 0, \"ticks\": \"\"}, \"colorscale\": [[0.0, \"#0d0887\"], [0.1111111111111111, \"#46039f\"], [0.2222222222222222, \"#7201a8\"], [0.3333333333333333, \"#9c179e\"], [0.4444444444444444, \"#bd3786\"], [0.5555555555555556, \"#d8576b\"], [0.6666666666666666, \"#ed7953\"], [0.7777777777777778, \"#fb9f3a\"], [0.8888888888888888, \"#fdca26\"], [1.0, \"#f0f921\"]], \"type\": \"histogram2d\"}], \"histogram2dcontour\": [{\"colorbar\": {\"outlinewidth\": 0, \"ticks\": \"\"}, \"colorscale\": [[0.0, \"#0d0887\"], [0.1111111111111111, \"#46039f\"], [0.2222222222222222, \"#7201a8\"], [0.3333333333333333, \"#9c179e\"], [0.4444444444444444, \"#bd3786\"], [0.5555555555555556, \"#d8576b\"], [0.6666666666666666, \"#ed7953\"], [0.7777777777777778, \"#fb9f3a\"], [0.8888888888888888, \"#fdca26\"], [1.0, \"#f0f921\"]], \"type\": \"histogram2dcontour\"}], \"mesh3d\": [{\"colorbar\": {\"outlinewidth\": 0, \"ticks\": \"\"}, \"type\": \"mesh3d\"}], \"parcoords\": [{\"line\": {\"colorbar\": {\"outlinewidth\": 0, \"ticks\": \"\"}}, \"type\": \"parcoords\"}], \"pie\": [{\"automargin\": true, \"type\": \"pie\"}], \"scatter\": [{\"marker\": {\"colorbar\": {\"outlinewidth\": 0, \"ticks\": \"\"}}, \"type\": \"scatter\"}], \"scatter3d\": [{\"line\": {\"colorbar\": {\"outlinewidth\": 0, \"ticks\": \"\"}}, \"marker\": {\"colorbar\": {\"outlinewidth\": 0, \"ticks\": \"\"}}, \"type\": \"scatter3d\"}], \"scattercarpet\": [{\"marker\": {\"colorbar\": {\"outlinewidth\": 0, \"ticks\": \"\"}}, \"type\": \"scattercarpet\"}], \"scattergeo\": [{\"marker\": {\"colorbar\": {\"outlinewidth\": 0, \"ticks\": \"\"}}, \"type\": \"scattergeo\"}], \"scattergl\": [{\"marker\": {\"colorbar\": {\"outlinewidth\": 0, \"ticks\": \"\"}}, \"type\": \"scattergl\"}], \"scattermapbox\": [{\"marker\": {\"colorbar\": {\"outlinewidth\": 0, \"ticks\": \"\"}}, \"type\": \"scattermapbox\"}], \"scatterpolar\": [{\"marker\": {\"colorbar\": {\"outlinewidth\": 0, \"ticks\": \"\"}}, \"type\": \"scatterpolar\"}], \"scatterpolargl\": [{\"marker\": {\"colorbar\": {\"outlinewidth\": 0, \"ticks\": \"\"}}, \"type\": \"scatterpolargl\"}], \"scatterternary\": [{\"marker\": {\"colorbar\": {\"outlinewidth\": 0, \"ticks\": \"\"}}, \"type\": \"scatterternary\"}], \"surface\": [{\"colorbar\": {\"outlinewidth\": 0, \"ticks\": \"\"}, \"colorscale\": [[0.0, \"#0d0887\"], [0.1111111111111111, \"#46039f\"], [0.2222222222222222, \"#7201a8\"], [0.3333333333333333, \"#9c179e\"], [0.4444444444444444, \"#bd3786\"], [0.5555555555555556, \"#d8576b\"], [0.6666666666666666, \"#ed7953\"], [0.7777777777777778, \"#fb9f3a\"], [0.8888888888888888, \"#fdca26\"], [1.0, \"#f0f921\"]], \"type\": \"surface\"}], \"table\": [{\"cells\": {\"fill\": {\"color\": \"#EBF0F8\"}, \"line\": {\"color\": \"white\"}}, \"header\": {\"fill\": {\"color\": \"#C8D4E3\"}, \"line\": {\"color\": \"white\"}}, \"type\": \"table\"}]}, \"layout\": {\"annotationdefaults\": {\"arrowcolor\": \"#2a3f5f\", \"arrowhead\": 0, \"arrowwidth\": 1}, \"coloraxis\": {\"colorbar\": {\"outlinewidth\": 0, \"ticks\": \"\"}}, \"colorscale\": {\"diverging\": [[0, \"#8e0152\"], [0.1, \"#c51b7d\"], [0.2, \"#de77ae\"], [0.3, \"#f1b6da\"], [0.4, \"#fde0ef\"], [0.5, \"#f7f7f7\"], [0.6, \"#e6f5d0\"], [0.7, \"#b8e186\"], [0.8, \"#7fbc41\"], [0.9, \"#4d9221\"], [1, \"#276419\"]], \"sequential\": [[0.0, \"#0d0887\"], [0.1111111111111111, \"#46039f\"], [0.2222222222222222, \"#7201a8\"], [0.3333333333333333, \"#9c179e\"], [0.4444444444444444, \"#bd3786\"], [0.5555555555555556, \"#d8576b\"], [0.6666666666666666, \"#ed7953\"], [0.7777777777777778, \"#fb9f3a\"], [0.8888888888888888, \"#fdca26\"], [1.0, \"#f0f921\"]], \"sequentialminus\": [[0.0, \"#0d0887\"], [0.1111111111111111, \"#46039f\"], [0.2222222222222222, \"#7201a8\"], [0.3333333333333333, \"#9c179e\"], [0.4444444444444444, \"#bd3786\"], [0.5555555555555556, \"#d8576b\"], [0.6666666666666666, \"#ed7953\"], [0.7777777777777778, \"#fb9f3a\"], [0.8888888888888888, \"#fdca26\"], [1.0, \"#f0f921\"]]}, \"colorway\": [\"#636efa\", \"#EF553B\", \"#00cc96\", \"#ab63fa\", \"#FFA15A\", \"#19d3f3\", \"#FF6692\", \"#B6E880\", \"#FF97FF\", \"#FECB52\"], \"font\": {\"color\": \"#2a3f5f\"}, \"geo\": {\"bgcolor\": \"white\", \"lakecolor\": \"white\", \"landcolor\": \"#E5ECF6\", \"showlakes\": true, \"showland\": true, \"subunitcolor\": \"white\"}, \"hoverlabel\": {\"align\": \"left\"}, \"hovermode\": \"closest\", \"mapbox\": {\"style\": \"light\"}, \"paper_bgcolor\": \"white\", \"plot_bgcolor\": \"#E5ECF6\", \"polar\": {\"angularaxis\": {\"gridcolor\": \"white\", \"linecolor\": \"white\", \"ticks\": \"\"}, \"bgcolor\": \"#E5ECF6\", \"radialaxis\": {\"gridcolor\": \"white\", \"linecolor\": \"white\", \"ticks\": \"\"}}, \"scene\": {\"xaxis\": {\"backgroundcolor\": \"#E5ECF6\", \"gridcolor\": \"white\", \"gridwidth\": 2, \"linecolor\": \"white\", \"showbackground\": true, \"ticks\": \"\", \"zerolinecolor\": \"white\"}, \"yaxis\": {\"backgroundcolor\": \"#E5ECF6\", \"gridcolor\": \"white\", \"gridwidth\": 2, \"linecolor\": \"white\", \"showbackground\": true, \"ticks\": \"\", \"zerolinecolor\": \"white\"}, \"zaxis\": {\"backgroundcolor\": \"#E5ECF6\", \"gridcolor\": \"white\", \"gridwidth\": 2, \"linecolor\": \"white\", \"showbackground\": true, \"ticks\": \"\", \"zerolinecolor\": \"white\"}}, \"shapedefaults\": {\"line\": {\"color\": \"#2a3f5f\"}}, \"ternary\": {\"aaxis\": {\"gridcolor\": \"white\", \"linecolor\": \"white\", \"ticks\": \"\"}, \"baxis\": {\"gridcolor\": \"white\", \"linecolor\": \"white\", \"ticks\": \"\"}, \"bgcolor\": \"#E5ECF6\", \"caxis\": {\"gridcolor\": \"white\", \"linecolor\": \"white\", \"ticks\": \"\"}}, \"title\": {\"x\": 0.05}, \"xaxis\": {\"automargin\": true, \"gridcolor\": \"white\", \"linecolor\": \"white\", \"ticks\": \"\", \"title\": {\"standoff\": 15}, \"zerolinecolor\": \"white\", \"zerolinewidth\": 2}, \"yaxis\": {\"automargin\": true, \"gridcolor\": \"white\", \"linecolor\": \"white\", \"ticks\": \"\", \"title\": {\"standoff\": 15}, \"zerolinecolor\": \"white\", \"zerolinewidth\": 2}}}, \"title\": {\"font\": {\"color\": \"#4D5663\"}}, \"xaxis\": {\"gridcolor\": \"#E1E5ED\", \"showgrid\": true, \"tickfont\": {\"color\": \"#4D5663\"}, \"title\": {\"font\": {\"color\": \"#4D5663\"}, \"text\": \"\"}, \"zerolinecolor\": \"#E1E5ED\"}, \"yaxis\": {\"gridcolor\": \"#E1E5ED\", \"showgrid\": true, \"tickfont\": {\"color\": \"#4D5663\"}, \"title\": {\"font\": {\"color\": \"#4D5663\"}, \"text\": \"\"}, \"zerolinecolor\": \"#E1E5ED\"}},\n",
       "                        {\"showLink\": true, \"linkText\": \"Export to plot.ly\", \"plotlyServerURL\": \"https://plot.ly\", \"responsive\": true}\n",
       "                    ).then(function(){\n",
       "                            \n",
       "var gd = document.getElementById('c10d6015-ddcc-42b3-9d7f-61ad31348b18');\n",
       "var x = new MutationObserver(function (mutations, observer) {{\n",
       "        var display = window.getComputedStyle(gd).display;\n",
       "        if (!display || display === 'none') {{\n",
       "            console.log([gd, 'removed!']);\n",
       "            Plotly.purge(gd);\n",
       "            observer.disconnect();\n",
       "        }}\n",
       "}});\n",
       "\n",
       "// Listen for the removal of the full notebook cells\n",
       "var notebookContainer = gd.closest('#notebook-container');\n",
       "if (notebookContainer) {{\n",
       "    x.observe(notebookContainer, {childList: true});\n",
       "}}\n",
       "\n",
       "// Listen for the clearing of the current output cell\n",
       "var outputEl = gd.closest('.output');\n",
       "if (outputEl) {{\n",
       "    x.observe(outputEl, {childList: true});\n",
       "}}\n",
       "\n",
       "                        })\n",
       "                };\n",
       "                });\n",
       "            </script>\n",
       "        </div>"
      ]
     },
     "metadata": {},
     "output_type": "display_data"
    }
   ],
   "source": [
    "df.iplot()"
   ]
  },
  {
   "cell_type": "code",
   "execution_count": 18,
   "metadata": {},
   "outputs": [
    {
     "data": {
      "application/vnd.plotly.v1+json": {
       "config": {
        "linkText": "Export to plot.ly",
        "plotlyServerURL": "https://plot.ly",
        "showLink": true
       },
       "data": [
        {
         "line": {
          "color": "rgba(255, 153, 51, 1.0)",
          "dash": "solid",
          "shape": "linear",
          "width": 1.3
         },
         "marker": {
          "size": 12,
          "symbol": "circle"
         },
         "mode": "markers",
         "name": "B",
         "text": "",
         "type": "scatter",
         "x": [
          1.5023563012055845,
          0.4087626388893659,
          1.5993197844213576,
          -0.5215118809744652,
          1.5681236600191981,
          0.7468356261210932,
          -0.749310641952968,
          0.1159935148313741,
          0.22045916587711767,
          -0.4550011729283677,
          0.8563933097341867,
          -2.066795909564812,
          -0.38285290167817404,
          0.01900787684381683,
          -0.12630271810268817,
          0.5680388021904351,
          1.14854911597069,
          0.6436069259066923,
          0.13859935383240438,
          -0.4956911855443848,
          0.4836194286327407,
          -1.2764417035087179,
          -0.5398190900873907,
          0.5796992019373896,
          -0.6037038043213754,
          0.7253532286953808,
          0.6834182495980821,
          -2.8845872018457897,
          1.0233482449319187,
          -2.552401535794378,
          2.3124239629877583,
          -0.8127401942686726,
          -0.23445084013367548,
          -0.6759192578683721,
          -2.5062077810487255,
          -1.2244355783037433,
          0.6694110332929116,
          -0.0034276115223639343,
          0.03204469823716342,
          -0.648084262291826,
          2.5628246207053778,
          0.9000009050597508,
          0.7517099499732545,
          1.2007637923291639,
          -1.9465668851371996,
          -2.413766407744819,
          -0.05082089573082934,
          1.207415735066595,
          -0.3835094510702304,
          0.5221421859827696,
          -0.5248958874051288,
          0.24619873930310585,
          0.5677610344566094,
          -0.4866092245561927,
          -0.7416586364234559,
          0.24855280589543127,
          1.2144044039988526,
          -0.14093054717060302,
          0.2963349236939744,
          -0.4291217100089392,
          1.1491732439347566,
          -0.5216591508755286,
          1.31822530500963,
          -0.47105727955537935,
          -0.40446633360902595,
          2.1459042895302747,
          0.6334555504966481,
          0.4176419554202106,
          -1.0273773683227392,
          1.1263431197506402,
          0.10469582241142089,
          -0.5906651009155758,
          -0.45518656697518617,
          1.3026059396663974,
          0.7571755070928892,
          0.10743952906925054,
          2.0706685836531564,
          0.5559870929964155,
          2.380054547983395,
          -0.39070598757151437,
          1.16309570735863,
          0.53168218102069,
          0.5568769817666138,
          0.39298936796065026,
          0.7338227726831591,
          0.5032917926801018,
          -0.5716134754818609,
          1.286383898901556,
          0.025648738117446,
          0.5157472248880189,
          -0.5104493617558568,
          -0.4733753767654713,
          0.36745876642344916,
          1.3072126283906071,
          0.35925235054705673,
          0.3793647207507,
          -0.21779341066885025,
          -0.5505938066317233,
          -0.5936228067274162,
          -0.18854451853239493
         ],
         "y": [
          -0.1412993310039659,
          0.11155348249657292,
          1.7453199674605695,
          -0.814399733552155,
          0.6214554653204177,
          -0.8935622081683393,
          0.7423908327196167,
          0.08876231792153962,
          0.40884368254280434,
          1.5231546429751541,
          -0.5038028339596781,
          1.277663239880953,
          1.9315664231705278,
          1.2882374316313956,
          -0.814476238152969,
          -2.0472988868964954,
          -1.1619809357848054,
          -0.6020708574357105,
          -0.4172171560670958,
          0.5656423397142257,
          -0.4422039548072374,
          1.6173040675324941,
          0.6934044898267794,
          -0.4948009086882394,
          -0.7040470246206365,
          -1.9134367284968632,
          0.7383244841914276,
          -1.1883843708189352,
          0.30363915459858953,
          0.2776451954473241,
          -0.7165225765471165,
          1.0077314628934022,
          -0.4603279365194043,
          0.38373042738479957,
          -0.518952600073326,
          -1.4636786992458364,
          0.7476083884716154,
          0.31237621371744645,
          1.1441291559955,
          -0.13738132300664588,
          0.2917094591812687,
          -0.5435138932574668,
          -0.09764547059440395,
          -0.8543035432170192,
          -1.694606999440116,
          0.6872321801985894,
          -0.3105771583046316,
          -0.14628769666578054,
          -1.2645444232569238,
          1.3221177881297856,
          -0.06864973864910799,
          0.5369862529725257,
          0.20434322894119525,
          0.9269791155272793,
          -0.10772717371906558,
          0.6636624429782333,
          -1.1341086710570782,
          0.7112881367396519,
          -0.24585306295182344,
          2.7491305879931875,
          -0.9081798223062961,
          -0.9157857216788398,
          -0.008619830977527013,
          0.4968473874841331,
          -0.5343255676597688,
          0.2855137060759064,
          0.6117559359156879,
          -2.446379280416086,
          0.33071812904434594,
          -1.071280221455606,
          0.685618779079314,
          1.4672553004235602,
          -0.3727388594504119,
          -0.09291567551181286,
          -0.34523412406140225,
          -0.05274550962737803,
          0.04654323576000232,
          0.2916776854652369,
          0.963598536755656,
          0.4654431727575727,
          0.19669889726716824,
          -0.7242027558405483,
          -0.7113448412421286,
          -0.21696242004052127,
          -0.6539765540211312,
          -1.9236864401903981,
          1.0149705541185587,
          1.0646071027030528,
          -0.9559870634609606,
          0.46215740722226095,
          -0.5700862496512421,
          0.5363637562177255,
          -1.0839231569328327,
          0.5562315410374225,
          -0.7832219667339138,
          0.4841939952459761,
          -2.3192789416549995,
          -1.4624996532320187,
          -0.31539742955163974,
          0.07762935312683132
         ]
        }
       ],
       "layout": {
        "legend": {
         "bgcolor": "#F5F6F9",
         "font": {
          "color": "#4D5663"
         }
        },
        "paper_bgcolor": "#F5F6F9",
        "plot_bgcolor": "#F5F6F9",
        "template": {
         "data": {
          "bar": [
           {
            "error_x": {
             "color": "#2a3f5f"
            },
            "error_y": {
             "color": "#2a3f5f"
            },
            "marker": {
             "line": {
              "color": "#E5ECF6",
              "width": 0.5
             }
            },
            "type": "bar"
           }
          ],
          "barpolar": [
           {
            "marker": {
             "line": {
              "color": "#E5ECF6",
              "width": 0.5
             }
            },
            "type": "barpolar"
           }
          ],
          "carpet": [
           {
            "aaxis": {
             "endlinecolor": "#2a3f5f",
             "gridcolor": "white",
             "linecolor": "white",
             "minorgridcolor": "white",
             "startlinecolor": "#2a3f5f"
            },
            "baxis": {
             "endlinecolor": "#2a3f5f",
             "gridcolor": "white",
             "linecolor": "white",
             "minorgridcolor": "white",
             "startlinecolor": "#2a3f5f"
            },
            "type": "carpet"
           }
          ],
          "choropleth": [
           {
            "colorbar": {
             "outlinewidth": 0,
             "ticks": ""
            },
            "type": "choropleth"
           }
          ],
          "contour": [
           {
            "colorbar": {
             "outlinewidth": 0,
             "ticks": ""
            },
            "colorscale": [
             [
              0,
              "#0d0887"
             ],
             [
              0.1111111111111111,
              "#46039f"
             ],
             [
              0.2222222222222222,
              "#7201a8"
             ],
             [
              0.3333333333333333,
              "#9c179e"
             ],
             [
              0.4444444444444444,
              "#bd3786"
             ],
             [
              0.5555555555555556,
              "#d8576b"
             ],
             [
              0.6666666666666666,
              "#ed7953"
             ],
             [
              0.7777777777777778,
              "#fb9f3a"
             ],
             [
              0.8888888888888888,
              "#fdca26"
             ],
             [
              1,
              "#f0f921"
             ]
            ],
            "type": "contour"
           }
          ],
          "contourcarpet": [
           {
            "colorbar": {
             "outlinewidth": 0,
             "ticks": ""
            },
            "type": "contourcarpet"
           }
          ],
          "heatmap": [
           {
            "colorbar": {
             "outlinewidth": 0,
             "ticks": ""
            },
            "colorscale": [
             [
              0,
              "#0d0887"
             ],
             [
              0.1111111111111111,
              "#46039f"
             ],
             [
              0.2222222222222222,
              "#7201a8"
             ],
             [
              0.3333333333333333,
              "#9c179e"
             ],
             [
              0.4444444444444444,
              "#bd3786"
             ],
             [
              0.5555555555555556,
              "#d8576b"
             ],
             [
              0.6666666666666666,
              "#ed7953"
             ],
             [
              0.7777777777777778,
              "#fb9f3a"
             ],
             [
              0.8888888888888888,
              "#fdca26"
             ],
             [
              1,
              "#f0f921"
             ]
            ],
            "type": "heatmap"
           }
          ],
          "heatmapgl": [
           {
            "colorbar": {
             "outlinewidth": 0,
             "ticks": ""
            },
            "colorscale": [
             [
              0,
              "#0d0887"
             ],
             [
              0.1111111111111111,
              "#46039f"
             ],
             [
              0.2222222222222222,
              "#7201a8"
             ],
             [
              0.3333333333333333,
              "#9c179e"
             ],
             [
              0.4444444444444444,
              "#bd3786"
             ],
             [
              0.5555555555555556,
              "#d8576b"
             ],
             [
              0.6666666666666666,
              "#ed7953"
             ],
             [
              0.7777777777777778,
              "#fb9f3a"
             ],
             [
              0.8888888888888888,
              "#fdca26"
             ],
             [
              1,
              "#f0f921"
             ]
            ],
            "type": "heatmapgl"
           }
          ],
          "histogram": [
           {
            "marker": {
             "colorbar": {
              "outlinewidth": 0,
              "ticks": ""
             }
            },
            "type": "histogram"
           }
          ],
          "histogram2d": [
           {
            "colorbar": {
             "outlinewidth": 0,
             "ticks": ""
            },
            "colorscale": [
             [
              0,
              "#0d0887"
             ],
             [
              0.1111111111111111,
              "#46039f"
             ],
             [
              0.2222222222222222,
              "#7201a8"
             ],
             [
              0.3333333333333333,
              "#9c179e"
             ],
             [
              0.4444444444444444,
              "#bd3786"
             ],
             [
              0.5555555555555556,
              "#d8576b"
             ],
             [
              0.6666666666666666,
              "#ed7953"
             ],
             [
              0.7777777777777778,
              "#fb9f3a"
             ],
             [
              0.8888888888888888,
              "#fdca26"
             ],
             [
              1,
              "#f0f921"
             ]
            ],
            "type": "histogram2d"
           }
          ],
          "histogram2dcontour": [
           {
            "colorbar": {
             "outlinewidth": 0,
             "ticks": ""
            },
            "colorscale": [
             [
              0,
              "#0d0887"
             ],
             [
              0.1111111111111111,
              "#46039f"
             ],
             [
              0.2222222222222222,
              "#7201a8"
             ],
             [
              0.3333333333333333,
              "#9c179e"
             ],
             [
              0.4444444444444444,
              "#bd3786"
             ],
             [
              0.5555555555555556,
              "#d8576b"
             ],
             [
              0.6666666666666666,
              "#ed7953"
             ],
             [
              0.7777777777777778,
              "#fb9f3a"
             ],
             [
              0.8888888888888888,
              "#fdca26"
             ],
             [
              1,
              "#f0f921"
             ]
            ],
            "type": "histogram2dcontour"
           }
          ],
          "mesh3d": [
           {
            "colorbar": {
             "outlinewidth": 0,
             "ticks": ""
            },
            "type": "mesh3d"
           }
          ],
          "parcoords": [
           {
            "line": {
             "colorbar": {
              "outlinewidth": 0,
              "ticks": ""
             }
            },
            "type": "parcoords"
           }
          ],
          "pie": [
           {
            "automargin": true,
            "type": "pie"
           }
          ],
          "scatter": [
           {
            "marker": {
             "colorbar": {
              "outlinewidth": 0,
              "ticks": ""
             }
            },
            "type": "scatter"
           }
          ],
          "scatter3d": [
           {
            "line": {
             "colorbar": {
              "outlinewidth": 0,
              "ticks": ""
             }
            },
            "marker": {
             "colorbar": {
              "outlinewidth": 0,
              "ticks": ""
             }
            },
            "type": "scatter3d"
           }
          ],
          "scattercarpet": [
           {
            "marker": {
             "colorbar": {
              "outlinewidth": 0,
              "ticks": ""
             }
            },
            "type": "scattercarpet"
           }
          ],
          "scattergeo": [
           {
            "marker": {
             "colorbar": {
              "outlinewidth": 0,
              "ticks": ""
             }
            },
            "type": "scattergeo"
           }
          ],
          "scattergl": [
           {
            "marker": {
             "colorbar": {
              "outlinewidth": 0,
              "ticks": ""
             }
            },
            "type": "scattergl"
           }
          ],
          "scattermapbox": [
           {
            "marker": {
             "colorbar": {
              "outlinewidth": 0,
              "ticks": ""
             }
            },
            "type": "scattermapbox"
           }
          ],
          "scatterpolar": [
           {
            "marker": {
             "colorbar": {
              "outlinewidth": 0,
              "ticks": ""
             }
            },
            "type": "scatterpolar"
           }
          ],
          "scatterpolargl": [
           {
            "marker": {
             "colorbar": {
              "outlinewidth": 0,
              "ticks": ""
             }
            },
            "type": "scatterpolargl"
           }
          ],
          "scatterternary": [
           {
            "marker": {
             "colorbar": {
              "outlinewidth": 0,
              "ticks": ""
             }
            },
            "type": "scatterternary"
           }
          ],
          "surface": [
           {
            "colorbar": {
             "outlinewidth": 0,
             "ticks": ""
            },
            "colorscale": [
             [
              0,
              "#0d0887"
             ],
             [
              0.1111111111111111,
              "#46039f"
             ],
             [
              0.2222222222222222,
              "#7201a8"
             ],
             [
              0.3333333333333333,
              "#9c179e"
             ],
             [
              0.4444444444444444,
              "#bd3786"
             ],
             [
              0.5555555555555556,
              "#d8576b"
             ],
             [
              0.6666666666666666,
              "#ed7953"
             ],
             [
              0.7777777777777778,
              "#fb9f3a"
             ],
             [
              0.8888888888888888,
              "#fdca26"
             ],
             [
              1,
              "#f0f921"
             ]
            ],
            "type": "surface"
           }
          ],
          "table": [
           {
            "cells": {
             "fill": {
              "color": "#EBF0F8"
             },
             "line": {
              "color": "white"
             }
            },
            "header": {
             "fill": {
              "color": "#C8D4E3"
             },
             "line": {
              "color": "white"
             }
            },
            "type": "table"
           }
          ]
         },
         "layout": {
          "annotationdefaults": {
           "arrowcolor": "#2a3f5f",
           "arrowhead": 0,
           "arrowwidth": 1
          },
          "coloraxis": {
           "colorbar": {
            "outlinewidth": 0,
            "ticks": ""
           }
          },
          "colorscale": {
           "diverging": [
            [
             0,
             "#8e0152"
            ],
            [
             0.1,
             "#c51b7d"
            ],
            [
             0.2,
             "#de77ae"
            ],
            [
             0.3,
             "#f1b6da"
            ],
            [
             0.4,
             "#fde0ef"
            ],
            [
             0.5,
             "#f7f7f7"
            ],
            [
             0.6,
             "#e6f5d0"
            ],
            [
             0.7,
             "#b8e186"
            ],
            [
             0.8,
             "#7fbc41"
            ],
            [
             0.9,
             "#4d9221"
            ],
            [
             1,
             "#276419"
            ]
           ],
           "sequential": [
            [
             0,
             "#0d0887"
            ],
            [
             0.1111111111111111,
             "#46039f"
            ],
            [
             0.2222222222222222,
             "#7201a8"
            ],
            [
             0.3333333333333333,
             "#9c179e"
            ],
            [
             0.4444444444444444,
             "#bd3786"
            ],
            [
             0.5555555555555556,
             "#d8576b"
            ],
            [
             0.6666666666666666,
             "#ed7953"
            ],
            [
             0.7777777777777778,
             "#fb9f3a"
            ],
            [
             0.8888888888888888,
             "#fdca26"
            ],
            [
             1,
             "#f0f921"
            ]
           ],
           "sequentialminus": [
            [
             0,
             "#0d0887"
            ],
            [
             0.1111111111111111,
             "#46039f"
            ],
            [
             0.2222222222222222,
             "#7201a8"
            ],
            [
             0.3333333333333333,
             "#9c179e"
            ],
            [
             0.4444444444444444,
             "#bd3786"
            ],
            [
             0.5555555555555556,
             "#d8576b"
            ],
            [
             0.6666666666666666,
             "#ed7953"
            ],
            [
             0.7777777777777778,
             "#fb9f3a"
            ],
            [
             0.8888888888888888,
             "#fdca26"
            ],
            [
             1,
             "#f0f921"
            ]
           ]
          },
          "colorway": [
           "#636efa",
           "#EF553B",
           "#00cc96",
           "#ab63fa",
           "#FFA15A",
           "#19d3f3",
           "#FF6692",
           "#B6E880",
           "#FF97FF",
           "#FECB52"
          ],
          "font": {
           "color": "#2a3f5f"
          },
          "geo": {
           "bgcolor": "white",
           "lakecolor": "white",
           "landcolor": "#E5ECF6",
           "showlakes": true,
           "showland": true,
           "subunitcolor": "white"
          },
          "hoverlabel": {
           "align": "left"
          },
          "hovermode": "closest",
          "mapbox": {
           "style": "light"
          },
          "paper_bgcolor": "white",
          "plot_bgcolor": "#E5ECF6",
          "polar": {
           "angularaxis": {
            "gridcolor": "white",
            "linecolor": "white",
            "ticks": ""
           },
           "bgcolor": "#E5ECF6",
           "radialaxis": {
            "gridcolor": "white",
            "linecolor": "white",
            "ticks": ""
           }
          },
          "scene": {
           "xaxis": {
            "backgroundcolor": "#E5ECF6",
            "gridcolor": "white",
            "gridwidth": 2,
            "linecolor": "white",
            "showbackground": true,
            "ticks": "",
            "zerolinecolor": "white"
           },
           "yaxis": {
            "backgroundcolor": "#E5ECF6",
            "gridcolor": "white",
            "gridwidth": 2,
            "linecolor": "white",
            "showbackground": true,
            "ticks": "",
            "zerolinecolor": "white"
           },
           "zaxis": {
            "backgroundcolor": "#E5ECF6",
            "gridcolor": "white",
            "gridwidth": 2,
            "linecolor": "white",
            "showbackground": true,
            "ticks": "",
            "zerolinecolor": "white"
           }
          },
          "shapedefaults": {
           "line": {
            "color": "#2a3f5f"
           }
          },
          "ternary": {
           "aaxis": {
            "gridcolor": "white",
            "linecolor": "white",
            "ticks": ""
           },
           "baxis": {
            "gridcolor": "white",
            "linecolor": "white",
            "ticks": ""
           },
           "bgcolor": "#E5ECF6",
           "caxis": {
            "gridcolor": "white",
            "linecolor": "white",
            "ticks": ""
           }
          },
          "title": {
           "x": 0.05
          },
          "xaxis": {
           "automargin": true,
           "gridcolor": "white",
           "linecolor": "white",
           "ticks": "",
           "title": {
            "standoff": 15
           },
           "zerolinecolor": "white",
           "zerolinewidth": 2
          },
          "yaxis": {
           "automargin": true,
           "gridcolor": "white",
           "linecolor": "white",
           "ticks": "",
           "title": {
            "standoff": 15
           },
           "zerolinecolor": "white",
           "zerolinewidth": 2
          }
         }
        },
        "title": {
         "font": {
          "color": "#4D5663"
         }
        },
        "xaxis": {
         "gridcolor": "#E1E5ED",
         "showgrid": true,
         "tickfont": {
          "color": "#4D5663"
         },
         "title": {
          "font": {
           "color": "#4D5663"
          },
          "text": ""
         },
         "zerolinecolor": "#E1E5ED"
        },
        "yaxis": {
         "gridcolor": "#E1E5ED",
         "showgrid": true,
         "tickfont": {
          "color": "#4D5663"
         },
         "title": {
          "font": {
           "color": "#4D5663"
          },
          "text": ""
         },
         "zerolinecolor": "#E1E5ED"
        }
       }
      },
      "text/html": [
       "<div>\n",
       "        \n",
       "        \n",
       "            <div id=\"a3f472fa-b3ae-462f-a19e-279593123160\" class=\"plotly-graph-div\" style=\"height:525px; width:100%;\"></div>\n",
       "            <script type=\"text/javascript\">\n",
       "                require([\"plotly\"], function(Plotly) {\n",
       "                    window.PLOTLYENV=window.PLOTLYENV || {};\n",
       "                    window.PLOTLYENV.BASE_URL='https://plot.ly';\n",
       "                    \n",
       "                if (document.getElementById(\"a3f472fa-b3ae-462f-a19e-279593123160\")) {\n",
       "                    Plotly.newPlot(\n",
       "                        'a3f472fa-b3ae-462f-a19e-279593123160',\n",
       "                        [{\"line\": {\"color\": \"rgba(255, 153, 51, 1.0)\", \"dash\": \"solid\", \"shape\": \"linear\", \"width\": 1.3}, \"marker\": {\"size\": 12, \"symbol\": \"circle\"}, \"mode\": \"markers\", \"name\": \"B\", \"text\": \"\", \"type\": \"scatter\", \"x\": [1.5023563012055845, 0.4087626388893659, 1.5993197844213576, -0.5215118809744652, 1.5681236600191981, 0.7468356261210932, -0.749310641952968, 0.1159935148313741, 0.22045916587711767, -0.4550011729283677, 0.8563933097341867, -2.066795909564812, -0.38285290167817404, 0.01900787684381683, -0.12630271810268817, 0.5680388021904351, 1.14854911597069, 0.6436069259066923, 0.13859935383240438, -0.4956911855443848, 0.4836194286327407, -1.2764417035087179, -0.5398190900873907, 0.5796992019373896, -0.6037038043213754, 0.7253532286953808, 0.6834182495980821, -2.8845872018457897, 1.0233482449319187, -2.552401535794378, 2.3124239629877583, -0.8127401942686726, -0.23445084013367548, -0.6759192578683721, -2.5062077810487255, -1.2244355783037433, 0.6694110332929116, -0.0034276115223639343, 0.03204469823716342, -0.648084262291826, 2.5628246207053778, 0.9000009050597508, 0.7517099499732545, 1.2007637923291639, -1.9465668851371996, -2.413766407744819, -0.05082089573082934, 1.207415735066595, -0.3835094510702304, 0.5221421859827696, -0.5248958874051288, 0.24619873930310585, 0.5677610344566094, -0.4866092245561927, -0.7416586364234559, 0.24855280589543127, 1.2144044039988526, -0.14093054717060302, 0.2963349236939744, -0.4291217100089392, 1.1491732439347566, -0.5216591508755286, 1.31822530500963, -0.47105727955537935, -0.40446633360902595, 2.1459042895302747, 0.6334555504966481, 0.4176419554202106, -1.0273773683227392, 1.1263431197506402, 0.10469582241142089, -0.5906651009155758, -0.45518656697518617, 1.3026059396663974, 0.7571755070928892, 0.10743952906925054, 2.0706685836531564, 0.5559870929964155, 2.380054547983395, -0.39070598757151437, 1.16309570735863, 0.53168218102069, 0.5568769817666138, 0.39298936796065026, 0.7338227726831591, 0.5032917926801018, -0.5716134754818609, 1.286383898901556, 0.025648738117446, 0.5157472248880189, -0.5104493617558568, -0.4733753767654713, 0.36745876642344916, 1.3072126283906071, 0.35925235054705673, 0.3793647207507, -0.21779341066885025, -0.5505938066317233, -0.5936228067274162, -0.18854451853239493], \"y\": [-0.1412993310039659, 0.11155348249657292, 1.7453199674605695, -0.814399733552155, 0.6214554653204177, -0.8935622081683393, 0.7423908327196167, 0.08876231792153962, 0.40884368254280434, 1.5231546429751541, -0.5038028339596781, 1.277663239880953, 1.9315664231705278, 1.2882374316313956, -0.814476238152969, -2.0472988868964954, -1.1619809357848054, -0.6020708574357105, -0.4172171560670958, 0.5656423397142257, -0.4422039548072374, 1.6173040675324941, 0.6934044898267794, -0.4948009086882394, -0.7040470246206365, -1.9134367284968632, 0.7383244841914276, -1.1883843708189352, 0.30363915459858953, 0.2776451954473241, -0.7165225765471165, 1.0077314628934022, -0.4603279365194043, 0.38373042738479957, -0.518952600073326, -1.4636786992458364, 0.7476083884716154, 0.31237621371744645, 1.1441291559955, -0.13738132300664588, 0.2917094591812687, -0.5435138932574668, -0.09764547059440395, -0.8543035432170192, -1.694606999440116, 0.6872321801985894, -0.3105771583046316, -0.14628769666578054, -1.2645444232569238, 1.3221177881297856, -0.06864973864910799, 0.5369862529725257, 0.20434322894119525, 0.9269791155272793, -0.10772717371906558, 0.6636624429782333, -1.1341086710570782, 0.7112881367396519, -0.24585306295182344, 2.7491305879931875, -0.9081798223062961, -0.9157857216788398, -0.008619830977527013, 0.4968473874841331, -0.5343255676597688, 0.2855137060759064, 0.6117559359156879, -2.446379280416086, 0.33071812904434594, -1.071280221455606, 0.685618779079314, 1.4672553004235602, -0.3727388594504119, -0.09291567551181286, -0.34523412406140225, -0.05274550962737803, 0.04654323576000232, 0.2916776854652369, 0.963598536755656, 0.4654431727575727, 0.19669889726716824, -0.7242027558405483, -0.7113448412421286, -0.21696242004052127, -0.6539765540211312, -1.9236864401903981, 1.0149705541185587, 1.0646071027030528, -0.9559870634609606, 0.46215740722226095, -0.5700862496512421, 0.5363637562177255, -1.0839231569328327, 0.5562315410374225, -0.7832219667339138, 0.4841939952459761, -2.3192789416549995, -1.4624996532320187, -0.31539742955163974, 0.07762935312683132]}],\n",
       "                        {\"legend\": {\"bgcolor\": \"#F5F6F9\", \"font\": {\"color\": \"#4D5663\"}}, \"paper_bgcolor\": \"#F5F6F9\", \"plot_bgcolor\": \"#F5F6F9\", \"template\": {\"data\": {\"bar\": [{\"error_x\": {\"color\": \"#2a3f5f\"}, \"error_y\": {\"color\": \"#2a3f5f\"}, \"marker\": {\"line\": {\"color\": \"#E5ECF6\", \"width\": 0.5}}, \"type\": \"bar\"}], \"barpolar\": [{\"marker\": {\"line\": {\"color\": \"#E5ECF6\", \"width\": 0.5}}, \"type\": \"barpolar\"}], \"carpet\": [{\"aaxis\": {\"endlinecolor\": \"#2a3f5f\", \"gridcolor\": \"white\", \"linecolor\": \"white\", \"minorgridcolor\": \"white\", \"startlinecolor\": \"#2a3f5f\"}, \"baxis\": {\"endlinecolor\": \"#2a3f5f\", \"gridcolor\": \"white\", \"linecolor\": \"white\", \"minorgridcolor\": \"white\", \"startlinecolor\": \"#2a3f5f\"}, \"type\": \"carpet\"}], \"choropleth\": [{\"colorbar\": {\"outlinewidth\": 0, \"ticks\": \"\"}, \"type\": \"choropleth\"}], \"contour\": [{\"colorbar\": {\"outlinewidth\": 0, \"ticks\": \"\"}, \"colorscale\": [[0.0, \"#0d0887\"], [0.1111111111111111, \"#46039f\"], [0.2222222222222222, \"#7201a8\"], [0.3333333333333333, \"#9c179e\"], [0.4444444444444444, \"#bd3786\"], [0.5555555555555556, \"#d8576b\"], [0.6666666666666666, \"#ed7953\"], [0.7777777777777778, \"#fb9f3a\"], [0.8888888888888888, \"#fdca26\"], [1.0, \"#f0f921\"]], \"type\": \"contour\"}], \"contourcarpet\": [{\"colorbar\": {\"outlinewidth\": 0, \"ticks\": \"\"}, \"type\": \"contourcarpet\"}], \"heatmap\": [{\"colorbar\": {\"outlinewidth\": 0, \"ticks\": \"\"}, \"colorscale\": [[0.0, \"#0d0887\"], [0.1111111111111111, \"#46039f\"], [0.2222222222222222, \"#7201a8\"], [0.3333333333333333, \"#9c179e\"], [0.4444444444444444, \"#bd3786\"], [0.5555555555555556, \"#d8576b\"], [0.6666666666666666, \"#ed7953\"], [0.7777777777777778, \"#fb9f3a\"], [0.8888888888888888, \"#fdca26\"], [1.0, \"#f0f921\"]], \"type\": \"heatmap\"}], \"heatmapgl\": [{\"colorbar\": {\"outlinewidth\": 0, \"ticks\": \"\"}, \"colorscale\": [[0.0, \"#0d0887\"], [0.1111111111111111, \"#46039f\"], [0.2222222222222222, \"#7201a8\"], [0.3333333333333333, \"#9c179e\"], [0.4444444444444444, \"#bd3786\"], [0.5555555555555556, \"#d8576b\"], [0.6666666666666666, \"#ed7953\"], [0.7777777777777778, \"#fb9f3a\"], [0.8888888888888888, \"#fdca26\"], [1.0, \"#f0f921\"]], \"type\": \"heatmapgl\"}], \"histogram\": [{\"marker\": {\"colorbar\": {\"outlinewidth\": 0, \"ticks\": \"\"}}, \"type\": \"histogram\"}], \"histogram2d\": [{\"colorbar\": {\"outlinewidth\": 0, \"ticks\": \"\"}, \"colorscale\": [[0.0, \"#0d0887\"], [0.1111111111111111, \"#46039f\"], [0.2222222222222222, \"#7201a8\"], [0.3333333333333333, \"#9c179e\"], [0.4444444444444444, \"#bd3786\"], [0.5555555555555556, \"#d8576b\"], [0.6666666666666666, \"#ed7953\"], [0.7777777777777778, \"#fb9f3a\"], [0.8888888888888888, \"#fdca26\"], [1.0, \"#f0f921\"]], \"type\": \"histogram2d\"}], \"histogram2dcontour\": [{\"colorbar\": {\"outlinewidth\": 0, \"ticks\": \"\"}, \"colorscale\": [[0.0, \"#0d0887\"], [0.1111111111111111, \"#46039f\"], [0.2222222222222222, \"#7201a8\"], [0.3333333333333333, \"#9c179e\"], [0.4444444444444444, \"#bd3786\"], [0.5555555555555556, \"#d8576b\"], [0.6666666666666666, \"#ed7953\"], [0.7777777777777778, \"#fb9f3a\"], [0.8888888888888888, \"#fdca26\"], [1.0, \"#f0f921\"]], \"type\": \"histogram2dcontour\"}], \"mesh3d\": [{\"colorbar\": {\"outlinewidth\": 0, \"ticks\": \"\"}, \"type\": \"mesh3d\"}], \"parcoords\": [{\"line\": {\"colorbar\": {\"outlinewidth\": 0, \"ticks\": \"\"}}, \"type\": \"parcoords\"}], \"pie\": [{\"automargin\": true, \"type\": \"pie\"}], \"scatter\": [{\"marker\": {\"colorbar\": {\"outlinewidth\": 0, \"ticks\": \"\"}}, \"type\": \"scatter\"}], \"scatter3d\": [{\"line\": {\"colorbar\": {\"outlinewidth\": 0, \"ticks\": \"\"}}, \"marker\": {\"colorbar\": {\"outlinewidth\": 0, \"ticks\": \"\"}}, \"type\": \"scatter3d\"}], \"scattercarpet\": [{\"marker\": {\"colorbar\": {\"outlinewidth\": 0, \"ticks\": \"\"}}, \"type\": \"scattercarpet\"}], \"scattergeo\": [{\"marker\": {\"colorbar\": {\"outlinewidth\": 0, \"ticks\": \"\"}}, \"type\": \"scattergeo\"}], \"scattergl\": [{\"marker\": {\"colorbar\": {\"outlinewidth\": 0, \"ticks\": \"\"}}, \"type\": \"scattergl\"}], \"scattermapbox\": [{\"marker\": {\"colorbar\": {\"outlinewidth\": 0, \"ticks\": \"\"}}, \"type\": \"scattermapbox\"}], \"scatterpolar\": [{\"marker\": {\"colorbar\": {\"outlinewidth\": 0, \"ticks\": \"\"}}, \"type\": \"scatterpolar\"}], \"scatterpolargl\": [{\"marker\": {\"colorbar\": {\"outlinewidth\": 0, \"ticks\": \"\"}}, \"type\": \"scatterpolargl\"}], \"scatterternary\": [{\"marker\": {\"colorbar\": {\"outlinewidth\": 0, \"ticks\": \"\"}}, \"type\": \"scatterternary\"}], \"surface\": [{\"colorbar\": {\"outlinewidth\": 0, \"ticks\": \"\"}, \"colorscale\": [[0.0, \"#0d0887\"], [0.1111111111111111, \"#46039f\"], [0.2222222222222222, \"#7201a8\"], [0.3333333333333333, \"#9c179e\"], [0.4444444444444444, \"#bd3786\"], [0.5555555555555556, \"#d8576b\"], [0.6666666666666666, \"#ed7953\"], [0.7777777777777778, \"#fb9f3a\"], [0.8888888888888888, \"#fdca26\"], [1.0, \"#f0f921\"]], \"type\": \"surface\"}], \"table\": [{\"cells\": {\"fill\": {\"color\": \"#EBF0F8\"}, \"line\": {\"color\": \"white\"}}, \"header\": {\"fill\": {\"color\": \"#C8D4E3\"}, \"line\": {\"color\": \"white\"}}, \"type\": \"table\"}]}, \"layout\": {\"annotationdefaults\": {\"arrowcolor\": \"#2a3f5f\", \"arrowhead\": 0, \"arrowwidth\": 1}, \"coloraxis\": {\"colorbar\": {\"outlinewidth\": 0, \"ticks\": \"\"}}, \"colorscale\": {\"diverging\": [[0, \"#8e0152\"], [0.1, \"#c51b7d\"], [0.2, \"#de77ae\"], [0.3, \"#f1b6da\"], [0.4, \"#fde0ef\"], [0.5, \"#f7f7f7\"], [0.6, \"#e6f5d0\"], [0.7, \"#b8e186\"], [0.8, \"#7fbc41\"], [0.9, \"#4d9221\"], [1, \"#276419\"]], \"sequential\": [[0.0, \"#0d0887\"], [0.1111111111111111, \"#46039f\"], [0.2222222222222222, \"#7201a8\"], [0.3333333333333333, \"#9c179e\"], [0.4444444444444444, \"#bd3786\"], [0.5555555555555556, \"#d8576b\"], [0.6666666666666666, \"#ed7953\"], [0.7777777777777778, \"#fb9f3a\"], [0.8888888888888888, \"#fdca26\"], [1.0, \"#f0f921\"]], \"sequentialminus\": [[0.0, \"#0d0887\"], [0.1111111111111111, \"#46039f\"], [0.2222222222222222, \"#7201a8\"], [0.3333333333333333, \"#9c179e\"], [0.4444444444444444, \"#bd3786\"], [0.5555555555555556, \"#d8576b\"], [0.6666666666666666, \"#ed7953\"], [0.7777777777777778, \"#fb9f3a\"], [0.8888888888888888, \"#fdca26\"], [1.0, \"#f0f921\"]]}, \"colorway\": [\"#636efa\", \"#EF553B\", \"#00cc96\", \"#ab63fa\", \"#FFA15A\", \"#19d3f3\", \"#FF6692\", \"#B6E880\", \"#FF97FF\", \"#FECB52\"], \"font\": {\"color\": \"#2a3f5f\"}, \"geo\": {\"bgcolor\": \"white\", \"lakecolor\": \"white\", \"landcolor\": \"#E5ECF6\", \"showlakes\": true, \"showland\": true, \"subunitcolor\": \"white\"}, \"hoverlabel\": {\"align\": \"left\"}, \"hovermode\": \"closest\", \"mapbox\": {\"style\": \"light\"}, \"paper_bgcolor\": \"white\", \"plot_bgcolor\": \"#E5ECF6\", \"polar\": {\"angularaxis\": {\"gridcolor\": \"white\", \"linecolor\": \"white\", \"ticks\": \"\"}, \"bgcolor\": \"#E5ECF6\", \"radialaxis\": {\"gridcolor\": \"white\", \"linecolor\": \"white\", \"ticks\": \"\"}}, \"scene\": {\"xaxis\": {\"backgroundcolor\": \"#E5ECF6\", \"gridcolor\": \"white\", \"gridwidth\": 2, \"linecolor\": \"white\", \"showbackground\": true, \"ticks\": \"\", \"zerolinecolor\": \"white\"}, \"yaxis\": {\"backgroundcolor\": \"#E5ECF6\", \"gridcolor\": \"white\", \"gridwidth\": 2, \"linecolor\": \"white\", \"showbackground\": true, \"ticks\": \"\", \"zerolinecolor\": \"white\"}, \"zaxis\": {\"backgroundcolor\": \"#E5ECF6\", \"gridcolor\": \"white\", \"gridwidth\": 2, \"linecolor\": \"white\", \"showbackground\": true, \"ticks\": \"\", \"zerolinecolor\": \"white\"}}, \"shapedefaults\": {\"line\": {\"color\": \"#2a3f5f\"}}, \"ternary\": {\"aaxis\": {\"gridcolor\": \"white\", \"linecolor\": \"white\", \"ticks\": \"\"}, \"baxis\": {\"gridcolor\": \"white\", \"linecolor\": \"white\", \"ticks\": \"\"}, \"bgcolor\": \"#E5ECF6\", \"caxis\": {\"gridcolor\": \"white\", \"linecolor\": \"white\", \"ticks\": \"\"}}, \"title\": {\"x\": 0.05}, \"xaxis\": {\"automargin\": true, \"gridcolor\": \"white\", \"linecolor\": \"white\", \"ticks\": \"\", \"title\": {\"standoff\": 15}, \"zerolinecolor\": \"white\", \"zerolinewidth\": 2}, \"yaxis\": {\"automargin\": true, \"gridcolor\": \"white\", \"linecolor\": \"white\", \"ticks\": \"\", \"title\": {\"standoff\": 15}, \"zerolinecolor\": \"white\", \"zerolinewidth\": 2}}}, \"title\": {\"font\": {\"color\": \"#4D5663\"}}, \"xaxis\": {\"gridcolor\": \"#E1E5ED\", \"showgrid\": true, \"tickfont\": {\"color\": \"#4D5663\"}, \"title\": {\"font\": {\"color\": \"#4D5663\"}, \"text\": \"\"}, \"zerolinecolor\": \"#E1E5ED\"}, \"yaxis\": {\"gridcolor\": \"#E1E5ED\", \"showgrid\": true, \"tickfont\": {\"color\": \"#4D5663\"}, \"title\": {\"font\": {\"color\": \"#4D5663\"}, \"text\": \"\"}, \"zerolinecolor\": \"#E1E5ED\"}},\n",
       "                        {\"showLink\": true, \"linkText\": \"Export to plot.ly\", \"plotlyServerURL\": \"https://plot.ly\", \"responsive\": true}\n",
       "                    ).then(function(){\n",
       "                            \n",
       "var gd = document.getElementById('a3f472fa-b3ae-462f-a19e-279593123160');\n",
       "var x = new MutationObserver(function (mutations, observer) {{\n",
       "        var display = window.getComputedStyle(gd).display;\n",
       "        if (!display || display === 'none') {{\n",
       "            console.log([gd, 'removed!']);\n",
       "            Plotly.purge(gd);\n",
       "            observer.disconnect();\n",
       "        }}\n",
       "}});\n",
       "\n",
       "// Listen for the removal of the full notebook cells\n",
       "var notebookContainer = gd.closest('#notebook-container');\n",
       "if (notebookContainer) {{\n",
       "    x.observe(notebookContainer, {childList: true});\n",
       "}}\n",
       "\n",
       "// Listen for the clearing of the current output cell\n",
       "var outputEl = gd.closest('.output');\n",
       "if (outputEl) {{\n",
       "    x.observe(outputEl, {childList: true});\n",
       "}}\n",
       "\n",
       "                        })\n",
       "                };\n",
       "                });\n",
       "            </script>\n",
       "        </div>"
      ]
     },
     "metadata": {},
     "output_type": "display_data"
    }
   ],
   "source": [
    "df.iplot(kind='scatter',x='A',y='B',mode='markers')"
   ]
  },
  {
   "cell_type": "code",
   "execution_count": 19,
   "metadata": {},
   "outputs": [
    {
     "data": {
      "application/vnd.plotly.v1+json": {
       "config": {
        "linkText": "Export to plot.ly",
        "plotlyServerURL": "https://plot.ly",
        "showLink": true
       },
       "data": [
        {
         "marker": {
          "color": "rgba(255, 153, 51, 0.6)",
          "line": {
           "color": "rgba(255, 153, 51, 1.0)",
           "width": 1
          }
         },
         "name": "A",
         "orientation": "v",
         "text": "",
         "type": "bar",
         "x": [
          0,
          1,
          2,
          3,
          4,
          5,
          6,
          7,
          8,
          9,
          10,
          11,
          12,
          13,
          14,
          15,
          16,
          17,
          18,
          19,
          20,
          21,
          22,
          23,
          24,
          25,
          26,
          27,
          28,
          29,
          30,
          31,
          32,
          33,
          34,
          35,
          36,
          37,
          38,
          39,
          40,
          41,
          42,
          43,
          44,
          45,
          46,
          47,
          48,
          49,
          50,
          51,
          52,
          53,
          54,
          55,
          56,
          57,
          58,
          59,
          60,
          61,
          62,
          63,
          64,
          65,
          66,
          67,
          68,
          69,
          70,
          71,
          72,
          73,
          74,
          75,
          76,
          77,
          78,
          79,
          80,
          81,
          82,
          83,
          84,
          85,
          86,
          87,
          88,
          89,
          90,
          91,
          92,
          93,
          94,
          95,
          96,
          97,
          98,
          99
         ],
         "y": [
          1.5023563012055845,
          0.4087626388893659,
          1.5993197844213576,
          -0.5215118809744652,
          1.5681236600191981,
          0.7468356261210932,
          -0.749310641952968,
          0.1159935148313741,
          0.22045916587711767,
          -0.4550011729283677,
          0.8563933097341867,
          -2.066795909564812,
          -0.38285290167817404,
          0.01900787684381683,
          -0.12630271810268817,
          0.5680388021904351,
          1.14854911597069,
          0.6436069259066923,
          0.13859935383240438,
          -0.4956911855443848,
          0.4836194286327407,
          -1.2764417035087179,
          -0.5398190900873907,
          0.5796992019373896,
          -0.6037038043213754,
          0.7253532286953808,
          0.6834182495980821,
          -2.8845872018457897,
          1.0233482449319187,
          -2.552401535794378,
          2.3124239629877583,
          -0.8127401942686726,
          -0.23445084013367548,
          -0.6759192578683721,
          -2.5062077810487255,
          -1.2244355783037433,
          0.6694110332929116,
          -0.0034276115223639343,
          0.03204469823716342,
          -0.648084262291826,
          2.5628246207053778,
          0.9000009050597508,
          0.7517099499732545,
          1.2007637923291639,
          -1.9465668851371996,
          -2.413766407744819,
          -0.05082089573082934,
          1.207415735066595,
          -0.3835094510702304,
          0.5221421859827696,
          -0.5248958874051288,
          0.24619873930310585,
          0.5677610344566094,
          -0.4866092245561927,
          -0.7416586364234559,
          0.24855280589543127,
          1.2144044039988526,
          -0.14093054717060302,
          0.2963349236939744,
          -0.4291217100089392,
          1.1491732439347566,
          -0.5216591508755286,
          1.31822530500963,
          -0.47105727955537935,
          -0.40446633360902595,
          2.1459042895302747,
          0.6334555504966481,
          0.4176419554202106,
          -1.0273773683227392,
          1.1263431197506402,
          0.10469582241142089,
          -0.5906651009155758,
          -0.45518656697518617,
          1.3026059396663974,
          0.7571755070928892,
          0.10743952906925054,
          2.0706685836531564,
          0.5559870929964155,
          2.380054547983395,
          -0.39070598757151437,
          1.16309570735863,
          0.53168218102069,
          0.5568769817666138,
          0.39298936796065026,
          0.7338227726831591,
          0.5032917926801018,
          -0.5716134754818609,
          1.286383898901556,
          0.025648738117446,
          0.5157472248880189,
          -0.5104493617558568,
          -0.4733753767654713,
          0.36745876642344916,
          1.3072126283906071,
          0.35925235054705673,
          0.3793647207507,
          -0.21779341066885025,
          -0.5505938066317233,
          -0.5936228067274162,
          -0.18854451853239493
         ]
        },
        {
         "marker": {
          "color": "rgba(55, 128, 191, 0.6)",
          "line": {
           "color": "rgba(55, 128, 191, 1.0)",
           "width": 1
          }
         },
         "name": "B",
         "orientation": "v",
         "text": "",
         "type": "bar",
         "x": [
          0,
          1,
          2,
          3,
          4,
          5,
          6,
          7,
          8,
          9,
          10,
          11,
          12,
          13,
          14,
          15,
          16,
          17,
          18,
          19,
          20,
          21,
          22,
          23,
          24,
          25,
          26,
          27,
          28,
          29,
          30,
          31,
          32,
          33,
          34,
          35,
          36,
          37,
          38,
          39,
          40,
          41,
          42,
          43,
          44,
          45,
          46,
          47,
          48,
          49,
          50,
          51,
          52,
          53,
          54,
          55,
          56,
          57,
          58,
          59,
          60,
          61,
          62,
          63,
          64,
          65,
          66,
          67,
          68,
          69,
          70,
          71,
          72,
          73,
          74,
          75,
          76,
          77,
          78,
          79,
          80,
          81,
          82,
          83,
          84,
          85,
          86,
          87,
          88,
          89,
          90,
          91,
          92,
          93,
          94,
          95,
          96,
          97,
          98,
          99
         ],
         "y": [
          -0.1412993310039659,
          0.11155348249657292,
          1.7453199674605695,
          -0.814399733552155,
          0.6214554653204177,
          -0.8935622081683393,
          0.7423908327196167,
          0.08876231792153962,
          0.40884368254280434,
          1.5231546429751541,
          -0.5038028339596781,
          1.277663239880953,
          1.9315664231705278,
          1.2882374316313956,
          -0.814476238152969,
          -2.0472988868964954,
          -1.1619809357848054,
          -0.6020708574357105,
          -0.4172171560670958,
          0.5656423397142257,
          -0.4422039548072374,
          1.6173040675324941,
          0.6934044898267794,
          -0.4948009086882394,
          -0.7040470246206365,
          -1.9134367284968632,
          0.7383244841914276,
          -1.1883843708189352,
          0.30363915459858953,
          0.2776451954473241,
          -0.7165225765471165,
          1.0077314628934022,
          -0.4603279365194043,
          0.38373042738479957,
          -0.518952600073326,
          -1.4636786992458364,
          0.7476083884716154,
          0.31237621371744645,
          1.1441291559955,
          -0.13738132300664588,
          0.2917094591812687,
          -0.5435138932574668,
          -0.09764547059440395,
          -0.8543035432170192,
          -1.694606999440116,
          0.6872321801985894,
          -0.3105771583046316,
          -0.14628769666578054,
          -1.2645444232569238,
          1.3221177881297856,
          -0.06864973864910799,
          0.5369862529725257,
          0.20434322894119525,
          0.9269791155272793,
          -0.10772717371906558,
          0.6636624429782333,
          -1.1341086710570782,
          0.7112881367396519,
          -0.24585306295182344,
          2.7491305879931875,
          -0.9081798223062961,
          -0.9157857216788398,
          -0.008619830977527013,
          0.4968473874841331,
          -0.5343255676597688,
          0.2855137060759064,
          0.6117559359156879,
          -2.446379280416086,
          0.33071812904434594,
          -1.071280221455606,
          0.685618779079314,
          1.4672553004235602,
          -0.3727388594504119,
          -0.09291567551181286,
          -0.34523412406140225,
          -0.05274550962737803,
          0.04654323576000232,
          0.2916776854652369,
          0.963598536755656,
          0.4654431727575727,
          0.19669889726716824,
          -0.7242027558405483,
          -0.7113448412421286,
          -0.21696242004052127,
          -0.6539765540211312,
          -1.9236864401903981,
          1.0149705541185587,
          1.0646071027030528,
          -0.9559870634609606,
          0.46215740722226095,
          -0.5700862496512421,
          0.5363637562177255,
          -1.0839231569328327,
          0.5562315410374225,
          -0.7832219667339138,
          0.4841939952459761,
          -2.3192789416549995,
          -1.4624996532320187,
          -0.31539742955163974,
          0.07762935312683132
         ]
        },
        {
         "marker": {
          "color": "rgba(50, 171, 96, 0.6)",
          "line": {
           "color": "rgba(50, 171, 96, 1.0)",
           "width": 1
          }
         },
         "name": "C",
         "orientation": "v",
         "text": "",
         "type": "bar",
         "x": [
          0,
          1,
          2,
          3,
          4,
          5,
          6,
          7,
          8,
          9,
          10,
          11,
          12,
          13,
          14,
          15,
          16,
          17,
          18,
          19,
          20,
          21,
          22,
          23,
          24,
          25,
          26,
          27,
          28,
          29,
          30,
          31,
          32,
          33,
          34,
          35,
          36,
          37,
          38,
          39,
          40,
          41,
          42,
          43,
          44,
          45,
          46,
          47,
          48,
          49,
          50,
          51,
          52,
          53,
          54,
          55,
          56,
          57,
          58,
          59,
          60,
          61,
          62,
          63,
          64,
          65,
          66,
          67,
          68,
          69,
          70,
          71,
          72,
          73,
          74,
          75,
          76,
          77,
          78,
          79,
          80,
          81,
          82,
          83,
          84,
          85,
          86,
          87,
          88,
          89,
          90,
          91,
          92,
          93,
          94,
          95,
          96,
          97,
          98,
          99
         ],
         "y": [
          0.4060127339438663,
          -0.7982496783697365,
          1.123601971839627,
          0.4058048602297246,
          0.2745561016720758,
          0.027475844105220772,
          -0.22383021302281453,
          -0.39387936056102335,
          0.46958773686681554,
          1.0318532728612242,
          -0.24670914055786855,
          -0.6158092236253605,
          0.3357316529625056,
          0.33549334879556586,
          -0.3420057984448994,
          -0.5729067470502307,
          0.944555988637591,
          1.6466709364637417,
          -0.6046253611903157,
          1.1164169657669007,
          -0.20836647515525453,
          -0.3251835589694398,
          -1.2223825639379888,
          0.9111127533544581,
          0.7714510155383001,
          -0.11910029332390273,
          0.6925253498084671,
          0.761678498587015,
          -0.21122116515593753,
          -1.8911317407454065,
          -0.6477421966041468,
          1.746998679272337,
          -1.7771617442088992,
          0.6549085009105307,
          1.4788993264746322,
          -0.5627472212555263,
          -0.9117802943654789,
          -0.044173489311235214,
          0.7799243277831824,
          -0.009326740102037481,
          -0.7202522194882793,
          -0.7240445885164354,
          0.49987218845528786,
          -0.19517962211662349,
          0.012250267699824213,
          -0.22559392376468862,
          -0.4808350357460893,
          -0.8198241736310934,
          0.19911254148027172,
          0.5290633506851798,
          0.2526330126879686,
          -0.9212198132849635,
          1.330206416841273,
          -1.3646681089815724,
          -0.8176747165637754,
          0.8453057646843333,
          -0.4028552804000192,
          -2.060148639010836,
          0.5812027839577867,
          0.11052420643035013,
          0.41282004544314155,
          -0.14089989297248323,
          1.45061283483238,
          0.18831388859592682,
          -1.1439882648437452,
          -1.1849927000093727,
          1.2413796077745642,
          -0.5577161325566812,
          -0.61933102563376,
          -1.037967425542334,
          -1.1119068495937685,
          -0.34404925965830496,
          -1.5708253521732911,
          -0.1744878934567653,
          -0.6375590559920541,
          -1.5414458738716459,
          0.919868277100258,
          1.0490659600613328,
          0.08470892651567892,
          -1.1117047344287596,
          0.07203519479416232,
          0.006055862150619064,
          1.2245168625491816,
          0.3591325369860431,
          -0.014752796925019226,
          0.9663004218908801,
          0.6340307723650775,
          1.1679323322976998,
          -0.8019974364914285,
          2.009899707838478,
          1.351686235098478,
          -0.16357633038026712,
          1.0467381976205765,
          -0.9884777911500046,
          -1.179242961599606,
          0.19637991258516102,
          0.02752192332194667,
          -0.4772929189208354,
          -1.2072566311627462,
          0.28531937373349664
         ]
        },
        {
         "marker": {
          "color": "rgba(128, 0, 128, 0.6)",
          "line": {
           "color": "rgba(128, 0, 128, 1.0)",
           "width": 1
          }
         },
         "name": "D",
         "orientation": "v",
         "text": "",
         "type": "bar",
         "x": [
          0,
          1,
          2,
          3,
          4,
          5,
          6,
          7,
          8,
          9,
          10,
          11,
          12,
          13,
          14,
          15,
          16,
          17,
          18,
          19,
          20,
          21,
          22,
          23,
          24,
          25,
          26,
          27,
          28,
          29,
          30,
          31,
          32,
          33,
          34,
          35,
          36,
          37,
          38,
          39,
          40,
          41,
          42,
          43,
          44,
          45,
          46,
          47,
          48,
          49,
          50,
          51,
          52,
          53,
          54,
          55,
          56,
          57,
          58,
          59,
          60,
          61,
          62,
          63,
          64,
          65,
          66,
          67,
          68,
          69,
          70,
          71,
          72,
          73,
          74,
          75,
          76,
          77,
          78,
          79,
          80,
          81,
          82,
          83,
          84,
          85,
          86,
          87,
          88,
          89,
          90,
          91,
          92,
          93,
          94,
          95,
          96,
          97,
          98,
          99
         ],
         "y": [
          -1.384133836883895,
          1.6279036565882115,
          -0.9299821435910816,
          0.35486494817093983,
          1.6290606005838537,
          0.8653327008822459,
          0.15013252944094518,
          0.28971818542358885,
          -0.6452317482474019,
          1.3151329392327118,
          -0.4601930499485809,
          0.01796751366341419,
          -0.2863077986587903,
          0.7221752593929269,
          1.1438494986725094,
          1.704750899635022,
          2.0255558584427145,
          0.4869696515487609,
          -0.7753590689761756,
          0.5894599802215743,
          -0.5099209544243769,
          0.971142453454226,
          1.4135296149222607,
          0.46368222120546493,
          -0.2099110424911986,
          0.8555892169194312,
          -0.8666033652100801,
          -0.2306133820653981,
          1.9089544676825587,
          0.48126067046847626,
          -0.6815478231682852,
          -0.7012394354255265,
          -0.4047358182565961,
          -1.0906657672931215,
          -0.5310813760482439,
          -1.1553728557319203,
          2.1544499479595145,
          0.21019983690878644,
          0.11648620825479883,
          -0.6736364979743092,
          0.43450673915401905,
          -0.98897228814661,
          -0.5665651061675469,
          1.6754808091110636,
          0.22626422636394813,
          0.07919047376157638,
          0.47646469707111916,
          0.314116725600217,
          1.0625187131973928,
          -0.2287637563650373,
          -0.08284518464672441,
          -0.8301973110501326,
          -0.4028005160347876,
          0.24672132353258178,
          0.15450240306366955,
          -0.8804013772595688,
          -0.7580135896092738,
          -1.7051536353409653,
          1.0626662974393108,
          0.2526824633221683,
          0.8340379444053333,
          0.14124629647157924,
          -0.49243382012914344,
          -0.9599076627068123,
          0.7149885906661986,
          0.4750175942064842,
          -0.5873964713638485,
          1.6930034548000927,
          -0.09315530497266254,
          0.710403964378997,
          -1.1932154200104725,
          -1.0562238516298499,
          -0.2690924803512119,
          0.49758681226637225,
          -1.0773982877105088,
          0.07911034291757471,
          -0.39902453071887745,
          1.0700856351960735,
          -1.057358139564738,
          0.37533863810957413,
          -2.84037344606979,
          -0.7091852096155062,
          -0.9566975881638045,
          0.35100423287660615,
          -1.4217070977134791,
          0.4182186974869994,
          0.15184097974894464,
          0.013448617348159643,
          0.3125613854661278,
          1.514216766439221,
          1.3523238006848513,
          -0.24663932645882697,
          1.0446188476433422,
          -0.8035903583066685,
          -0.8232789379519444,
          0.28646918218662437,
          -0.4371347569536695,
          -0.3411639230662988,
          -1.0645835371189294,
          0.7317930121637225
         ]
        }
       ],
       "layout": {
        "legend": {
         "bgcolor": "#F5F6F9",
         "font": {
          "color": "#4D5663"
         }
        },
        "paper_bgcolor": "#F5F6F9",
        "plot_bgcolor": "#F5F6F9",
        "template": {
         "data": {
          "bar": [
           {
            "error_x": {
             "color": "#2a3f5f"
            },
            "error_y": {
             "color": "#2a3f5f"
            },
            "marker": {
             "line": {
              "color": "#E5ECF6",
              "width": 0.5
             }
            },
            "type": "bar"
           }
          ],
          "barpolar": [
           {
            "marker": {
             "line": {
              "color": "#E5ECF6",
              "width": 0.5
             }
            },
            "type": "barpolar"
           }
          ],
          "carpet": [
           {
            "aaxis": {
             "endlinecolor": "#2a3f5f",
             "gridcolor": "white",
             "linecolor": "white",
             "minorgridcolor": "white",
             "startlinecolor": "#2a3f5f"
            },
            "baxis": {
             "endlinecolor": "#2a3f5f",
             "gridcolor": "white",
             "linecolor": "white",
             "minorgridcolor": "white",
             "startlinecolor": "#2a3f5f"
            },
            "type": "carpet"
           }
          ],
          "choropleth": [
           {
            "colorbar": {
             "outlinewidth": 0,
             "ticks": ""
            },
            "type": "choropleth"
           }
          ],
          "contour": [
           {
            "colorbar": {
             "outlinewidth": 0,
             "ticks": ""
            },
            "colorscale": [
             [
              0,
              "#0d0887"
             ],
             [
              0.1111111111111111,
              "#46039f"
             ],
             [
              0.2222222222222222,
              "#7201a8"
             ],
             [
              0.3333333333333333,
              "#9c179e"
             ],
             [
              0.4444444444444444,
              "#bd3786"
             ],
             [
              0.5555555555555556,
              "#d8576b"
             ],
             [
              0.6666666666666666,
              "#ed7953"
             ],
             [
              0.7777777777777778,
              "#fb9f3a"
             ],
             [
              0.8888888888888888,
              "#fdca26"
             ],
             [
              1,
              "#f0f921"
             ]
            ],
            "type": "contour"
           }
          ],
          "contourcarpet": [
           {
            "colorbar": {
             "outlinewidth": 0,
             "ticks": ""
            },
            "type": "contourcarpet"
           }
          ],
          "heatmap": [
           {
            "colorbar": {
             "outlinewidth": 0,
             "ticks": ""
            },
            "colorscale": [
             [
              0,
              "#0d0887"
             ],
             [
              0.1111111111111111,
              "#46039f"
             ],
             [
              0.2222222222222222,
              "#7201a8"
             ],
             [
              0.3333333333333333,
              "#9c179e"
             ],
             [
              0.4444444444444444,
              "#bd3786"
             ],
             [
              0.5555555555555556,
              "#d8576b"
             ],
             [
              0.6666666666666666,
              "#ed7953"
             ],
             [
              0.7777777777777778,
              "#fb9f3a"
             ],
             [
              0.8888888888888888,
              "#fdca26"
             ],
             [
              1,
              "#f0f921"
             ]
            ],
            "type": "heatmap"
           }
          ],
          "heatmapgl": [
           {
            "colorbar": {
             "outlinewidth": 0,
             "ticks": ""
            },
            "colorscale": [
             [
              0,
              "#0d0887"
             ],
             [
              0.1111111111111111,
              "#46039f"
             ],
             [
              0.2222222222222222,
              "#7201a8"
             ],
             [
              0.3333333333333333,
              "#9c179e"
             ],
             [
              0.4444444444444444,
              "#bd3786"
             ],
             [
              0.5555555555555556,
              "#d8576b"
             ],
             [
              0.6666666666666666,
              "#ed7953"
             ],
             [
              0.7777777777777778,
              "#fb9f3a"
             ],
             [
              0.8888888888888888,
              "#fdca26"
             ],
             [
              1,
              "#f0f921"
             ]
            ],
            "type": "heatmapgl"
           }
          ],
          "histogram": [
           {
            "marker": {
             "colorbar": {
              "outlinewidth": 0,
              "ticks": ""
             }
            },
            "type": "histogram"
           }
          ],
          "histogram2d": [
           {
            "colorbar": {
             "outlinewidth": 0,
             "ticks": ""
            },
            "colorscale": [
             [
              0,
              "#0d0887"
             ],
             [
              0.1111111111111111,
              "#46039f"
             ],
             [
              0.2222222222222222,
              "#7201a8"
             ],
             [
              0.3333333333333333,
              "#9c179e"
             ],
             [
              0.4444444444444444,
              "#bd3786"
             ],
             [
              0.5555555555555556,
              "#d8576b"
             ],
             [
              0.6666666666666666,
              "#ed7953"
             ],
             [
              0.7777777777777778,
              "#fb9f3a"
             ],
             [
              0.8888888888888888,
              "#fdca26"
             ],
             [
              1,
              "#f0f921"
             ]
            ],
            "type": "histogram2d"
           }
          ],
          "histogram2dcontour": [
           {
            "colorbar": {
             "outlinewidth": 0,
             "ticks": ""
            },
            "colorscale": [
             [
              0,
              "#0d0887"
             ],
             [
              0.1111111111111111,
              "#46039f"
             ],
             [
              0.2222222222222222,
              "#7201a8"
             ],
             [
              0.3333333333333333,
              "#9c179e"
             ],
             [
              0.4444444444444444,
              "#bd3786"
             ],
             [
              0.5555555555555556,
              "#d8576b"
             ],
             [
              0.6666666666666666,
              "#ed7953"
             ],
             [
              0.7777777777777778,
              "#fb9f3a"
             ],
             [
              0.8888888888888888,
              "#fdca26"
             ],
             [
              1,
              "#f0f921"
             ]
            ],
            "type": "histogram2dcontour"
           }
          ],
          "mesh3d": [
           {
            "colorbar": {
             "outlinewidth": 0,
             "ticks": ""
            },
            "type": "mesh3d"
           }
          ],
          "parcoords": [
           {
            "line": {
             "colorbar": {
              "outlinewidth": 0,
              "ticks": ""
             }
            },
            "type": "parcoords"
           }
          ],
          "pie": [
           {
            "automargin": true,
            "type": "pie"
           }
          ],
          "scatter": [
           {
            "marker": {
             "colorbar": {
              "outlinewidth": 0,
              "ticks": ""
             }
            },
            "type": "scatter"
           }
          ],
          "scatter3d": [
           {
            "line": {
             "colorbar": {
              "outlinewidth": 0,
              "ticks": ""
             }
            },
            "marker": {
             "colorbar": {
              "outlinewidth": 0,
              "ticks": ""
             }
            },
            "type": "scatter3d"
           }
          ],
          "scattercarpet": [
           {
            "marker": {
             "colorbar": {
              "outlinewidth": 0,
              "ticks": ""
             }
            },
            "type": "scattercarpet"
           }
          ],
          "scattergeo": [
           {
            "marker": {
             "colorbar": {
              "outlinewidth": 0,
              "ticks": ""
             }
            },
            "type": "scattergeo"
           }
          ],
          "scattergl": [
           {
            "marker": {
             "colorbar": {
              "outlinewidth": 0,
              "ticks": ""
             }
            },
            "type": "scattergl"
           }
          ],
          "scattermapbox": [
           {
            "marker": {
             "colorbar": {
              "outlinewidth": 0,
              "ticks": ""
             }
            },
            "type": "scattermapbox"
           }
          ],
          "scatterpolar": [
           {
            "marker": {
             "colorbar": {
              "outlinewidth": 0,
              "ticks": ""
             }
            },
            "type": "scatterpolar"
           }
          ],
          "scatterpolargl": [
           {
            "marker": {
             "colorbar": {
              "outlinewidth": 0,
              "ticks": ""
             }
            },
            "type": "scatterpolargl"
           }
          ],
          "scatterternary": [
           {
            "marker": {
             "colorbar": {
              "outlinewidth": 0,
              "ticks": ""
             }
            },
            "type": "scatterternary"
           }
          ],
          "surface": [
           {
            "colorbar": {
             "outlinewidth": 0,
             "ticks": ""
            },
            "colorscale": [
             [
              0,
              "#0d0887"
             ],
             [
              0.1111111111111111,
              "#46039f"
             ],
             [
              0.2222222222222222,
              "#7201a8"
             ],
             [
              0.3333333333333333,
              "#9c179e"
             ],
             [
              0.4444444444444444,
              "#bd3786"
             ],
             [
              0.5555555555555556,
              "#d8576b"
             ],
             [
              0.6666666666666666,
              "#ed7953"
             ],
             [
              0.7777777777777778,
              "#fb9f3a"
             ],
             [
              0.8888888888888888,
              "#fdca26"
             ],
             [
              1,
              "#f0f921"
             ]
            ],
            "type": "surface"
           }
          ],
          "table": [
           {
            "cells": {
             "fill": {
              "color": "#EBF0F8"
             },
             "line": {
              "color": "white"
             }
            },
            "header": {
             "fill": {
              "color": "#C8D4E3"
             },
             "line": {
              "color": "white"
             }
            },
            "type": "table"
           }
          ]
         },
         "layout": {
          "annotationdefaults": {
           "arrowcolor": "#2a3f5f",
           "arrowhead": 0,
           "arrowwidth": 1
          },
          "coloraxis": {
           "colorbar": {
            "outlinewidth": 0,
            "ticks": ""
           }
          },
          "colorscale": {
           "diverging": [
            [
             0,
             "#8e0152"
            ],
            [
             0.1,
             "#c51b7d"
            ],
            [
             0.2,
             "#de77ae"
            ],
            [
             0.3,
             "#f1b6da"
            ],
            [
             0.4,
             "#fde0ef"
            ],
            [
             0.5,
             "#f7f7f7"
            ],
            [
             0.6,
             "#e6f5d0"
            ],
            [
             0.7,
             "#b8e186"
            ],
            [
             0.8,
             "#7fbc41"
            ],
            [
             0.9,
             "#4d9221"
            ],
            [
             1,
             "#276419"
            ]
           ],
           "sequential": [
            [
             0,
             "#0d0887"
            ],
            [
             0.1111111111111111,
             "#46039f"
            ],
            [
             0.2222222222222222,
             "#7201a8"
            ],
            [
             0.3333333333333333,
             "#9c179e"
            ],
            [
             0.4444444444444444,
             "#bd3786"
            ],
            [
             0.5555555555555556,
             "#d8576b"
            ],
            [
             0.6666666666666666,
             "#ed7953"
            ],
            [
             0.7777777777777778,
             "#fb9f3a"
            ],
            [
             0.8888888888888888,
             "#fdca26"
            ],
            [
             1,
             "#f0f921"
            ]
           ],
           "sequentialminus": [
            [
             0,
             "#0d0887"
            ],
            [
             0.1111111111111111,
             "#46039f"
            ],
            [
             0.2222222222222222,
             "#7201a8"
            ],
            [
             0.3333333333333333,
             "#9c179e"
            ],
            [
             0.4444444444444444,
             "#bd3786"
            ],
            [
             0.5555555555555556,
             "#d8576b"
            ],
            [
             0.6666666666666666,
             "#ed7953"
            ],
            [
             0.7777777777777778,
             "#fb9f3a"
            ],
            [
             0.8888888888888888,
             "#fdca26"
            ],
            [
             1,
             "#f0f921"
            ]
           ]
          },
          "colorway": [
           "#636efa",
           "#EF553B",
           "#00cc96",
           "#ab63fa",
           "#FFA15A",
           "#19d3f3",
           "#FF6692",
           "#B6E880",
           "#FF97FF",
           "#FECB52"
          ],
          "font": {
           "color": "#2a3f5f"
          },
          "geo": {
           "bgcolor": "white",
           "lakecolor": "white",
           "landcolor": "#E5ECF6",
           "showlakes": true,
           "showland": true,
           "subunitcolor": "white"
          },
          "hoverlabel": {
           "align": "left"
          },
          "hovermode": "closest",
          "mapbox": {
           "style": "light"
          },
          "paper_bgcolor": "white",
          "plot_bgcolor": "#E5ECF6",
          "polar": {
           "angularaxis": {
            "gridcolor": "white",
            "linecolor": "white",
            "ticks": ""
           },
           "bgcolor": "#E5ECF6",
           "radialaxis": {
            "gridcolor": "white",
            "linecolor": "white",
            "ticks": ""
           }
          },
          "scene": {
           "xaxis": {
            "backgroundcolor": "#E5ECF6",
            "gridcolor": "white",
            "gridwidth": 2,
            "linecolor": "white",
            "showbackground": true,
            "ticks": "",
            "zerolinecolor": "white"
           },
           "yaxis": {
            "backgroundcolor": "#E5ECF6",
            "gridcolor": "white",
            "gridwidth": 2,
            "linecolor": "white",
            "showbackground": true,
            "ticks": "",
            "zerolinecolor": "white"
           },
           "zaxis": {
            "backgroundcolor": "#E5ECF6",
            "gridcolor": "white",
            "gridwidth": 2,
            "linecolor": "white",
            "showbackground": true,
            "ticks": "",
            "zerolinecolor": "white"
           }
          },
          "shapedefaults": {
           "line": {
            "color": "#2a3f5f"
           }
          },
          "ternary": {
           "aaxis": {
            "gridcolor": "white",
            "linecolor": "white",
            "ticks": ""
           },
           "baxis": {
            "gridcolor": "white",
            "linecolor": "white",
            "ticks": ""
           },
           "bgcolor": "#E5ECF6",
           "caxis": {
            "gridcolor": "white",
            "linecolor": "white",
            "ticks": ""
           }
          },
          "title": {
           "x": 0.05
          },
          "xaxis": {
           "automargin": true,
           "gridcolor": "white",
           "linecolor": "white",
           "ticks": "",
           "title": {
            "standoff": 15
           },
           "zerolinecolor": "white",
           "zerolinewidth": 2
          },
          "yaxis": {
           "automargin": true,
           "gridcolor": "white",
           "linecolor": "white",
           "ticks": "",
           "title": {
            "standoff": 15
           },
           "zerolinecolor": "white",
           "zerolinewidth": 2
          }
         }
        },
        "title": {
         "font": {
          "color": "#4D5663"
         }
        },
        "xaxis": {
         "gridcolor": "#E1E5ED",
         "showgrid": true,
         "tickfont": {
          "color": "#4D5663"
         },
         "title": {
          "font": {
           "color": "#4D5663"
          },
          "text": ""
         },
         "zerolinecolor": "#E1E5ED"
        },
        "yaxis": {
         "gridcolor": "#E1E5ED",
         "showgrid": true,
         "tickfont": {
          "color": "#4D5663"
         },
         "title": {
          "font": {
           "color": "#4D5663"
          },
          "text": ""
         },
         "zerolinecolor": "#E1E5ED"
        }
       }
      },
      "text/html": [
       "<div>\n",
       "        \n",
       "        \n",
       "            <div id=\"1128f6ca-45bd-486c-8e1b-e55c74b1733f\" class=\"plotly-graph-div\" style=\"height:525px; width:100%;\"></div>\n",
       "            <script type=\"text/javascript\">\n",
       "                require([\"plotly\"], function(Plotly) {\n",
       "                    window.PLOTLYENV=window.PLOTLYENV || {};\n",
       "                    window.PLOTLYENV.BASE_URL='https://plot.ly';\n",
       "                    \n",
       "                if (document.getElementById(\"1128f6ca-45bd-486c-8e1b-e55c74b1733f\")) {\n",
       "                    Plotly.newPlot(\n",
       "                        '1128f6ca-45bd-486c-8e1b-e55c74b1733f',\n",
       "                        [{\"marker\": {\"color\": \"rgba(255, 153, 51, 0.6)\", \"line\": {\"color\": \"rgba(255, 153, 51, 1.0)\", \"width\": 1}}, \"name\": \"A\", \"orientation\": \"v\", \"text\": \"\", \"type\": \"bar\", \"x\": [0, 1, 2, 3, 4, 5, 6, 7, 8, 9, 10, 11, 12, 13, 14, 15, 16, 17, 18, 19, 20, 21, 22, 23, 24, 25, 26, 27, 28, 29, 30, 31, 32, 33, 34, 35, 36, 37, 38, 39, 40, 41, 42, 43, 44, 45, 46, 47, 48, 49, 50, 51, 52, 53, 54, 55, 56, 57, 58, 59, 60, 61, 62, 63, 64, 65, 66, 67, 68, 69, 70, 71, 72, 73, 74, 75, 76, 77, 78, 79, 80, 81, 82, 83, 84, 85, 86, 87, 88, 89, 90, 91, 92, 93, 94, 95, 96, 97, 98, 99], \"y\": [1.5023563012055845, 0.4087626388893659, 1.5993197844213576, -0.5215118809744652, 1.5681236600191981, 0.7468356261210932, -0.749310641952968, 0.1159935148313741, 0.22045916587711767, -0.4550011729283677, 0.8563933097341867, -2.066795909564812, -0.38285290167817404, 0.01900787684381683, -0.12630271810268817, 0.5680388021904351, 1.14854911597069, 0.6436069259066923, 0.13859935383240438, -0.4956911855443848, 0.4836194286327407, -1.2764417035087179, -0.5398190900873907, 0.5796992019373896, -0.6037038043213754, 0.7253532286953808, 0.6834182495980821, -2.8845872018457897, 1.0233482449319187, -2.552401535794378, 2.3124239629877583, -0.8127401942686726, -0.23445084013367548, -0.6759192578683721, -2.5062077810487255, -1.2244355783037433, 0.6694110332929116, -0.0034276115223639343, 0.03204469823716342, -0.648084262291826, 2.5628246207053778, 0.9000009050597508, 0.7517099499732545, 1.2007637923291639, -1.9465668851371996, -2.413766407744819, -0.05082089573082934, 1.207415735066595, -0.3835094510702304, 0.5221421859827696, -0.5248958874051288, 0.24619873930310585, 0.5677610344566094, -0.4866092245561927, -0.7416586364234559, 0.24855280589543127, 1.2144044039988526, -0.14093054717060302, 0.2963349236939744, -0.4291217100089392, 1.1491732439347566, -0.5216591508755286, 1.31822530500963, -0.47105727955537935, -0.40446633360902595, 2.1459042895302747, 0.6334555504966481, 0.4176419554202106, -1.0273773683227392, 1.1263431197506402, 0.10469582241142089, -0.5906651009155758, -0.45518656697518617, 1.3026059396663974, 0.7571755070928892, 0.10743952906925054, 2.0706685836531564, 0.5559870929964155, 2.380054547983395, -0.39070598757151437, 1.16309570735863, 0.53168218102069, 0.5568769817666138, 0.39298936796065026, 0.7338227726831591, 0.5032917926801018, -0.5716134754818609, 1.286383898901556, 0.025648738117446, 0.5157472248880189, -0.5104493617558568, -0.4733753767654713, 0.36745876642344916, 1.3072126283906071, 0.35925235054705673, 0.3793647207507, -0.21779341066885025, -0.5505938066317233, -0.5936228067274162, -0.18854451853239493]}, {\"marker\": {\"color\": \"rgba(55, 128, 191, 0.6)\", \"line\": {\"color\": \"rgba(55, 128, 191, 1.0)\", \"width\": 1}}, \"name\": \"B\", \"orientation\": \"v\", \"text\": \"\", \"type\": \"bar\", \"x\": [0, 1, 2, 3, 4, 5, 6, 7, 8, 9, 10, 11, 12, 13, 14, 15, 16, 17, 18, 19, 20, 21, 22, 23, 24, 25, 26, 27, 28, 29, 30, 31, 32, 33, 34, 35, 36, 37, 38, 39, 40, 41, 42, 43, 44, 45, 46, 47, 48, 49, 50, 51, 52, 53, 54, 55, 56, 57, 58, 59, 60, 61, 62, 63, 64, 65, 66, 67, 68, 69, 70, 71, 72, 73, 74, 75, 76, 77, 78, 79, 80, 81, 82, 83, 84, 85, 86, 87, 88, 89, 90, 91, 92, 93, 94, 95, 96, 97, 98, 99], \"y\": [-0.1412993310039659, 0.11155348249657292, 1.7453199674605695, -0.814399733552155, 0.6214554653204177, -0.8935622081683393, 0.7423908327196167, 0.08876231792153962, 0.40884368254280434, 1.5231546429751541, -0.5038028339596781, 1.277663239880953, 1.9315664231705278, 1.2882374316313956, -0.814476238152969, -2.0472988868964954, -1.1619809357848054, -0.6020708574357105, -0.4172171560670958, 0.5656423397142257, -0.4422039548072374, 1.6173040675324941, 0.6934044898267794, -0.4948009086882394, -0.7040470246206365, -1.9134367284968632, 0.7383244841914276, -1.1883843708189352, 0.30363915459858953, 0.2776451954473241, -0.7165225765471165, 1.0077314628934022, -0.4603279365194043, 0.38373042738479957, -0.518952600073326, -1.4636786992458364, 0.7476083884716154, 0.31237621371744645, 1.1441291559955, -0.13738132300664588, 0.2917094591812687, -0.5435138932574668, -0.09764547059440395, -0.8543035432170192, -1.694606999440116, 0.6872321801985894, -0.3105771583046316, -0.14628769666578054, -1.2645444232569238, 1.3221177881297856, -0.06864973864910799, 0.5369862529725257, 0.20434322894119525, 0.9269791155272793, -0.10772717371906558, 0.6636624429782333, -1.1341086710570782, 0.7112881367396519, -0.24585306295182344, 2.7491305879931875, -0.9081798223062961, -0.9157857216788398, -0.008619830977527013, 0.4968473874841331, -0.5343255676597688, 0.2855137060759064, 0.6117559359156879, -2.446379280416086, 0.33071812904434594, -1.071280221455606, 0.685618779079314, 1.4672553004235602, -0.3727388594504119, -0.09291567551181286, -0.34523412406140225, -0.05274550962737803, 0.04654323576000232, 0.2916776854652369, 0.963598536755656, 0.4654431727575727, 0.19669889726716824, -0.7242027558405483, -0.7113448412421286, -0.21696242004052127, -0.6539765540211312, -1.9236864401903981, 1.0149705541185587, 1.0646071027030528, -0.9559870634609606, 0.46215740722226095, -0.5700862496512421, 0.5363637562177255, -1.0839231569328327, 0.5562315410374225, -0.7832219667339138, 0.4841939952459761, -2.3192789416549995, -1.4624996532320187, -0.31539742955163974, 0.07762935312683132]}, {\"marker\": {\"color\": \"rgba(50, 171, 96, 0.6)\", \"line\": {\"color\": \"rgba(50, 171, 96, 1.0)\", \"width\": 1}}, \"name\": \"C\", \"orientation\": \"v\", \"text\": \"\", \"type\": \"bar\", \"x\": [0, 1, 2, 3, 4, 5, 6, 7, 8, 9, 10, 11, 12, 13, 14, 15, 16, 17, 18, 19, 20, 21, 22, 23, 24, 25, 26, 27, 28, 29, 30, 31, 32, 33, 34, 35, 36, 37, 38, 39, 40, 41, 42, 43, 44, 45, 46, 47, 48, 49, 50, 51, 52, 53, 54, 55, 56, 57, 58, 59, 60, 61, 62, 63, 64, 65, 66, 67, 68, 69, 70, 71, 72, 73, 74, 75, 76, 77, 78, 79, 80, 81, 82, 83, 84, 85, 86, 87, 88, 89, 90, 91, 92, 93, 94, 95, 96, 97, 98, 99], \"y\": [0.4060127339438663, -0.7982496783697365, 1.123601971839627, 0.4058048602297246, 0.2745561016720758, 0.027475844105220772, -0.22383021302281453, -0.39387936056102335, 0.46958773686681554, 1.0318532728612242, -0.24670914055786855, -0.6158092236253605, 0.3357316529625056, 0.33549334879556586, -0.3420057984448994, -0.5729067470502307, 0.944555988637591, 1.6466709364637417, -0.6046253611903157, 1.1164169657669007, -0.20836647515525453, -0.3251835589694398, -1.2223825639379888, 0.9111127533544581, 0.7714510155383001, -0.11910029332390273, 0.6925253498084671, 0.761678498587015, -0.21122116515593753, -1.8911317407454065, -0.6477421966041468, 1.746998679272337, -1.7771617442088992, 0.6549085009105307, 1.4788993264746322, -0.5627472212555263, -0.9117802943654789, -0.044173489311235214, 0.7799243277831824, -0.009326740102037481, -0.7202522194882793, -0.7240445885164354, 0.49987218845528786, -0.19517962211662349, 0.012250267699824213, -0.22559392376468862, -0.4808350357460893, -0.8198241736310934, 0.19911254148027172, 0.5290633506851798, 0.2526330126879686, -0.9212198132849635, 1.330206416841273, -1.3646681089815724, -0.8176747165637754, 0.8453057646843333, -0.4028552804000192, -2.060148639010836, 0.5812027839577867, 0.11052420643035013, 0.41282004544314155, -0.14089989297248323, 1.45061283483238, 0.18831388859592682, -1.1439882648437452, -1.1849927000093727, 1.2413796077745642, -0.5577161325566812, -0.61933102563376, -1.037967425542334, -1.1119068495937685, -0.34404925965830496, -1.5708253521732911, -0.1744878934567653, -0.6375590559920541, -1.5414458738716459, 0.919868277100258, 1.0490659600613328, 0.08470892651567892, -1.1117047344287596, 0.07203519479416232, 0.006055862150619064, 1.2245168625491816, 0.3591325369860431, -0.014752796925019226, 0.9663004218908801, 0.6340307723650775, 1.1679323322976998, -0.8019974364914285, 2.009899707838478, 1.351686235098478, -0.16357633038026712, 1.0467381976205765, -0.9884777911500046, -1.179242961599606, 0.19637991258516102, 0.02752192332194667, -0.4772929189208354, -1.2072566311627462, 0.28531937373349664]}, {\"marker\": {\"color\": \"rgba(128, 0, 128, 0.6)\", \"line\": {\"color\": \"rgba(128, 0, 128, 1.0)\", \"width\": 1}}, \"name\": \"D\", \"orientation\": \"v\", \"text\": \"\", \"type\": \"bar\", \"x\": [0, 1, 2, 3, 4, 5, 6, 7, 8, 9, 10, 11, 12, 13, 14, 15, 16, 17, 18, 19, 20, 21, 22, 23, 24, 25, 26, 27, 28, 29, 30, 31, 32, 33, 34, 35, 36, 37, 38, 39, 40, 41, 42, 43, 44, 45, 46, 47, 48, 49, 50, 51, 52, 53, 54, 55, 56, 57, 58, 59, 60, 61, 62, 63, 64, 65, 66, 67, 68, 69, 70, 71, 72, 73, 74, 75, 76, 77, 78, 79, 80, 81, 82, 83, 84, 85, 86, 87, 88, 89, 90, 91, 92, 93, 94, 95, 96, 97, 98, 99], \"y\": [-1.384133836883895, 1.6279036565882115, -0.9299821435910816, 0.35486494817093983, 1.6290606005838537, 0.8653327008822459, 0.15013252944094518, 0.28971818542358885, -0.6452317482474019, 1.3151329392327118, -0.4601930499485809, 0.01796751366341419, -0.2863077986587903, 0.7221752593929269, 1.1438494986725094, 1.704750899635022, 2.0255558584427145, 0.4869696515487609, -0.7753590689761756, 0.5894599802215743, -0.5099209544243769, 0.971142453454226, 1.4135296149222607, 0.46368222120546493, -0.2099110424911986, 0.8555892169194312, -0.8666033652100801, -0.2306133820653981, 1.9089544676825587, 0.48126067046847626, -0.6815478231682852, -0.7012394354255265, -0.4047358182565961, -1.0906657672931215, -0.5310813760482439, -1.1553728557319203, 2.1544499479595145, 0.21019983690878644, 0.11648620825479883, -0.6736364979743092, 0.43450673915401905, -0.98897228814661, -0.5665651061675469, 1.6754808091110636, 0.22626422636394813, 0.07919047376157638, 0.47646469707111916, 0.314116725600217, 1.0625187131973928, -0.2287637563650373, -0.08284518464672441, -0.8301973110501326, -0.4028005160347876, 0.24672132353258178, 0.15450240306366955, -0.8804013772595688, -0.7580135896092738, -1.7051536353409653, 1.0626662974393108, 0.2526824633221683, 0.8340379444053333, 0.14124629647157924, -0.49243382012914344, -0.9599076627068123, 0.7149885906661986, 0.4750175942064842, -0.5873964713638485, 1.6930034548000927, -0.09315530497266254, 0.710403964378997, -1.1932154200104725, -1.0562238516298499, -0.2690924803512119, 0.49758681226637225, -1.0773982877105088, 0.07911034291757471, -0.39902453071887745, 1.0700856351960735, -1.057358139564738, 0.37533863810957413, -2.84037344606979, -0.7091852096155062, -0.9566975881638045, 0.35100423287660615, -1.4217070977134791, 0.4182186974869994, 0.15184097974894464, 0.013448617348159643, 0.3125613854661278, 1.514216766439221, 1.3523238006848513, -0.24663932645882697, 1.0446188476433422, -0.8035903583066685, -0.8232789379519444, 0.28646918218662437, -0.4371347569536695, -0.3411639230662988, -1.0645835371189294, 0.7317930121637225]}],\n",
       "                        {\"legend\": {\"bgcolor\": \"#F5F6F9\", \"font\": {\"color\": \"#4D5663\"}}, \"paper_bgcolor\": \"#F5F6F9\", \"plot_bgcolor\": \"#F5F6F9\", \"template\": {\"data\": {\"bar\": [{\"error_x\": {\"color\": \"#2a3f5f\"}, \"error_y\": {\"color\": \"#2a3f5f\"}, \"marker\": {\"line\": {\"color\": \"#E5ECF6\", \"width\": 0.5}}, \"type\": \"bar\"}], \"barpolar\": [{\"marker\": {\"line\": {\"color\": \"#E5ECF6\", \"width\": 0.5}}, \"type\": \"barpolar\"}], \"carpet\": [{\"aaxis\": {\"endlinecolor\": \"#2a3f5f\", \"gridcolor\": \"white\", \"linecolor\": \"white\", \"minorgridcolor\": \"white\", \"startlinecolor\": \"#2a3f5f\"}, \"baxis\": {\"endlinecolor\": \"#2a3f5f\", \"gridcolor\": \"white\", \"linecolor\": \"white\", \"minorgridcolor\": \"white\", \"startlinecolor\": \"#2a3f5f\"}, \"type\": \"carpet\"}], \"choropleth\": [{\"colorbar\": {\"outlinewidth\": 0, \"ticks\": \"\"}, \"type\": \"choropleth\"}], \"contour\": [{\"colorbar\": {\"outlinewidth\": 0, \"ticks\": \"\"}, \"colorscale\": [[0.0, \"#0d0887\"], [0.1111111111111111, \"#46039f\"], [0.2222222222222222, \"#7201a8\"], [0.3333333333333333, \"#9c179e\"], [0.4444444444444444, \"#bd3786\"], [0.5555555555555556, \"#d8576b\"], [0.6666666666666666, \"#ed7953\"], [0.7777777777777778, \"#fb9f3a\"], [0.8888888888888888, \"#fdca26\"], [1.0, \"#f0f921\"]], \"type\": \"contour\"}], \"contourcarpet\": [{\"colorbar\": {\"outlinewidth\": 0, \"ticks\": \"\"}, \"type\": \"contourcarpet\"}], \"heatmap\": [{\"colorbar\": {\"outlinewidth\": 0, \"ticks\": \"\"}, \"colorscale\": [[0.0, \"#0d0887\"], [0.1111111111111111, \"#46039f\"], [0.2222222222222222, \"#7201a8\"], [0.3333333333333333, \"#9c179e\"], [0.4444444444444444, \"#bd3786\"], [0.5555555555555556, \"#d8576b\"], [0.6666666666666666, \"#ed7953\"], [0.7777777777777778, \"#fb9f3a\"], [0.8888888888888888, \"#fdca26\"], [1.0, \"#f0f921\"]], \"type\": \"heatmap\"}], \"heatmapgl\": [{\"colorbar\": {\"outlinewidth\": 0, \"ticks\": \"\"}, \"colorscale\": [[0.0, \"#0d0887\"], [0.1111111111111111, \"#46039f\"], [0.2222222222222222, \"#7201a8\"], [0.3333333333333333, \"#9c179e\"], [0.4444444444444444, \"#bd3786\"], [0.5555555555555556, \"#d8576b\"], [0.6666666666666666, \"#ed7953\"], [0.7777777777777778, \"#fb9f3a\"], [0.8888888888888888, \"#fdca26\"], [1.0, \"#f0f921\"]], \"type\": \"heatmapgl\"}], \"histogram\": [{\"marker\": {\"colorbar\": {\"outlinewidth\": 0, \"ticks\": \"\"}}, \"type\": \"histogram\"}], \"histogram2d\": [{\"colorbar\": {\"outlinewidth\": 0, \"ticks\": \"\"}, \"colorscale\": [[0.0, \"#0d0887\"], [0.1111111111111111, \"#46039f\"], [0.2222222222222222, \"#7201a8\"], [0.3333333333333333, \"#9c179e\"], [0.4444444444444444, \"#bd3786\"], [0.5555555555555556, \"#d8576b\"], [0.6666666666666666, \"#ed7953\"], [0.7777777777777778, \"#fb9f3a\"], [0.8888888888888888, \"#fdca26\"], [1.0, \"#f0f921\"]], \"type\": \"histogram2d\"}], \"histogram2dcontour\": [{\"colorbar\": {\"outlinewidth\": 0, \"ticks\": \"\"}, \"colorscale\": [[0.0, \"#0d0887\"], [0.1111111111111111, \"#46039f\"], [0.2222222222222222, \"#7201a8\"], [0.3333333333333333, \"#9c179e\"], [0.4444444444444444, \"#bd3786\"], [0.5555555555555556, \"#d8576b\"], [0.6666666666666666, \"#ed7953\"], [0.7777777777777778, \"#fb9f3a\"], [0.8888888888888888, \"#fdca26\"], [1.0, \"#f0f921\"]], \"type\": \"histogram2dcontour\"}], \"mesh3d\": [{\"colorbar\": {\"outlinewidth\": 0, \"ticks\": \"\"}, \"type\": \"mesh3d\"}], \"parcoords\": [{\"line\": {\"colorbar\": {\"outlinewidth\": 0, \"ticks\": \"\"}}, \"type\": \"parcoords\"}], \"pie\": [{\"automargin\": true, \"type\": \"pie\"}], \"scatter\": [{\"marker\": {\"colorbar\": {\"outlinewidth\": 0, \"ticks\": \"\"}}, \"type\": \"scatter\"}], \"scatter3d\": [{\"line\": {\"colorbar\": {\"outlinewidth\": 0, \"ticks\": \"\"}}, \"marker\": {\"colorbar\": {\"outlinewidth\": 0, \"ticks\": \"\"}}, \"type\": \"scatter3d\"}], \"scattercarpet\": [{\"marker\": {\"colorbar\": {\"outlinewidth\": 0, \"ticks\": \"\"}}, \"type\": \"scattercarpet\"}], \"scattergeo\": [{\"marker\": {\"colorbar\": {\"outlinewidth\": 0, \"ticks\": \"\"}}, \"type\": \"scattergeo\"}], \"scattergl\": [{\"marker\": {\"colorbar\": {\"outlinewidth\": 0, \"ticks\": \"\"}}, \"type\": \"scattergl\"}], \"scattermapbox\": [{\"marker\": {\"colorbar\": {\"outlinewidth\": 0, \"ticks\": \"\"}}, \"type\": \"scattermapbox\"}], \"scatterpolar\": [{\"marker\": {\"colorbar\": {\"outlinewidth\": 0, \"ticks\": \"\"}}, \"type\": \"scatterpolar\"}], \"scatterpolargl\": [{\"marker\": {\"colorbar\": {\"outlinewidth\": 0, \"ticks\": \"\"}}, \"type\": \"scatterpolargl\"}], \"scatterternary\": [{\"marker\": {\"colorbar\": {\"outlinewidth\": 0, \"ticks\": \"\"}}, \"type\": \"scatterternary\"}], \"surface\": [{\"colorbar\": {\"outlinewidth\": 0, \"ticks\": \"\"}, \"colorscale\": [[0.0, \"#0d0887\"], [0.1111111111111111, \"#46039f\"], [0.2222222222222222, \"#7201a8\"], [0.3333333333333333, \"#9c179e\"], [0.4444444444444444, \"#bd3786\"], [0.5555555555555556, \"#d8576b\"], [0.6666666666666666, \"#ed7953\"], [0.7777777777777778, \"#fb9f3a\"], [0.8888888888888888, \"#fdca26\"], [1.0, \"#f0f921\"]], \"type\": \"surface\"}], \"table\": [{\"cells\": {\"fill\": {\"color\": \"#EBF0F8\"}, \"line\": {\"color\": \"white\"}}, \"header\": {\"fill\": {\"color\": \"#C8D4E3\"}, \"line\": {\"color\": \"white\"}}, \"type\": \"table\"}]}, \"layout\": {\"annotationdefaults\": {\"arrowcolor\": \"#2a3f5f\", \"arrowhead\": 0, \"arrowwidth\": 1}, \"coloraxis\": {\"colorbar\": {\"outlinewidth\": 0, \"ticks\": \"\"}}, \"colorscale\": {\"diverging\": [[0, \"#8e0152\"], [0.1, \"#c51b7d\"], [0.2, \"#de77ae\"], [0.3, \"#f1b6da\"], [0.4, \"#fde0ef\"], [0.5, \"#f7f7f7\"], [0.6, \"#e6f5d0\"], [0.7, \"#b8e186\"], [0.8, \"#7fbc41\"], [0.9, \"#4d9221\"], [1, \"#276419\"]], \"sequential\": [[0.0, \"#0d0887\"], [0.1111111111111111, \"#46039f\"], [0.2222222222222222, \"#7201a8\"], [0.3333333333333333, \"#9c179e\"], [0.4444444444444444, \"#bd3786\"], [0.5555555555555556, \"#d8576b\"], [0.6666666666666666, \"#ed7953\"], [0.7777777777777778, \"#fb9f3a\"], [0.8888888888888888, \"#fdca26\"], [1.0, \"#f0f921\"]], \"sequentialminus\": [[0.0, \"#0d0887\"], [0.1111111111111111, \"#46039f\"], [0.2222222222222222, \"#7201a8\"], [0.3333333333333333, \"#9c179e\"], [0.4444444444444444, \"#bd3786\"], [0.5555555555555556, \"#d8576b\"], [0.6666666666666666, \"#ed7953\"], [0.7777777777777778, \"#fb9f3a\"], [0.8888888888888888, \"#fdca26\"], [1.0, \"#f0f921\"]]}, \"colorway\": [\"#636efa\", \"#EF553B\", \"#00cc96\", \"#ab63fa\", \"#FFA15A\", \"#19d3f3\", \"#FF6692\", \"#B6E880\", \"#FF97FF\", \"#FECB52\"], \"font\": {\"color\": \"#2a3f5f\"}, \"geo\": {\"bgcolor\": \"white\", \"lakecolor\": \"white\", \"landcolor\": \"#E5ECF6\", \"showlakes\": true, \"showland\": true, \"subunitcolor\": \"white\"}, \"hoverlabel\": {\"align\": \"left\"}, \"hovermode\": \"closest\", \"mapbox\": {\"style\": \"light\"}, \"paper_bgcolor\": \"white\", \"plot_bgcolor\": \"#E5ECF6\", \"polar\": {\"angularaxis\": {\"gridcolor\": \"white\", \"linecolor\": \"white\", \"ticks\": \"\"}, \"bgcolor\": \"#E5ECF6\", \"radialaxis\": {\"gridcolor\": \"white\", \"linecolor\": \"white\", \"ticks\": \"\"}}, \"scene\": {\"xaxis\": {\"backgroundcolor\": \"#E5ECF6\", \"gridcolor\": \"white\", \"gridwidth\": 2, \"linecolor\": \"white\", \"showbackground\": true, \"ticks\": \"\", \"zerolinecolor\": \"white\"}, \"yaxis\": {\"backgroundcolor\": \"#E5ECF6\", \"gridcolor\": \"white\", \"gridwidth\": 2, \"linecolor\": \"white\", \"showbackground\": true, \"ticks\": \"\", \"zerolinecolor\": \"white\"}, \"zaxis\": {\"backgroundcolor\": \"#E5ECF6\", \"gridcolor\": \"white\", \"gridwidth\": 2, \"linecolor\": \"white\", \"showbackground\": true, \"ticks\": \"\", \"zerolinecolor\": \"white\"}}, \"shapedefaults\": {\"line\": {\"color\": \"#2a3f5f\"}}, \"ternary\": {\"aaxis\": {\"gridcolor\": \"white\", \"linecolor\": \"white\", \"ticks\": \"\"}, \"baxis\": {\"gridcolor\": \"white\", \"linecolor\": \"white\", \"ticks\": \"\"}, \"bgcolor\": \"#E5ECF6\", \"caxis\": {\"gridcolor\": \"white\", \"linecolor\": \"white\", \"ticks\": \"\"}}, \"title\": {\"x\": 0.05}, \"xaxis\": {\"automargin\": true, \"gridcolor\": \"white\", \"linecolor\": \"white\", \"ticks\": \"\", \"title\": {\"standoff\": 15}, \"zerolinecolor\": \"white\", \"zerolinewidth\": 2}, \"yaxis\": {\"automargin\": true, \"gridcolor\": \"white\", \"linecolor\": \"white\", \"ticks\": \"\", \"title\": {\"standoff\": 15}, \"zerolinecolor\": \"white\", \"zerolinewidth\": 2}}}, \"title\": {\"font\": {\"color\": \"#4D5663\"}}, \"xaxis\": {\"gridcolor\": \"#E1E5ED\", \"showgrid\": true, \"tickfont\": {\"color\": \"#4D5663\"}, \"title\": {\"font\": {\"color\": \"#4D5663\"}, \"text\": \"\"}, \"zerolinecolor\": \"#E1E5ED\"}, \"yaxis\": {\"gridcolor\": \"#E1E5ED\", \"showgrid\": true, \"tickfont\": {\"color\": \"#4D5663\"}, \"title\": {\"font\": {\"color\": \"#4D5663\"}, \"text\": \"\"}, \"zerolinecolor\": \"#E1E5ED\"}},\n",
       "                        {\"showLink\": true, \"linkText\": \"Export to plot.ly\", \"plotlyServerURL\": \"https://plot.ly\", \"responsive\": true}\n",
       "                    ).then(function(){\n",
       "                            \n",
       "var gd = document.getElementById('1128f6ca-45bd-486c-8e1b-e55c74b1733f');\n",
       "var x = new MutationObserver(function (mutations, observer) {{\n",
       "        var display = window.getComputedStyle(gd).display;\n",
       "        if (!display || display === 'none') {{\n",
       "            console.log([gd, 'removed!']);\n",
       "            Plotly.purge(gd);\n",
       "            observer.disconnect();\n",
       "        }}\n",
       "}});\n",
       "\n",
       "// Listen for the removal of the full notebook cells\n",
       "var notebookContainer = gd.closest('#notebook-container');\n",
       "if (notebookContainer) {{\n",
       "    x.observe(notebookContainer, {childList: true});\n",
       "}}\n",
       "\n",
       "// Listen for the clearing of the current output cell\n",
       "var outputEl = gd.closest('.output');\n",
       "if (outputEl) {{\n",
       "    x.observe(outputEl, {childList: true});\n",
       "}}\n",
       "\n",
       "                        })\n",
       "                };\n",
       "                });\n",
       "            </script>\n",
       "        </div>"
      ]
     },
     "metadata": {},
     "output_type": "display_data"
    }
   ],
   "source": [
    "df.iplot(kind='bar')"
   ]
  },
  {
   "cell_type": "code",
   "execution_count": 21,
   "metadata": {},
   "outputs": [
    {
     "data": {
      "application/vnd.plotly.v1+json": {
       "config": {
        "linkText": "Export to plot.ly",
        "plotlyServerURL": "https://plot.ly",
        "showLink": true
       },
       "data": [
        {
         "marker": {
          "color": "rgba(255, 153, 51, 0.6)",
          "line": {
           "color": "rgba(255, 153, 51, 1.0)",
           "width": 1
          }
         },
         "name": "values",
         "orientation": "v",
         "text": "",
         "type": "bar",
         "x": [
          "A",
          "B",
          "C"
         ],
         "y": [
          32,
          43,
          50
         ]
        }
       ],
       "layout": {
        "legend": {
         "bgcolor": "#F5F6F9",
         "font": {
          "color": "#4D5663"
         }
        },
        "paper_bgcolor": "#F5F6F9",
        "plot_bgcolor": "#F5F6F9",
        "template": {
         "data": {
          "bar": [
           {
            "error_x": {
             "color": "#2a3f5f"
            },
            "error_y": {
             "color": "#2a3f5f"
            },
            "marker": {
             "line": {
              "color": "#E5ECF6",
              "width": 0.5
             }
            },
            "type": "bar"
           }
          ],
          "barpolar": [
           {
            "marker": {
             "line": {
              "color": "#E5ECF6",
              "width": 0.5
             }
            },
            "type": "barpolar"
           }
          ],
          "carpet": [
           {
            "aaxis": {
             "endlinecolor": "#2a3f5f",
             "gridcolor": "white",
             "linecolor": "white",
             "minorgridcolor": "white",
             "startlinecolor": "#2a3f5f"
            },
            "baxis": {
             "endlinecolor": "#2a3f5f",
             "gridcolor": "white",
             "linecolor": "white",
             "minorgridcolor": "white",
             "startlinecolor": "#2a3f5f"
            },
            "type": "carpet"
           }
          ],
          "choropleth": [
           {
            "colorbar": {
             "outlinewidth": 0,
             "ticks": ""
            },
            "type": "choropleth"
           }
          ],
          "contour": [
           {
            "colorbar": {
             "outlinewidth": 0,
             "ticks": ""
            },
            "colorscale": [
             [
              0,
              "#0d0887"
             ],
             [
              0.1111111111111111,
              "#46039f"
             ],
             [
              0.2222222222222222,
              "#7201a8"
             ],
             [
              0.3333333333333333,
              "#9c179e"
             ],
             [
              0.4444444444444444,
              "#bd3786"
             ],
             [
              0.5555555555555556,
              "#d8576b"
             ],
             [
              0.6666666666666666,
              "#ed7953"
             ],
             [
              0.7777777777777778,
              "#fb9f3a"
             ],
             [
              0.8888888888888888,
              "#fdca26"
             ],
             [
              1,
              "#f0f921"
             ]
            ],
            "type": "contour"
           }
          ],
          "contourcarpet": [
           {
            "colorbar": {
             "outlinewidth": 0,
             "ticks": ""
            },
            "type": "contourcarpet"
           }
          ],
          "heatmap": [
           {
            "colorbar": {
             "outlinewidth": 0,
             "ticks": ""
            },
            "colorscale": [
             [
              0,
              "#0d0887"
             ],
             [
              0.1111111111111111,
              "#46039f"
             ],
             [
              0.2222222222222222,
              "#7201a8"
             ],
             [
              0.3333333333333333,
              "#9c179e"
             ],
             [
              0.4444444444444444,
              "#bd3786"
             ],
             [
              0.5555555555555556,
              "#d8576b"
             ],
             [
              0.6666666666666666,
              "#ed7953"
             ],
             [
              0.7777777777777778,
              "#fb9f3a"
             ],
             [
              0.8888888888888888,
              "#fdca26"
             ],
             [
              1,
              "#f0f921"
             ]
            ],
            "type": "heatmap"
           }
          ],
          "heatmapgl": [
           {
            "colorbar": {
             "outlinewidth": 0,
             "ticks": ""
            },
            "colorscale": [
             [
              0,
              "#0d0887"
             ],
             [
              0.1111111111111111,
              "#46039f"
             ],
             [
              0.2222222222222222,
              "#7201a8"
             ],
             [
              0.3333333333333333,
              "#9c179e"
             ],
             [
              0.4444444444444444,
              "#bd3786"
             ],
             [
              0.5555555555555556,
              "#d8576b"
             ],
             [
              0.6666666666666666,
              "#ed7953"
             ],
             [
              0.7777777777777778,
              "#fb9f3a"
             ],
             [
              0.8888888888888888,
              "#fdca26"
             ],
             [
              1,
              "#f0f921"
             ]
            ],
            "type": "heatmapgl"
           }
          ],
          "histogram": [
           {
            "marker": {
             "colorbar": {
              "outlinewidth": 0,
              "ticks": ""
             }
            },
            "type": "histogram"
           }
          ],
          "histogram2d": [
           {
            "colorbar": {
             "outlinewidth": 0,
             "ticks": ""
            },
            "colorscale": [
             [
              0,
              "#0d0887"
             ],
             [
              0.1111111111111111,
              "#46039f"
             ],
             [
              0.2222222222222222,
              "#7201a8"
             ],
             [
              0.3333333333333333,
              "#9c179e"
             ],
             [
              0.4444444444444444,
              "#bd3786"
             ],
             [
              0.5555555555555556,
              "#d8576b"
             ],
             [
              0.6666666666666666,
              "#ed7953"
             ],
             [
              0.7777777777777778,
              "#fb9f3a"
             ],
             [
              0.8888888888888888,
              "#fdca26"
             ],
             [
              1,
              "#f0f921"
             ]
            ],
            "type": "histogram2d"
           }
          ],
          "histogram2dcontour": [
           {
            "colorbar": {
             "outlinewidth": 0,
             "ticks": ""
            },
            "colorscale": [
             [
              0,
              "#0d0887"
             ],
             [
              0.1111111111111111,
              "#46039f"
             ],
             [
              0.2222222222222222,
              "#7201a8"
             ],
             [
              0.3333333333333333,
              "#9c179e"
             ],
             [
              0.4444444444444444,
              "#bd3786"
             ],
             [
              0.5555555555555556,
              "#d8576b"
             ],
             [
              0.6666666666666666,
              "#ed7953"
             ],
             [
              0.7777777777777778,
              "#fb9f3a"
             ],
             [
              0.8888888888888888,
              "#fdca26"
             ],
             [
              1,
              "#f0f921"
             ]
            ],
            "type": "histogram2dcontour"
           }
          ],
          "mesh3d": [
           {
            "colorbar": {
             "outlinewidth": 0,
             "ticks": ""
            },
            "type": "mesh3d"
           }
          ],
          "parcoords": [
           {
            "line": {
             "colorbar": {
              "outlinewidth": 0,
              "ticks": ""
             }
            },
            "type": "parcoords"
           }
          ],
          "pie": [
           {
            "automargin": true,
            "type": "pie"
           }
          ],
          "scatter": [
           {
            "marker": {
             "colorbar": {
              "outlinewidth": 0,
              "ticks": ""
             }
            },
            "type": "scatter"
           }
          ],
          "scatter3d": [
           {
            "line": {
             "colorbar": {
              "outlinewidth": 0,
              "ticks": ""
             }
            },
            "marker": {
             "colorbar": {
              "outlinewidth": 0,
              "ticks": ""
             }
            },
            "type": "scatter3d"
           }
          ],
          "scattercarpet": [
           {
            "marker": {
             "colorbar": {
              "outlinewidth": 0,
              "ticks": ""
             }
            },
            "type": "scattercarpet"
           }
          ],
          "scattergeo": [
           {
            "marker": {
             "colorbar": {
              "outlinewidth": 0,
              "ticks": ""
             }
            },
            "type": "scattergeo"
           }
          ],
          "scattergl": [
           {
            "marker": {
             "colorbar": {
              "outlinewidth": 0,
              "ticks": ""
             }
            },
            "type": "scattergl"
           }
          ],
          "scattermapbox": [
           {
            "marker": {
             "colorbar": {
              "outlinewidth": 0,
              "ticks": ""
             }
            },
            "type": "scattermapbox"
           }
          ],
          "scatterpolar": [
           {
            "marker": {
             "colorbar": {
              "outlinewidth": 0,
              "ticks": ""
             }
            },
            "type": "scatterpolar"
           }
          ],
          "scatterpolargl": [
           {
            "marker": {
             "colorbar": {
              "outlinewidth": 0,
              "ticks": ""
             }
            },
            "type": "scatterpolargl"
           }
          ],
          "scatterternary": [
           {
            "marker": {
             "colorbar": {
              "outlinewidth": 0,
              "ticks": ""
             }
            },
            "type": "scatterternary"
           }
          ],
          "surface": [
           {
            "colorbar": {
             "outlinewidth": 0,
             "ticks": ""
            },
            "colorscale": [
             [
              0,
              "#0d0887"
             ],
             [
              0.1111111111111111,
              "#46039f"
             ],
             [
              0.2222222222222222,
              "#7201a8"
             ],
             [
              0.3333333333333333,
              "#9c179e"
             ],
             [
              0.4444444444444444,
              "#bd3786"
             ],
             [
              0.5555555555555556,
              "#d8576b"
             ],
             [
              0.6666666666666666,
              "#ed7953"
             ],
             [
              0.7777777777777778,
              "#fb9f3a"
             ],
             [
              0.8888888888888888,
              "#fdca26"
             ],
             [
              1,
              "#f0f921"
             ]
            ],
            "type": "surface"
           }
          ],
          "table": [
           {
            "cells": {
             "fill": {
              "color": "#EBF0F8"
             },
             "line": {
              "color": "white"
             }
            },
            "header": {
             "fill": {
              "color": "#C8D4E3"
             },
             "line": {
              "color": "white"
             }
            },
            "type": "table"
           }
          ]
         },
         "layout": {
          "annotationdefaults": {
           "arrowcolor": "#2a3f5f",
           "arrowhead": 0,
           "arrowwidth": 1
          },
          "coloraxis": {
           "colorbar": {
            "outlinewidth": 0,
            "ticks": ""
           }
          },
          "colorscale": {
           "diverging": [
            [
             0,
             "#8e0152"
            ],
            [
             0.1,
             "#c51b7d"
            ],
            [
             0.2,
             "#de77ae"
            ],
            [
             0.3,
             "#f1b6da"
            ],
            [
             0.4,
             "#fde0ef"
            ],
            [
             0.5,
             "#f7f7f7"
            ],
            [
             0.6,
             "#e6f5d0"
            ],
            [
             0.7,
             "#b8e186"
            ],
            [
             0.8,
             "#7fbc41"
            ],
            [
             0.9,
             "#4d9221"
            ],
            [
             1,
             "#276419"
            ]
           ],
           "sequential": [
            [
             0,
             "#0d0887"
            ],
            [
             0.1111111111111111,
             "#46039f"
            ],
            [
             0.2222222222222222,
             "#7201a8"
            ],
            [
             0.3333333333333333,
             "#9c179e"
            ],
            [
             0.4444444444444444,
             "#bd3786"
            ],
            [
             0.5555555555555556,
             "#d8576b"
            ],
            [
             0.6666666666666666,
             "#ed7953"
            ],
            [
             0.7777777777777778,
             "#fb9f3a"
            ],
            [
             0.8888888888888888,
             "#fdca26"
            ],
            [
             1,
             "#f0f921"
            ]
           ],
           "sequentialminus": [
            [
             0,
             "#0d0887"
            ],
            [
             0.1111111111111111,
             "#46039f"
            ],
            [
             0.2222222222222222,
             "#7201a8"
            ],
            [
             0.3333333333333333,
             "#9c179e"
            ],
            [
             0.4444444444444444,
             "#bd3786"
            ],
            [
             0.5555555555555556,
             "#d8576b"
            ],
            [
             0.6666666666666666,
             "#ed7953"
            ],
            [
             0.7777777777777778,
             "#fb9f3a"
            ],
            [
             0.8888888888888888,
             "#fdca26"
            ],
            [
             1,
             "#f0f921"
            ]
           ]
          },
          "colorway": [
           "#636efa",
           "#EF553B",
           "#00cc96",
           "#ab63fa",
           "#FFA15A",
           "#19d3f3",
           "#FF6692",
           "#B6E880",
           "#FF97FF",
           "#FECB52"
          ],
          "font": {
           "color": "#2a3f5f"
          },
          "geo": {
           "bgcolor": "white",
           "lakecolor": "white",
           "landcolor": "#E5ECF6",
           "showlakes": true,
           "showland": true,
           "subunitcolor": "white"
          },
          "hoverlabel": {
           "align": "left"
          },
          "hovermode": "closest",
          "mapbox": {
           "style": "light"
          },
          "paper_bgcolor": "white",
          "plot_bgcolor": "#E5ECF6",
          "polar": {
           "angularaxis": {
            "gridcolor": "white",
            "linecolor": "white",
            "ticks": ""
           },
           "bgcolor": "#E5ECF6",
           "radialaxis": {
            "gridcolor": "white",
            "linecolor": "white",
            "ticks": ""
           }
          },
          "scene": {
           "xaxis": {
            "backgroundcolor": "#E5ECF6",
            "gridcolor": "white",
            "gridwidth": 2,
            "linecolor": "white",
            "showbackground": true,
            "ticks": "",
            "zerolinecolor": "white"
           },
           "yaxis": {
            "backgroundcolor": "#E5ECF6",
            "gridcolor": "white",
            "gridwidth": 2,
            "linecolor": "white",
            "showbackground": true,
            "ticks": "",
            "zerolinecolor": "white"
           },
           "zaxis": {
            "backgroundcolor": "#E5ECF6",
            "gridcolor": "white",
            "gridwidth": 2,
            "linecolor": "white",
            "showbackground": true,
            "ticks": "",
            "zerolinecolor": "white"
           }
          },
          "shapedefaults": {
           "line": {
            "color": "#2a3f5f"
           }
          },
          "ternary": {
           "aaxis": {
            "gridcolor": "white",
            "linecolor": "white",
            "ticks": ""
           },
           "baxis": {
            "gridcolor": "white",
            "linecolor": "white",
            "ticks": ""
           },
           "bgcolor": "#E5ECF6",
           "caxis": {
            "gridcolor": "white",
            "linecolor": "white",
            "ticks": ""
           }
          },
          "title": {
           "x": 0.05
          },
          "xaxis": {
           "automargin": true,
           "gridcolor": "white",
           "linecolor": "white",
           "ticks": "",
           "title": {
            "standoff": 15
           },
           "zerolinecolor": "white",
           "zerolinewidth": 2
          },
          "yaxis": {
           "automargin": true,
           "gridcolor": "white",
           "linecolor": "white",
           "ticks": "",
           "title": {
            "standoff": 15
           },
           "zerolinecolor": "white",
           "zerolinewidth": 2
          }
         }
        },
        "title": {
         "font": {
          "color": "#4D5663"
         }
        },
        "xaxis": {
         "gridcolor": "#E1E5ED",
         "showgrid": true,
         "tickfont": {
          "color": "#4D5663"
         },
         "title": {
          "font": {
           "color": "#4D5663"
          },
          "text": ""
         },
         "zerolinecolor": "#E1E5ED"
        },
        "yaxis": {
         "gridcolor": "#E1E5ED",
         "showgrid": true,
         "tickfont": {
          "color": "#4D5663"
         },
         "title": {
          "font": {
           "color": "#4D5663"
          },
          "text": ""
         },
         "zerolinecolor": "#E1E5ED"
        }
       }
      },
      "text/html": [
       "<div>\n",
       "        \n",
       "        \n",
       "            <div id=\"ecdaa116-0de1-4ada-8832-bba69667682e\" class=\"plotly-graph-div\" style=\"height:525px; width:100%;\"></div>\n",
       "            <script type=\"text/javascript\">\n",
       "                require([\"plotly\"], function(Plotly) {\n",
       "                    window.PLOTLYENV=window.PLOTLYENV || {};\n",
       "                    window.PLOTLYENV.BASE_URL='https://plot.ly';\n",
       "                    \n",
       "                if (document.getElementById(\"ecdaa116-0de1-4ada-8832-bba69667682e\")) {\n",
       "                    Plotly.newPlot(\n",
       "                        'ecdaa116-0de1-4ada-8832-bba69667682e',\n",
       "                        [{\"marker\": {\"color\": \"rgba(255, 153, 51, 0.6)\", \"line\": {\"color\": \"rgba(255, 153, 51, 1.0)\", \"width\": 1}}, \"name\": \"values\", \"orientation\": \"v\", \"text\": \"\", \"type\": \"bar\", \"x\": [\"A\", \"B\", \"C\"], \"y\": [32, 43, 50]}],\n",
       "                        {\"legend\": {\"bgcolor\": \"#F5F6F9\", \"font\": {\"color\": \"#4D5663\"}}, \"paper_bgcolor\": \"#F5F6F9\", \"plot_bgcolor\": \"#F5F6F9\", \"template\": {\"data\": {\"bar\": [{\"error_x\": {\"color\": \"#2a3f5f\"}, \"error_y\": {\"color\": \"#2a3f5f\"}, \"marker\": {\"line\": {\"color\": \"#E5ECF6\", \"width\": 0.5}}, \"type\": \"bar\"}], \"barpolar\": [{\"marker\": {\"line\": {\"color\": \"#E5ECF6\", \"width\": 0.5}}, \"type\": \"barpolar\"}], \"carpet\": [{\"aaxis\": {\"endlinecolor\": \"#2a3f5f\", \"gridcolor\": \"white\", \"linecolor\": \"white\", \"minorgridcolor\": \"white\", \"startlinecolor\": \"#2a3f5f\"}, \"baxis\": {\"endlinecolor\": \"#2a3f5f\", \"gridcolor\": \"white\", \"linecolor\": \"white\", \"minorgridcolor\": \"white\", \"startlinecolor\": \"#2a3f5f\"}, \"type\": \"carpet\"}], \"choropleth\": [{\"colorbar\": {\"outlinewidth\": 0, \"ticks\": \"\"}, \"type\": \"choropleth\"}], \"contour\": [{\"colorbar\": {\"outlinewidth\": 0, \"ticks\": \"\"}, \"colorscale\": [[0.0, \"#0d0887\"], [0.1111111111111111, \"#46039f\"], [0.2222222222222222, \"#7201a8\"], [0.3333333333333333, \"#9c179e\"], [0.4444444444444444, \"#bd3786\"], [0.5555555555555556, \"#d8576b\"], [0.6666666666666666, \"#ed7953\"], [0.7777777777777778, \"#fb9f3a\"], [0.8888888888888888, \"#fdca26\"], [1.0, \"#f0f921\"]], \"type\": \"contour\"}], \"contourcarpet\": [{\"colorbar\": {\"outlinewidth\": 0, \"ticks\": \"\"}, \"type\": \"contourcarpet\"}], \"heatmap\": [{\"colorbar\": {\"outlinewidth\": 0, \"ticks\": \"\"}, \"colorscale\": [[0.0, \"#0d0887\"], [0.1111111111111111, \"#46039f\"], [0.2222222222222222, \"#7201a8\"], [0.3333333333333333, \"#9c179e\"], [0.4444444444444444, \"#bd3786\"], [0.5555555555555556, \"#d8576b\"], [0.6666666666666666, \"#ed7953\"], [0.7777777777777778, \"#fb9f3a\"], [0.8888888888888888, \"#fdca26\"], [1.0, \"#f0f921\"]], \"type\": \"heatmap\"}], \"heatmapgl\": [{\"colorbar\": {\"outlinewidth\": 0, \"ticks\": \"\"}, \"colorscale\": [[0.0, \"#0d0887\"], [0.1111111111111111, \"#46039f\"], [0.2222222222222222, \"#7201a8\"], [0.3333333333333333, \"#9c179e\"], [0.4444444444444444, \"#bd3786\"], [0.5555555555555556, \"#d8576b\"], [0.6666666666666666, \"#ed7953\"], [0.7777777777777778, \"#fb9f3a\"], [0.8888888888888888, \"#fdca26\"], [1.0, \"#f0f921\"]], \"type\": \"heatmapgl\"}], \"histogram\": [{\"marker\": {\"colorbar\": {\"outlinewidth\": 0, \"ticks\": \"\"}}, \"type\": \"histogram\"}], \"histogram2d\": [{\"colorbar\": {\"outlinewidth\": 0, \"ticks\": \"\"}, \"colorscale\": [[0.0, \"#0d0887\"], [0.1111111111111111, \"#46039f\"], [0.2222222222222222, \"#7201a8\"], [0.3333333333333333, \"#9c179e\"], [0.4444444444444444, \"#bd3786\"], [0.5555555555555556, \"#d8576b\"], [0.6666666666666666, \"#ed7953\"], [0.7777777777777778, \"#fb9f3a\"], [0.8888888888888888, \"#fdca26\"], [1.0, \"#f0f921\"]], \"type\": \"histogram2d\"}], \"histogram2dcontour\": [{\"colorbar\": {\"outlinewidth\": 0, \"ticks\": \"\"}, \"colorscale\": [[0.0, \"#0d0887\"], [0.1111111111111111, \"#46039f\"], [0.2222222222222222, \"#7201a8\"], [0.3333333333333333, \"#9c179e\"], [0.4444444444444444, \"#bd3786\"], [0.5555555555555556, \"#d8576b\"], [0.6666666666666666, \"#ed7953\"], [0.7777777777777778, \"#fb9f3a\"], [0.8888888888888888, \"#fdca26\"], [1.0, \"#f0f921\"]], \"type\": \"histogram2dcontour\"}], \"mesh3d\": [{\"colorbar\": {\"outlinewidth\": 0, \"ticks\": \"\"}, \"type\": \"mesh3d\"}], \"parcoords\": [{\"line\": {\"colorbar\": {\"outlinewidth\": 0, \"ticks\": \"\"}}, \"type\": \"parcoords\"}], \"pie\": [{\"automargin\": true, \"type\": \"pie\"}], \"scatter\": [{\"marker\": {\"colorbar\": {\"outlinewidth\": 0, \"ticks\": \"\"}}, \"type\": \"scatter\"}], \"scatter3d\": [{\"line\": {\"colorbar\": {\"outlinewidth\": 0, \"ticks\": \"\"}}, \"marker\": {\"colorbar\": {\"outlinewidth\": 0, \"ticks\": \"\"}}, \"type\": \"scatter3d\"}], \"scattercarpet\": [{\"marker\": {\"colorbar\": {\"outlinewidth\": 0, \"ticks\": \"\"}}, \"type\": \"scattercarpet\"}], \"scattergeo\": [{\"marker\": {\"colorbar\": {\"outlinewidth\": 0, \"ticks\": \"\"}}, \"type\": \"scattergeo\"}], \"scattergl\": [{\"marker\": {\"colorbar\": {\"outlinewidth\": 0, \"ticks\": \"\"}}, \"type\": \"scattergl\"}], \"scattermapbox\": [{\"marker\": {\"colorbar\": {\"outlinewidth\": 0, \"ticks\": \"\"}}, \"type\": \"scattermapbox\"}], \"scatterpolar\": [{\"marker\": {\"colorbar\": {\"outlinewidth\": 0, \"ticks\": \"\"}}, \"type\": \"scatterpolar\"}], \"scatterpolargl\": [{\"marker\": {\"colorbar\": {\"outlinewidth\": 0, \"ticks\": \"\"}}, \"type\": \"scatterpolargl\"}], \"scatterternary\": [{\"marker\": {\"colorbar\": {\"outlinewidth\": 0, \"ticks\": \"\"}}, \"type\": \"scatterternary\"}], \"surface\": [{\"colorbar\": {\"outlinewidth\": 0, \"ticks\": \"\"}, \"colorscale\": [[0.0, \"#0d0887\"], [0.1111111111111111, \"#46039f\"], [0.2222222222222222, \"#7201a8\"], [0.3333333333333333, \"#9c179e\"], [0.4444444444444444, \"#bd3786\"], [0.5555555555555556, \"#d8576b\"], [0.6666666666666666, \"#ed7953\"], [0.7777777777777778, \"#fb9f3a\"], [0.8888888888888888, \"#fdca26\"], [1.0, \"#f0f921\"]], \"type\": \"surface\"}], \"table\": [{\"cells\": {\"fill\": {\"color\": \"#EBF0F8\"}, \"line\": {\"color\": \"white\"}}, \"header\": {\"fill\": {\"color\": \"#C8D4E3\"}, \"line\": {\"color\": \"white\"}}, \"type\": \"table\"}]}, \"layout\": {\"annotationdefaults\": {\"arrowcolor\": \"#2a3f5f\", \"arrowhead\": 0, \"arrowwidth\": 1}, \"coloraxis\": {\"colorbar\": {\"outlinewidth\": 0, \"ticks\": \"\"}}, \"colorscale\": {\"diverging\": [[0, \"#8e0152\"], [0.1, \"#c51b7d\"], [0.2, \"#de77ae\"], [0.3, \"#f1b6da\"], [0.4, \"#fde0ef\"], [0.5, \"#f7f7f7\"], [0.6, \"#e6f5d0\"], [0.7, \"#b8e186\"], [0.8, \"#7fbc41\"], [0.9, \"#4d9221\"], [1, \"#276419\"]], \"sequential\": [[0.0, \"#0d0887\"], [0.1111111111111111, \"#46039f\"], [0.2222222222222222, \"#7201a8\"], [0.3333333333333333, \"#9c179e\"], [0.4444444444444444, \"#bd3786\"], [0.5555555555555556, \"#d8576b\"], [0.6666666666666666, \"#ed7953\"], [0.7777777777777778, \"#fb9f3a\"], [0.8888888888888888, \"#fdca26\"], [1.0, \"#f0f921\"]], \"sequentialminus\": [[0.0, \"#0d0887\"], [0.1111111111111111, \"#46039f\"], [0.2222222222222222, \"#7201a8\"], [0.3333333333333333, \"#9c179e\"], [0.4444444444444444, \"#bd3786\"], [0.5555555555555556, \"#d8576b\"], [0.6666666666666666, \"#ed7953\"], [0.7777777777777778, \"#fb9f3a\"], [0.8888888888888888, \"#fdca26\"], [1.0, \"#f0f921\"]]}, \"colorway\": [\"#636efa\", \"#EF553B\", \"#00cc96\", \"#ab63fa\", \"#FFA15A\", \"#19d3f3\", \"#FF6692\", \"#B6E880\", \"#FF97FF\", \"#FECB52\"], \"font\": {\"color\": \"#2a3f5f\"}, \"geo\": {\"bgcolor\": \"white\", \"lakecolor\": \"white\", \"landcolor\": \"#E5ECF6\", \"showlakes\": true, \"showland\": true, \"subunitcolor\": \"white\"}, \"hoverlabel\": {\"align\": \"left\"}, \"hovermode\": \"closest\", \"mapbox\": {\"style\": \"light\"}, \"paper_bgcolor\": \"white\", \"plot_bgcolor\": \"#E5ECF6\", \"polar\": {\"angularaxis\": {\"gridcolor\": \"white\", \"linecolor\": \"white\", \"ticks\": \"\"}, \"bgcolor\": \"#E5ECF6\", \"radialaxis\": {\"gridcolor\": \"white\", \"linecolor\": \"white\", \"ticks\": \"\"}}, \"scene\": {\"xaxis\": {\"backgroundcolor\": \"#E5ECF6\", \"gridcolor\": \"white\", \"gridwidth\": 2, \"linecolor\": \"white\", \"showbackground\": true, \"ticks\": \"\", \"zerolinecolor\": \"white\"}, \"yaxis\": {\"backgroundcolor\": \"#E5ECF6\", \"gridcolor\": \"white\", \"gridwidth\": 2, \"linecolor\": \"white\", \"showbackground\": true, \"ticks\": \"\", \"zerolinecolor\": \"white\"}, \"zaxis\": {\"backgroundcolor\": \"#E5ECF6\", \"gridcolor\": \"white\", \"gridwidth\": 2, \"linecolor\": \"white\", \"showbackground\": true, \"ticks\": \"\", \"zerolinecolor\": \"white\"}}, \"shapedefaults\": {\"line\": {\"color\": \"#2a3f5f\"}}, \"ternary\": {\"aaxis\": {\"gridcolor\": \"white\", \"linecolor\": \"white\", \"ticks\": \"\"}, \"baxis\": {\"gridcolor\": \"white\", \"linecolor\": \"white\", \"ticks\": \"\"}, \"bgcolor\": \"#E5ECF6\", \"caxis\": {\"gridcolor\": \"white\", \"linecolor\": \"white\", \"ticks\": \"\"}}, \"title\": {\"x\": 0.05}, \"xaxis\": {\"automargin\": true, \"gridcolor\": \"white\", \"linecolor\": \"white\", \"ticks\": \"\", \"title\": {\"standoff\": 15}, \"zerolinecolor\": \"white\", \"zerolinewidth\": 2}, \"yaxis\": {\"automargin\": true, \"gridcolor\": \"white\", \"linecolor\": \"white\", \"ticks\": \"\", \"title\": {\"standoff\": 15}, \"zerolinecolor\": \"white\", \"zerolinewidth\": 2}}}, \"title\": {\"font\": {\"color\": \"#4D5663\"}}, \"xaxis\": {\"gridcolor\": \"#E1E5ED\", \"showgrid\": true, \"tickfont\": {\"color\": \"#4D5663\"}, \"title\": {\"font\": {\"color\": \"#4D5663\"}, \"text\": \"\"}, \"zerolinecolor\": \"#E1E5ED\"}, \"yaxis\": {\"gridcolor\": \"#E1E5ED\", \"showgrid\": true, \"tickfont\": {\"color\": \"#4D5663\"}, \"title\": {\"font\": {\"color\": \"#4D5663\"}, \"text\": \"\"}, \"zerolinecolor\": \"#E1E5ED\"}},\n",
       "                        {\"showLink\": true, \"linkText\": \"Export to plot.ly\", \"plotlyServerURL\": \"https://plot.ly\", \"responsive\": true}\n",
       "                    ).then(function(){\n",
       "                            \n",
       "var gd = document.getElementById('ecdaa116-0de1-4ada-8832-bba69667682e');\n",
       "var x = new MutationObserver(function (mutations, observer) {{\n",
       "        var display = window.getComputedStyle(gd).display;\n",
       "        if (!display || display === 'none') {{\n",
       "            console.log([gd, 'removed!']);\n",
       "            Plotly.purge(gd);\n",
       "            observer.disconnect();\n",
       "        }}\n",
       "}});\n",
       "\n",
       "// Listen for the removal of the full notebook cells\n",
       "var notebookContainer = gd.closest('#notebook-container');\n",
       "if (notebookContainer) {{\n",
       "    x.observe(notebookContainer, {childList: true});\n",
       "}}\n",
       "\n",
       "// Listen for the clearing of the current output cell\n",
       "var outputEl = gd.closest('.output');\n",
       "if (outputEl) {{\n",
       "    x.observe(outputEl, {childList: true});\n",
       "}}\n",
       "\n",
       "                        })\n",
       "                };\n",
       "                });\n",
       "            </script>\n",
       "        </div>"
      ]
     },
     "metadata": {},
     "output_type": "display_data"
    }
   ],
   "source": [
    "df2.iplot(kind='bar',x='Category',y='values')"
   ]
  },
  {
   "cell_type": "code",
   "execution_count": 22,
   "metadata": {},
   "outputs": [
    {
     "data": {
      "application/vnd.plotly.v1+json": {
       "config": {
        "linkText": "Export to plot.ly",
        "plotlyServerURL": "https://plot.ly",
        "showLink": true
       },
       "data": [
        {
         "marker": {
          "color": "rgba(255, 153, 51, 0.6)",
          "line": {
           "color": "rgba(255, 153, 51, 1.0)",
           "width": 1
          }
         },
         "name": "None",
         "orientation": "v",
         "text": "",
         "type": "bar",
         "x": [
          "A",
          "B",
          "C",
          "D"
         ],
         "y": [
          100,
          100,
          100,
          100
         ]
        }
       ],
       "layout": {
        "legend": {
         "bgcolor": "#F5F6F9",
         "font": {
          "color": "#4D5663"
         }
        },
        "paper_bgcolor": "#F5F6F9",
        "plot_bgcolor": "#F5F6F9",
        "template": {
         "data": {
          "bar": [
           {
            "error_x": {
             "color": "#2a3f5f"
            },
            "error_y": {
             "color": "#2a3f5f"
            },
            "marker": {
             "line": {
              "color": "#E5ECF6",
              "width": 0.5
             }
            },
            "type": "bar"
           }
          ],
          "barpolar": [
           {
            "marker": {
             "line": {
              "color": "#E5ECF6",
              "width": 0.5
             }
            },
            "type": "barpolar"
           }
          ],
          "carpet": [
           {
            "aaxis": {
             "endlinecolor": "#2a3f5f",
             "gridcolor": "white",
             "linecolor": "white",
             "minorgridcolor": "white",
             "startlinecolor": "#2a3f5f"
            },
            "baxis": {
             "endlinecolor": "#2a3f5f",
             "gridcolor": "white",
             "linecolor": "white",
             "minorgridcolor": "white",
             "startlinecolor": "#2a3f5f"
            },
            "type": "carpet"
           }
          ],
          "choropleth": [
           {
            "colorbar": {
             "outlinewidth": 0,
             "ticks": ""
            },
            "type": "choropleth"
           }
          ],
          "contour": [
           {
            "colorbar": {
             "outlinewidth": 0,
             "ticks": ""
            },
            "colorscale": [
             [
              0,
              "#0d0887"
             ],
             [
              0.1111111111111111,
              "#46039f"
             ],
             [
              0.2222222222222222,
              "#7201a8"
             ],
             [
              0.3333333333333333,
              "#9c179e"
             ],
             [
              0.4444444444444444,
              "#bd3786"
             ],
             [
              0.5555555555555556,
              "#d8576b"
             ],
             [
              0.6666666666666666,
              "#ed7953"
             ],
             [
              0.7777777777777778,
              "#fb9f3a"
             ],
             [
              0.8888888888888888,
              "#fdca26"
             ],
             [
              1,
              "#f0f921"
             ]
            ],
            "type": "contour"
           }
          ],
          "contourcarpet": [
           {
            "colorbar": {
             "outlinewidth": 0,
             "ticks": ""
            },
            "type": "contourcarpet"
           }
          ],
          "heatmap": [
           {
            "colorbar": {
             "outlinewidth": 0,
             "ticks": ""
            },
            "colorscale": [
             [
              0,
              "#0d0887"
             ],
             [
              0.1111111111111111,
              "#46039f"
             ],
             [
              0.2222222222222222,
              "#7201a8"
             ],
             [
              0.3333333333333333,
              "#9c179e"
             ],
             [
              0.4444444444444444,
              "#bd3786"
             ],
             [
              0.5555555555555556,
              "#d8576b"
             ],
             [
              0.6666666666666666,
              "#ed7953"
             ],
             [
              0.7777777777777778,
              "#fb9f3a"
             ],
             [
              0.8888888888888888,
              "#fdca26"
             ],
             [
              1,
              "#f0f921"
             ]
            ],
            "type": "heatmap"
           }
          ],
          "heatmapgl": [
           {
            "colorbar": {
             "outlinewidth": 0,
             "ticks": ""
            },
            "colorscale": [
             [
              0,
              "#0d0887"
             ],
             [
              0.1111111111111111,
              "#46039f"
             ],
             [
              0.2222222222222222,
              "#7201a8"
             ],
             [
              0.3333333333333333,
              "#9c179e"
             ],
             [
              0.4444444444444444,
              "#bd3786"
             ],
             [
              0.5555555555555556,
              "#d8576b"
             ],
             [
              0.6666666666666666,
              "#ed7953"
             ],
             [
              0.7777777777777778,
              "#fb9f3a"
             ],
             [
              0.8888888888888888,
              "#fdca26"
             ],
             [
              1,
              "#f0f921"
             ]
            ],
            "type": "heatmapgl"
           }
          ],
          "histogram": [
           {
            "marker": {
             "colorbar": {
              "outlinewidth": 0,
              "ticks": ""
             }
            },
            "type": "histogram"
           }
          ],
          "histogram2d": [
           {
            "colorbar": {
             "outlinewidth": 0,
             "ticks": ""
            },
            "colorscale": [
             [
              0,
              "#0d0887"
             ],
             [
              0.1111111111111111,
              "#46039f"
             ],
             [
              0.2222222222222222,
              "#7201a8"
             ],
             [
              0.3333333333333333,
              "#9c179e"
             ],
             [
              0.4444444444444444,
              "#bd3786"
             ],
             [
              0.5555555555555556,
              "#d8576b"
             ],
             [
              0.6666666666666666,
              "#ed7953"
             ],
             [
              0.7777777777777778,
              "#fb9f3a"
             ],
             [
              0.8888888888888888,
              "#fdca26"
             ],
             [
              1,
              "#f0f921"
             ]
            ],
            "type": "histogram2d"
           }
          ],
          "histogram2dcontour": [
           {
            "colorbar": {
             "outlinewidth": 0,
             "ticks": ""
            },
            "colorscale": [
             [
              0,
              "#0d0887"
             ],
             [
              0.1111111111111111,
              "#46039f"
             ],
             [
              0.2222222222222222,
              "#7201a8"
             ],
             [
              0.3333333333333333,
              "#9c179e"
             ],
             [
              0.4444444444444444,
              "#bd3786"
             ],
             [
              0.5555555555555556,
              "#d8576b"
             ],
             [
              0.6666666666666666,
              "#ed7953"
             ],
             [
              0.7777777777777778,
              "#fb9f3a"
             ],
             [
              0.8888888888888888,
              "#fdca26"
             ],
             [
              1,
              "#f0f921"
             ]
            ],
            "type": "histogram2dcontour"
           }
          ],
          "mesh3d": [
           {
            "colorbar": {
             "outlinewidth": 0,
             "ticks": ""
            },
            "type": "mesh3d"
           }
          ],
          "parcoords": [
           {
            "line": {
             "colorbar": {
              "outlinewidth": 0,
              "ticks": ""
             }
            },
            "type": "parcoords"
           }
          ],
          "pie": [
           {
            "automargin": true,
            "type": "pie"
           }
          ],
          "scatter": [
           {
            "marker": {
             "colorbar": {
              "outlinewidth": 0,
              "ticks": ""
             }
            },
            "type": "scatter"
           }
          ],
          "scatter3d": [
           {
            "line": {
             "colorbar": {
              "outlinewidth": 0,
              "ticks": ""
             }
            },
            "marker": {
             "colorbar": {
              "outlinewidth": 0,
              "ticks": ""
             }
            },
            "type": "scatter3d"
           }
          ],
          "scattercarpet": [
           {
            "marker": {
             "colorbar": {
              "outlinewidth": 0,
              "ticks": ""
             }
            },
            "type": "scattercarpet"
           }
          ],
          "scattergeo": [
           {
            "marker": {
             "colorbar": {
              "outlinewidth": 0,
              "ticks": ""
             }
            },
            "type": "scattergeo"
           }
          ],
          "scattergl": [
           {
            "marker": {
             "colorbar": {
              "outlinewidth": 0,
              "ticks": ""
             }
            },
            "type": "scattergl"
           }
          ],
          "scattermapbox": [
           {
            "marker": {
             "colorbar": {
              "outlinewidth": 0,
              "ticks": ""
             }
            },
            "type": "scattermapbox"
           }
          ],
          "scatterpolar": [
           {
            "marker": {
             "colorbar": {
              "outlinewidth": 0,
              "ticks": ""
             }
            },
            "type": "scatterpolar"
           }
          ],
          "scatterpolargl": [
           {
            "marker": {
             "colorbar": {
              "outlinewidth": 0,
              "ticks": ""
             }
            },
            "type": "scatterpolargl"
           }
          ],
          "scatterternary": [
           {
            "marker": {
             "colorbar": {
              "outlinewidth": 0,
              "ticks": ""
             }
            },
            "type": "scatterternary"
           }
          ],
          "surface": [
           {
            "colorbar": {
             "outlinewidth": 0,
             "ticks": ""
            },
            "colorscale": [
             [
              0,
              "#0d0887"
             ],
             [
              0.1111111111111111,
              "#46039f"
             ],
             [
              0.2222222222222222,
              "#7201a8"
             ],
             [
              0.3333333333333333,
              "#9c179e"
             ],
             [
              0.4444444444444444,
              "#bd3786"
             ],
             [
              0.5555555555555556,
              "#d8576b"
             ],
             [
              0.6666666666666666,
              "#ed7953"
             ],
             [
              0.7777777777777778,
              "#fb9f3a"
             ],
             [
              0.8888888888888888,
              "#fdca26"
             ],
             [
              1,
              "#f0f921"
             ]
            ],
            "type": "surface"
           }
          ],
          "table": [
           {
            "cells": {
             "fill": {
              "color": "#EBF0F8"
             },
             "line": {
              "color": "white"
             }
            },
            "header": {
             "fill": {
              "color": "#C8D4E3"
             },
             "line": {
              "color": "white"
             }
            },
            "type": "table"
           }
          ]
         },
         "layout": {
          "annotationdefaults": {
           "arrowcolor": "#2a3f5f",
           "arrowhead": 0,
           "arrowwidth": 1
          },
          "coloraxis": {
           "colorbar": {
            "outlinewidth": 0,
            "ticks": ""
           }
          },
          "colorscale": {
           "diverging": [
            [
             0,
             "#8e0152"
            ],
            [
             0.1,
             "#c51b7d"
            ],
            [
             0.2,
             "#de77ae"
            ],
            [
             0.3,
             "#f1b6da"
            ],
            [
             0.4,
             "#fde0ef"
            ],
            [
             0.5,
             "#f7f7f7"
            ],
            [
             0.6,
             "#e6f5d0"
            ],
            [
             0.7,
             "#b8e186"
            ],
            [
             0.8,
             "#7fbc41"
            ],
            [
             0.9,
             "#4d9221"
            ],
            [
             1,
             "#276419"
            ]
           ],
           "sequential": [
            [
             0,
             "#0d0887"
            ],
            [
             0.1111111111111111,
             "#46039f"
            ],
            [
             0.2222222222222222,
             "#7201a8"
            ],
            [
             0.3333333333333333,
             "#9c179e"
            ],
            [
             0.4444444444444444,
             "#bd3786"
            ],
            [
             0.5555555555555556,
             "#d8576b"
            ],
            [
             0.6666666666666666,
             "#ed7953"
            ],
            [
             0.7777777777777778,
             "#fb9f3a"
            ],
            [
             0.8888888888888888,
             "#fdca26"
            ],
            [
             1,
             "#f0f921"
            ]
           ],
           "sequentialminus": [
            [
             0,
             "#0d0887"
            ],
            [
             0.1111111111111111,
             "#46039f"
            ],
            [
             0.2222222222222222,
             "#7201a8"
            ],
            [
             0.3333333333333333,
             "#9c179e"
            ],
            [
             0.4444444444444444,
             "#bd3786"
            ],
            [
             0.5555555555555556,
             "#d8576b"
            ],
            [
             0.6666666666666666,
             "#ed7953"
            ],
            [
             0.7777777777777778,
             "#fb9f3a"
            ],
            [
             0.8888888888888888,
             "#fdca26"
            ],
            [
             1,
             "#f0f921"
            ]
           ]
          },
          "colorway": [
           "#636efa",
           "#EF553B",
           "#00cc96",
           "#ab63fa",
           "#FFA15A",
           "#19d3f3",
           "#FF6692",
           "#B6E880",
           "#FF97FF",
           "#FECB52"
          ],
          "font": {
           "color": "#2a3f5f"
          },
          "geo": {
           "bgcolor": "white",
           "lakecolor": "white",
           "landcolor": "#E5ECF6",
           "showlakes": true,
           "showland": true,
           "subunitcolor": "white"
          },
          "hoverlabel": {
           "align": "left"
          },
          "hovermode": "closest",
          "mapbox": {
           "style": "light"
          },
          "paper_bgcolor": "white",
          "plot_bgcolor": "#E5ECF6",
          "polar": {
           "angularaxis": {
            "gridcolor": "white",
            "linecolor": "white",
            "ticks": ""
           },
           "bgcolor": "#E5ECF6",
           "radialaxis": {
            "gridcolor": "white",
            "linecolor": "white",
            "ticks": ""
           }
          },
          "scene": {
           "xaxis": {
            "backgroundcolor": "#E5ECF6",
            "gridcolor": "white",
            "gridwidth": 2,
            "linecolor": "white",
            "showbackground": true,
            "ticks": "",
            "zerolinecolor": "white"
           },
           "yaxis": {
            "backgroundcolor": "#E5ECF6",
            "gridcolor": "white",
            "gridwidth": 2,
            "linecolor": "white",
            "showbackground": true,
            "ticks": "",
            "zerolinecolor": "white"
           },
           "zaxis": {
            "backgroundcolor": "#E5ECF6",
            "gridcolor": "white",
            "gridwidth": 2,
            "linecolor": "white",
            "showbackground": true,
            "ticks": "",
            "zerolinecolor": "white"
           }
          },
          "shapedefaults": {
           "line": {
            "color": "#2a3f5f"
           }
          },
          "ternary": {
           "aaxis": {
            "gridcolor": "white",
            "linecolor": "white",
            "ticks": ""
           },
           "baxis": {
            "gridcolor": "white",
            "linecolor": "white",
            "ticks": ""
           },
           "bgcolor": "#E5ECF6",
           "caxis": {
            "gridcolor": "white",
            "linecolor": "white",
            "ticks": ""
           }
          },
          "title": {
           "x": 0.05
          },
          "xaxis": {
           "automargin": true,
           "gridcolor": "white",
           "linecolor": "white",
           "ticks": "",
           "title": {
            "standoff": 15
           },
           "zerolinecolor": "white",
           "zerolinewidth": 2
          },
          "yaxis": {
           "automargin": true,
           "gridcolor": "white",
           "linecolor": "white",
           "ticks": "",
           "title": {
            "standoff": 15
           },
           "zerolinecolor": "white",
           "zerolinewidth": 2
          }
         }
        },
        "title": {
         "font": {
          "color": "#4D5663"
         }
        },
        "xaxis": {
         "gridcolor": "#E1E5ED",
         "showgrid": true,
         "tickfont": {
          "color": "#4D5663"
         },
         "title": {
          "font": {
           "color": "#4D5663"
          },
          "text": ""
         },
         "zerolinecolor": "#E1E5ED"
        },
        "yaxis": {
         "gridcolor": "#E1E5ED",
         "showgrid": true,
         "tickfont": {
          "color": "#4D5663"
         },
         "title": {
          "font": {
           "color": "#4D5663"
          },
          "text": ""
         },
         "zerolinecolor": "#E1E5ED"
        }
       }
      },
      "text/html": [
       "<div>\n",
       "        \n",
       "        \n",
       "            <div id=\"1d3247c6-2b14-4d82-b6fc-31df2a35c104\" class=\"plotly-graph-div\" style=\"height:525px; width:100%;\"></div>\n",
       "            <script type=\"text/javascript\">\n",
       "                require([\"plotly\"], function(Plotly) {\n",
       "                    window.PLOTLYENV=window.PLOTLYENV || {};\n",
       "                    window.PLOTLYENV.BASE_URL='https://plot.ly';\n",
       "                    \n",
       "                if (document.getElementById(\"1d3247c6-2b14-4d82-b6fc-31df2a35c104\")) {\n",
       "                    Plotly.newPlot(\n",
       "                        '1d3247c6-2b14-4d82-b6fc-31df2a35c104',\n",
       "                        [{\"marker\": {\"color\": \"rgba(255, 153, 51, 0.6)\", \"line\": {\"color\": \"rgba(255, 153, 51, 1.0)\", \"width\": 1}}, \"name\": \"None\", \"orientation\": \"v\", \"text\": \"\", \"type\": \"bar\", \"x\": [\"A\", \"B\", \"C\", \"D\"], \"y\": [100, 100, 100, 100]}],\n",
       "                        {\"legend\": {\"bgcolor\": \"#F5F6F9\", \"font\": {\"color\": \"#4D5663\"}}, \"paper_bgcolor\": \"#F5F6F9\", \"plot_bgcolor\": \"#F5F6F9\", \"template\": {\"data\": {\"bar\": [{\"error_x\": {\"color\": \"#2a3f5f\"}, \"error_y\": {\"color\": \"#2a3f5f\"}, \"marker\": {\"line\": {\"color\": \"#E5ECF6\", \"width\": 0.5}}, \"type\": \"bar\"}], \"barpolar\": [{\"marker\": {\"line\": {\"color\": \"#E5ECF6\", \"width\": 0.5}}, \"type\": \"barpolar\"}], \"carpet\": [{\"aaxis\": {\"endlinecolor\": \"#2a3f5f\", \"gridcolor\": \"white\", \"linecolor\": \"white\", \"minorgridcolor\": \"white\", \"startlinecolor\": \"#2a3f5f\"}, \"baxis\": {\"endlinecolor\": \"#2a3f5f\", \"gridcolor\": \"white\", \"linecolor\": \"white\", \"minorgridcolor\": \"white\", \"startlinecolor\": \"#2a3f5f\"}, \"type\": \"carpet\"}], \"choropleth\": [{\"colorbar\": {\"outlinewidth\": 0, \"ticks\": \"\"}, \"type\": \"choropleth\"}], \"contour\": [{\"colorbar\": {\"outlinewidth\": 0, \"ticks\": \"\"}, \"colorscale\": [[0.0, \"#0d0887\"], [0.1111111111111111, \"#46039f\"], [0.2222222222222222, \"#7201a8\"], [0.3333333333333333, \"#9c179e\"], [0.4444444444444444, \"#bd3786\"], [0.5555555555555556, \"#d8576b\"], [0.6666666666666666, \"#ed7953\"], [0.7777777777777778, \"#fb9f3a\"], [0.8888888888888888, \"#fdca26\"], [1.0, \"#f0f921\"]], \"type\": \"contour\"}], \"contourcarpet\": [{\"colorbar\": {\"outlinewidth\": 0, \"ticks\": \"\"}, \"type\": \"contourcarpet\"}], \"heatmap\": [{\"colorbar\": {\"outlinewidth\": 0, \"ticks\": \"\"}, \"colorscale\": [[0.0, \"#0d0887\"], [0.1111111111111111, \"#46039f\"], [0.2222222222222222, \"#7201a8\"], [0.3333333333333333, \"#9c179e\"], [0.4444444444444444, \"#bd3786\"], [0.5555555555555556, \"#d8576b\"], [0.6666666666666666, \"#ed7953\"], [0.7777777777777778, \"#fb9f3a\"], [0.8888888888888888, \"#fdca26\"], [1.0, \"#f0f921\"]], \"type\": \"heatmap\"}], \"heatmapgl\": [{\"colorbar\": {\"outlinewidth\": 0, \"ticks\": \"\"}, \"colorscale\": [[0.0, \"#0d0887\"], [0.1111111111111111, \"#46039f\"], [0.2222222222222222, \"#7201a8\"], [0.3333333333333333, \"#9c179e\"], [0.4444444444444444, \"#bd3786\"], [0.5555555555555556, \"#d8576b\"], [0.6666666666666666, \"#ed7953\"], [0.7777777777777778, \"#fb9f3a\"], [0.8888888888888888, \"#fdca26\"], [1.0, \"#f0f921\"]], \"type\": \"heatmapgl\"}], \"histogram\": [{\"marker\": {\"colorbar\": {\"outlinewidth\": 0, \"ticks\": \"\"}}, \"type\": \"histogram\"}], \"histogram2d\": [{\"colorbar\": {\"outlinewidth\": 0, \"ticks\": \"\"}, \"colorscale\": [[0.0, \"#0d0887\"], [0.1111111111111111, \"#46039f\"], [0.2222222222222222, \"#7201a8\"], [0.3333333333333333, \"#9c179e\"], [0.4444444444444444, \"#bd3786\"], [0.5555555555555556, \"#d8576b\"], [0.6666666666666666, \"#ed7953\"], [0.7777777777777778, \"#fb9f3a\"], [0.8888888888888888, \"#fdca26\"], [1.0, \"#f0f921\"]], \"type\": \"histogram2d\"}], \"histogram2dcontour\": [{\"colorbar\": {\"outlinewidth\": 0, \"ticks\": \"\"}, \"colorscale\": [[0.0, \"#0d0887\"], [0.1111111111111111, \"#46039f\"], [0.2222222222222222, \"#7201a8\"], [0.3333333333333333, \"#9c179e\"], [0.4444444444444444, \"#bd3786\"], [0.5555555555555556, \"#d8576b\"], [0.6666666666666666, \"#ed7953\"], [0.7777777777777778, \"#fb9f3a\"], [0.8888888888888888, \"#fdca26\"], [1.0, \"#f0f921\"]], \"type\": \"histogram2dcontour\"}], \"mesh3d\": [{\"colorbar\": {\"outlinewidth\": 0, \"ticks\": \"\"}, \"type\": \"mesh3d\"}], \"parcoords\": [{\"line\": {\"colorbar\": {\"outlinewidth\": 0, \"ticks\": \"\"}}, \"type\": \"parcoords\"}], \"pie\": [{\"automargin\": true, \"type\": \"pie\"}], \"scatter\": [{\"marker\": {\"colorbar\": {\"outlinewidth\": 0, \"ticks\": \"\"}}, \"type\": \"scatter\"}], \"scatter3d\": [{\"line\": {\"colorbar\": {\"outlinewidth\": 0, \"ticks\": \"\"}}, \"marker\": {\"colorbar\": {\"outlinewidth\": 0, \"ticks\": \"\"}}, \"type\": \"scatter3d\"}], \"scattercarpet\": [{\"marker\": {\"colorbar\": {\"outlinewidth\": 0, \"ticks\": \"\"}}, \"type\": \"scattercarpet\"}], \"scattergeo\": [{\"marker\": {\"colorbar\": {\"outlinewidth\": 0, \"ticks\": \"\"}}, \"type\": \"scattergeo\"}], \"scattergl\": [{\"marker\": {\"colorbar\": {\"outlinewidth\": 0, \"ticks\": \"\"}}, \"type\": \"scattergl\"}], \"scattermapbox\": [{\"marker\": {\"colorbar\": {\"outlinewidth\": 0, \"ticks\": \"\"}}, \"type\": \"scattermapbox\"}], \"scatterpolar\": [{\"marker\": {\"colorbar\": {\"outlinewidth\": 0, \"ticks\": \"\"}}, \"type\": \"scatterpolar\"}], \"scatterpolargl\": [{\"marker\": {\"colorbar\": {\"outlinewidth\": 0, \"ticks\": \"\"}}, \"type\": \"scatterpolargl\"}], \"scatterternary\": [{\"marker\": {\"colorbar\": {\"outlinewidth\": 0, \"ticks\": \"\"}}, \"type\": \"scatterternary\"}], \"surface\": [{\"colorbar\": {\"outlinewidth\": 0, \"ticks\": \"\"}, \"colorscale\": [[0.0, \"#0d0887\"], [0.1111111111111111, \"#46039f\"], [0.2222222222222222, \"#7201a8\"], [0.3333333333333333, \"#9c179e\"], [0.4444444444444444, \"#bd3786\"], [0.5555555555555556, \"#d8576b\"], [0.6666666666666666, \"#ed7953\"], [0.7777777777777778, \"#fb9f3a\"], [0.8888888888888888, \"#fdca26\"], [1.0, \"#f0f921\"]], \"type\": \"surface\"}], \"table\": [{\"cells\": {\"fill\": {\"color\": \"#EBF0F8\"}, \"line\": {\"color\": \"white\"}}, \"header\": {\"fill\": {\"color\": \"#C8D4E3\"}, \"line\": {\"color\": \"white\"}}, \"type\": \"table\"}]}, \"layout\": {\"annotationdefaults\": {\"arrowcolor\": \"#2a3f5f\", \"arrowhead\": 0, \"arrowwidth\": 1}, \"coloraxis\": {\"colorbar\": {\"outlinewidth\": 0, \"ticks\": \"\"}}, \"colorscale\": {\"diverging\": [[0, \"#8e0152\"], [0.1, \"#c51b7d\"], [0.2, \"#de77ae\"], [0.3, \"#f1b6da\"], [0.4, \"#fde0ef\"], [0.5, \"#f7f7f7\"], [0.6, \"#e6f5d0\"], [0.7, \"#b8e186\"], [0.8, \"#7fbc41\"], [0.9, \"#4d9221\"], [1, \"#276419\"]], \"sequential\": [[0.0, \"#0d0887\"], [0.1111111111111111, \"#46039f\"], [0.2222222222222222, \"#7201a8\"], [0.3333333333333333, \"#9c179e\"], [0.4444444444444444, \"#bd3786\"], [0.5555555555555556, \"#d8576b\"], [0.6666666666666666, \"#ed7953\"], [0.7777777777777778, \"#fb9f3a\"], [0.8888888888888888, \"#fdca26\"], [1.0, \"#f0f921\"]], \"sequentialminus\": [[0.0, \"#0d0887\"], [0.1111111111111111, \"#46039f\"], [0.2222222222222222, \"#7201a8\"], [0.3333333333333333, \"#9c179e\"], [0.4444444444444444, \"#bd3786\"], [0.5555555555555556, \"#d8576b\"], [0.6666666666666666, \"#ed7953\"], [0.7777777777777778, \"#fb9f3a\"], [0.8888888888888888, \"#fdca26\"], [1.0, \"#f0f921\"]]}, \"colorway\": [\"#636efa\", \"#EF553B\", \"#00cc96\", \"#ab63fa\", \"#FFA15A\", \"#19d3f3\", \"#FF6692\", \"#B6E880\", \"#FF97FF\", \"#FECB52\"], \"font\": {\"color\": \"#2a3f5f\"}, \"geo\": {\"bgcolor\": \"white\", \"lakecolor\": \"white\", \"landcolor\": \"#E5ECF6\", \"showlakes\": true, \"showland\": true, \"subunitcolor\": \"white\"}, \"hoverlabel\": {\"align\": \"left\"}, \"hovermode\": \"closest\", \"mapbox\": {\"style\": \"light\"}, \"paper_bgcolor\": \"white\", \"plot_bgcolor\": \"#E5ECF6\", \"polar\": {\"angularaxis\": {\"gridcolor\": \"white\", \"linecolor\": \"white\", \"ticks\": \"\"}, \"bgcolor\": \"#E5ECF6\", \"radialaxis\": {\"gridcolor\": \"white\", \"linecolor\": \"white\", \"ticks\": \"\"}}, \"scene\": {\"xaxis\": {\"backgroundcolor\": \"#E5ECF6\", \"gridcolor\": \"white\", \"gridwidth\": 2, \"linecolor\": \"white\", \"showbackground\": true, \"ticks\": \"\", \"zerolinecolor\": \"white\"}, \"yaxis\": {\"backgroundcolor\": \"#E5ECF6\", \"gridcolor\": \"white\", \"gridwidth\": 2, \"linecolor\": \"white\", \"showbackground\": true, \"ticks\": \"\", \"zerolinecolor\": \"white\"}, \"zaxis\": {\"backgroundcolor\": \"#E5ECF6\", \"gridcolor\": \"white\", \"gridwidth\": 2, \"linecolor\": \"white\", \"showbackground\": true, \"ticks\": \"\", \"zerolinecolor\": \"white\"}}, \"shapedefaults\": {\"line\": {\"color\": \"#2a3f5f\"}}, \"ternary\": {\"aaxis\": {\"gridcolor\": \"white\", \"linecolor\": \"white\", \"ticks\": \"\"}, \"baxis\": {\"gridcolor\": \"white\", \"linecolor\": \"white\", \"ticks\": \"\"}, \"bgcolor\": \"#E5ECF6\", \"caxis\": {\"gridcolor\": \"white\", \"linecolor\": \"white\", \"ticks\": \"\"}}, \"title\": {\"x\": 0.05}, \"xaxis\": {\"automargin\": true, \"gridcolor\": \"white\", \"linecolor\": \"white\", \"ticks\": \"\", \"title\": {\"standoff\": 15}, \"zerolinecolor\": \"white\", \"zerolinewidth\": 2}, \"yaxis\": {\"automargin\": true, \"gridcolor\": \"white\", \"linecolor\": \"white\", \"ticks\": \"\", \"title\": {\"standoff\": 15}, \"zerolinecolor\": \"white\", \"zerolinewidth\": 2}}}, \"title\": {\"font\": {\"color\": \"#4D5663\"}}, \"xaxis\": {\"gridcolor\": \"#E1E5ED\", \"showgrid\": true, \"tickfont\": {\"color\": \"#4D5663\"}, \"title\": {\"font\": {\"color\": \"#4D5663\"}, \"text\": \"\"}, \"zerolinecolor\": \"#E1E5ED\"}, \"yaxis\": {\"gridcolor\": \"#E1E5ED\", \"showgrid\": true, \"tickfont\": {\"color\": \"#4D5663\"}, \"title\": {\"font\": {\"color\": \"#4D5663\"}, \"text\": \"\"}, \"zerolinecolor\": \"#E1E5ED\"}},\n",
       "                        {\"showLink\": true, \"linkText\": \"Export to plot.ly\", \"plotlyServerURL\": \"https://plot.ly\", \"responsive\": true}\n",
       "                    ).then(function(){\n",
       "                            \n",
       "var gd = document.getElementById('1d3247c6-2b14-4d82-b6fc-31df2a35c104');\n",
       "var x = new MutationObserver(function (mutations, observer) {{\n",
       "        var display = window.getComputedStyle(gd).display;\n",
       "        if (!display || display === 'none') {{\n",
       "            console.log([gd, 'removed!']);\n",
       "            Plotly.purge(gd);\n",
       "            observer.disconnect();\n",
       "        }}\n",
       "}});\n",
       "\n",
       "// Listen for the removal of the full notebook cells\n",
       "var notebookContainer = gd.closest('#notebook-container');\n",
       "if (notebookContainer) {{\n",
       "    x.observe(notebookContainer, {childList: true});\n",
       "}}\n",
       "\n",
       "// Listen for the clearing of the current output cell\n",
       "var outputEl = gd.closest('.output');\n",
       "if (outputEl) {{\n",
       "    x.observe(outputEl, {childList: true});\n",
       "}}\n",
       "\n",
       "                        })\n",
       "                };\n",
       "                });\n",
       "            </script>\n",
       "        </div>"
      ]
     },
     "metadata": {},
     "output_type": "display_data"
    }
   ],
   "source": [
    "df.count().iplot(kind='bar')"
   ]
  },
  {
   "cell_type": "code",
   "execution_count": 23,
   "metadata": {},
   "outputs": [
    {
     "data": {
      "application/vnd.plotly.v1+json": {
       "config": {
        "linkText": "Export to plot.ly",
        "plotlyServerURL": "https://plot.ly",
        "showLink": true
       },
       "data": [
        {
         "boxpoints": false,
         "line": {
          "width": 1.3
         },
         "marker": {
          "color": "rgba(255, 153, 51, 1.0)"
         },
         "name": "A",
         "orientation": "v",
         "type": "box",
         "y": [
          1.5023563012055845,
          0.4087626388893659,
          1.5993197844213576,
          -0.5215118809744652,
          1.5681236600191981,
          0.7468356261210932,
          -0.749310641952968,
          0.1159935148313741,
          0.22045916587711767,
          -0.4550011729283677,
          0.8563933097341867,
          -2.066795909564812,
          -0.38285290167817404,
          0.01900787684381683,
          -0.12630271810268817,
          0.5680388021904351,
          1.14854911597069,
          0.6436069259066923,
          0.13859935383240438,
          -0.4956911855443848,
          0.4836194286327407,
          -1.2764417035087179,
          -0.5398190900873907,
          0.5796992019373896,
          -0.6037038043213754,
          0.7253532286953808,
          0.6834182495980821,
          -2.8845872018457897,
          1.0233482449319187,
          -2.552401535794378,
          2.3124239629877583,
          -0.8127401942686726,
          -0.23445084013367548,
          -0.6759192578683721,
          -2.5062077810487255,
          -1.2244355783037433,
          0.6694110332929116,
          -0.0034276115223639343,
          0.03204469823716342,
          -0.648084262291826,
          2.5628246207053778,
          0.9000009050597508,
          0.7517099499732545,
          1.2007637923291639,
          -1.9465668851371996,
          -2.413766407744819,
          -0.05082089573082934,
          1.207415735066595,
          -0.3835094510702304,
          0.5221421859827696,
          -0.5248958874051288,
          0.24619873930310585,
          0.5677610344566094,
          -0.4866092245561927,
          -0.7416586364234559,
          0.24855280589543127,
          1.2144044039988526,
          -0.14093054717060302,
          0.2963349236939744,
          -0.4291217100089392,
          1.1491732439347566,
          -0.5216591508755286,
          1.31822530500963,
          -0.47105727955537935,
          -0.40446633360902595,
          2.1459042895302747,
          0.6334555504966481,
          0.4176419554202106,
          -1.0273773683227392,
          1.1263431197506402,
          0.10469582241142089,
          -0.5906651009155758,
          -0.45518656697518617,
          1.3026059396663974,
          0.7571755070928892,
          0.10743952906925054,
          2.0706685836531564,
          0.5559870929964155,
          2.380054547983395,
          -0.39070598757151437,
          1.16309570735863,
          0.53168218102069,
          0.5568769817666138,
          0.39298936796065026,
          0.7338227726831591,
          0.5032917926801018,
          -0.5716134754818609,
          1.286383898901556,
          0.025648738117446,
          0.5157472248880189,
          -0.5104493617558568,
          -0.4733753767654713,
          0.36745876642344916,
          1.3072126283906071,
          0.35925235054705673,
          0.3793647207507,
          -0.21779341066885025,
          -0.5505938066317233,
          -0.5936228067274162,
          -0.18854451853239493
         ]
        },
        {
         "boxpoints": false,
         "line": {
          "width": 1.3
         },
         "marker": {
          "color": "rgba(55, 128, 191, 1.0)"
         },
         "name": "B",
         "orientation": "v",
         "type": "box",
         "y": [
          -0.1412993310039659,
          0.11155348249657292,
          1.7453199674605695,
          -0.814399733552155,
          0.6214554653204177,
          -0.8935622081683393,
          0.7423908327196167,
          0.08876231792153962,
          0.40884368254280434,
          1.5231546429751541,
          -0.5038028339596781,
          1.277663239880953,
          1.9315664231705278,
          1.2882374316313956,
          -0.814476238152969,
          -2.0472988868964954,
          -1.1619809357848054,
          -0.6020708574357105,
          -0.4172171560670958,
          0.5656423397142257,
          -0.4422039548072374,
          1.6173040675324941,
          0.6934044898267794,
          -0.4948009086882394,
          -0.7040470246206365,
          -1.9134367284968632,
          0.7383244841914276,
          -1.1883843708189352,
          0.30363915459858953,
          0.2776451954473241,
          -0.7165225765471165,
          1.0077314628934022,
          -0.4603279365194043,
          0.38373042738479957,
          -0.518952600073326,
          -1.4636786992458364,
          0.7476083884716154,
          0.31237621371744645,
          1.1441291559955,
          -0.13738132300664588,
          0.2917094591812687,
          -0.5435138932574668,
          -0.09764547059440395,
          -0.8543035432170192,
          -1.694606999440116,
          0.6872321801985894,
          -0.3105771583046316,
          -0.14628769666578054,
          -1.2645444232569238,
          1.3221177881297856,
          -0.06864973864910799,
          0.5369862529725257,
          0.20434322894119525,
          0.9269791155272793,
          -0.10772717371906558,
          0.6636624429782333,
          -1.1341086710570782,
          0.7112881367396519,
          -0.24585306295182344,
          2.7491305879931875,
          -0.9081798223062961,
          -0.9157857216788398,
          -0.008619830977527013,
          0.4968473874841331,
          -0.5343255676597688,
          0.2855137060759064,
          0.6117559359156879,
          -2.446379280416086,
          0.33071812904434594,
          -1.071280221455606,
          0.685618779079314,
          1.4672553004235602,
          -0.3727388594504119,
          -0.09291567551181286,
          -0.34523412406140225,
          -0.05274550962737803,
          0.04654323576000232,
          0.2916776854652369,
          0.963598536755656,
          0.4654431727575727,
          0.19669889726716824,
          -0.7242027558405483,
          -0.7113448412421286,
          -0.21696242004052127,
          -0.6539765540211312,
          -1.9236864401903981,
          1.0149705541185587,
          1.0646071027030528,
          -0.9559870634609606,
          0.46215740722226095,
          -0.5700862496512421,
          0.5363637562177255,
          -1.0839231569328327,
          0.5562315410374225,
          -0.7832219667339138,
          0.4841939952459761,
          -2.3192789416549995,
          -1.4624996532320187,
          -0.31539742955163974,
          0.07762935312683132
         ]
        },
        {
         "boxpoints": false,
         "line": {
          "width": 1.3
         },
         "marker": {
          "color": "rgba(50, 171, 96, 1.0)"
         },
         "name": "C",
         "orientation": "v",
         "type": "box",
         "y": [
          0.4060127339438663,
          -0.7982496783697365,
          1.123601971839627,
          0.4058048602297246,
          0.2745561016720758,
          0.027475844105220772,
          -0.22383021302281453,
          -0.39387936056102335,
          0.46958773686681554,
          1.0318532728612242,
          -0.24670914055786855,
          -0.6158092236253605,
          0.3357316529625056,
          0.33549334879556586,
          -0.3420057984448994,
          -0.5729067470502307,
          0.944555988637591,
          1.6466709364637417,
          -0.6046253611903157,
          1.1164169657669007,
          -0.20836647515525453,
          -0.3251835589694398,
          -1.2223825639379888,
          0.9111127533544581,
          0.7714510155383001,
          -0.11910029332390273,
          0.6925253498084671,
          0.761678498587015,
          -0.21122116515593753,
          -1.8911317407454065,
          -0.6477421966041468,
          1.746998679272337,
          -1.7771617442088992,
          0.6549085009105307,
          1.4788993264746322,
          -0.5627472212555263,
          -0.9117802943654789,
          -0.044173489311235214,
          0.7799243277831824,
          -0.009326740102037481,
          -0.7202522194882793,
          -0.7240445885164354,
          0.49987218845528786,
          -0.19517962211662349,
          0.012250267699824213,
          -0.22559392376468862,
          -0.4808350357460893,
          -0.8198241736310934,
          0.19911254148027172,
          0.5290633506851798,
          0.2526330126879686,
          -0.9212198132849635,
          1.330206416841273,
          -1.3646681089815724,
          -0.8176747165637754,
          0.8453057646843333,
          -0.4028552804000192,
          -2.060148639010836,
          0.5812027839577867,
          0.11052420643035013,
          0.41282004544314155,
          -0.14089989297248323,
          1.45061283483238,
          0.18831388859592682,
          -1.1439882648437452,
          -1.1849927000093727,
          1.2413796077745642,
          -0.5577161325566812,
          -0.61933102563376,
          -1.037967425542334,
          -1.1119068495937685,
          -0.34404925965830496,
          -1.5708253521732911,
          -0.1744878934567653,
          -0.6375590559920541,
          -1.5414458738716459,
          0.919868277100258,
          1.0490659600613328,
          0.08470892651567892,
          -1.1117047344287596,
          0.07203519479416232,
          0.006055862150619064,
          1.2245168625491816,
          0.3591325369860431,
          -0.014752796925019226,
          0.9663004218908801,
          0.6340307723650775,
          1.1679323322976998,
          -0.8019974364914285,
          2.009899707838478,
          1.351686235098478,
          -0.16357633038026712,
          1.0467381976205765,
          -0.9884777911500046,
          -1.179242961599606,
          0.19637991258516102,
          0.02752192332194667,
          -0.4772929189208354,
          -1.2072566311627462,
          0.28531937373349664
         ]
        },
        {
         "boxpoints": false,
         "line": {
          "width": 1.3
         },
         "marker": {
          "color": "rgba(128, 0, 128, 1.0)"
         },
         "name": "D",
         "orientation": "v",
         "type": "box",
         "y": [
          -1.384133836883895,
          1.6279036565882115,
          -0.9299821435910816,
          0.35486494817093983,
          1.6290606005838537,
          0.8653327008822459,
          0.15013252944094518,
          0.28971818542358885,
          -0.6452317482474019,
          1.3151329392327118,
          -0.4601930499485809,
          0.01796751366341419,
          -0.2863077986587903,
          0.7221752593929269,
          1.1438494986725094,
          1.704750899635022,
          2.0255558584427145,
          0.4869696515487609,
          -0.7753590689761756,
          0.5894599802215743,
          -0.5099209544243769,
          0.971142453454226,
          1.4135296149222607,
          0.46368222120546493,
          -0.2099110424911986,
          0.8555892169194312,
          -0.8666033652100801,
          -0.2306133820653981,
          1.9089544676825587,
          0.48126067046847626,
          -0.6815478231682852,
          -0.7012394354255265,
          -0.4047358182565961,
          -1.0906657672931215,
          -0.5310813760482439,
          -1.1553728557319203,
          2.1544499479595145,
          0.21019983690878644,
          0.11648620825479883,
          -0.6736364979743092,
          0.43450673915401905,
          -0.98897228814661,
          -0.5665651061675469,
          1.6754808091110636,
          0.22626422636394813,
          0.07919047376157638,
          0.47646469707111916,
          0.314116725600217,
          1.0625187131973928,
          -0.2287637563650373,
          -0.08284518464672441,
          -0.8301973110501326,
          -0.4028005160347876,
          0.24672132353258178,
          0.15450240306366955,
          -0.8804013772595688,
          -0.7580135896092738,
          -1.7051536353409653,
          1.0626662974393108,
          0.2526824633221683,
          0.8340379444053333,
          0.14124629647157924,
          -0.49243382012914344,
          -0.9599076627068123,
          0.7149885906661986,
          0.4750175942064842,
          -0.5873964713638485,
          1.6930034548000927,
          -0.09315530497266254,
          0.710403964378997,
          -1.1932154200104725,
          -1.0562238516298499,
          -0.2690924803512119,
          0.49758681226637225,
          -1.0773982877105088,
          0.07911034291757471,
          -0.39902453071887745,
          1.0700856351960735,
          -1.057358139564738,
          0.37533863810957413,
          -2.84037344606979,
          -0.7091852096155062,
          -0.9566975881638045,
          0.35100423287660615,
          -1.4217070977134791,
          0.4182186974869994,
          0.15184097974894464,
          0.013448617348159643,
          0.3125613854661278,
          1.514216766439221,
          1.3523238006848513,
          -0.24663932645882697,
          1.0446188476433422,
          -0.8035903583066685,
          -0.8232789379519444,
          0.28646918218662437,
          -0.4371347569536695,
          -0.3411639230662988,
          -1.0645835371189294,
          0.7317930121637225
         ]
        }
       ],
       "layout": {
        "legend": {
         "bgcolor": "#F5F6F9",
         "font": {
          "color": "#4D5663"
         }
        },
        "paper_bgcolor": "#F5F6F9",
        "plot_bgcolor": "#F5F6F9",
        "template": {
         "data": {
          "bar": [
           {
            "error_x": {
             "color": "#2a3f5f"
            },
            "error_y": {
             "color": "#2a3f5f"
            },
            "marker": {
             "line": {
              "color": "#E5ECF6",
              "width": 0.5
             }
            },
            "type": "bar"
           }
          ],
          "barpolar": [
           {
            "marker": {
             "line": {
              "color": "#E5ECF6",
              "width": 0.5
             }
            },
            "type": "barpolar"
           }
          ],
          "carpet": [
           {
            "aaxis": {
             "endlinecolor": "#2a3f5f",
             "gridcolor": "white",
             "linecolor": "white",
             "minorgridcolor": "white",
             "startlinecolor": "#2a3f5f"
            },
            "baxis": {
             "endlinecolor": "#2a3f5f",
             "gridcolor": "white",
             "linecolor": "white",
             "minorgridcolor": "white",
             "startlinecolor": "#2a3f5f"
            },
            "type": "carpet"
           }
          ],
          "choropleth": [
           {
            "colorbar": {
             "outlinewidth": 0,
             "ticks": ""
            },
            "type": "choropleth"
           }
          ],
          "contour": [
           {
            "colorbar": {
             "outlinewidth": 0,
             "ticks": ""
            },
            "colorscale": [
             [
              0,
              "#0d0887"
             ],
             [
              0.1111111111111111,
              "#46039f"
             ],
             [
              0.2222222222222222,
              "#7201a8"
             ],
             [
              0.3333333333333333,
              "#9c179e"
             ],
             [
              0.4444444444444444,
              "#bd3786"
             ],
             [
              0.5555555555555556,
              "#d8576b"
             ],
             [
              0.6666666666666666,
              "#ed7953"
             ],
             [
              0.7777777777777778,
              "#fb9f3a"
             ],
             [
              0.8888888888888888,
              "#fdca26"
             ],
             [
              1,
              "#f0f921"
             ]
            ],
            "type": "contour"
           }
          ],
          "contourcarpet": [
           {
            "colorbar": {
             "outlinewidth": 0,
             "ticks": ""
            },
            "type": "contourcarpet"
           }
          ],
          "heatmap": [
           {
            "colorbar": {
             "outlinewidth": 0,
             "ticks": ""
            },
            "colorscale": [
             [
              0,
              "#0d0887"
             ],
             [
              0.1111111111111111,
              "#46039f"
             ],
             [
              0.2222222222222222,
              "#7201a8"
             ],
             [
              0.3333333333333333,
              "#9c179e"
             ],
             [
              0.4444444444444444,
              "#bd3786"
             ],
             [
              0.5555555555555556,
              "#d8576b"
             ],
             [
              0.6666666666666666,
              "#ed7953"
             ],
             [
              0.7777777777777778,
              "#fb9f3a"
             ],
             [
              0.8888888888888888,
              "#fdca26"
             ],
             [
              1,
              "#f0f921"
             ]
            ],
            "type": "heatmap"
           }
          ],
          "heatmapgl": [
           {
            "colorbar": {
             "outlinewidth": 0,
             "ticks": ""
            },
            "colorscale": [
             [
              0,
              "#0d0887"
             ],
             [
              0.1111111111111111,
              "#46039f"
             ],
             [
              0.2222222222222222,
              "#7201a8"
             ],
             [
              0.3333333333333333,
              "#9c179e"
             ],
             [
              0.4444444444444444,
              "#bd3786"
             ],
             [
              0.5555555555555556,
              "#d8576b"
             ],
             [
              0.6666666666666666,
              "#ed7953"
             ],
             [
              0.7777777777777778,
              "#fb9f3a"
             ],
             [
              0.8888888888888888,
              "#fdca26"
             ],
             [
              1,
              "#f0f921"
             ]
            ],
            "type": "heatmapgl"
           }
          ],
          "histogram": [
           {
            "marker": {
             "colorbar": {
              "outlinewidth": 0,
              "ticks": ""
             }
            },
            "type": "histogram"
           }
          ],
          "histogram2d": [
           {
            "colorbar": {
             "outlinewidth": 0,
             "ticks": ""
            },
            "colorscale": [
             [
              0,
              "#0d0887"
             ],
             [
              0.1111111111111111,
              "#46039f"
             ],
             [
              0.2222222222222222,
              "#7201a8"
             ],
             [
              0.3333333333333333,
              "#9c179e"
             ],
             [
              0.4444444444444444,
              "#bd3786"
             ],
             [
              0.5555555555555556,
              "#d8576b"
             ],
             [
              0.6666666666666666,
              "#ed7953"
             ],
             [
              0.7777777777777778,
              "#fb9f3a"
             ],
             [
              0.8888888888888888,
              "#fdca26"
             ],
             [
              1,
              "#f0f921"
             ]
            ],
            "type": "histogram2d"
           }
          ],
          "histogram2dcontour": [
           {
            "colorbar": {
             "outlinewidth": 0,
             "ticks": ""
            },
            "colorscale": [
             [
              0,
              "#0d0887"
             ],
             [
              0.1111111111111111,
              "#46039f"
             ],
             [
              0.2222222222222222,
              "#7201a8"
             ],
             [
              0.3333333333333333,
              "#9c179e"
             ],
             [
              0.4444444444444444,
              "#bd3786"
             ],
             [
              0.5555555555555556,
              "#d8576b"
             ],
             [
              0.6666666666666666,
              "#ed7953"
             ],
             [
              0.7777777777777778,
              "#fb9f3a"
             ],
             [
              0.8888888888888888,
              "#fdca26"
             ],
             [
              1,
              "#f0f921"
             ]
            ],
            "type": "histogram2dcontour"
           }
          ],
          "mesh3d": [
           {
            "colorbar": {
             "outlinewidth": 0,
             "ticks": ""
            },
            "type": "mesh3d"
           }
          ],
          "parcoords": [
           {
            "line": {
             "colorbar": {
              "outlinewidth": 0,
              "ticks": ""
             }
            },
            "type": "parcoords"
           }
          ],
          "pie": [
           {
            "automargin": true,
            "type": "pie"
           }
          ],
          "scatter": [
           {
            "marker": {
             "colorbar": {
              "outlinewidth": 0,
              "ticks": ""
             }
            },
            "type": "scatter"
           }
          ],
          "scatter3d": [
           {
            "line": {
             "colorbar": {
              "outlinewidth": 0,
              "ticks": ""
             }
            },
            "marker": {
             "colorbar": {
              "outlinewidth": 0,
              "ticks": ""
             }
            },
            "type": "scatter3d"
           }
          ],
          "scattercarpet": [
           {
            "marker": {
             "colorbar": {
              "outlinewidth": 0,
              "ticks": ""
             }
            },
            "type": "scattercarpet"
           }
          ],
          "scattergeo": [
           {
            "marker": {
             "colorbar": {
              "outlinewidth": 0,
              "ticks": ""
             }
            },
            "type": "scattergeo"
           }
          ],
          "scattergl": [
           {
            "marker": {
             "colorbar": {
              "outlinewidth": 0,
              "ticks": ""
             }
            },
            "type": "scattergl"
           }
          ],
          "scattermapbox": [
           {
            "marker": {
             "colorbar": {
              "outlinewidth": 0,
              "ticks": ""
             }
            },
            "type": "scattermapbox"
           }
          ],
          "scatterpolar": [
           {
            "marker": {
             "colorbar": {
              "outlinewidth": 0,
              "ticks": ""
             }
            },
            "type": "scatterpolar"
           }
          ],
          "scatterpolargl": [
           {
            "marker": {
             "colorbar": {
              "outlinewidth": 0,
              "ticks": ""
             }
            },
            "type": "scatterpolargl"
           }
          ],
          "scatterternary": [
           {
            "marker": {
             "colorbar": {
              "outlinewidth": 0,
              "ticks": ""
             }
            },
            "type": "scatterternary"
           }
          ],
          "surface": [
           {
            "colorbar": {
             "outlinewidth": 0,
             "ticks": ""
            },
            "colorscale": [
             [
              0,
              "#0d0887"
             ],
             [
              0.1111111111111111,
              "#46039f"
             ],
             [
              0.2222222222222222,
              "#7201a8"
             ],
             [
              0.3333333333333333,
              "#9c179e"
             ],
             [
              0.4444444444444444,
              "#bd3786"
             ],
             [
              0.5555555555555556,
              "#d8576b"
             ],
             [
              0.6666666666666666,
              "#ed7953"
             ],
             [
              0.7777777777777778,
              "#fb9f3a"
             ],
             [
              0.8888888888888888,
              "#fdca26"
             ],
             [
              1,
              "#f0f921"
             ]
            ],
            "type": "surface"
           }
          ],
          "table": [
           {
            "cells": {
             "fill": {
              "color": "#EBF0F8"
             },
             "line": {
              "color": "white"
             }
            },
            "header": {
             "fill": {
              "color": "#C8D4E3"
             },
             "line": {
              "color": "white"
             }
            },
            "type": "table"
           }
          ]
         },
         "layout": {
          "annotationdefaults": {
           "arrowcolor": "#2a3f5f",
           "arrowhead": 0,
           "arrowwidth": 1
          },
          "coloraxis": {
           "colorbar": {
            "outlinewidth": 0,
            "ticks": ""
           }
          },
          "colorscale": {
           "diverging": [
            [
             0,
             "#8e0152"
            ],
            [
             0.1,
             "#c51b7d"
            ],
            [
             0.2,
             "#de77ae"
            ],
            [
             0.3,
             "#f1b6da"
            ],
            [
             0.4,
             "#fde0ef"
            ],
            [
             0.5,
             "#f7f7f7"
            ],
            [
             0.6,
             "#e6f5d0"
            ],
            [
             0.7,
             "#b8e186"
            ],
            [
             0.8,
             "#7fbc41"
            ],
            [
             0.9,
             "#4d9221"
            ],
            [
             1,
             "#276419"
            ]
           ],
           "sequential": [
            [
             0,
             "#0d0887"
            ],
            [
             0.1111111111111111,
             "#46039f"
            ],
            [
             0.2222222222222222,
             "#7201a8"
            ],
            [
             0.3333333333333333,
             "#9c179e"
            ],
            [
             0.4444444444444444,
             "#bd3786"
            ],
            [
             0.5555555555555556,
             "#d8576b"
            ],
            [
             0.6666666666666666,
             "#ed7953"
            ],
            [
             0.7777777777777778,
             "#fb9f3a"
            ],
            [
             0.8888888888888888,
             "#fdca26"
            ],
            [
             1,
             "#f0f921"
            ]
           ],
           "sequentialminus": [
            [
             0,
             "#0d0887"
            ],
            [
             0.1111111111111111,
             "#46039f"
            ],
            [
             0.2222222222222222,
             "#7201a8"
            ],
            [
             0.3333333333333333,
             "#9c179e"
            ],
            [
             0.4444444444444444,
             "#bd3786"
            ],
            [
             0.5555555555555556,
             "#d8576b"
            ],
            [
             0.6666666666666666,
             "#ed7953"
            ],
            [
             0.7777777777777778,
             "#fb9f3a"
            ],
            [
             0.8888888888888888,
             "#fdca26"
            ],
            [
             1,
             "#f0f921"
            ]
           ]
          },
          "colorway": [
           "#636efa",
           "#EF553B",
           "#00cc96",
           "#ab63fa",
           "#FFA15A",
           "#19d3f3",
           "#FF6692",
           "#B6E880",
           "#FF97FF",
           "#FECB52"
          ],
          "font": {
           "color": "#2a3f5f"
          },
          "geo": {
           "bgcolor": "white",
           "lakecolor": "white",
           "landcolor": "#E5ECF6",
           "showlakes": true,
           "showland": true,
           "subunitcolor": "white"
          },
          "hoverlabel": {
           "align": "left"
          },
          "hovermode": "closest",
          "mapbox": {
           "style": "light"
          },
          "paper_bgcolor": "white",
          "plot_bgcolor": "#E5ECF6",
          "polar": {
           "angularaxis": {
            "gridcolor": "white",
            "linecolor": "white",
            "ticks": ""
           },
           "bgcolor": "#E5ECF6",
           "radialaxis": {
            "gridcolor": "white",
            "linecolor": "white",
            "ticks": ""
           }
          },
          "scene": {
           "xaxis": {
            "backgroundcolor": "#E5ECF6",
            "gridcolor": "white",
            "gridwidth": 2,
            "linecolor": "white",
            "showbackground": true,
            "ticks": "",
            "zerolinecolor": "white"
           },
           "yaxis": {
            "backgroundcolor": "#E5ECF6",
            "gridcolor": "white",
            "gridwidth": 2,
            "linecolor": "white",
            "showbackground": true,
            "ticks": "",
            "zerolinecolor": "white"
           },
           "zaxis": {
            "backgroundcolor": "#E5ECF6",
            "gridcolor": "white",
            "gridwidth": 2,
            "linecolor": "white",
            "showbackground": true,
            "ticks": "",
            "zerolinecolor": "white"
           }
          },
          "shapedefaults": {
           "line": {
            "color": "#2a3f5f"
           }
          },
          "ternary": {
           "aaxis": {
            "gridcolor": "white",
            "linecolor": "white",
            "ticks": ""
           },
           "baxis": {
            "gridcolor": "white",
            "linecolor": "white",
            "ticks": ""
           },
           "bgcolor": "#E5ECF6",
           "caxis": {
            "gridcolor": "white",
            "linecolor": "white",
            "ticks": ""
           }
          },
          "title": {
           "x": 0.05
          },
          "xaxis": {
           "automargin": true,
           "gridcolor": "white",
           "linecolor": "white",
           "ticks": "",
           "title": {
            "standoff": 15
           },
           "zerolinecolor": "white",
           "zerolinewidth": 2
          },
          "yaxis": {
           "automargin": true,
           "gridcolor": "white",
           "linecolor": "white",
           "ticks": "",
           "title": {
            "standoff": 15
           },
           "zerolinecolor": "white",
           "zerolinewidth": 2
          }
         }
        },
        "title": {
         "font": {
          "color": "#4D5663"
         }
        },
        "xaxis": {
         "gridcolor": "#E1E5ED",
         "showgrid": true,
         "tickfont": {
          "color": "#4D5663"
         },
         "title": {
          "font": {
           "color": "#4D5663"
          },
          "text": ""
         },
         "zerolinecolor": "#E1E5ED"
        },
        "yaxis": {
         "gridcolor": "#E1E5ED",
         "showgrid": true,
         "tickfont": {
          "color": "#4D5663"
         },
         "title": {
          "font": {
           "color": "#4D5663"
          },
          "text": ""
         },
         "zerolinecolor": "#E1E5ED"
        }
       }
      },
      "text/html": [
       "<div>\n",
       "        \n",
       "        \n",
       "            <div id=\"662dfc07-b2d2-41a8-b32b-8ffe4f5a4605\" class=\"plotly-graph-div\" style=\"height:525px; width:100%;\"></div>\n",
       "            <script type=\"text/javascript\">\n",
       "                require([\"plotly\"], function(Plotly) {\n",
       "                    window.PLOTLYENV=window.PLOTLYENV || {};\n",
       "                    window.PLOTLYENV.BASE_URL='https://plot.ly';\n",
       "                    \n",
       "                if (document.getElementById(\"662dfc07-b2d2-41a8-b32b-8ffe4f5a4605\")) {\n",
       "                    Plotly.newPlot(\n",
       "                        '662dfc07-b2d2-41a8-b32b-8ffe4f5a4605',\n",
       "                        [{\"boxpoints\": false, \"line\": {\"width\": 1.3}, \"marker\": {\"color\": \"rgba(255, 153, 51, 1.0)\"}, \"name\": \"A\", \"orientation\": \"v\", \"type\": \"box\", \"y\": [1.5023563012055845, 0.4087626388893659, 1.5993197844213576, -0.5215118809744652, 1.5681236600191981, 0.7468356261210932, -0.749310641952968, 0.1159935148313741, 0.22045916587711767, -0.4550011729283677, 0.8563933097341867, -2.066795909564812, -0.38285290167817404, 0.01900787684381683, -0.12630271810268817, 0.5680388021904351, 1.14854911597069, 0.6436069259066923, 0.13859935383240438, -0.4956911855443848, 0.4836194286327407, -1.2764417035087179, -0.5398190900873907, 0.5796992019373896, -0.6037038043213754, 0.7253532286953808, 0.6834182495980821, -2.8845872018457897, 1.0233482449319187, -2.552401535794378, 2.3124239629877583, -0.8127401942686726, -0.23445084013367548, -0.6759192578683721, -2.5062077810487255, -1.2244355783037433, 0.6694110332929116, -0.0034276115223639343, 0.03204469823716342, -0.648084262291826, 2.5628246207053778, 0.9000009050597508, 0.7517099499732545, 1.2007637923291639, -1.9465668851371996, -2.413766407744819, -0.05082089573082934, 1.207415735066595, -0.3835094510702304, 0.5221421859827696, -0.5248958874051288, 0.24619873930310585, 0.5677610344566094, -0.4866092245561927, -0.7416586364234559, 0.24855280589543127, 1.2144044039988526, -0.14093054717060302, 0.2963349236939744, -0.4291217100089392, 1.1491732439347566, -0.5216591508755286, 1.31822530500963, -0.47105727955537935, -0.40446633360902595, 2.1459042895302747, 0.6334555504966481, 0.4176419554202106, -1.0273773683227392, 1.1263431197506402, 0.10469582241142089, -0.5906651009155758, -0.45518656697518617, 1.3026059396663974, 0.7571755070928892, 0.10743952906925054, 2.0706685836531564, 0.5559870929964155, 2.380054547983395, -0.39070598757151437, 1.16309570735863, 0.53168218102069, 0.5568769817666138, 0.39298936796065026, 0.7338227726831591, 0.5032917926801018, -0.5716134754818609, 1.286383898901556, 0.025648738117446, 0.5157472248880189, -0.5104493617558568, -0.4733753767654713, 0.36745876642344916, 1.3072126283906071, 0.35925235054705673, 0.3793647207507, -0.21779341066885025, -0.5505938066317233, -0.5936228067274162, -0.18854451853239493]}, {\"boxpoints\": false, \"line\": {\"width\": 1.3}, \"marker\": {\"color\": \"rgba(55, 128, 191, 1.0)\"}, \"name\": \"B\", \"orientation\": \"v\", \"type\": \"box\", \"y\": [-0.1412993310039659, 0.11155348249657292, 1.7453199674605695, -0.814399733552155, 0.6214554653204177, -0.8935622081683393, 0.7423908327196167, 0.08876231792153962, 0.40884368254280434, 1.5231546429751541, -0.5038028339596781, 1.277663239880953, 1.9315664231705278, 1.2882374316313956, -0.814476238152969, -2.0472988868964954, -1.1619809357848054, -0.6020708574357105, -0.4172171560670958, 0.5656423397142257, -0.4422039548072374, 1.6173040675324941, 0.6934044898267794, -0.4948009086882394, -0.7040470246206365, -1.9134367284968632, 0.7383244841914276, -1.1883843708189352, 0.30363915459858953, 0.2776451954473241, -0.7165225765471165, 1.0077314628934022, -0.4603279365194043, 0.38373042738479957, -0.518952600073326, -1.4636786992458364, 0.7476083884716154, 0.31237621371744645, 1.1441291559955, -0.13738132300664588, 0.2917094591812687, -0.5435138932574668, -0.09764547059440395, -0.8543035432170192, -1.694606999440116, 0.6872321801985894, -0.3105771583046316, -0.14628769666578054, -1.2645444232569238, 1.3221177881297856, -0.06864973864910799, 0.5369862529725257, 0.20434322894119525, 0.9269791155272793, -0.10772717371906558, 0.6636624429782333, -1.1341086710570782, 0.7112881367396519, -0.24585306295182344, 2.7491305879931875, -0.9081798223062961, -0.9157857216788398, -0.008619830977527013, 0.4968473874841331, -0.5343255676597688, 0.2855137060759064, 0.6117559359156879, -2.446379280416086, 0.33071812904434594, -1.071280221455606, 0.685618779079314, 1.4672553004235602, -0.3727388594504119, -0.09291567551181286, -0.34523412406140225, -0.05274550962737803, 0.04654323576000232, 0.2916776854652369, 0.963598536755656, 0.4654431727575727, 0.19669889726716824, -0.7242027558405483, -0.7113448412421286, -0.21696242004052127, -0.6539765540211312, -1.9236864401903981, 1.0149705541185587, 1.0646071027030528, -0.9559870634609606, 0.46215740722226095, -0.5700862496512421, 0.5363637562177255, -1.0839231569328327, 0.5562315410374225, -0.7832219667339138, 0.4841939952459761, -2.3192789416549995, -1.4624996532320187, -0.31539742955163974, 0.07762935312683132]}, {\"boxpoints\": false, \"line\": {\"width\": 1.3}, \"marker\": {\"color\": \"rgba(50, 171, 96, 1.0)\"}, \"name\": \"C\", \"orientation\": \"v\", \"type\": \"box\", \"y\": [0.4060127339438663, -0.7982496783697365, 1.123601971839627, 0.4058048602297246, 0.2745561016720758, 0.027475844105220772, -0.22383021302281453, -0.39387936056102335, 0.46958773686681554, 1.0318532728612242, -0.24670914055786855, -0.6158092236253605, 0.3357316529625056, 0.33549334879556586, -0.3420057984448994, -0.5729067470502307, 0.944555988637591, 1.6466709364637417, -0.6046253611903157, 1.1164169657669007, -0.20836647515525453, -0.3251835589694398, -1.2223825639379888, 0.9111127533544581, 0.7714510155383001, -0.11910029332390273, 0.6925253498084671, 0.761678498587015, -0.21122116515593753, -1.8911317407454065, -0.6477421966041468, 1.746998679272337, -1.7771617442088992, 0.6549085009105307, 1.4788993264746322, -0.5627472212555263, -0.9117802943654789, -0.044173489311235214, 0.7799243277831824, -0.009326740102037481, -0.7202522194882793, -0.7240445885164354, 0.49987218845528786, -0.19517962211662349, 0.012250267699824213, -0.22559392376468862, -0.4808350357460893, -0.8198241736310934, 0.19911254148027172, 0.5290633506851798, 0.2526330126879686, -0.9212198132849635, 1.330206416841273, -1.3646681089815724, -0.8176747165637754, 0.8453057646843333, -0.4028552804000192, -2.060148639010836, 0.5812027839577867, 0.11052420643035013, 0.41282004544314155, -0.14089989297248323, 1.45061283483238, 0.18831388859592682, -1.1439882648437452, -1.1849927000093727, 1.2413796077745642, -0.5577161325566812, -0.61933102563376, -1.037967425542334, -1.1119068495937685, -0.34404925965830496, -1.5708253521732911, -0.1744878934567653, -0.6375590559920541, -1.5414458738716459, 0.919868277100258, 1.0490659600613328, 0.08470892651567892, -1.1117047344287596, 0.07203519479416232, 0.006055862150619064, 1.2245168625491816, 0.3591325369860431, -0.014752796925019226, 0.9663004218908801, 0.6340307723650775, 1.1679323322976998, -0.8019974364914285, 2.009899707838478, 1.351686235098478, -0.16357633038026712, 1.0467381976205765, -0.9884777911500046, -1.179242961599606, 0.19637991258516102, 0.02752192332194667, -0.4772929189208354, -1.2072566311627462, 0.28531937373349664]}, {\"boxpoints\": false, \"line\": {\"width\": 1.3}, \"marker\": {\"color\": \"rgba(128, 0, 128, 1.0)\"}, \"name\": \"D\", \"orientation\": \"v\", \"type\": \"box\", \"y\": [-1.384133836883895, 1.6279036565882115, -0.9299821435910816, 0.35486494817093983, 1.6290606005838537, 0.8653327008822459, 0.15013252944094518, 0.28971818542358885, -0.6452317482474019, 1.3151329392327118, -0.4601930499485809, 0.01796751366341419, -0.2863077986587903, 0.7221752593929269, 1.1438494986725094, 1.704750899635022, 2.0255558584427145, 0.4869696515487609, -0.7753590689761756, 0.5894599802215743, -0.5099209544243769, 0.971142453454226, 1.4135296149222607, 0.46368222120546493, -0.2099110424911986, 0.8555892169194312, -0.8666033652100801, -0.2306133820653981, 1.9089544676825587, 0.48126067046847626, -0.6815478231682852, -0.7012394354255265, -0.4047358182565961, -1.0906657672931215, -0.5310813760482439, -1.1553728557319203, 2.1544499479595145, 0.21019983690878644, 0.11648620825479883, -0.6736364979743092, 0.43450673915401905, -0.98897228814661, -0.5665651061675469, 1.6754808091110636, 0.22626422636394813, 0.07919047376157638, 0.47646469707111916, 0.314116725600217, 1.0625187131973928, -0.2287637563650373, -0.08284518464672441, -0.8301973110501326, -0.4028005160347876, 0.24672132353258178, 0.15450240306366955, -0.8804013772595688, -0.7580135896092738, -1.7051536353409653, 1.0626662974393108, 0.2526824633221683, 0.8340379444053333, 0.14124629647157924, -0.49243382012914344, -0.9599076627068123, 0.7149885906661986, 0.4750175942064842, -0.5873964713638485, 1.6930034548000927, -0.09315530497266254, 0.710403964378997, -1.1932154200104725, -1.0562238516298499, -0.2690924803512119, 0.49758681226637225, -1.0773982877105088, 0.07911034291757471, -0.39902453071887745, 1.0700856351960735, -1.057358139564738, 0.37533863810957413, -2.84037344606979, -0.7091852096155062, -0.9566975881638045, 0.35100423287660615, -1.4217070977134791, 0.4182186974869994, 0.15184097974894464, 0.013448617348159643, 0.3125613854661278, 1.514216766439221, 1.3523238006848513, -0.24663932645882697, 1.0446188476433422, -0.8035903583066685, -0.8232789379519444, 0.28646918218662437, -0.4371347569536695, -0.3411639230662988, -1.0645835371189294, 0.7317930121637225]}],\n",
       "                        {\"legend\": {\"bgcolor\": \"#F5F6F9\", \"font\": {\"color\": \"#4D5663\"}}, \"paper_bgcolor\": \"#F5F6F9\", \"plot_bgcolor\": \"#F5F6F9\", \"template\": {\"data\": {\"bar\": [{\"error_x\": {\"color\": \"#2a3f5f\"}, \"error_y\": {\"color\": \"#2a3f5f\"}, \"marker\": {\"line\": {\"color\": \"#E5ECF6\", \"width\": 0.5}}, \"type\": \"bar\"}], \"barpolar\": [{\"marker\": {\"line\": {\"color\": \"#E5ECF6\", \"width\": 0.5}}, \"type\": \"barpolar\"}], \"carpet\": [{\"aaxis\": {\"endlinecolor\": \"#2a3f5f\", \"gridcolor\": \"white\", \"linecolor\": \"white\", \"minorgridcolor\": \"white\", \"startlinecolor\": \"#2a3f5f\"}, \"baxis\": {\"endlinecolor\": \"#2a3f5f\", \"gridcolor\": \"white\", \"linecolor\": \"white\", \"minorgridcolor\": \"white\", \"startlinecolor\": \"#2a3f5f\"}, \"type\": \"carpet\"}], \"choropleth\": [{\"colorbar\": {\"outlinewidth\": 0, \"ticks\": \"\"}, \"type\": \"choropleth\"}], \"contour\": [{\"colorbar\": {\"outlinewidth\": 0, \"ticks\": \"\"}, \"colorscale\": [[0.0, \"#0d0887\"], [0.1111111111111111, \"#46039f\"], [0.2222222222222222, \"#7201a8\"], [0.3333333333333333, \"#9c179e\"], [0.4444444444444444, \"#bd3786\"], [0.5555555555555556, \"#d8576b\"], [0.6666666666666666, \"#ed7953\"], [0.7777777777777778, \"#fb9f3a\"], [0.8888888888888888, \"#fdca26\"], [1.0, \"#f0f921\"]], \"type\": \"contour\"}], \"contourcarpet\": [{\"colorbar\": {\"outlinewidth\": 0, \"ticks\": \"\"}, \"type\": \"contourcarpet\"}], \"heatmap\": [{\"colorbar\": {\"outlinewidth\": 0, \"ticks\": \"\"}, \"colorscale\": [[0.0, \"#0d0887\"], [0.1111111111111111, \"#46039f\"], [0.2222222222222222, \"#7201a8\"], [0.3333333333333333, \"#9c179e\"], [0.4444444444444444, \"#bd3786\"], [0.5555555555555556, \"#d8576b\"], [0.6666666666666666, \"#ed7953\"], [0.7777777777777778, \"#fb9f3a\"], [0.8888888888888888, \"#fdca26\"], [1.0, \"#f0f921\"]], \"type\": \"heatmap\"}], \"heatmapgl\": [{\"colorbar\": {\"outlinewidth\": 0, \"ticks\": \"\"}, \"colorscale\": [[0.0, \"#0d0887\"], [0.1111111111111111, \"#46039f\"], [0.2222222222222222, \"#7201a8\"], [0.3333333333333333, \"#9c179e\"], [0.4444444444444444, \"#bd3786\"], [0.5555555555555556, \"#d8576b\"], [0.6666666666666666, \"#ed7953\"], [0.7777777777777778, \"#fb9f3a\"], [0.8888888888888888, \"#fdca26\"], [1.0, \"#f0f921\"]], \"type\": \"heatmapgl\"}], \"histogram\": [{\"marker\": {\"colorbar\": {\"outlinewidth\": 0, \"ticks\": \"\"}}, \"type\": \"histogram\"}], \"histogram2d\": [{\"colorbar\": {\"outlinewidth\": 0, \"ticks\": \"\"}, \"colorscale\": [[0.0, \"#0d0887\"], [0.1111111111111111, \"#46039f\"], [0.2222222222222222, \"#7201a8\"], [0.3333333333333333, \"#9c179e\"], [0.4444444444444444, \"#bd3786\"], [0.5555555555555556, \"#d8576b\"], [0.6666666666666666, \"#ed7953\"], [0.7777777777777778, \"#fb9f3a\"], [0.8888888888888888, \"#fdca26\"], [1.0, \"#f0f921\"]], \"type\": \"histogram2d\"}], \"histogram2dcontour\": [{\"colorbar\": {\"outlinewidth\": 0, \"ticks\": \"\"}, \"colorscale\": [[0.0, \"#0d0887\"], [0.1111111111111111, \"#46039f\"], [0.2222222222222222, \"#7201a8\"], [0.3333333333333333, \"#9c179e\"], [0.4444444444444444, \"#bd3786\"], [0.5555555555555556, \"#d8576b\"], [0.6666666666666666, \"#ed7953\"], [0.7777777777777778, \"#fb9f3a\"], [0.8888888888888888, \"#fdca26\"], [1.0, \"#f0f921\"]], \"type\": \"histogram2dcontour\"}], \"mesh3d\": [{\"colorbar\": {\"outlinewidth\": 0, \"ticks\": \"\"}, \"type\": \"mesh3d\"}], \"parcoords\": [{\"line\": {\"colorbar\": {\"outlinewidth\": 0, \"ticks\": \"\"}}, \"type\": \"parcoords\"}], \"pie\": [{\"automargin\": true, \"type\": \"pie\"}], \"scatter\": [{\"marker\": {\"colorbar\": {\"outlinewidth\": 0, \"ticks\": \"\"}}, \"type\": \"scatter\"}], \"scatter3d\": [{\"line\": {\"colorbar\": {\"outlinewidth\": 0, \"ticks\": \"\"}}, \"marker\": {\"colorbar\": {\"outlinewidth\": 0, \"ticks\": \"\"}}, \"type\": \"scatter3d\"}], \"scattercarpet\": [{\"marker\": {\"colorbar\": {\"outlinewidth\": 0, \"ticks\": \"\"}}, \"type\": \"scattercarpet\"}], \"scattergeo\": [{\"marker\": {\"colorbar\": {\"outlinewidth\": 0, \"ticks\": \"\"}}, \"type\": \"scattergeo\"}], \"scattergl\": [{\"marker\": {\"colorbar\": {\"outlinewidth\": 0, \"ticks\": \"\"}}, \"type\": \"scattergl\"}], \"scattermapbox\": [{\"marker\": {\"colorbar\": {\"outlinewidth\": 0, \"ticks\": \"\"}}, \"type\": \"scattermapbox\"}], \"scatterpolar\": [{\"marker\": {\"colorbar\": {\"outlinewidth\": 0, \"ticks\": \"\"}}, \"type\": \"scatterpolar\"}], \"scatterpolargl\": [{\"marker\": {\"colorbar\": {\"outlinewidth\": 0, \"ticks\": \"\"}}, \"type\": \"scatterpolargl\"}], \"scatterternary\": [{\"marker\": {\"colorbar\": {\"outlinewidth\": 0, \"ticks\": \"\"}}, \"type\": \"scatterternary\"}], \"surface\": [{\"colorbar\": {\"outlinewidth\": 0, \"ticks\": \"\"}, \"colorscale\": [[0.0, \"#0d0887\"], [0.1111111111111111, \"#46039f\"], [0.2222222222222222, \"#7201a8\"], [0.3333333333333333, \"#9c179e\"], [0.4444444444444444, \"#bd3786\"], [0.5555555555555556, \"#d8576b\"], [0.6666666666666666, \"#ed7953\"], [0.7777777777777778, \"#fb9f3a\"], [0.8888888888888888, \"#fdca26\"], [1.0, \"#f0f921\"]], \"type\": \"surface\"}], \"table\": [{\"cells\": {\"fill\": {\"color\": \"#EBF0F8\"}, \"line\": {\"color\": \"white\"}}, \"header\": {\"fill\": {\"color\": \"#C8D4E3\"}, \"line\": {\"color\": \"white\"}}, \"type\": \"table\"}]}, \"layout\": {\"annotationdefaults\": {\"arrowcolor\": \"#2a3f5f\", \"arrowhead\": 0, \"arrowwidth\": 1}, \"coloraxis\": {\"colorbar\": {\"outlinewidth\": 0, \"ticks\": \"\"}}, \"colorscale\": {\"diverging\": [[0, \"#8e0152\"], [0.1, \"#c51b7d\"], [0.2, \"#de77ae\"], [0.3, \"#f1b6da\"], [0.4, \"#fde0ef\"], [0.5, \"#f7f7f7\"], [0.6, \"#e6f5d0\"], [0.7, \"#b8e186\"], [0.8, \"#7fbc41\"], [0.9, \"#4d9221\"], [1, \"#276419\"]], \"sequential\": [[0.0, \"#0d0887\"], [0.1111111111111111, \"#46039f\"], [0.2222222222222222, \"#7201a8\"], [0.3333333333333333, \"#9c179e\"], [0.4444444444444444, \"#bd3786\"], [0.5555555555555556, \"#d8576b\"], [0.6666666666666666, \"#ed7953\"], [0.7777777777777778, \"#fb9f3a\"], [0.8888888888888888, \"#fdca26\"], [1.0, \"#f0f921\"]], \"sequentialminus\": [[0.0, \"#0d0887\"], [0.1111111111111111, \"#46039f\"], [0.2222222222222222, \"#7201a8\"], [0.3333333333333333, \"#9c179e\"], [0.4444444444444444, \"#bd3786\"], [0.5555555555555556, \"#d8576b\"], [0.6666666666666666, \"#ed7953\"], [0.7777777777777778, \"#fb9f3a\"], [0.8888888888888888, \"#fdca26\"], [1.0, \"#f0f921\"]]}, \"colorway\": [\"#636efa\", \"#EF553B\", \"#00cc96\", \"#ab63fa\", \"#FFA15A\", \"#19d3f3\", \"#FF6692\", \"#B6E880\", \"#FF97FF\", \"#FECB52\"], \"font\": {\"color\": \"#2a3f5f\"}, \"geo\": {\"bgcolor\": \"white\", \"lakecolor\": \"white\", \"landcolor\": \"#E5ECF6\", \"showlakes\": true, \"showland\": true, \"subunitcolor\": \"white\"}, \"hoverlabel\": {\"align\": \"left\"}, \"hovermode\": \"closest\", \"mapbox\": {\"style\": \"light\"}, \"paper_bgcolor\": \"white\", \"plot_bgcolor\": \"#E5ECF6\", \"polar\": {\"angularaxis\": {\"gridcolor\": \"white\", \"linecolor\": \"white\", \"ticks\": \"\"}, \"bgcolor\": \"#E5ECF6\", \"radialaxis\": {\"gridcolor\": \"white\", \"linecolor\": \"white\", \"ticks\": \"\"}}, \"scene\": {\"xaxis\": {\"backgroundcolor\": \"#E5ECF6\", \"gridcolor\": \"white\", \"gridwidth\": 2, \"linecolor\": \"white\", \"showbackground\": true, \"ticks\": \"\", \"zerolinecolor\": \"white\"}, \"yaxis\": {\"backgroundcolor\": \"#E5ECF6\", \"gridcolor\": \"white\", \"gridwidth\": 2, \"linecolor\": \"white\", \"showbackground\": true, \"ticks\": \"\", \"zerolinecolor\": \"white\"}, \"zaxis\": {\"backgroundcolor\": \"#E5ECF6\", \"gridcolor\": \"white\", \"gridwidth\": 2, \"linecolor\": \"white\", \"showbackground\": true, \"ticks\": \"\", \"zerolinecolor\": \"white\"}}, \"shapedefaults\": {\"line\": {\"color\": \"#2a3f5f\"}}, \"ternary\": {\"aaxis\": {\"gridcolor\": \"white\", \"linecolor\": \"white\", \"ticks\": \"\"}, \"baxis\": {\"gridcolor\": \"white\", \"linecolor\": \"white\", \"ticks\": \"\"}, \"bgcolor\": \"#E5ECF6\", \"caxis\": {\"gridcolor\": \"white\", \"linecolor\": \"white\", \"ticks\": \"\"}}, \"title\": {\"x\": 0.05}, \"xaxis\": {\"automargin\": true, \"gridcolor\": \"white\", \"linecolor\": \"white\", \"ticks\": \"\", \"title\": {\"standoff\": 15}, \"zerolinecolor\": \"white\", \"zerolinewidth\": 2}, \"yaxis\": {\"automargin\": true, \"gridcolor\": \"white\", \"linecolor\": \"white\", \"ticks\": \"\", \"title\": {\"standoff\": 15}, \"zerolinecolor\": \"white\", \"zerolinewidth\": 2}}}, \"title\": {\"font\": {\"color\": \"#4D5663\"}}, \"xaxis\": {\"gridcolor\": \"#E1E5ED\", \"showgrid\": true, \"tickfont\": {\"color\": \"#4D5663\"}, \"title\": {\"font\": {\"color\": \"#4D5663\"}, \"text\": \"\"}, \"zerolinecolor\": \"#E1E5ED\"}, \"yaxis\": {\"gridcolor\": \"#E1E5ED\", \"showgrid\": true, \"tickfont\": {\"color\": \"#4D5663\"}, \"title\": {\"font\": {\"color\": \"#4D5663\"}, \"text\": \"\"}, \"zerolinecolor\": \"#E1E5ED\"}},\n",
       "                        {\"showLink\": true, \"linkText\": \"Export to plot.ly\", \"plotlyServerURL\": \"https://plot.ly\", \"responsive\": true}\n",
       "                    ).then(function(){\n",
       "                            \n",
       "var gd = document.getElementById('662dfc07-b2d2-41a8-b32b-8ffe4f5a4605');\n",
       "var x = new MutationObserver(function (mutations, observer) {{\n",
       "        var display = window.getComputedStyle(gd).display;\n",
       "        if (!display || display === 'none') {{\n",
       "            console.log([gd, 'removed!']);\n",
       "            Plotly.purge(gd);\n",
       "            observer.disconnect();\n",
       "        }}\n",
       "}});\n",
       "\n",
       "// Listen for the removal of the full notebook cells\n",
       "var notebookContainer = gd.closest('#notebook-container');\n",
       "if (notebookContainer) {{\n",
       "    x.observe(notebookContainer, {childList: true});\n",
       "}}\n",
       "\n",
       "// Listen for the clearing of the current output cell\n",
       "var outputEl = gd.closest('.output');\n",
       "if (outputEl) {{\n",
       "    x.observe(outputEl, {childList: true});\n",
       "}}\n",
       "\n",
       "                        })\n",
       "                };\n",
       "                });\n",
       "            </script>\n",
       "        </div>"
      ]
     },
     "metadata": {},
     "output_type": "display_data"
    }
   ],
   "source": [
    "df.iplot(kind='box')"
   ]
  },
  {
   "cell_type": "code",
   "execution_count": 24,
   "metadata": {},
   "outputs": [],
   "source": [
    "df3=pd.DataFrame({'x':[1,2,3,4,5],'y':[10,20,30,20,10],'z':[500,400,300,200,100]})"
   ]
  },
  {
   "cell_type": "code",
   "execution_count": 28,
   "metadata": {},
   "outputs": [
    {
     "data": {
      "application/vnd.plotly.v1+json": {
       "config": {
        "linkText": "Export to plot.ly",
        "plotlyServerURL": "https://plot.ly",
        "showLink": true
       },
       "data": [
        {
         "colorscale": [
          [
           0,
           "rgb(165,0,38)"
          ],
          [
           0.1,
           "rgb(215,48,39)"
          ],
          [
           0.2,
           "rgb(244,109,67)"
          ],
          [
           0.3,
           "rgb(253,174,97)"
          ],
          [
           0.4,
           "rgb(254,224,144)"
          ],
          [
           0.5,
           "rgb(255,255,191)"
          ],
          [
           0.6,
           "rgb(224,243,248)"
          ],
          [
           0.7,
           "rgb(171,217,233)"
          ],
          [
           0.8,
           "rgb(116,173,209)"
          ],
          [
           0.9,
           "rgb(69,117,180)"
          ],
          [
           1,
           "rgb(49,54,149)"
          ]
         ],
         "type": "surface",
         "x": [
          0,
          1,
          2,
          3,
          4
         ],
         "y": [
          "x",
          "y",
          "z"
         ],
         "z": [
          [
           1,
           2,
           3,
           4,
           5
          ],
          [
           10,
           20,
           30,
           20,
           10
          ],
          [
           500,
           400,
           300,
           200,
           100
          ]
         ]
        }
       ],
       "layout": {
        "legend": {
         "bgcolor": "#F5F6F9",
         "font": {
          "color": "#4D5663"
         }
        },
        "paper_bgcolor": "#F5F6F9",
        "plot_bgcolor": "#F5F6F9",
        "template": {
         "data": {
          "bar": [
           {
            "error_x": {
             "color": "#2a3f5f"
            },
            "error_y": {
             "color": "#2a3f5f"
            },
            "marker": {
             "line": {
              "color": "#E5ECF6",
              "width": 0.5
             }
            },
            "type": "bar"
           }
          ],
          "barpolar": [
           {
            "marker": {
             "line": {
              "color": "#E5ECF6",
              "width": 0.5
             }
            },
            "type": "barpolar"
           }
          ],
          "carpet": [
           {
            "aaxis": {
             "endlinecolor": "#2a3f5f",
             "gridcolor": "white",
             "linecolor": "white",
             "minorgridcolor": "white",
             "startlinecolor": "#2a3f5f"
            },
            "baxis": {
             "endlinecolor": "#2a3f5f",
             "gridcolor": "white",
             "linecolor": "white",
             "minorgridcolor": "white",
             "startlinecolor": "#2a3f5f"
            },
            "type": "carpet"
           }
          ],
          "choropleth": [
           {
            "colorbar": {
             "outlinewidth": 0,
             "ticks": ""
            },
            "type": "choropleth"
           }
          ],
          "contour": [
           {
            "colorbar": {
             "outlinewidth": 0,
             "ticks": ""
            },
            "colorscale": [
             [
              0,
              "#0d0887"
             ],
             [
              0.1111111111111111,
              "#46039f"
             ],
             [
              0.2222222222222222,
              "#7201a8"
             ],
             [
              0.3333333333333333,
              "#9c179e"
             ],
             [
              0.4444444444444444,
              "#bd3786"
             ],
             [
              0.5555555555555556,
              "#d8576b"
             ],
             [
              0.6666666666666666,
              "#ed7953"
             ],
             [
              0.7777777777777778,
              "#fb9f3a"
             ],
             [
              0.8888888888888888,
              "#fdca26"
             ],
             [
              1,
              "#f0f921"
             ]
            ],
            "type": "contour"
           }
          ],
          "contourcarpet": [
           {
            "colorbar": {
             "outlinewidth": 0,
             "ticks": ""
            },
            "type": "contourcarpet"
           }
          ],
          "heatmap": [
           {
            "colorbar": {
             "outlinewidth": 0,
             "ticks": ""
            },
            "colorscale": [
             [
              0,
              "#0d0887"
             ],
             [
              0.1111111111111111,
              "#46039f"
             ],
             [
              0.2222222222222222,
              "#7201a8"
             ],
             [
              0.3333333333333333,
              "#9c179e"
             ],
             [
              0.4444444444444444,
              "#bd3786"
             ],
             [
              0.5555555555555556,
              "#d8576b"
             ],
             [
              0.6666666666666666,
              "#ed7953"
             ],
             [
              0.7777777777777778,
              "#fb9f3a"
             ],
             [
              0.8888888888888888,
              "#fdca26"
             ],
             [
              1,
              "#f0f921"
             ]
            ],
            "type": "heatmap"
           }
          ],
          "heatmapgl": [
           {
            "colorbar": {
             "outlinewidth": 0,
             "ticks": ""
            },
            "colorscale": [
             [
              0,
              "#0d0887"
             ],
             [
              0.1111111111111111,
              "#46039f"
             ],
             [
              0.2222222222222222,
              "#7201a8"
             ],
             [
              0.3333333333333333,
              "#9c179e"
             ],
             [
              0.4444444444444444,
              "#bd3786"
             ],
             [
              0.5555555555555556,
              "#d8576b"
             ],
             [
              0.6666666666666666,
              "#ed7953"
             ],
             [
              0.7777777777777778,
              "#fb9f3a"
             ],
             [
              0.8888888888888888,
              "#fdca26"
             ],
             [
              1,
              "#f0f921"
             ]
            ],
            "type": "heatmapgl"
           }
          ],
          "histogram": [
           {
            "marker": {
             "colorbar": {
              "outlinewidth": 0,
              "ticks": ""
             }
            },
            "type": "histogram"
           }
          ],
          "histogram2d": [
           {
            "colorbar": {
             "outlinewidth": 0,
             "ticks": ""
            },
            "colorscale": [
             [
              0,
              "#0d0887"
             ],
             [
              0.1111111111111111,
              "#46039f"
             ],
             [
              0.2222222222222222,
              "#7201a8"
             ],
             [
              0.3333333333333333,
              "#9c179e"
             ],
             [
              0.4444444444444444,
              "#bd3786"
             ],
             [
              0.5555555555555556,
              "#d8576b"
             ],
             [
              0.6666666666666666,
              "#ed7953"
             ],
             [
              0.7777777777777778,
              "#fb9f3a"
             ],
             [
              0.8888888888888888,
              "#fdca26"
             ],
             [
              1,
              "#f0f921"
             ]
            ],
            "type": "histogram2d"
           }
          ],
          "histogram2dcontour": [
           {
            "colorbar": {
             "outlinewidth": 0,
             "ticks": ""
            },
            "colorscale": [
             [
              0,
              "#0d0887"
             ],
             [
              0.1111111111111111,
              "#46039f"
             ],
             [
              0.2222222222222222,
              "#7201a8"
             ],
             [
              0.3333333333333333,
              "#9c179e"
             ],
             [
              0.4444444444444444,
              "#bd3786"
             ],
             [
              0.5555555555555556,
              "#d8576b"
             ],
             [
              0.6666666666666666,
              "#ed7953"
             ],
             [
              0.7777777777777778,
              "#fb9f3a"
             ],
             [
              0.8888888888888888,
              "#fdca26"
             ],
             [
              1,
              "#f0f921"
             ]
            ],
            "type": "histogram2dcontour"
           }
          ],
          "mesh3d": [
           {
            "colorbar": {
             "outlinewidth": 0,
             "ticks": ""
            },
            "type": "mesh3d"
           }
          ],
          "parcoords": [
           {
            "line": {
             "colorbar": {
              "outlinewidth": 0,
              "ticks": ""
             }
            },
            "type": "parcoords"
           }
          ],
          "pie": [
           {
            "automargin": true,
            "type": "pie"
           }
          ],
          "scatter": [
           {
            "marker": {
             "colorbar": {
              "outlinewidth": 0,
              "ticks": ""
             }
            },
            "type": "scatter"
           }
          ],
          "scatter3d": [
           {
            "line": {
             "colorbar": {
              "outlinewidth": 0,
              "ticks": ""
             }
            },
            "marker": {
             "colorbar": {
              "outlinewidth": 0,
              "ticks": ""
             }
            },
            "type": "scatter3d"
           }
          ],
          "scattercarpet": [
           {
            "marker": {
             "colorbar": {
              "outlinewidth": 0,
              "ticks": ""
             }
            },
            "type": "scattercarpet"
           }
          ],
          "scattergeo": [
           {
            "marker": {
             "colorbar": {
              "outlinewidth": 0,
              "ticks": ""
             }
            },
            "type": "scattergeo"
           }
          ],
          "scattergl": [
           {
            "marker": {
             "colorbar": {
              "outlinewidth": 0,
              "ticks": ""
             }
            },
            "type": "scattergl"
           }
          ],
          "scattermapbox": [
           {
            "marker": {
             "colorbar": {
              "outlinewidth": 0,
              "ticks": ""
             }
            },
            "type": "scattermapbox"
           }
          ],
          "scatterpolar": [
           {
            "marker": {
             "colorbar": {
              "outlinewidth": 0,
              "ticks": ""
             }
            },
            "type": "scatterpolar"
           }
          ],
          "scatterpolargl": [
           {
            "marker": {
             "colorbar": {
              "outlinewidth": 0,
              "ticks": ""
             }
            },
            "type": "scatterpolargl"
           }
          ],
          "scatterternary": [
           {
            "marker": {
             "colorbar": {
              "outlinewidth": 0,
              "ticks": ""
             }
            },
            "type": "scatterternary"
           }
          ],
          "surface": [
           {
            "colorbar": {
             "outlinewidth": 0,
             "ticks": ""
            },
            "colorscale": [
             [
              0,
              "#0d0887"
             ],
             [
              0.1111111111111111,
              "#46039f"
             ],
             [
              0.2222222222222222,
              "#7201a8"
             ],
             [
              0.3333333333333333,
              "#9c179e"
             ],
             [
              0.4444444444444444,
              "#bd3786"
             ],
             [
              0.5555555555555556,
              "#d8576b"
             ],
             [
              0.6666666666666666,
              "#ed7953"
             ],
             [
              0.7777777777777778,
              "#fb9f3a"
             ],
             [
              0.8888888888888888,
              "#fdca26"
             ],
             [
              1,
              "#f0f921"
             ]
            ],
            "type": "surface"
           }
          ],
          "table": [
           {
            "cells": {
             "fill": {
              "color": "#EBF0F8"
             },
             "line": {
              "color": "white"
             }
            },
            "header": {
             "fill": {
              "color": "#C8D4E3"
             },
             "line": {
              "color": "white"
             }
            },
            "type": "table"
           }
          ]
         },
         "layout": {
          "annotationdefaults": {
           "arrowcolor": "#2a3f5f",
           "arrowhead": 0,
           "arrowwidth": 1
          },
          "coloraxis": {
           "colorbar": {
            "outlinewidth": 0,
            "ticks": ""
           }
          },
          "colorscale": {
           "diverging": [
            [
             0,
             "#8e0152"
            ],
            [
             0.1,
             "#c51b7d"
            ],
            [
             0.2,
             "#de77ae"
            ],
            [
             0.3,
             "#f1b6da"
            ],
            [
             0.4,
             "#fde0ef"
            ],
            [
             0.5,
             "#f7f7f7"
            ],
            [
             0.6,
             "#e6f5d0"
            ],
            [
             0.7,
             "#b8e186"
            ],
            [
             0.8,
             "#7fbc41"
            ],
            [
             0.9,
             "#4d9221"
            ],
            [
             1,
             "#276419"
            ]
           ],
           "sequential": [
            [
             0,
             "#0d0887"
            ],
            [
             0.1111111111111111,
             "#46039f"
            ],
            [
             0.2222222222222222,
             "#7201a8"
            ],
            [
             0.3333333333333333,
             "#9c179e"
            ],
            [
             0.4444444444444444,
             "#bd3786"
            ],
            [
             0.5555555555555556,
             "#d8576b"
            ],
            [
             0.6666666666666666,
             "#ed7953"
            ],
            [
             0.7777777777777778,
             "#fb9f3a"
            ],
            [
             0.8888888888888888,
             "#fdca26"
            ],
            [
             1,
             "#f0f921"
            ]
           ],
           "sequentialminus": [
            [
             0,
             "#0d0887"
            ],
            [
             0.1111111111111111,
             "#46039f"
            ],
            [
             0.2222222222222222,
             "#7201a8"
            ],
            [
             0.3333333333333333,
             "#9c179e"
            ],
            [
             0.4444444444444444,
             "#bd3786"
            ],
            [
             0.5555555555555556,
             "#d8576b"
            ],
            [
             0.6666666666666666,
             "#ed7953"
            ],
            [
             0.7777777777777778,
             "#fb9f3a"
            ],
            [
             0.8888888888888888,
             "#fdca26"
            ],
            [
             1,
             "#f0f921"
            ]
           ]
          },
          "colorway": [
           "#636efa",
           "#EF553B",
           "#00cc96",
           "#ab63fa",
           "#FFA15A",
           "#19d3f3",
           "#FF6692",
           "#B6E880",
           "#FF97FF",
           "#FECB52"
          ],
          "font": {
           "color": "#2a3f5f"
          },
          "geo": {
           "bgcolor": "white",
           "lakecolor": "white",
           "landcolor": "#E5ECF6",
           "showlakes": true,
           "showland": true,
           "subunitcolor": "white"
          },
          "hoverlabel": {
           "align": "left"
          },
          "hovermode": "closest",
          "mapbox": {
           "style": "light"
          },
          "paper_bgcolor": "white",
          "plot_bgcolor": "#E5ECF6",
          "polar": {
           "angularaxis": {
            "gridcolor": "white",
            "linecolor": "white",
            "ticks": ""
           },
           "bgcolor": "#E5ECF6",
           "radialaxis": {
            "gridcolor": "white",
            "linecolor": "white",
            "ticks": ""
           }
          },
          "scene": {
           "xaxis": {
            "backgroundcolor": "#E5ECF6",
            "gridcolor": "white",
            "gridwidth": 2,
            "linecolor": "white",
            "showbackground": true,
            "ticks": "",
            "zerolinecolor": "white"
           },
           "yaxis": {
            "backgroundcolor": "#E5ECF6",
            "gridcolor": "white",
            "gridwidth": 2,
            "linecolor": "white",
            "showbackground": true,
            "ticks": "",
            "zerolinecolor": "white"
           },
           "zaxis": {
            "backgroundcolor": "#E5ECF6",
            "gridcolor": "white",
            "gridwidth": 2,
            "linecolor": "white",
            "showbackground": true,
            "ticks": "",
            "zerolinecolor": "white"
           }
          },
          "shapedefaults": {
           "line": {
            "color": "#2a3f5f"
           }
          },
          "ternary": {
           "aaxis": {
            "gridcolor": "white",
            "linecolor": "white",
            "ticks": ""
           },
           "baxis": {
            "gridcolor": "white",
            "linecolor": "white",
            "ticks": ""
           },
           "bgcolor": "#E5ECF6",
           "caxis": {
            "gridcolor": "white",
            "linecolor": "white",
            "ticks": ""
           }
          },
          "title": {
           "x": 0.05
          },
          "xaxis": {
           "automargin": true,
           "gridcolor": "white",
           "linecolor": "white",
           "ticks": "",
           "title": {
            "standoff": 15
           },
           "zerolinecolor": "white",
           "zerolinewidth": 2
          },
          "yaxis": {
           "automargin": true,
           "gridcolor": "white",
           "linecolor": "white",
           "ticks": "",
           "title": {
            "standoff": 15
           },
           "zerolinecolor": "white",
           "zerolinewidth": 2
          }
         }
        },
        "title": {
         "font": {
          "color": "#4D5663"
         }
        },
        "xaxis": {
         "gridcolor": "#E1E5ED",
         "showgrid": true,
         "tickfont": {
          "color": "#4D5663"
         },
         "title": {
          "font": {
           "color": "#4D5663"
          },
          "text": ""
         },
         "zerolinecolor": "#E1E5ED"
        },
        "yaxis": {
         "gridcolor": "#E1E5ED",
         "showgrid": true,
         "tickfont": {
          "color": "#4D5663"
         },
         "title": {
          "font": {
           "color": "#4D5663"
          },
          "text": ""
         },
         "zerolinecolor": "#E1E5ED"
        }
       }
      },
      "text/html": [
       "<div>\n",
       "        \n",
       "        \n",
       "            <div id=\"aba50d83-82ce-47fa-914e-d341a17cffc0\" class=\"plotly-graph-div\" style=\"height:525px; width:100%;\"></div>\n",
       "            <script type=\"text/javascript\">\n",
       "                require([\"plotly\"], function(Plotly) {\n",
       "                    window.PLOTLYENV=window.PLOTLYENV || {};\n",
       "                    window.PLOTLYENV.BASE_URL='https://plot.ly';\n",
       "                    \n",
       "                if (document.getElementById(\"aba50d83-82ce-47fa-914e-d341a17cffc0\")) {\n",
       "                    Plotly.newPlot(\n",
       "                        'aba50d83-82ce-47fa-914e-d341a17cffc0',\n",
       "                        [{\"colorscale\": [[0.0, \"rgb(165,0,38)\"], [0.1, \"rgb(215,48,39)\"], [0.2, \"rgb(244,109,67)\"], [0.3, \"rgb(253,174,97)\"], [0.4, \"rgb(254,224,144)\"], [0.5, \"rgb(255,255,191)\"], [0.6, \"rgb(224,243,248)\"], [0.7, \"rgb(171,217,233)\"], [0.8, \"rgb(116,173,209)\"], [0.9, \"rgb(69,117,180)\"], [1.0, \"rgb(49,54,149)\"]], \"type\": \"surface\", \"x\": [0, 1, 2, 3, 4], \"y\": [\"x\", \"y\", \"z\"], \"z\": [[1, 2, 3, 4, 5], [10, 20, 30, 20, 10], [500, 400, 300, 200, 100]]}],\n",
       "                        {\"legend\": {\"bgcolor\": \"#F5F6F9\", \"font\": {\"color\": \"#4D5663\"}}, \"paper_bgcolor\": \"#F5F6F9\", \"plot_bgcolor\": \"#F5F6F9\", \"template\": {\"data\": {\"bar\": [{\"error_x\": {\"color\": \"#2a3f5f\"}, \"error_y\": {\"color\": \"#2a3f5f\"}, \"marker\": {\"line\": {\"color\": \"#E5ECF6\", \"width\": 0.5}}, \"type\": \"bar\"}], \"barpolar\": [{\"marker\": {\"line\": {\"color\": \"#E5ECF6\", \"width\": 0.5}}, \"type\": \"barpolar\"}], \"carpet\": [{\"aaxis\": {\"endlinecolor\": \"#2a3f5f\", \"gridcolor\": \"white\", \"linecolor\": \"white\", \"minorgridcolor\": \"white\", \"startlinecolor\": \"#2a3f5f\"}, \"baxis\": {\"endlinecolor\": \"#2a3f5f\", \"gridcolor\": \"white\", \"linecolor\": \"white\", \"minorgridcolor\": \"white\", \"startlinecolor\": \"#2a3f5f\"}, \"type\": \"carpet\"}], \"choropleth\": [{\"colorbar\": {\"outlinewidth\": 0, \"ticks\": \"\"}, \"type\": \"choropleth\"}], \"contour\": [{\"colorbar\": {\"outlinewidth\": 0, \"ticks\": \"\"}, \"colorscale\": [[0.0, \"#0d0887\"], [0.1111111111111111, \"#46039f\"], [0.2222222222222222, \"#7201a8\"], [0.3333333333333333, \"#9c179e\"], [0.4444444444444444, \"#bd3786\"], [0.5555555555555556, \"#d8576b\"], [0.6666666666666666, \"#ed7953\"], [0.7777777777777778, \"#fb9f3a\"], [0.8888888888888888, \"#fdca26\"], [1.0, \"#f0f921\"]], \"type\": \"contour\"}], \"contourcarpet\": [{\"colorbar\": {\"outlinewidth\": 0, \"ticks\": \"\"}, \"type\": \"contourcarpet\"}], \"heatmap\": [{\"colorbar\": {\"outlinewidth\": 0, \"ticks\": \"\"}, \"colorscale\": [[0.0, \"#0d0887\"], [0.1111111111111111, \"#46039f\"], [0.2222222222222222, \"#7201a8\"], [0.3333333333333333, \"#9c179e\"], [0.4444444444444444, \"#bd3786\"], [0.5555555555555556, \"#d8576b\"], [0.6666666666666666, \"#ed7953\"], [0.7777777777777778, \"#fb9f3a\"], [0.8888888888888888, \"#fdca26\"], [1.0, \"#f0f921\"]], \"type\": \"heatmap\"}], \"heatmapgl\": [{\"colorbar\": {\"outlinewidth\": 0, \"ticks\": \"\"}, \"colorscale\": [[0.0, \"#0d0887\"], [0.1111111111111111, \"#46039f\"], [0.2222222222222222, \"#7201a8\"], [0.3333333333333333, \"#9c179e\"], [0.4444444444444444, \"#bd3786\"], [0.5555555555555556, \"#d8576b\"], [0.6666666666666666, \"#ed7953\"], [0.7777777777777778, \"#fb9f3a\"], [0.8888888888888888, \"#fdca26\"], [1.0, \"#f0f921\"]], \"type\": \"heatmapgl\"}], \"histogram\": [{\"marker\": {\"colorbar\": {\"outlinewidth\": 0, \"ticks\": \"\"}}, \"type\": \"histogram\"}], \"histogram2d\": [{\"colorbar\": {\"outlinewidth\": 0, \"ticks\": \"\"}, \"colorscale\": [[0.0, \"#0d0887\"], [0.1111111111111111, \"#46039f\"], [0.2222222222222222, \"#7201a8\"], [0.3333333333333333, \"#9c179e\"], [0.4444444444444444, \"#bd3786\"], [0.5555555555555556, \"#d8576b\"], [0.6666666666666666, \"#ed7953\"], [0.7777777777777778, \"#fb9f3a\"], [0.8888888888888888, \"#fdca26\"], [1.0, \"#f0f921\"]], \"type\": \"histogram2d\"}], \"histogram2dcontour\": [{\"colorbar\": {\"outlinewidth\": 0, \"ticks\": \"\"}, \"colorscale\": [[0.0, \"#0d0887\"], [0.1111111111111111, \"#46039f\"], [0.2222222222222222, \"#7201a8\"], [0.3333333333333333, \"#9c179e\"], [0.4444444444444444, \"#bd3786\"], [0.5555555555555556, \"#d8576b\"], [0.6666666666666666, \"#ed7953\"], [0.7777777777777778, \"#fb9f3a\"], [0.8888888888888888, \"#fdca26\"], [1.0, \"#f0f921\"]], \"type\": \"histogram2dcontour\"}], \"mesh3d\": [{\"colorbar\": {\"outlinewidth\": 0, \"ticks\": \"\"}, \"type\": \"mesh3d\"}], \"parcoords\": [{\"line\": {\"colorbar\": {\"outlinewidth\": 0, \"ticks\": \"\"}}, \"type\": \"parcoords\"}], \"pie\": [{\"automargin\": true, \"type\": \"pie\"}], \"scatter\": [{\"marker\": {\"colorbar\": {\"outlinewidth\": 0, \"ticks\": \"\"}}, \"type\": \"scatter\"}], \"scatter3d\": [{\"line\": {\"colorbar\": {\"outlinewidth\": 0, \"ticks\": \"\"}}, \"marker\": {\"colorbar\": {\"outlinewidth\": 0, \"ticks\": \"\"}}, \"type\": \"scatter3d\"}], \"scattercarpet\": [{\"marker\": {\"colorbar\": {\"outlinewidth\": 0, \"ticks\": \"\"}}, \"type\": \"scattercarpet\"}], \"scattergeo\": [{\"marker\": {\"colorbar\": {\"outlinewidth\": 0, \"ticks\": \"\"}}, \"type\": \"scattergeo\"}], \"scattergl\": [{\"marker\": {\"colorbar\": {\"outlinewidth\": 0, \"ticks\": \"\"}}, \"type\": \"scattergl\"}], \"scattermapbox\": [{\"marker\": {\"colorbar\": {\"outlinewidth\": 0, \"ticks\": \"\"}}, \"type\": \"scattermapbox\"}], \"scatterpolar\": [{\"marker\": {\"colorbar\": {\"outlinewidth\": 0, \"ticks\": \"\"}}, \"type\": \"scatterpolar\"}], \"scatterpolargl\": [{\"marker\": {\"colorbar\": {\"outlinewidth\": 0, \"ticks\": \"\"}}, \"type\": \"scatterpolargl\"}], \"scatterternary\": [{\"marker\": {\"colorbar\": {\"outlinewidth\": 0, \"ticks\": \"\"}}, \"type\": \"scatterternary\"}], \"surface\": [{\"colorbar\": {\"outlinewidth\": 0, \"ticks\": \"\"}, \"colorscale\": [[0.0, \"#0d0887\"], [0.1111111111111111, \"#46039f\"], [0.2222222222222222, \"#7201a8\"], [0.3333333333333333, \"#9c179e\"], [0.4444444444444444, \"#bd3786\"], [0.5555555555555556, \"#d8576b\"], [0.6666666666666666, \"#ed7953\"], [0.7777777777777778, \"#fb9f3a\"], [0.8888888888888888, \"#fdca26\"], [1.0, \"#f0f921\"]], \"type\": \"surface\"}], \"table\": [{\"cells\": {\"fill\": {\"color\": \"#EBF0F8\"}, \"line\": {\"color\": \"white\"}}, \"header\": {\"fill\": {\"color\": \"#C8D4E3\"}, \"line\": {\"color\": \"white\"}}, \"type\": \"table\"}]}, \"layout\": {\"annotationdefaults\": {\"arrowcolor\": \"#2a3f5f\", \"arrowhead\": 0, \"arrowwidth\": 1}, \"coloraxis\": {\"colorbar\": {\"outlinewidth\": 0, \"ticks\": \"\"}}, \"colorscale\": {\"diverging\": [[0, \"#8e0152\"], [0.1, \"#c51b7d\"], [0.2, \"#de77ae\"], [0.3, \"#f1b6da\"], [0.4, \"#fde0ef\"], [0.5, \"#f7f7f7\"], [0.6, \"#e6f5d0\"], [0.7, \"#b8e186\"], [0.8, \"#7fbc41\"], [0.9, \"#4d9221\"], [1, \"#276419\"]], \"sequential\": [[0.0, \"#0d0887\"], [0.1111111111111111, \"#46039f\"], [0.2222222222222222, \"#7201a8\"], [0.3333333333333333, \"#9c179e\"], [0.4444444444444444, \"#bd3786\"], [0.5555555555555556, \"#d8576b\"], [0.6666666666666666, \"#ed7953\"], [0.7777777777777778, \"#fb9f3a\"], [0.8888888888888888, \"#fdca26\"], [1.0, \"#f0f921\"]], \"sequentialminus\": [[0.0, \"#0d0887\"], [0.1111111111111111, \"#46039f\"], [0.2222222222222222, \"#7201a8\"], [0.3333333333333333, \"#9c179e\"], [0.4444444444444444, \"#bd3786\"], [0.5555555555555556, \"#d8576b\"], [0.6666666666666666, \"#ed7953\"], [0.7777777777777778, \"#fb9f3a\"], [0.8888888888888888, \"#fdca26\"], [1.0, \"#f0f921\"]]}, \"colorway\": [\"#636efa\", \"#EF553B\", \"#00cc96\", \"#ab63fa\", \"#FFA15A\", \"#19d3f3\", \"#FF6692\", \"#B6E880\", \"#FF97FF\", \"#FECB52\"], \"font\": {\"color\": \"#2a3f5f\"}, \"geo\": {\"bgcolor\": \"white\", \"lakecolor\": \"white\", \"landcolor\": \"#E5ECF6\", \"showlakes\": true, \"showland\": true, \"subunitcolor\": \"white\"}, \"hoverlabel\": {\"align\": \"left\"}, \"hovermode\": \"closest\", \"mapbox\": {\"style\": \"light\"}, \"paper_bgcolor\": \"white\", \"plot_bgcolor\": \"#E5ECF6\", \"polar\": {\"angularaxis\": {\"gridcolor\": \"white\", \"linecolor\": \"white\", \"ticks\": \"\"}, \"bgcolor\": \"#E5ECF6\", \"radialaxis\": {\"gridcolor\": \"white\", \"linecolor\": \"white\", \"ticks\": \"\"}}, \"scene\": {\"xaxis\": {\"backgroundcolor\": \"#E5ECF6\", \"gridcolor\": \"white\", \"gridwidth\": 2, \"linecolor\": \"white\", \"showbackground\": true, \"ticks\": \"\", \"zerolinecolor\": \"white\"}, \"yaxis\": {\"backgroundcolor\": \"#E5ECF6\", \"gridcolor\": \"white\", \"gridwidth\": 2, \"linecolor\": \"white\", \"showbackground\": true, \"ticks\": \"\", \"zerolinecolor\": \"white\"}, \"zaxis\": {\"backgroundcolor\": \"#E5ECF6\", \"gridcolor\": \"white\", \"gridwidth\": 2, \"linecolor\": \"white\", \"showbackground\": true, \"ticks\": \"\", \"zerolinecolor\": \"white\"}}, \"shapedefaults\": {\"line\": {\"color\": \"#2a3f5f\"}}, \"ternary\": {\"aaxis\": {\"gridcolor\": \"white\", \"linecolor\": \"white\", \"ticks\": \"\"}, \"baxis\": {\"gridcolor\": \"white\", \"linecolor\": \"white\", \"ticks\": \"\"}, \"bgcolor\": \"#E5ECF6\", \"caxis\": {\"gridcolor\": \"white\", \"linecolor\": \"white\", \"ticks\": \"\"}}, \"title\": {\"x\": 0.05}, \"xaxis\": {\"automargin\": true, \"gridcolor\": \"white\", \"linecolor\": \"white\", \"ticks\": \"\", \"title\": {\"standoff\": 15}, \"zerolinecolor\": \"white\", \"zerolinewidth\": 2}, \"yaxis\": {\"automargin\": true, \"gridcolor\": \"white\", \"linecolor\": \"white\", \"ticks\": \"\", \"title\": {\"standoff\": 15}, \"zerolinecolor\": \"white\", \"zerolinewidth\": 2}}}, \"title\": {\"font\": {\"color\": \"#4D5663\"}}, \"xaxis\": {\"gridcolor\": \"#E1E5ED\", \"showgrid\": true, \"tickfont\": {\"color\": \"#4D5663\"}, \"title\": {\"font\": {\"color\": \"#4D5663\"}, \"text\": \"\"}, \"zerolinecolor\": \"#E1E5ED\"}, \"yaxis\": {\"gridcolor\": \"#E1E5ED\", \"showgrid\": true, \"tickfont\": {\"color\": \"#4D5663\"}, \"title\": {\"font\": {\"color\": \"#4D5663\"}, \"text\": \"\"}, \"zerolinecolor\": \"#E1E5ED\"}},\n",
       "                        {\"showLink\": true, \"linkText\": \"Export to plot.ly\", \"plotlyServerURL\": \"https://plot.ly\", \"responsive\": true}\n",
       "                    ).then(function(){\n",
       "                            \n",
       "var gd = document.getElementById('aba50d83-82ce-47fa-914e-d341a17cffc0');\n",
       "var x = new MutationObserver(function (mutations, observer) {{\n",
       "        var display = window.getComputedStyle(gd).display;\n",
       "        if (!display || display === 'none') {{\n",
       "            console.log([gd, 'removed!']);\n",
       "            Plotly.purge(gd);\n",
       "            observer.disconnect();\n",
       "        }}\n",
       "}});\n",
       "\n",
       "// Listen for the removal of the full notebook cells\n",
       "var notebookContainer = gd.closest('#notebook-container');\n",
       "if (notebookContainer) {{\n",
       "    x.observe(notebookContainer, {childList: true});\n",
       "}}\n",
       "\n",
       "// Listen for the clearing of the current output cell\n",
       "var outputEl = gd.closest('.output');\n",
       "if (outputEl) {{\n",
       "    x.observe(outputEl, {childList: true});\n",
       "}}\n",
       "\n",
       "                        })\n",
       "                };\n",
       "                });\n",
       "            </script>\n",
       "        </div>"
      ]
     },
     "metadata": {},
     "output_type": "display_data"
    }
   ],
   "source": [
    "df3.iplot(kind='surface',colorscale='rdylbu')"
   ]
  },
  {
   "cell_type": "code",
   "execution_count": 30,
   "metadata": {},
   "outputs": [
    {
     "data": {
      "application/vnd.plotly.v1+json": {
       "config": {
        "linkText": "Export to plot.ly",
        "plotlyServerURL": "https://plot.ly",
        "showLink": true
       },
       "data": [
        {
         "histfunc": "count",
         "histnorm": "",
         "marker": {
          "color": "rgba(255, 153, 51, 1.0)",
          "line": {
           "color": "#4D5663",
           "width": 1.3
          }
         },
         "name": "A",
         "opacity": 0.8,
         "orientation": "v",
         "type": "histogram",
         "x": [
          1.5023563012055845,
          0.4087626388893659,
          1.5993197844213576,
          -0.5215118809744652,
          1.5681236600191981,
          0.7468356261210932,
          -0.749310641952968,
          0.1159935148313741,
          0.22045916587711767,
          -0.4550011729283677,
          0.8563933097341867,
          -2.066795909564812,
          -0.38285290167817404,
          0.01900787684381683,
          -0.12630271810268817,
          0.5680388021904351,
          1.14854911597069,
          0.6436069259066923,
          0.13859935383240438,
          -0.4956911855443848,
          0.4836194286327407,
          -1.2764417035087179,
          -0.5398190900873907,
          0.5796992019373896,
          -0.6037038043213754,
          0.7253532286953808,
          0.6834182495980821,
          -2.8845872018457897,
          1.0233482449319187,
          -2.552401535794378,
          2.3124239629877583,
          -0.8127401942686726,
          -0.23445084013367548,
          -0.6759192578683721,
          -2.5062077810487255,
          -1.2244355783037433,
          0.6694110332929116,
          -0.0034276115223639343,
          0.03204469823716342,
          -0.648084262291826,
          2.5628246207053778,
          0.9000009050597508,
          0.7517099499732545,
          1.2007637923291639,
          -1.9465668851371996,
          -2.413766407744819,
          -0.05082089573082934,
          1.207415735066595,
          -0.3835094510702304,
          0.5221421859827696,
          -0.5248958874051288,
          0.24619873930310585,
          0.5677610344566094,
          -0.4866092245561927,
          -0.7416586364234559,
          0.24855280589543127,
          1.2144044039988526,
          -0.14093054717060302,
          0.2963349236939744,
          -0.4291217100089392,
          1.1491732439347566,
          -0.5216591508755286,
          1.31822530500963,
          -0.47105727955537935,
          -0.40446633360902595,
          2.1459042895302747,
          0.6334555504966481,
          0.4176419554202106,
          -1.0273773683227392,
          1.1263431197506402,
          0.10469582241142089,
          -0.5906651009155758,
          -0.45518656697518617,
          1.3026059396663974,
          0.7571755070928892,
          0.10743952906925054,
          2.0706685836531564,
          0.5559870929964155,
          2.380054547983395,
          -0.39070598757151437,
          1.16309570735863,
          0.53168218102069,
          0.5568769817666138,
          0.39298936796065026,
          0.7338227726831591,
          0.5032917926801018,
          -0.5716134754818609,
          1.286383898901556,
          0.025648738117446,
          0.5157472248880189,
          -0.5104493617558568,
          -0.4733753767654713,
          0.36745876642344916,
          1.3072126283906071,
          0.35925235054705673,
          0.3793647207507,
          -0.21779341066885025,
          -0.5505938066317233,
          -0.5936228067274162,
          -0.18854451853239493
         ]
        }
       ],
       "layout": {
        "barmode": "overlay",
        "legend": {
         "bgcolor": "#F5F6F9",
         "font": {
          "color": "#4D5663"
         }
        },
        "paper_bgcolor": "#F5F6F9",
        "plot_bgcolor": "#F5F6F9",
        "template": {
         "data": {
          "bar": [
           {
            "error_x": {
             "color": "#2a3f5f"
            },
            "error_y": {
             "color": "#2a3f5f"
            },
            "marker": {
             "line": {
              "color": "#E5ECF6",
              "width": 0.5
             }
            },
            "type": "bar"
           }
          ],
          "barpolar": [
           {
            "marker": {
             "line": {
              "color": "#E5ECF6",
              "width": 0.5
             }
            },
            "type": "barpolar"
           }
          ],
          "carpet": [
           {
            "aaxis": {
             "endlinecolor": "#2a3f5f",
             "gridcolor": "white",
             "linecolor": "white",
             "minorgridcolor": "white",
             "startlinecolor": "#2a3f5f"
            },
            "baxis": {
             "endlinecolor": "#2a3f5f",
             "gridcolor": "white",
             "linecolor": "white",
             "minorgridcolor": "white",
             "startlinecolor": "#2a3f5f"
            },
            "type": "carpet"
           }
          ],
          "choropleth": [
           {
            "colorbar": {
             "outlinewidth": 0,
             "ticks": ""
            },
            "type": "choropleth"
           }
          ],
          "contour": [
           {
            "colorbar": {
             "outlinewidth": 0,
             "ticks": ""
            },
            "colorscale": [
             [
              0,
              "#0d0887"
             ],
             [
              0.1111111111111111,
              "#46039f"
             ],
             [
              0.2222222222222222,
              "#7201a8"
             ],
             [
              0.3333333333333333,
              "#9c179e"
             ],
             [
              0.4444444444444444,
              "#bd3786"
             ],
             [
              0.5555555555555556,
              "#d8576b"
             ],
             [
              0.6666666666666666,
              "#ed7953"
             ],
             [
              0.7777777777777778,
              "#fb9f3a"
             ],
             [
              0.8888888888888888,
              "#fdca26"
             ],
             [
              1,
              "#f0f921"
             ]
            ],
            "type": "contour"
           }
          ],
          "contourcarpet": [
           {
            "colorbar": {
             "outlinewidth": 0,
             "ticks": ""
            },
            "type": "contourcarpet"
           }
          ],
          "heatmap": [
           {
            "colorbar": {
             "outlinewidth": 0,
             "ticks": ""
            },
            "colorscale": [
             [
              0,
              "#0d0887"
             ],
             [
              0.1111111111111111,
              "#46039f"
             ],
             [
              0.2222222222222222,
              "#7201a8"
             ],
             [
              0.3333333333333333,
              "#9c179e"
             ],
             [
              0.4444444444444444,
              "#bd3786"
             ],
             [
              0.5555555555555556,
              "#d8576b"
             ],
             [
              0.6666666666666666,
              "#ed7953"
             ],
             [
              0.7777777777777778,
              "#fb9f3a"
             ],
             [
              0.8888888888888888,
              "#fdca26"
             ],
             [
              1,
              "#f0f921"
             ]
            ],
            "type": "heatmap"
           }
          ],
          "heatmapgl": [
           {
            "colorbar": {
             "outlinewidth": 0,
             "ticks": ""
            },
            "colorscale": [
             [
              0,
              "#0d0887"
             ],
             [
              0.1111111111111111,
              "#46039f"
             ],
             [
              0.2222222222222222,
              "#7201a8"
             ],
             [
              0.3333333333333333,
              "#9c179e"
             ],
             [
              0.4444444444444444,
              "#bd3786"
             ],
             [
              0.5555555555555556,
              "#d8576b"
             ],
             [
              0.6666666666666666,
              "#ed7953"
             ],
             [
              0.7777777777777778,
              "#fb9f3a"
             ],
             [
              0.8888888888888888,
              "#fdca26"
             ],
             [
              1,
              "#f0f921"
             ]
            ],
            "type": "heatmapgl"
           }
          ],
          "histogram": [
           {
            "marker": {
             "colorbar": {
              "outlinewidth": 0,
              "ticks": ""
             }
            },
            "type": "histogram"
           }
          ],
          "histogram2d": [
           {
            "colorbar": {
             "outlinewidth": 0,
             "ticks": ""
            },
            "colorscale": [
             [
              0,
              "#0d0887"
             ],
             [
              0.1111111111111111,
              "#46039f"
             ],
             [
              0.2222222222222222,
              "#7201a8"
             ],
             [
              0.3333333333333333,
              "#9c179e"
             ],
             [
              0.4444444444444444,
              "#bd3786"
             ],
             [
              0.5555555555555556,
              "#d8576b"
             ],
             [
              0.6666666666666666,
              "#ed7953"
             ],
             [
              0.7777777777777778,
              "#fb9f3a"
             ],
             [
              0.8888888888888888,
              "#fdca26"
             ],
             [
              1,
              "#f0f921"
             ]
            ],
            "type": "histogram2d"
           }
          ],
          "histogram2dcontour": [
           {
            "colorbar": {
             "outlinewidth": 0,
             "ticks": ""
            },
            "colorscale": [
             [
              0,
              "#0d0887"
             ],
             [
              0.1111111111111111,
              "#46039f"
             ],
             [
              0.2222222222222222,
              "#7201a8"
             ],
             [
              0.3333333333333333,
              "#9c179e"
             ],
             [
              0.4444444444444444,
              "#bd3786"
             ],
             [
              0.5555555555555556,
              "#d8576b"
             ],
             [
              0.6666666666666666,
              "#ed7953"
             ],
             [
              0.7777777777777778,
              "#fb9f3a"
             ],
             [
              0.8888888888888888,
              "#fdca26"
             ],
             [
              1,
              "#f0f921"
             ]
            ],
            "type": "histogram2dcontour"
           }
          ],
          "mesh3d": [
           {
            "colorbar": {
             "outlinewidth": 0,
             "ticks": ""
            },
            "type": "mesh3d"
           }
          ],
          "parcoords": [
           {
            "line": {
             "colorbar": {
              "outlinewidth": 0,
              "ticks": ""
             }
            },
            "type": "parcoords"
           }
          ],
          "pie": [
           {
            "automargin": true,
            "type": "pie"
           }
          ],
          "scatter": [
           {
            "marker": {
             "colorbar": {
              "outlinewidth": 0,
              "ticks": ""
             }
            },
            "type": "scatter"
           }
          ],
          "scatter3d": [
           {
            "line": {
             "colorbar": {
              "outlinewidth": 0,
              "ticks": ""
             }
            },
            "marker": {
             "colorbar": {
              "outlinewidth": 0,
              "ticks": ""
             }
            },
            "type": "scatter3d"
           }
          ],
          "scattercarpet": [
           {
            "marker": {
             "colorbar": {
              "outlinewidth": 0,
              "ticks": ""
             }
            },
            "type": "scattercarpet"
           }
          ],
          "scattergeo": [
           {
            "marker": {
             "colorbar": {
              "outlinewidth": 0,
              "ticks": ""
             }
            },
            "type": "scattergeo"
           }
          ],
          "scattergl": [
           {
            "marker": {
             "colorbar": {
              "outlinewidth": 0,
              "ticks": ""
             }
            },
            "type": "scattergl"
           }
          ],
          "scattermapbox": [
           {
            "marker": {
             "colorbar": {
              "outlinewidth": 0,
              "ticks": ""
             }
            },
            "type": "scattermapbox"
           }
          ],
          "scatterpolar": [
           {
            "marker": {
             "colorbar": {
              "outlinewidth": 0,
              "ticks": ""
             }
            },
            "type": "scatterpolar"
           }
          ],
          "scatterpolargl": [
           {
            "marker": {
             "colorbar": {
              "outlinewidth": 0,
              "ticks": ""
             }
            },
            "type": "scatterpolargl"
           }
          ],
          "scatterternary": [
           {
            "marker": {
             "colorbar": {
              "outlinewidth": 0,
              "ticks": ""
             }
            },
            "type": "scatterternary"
           }
          ],
          "surface": [
           {
            "colorbar": {
             "outlinewidth": 0,
             "ticks": ""
            },
            "colorscale": [
             [
              0,
              "#0d0887"
             ],
             [
              0.1111111111111111,
              "#46039f"
             ],
             [
              0.2222222222222222,
              "#7201a8"
             ],
             [
              0.3333333333333333,
              "#9c179e"
             ],
             [
              0.4444444444444444,
              "#bd3786"
             ],
             [
              0.5555555555555556,
              "#d8576b"
             ],
             [
              0.6666666666666666,
              "#ed7953"
             ],
             [
              0.7777777777777778,
              "#fb9f3a"
             ],
             [
              0.8888888888888888,
              "#fdca26"
             ],
             [
              1,
              "#f0f921"
             ]
            ],
            "type": "surface"
           }
          ],
          "table": [
           {
            "cells": {
             "fill": {
              "color": "#EBF0F8"
             },
             "line": {
              "color": "white"
             }
            },
            "header": {
             "fill": {
              "color": "#C8D4E3"
             },
             "line": {
              "color": "white"
             }
            },
            "type": "table"
           }
          ]
         },
         "layout": {
          "annotationdefaults": {
           "arrowcolor": "#2a3f5f",
           "arrowhead": 0,
           "arrowwidth": 1
          },
          "coloraxis": {
           "colorbar": {
            "outlinewidth": 0,
            "ticks": ""
           }
          },
          "colorscale": {
           "diverging": [
            [
             0,
             "#8e0152"
            ],
            [
             0.1,
             "#c51b7d"
            ],
            [
             0.2,
             "#de77ae"
            ],
            [
             0.3,
             "#f1b6da"
            ],
            [
             0.4,
             "#fde0ef"
            ],
            [
             0.5,
             "#f7f7f7"
            ],
            [
             0.6,
             "#e6f5d0"
            ],
            [
             0.7,
             "#b8e186"
            ],
            [
             0.8,
             "#7fbc41"
            ],
            [
             0.9,
             "#4d9221"
            ],
            [
             1,
             "#276419"
            ]
           ],
           "sequential": [
            [
             0,
             "#0d0887"
            ],
            [
             0.1111111111111111,
             "#46039f"
            ],
            [
             0.2222222222222222,
             "#7201a8"
            ],
            [
             0.3333333333333333,
             "#9c179e"
            ],
            [
             0.4444444444444444,
             "#bd3786"
            ],
            [
             0.5555555555555556,
             "#d8576b"
            ],
            [
             0.6666666666666666,
             "#ed7953"
            ],
            [
             0.7777777777777778,
             "#fb9f3a"
            ],
            [
             0.8888888888888888,
             "#fdca26"
            ],
            [
             1,
             "#f0f921"
            ]
           ],
           "sequentialminus": [
            [
             0,
             "#0d0887"
            ],
            [
             0.1111111111111111,
             "#46039f"
            ],
            [
             0.2222222222222222,
             "#7201a8"
            ],
            [
             0.3333333333333333,
             "#9c179e"
            ],
            [
             0.4444444444444444,
             "#bd3786"
            ],
            [
             0.5555555555555556,
             "#d8576b"
            ],
            [
             0.6666666666666666,
             "#ed7953"
            ],
            [
             0.7777777777777778,
             "#fb9f3a"
            ],
            [
             0.8888888888888888,
             "#fdca26"
            ],
            [
             1,
             "#f0f921"
            ]
           ]
          },
          "colorway": [
           "#636efa",
           "#EF553B",
           "#00cc96",
           "#ab63fa",
           "#FFA15A",
           "#19d3f3",
           "#FF6692",
           "#B6E880",
           "#FF97FF",
           "#FECB52"
          ],
          "font": {
           "color": "#2a3f5f"
          },
          "geo": {
           "bgcolor": "white",
           "lakecolor": "white",
           "landcolor": "#E5ECF6",
           "showlakes": true,
           "showland": true,
           "subunitcolor": "white"
          },
          "hoverlabel": {
           "align": "left"
          },
          "hovermode": "closest",
          "mapbox": {
           "style": "light"
          },
          "paper_bgcolor": "white",
          "plot_bgcolor": "#E5ECF6",
          "polar": {
           "angularaxis": {
            "gridcolor": "white",
            "linecolor": "white",
            "ticks": ""
           },
           "bgcolor": "#E5ECF6",
           "radialaxis": {
            "gridcolor": "white",
            "linecolor": "white",
            "ticks": ""
           }
          },
          "scene": {
           "xaxis": {
            "backgroundcolor": "#E5ECF6",
            "gridcolor": "white",
            "gridwidth": 2,
            "linecolor": "white",
            "showbackground": true,
            "ticks": "",
            "zerolinecolor": "white"
           },
           "yaxis": {
            "backgroundcolor": "#E5ECF6",
            "gridcolor": "white",
            "gridwidth": 2,
            "linecolor": "white",
            "showbackground": true,
            "ticks": "",
            "zerolinecolor": "white"
           },
           "zaxis": {
            "backgroundcolor": "#E5ECF6",
            "gridcolor": "white",
            "gridwidth": 2,
            "linecolor": "white",
            "showbackground": true,
            "ticks": "",
            "zerolinecolor": "white"
           }
          },
          "shapedefaults": {
           "line": {
            "color": "#2a3f5f"
           }
          },
          "ternary": {
           "aaxis": {
            "gridcolor": "white",
            "linecolor": "white",
            "ticks": ""
           },
           "baxis": {
            "gridcolor": "white",
            "linecolor": "white",
            "ticks": ""
           },
           "bgcolor": "#E5ECF6",
           "caxis": {
            "gridcolor": "white",
            "linecolor": "white",
            "ticks": ""
           }
          },
          "title": {
           "x": 0.05
          },
          "xaxis": {
           "automargin": true,
           "gridcolor": "white",
           "linecolor": "white",
           "ticks": "",
           "title": {
            "standoff": 15
           },
           "zerolinecolor": "white",
           "zerolinewidth": 2
          },
          "yaxis": {
           "automargin": true,
           "gridcolor": "white",
           "linecolor": "white",
           "ticks": "",
           "title": {
            "standoff": 15
           },
           "zerolinecolor": "white",
           "zerolinewidth": 2
          }
         }
        },
        "title": {
         "font": {
          "color": "#4D5663"
         }
        },
        "xaxis": {
         "gridcolor": "#E1E5ED",
         "showgrid": true,
         "tickfont": {
          "color": "#4D5663"
         },
         "title": {
          "font": {
           "color": "#4D5663"
          },
          "text": ""
         },
         "zerolinecolor": "#E1E5ED"
        },
        "yaxis": {
         "gridcolor": "#E1E5ED",
         "showgrid": true,
         "tickfont": {
          "color": "#4D5663"
         },
         "title": {
          "font": {
           "color": "#4D5663"
          },
          "text": ""
         },
         "zerolinecolor": "#E1E5ED"
        }
       }
      },
      "text/html": [
       "<div>\n",
       "        \n",
       "        \n",
       "            <div id=\"8e062823-da98-4633-afe2-ab37eccdf255\" class=\"plotly-graph-div\" style=\"height:525px; width:100%;\"></div>\n",
       "            <script type=\"text/javascript\">\n",
       "                require([\"plotly\"], function(Plotly) {\n",
       "                    window.PLOTLYENV=window.PLOTLYENV || {};\n",
       "                    window.PLOTLYENV.BASE_URL='https://plot.ly';\n",
       "                    \n",
       "                if (document.getElementById(\"8e062823-da98-4633-afe2-ab37eccdf255\")) {\n",
       "                    Plotly.newPlot(\n",
       "                        '8e062823-da98-4633-afe2-ab37eccdf255',\n",
       "                        [{\"histfunc\": \"count\", \"histnorm\": \"\", \"marker\": {\"color\": \"rgba(255, 153, 51, 1.0)\", \"line\": {\"color\": \"#4D5663\", \"width\": 1.3}}, \"name\": \"A\", \"opacity\": 0.8, \"orientation\": \"v\", \"type\": \"histogram\", \"x\": [1.5023563012055845, 0.4087626388893659, 1.5993197844213576, -0.5215118809744652, 1.5681236600191981, 0.7468356261210932, -0.749310641952968, 0.1159935148313741, 0.22045916587711767, -0.4550011729283677, 0.8563933097341867, -2.066795909564812, -0.38285290167817404, 0.01900787684381683, -0.12630271810268817, 0.5680388021904351, 1.14854911597069, 0.6436069259066923, 0.13859935383240438, -0.4956911855443848, 0.4836194286327407, -1.2764417035087179, -0.5398190900873907, 0.5796992019373896, -0.6037038043213754, 0.7253532286953808, 0.6834182495980821, -2.8845872018457897, 1.0233482449319187, -2.552401535794378, 2.3124239629877583, -0.8127401942686726, -0.23445084013367548, -0.6759192578683721, -2.5062077810487255, -1.2244355783037433, 0.6694110332929116, -0.0034276115223639343, 0.03204469823716342, -0.648084262291826, 2.5628246207053778, 0.9000009050597508, 0.7517099499732545, 1.2007637923291639, -1.9465668851371996, -2.413766407744819, -0.05082089573082934, 1.207415735066595, -0.3835094510702304, 0.5221421859827696, -0.5248958874051288, 0.24619873930310585, 0.5677610344566094, -0.4866092245561927, -0.7416586364234559, 0.24855280589543127, 1.2144044039988526, -0.14093054717060302, 0.2963349236939744, -0.4291217100089392, 1.1491732439347566, -0.5216591508755286, 1.31822530500963, -0.47105727955537935, -0.40446633360902595, 2.1459042895302747, 0.6334555504966481, 0.4176419554202106, -1.0273773683227392, 1.1263431197506402, 0.10469582241142089, -0.5906651009155758, -0.45518656697518617, 1.3026059396663974, 0.7571755070928892, 0.10743952906925054, 2.0706685836531564, 0.5559870929964155, 2.380054547983395, -0.39070598757151437, 1.16309570735863, 0.53168218102069, 0.5568769817666138, 0.39298936796065026, 0.7338227726831591, 0.5032917926801018, -0.5716134754818609, 1.286383898901556, 0.025648738117446, 0.5157472248880189, -0.5104493617558568, -0.4733753767654713, 0.36745876642344916, 1.3072126283906071, 0.35925235054705673, 0.3793647207507, -0.21779341066885025, -0.5505938066317233, -0.5936228067274162, -0.18854451853239493]}],\n",
       "                        {\"barmode\": \"overlay\", \"legend\": {\"bgcolor\": \"#F5F6F9\", \"font\": {\"color\": \"#4D5663\"}}, \"paper_bgcolor\": \"#F5F6F9\", \"plot_bgcolor\": \"#F5F6F9\", \"template\": {\"data\": {\"bar\": [{\"error_x\": {\"color\": \"#2a3f5f\"}, \"error_y\": {\"color\": \"#2a3f5f\"}, \"marker\": {\"line\": {\"color\": \"#E5ECF6\", \"width\": 0.5}}, \"type\": \"bar\"}], \"barpolar\": [{\"marker\": {\"line\": {\"color\": \"#E5ECF6\", \"width\": 0.5}}, \"type\": \"barpolar\"}], \"carpet\": [{\"aaxis\": {\"endlinecolor\": \"#2a3f5f\", \"gridcolor\": \"white\", \"linecolor\": \"white\", \"minorgridcolor\": \"white\", \"startlinecolor\": \"#2a3f5f\"}, \"baxis\": {\"endlinecolor\": \"#2a3f5f\", \"gridcolor\": \"white\", \"linecolor\": \"white\", \"minorgridcolor\": \"white\", \"startlinecolor\": \"#2a3f5f\"}, \"type\": \"carpet\"}], \"choropleth\": [{\"colorbar\": {\"outlinewidth\": 0, \"ticks\": \"\"}, \"type\": \"choropleth\"}], \"contour\": [{\"colorbar\": {\"outlinewidth\": 0, \"ticks\": \"\"}, \"colorscale\": [[0.0, \"#0d0887\"], [0.1111111111111111, \"#46039f\"], [0.2222222222222222, \"#7201a8\"], [0.3333333333333333, \"#9c179e\"], [0.4444444444444444, \"#bd3786\"], [0.5555555555555556, \"#d8576b\"], [0.6666666666666666, \"#ed7953\"], [0.7777777777777778, \"#fb9f3a\"], [0.8888888888888888, \"#fdca26\"], [1.0, \"#f0f921\"]], \"type\": \"contour\"}], \"contourcarpet\": [{\"colorbar\": {\"outlinewidth\": 0, \"ticks\": \"\"}, \"type\": \"contourcarpet\"}], \"heatmap\": [{\"colorbar\": {\"outlinewidth\": 0, \"ticks\": \"\"}, \"colorscale\": [[0.0, \"#0d0887\"], [0.1111111111111111, \"#46039f\"], [0.2222222222222222, \"#7201a8\"], [0.3333333333333333, \"#9c179e\"], [0.4444444444444444, \"#bd3786\"], [0.5555555555555556, \"#d8576b\"], [0.6666666666666666, \"#ed7953\"], [0.7777777777777778, \"#fb9f3a\"], [0.8888888888888888, \"#fdca26\"], [1.0, \"#f0f921\"]], \"type\": \"heatmap\"}], \"heatmapgl\": [{\"colorbar\": {\"outlinewidth\": 0, \"ticks\": \"\"}, \"colorscale\": [[0.0, \"#0d0887\"], [0.1111111111111111, \"#46039f\"], [0.2222222222222222, \"#7201a8\"], [0.3333333333333333, \"#9c179e\"], [0.4444444444444444, \"#bd3786\"], [0.5555555555555556, \"#d8576b\"], [0.6666666666666666, \"#ed7953\"], [0.7777777777777778, \"#fb9f3a\"], [0.8888888888888888, \"#fdca26\"], [1.0, \"#f0f921\"]], \"type\": \"heatmapgl\"}], \"histogram\": [{\"marker\": {\"colorbar\": {\"outlinewidth\": 0, \"ticks\": \"\"}}, \"type\": \"histogram\"}], \"histogram2d\": [{\"colorbar\": {\"outlinewidth\": 0, \"ticks\": \"\"}, \"colorscale\": [[0.0, \"#0d0887\"], [0.1111111111111111, \"#46039f\"], [0.2222222222222222, \"#7201a8\"], [0.3333333333333333, \"#9c179e\"], [0.4444444444444444, \"#bd3786\"], [0.5555555555555556, \"#d8576b\"], [0.6666666666666666, \"#ed7953\"], [0.7777777777777778, \"#fb9f3a\"], [0.8888888888888888, \"#fdca26\"], [1.0, \"#f0f921\"]], \"type\": \"histogram2d\"}], \"histogram2dcontour\": [{\"colorbar\": {\"outlinewidth\": 0, \"ticks\": \"\"}, \"colorscale\": [[0.0, \"#0d0887\"], [0.1111111111111111, \"#46039f\"], [0.2222222222222222, \"#7201a8\"], [0.3333333333333333, \"#9c179e\"], [0.4444444444444444, \"#bd3786\"], [0.5555555555555556, \"#d8576b\"], [0.6666666666666666, \"#ed7953\"], [0.7777777777777778, \"#fb9f3a\"], [0.8888888888888888, \"#fdca26\"], [1.0, \"#f0f921\"]], \"type\": \"histogram2dcontour\"}], \"mesh3d\": [{\"colorbar\": {\"outlinewidth\": 0, \"ticks\": \"\"}, \"type\": \"mesh3d\"}], \"parcoords\": [{\"line\": {\"colorbar\": {\"outlinewidth\": 0, \"ticks\": \"\"}}, \"type\": \"parcoords\"}], \"pie\": [{\"automargin\": true, \"type\": \"pie\"}], \"scatter\": [{\"marker\": {\"colorbar\": {\"outlinewidth\": 0, \"ticks\": \"\"}}, \"type\": \"scatter\"}], \"scatter3d\": [{\"line\": {\"colorbar\": {\"outlinewidth\": 0, \"ticks\": \"\"}}, \"marker\": {\"colorbar\": {\"outlinewidth\": 0, \"ticks\": \"\"}}, \"type\": \"scatter3d\"}], \"scattercarpet\": [{\"marker\": {\"colorbar\": {\"outlinewidth\": 0, \"ticks\": \"\"}}, \"type\": \"scattercarpet\"}], \"scattergeo\": [{\"marker\": {\"colorbar\": {\"outlinewidth\": 0, \"ticks\": \"\"}}, \"type\": \"scattergeo\"}], \"scattergl\": [{\"marker\": {\"colorbar\": {\"outlinewidth\": 0, \"ticks\": \"\"}}, \"type\": \"scattergl\"}], \"scattermapbox\": [{\"marker\": {\"colorbar\": {\"outlinewidth\": 0, \"ticks\": \"\"}}, \"type\": \"scattermapbox\"}], \"scatterpolar\": [{\"marker\": {\"colorbar\": {\"outlinewidth\": 0, \"ticks\": \"\"}}, \"type\": \"scatterpolar\"}], \"scatterpolargl\": [{\"marker\": {\"colorbar\": {\"outlinewidth\": 0, \"ticks\": \"\"}}, \"type\": \"scatterpolargl\"}], \"scatterternary\": [{\"marker\": {\"colorbar\": {\"outlinewidth\": 0, \"ticks\": \"\"}}, \"type\": \"scatterternary\"}], \"surface\": [{\"colorbar\": {\"outlinewidth\": 0, \"ticks\": \"\"}, \"colorscale\": [[0.0, \"#0d0887\"], [0.1111111111111111, \"#46039f\"], [0.2222222222222222, \"#7201a8\"], [0.3333333333333333, \"#9c179e\"], [0.4444444444444444, \"#bd3786\"], [0.5555555555555556, \"#d8576b\"], [0.6666666666666666, \"#ed7953\"], [0.7777777777777778, \"#fb9f3a\"], [0.8888888888888888, \"#fdca26\"], [1.0, \"#f0f921\"]], \"type\": \"surface\"}], \"table\": [{\"cells\": {\"fill\": {\"color\": \"#EBF0F8\"}, \"line\": {\"color\": \"white\"}}, \"header\": {\"fill\": {\"color\": \"#C8D4E3\"}, \"line\": {\"color\": \"white\"}}, \"type\": \"table\"}]}, \"layout\": {\"annotationdefaults\": {\"arrowcolor\": \"#2a3f5f\", \"arrowhead\": 0, \"arrowwidth\": 1}, \"coloraxis\": {\"colorbar\": {\"outlinewidth\": 0, \"ticks\": \"\"}}, \"colorscale\": {\"diverging\": [[0, \"#8e0152\"], [0.1, \"#c51b7d\"], [0.2, \"#de77ae\"], [0.3, \"#f1b6da\"], [0.4, \"#fde0ef\"], [0.5, \"#f7f7f7\"], [0.6, \"#e6f5d0\"], [0.7, \"#b8e186\"], [0.8, \"#7fbc41\"], [0.9, \"#4d9221\"], [1, \"#276419\"]], \"sequential\": [[0.0, \"#0d0887\"], [0.1111111111111111, \"#46039f\"], [0.2222222222222222, \"#7201a8\"], [0.3333333333333333, \"#9c179e\"], [0.4444444444444444, \"#bd3786\"], [0.5555555555555556, \"#d8576b\"], [0.6666666666666666, \"#ed7953\"], [0.7777777777777778, \"#fb9f3a\"], [0.8888888888888888, \"#fdca26\"], [1.0, \"#f0f921\"]], \"sequentialminus\": [[0.0, \"#0d0887\"], [0.1111111111111111, \"#46039f\"], [0.2222222222222222, \"#7201a8\"], [0.3333333333333333, \"#9c179e\"], [0.4444444444444444, \"#bd3786\"], [0.5555555555555556, \"#d8576b\"], [0.6666666666666666, \"#ed7953\"], [0.7777777777777778, \"#fb9f3a\"], [0.8888888888888888, \"#fdca26\"], [1.0, \"#f0f921\"]]}, \"colorway\": [\"#636efa\", \"#EF553B\", \"#00cc96\", \"#ab63fa\", \"#FFA15A\", \"#19d3f3\", \"#FF6692\", \"#B6E880\", \"#FF97FF\", \"#FECB52\"], \"font\": {\"color\": \"#2a3f5f\"}, \"geo\": {\"bgcolor\": \"white\", \"lakecolor\": \"white\", \"landcolor\": \"#E5ECF6\", \"showlakes\": true, \"showland\": true, \"subunitcolor\": \"white\"}, \"hoverlabel\": {\"align\": \"left\"}, \"hovermode\": \"closest\", \"mapbox\": {\"style\": \"light\"}, \"paper_bgcolor\": \"white\", \"plot_bgcolor\": \"#E5ECF6\", \"polar\": {\"angularaxis\": {\"gridcolor\": \"white\", \"linecolor\": \"white\", \"ticks\": \"\"}, \"bgcolor\": \"#E5ECF6\", \"radialaxis\": {\"gridcolor\": \"white\", \"linecolor\": \"white\", \"ticks\": \"\"}}, \"scene\": {\"xaxis\": {\"backgroundcolor\": \"#E5ECF6\", \"gridcolor\": \"white\", \"gridwidth\": 2, \"linecolor\": \"white\", \"showbackground\": true, \"ticks\": \"\", \"zerolinecolor\": \"white\"}, \"yaxis\": {\"backgroundcolor\": \"#E5ECF6\", \"gridcolor\": \"white\", \"gridwidth\": 2, \"linecolor\": \"white\", \"showbackground\": true, \"ticks\": \"\", \"zerolinecolor\": \"white\"}, \"zaxis\": {\"backgroundcolor\": \"#E5ECF6\", \"gridcolor\": \"white\", \"gridwidth\": 2, \"linecolor\": \"white\", \"showbackground\": true, \"ticks\": \"\", \"zerolinecolor\": \"white\"}}, \"shapedefaults\": {\"line\": {\"color\": \"#2a3f5f\"}}, \"ternary\": {\"aaxis\": {\"gridcolor\": \"white\", \"linecolor\": \"white\", \"ticks\": \"\"}, \"baxis\": {\"gridcolor\": \"white\", \"linecolor\": \"white\", \"ticks\": \"\"}, \"bgcolor\": \"#E5ECF6\", \"caxis\": {\"gridcolor\": \"white\", \"linecolor\": \"white\", \"ticks\": \"\"}}, \"title\": {\"x\": 0.05}, \"xaxis\": {\"automargin\": true, \"gridcolor\": \"white\", \"linecolor\": \"white\", \"ticks\": \"\", \"title\": {\"standoff\": 15}, \"zerolinecolor\": \"white\", \"zerolinewidth\": 2}, \"yaxis\": {\"automargin\": true, \"gridcolor\": \"white\", \"linecolor\": \"white\", \"ticks\": \"\", \"title\": {\"standoff\": 15}, \"zerolinecolor\": \"white\", \"zerolinewidth\": 2}}}, \"title\": {\"font\": {\"color\": \"#4D5663\"}}, \"xaxis\": {\"gridcolor\": \"#E1E5ED\", \"showgrid\": true, \"tickfont\": {\"color\": \"#4D5663\"}, \"title\": {\"font\": {\"color\": \"#4D5663\"}, \"text\": \"\"}, \"zerolinecolor\": \"#E1E5ED\"}, \"yaxis\": {\"gridcolor\": \"#E1E5ED\", \"showgrid\": true, \"tickfont\": {\"color\": \"#4D5663\"}, \"title\": {\"font\": {\"color\": \"#4D5663\"}, \"text\": \"\"}, \"zerolinecolor\": \"#E1E5ED\"}},\n",
       "                        {\"showLink\": true, \"linkText\": \"Export to plot.ly\", \"plotlyServerURL\": \"https://plot.ly\", \"responsive\": true}\n",
       "                    ).then(function(){\n",
       "                            \n",
       "var gd = document.getElementById('8e062823-da98-4633-afe2-ab37eccdf255');\n",
       "var x = new MutationObserver(function (mutations, observer) {{\n",
       "        var display = window.getComputedStyle(gd).display;\n",
       "        if (!display || display === 'none') {{\n",
       "            console.log([gd, 'removed!']);\n",
       "            Plotly.purge(gd);\n",
       "            observer.disconnect();\n",
       "        }}\n",
       "}});\n",
       "\n",
       "// Listen for the removal of the full notebook cells\n",
       "var notebookContainer = gd.closest('#notebook-container');\n",
       "if (notebookContainer) {{\n",
       "    x.observe(notebookContainer, {childList: true});\n",
       "}}\n",
       "\n",
       "// Listen for the clearing of the current output cell\n",
       "var outputEl = gd.closest('.output');\n",
       "if (outputEl) {{\n",
       "    x.observe(outputEl, {childList: true});\n",
       "}}\n",
       "\n",
       "                        })\n",
       "                };\n",
       "                });\n",
       "            </script>\n",
       "        </div>"
      ]
     },
     "metadata": {},
     "output_type": "display_data"
    }
   ],
   "source": [
    "df['A'].iplot(kind='hist')"
   ]
  },
  {
   "cell_type": "code",
   "execution_count": 31,
   "metadata": {},
   "outputs": [
    {
     "data": {
      "application/vnd.plotly.v1+json": {
       "config": {
        "linkText": "Export to plot.ly",
        "plotlyServerURL": "https://plot.ly",
        "showLink": true
       },
       "data": [
        {
         "histfunc": "count",
         "histnorm": "",
         "marker": {
          "color": "rgba(255, 153, 51, 1.0)",
          "line": {
           "color": "#4D5663",
           "width": 1.3
          }
         },
         "name": "A",
         "opacity": 0.8,
         "orientation": "v",
         "type": "histogram",
         "x": [
          1.5023563012055845,
          0.4087626388893659,
          1.5993197844213576,
          -0.5215118809744652,
          1.5681236600191981,
          0.7468356261210932,
          -0.749310641952968,
          0.1159935148313741,
          0.22045916587711767,
          -0.4550011729283677,
          0.8563933097341867,
          -2.066795909564812,
          -0.38285290167817404,
          0.01900787684381683,
          -0.12630271810268817,
          0.5680388021904351,
          1.14854911597069,
          0.6436069259066923,
          0.13859935383240438,
          -0.4956911855443848,
          0.4836194286327407,
          -1.2764417035087179,
          -0.5398190900873907,
          0.5796992019373896,
          -0.6037038043213754,
          0.7253532286953808,
          0.6834182495980821,
          -2.8845872018457897,
          1.0233482449319187,
          -2.552401535794378,
          2.3124239629877583,
          -0.8127401942686726,
          -0.23445084013367548,
          -0.6759192578683721,
          -2.5062077810487255,
          -1.2244355783037433,
          0.6694110332929116,
          -0.0034276115223639343,
          0.03204469823716342,
          -0.648084262291826,
          2.5628246207053778,
          0.9000009050597508,
          0.7517099499732545,
          1.2007637923291639,
          -1.9465668851371996,
          -2.413766407744819,
          -0.05082089573082934,
          1.207415735066595,
          -0.3835094510702304,
          0.5221421859827696,
          -0.5248958874051288,
          0.24619873930310585,
          0.5677610344566094,
          -0.4866092245561927,
          -0.7416586364234559,
          0.24855280589543127,
          1.2144044039988526,
          -0.14093054717060302,
          0.2963349236939744,
          -0.4291217100089392,
          1.1491732439347566,
          -0.5216591508755286,
          1.31822530500963,
          -0.47105727955537935,
          -0.40446633360902595,
          2.1459042895302747,
          0.6334555504966481,
          0.4176419554202106,
          -1.0273773683227392,
          1.1263431197506402,
          0.10469582241142089,
          -0.5906651009155758,
          -0.45518656697518617,
          1.3026059396663974,
          0.7571755070928892,
          0.10743952906925054,
          2.0706685836531564,
          0.5559870929964155,
          2.380054547983395,
          -0.39070598757151437,
          1.16309570735863,
          0.53168218102069,
          0.5568769817666138,
          0.39298936796065026,
          0.7338227726831591,
          0.5032917926801018,
          -0.5716134754818609,
          1.286383898901556,
          0.025648738117446,
          0.5157472248880189,
          -0.5104493617558568,
          -0.4733753767654713,
          0.36745876642344916,
          1.3072126283906071,
          0.35925235054705673,
          0.3793647207507,
          -0.21779341066885025,
          -0.5505938066317233,
          -0.5936228067274162,
          -0.18854451853239493
         ]
        },
        {
         "histfunc": "count",
         "histnorm": "",
         "marker": {
          "color": "rgba(55, 128, 191, 1.0)",
          "line": {
           "color": "#4D5663",
           "width": 1.3
          }
         },
         "name": "B",
         "opacity": 0.8,
         "orientation": "v",
         "type": "histogram",
         "x": [
          -0.1412993310039659,
          0.11155348249657292,
          1.7453199674605695,
          -0.814399733552155,
          0.6214554653204177,
          -0.8935622081683393,
          0.7423908327196167,
          0.08876231792153962,
          0.40884368254280434,
          1.5231546429751541,
          -0.5038028339596781,
          1.277663239880953,
          1.9315664231705278,
          1.2882374316313956,
          -0.814476238152969,
          -2.0472988868964954,
          -1.1619809357848054,
          -0.6020708574357105,
          -0.4172171560670958,
          0.5656423397142257,
          -0.4422039548072374,
          1.6173040675324941,
          0.6934044898267794,
          -0.4948009086882394,
          -0.7040470246206365,
          -1.9134367284968632,
          0.7383244841914276,
          -1.1883843708189352,
          0.30363915459858953,
          0.2776451954473241,
          -0.7165225765471165,
          1.0077314628934022,
          -0.4603279365194043,
          0.38373042738479957,
          -0.518952600073326,
          -1.4636786992458364,
          0.7476083884716154,
          0.31237621371744645,
          1.1441291559955,
          -0.13738132300664588,
          0.2917094591812687,
          -0.5435138932574668,
          -0.09764547059440395,
          -0.8543035432170192,
          -1.694606999440116,
          0.6872321801985894,
          -0.3105771583046316,
          -0.14628769666578054,
          -1.2645444232569238,
          1.3221177881297856,
          -0.06864973864910799,
          0.5369862529725257,
          0.20434322894119525,
          0.9269791155272793,
          -0.10772717371906558,
          0.6636624429782333,
          -1.1341086710570782,
          0.7112881367396519,
          -0.24585306295182344,
          2.7491305879931875,
          -0.9081798223062961,
          -0.9157857216788398,
          -0.008619830977527013,
          0.4968473874841331,
          -0.5343255676597688,
          0.2855137060759064,
          0.6117559359156879,
          -2.446379280416086,
          0.33071812904434594,
          -1.071280221455606,
          0.685618779079314,
          1.4672553004235602,
          -0.3727388594504119,
          -0.09291567551181286,
          -0.34523412406140225,
          -0.05274550962737803,
          0.04654323576000232,
          0.2916776854652369,
          0.963598536755656,
          0.4654431727575727,
          0.19669889726716824,
          -0.7242027558405483,
          -0.7113448412421286,
          -0.21696242004052127,
          -0.6539765540211312,
          -1.9236864401903981,
          1.0149705541185587,
          1.0646071027030528,
          -0.9559870634609606,
          0.46215740722226095,
          -0.5700862496512421,
          0.5363637562177255,
          -1.0839231569328327,
          0.5562315410374225,
          -0.7832219667339138,
          0.4841939952459761,
          -2.3192789416549995,
          -1.4624996532320187,
          -0.31539742955163974,
          0.07762935312683132
         ]
        },
        {
         "histfunc": "count",
         "histnorm": "",
         "marker": {
          "color": "rgba(50, 171, 96, 1.0)",
          "line": {
           "color": "#4D5663",
           "width": 1.3
          }
         },
         "name": "C",
         "opacity": 0.8,
         "orientation": "v",
         "type": "histogram",
         "x": [
          0.4060127339438663,
          -0.7982496783697365,
          1.123601971839627,
          0.4058048602297246,
          0.2745561016720758,
          0.027475844105220772,
          -0.22383021302281453,
          -0.39387936056102335,
          0.46958773686681554,
          1.0318532728612242,
          -0.24670914055786855,
          -0.6158092236253605,
          0.3357316529625056,
          0.33549334879556586,
          -0.3420057984448994,
          -0.5729067470502307,
          0.944555988637591,
          1.6466709364637417,
          -0.6046253611903157,
          1.1164169657669007,
          -0.20836647515525453,
          -0.3251835589694398,
          -1.2223825639379888,
          0.9111127533544581,
          0.7714510155383001,
          -0.11910029332390273,
          0.6925253498084671,
          0.761678498587015,
          -0.21122116515593753,
          -1.8911317407454065,
          -0.6477421966041468,
          1.746998679272337,
          -1.7771617442088992,
          0.6549085009105307,
          1.4788993264746322,
          -0.5627472212555263,
          -0.9117802943654789,
          -0.044173489311235214,
          0.7799243277831824,
          -0.009326740102037481,
          -0.7202522194882793,
          -0.7240445885164354,
          0.49987218845528786,
          -0.19517962211662349,
          0.012250267699824213,
          -0.22559392376468862,
          -0.4808350357460893,
          -0.8198241736310934,
          0.19911254148027172,
          0.5290633506851798,
          0.2526330126879686,
          -0.9212198132849635,
          1.330206416841273,
          -1.3646681089815724,
          -0.8176747165637754,
          0.8453057646843333,
          -0.4028552804000192,
          -2.060148639010836,
          0.5812027839577867,
          0.11052420643035013,
          0.41282004544314155,
          -0.14089989297248323,
          1.45061283483238,
          0.18831388859592682,
          -1.1439882648437452,
          -1.1849927000093727,
          1.2413796077745642,
          -0.5577161325566812,
          -0.61933102563376,
          -1.037967425542334,
          -1.1119068495937685,
          -0.34404925965830496,
          -1.5708253521732911,
          -0.1744878934567653,
          -0.6375590559920541,
          -1.5414458738716459,
          0.919868277100258,
          1.0490659600613328,
          0.08470892651567892,
          -1.1117047344287596,
          0.07203519479416232,
          0.006055862150619064,
          1.2245168625491816,
          0.3591325369860431,
          -0.014752796925019226,
          0.9663004218908801,
          0.6340307723650775,
          1.1679323322976998,
          -0.8019974364914285,
          2.009899707838478,
          1.351686235098478,
          -0.16357633038026712,
          1.0467381976205765,
          -0.9884777911500046,
          -1.179242961599606,
          0.19637991258516102,
          0.02752192332194667,
          -0.4772929189208354,
          -1.2072566311627462,
          0.28531937373349664
         ]
        },
        {
         "histfunc": "count",
         "histnorm": "",
         "marker": {
          "color": "rgba(128, 0, 128, 1.0)",
          "line": {
           "color": "#4D5663",
           "width": 1.3
          }
         },
         "name": "D",
         "opacity": 0.8,
         "orientation": "v",
         "type": "histogram",
         "x": [
          -1.384133836883895,
          1.6279036565882115,
          -0.9299821435910816,
          0.35486494817093983,
          1.6290606005838537,
          0.8653327008822459,
          0.15013252944094518,
          0.28971818542358885,
          -0.6452317482474019,
          1.3151329392327118,
          -0.4601930499485809,
          0.01796751366341419,
          -0.2863077986587903,
          0.7221752593929269,
          1.1438494986725094,
          1.704750899635022,
          2.0255558584427145,
          0.4869696515487609,
          -0.7753590689761756,
          0.5894599802215743,
          -0.5099209544243769,
          0.971142453454226,
          1.4135296149222607,
          0.46368222120546493,
          -0.2099110424911986,
          0.8555892169194312,
          -0.8666033652100801,
          -0.2306133820653981,
          1.9089544676825587,
          0.48126067046847626,
          -0.6815478231682852,
          -0.7012394354255265,
          -0.4047358182565961,
          -1.0906657672931215,
          -0.5310813760482439,
          -1.1553728557319203,
          2.1544499479595145,
          0.21019983690878644,
          0.11648620825479883,
          -0.6736364979743092,
          0.43450673915401905,
          -0.98897228814661,
          -0.5665651061675469,
          1.6754808091110636,
          0.22626422636394813,
          0.07919047376157638,
          0.47646469707111916,
          0.314116725600217,
          1.0625187131973928,
          -0.2287637563650373,
          -0.08284518464672441,
          -0.8301973110501326,
          -0.4028005160347876,
          0.24672132353258178,
          0.15450240306366955,
          -0.8804013772595688,
          -0.7580135896092738,
          -1.7051536353409653,
          1.0626662974393108,
          0.2526824633221683,
          0.8340379444053333,
          0.14124629647157924,
          -0.49243382012914344,
          -0.9599076627068123,
          0.7149885906661986,
          0.4750175942064842,
          -0.5873964713638485,
          1.6930034548000927,
          -0.09315530497266254,
          0.710403964378997,
          -1.1932154200104725,
          -1.0562238516298499,
          -0.2690924803512119,
          0.49758681226637225,
          -1.0773982877105088,
          0.07911034291757471,
          -0.39902453071887745,
          1.0700856351960735,
          -1.057358139564738,
          0.37533863810957413,
          -2.84037344606979,
          -0.7091852096155062,
          -0.9566975881638045,
          0.35100423287660615,
          -1.4217070977134791,
          0.4182186974869994,
          0.15184097974894464,
          0.013448617348159643,
          0.3125613854661278,
          1.514216766439221,
          1.3523238006848513,
          -0.24663932645882697,
          1.0446188476433422,
          -0.8035903583066685,
          -0.8232789379519444,
          0.28646918218662437,
          -0.4371347569536695,
          -0.3411639230662988,
          -1.0645835371189294,
          0.7317930121637225
         ]
        }
       ],
       "layout": {
        "barmode": "overlay",
        "legend": {
         "bgcolor": "#F5F6F9",
         "font": {
          "color": "#4D5663"
         }
        },
        "paper_bgcolor": "#F5F6F9",
        "plot_bgcolor": "#F5F6F9",
        "template": {
         "data": {
          "bar": [
           {
            "error_x": {
             "color": "#2a3f5f"
            },
            "error_y": {
             "color": "#2a3f5f"
            },
            "marker": {
             "line": {
              "color": "#E5ECF6",
              "width": 0.5
             }
            },
            "type": "bar"
           }
          ],
          "barpolar": [
           {
            "marker": {
             "line": {
              "color": "#E5ECF6",
              "width": 0.5
             }
            },
            "type": "barpolar"
           }
          ],
          "carpet": [
           {
            "aaxis": {
             "endlinecolor": "#2a3f5f",
             "gridcolor": "white",
             "linecolor": "white",
             "minorgridcolor": "white",
             "startlinecolor": "#2a3f5f"
            },
            "baxis": {
             "endlinecolor": "#2a3f5f",
             "gridcolor": "white",
             "linecolor": "white",
             "minorgridcolor": "white",
             "startlinecolor": "#2a3f5f"
            },
            "type": "carpet"
           }
          ],
          "choropleth": [
           {
            "colorbar": {
             "outlinewidth": 0,
             "ticks": ""
            },
            "type": "choropleth"
           }
          ],
          "contour": [
           {
            "colorbar": {
             "outlinewidth": 0,
             "ticks": ""
            },
            "colorscale": [
             [
              0,
              "#0d0887"
             ],
             [
              0.1111111111111111,
              "#46039f"
             ],
             [
              0.2222222222222222,
              "#7201a8"
             ],
             [
              0.3333333333333333,
              "#9c179e"
             ],
             [
              0.4444444444444444,
              "#bd3786"
             ],
             [
              0.5555555555555556,
              "#d8576b"
             ],
             [
              0.6666666666666666,
              "#ed7953"
             ],
             [
              0.7777777777777778,
              "#fb9f3a"
             ],
             [
              0.8888888888888888,
              "#fdca26"
             ],
             [
              1,
              "#f0f921"
             ]
            ],
            "type": "contour"
           }
          ],
          "contourcarpet": [
           {
            "colorbar": {
             "outlinewidth": 0,
             "ticks": ""
            },
            "type": "contourcarpet"
           }
          ],
          "heatmap": [
           {
            "colorbar": {
             "outlinewidth": 0,
             "ticks": ""
            },
            "colorscale": [
             [
              0,
              "#0d0887"
             ],
             [
              0.1111111111111111,
              "#46039f"
             ],
             [
              0.2222222222222222,
              "#7201a8"
             ],
             [
              0.3333333333333333,
              "#9c179e"
             ],
             [
              0.4444444444444444,
              "#bd3786"
             ],
             [
              0.5555555555555556,
              "#d8576b"
             ],
             [
              0.6666666666666666,
              "#ed7953"
             ],
             [
              0.7777777777777778,
              "#fb9f3a"
             ],
             [
              0.8888888888888888,
              "#fdca26"
             ],
             [
              1,
              "#f0f921"
             ]
            ],
            "type": "heatmap"
           }
          ],
          "heatmapgl": [
           {
            "colorbar": {
             "outlinewidth": 0,
             "ticks": ""
            },
            "colorscale": [
             [
              0,
              "#0d0887"
             ],
             [
              0.1111111111111111,
              "#46039f"
             ],
             [
              0.2222222222222222,
              "#7201a8"
             ],
             [
              0.3333333333333333,
              "#9c179e"
             ],
             [
              0.4444444444444444,
              "#bd3786"
             ],
             [
              0.5555555555555556,
              "#d8576b"
             ],
             [
              0.6666666666666666,
              "#ed7953"
             ],
             [
              0.7777777777777778,
              "#fb9f3a"
             ],
             [
              0.8888888888888888,
              "#fdca26"
             ],
             [
              1,
              "#f0f921"
             ]
            ],
            "type": "heatmapgl"
           }
          ],
          "histogram": [
           {
            "marker": {
             "colorbar": {
              "outlinewidth": 0,
              "ticks": ""
             }
            },
            "type": "histogram"
           }
          ],
          "histogram2d": [
           {
            "colorbar": {
             "outlinewidth": 0,
             "ticks": ""
            },
            "colorscale": [
             [
              0,
              "#0d0887"
             ],
             [
              0.1111111111111111,
              "#46039f"
             ],
             [
              0.2222222222222222,
              "#7201a8"
             ],
             [
              0.3333333333333333,
              "#9c179e"
             ],
             [
              0.4444444444444444,
              "#bd3786"
             ],
             [
              0.5555555555555556,
              "#d8576b"
             ],
             [
              0.6666666666666666,
              "#ed7953"
             ],
             [
              0.7777777777777778,
              "#fb9f3a"
             ],
             [
              0.8888888888888888,
              "#fdca26"
             ],
             [
              1,
              "#f0f921"
             ]
            ],
            "type": "histogram2d"
           }
          ],
          "histogram2dcontour": [
           {
            "colorbar": {
             "outlinewidth": 0,
             "ticks": ""
            },
            "colorscale": [
             [
              0,
              "#0d0887"
             ],
             [
              0.1111111111111111,
              "#46039f"
             ],
             [
              0.2222222222222222,
              "#7201a8"
             ],
             [
              0.3333333333333333,
              "#9c179e"
             ],
             [
              0.4444444444444444,
              "#bd3786"
             ],
             [
              0.5555555555555556,
              "#d8576b"
             ],
             [
              0.6666666666666666,
              "#ed7953"
             ],
             [
              0.7777777777777778,
              "#fb9f3a"
             ],
             [
              0.8888888888888888,
              "#fdca26"
             ],
             [
              1,
              "#f0f921"
             ]
            ],
            "type": "histogram2dcontour"
           }
          ],
          "mesh3d": [
           {
            "colorbar": {
             "outlinewidth": 0,
             "ticks": ""
            },
            "type": "mesh3d"
           }
          ],
          "parcoords": [
           {
            "line": {
             "colorbar": {
              "outlinewidth": 0,
              "ticks": ""
             }
            },
            "type": "parcoords"
           }
          ],
          "pie": [
           {
            "automargin": true,
            "type": "pie"
           }
          ],
          "scatter": [
           {
            "marker": {
             "colorbar": {
              "outlinewidth": 0,
              "ticks": ""
             }
            },
            "type": "scatter"
           }
          ],
          "scatter3d": [
           {
            "line": {
             "colorbar": {
              "outlinewidth": 0,
              "ticks": ""
             }
            },
            "marker": {
             "colorbar": {
              "outlinewidth": 0,
              "ticks": ""
             }
            },
            "type": "scatter3d"
           }
          ],
          "scattercarpet": [
           {
            "marker": {
             "colorbar": {
              "outlinewidth": 0,
              "ticks": ""
             }
            },
            "type": "scattercarpet"
           }
          ],
          "scattergeo": [
           {
            "marker": {
             "colorbar": {
              "outlinewidth": 0,
              "ticks": ""
             }
            },
            "type": "scattergeo"
           }
          ],
          "scattergl": [
           {
            "marker": {
             "colorbar": {
              "outlinewidth": 0,
              "ticks": ""
             }
            },
            "type": "scattergl"
           }
          ],
          "scattermapbox": [
           {
            "marker": {
             "colorbar": {
              "outlinewidth": 0,
              "ticks": ""
             }
            },
            "type": "scattermapbox"
           }
          ],
          "scatterpolar": [
           {
            "marker": {
             "colorbar": {
              "outlinewidth": 0,
              "ticks": ""
             }
            },
            "type": "scatterpolar"
           }
          ],
          "scatterpolargl": [
           {
            "marker": {
             "colorbar": {
              "outlinewidth": 0,
              "ticks": ""
             }
            },
            "type": "scatterpolargl"
           }
          ],
          "scatterternary": [
           {
            "marker": {
             "colorbar": {
              "outlinewidth": 0,
              "ticks": ""
             }
            },
            "type": "scatterternary"
           }
          ],
          "surface": [
           {
            "colorbar": {
             "outlinewidth": 0,
             "ticks": ""
            },
            "colorscale": [
             [
              0,
              "#0d0887"
             ],
             [
              0.1111111111111111,
              "#46039f"
             ],
             [
              0.2222222222222222,
              "#7201a8"
             ],
             [
              0.3333333333333333,
              "#9c179e"
             ],
             [
              0.4444444444444444,
              "#bd3786"
             ],
             [
              0.5555555555555556,
              "#d8576b"
             ],
             [
              0.6666666666666666,
              "#ed7953"
             ],
             [
              0.7777777777777778,
              "#fb9f3a"
             ],
             [
              0.8888888888888888,
              "#fdca26"
             ],
             [
              1,
              "#f0f921"
             ]
            ],
            "type": "surface"
           }
          ],
          "table": [
           {
            "cells": {
             "fill": {
              "color": "#EBF0F8"
             },
             "line": {
              "color": "white"
             }
            },
            "header": {
             "fill": {
              "color": "#C8D4E3"
             },
             "line": {
              "color": "white"
             }
            },
            "type": "table"
           }
          ]
         },
         "layout": {
          "annotationdefaults": {
           "arrowcolor": "#2a3f5f",
           "arrowhead": 0,
           "arrowwidth": 1
          },
          "coloraxis": {
           "colorbar": {
            "outlinewidth": 0,
            "ticks": ""
           }
          },
          "colorscale": {
           "diverging": [
            [
             0,
             "#8e0152"
            ],
            [
             0.1,
             "#c51b7d"
            ],
            [
             0.2,
             "#de77ae"
            ],
            [
             0.3,
             "#f1b6da"
            ],
            [
             0.4,
             "#fde0ef"
            ],
            [
             0.5,
             "#f7f7f7"
            ],
            [
             0.6,
             "#e6f5d0"
            ],
            [
             0.7,
             "#b8e186"
            ],
            [
             0.8,
             "#7fbc41"
            ],
            [
             0.9,
             "#4d9221"
            ],
            [
             1,
             "#276419"
            ]
           ],
           "sequential": [
            [
             0,
             "#0d0887"
            ],
            [
             0.1111111111111111,
             "#46039f"
            ],
            [
             0.2222222222222222,
             "#7201a8"
            ],
            [
             0.3333333333333333,
             "#9c179e"
            ],
            [
             0.4444444444444444,
             "#bd3786"
            ],
            [
             0.5555555555555556,
             "#d8576b"
            ],
            [
             0.6666666666666666,
             "#ed7953"
            ],
            [
             0.7777777777777778,
             "#fb9f3a"
            ],
            [
             0.8888888888888888,
             "#fdca26"
            ],
            [
             1,
             "#f0f921"
            ]
           ],
           "sequentialminus": [
            [
             0,
             "#0d0887"
            ],
            [
             0.1111111111111111,
             "#46039f"
            ],
            [
             0.2222222222222222,
             "#7201a8"
            ],
            [
             0.3333333333333333,
             "#9c179e"
            ],
            [
             0.4444444444444444,
             "#bd3786"
            ],
            [
             0.5555555555555556,
             "#d8576b"
            ],
            [
             0.6666666666666666,
             "#ed7953"
            ],
            [
             0.7777777777777778,
             "#fb9f3a"
            ],
            [
             0.8888888888888888,
             "#fdca26"
            ],
            [
             1,
             "#f0f921"
            ]
           ]
          },
          "colorway": [
           "#636efa",
           "#EF553B",
           "#00cc96",
           "#ab63fa",
           "#FFA15A",
           "#19d3f3",
           "#FF6692",
           "#B6E880",
           "#FF97FF",
           "#FECB52"
          ],
          "font": {
           "color": "#2a3f5f"
          },
          "geo": {
           "bgcolor": "white",
           "lakecolor": "white",
           "landcolor": "#E5ECF6",
           "showlakes": true,
           "showland": true,
           "subunitcolor": "white"
          },
          "hoverlabel": {
           "align": "left"
          },
          "hovermode": "closest",
          "mapbox": {
           "style": "light"
          },
          "paper_bgcolor": "white",
          "plot_bgcolor": "#E5ECF6",
          "polar": {
           "angularaxis": {
            "gridcolor": "white",
            "linecolor": "white",
            "ticks": ""
           },
           "bgcolor": "#E5ECF6",
           "radialaxis": {
            "gridcolor": "white",
            "linecolor": "white",
            "ticks": ""
           }
          },
          "scene": {
           "xaxis": {
            "backgroundcolor": "#E5ECF6",
            "gridcolor": "white",
            "gridwidth": 2,
            "linecolor": "white",
            "showbackground": true,
            "ticks": "",
            "zerolinecolor": "white"
           },
           "yaxis": {
            "backgroundcolor": "#E5ECF6",
            "gridcolor": "white",
            "gridwidth": 2,
            "linecolor": "white",
            "showbackground": true,
            "ticks": "",
            "zerolinecolor": "white"
           },
           "zaxis": {
            "backgroundcolor": "#E5ECF6",
            "gridcolor": "white",
            "gridwidth": 2,
            "linecolor": "white",
            "showbackground": true,
            "ticks": "",
            "zerolinecolor": "white"
           }
          },
          "shapedefaults": {
           "line": {
            "color": "#2a3f5f"
           }
          },
          "ternary": {
           "aaxis": {
            "gridcolor": "white",
            "linecolor": "white",
            "ticks": ""
           },
           "baxis": {
            "gridcolor": "white",
            "linecolor": "white",
            "ticks": ""
           },
           "bgcolor": "#E5ECF6",
           "caxis": {
            "gridcolor": "white",
            "linecolor": "white",
            "ticks": ""
           }
          },
          "title": {
           "x": 0.05
          },
          "xaxis": {
           "automargin": true,
           "gridcolor": "white",
           "linecolor": "white",
           "ticks": "",
           "title": {
            "standoff": 15
           },
           "zerolinecolor": "white",
           "zerolinewidth": 2
          },
          "yaxis": {
           "automargin": true,
           "gridcolor": "white",
           "linecolor": "white",
           "ticks": "",
           "title": {
            "standoff": 15
           },
           "zerolinecolor": "white",
           "zerolinewidth": 2
          }
         }
        },
        "title": {
         "font": {
          "color": "#4D5663"
         }
        },
        "xaxis": {
         "gridcolor": "#E1E5ED",
         "showgrid": true,
         "tickfont": {
          "color": "#4D5663"
         },
         "title": {
          "font": {
           "color": "#4D5663"
          },
          "text": ""
         },
         "zerolinecolor": "#E1E5ED"
        },
        "yaxis": {
         "gridcolor": "#E1E5ED",
         "showgrid": true,
         "tickfont": {
          "color": "#4D5663"
         },
         "title": {
          "font": {
           "color": "#4D5663"
          },
          "text": ""
         },
         "zerolinecolor": "#E1E5ED"
        }
       }
      },
      "text/html": [
       "<div>\n",
       "        \n",
       "        \n",
       "            <div id=\"3df47476-1d96-464b-b8b4-5787364a233d\" class=\"plotly-graph-div\" style=\"height:525px; width:100%;\"></div>\n",
       "            <script type=\"text/javascript\">\n",
       "                require([\"plotly\"], function(Plotly) {\n",
       "                    window.PLOTLYENV=window.PLOTLYENV || {};\n",
       "                    window.PLOTLYENV.BASE_URL='https://plot.ly';\n",
       "                    \n",
       "                if (document.getElementById(\"3df47476-1d96-464b-b8b4-5787364a233d\")) {\n",
       "                    Plotly.newPlot(\n",
       "                        '3df47476-1d96-464b-b8b4-5787364a233d',\n",
       "                        [{\"histfunc\": \"count\", \"histnorm\": \"\", \"marker\": {\"color\": \"rgba(255, 153, 51, 1.0)\", \"line\": {\"color\": \"#4D5663\", \"width\": 1.3}}, \"name\": \"A\", \"opacity\": 0.8, \"orientation\": \"v\", \"type\": \"histogram\", \"x\": [1.5023563012055845, 0.4087626388893659, 1.5993197844213576, -0.5215118809744652, 1.5681236600191981, 0.7468356261210932, -0.749310641952968, 0.1159935148313741, 0.22045916587711767, -0.4550011729283677, 0.8563933097341867, -2.066795909564812, -0.38285290167817404, 0.01900787684381683, -0.12630271810268817, 0.5680388021904351, 1.14854911597069, 0.6436069259066923, 0.13859935383240438, -0.4956911855443848, 0.4836194286327407, -1.2764417035087179, -0.5398190900873907, 0.5796992019373896, -0.6037038043213754, 0.7253532286953808, 0.6834182495980821, -2.8845872018457897, 1.0233482449319187, -2.552401535794378, 2.3124239629877583, -0.8127401942686726, -0.23445084013367548, -0.6759192578683721, -2.5062077810487255, -1.2244355783037433, 0.6694110332929116, -0.0034276115223639343, 0.03204469823716342, -0.648084262291826, 2.5628246207053778, 0.9000009050597508, 0.7517099499732545, 1.2007637923291639, -1.9465668851371996, -2.413766407744819, -0.05082089573082934, 1.207415735066595, -0.3835094510702304, 0.5221421859827696, -0.5248958874051288, 0.24619873930310585, 0.5677610344566094, -0.4866092245561927, -0.7416586364234559, 0.24855280589543127, 1.2144044039988526, -0.14093054717060302, 0.2963349236939744, -0.4291217100089392, 1.1491732439347566, -0.5216591508755286, 1.31822530500963, -0.47105727955537935, -0.40446633360902595, 2.1459042895302747, 0.6334555504966481, 0.4176419554202106, -1.0273773683227392, 1.1263431197506402, 0.10469582241142089, -0.5906651009155758, -0.45518656697518617, 1.3026059396663974, 0.7571755070928892, 0.10743952906925054, 2.0706685836531564, 0.5559870929964155, 2.380054547983395, -0.39070598757151437, 1.16309570735863, 0.53168218102069, 0.5568769817666138, 0.39298936796065026, 0.7338227726831591, 0.5032917926801018, -0.5716134754818609, 1.286383898901556, 0.025648738117446, 0.5157472248880189, -0.5104493617558568, -0.4733753767654713, 0.36745876642344916, 1.3072126283906071, 0.35925235054705673, 0.3793647207507, -0.21779341066885025, -0.5505938066317233, -0.5936228067274162, -0.18854451853239493]}, {\"histfunc\": \"count\", \"histnorm\": \"\", \"marker\": {\"color\": \"rgba(55, 128, 191, 1.0)\", \"line\": {\"color\": \"#4D5663\", \"width\": 1.3}}, \"name\": \"B\", \"opacity\": 0.8, \"orientation\": \"v\", \"type\": \"histogram\", \"x\": [-0.1412993310039659, 0.11155348249657292, 1.7453199674605695, -0.814399733552155, 0.6214554653204177, -0.8935622081683393, 0.7423908327196167, 0.08876231792153962, 0.40884368254280434, 1.5231546429751541, -0.5038028339596781, 1.277663239880953, 1.9315664231705278, 1.2882374316313956, -0.814476238152969, -2.0472988868964954, -1.1619809357848054, -0.6020708574357105, -0.4172171560670958, 0.5656423397142257, -0.4422039548072374, 1.6173040675324941, 0.6934044898267794, -0.4948009086882394, -0.7040470246206365, -1.9134367284968632, 0.7383244841914276, -1.1883843708189352, 0.30363915459858953, 0.2776451954473241, -0.7165225765471165, 1.0077314628934022, -0.4603279365194043, 0.38373042738479957, -0.518952600073326, -1.4636786992458364, 0.7476083884716154, 0.31237621371744645, 1.1441291559955, -0.13738132300664588, 0.2917094591812687, -0.5435138932574668, -0.09764547059440395, -0.8543035432170192, -1.694606999440116, 0.6872321801985894, -0.3105771583046316, -0.14628769666578054, -1.2645444232569238, 1.3221177881297856, -0.06864973864910799, 0.5369862529725257, 0.20434322894119525, 0.9269791155272793, -0.10772717371906558, 0.6636624429782333, -1.1341086710570782, 0.7112881367396519, -0.24585306295182344, 2.7491305879931875, -0.9081798223062961, -0.9157857216788398, -0.008619830977527013, 0.4968473874841331, -0.5343255676597688, 0.2855137060759064, 0.6117559359156879, -2.446379280416086, 0.33071812904434594, -1.071280221455606, 0.685618779079314, 1.4672553004235602, -0.3727388594504119, -0.09291567551181286, -0.34523412406140225, -0.05274550962737803, 0.04654323576000232, 0.2916776854652369, 0.963598536755656, 0.4654431727575727, 0.19669889726716824, -0.7242027558405483, -0.7113448412421286, -0.21696242004052127, -0.6539765540211312, -1.9236864401903981, 1.0149705541185587, 1.0646071027030528, -0.9559870634609606, 0.46215740722226095, -0.5700862496512421, 0.5363637562177255, -1.0839231569328327, 0.5562315410374225, -0.7832219667339138, 0.4841939952459761, -2.3192789416549995, -1.4624996532320187, -0.31539742955163974, 0.07762935312683132]}, {\"histfunc\": \"count\", \"histnorm\": \"\", \"marker\": {\"color\": \"rgba(50, 171, 96, 1.0)\", \"line\": {\"color\": \"#4D5663\", \"width\": 1.3}}, \"name\": \"C\", \"opacity\": 0.8, \"orientation\": \"v\", \"type\": \"histogram\", \"x\": [0.4060127339438663, -0.7982496783697365, 1.123601971839627, 0.4058048602297246, 0.2745561016720758, 0.027475844105220772, -0.22383021302281453, -0.39387936056102335, 0.46958773686681554, 1.0318532728612242, -0.24670914055786855, -0.6158092236253605, 0.3357316529625056, 0.33549334879556586, -0.3420057984448994, -0.5729067470502307, 0.944555988637591, 1.6466709364637417, -0.6046253611903157, 1.1164169657669007, -0.20836647515525453, -0.3251835589694398, -1.2223825639379888, 0.9111127533544581, 0.7714510155383001, -0.11910029332390273, 0.6925253498084671, 0.761678498587015, -0.21122116515593753, -1.8911317407454065, -0.6477421966041468, 1.746998679272337, -1.7771617442088992, 0.6549085009105307, 1.4788993264746322, -0.5627472212555263, -0.9117802943654789, -0.044173489311235214, 0.7799243277831824, -0.009326740102037481, -0.7202522194882793, -0.7240445885164354, 0.49987218845528786, -0.19517962211662349, 0.012250267699824213, -0.22559392376468862, -0.4808350357460893, -0.8198241736310934, 0.19911254148027172, 0.5290633506851798, 0.2526330126879686, -0.9212198132849635, 1.330206416841273, -1.3646681089815724, -0.8176747165637754, 0.8453057646843333, -0.4028552804000192, -2.060148639010836, 0.5812027839577867, 0.11052420643035013, 0.41282004544314155, -0.14089989297248323, 1.45061283483238, 0.18831388859592682, -1.1439882648437452, -1.1849927000093727, 1.2413796077745642, -0.5577161325566812, -0.61933102563376, -1.037967425542334, -1.1119068495937685, -0.34404925965830496, -1.5708253521732911, -0.1744878934567653, -0.6375590559920541, -1.5414458738716459, 0.919868277100258, 1.0490659600613328, 0.08470892651567892, -1.1117047344287596, 0.07203519479416232, 0.006055862150619064, 1.2245168625491816, 0.3591325369860431, -0.014752796925019226, 0.9663004218908801, 0.6340307723650775, 1.1679323322976998, -0.8019974364914285, 2.009899707838478, 1.351686235098478, -0.16357633038026712, 1.0467381976205765, -0.9884777911500046, -1.179242961599606, 0.19637991258516102, 0.02752192332194667, -0.4772929189208354, -1.2072566311627462, 0.28531937373349664]}, {\"histfunc\": \"count\", \"histnorm\": \"\", \"marker\": {\"color\": \"rgba(128, 0, 128, 1.0)\", \"line\": {\"color\": \"#4D5663\", \"width\": 1.3}}, \"name\": \"D\", \"opacity\": 0.8, \"orientation\": \"v\", \"type\": \"histogram\", \"x\": [-1.384133836883895, 1.6279036565882115, -0.9299821435910816, 0.35486494817093983, 1.6290606005838537, 0.8653327008822459, 0.15013252944094518, 0.28971818542358885, -0.6452317482474019, 1.3151329392327118, -0.4601930499485809, 0.01796751366341419, -0.2863077986587903, 0.7221752593929269, 1.1438494986725094, 1.704750899635022, 2.0255558584427145, 0.4869696515487609, -0.7753590689761756, 0.5894599802215743, -0.5099209544243769, 0.971142453454226, 1.4135296149222607, 0.46368222120546493, -0.2099110424911986, 0.8555892169194312, -0.8666033652100801, -0.2306133820653981, 1.9089544676825587, 0.48126067046847626, -0.6815478231682852, -0.7012394354255265, -0.4047358182565961, -1.0906657672931215, -0.5310813760482439, -1.1553728557319203, 2.1544499479595145, 0.21019983690878644, 0.11648620825479883, -0.6736364979743092, 0.43450673915401905, -0.98897228814661, -0.5665651061675469, 1.6754808091110636, 0.22626422636394813, 0.07919047376157638, 0.47646469707111916, 0.314116725600217, 1.0625187131973928, -0.2287637563650373, -0.08284518464672441, -0.8301973110501326, -0.4028005160347876, 0.24672132353258178, 0.15450240306366955, -0.8804013772595688, -0.7580135896092738, -1.7051536353409653, 1.0626662974393108, 0.2526824633221683, 0.8340379444053333, 0.14124629647157924, -0.49243382012914344, -0.9599076627068123, 0.7149885906661986, 0.4750175942064842, -0.5873964713638485, 1.6930034548000927, -0.09315530497266254, 0.710403964378997, -1.1932154200104725, -1.0562238516298499, -0.2690924803512119, 0.49758681226637225, -1.0773982877105088, 0.07911034291757471, -0.39902453071887745, 1.0700856351960735, -1.057358139564738, 0.37533863810957413, -2.84037344606979, -0.7091852096155062, -0.9566975881638045, 0.35100423287660615, -1.4217070977134791, 0.4182186974869994, 0.15184097974894464, 0.013448617348159643, 0.3125613854661278, 1.514216766439221, 1.3523238006848513, -0.24663932645882697, 1.0446188476433422, -0.8035903583066685, -0.8232789379519444, 0.28646918218662437, -0.4371347569536695, -0.3411639230662988, -1.0645835371189294, 0.7317930121637225]}],\n",
       "                        {\"barmode\": \"overlay\", \"legend\": {\"bgcolor\": \"#F5F6F9\", \"font\": {\"color\": \"#4D5663\"}}, \"paper_bgcolor\": \"#F5F6F9\", \"plot_bgcolor\": \"#F5F6F9\", \"template\": {\"data\": {\"bar\": [{\"error_x\": {\"color\": \"#2a3f5f\"}, \"error_y\": {\"color\": \"#2a3f5f\"}, \"marker\": {\"line\": {\"color\": \"#E5ECF6\", \"width\": 0.5}}, \"type\": \"bar\"}], \"barpolar\": [{\"marker\": {\"line\": {\"color\": \"#E5ECF6\", \"width\": 0.5}}, \"type\": \"barpolar\"}], \"carpet\": [{\"aaxis\": {\"endlinecolor\": \"#2a3f5f\", \"gridcolor\": \"white\", \"linecolor\": \"white\", \"minorgridcolor\": \"white\", \"startlinecolor\": \"#2a3f5f\"}, \"baxis\": {\"endlinecolor\": \"#2a3f5f\", \"gridcolor\": \"white\", \"linecolor\": \"white\", \"minorgridcolor\": \"white\", \"startlinecolor\": \"#2a3f5f\"}, \"type\": \"carpet\"}], \"choropleth\": [{\"colorbar\": {\"outlinewidth\": 0, \"ticks\": \"\"}, \"type\": \"choropleth\"}], \"contour\": [{\"colorbar\": {\"outlinewidth\": 0, \"ticks\": \"\"}, \"colorscale\": [[0.0, \"#0d0887\"], [0.1111111111111111, \"#46039f\"], [0.2222222222222222, \"#7201a8\"], [0.3333333333333333, \"#9c179e\"], [0.4444444444444444, \"#bd3786\"], [0.5555555555555556, \"#d8576b\"], [0.6666666666666666, \"#ed7953\"], [0.7777777777777778, \"#fb9f3a\"], [0.8888888888888888, \"#fdca26\"], [1.0, \"#f0f921\"]], \"type\": \"contour\"}], \"contourcarpet\": [{\"colorbar\": {\"outlinewidth\": 0, \"ticks\": \"\"}, \"type\": \"contourcarpet\"}], \"heatmap\": [{\"colorbar\": {\"outlinewidth\": 0, \"ticks\": \"\"}, \"colorscale\": [[0.0, \"#0d0887\"], [0.1111111111111111, \"#46039f\"], [0.2222222222222222, \"#7201a8\"], [0.3333333333333333, \"#9c179e\"], [0.4444444444444444, \"#bd3786\"], [0.5555555555555556, \"#d8576b\"], [0.6666666666666666, \"#ed7953\"], [0.7777777777777778, \"#fb9f3a\"], [0.8888888888888888, \"#fdca26\"], [1.0, \"#f0f921\"]], \"type\": \"heatmap\"}], \"heatmapgl\": [{\"colorbar\": {\"outlinewidth\": 0, \"ticks\": \"\"}, \"colorscale\": [[0.0, \"#0d0887\"], [0.1111111111111111, \"#46039f\"], [0.2222222222222222, \"#7201a8\"], [0.3333333333333333, \"#9c179e\"], [0.4444444444444444, \"#bd3786\"], [0.5555555555555556, \"#d8576b\"], [0.6666666666666666, \"#ed7953\"], [0.7777777777777778, \"#fb9f3a\"], [0.8888888888888888, \"#fdca26\"], [1.0, \"#f0f921\"]], \"type\": \"heatmapgl\"}], \"histogram\": [{\"marker\": {\"colorbar\": {\"outlinewidth\": 0, \"ticks\": \"\"}}, \"type\": \"histogram\"}], \"histogram2d\": [{\"colorbar\": {\"outlinewidth\": 0, \"ticks\": \"\"}, \"colorscale\": [[0.0, \"#0d0887\"], [0.1111111111111111, \"#46039f\"], [0.2222222222222222, \"#7201a8\"], [0.3333333333333333, \"#9c179e\"], [0.4444444444444444, \"#bd3786\"], [0.5555555555555556, \"#d8576b\"], [0.6666666666666666, \"#ed7953\"], [0.7777777777777778, \"#fb9f3a\"], [0.8888888888888888, \"#fdca26\"], [1.0, \"#f0f921\"]], \"type\": \"histogram2d\"}], \"histogram2dcontour\": [{\"colorbar\": {\"outlinewidth\": 0, \"ticks\": \"\"}, \"colorscale\": [[0.0, \"#0d0887\"], [0.1111111111111111, \"#46039f\"], [0.2222222222222222, \"#7201a8\"], [0.3333333333333333, \"#9c179e\"], [0.4444444444444444, \"#bd3786\"], [0.5555555555555556, \"#d8576b\"], [0.6666666666666666, \"#ed7953\"], [0.7777777777777778, \"#fb9f3a\"], [0.8888888888888888, \"#fdca26\"], [1.0, \"#f0f921\"]], \"type\": \"histogram2dcontour\"}], \"mesh3d\": [{\"colorbar\": {\"outlinewidth\": 0, \"ticks\": \"\"}, \"type\": \"mesh3d\"}], \"parcoords\": [{\"line\": {\"colorbar\": {\"outlinewidth\": 0, \"ticks\": \"\"}}, \"type\": \"parcoords\"}], \"pie\": [{\"automargin\": true, \"type\": \"pie\"}], \"scatter\": [{\"marker\": {\"colorbar\": {\"outlinewidth\": 0, \"ticks\": \"\"}}, \"type\": \"scatter\"}], \"scatter3d\": [{\"line\": {\"colorbar\": {\"outlinewidth\": 0, \"ticks\": \"\"}}, \"marker\": {\"colorbar\": {\"outlinewidth\": 0, \"ticks\": \"\"}}, \"type\": \"scatter3d\"}], \"scattercarpet\": [{\"marker\": {\"colorbar\": {\"outlinewidth\": 0, \"ticks\": \"\"}}, \"type\": \"scattercarpet\"}], \"scattergeo\": [{\"marker\": {\"colorbar\": {\"outlinewidth\": 0, \"ticks\": \"\"}}, \"type\": \"scattergeo\"}], \"scattergl\": [{\"marker\": {\"colorbar\": {\"outlinewidth\": 0, \"ticks\": \"\"}}, \"type\": \"scattergl\"}], \"scattermapbox\": [{\"marker\": {\"colorbar\": {\"outlinewidth\": 0, \"ticks\": \"\"}}, \"type\": \"scattermapbox\"}], \"scatterpolar\": [{\"marker\": {\"colorbar\": {\"outlinewidth\": 0, \"ticks\": \"\"}}, \"type\": \"scatterpolar\"}], \"scatterpolargl\": [{\"marker\": {\"colorbar\": {\"outlinewidth\": 0, \"ticks\": \"\"}}, \"type\": \"scatterpolargl\"}], \"scatterternary\": [{\"marker\": {\"colorbar\": {\"outlinewidth\": 0, \"ticks\": \"\"}}, \"type\": \"scatterternary\"}], \"surface\": [{\"colorbar\": {\"outlinewidth\": 0, \"ticks\": \"\"}, \"colorscale\": [[0.0, \"#0d0887\"], [0.1111111111111111, \"#46039f\"], [0.2222222222222222, \"#7201a8\"], [0.3333333333333333, \"#9c179e\"], [0.4444444444444444, \"#bd3786\"], [0.5555555555555556, \"#d8576b\"], [0.6666666666666666, \"#ed7953\"], [0.7777777777777778, \"#fb9f3a\"], [0.8888888888888888, \"#fdca26\"], [1.0, \"#f0f921\"]], \"type\": \"surface\"}], \"table\": [{\"cells\": {\"fill\": {\"color\": \"#EBF0F8\"}, \"line\": {\"color\": \"white\"}}, \"header\": {\"fill\": {\"color\": \"#C8D4E3\"}, \"line\": {\"color\": \"white\"}}, \"type\": \"table\"}]}, \"layout\": {\"annotationdefaults\": {\"arrowcolor\": \"#2a3f5f\", \"arrowhead\": 0, \"arrowwidth\": 1}, \"coloraxis\": {\"colorbar\": {\"outlinewidth\": 0, \"ticks\": \"\"}}, \"colorscale\": {\"diverging\": [[0, \"#8e0152\"], [0.1, \"#c51b7d\"], [0.2, \"#de77ae\"], [0.3, \"#f1b6da\"], [0.4, \"#fde0ef\"], [0.5, \"#f7f7f7\"], [0.6, \"#e6f5d0\"], [0.7, \"#b8e186\"], [0.8, \"#7fbc41\"], [0.9, \"#4d9221\"], [1, \"#276419\"]], \"sequential\": [[0.0, \"#0d0887\"], [0.1111111111111111, \"#46039f\"], [0.2222222222222222, \"#7201a8\"], [0.3333333333333333, \"#9c179e\"], [0.4444444444444444, \"#bd3786\"], [0.5555555555555556, \"#d8576b\"], [0.6666666666666666, \"#ed7953\"], [0.7777777777777778, \"#fb9f3a\"], [0.8888888888888888, \"#fdca26\"], [1.0, \"#f0f921\"]], \"sequentialminus\": [[0.0, \"#0d0887\"], [0.1111111111111111, \"#46039f\"], [0.2222222222222222, \"#7201a8\"], [0.3333333333333333, \"#9c179e\"], [0.4444444444444444, \"#bd3786\"], [0.5555555555555556, \"#d8576b\"], [0.6666666666666666, \"#ed7953\"], [0.7777777777777778, \"#fb9f3a\"], [0.8888888888888888, \"#fdca26\"], [1.0, \"#f0f921\"]]}, \"colorway\": [\"#636efa\", \"#EF553B\", \"#00cc96\", \"#ab63fa\", \"#FFA15A\", \"#19d3f3\", \"#FF6692\", \"#B6E880\", \"#FF97FF\", \"#FECB52\"], \"font\": {\"color\": \"#2a3f5f\"}, \"geo\": {\"bgcolor\": \"white\", \"lakecolor\": \"white\", \"landcolor\": \"#E5ECF6\", \"showlakes\": true, \"showland\": true, \"subunitcolor\": \"white\"}, \"hoverlabel\": {\"align\": \"left\"}, \"hovermode\": \"closest\", \"mapbox\": {\"style\": \"light\"}, \"paper_bgcolor\": \"white\", \"plot_bgcolor\": \"#E5ECF6\", \"polar\": {\"angularaxis\": {\"gridcolor\": \"white\", \"linecolor\": \"white\", \"ticks\": \"\"}, \"bgcolor\": \"#E5ECF6\", \"radialaxis\": {\"gridcolor\": \"white\", \"linecolor\": \"white\", \"ticks\": \"\"}}, \"scene\": {\"xaxis\": {\"backgroundcolor\": \"#E5ECF6\", \"gridcolor\": \"white\", \"gridwidth\": 2, \"linecolor\": \"white\", \"showbackground\": true, \"ticks\": \"\", \"zerolinecolor\": \"white\"}, \"yaxis\": {\"backgroundcolor\": \"#E5ECF6\", \"gridcolor\": \"white\", \"gridwidth\": 2, \"linecolor\": \"white\", \"showbackground\": true, \"ticks\": \"\", \"zerolinecolor\": \"white\"}, \"zaxis\": {\"backgroundcolor\": \"#E5ECF6\", \"gridcolor\": \"white\", \"gridwidth\": 2, \"linecolor\": \"white\", \"showbackground\": true, \"ticks\": \"\", \"zerolinecolor\": \"white\"}}, \"shapedefaults\": {\"line\": {\"color\": \"#2a3f5f\"}}, \"ternary\": {\"aaxis\": {\"gridcolor\": \"white\", \"linecolor\": \"white\", \"ticks\": \"\"}, \"baxis\": {\"gridcolor\": \"white\", \"linecolor\": \"white\", \"ticks\": \"\"}, \"bgcolor\": \"#E5ECF6\", \"caxis\": {\"gridcolor\": \"white\", \"linecolor\": \"white\", \"ticks\": \"\"}}, \"title\": {\"x\": 0.05}, \"xaxis\": {\"automargin\": true, \"gridcolor\": \"white\", \"linecolor\": \"white\", \"ticks\": \"\", \"title\": {\"standoff\": 15}, \"zerolinecolor\": \"white\", \"zerolinewidth\": 2}, \"yaxis\": {\"automargin\": true, \"gridcolor\": \"white\", \"linecolor\": \"white\", \"ticks\": \"\", \"title\": {\"standoff\": 15}, \"zerolinecolor\": \"white\", \"zerolinewidth\": 2}}}, \"title\": {\"font\": {\"color\": \"#4D5663\"}}, \"xaxis\": {\"gridcolor\": \"#E1E5ED\", \"showgrid\": true, \"tickfont\": {\"color\": \"#4D5663\"}, \"title\": {\"font\": {\"color\": \"#4D5663\"}, \"text\": \"\"}, \"zerolinecolor\": \"#E1E5ED\"}, \"yaxis\": {\"gridcolor\": \"#E1E5ED\", \"showgrid\": true, \"tickfont\": {\"color\": \"#4D5663\"}, \"title\": {\"font\": {\"color\": \"#4D5663\"}, \"text\": \"\"}, \"zerolinecolor\": \"#E1E5ED\"}},\n",
       "                        {\"showLink\": true, \"linkText\": \"Export to plot.ly\", \"plotlyServerURL\": \"https://plot.ly\", \"responsive\": true}\n",
       "                    ).then(function(){\n",
       "                            \n",
       "var gd = document.getElementById('3df47476-1d96-464b-b8b4-5787364a233d');\n",
       "var x = new MutationObserver(function (mutations, observer) {{\n",
       "        var display = window.getComputedStyle(gd).display;\n",
       "        if (!display || display === 'none') {{\n",
       "            console.log([gd, 'removed!']);\n",
       "            Plotly.purge(gd);\n",
       "            observer.disconnect();\n",
       "        }}\n",
       "}});\n",
       "\n",
       "// Listen for the removal of the full notebook cells\n",
       "var notebookContainer = gd.closest('#notebook-container');\n",
       "if (notebookContainer) {{\n",
       "    x.observe(notebookContainer, {childList: true});\n",
       "}}\n",
       "\n",
       "// Listen for the clearing of the current output cell\n",
       "var outputEl = gd.closest('.output');\n",
       "if (outputEl) {{\n",
       "    x.observe(outputEl, {childList: true});\n",
       "}}\n",
       "\n",
       "                        })\n",
       "                };\n",
       "                });\n",
       "            </script>\n",
       "        </div>"
      ]
     },
     "metadata": {},
     "output_type": "display_data"
    }
   ],
   "source": [
    "df.iplot(kind='hist')"
   ]
  },
  {
   "cell_type": "code",
   "execution_count": 33,
   "metadata": {},
   "outputs": [
    {
     "name": "stderr",
     "output_type": "stream",
     "text": [
      "D:\\Install folder\\lib\\site-packages\\cufflinks\\plotlytools.py:849: FutureWarning:\n",
      "\n",
      "The pandas.np module is deprecated and will be removed from pandas in a future version. Import numpy directly instead\n",
      "\n",
      "D:\\Install folder\\lib\\site-packages\\cufflinks\\plotlytools.py:850: FutureWarning:\n",
      "\n",
      "The pandas.np module is deprecated and will be removed from pandas in a future version. Import numpy directly instead\n",
      "\n"
     ]
    },
    {
     "data": {
      "application/vnd.plotly.v1+json": {
       "config": {
        "linkText": "Export to plot.ly",
        "plotlyServerURL": "https://plot.ly",
        "showLink": true
       },
       "data": [
        {
         "line": {
          "color": "rgba(255, 153, 51, 1.0)",
          "dash": "solid",
          "shape": "linear",
          "width": 1.3
         },
         "mode": "lines",
         "name": "A",
         "text": "",
         "type": "scatter",
         "x": [
          0,
          1,
          2,
          3,
          4,
          5,
          6,
          7,
          8,
          9,
          10,
          11,
          12,
          13,
          14,
          15,
          16,
          17,
          18,
          19,
          20,
          21,
          22,
          23,
          24,
          25,
          26,
          27,
          28,
          29,
          30,
          31,
          32,
          33,
          34,
          35,
          36,
          37,
          38,
          39,
          40,
          41,
          42,
          43,
          44,
          45,
          46,
          47,
          48,
          49,
          50,
          51,
          52,
          53,
          54,
          55,
          56,
          57,
          58,
          59,
          60,
          61,
          62,
          63,
          64,
          65,
          66,
          67,
          68,
          69,
          70,
          71,
          72,
          73,
          74,
          75,
          76,
          77,
          78,
          79,
          80,
          81,
          82,
          83,
          84,
          85,
          86,
          87,
          88,
          89,
          90,
          91,
          92,
          93,
          94,
          95,
          96,
          97,
          98,
          99
         ],
         "y": [
          1.5023563012055845,
          0.4087626388893659,
          1.5993197844213576,
          -0.5215118809744652,
          1.5681236600191981,
          0.7468356261210932,
          -0.749310641952968,
          0.1159935148313741,
          0.22045916587711767,
          -0.4550011729283677,
          0.8563933097341867,
          -2.066795909564812,
          -0.38285290167817404,
          0.01900787684381683,
          -0.12630271810268817,
          0.5680388021904351,
          1.14854911597069,
          0.6436069259066923,
          0.13859935383240438,
          -0.4956911855443848,
          0.4836194286327407,
          -1.2764417035087179,
          -0.5398190900873907,
          0.5796992019373896,
          -0.6037038043213754,
          0.7253532286953808,
          0.6834182495980821,
          -2.8845872018457897,
          1.0233482449319187,
          -2.552401535794378,
          2.3124239629877583,
          -0.8127401942686726,
          -0.23445084013367548,
          -0.6759192578683721,
          -2.5062077810487255,
          -1.2244355783037433,
          0.6694110332929116,
          -0.0034276115223639343,
          0.03204469823716342,
          -0.648084262291826,
          2.5628246207053778,
          0.9000009050597508,
          0.7517099499732545,
          1.2007637923291639,
          -1.9465668851371996,
          -2.413766407744819,
          -0.05082089573082934,
          1.207415735066595,
          -0.3835094510702304,
          0.5221421859827696,
          -0.5248958874051288,
          0.24619873930310585,
          0.5677610344566094,
          -0.4866092245561927,
          -0.7416586364234559,
          0.24855280589543127,
          1.2144044039988526,
          -0.14093054717060302,
          0.2963349236939744,
          -0.4291217100089392,
          1.1491732439347566,
          -0.5216591508755286,
          1.31822530500963,
          -0.47105727955537935,
          -0.40446633360902595,
          2.1459042895302747,
          0.6334555504966481,
          0.4176419554202106,
          -1.0273773683227392,
          1.1263431197506402,
          0.10469582241142089,
          -0.5906651009155758,
          -0.45518656697518617,
          1.3026059396663974,
          0.7571755070928892,
          0.10743952906925054,
          2.0706685836531564,
          0.5559870929964155,
          2.380054547983395,
          -0.39070598757151437,
          1.16309570735863,
          0.53168218102069,
          0.5568769817666138,
          0.39298936796065026,
          0.7338227726831591,
          0.5032917926801018,
          -0.5716134754818609,
          1.286383898901556,
          0.025648738117446,
          0.5157472248880189,
          -0.5104493617558568,
          -0.4733753767654713,
          0.36745876642344916,
          1.3072126283906071,
          0.35925235054705673,
          0.3793647207507,
          -0.21779341066885025,
          -0.5505938066317233,
          -0.5936228067274162,
          -0.18854451853239493
         ]
        },
        {
         "line": {
          "color": "rgba(55, 128, 191, 1.0)",
          "dash": "solid",
          "shape": "linear",
          "width": 1.3
         },
         "mode": "lines",
         "name": "B",
         "text": "",
         "type": "scatter",
         "x": [
          0,
          1,
          2,
          3,
          4,
          5,
          6,
          7,
          8,
          9,
          10,
          11,
          12,
          13,
          14,
          15,
          16,
          17,
          18,
          19,
          20,
          21,
          22,
          23,
          24,
          25,
          26,
          27,
          28,
          29,
          30,
          31,
          32,
          33,
          34,
          35,
          36,
          37,
          38,
          39,
          40,
          41,
          42,
          43,
          44,
          45,
          46,
          47,
          48,
          49,
          50,
          51,
          52,
          53,
          54,
          55,
          56,
          57,
          58,
          59,
          60,
          61,
          62,
          63,
          64,
          65,
          66,
          67,
          68,
          69,
          70,
          71,
          72,
          73,
          74,
          75,
          76,
          77,
          78,
          79,
          80,
          81,
          82,
          83,
          84,
          85,
          86,
          87,
          88,
          89,
          90,
          91,
          92,
          93,
          94,
          95,
          96,
          97,
          98,
          99
         ],
         "y": [
          -0.1412993310039659,
          0.11155348249657292,
          1.7453199674605695,
          -0.814399733552155,
          0.6214554653204177,
          -0.8935622081683393,
          0.7423908327196167,
          0.08876231792153962,
          0.40884368254280434,
          1.5231546429751541,
          -0.5038028339596781,
          1.277663239880953,
          1.9315664231705278,
          1.2882374316313956,
          -0.814476238152969,
          -2.0472988868964954,
          -1.1619809357848054,
          -0.6020708574357105,
          -0.4172171560670958,
          0.5656423397142257,
          -0.4422039548072374,
          1.6173040675324941,
          0.6934044898267794,
          -0.4948009086882394,
          -0.7040470246206365,
          -1.9134367284968632,
          0.7383244841914276,
          -1.1883843708189352,
          0.30363915459858953,
          0.2776451954473241,
          -0.7165225765471165,
          1.0077314628934022,
          -0.4603279365194043,
          0.38373042738479957,
          -0.518952600073326,
          -1.4636786992458364,
          0.7476083884716154,
          0.31237621371744645,
          1.1441291559955,
          -0.13738132300664588,
          0.2917094591812687,
          -0.5435138932574668,
          -0.09764547059440395,
          -0.8543035432170192,
          -1.694606999440116,
          0.6872321801985894,
          -0.3105771583046316,
          -0.14628769666578054,
          -1.2645444232569238,
          1.3221177881297856,
          -0.06864973864910799,
          0.5369862529725257,
          0.20434322894119525,
          0.9269791155272793,
          -0.10772717371906558,
          0.6636624429782333,
          -1.1341086710570782,
          0.7112881367396519,
          -0.24585306295182344,
          2.7491305879931875,
          -0.9081798223062961,
          -0.9157857216788398,
          -0.008619830977527013,
          0.4968473874841331,
          -0.5343255676597688,
          0.2855137060759064,
          0.6117559359156879,
          -2.446379280416086,
          0.33071812904434594,
          -1.071280221455606,
          0.685618779079314,
          1.4672553004235602,
          -0.3727388594504119,
          -0.09291567551181286,
          -0.34523412406140225,
          -0.05274550962737803,
          0.04654323576000232,
          0.2916776854652369,
          0.963598536755656,
          0.4654431727575727,
          0.19669889726716824,
          -0.7242027558405483,
          -0.7113448412421286,
          -0.21696242004052127,
          -0.6539765540211312,
          -1.9236864401903981,
          1.0149705541185587,
          1.0646071027030528,
          -0.9559870634609606,
          0.46215740722226095,
          -0.5700862496512421,
          0.5363637562177255,
          -1.0839231569328327,
          0.5562315410374225,
          -0.7832219667339138,
          0.4841939952459761,
          -2.3192789416549995,
          -1.4624996532320187,
          -0.31539742955163974,
          0.07762935312683132
         ]
        },
        {
         "connectgaps": false,
         "fill": "tozeroy",
         "line": {
          "color": "green",
          "dash": "solid",
          "shape": "linear",
          "width": 0.5
         },
         "mode": "lines",
         "name": "Spread",
         "showlegend": false,
         "type": "scatter",
         "x": [
          0,
          1,
          2,
          3,
          4,
          5,
          6,
          7,
          8,
          9,
          10,
          11,
          12,
          13,
          14,
          15,
          16,
          17,
          18,
          19,
          20,
          21,
          22,
          23,
          24,
          25,
          26,
          27,
          28,
          29,
          30,
          31,
          32,
          33,
          34,
          35,
          36,
          37,
          38,
          39,
          40,
          41,
          42,
          43,
          44,
          45,
          46,
          47,
          48,
          49,
          50,
          51,
          52,
          53,
          54,
          55,
          56,
          57,
          58,
          59,
          60,
          61,
          62,
          63,
          64,
          65,
          66,
          67,
          68,
          69,
          70,
          71,
          72,
          73,
          74,
          75,
          76,
          77,
          78,
          79,
          80,
          81,
          82,
          83,
          84,
          85,
          86,
          87,
          88,
          89,
          90,
          91,
          92,
          93,
          94,
          95,
          96,
          97,
          98,
          99
         ],
         "xaxis": "x2",
         "y": [
          1.6436556322095504,
          0.297209156392793,
          "",
          0.2928878525776898,
          0.9466681946987804,
          1.6403978342894325,
          "",
          0.027231196909834485,
          "",
          "",
          1.3601961436938648,
          "",
          "",
          "",
          0.6881735200502808,
          2.6153376890869304,
          2.3105300517554954,
          1.2456777833424029,
          0.5558165098995002,
          "",
          0.925823383439978,
          "",
          "",
          1.074500110625629,
          0.10034322029926113,
          2.6387899571922437,
          "",
          "",
          0.7197090903333292,
          "",
          3.028946539534875,
          "",
          0.2258770963857288,
          "",
          "",
          0.2392431209420931,
          "",
          "",
          "",
          "",
          2.271115161524109,
          1.4435147983172176,
          0.8493554205676584,
          2.055067335546183,
          "",
          "",
          0.2597562625738023,
          1.3537034317323755,
          0.8810349721866935,
          "",
          "",
          "",
          0.36341780551541414,
          "",
          "",
          "",
          2.348513075055931,
          "",
          0.5421879866457978,
          "",
          2.0573530662410526,
          0.39412657080331115,
          1.326845135987157,
          "",
          0.12985923405074284,
          1.8603905834543681,
          0.021699614580960258,
          2.864021235836297,
          "",
          2.1976233412062465,
          "",
          "",
          "",
          1.3955216151782102,
          1.1024096311542915,
          0.16018503869662856,
          2.024125347893154,
          0.26430940753117854,
          1.416456011227739,
          "",
          0.9663968100914618,
          1.2558849368612384,
          1.2682218230087425,
          0.6099517880011716,
          1.3877993267042903,
          2.4269782328705,
          "",
          0.2217767961985031,
          0.9816358015784066,
          0.05358981766575799,
          0.05963688789538535,
          "",
          1.451381923356282,
          0.7509810873531847,
          1.1424743172809704,
          "",
          2.101485530986149,
          0.9119058466002954,
          "",
          ""
         ],
         "yaxis": "y2"
        },
        {
         "connectgaps": false,
         "fill": "tozeroy",
         "line": {
          "color": "red",
          "dash": "solid",
          "shape": "linear",
          "width": 0.5
         },
         "mode": "lines",
         "name": "Spread",
         "showlegend": false,
         "type": "scatter",
         "x": [
          0,
          1,
          2,
          3,
          4,
          5,
          6,
          7,
          8,
          9,
          10,
          11,
          12,
          13,
          14,
          15,
          16,
          17,
          18,
          19,
          20,
          21,
          22,
          23,
          24,
          25,
          26,
          27,
          28,
          29,
          30,
          31,
          32,
          33,
          34,
          35,
          36,
          37,
          38,
          39,
          40,
          41,
          42,
          43,
          44,
          45,
          46,
          47,
          48,
          49,
          50,
          51,
          52,
          53,
          54,
          55,
          56,
          57,
          58,
          59,
          60,
          61,
          62,
          63,
          64,
          65,
          66,
          67,
          68,
          69,
          70,
          71,
          72,
          73,
          74,
          75,
          76,
          77,
          78,
          79,
          80,
          81,
          82,
          83,
          84,
          85,
          86,
          87,
          88,
          89,
          90,
          91,
          92,
          93,
          94,
          95,
          96,
          97,
          98,
          99
         ],
         "xaxis": "x2",
         "y": [
          "",
          "",
          -0.14600018303921192,
          "",
          "",
          "",
          -1.4917014746725847,
          "",
          -0.18838451666568667,
          -1.9781558159035217,
          "",
          -3.3444591494457647,
          -2.3144193248487017,
          -1.2692295547875787,
          "",
          "",
          "",
          "",
          "",
          -1.0613335252586105,
          "",
          -2.8937457710412122,
          -1.2332235799141702,
          "",
          "",
          "",
          -0.05490623459334554,
          -1.6962028310268544,
          "",
          -2.830046731241702,
          "",
          -1.820471657162075,
          "",
          -1.0596496852531718,
          -1.9872551809753995,
          "",
          -0.07819735517870374,
          -0.3158038252398104,
          -1.1120844577583366,
          -0.5107029392851802,
          "",
          "",
          "",
          "",
          -0.2519598856970835,
          -3.1009985879434083,
          "",
          "",
          "",
          -0.799975602147016,
          -0.4562461487560208,
          -0.2907875136694198,
          "",
          -1.413588340083472,
          -0.6339314627043903,
          -0.415109637082802,
          "",
          -0.8522186839102549,
          "",
          -3.1782522980021266,
          "",
          "",
          "",
          -0.9679046670395124,
          "",
          "",
          "",
          "",
          -1.3580954973670851,
          "",
          -0.5809229566678931,
          -2.057920401339136,
          -0.08244770752477426,
          "",
          "",
          "",
          "",
          "",
          "",
          -0.8561491603290871,
          "",
          "",
          "",
          "",
          "",
          "",
          -1.5865840296004197,
          "",
          "",
          "",
          "",
          -1.0097391329831968,
          "",
          "",
          "",
          -0.10482927449527613,
          "",
          "",
          -0.27822537717577644,
          -0.26617387165922624
         ],
         "yaxis": "y2"
        }
       ],
       "layout": {
        "hovermode": "x",
        "legend": {
         "bgcolor": "#F5F6F9",
         "font": {
          "color": "#4D5663"
         }
        },
        "paper_bgcolor": "#F5F6F9",
        "plot_bgcolor": "#F5F6F9",
        "template": {
         "data": {
          "bar": [
           {
            "error_x": {
             "color": "#2a3f5f"
            },
            "error_y": {
             "color": "#2a3f5f"
            },
            "marker": {
             "line": {
              "color": "#E5ECF6",
              "width": 0.5
             }
            },
            "type": "bar"
           }
          ],
          "barpolar": [
           {
            "marker": {
             "line": {
              "color": "#E5ECF6",
              "width": 0.5
             }
            },
            "type": "barpolar"
           }
          ],
          "carpet": [
           {
            "aaxis": {
             "endlinecolor": "#2a3f5f",
             "gridcolor": "white",
             "linecolor": "white",
             "minorgridcolor": "white",
             "startlinecolor": "#2a3f5f"
            },
            "baxis": {
             "endlinecolor": "#2a3f5f",
             "gridcolor": "white",
             "linecolor": "white",
             "minorgridcolor": "white",
             "startlinecolor": "#2a3f5f"
            },
            "type": "carpet"
           }
          ],
          "choropleth": [
           {
            "colorbar": {
             "outlinewidth": 0,
             "ticks": ""
            },
            "type": "choropleth"
           }
          ],
          "contour": [
           {
            "colorbar": {
             "outlinewidth": 0,
             "ticks": ""
            },
            "colorscale": [
             [
              0,
              "#0d0887"
             ],
             [
              0.1111111111111111,
              "#46039f"
             ],
             [
              0.2222222222222222,
              "#7201a8"
             ],
             [
              0.3333333333333333,
              "#9c179e"
             ],
             [
              0.4444444444444444,
              "#bd3786"
             ],
             [
              0.5555555555555556,
              "#d8576b"
             ],
             [
              0.6666666666666666,
              "#ed7953"
             ],
             [
              0.7777777777777778,
              "#fb9f3a"
             ],
             [
              0.8888888888888888,
              "#fdca26"
             ],
             [
              1,
              "#f0f921"
             ]
            ],
            "type": "contour"
           }
          ],
          "contourcarpet": [
           {
            "colorbar": {
             "outlinewidth": 0,
             "ticks": ""
            },
            "type": "contourcarpet"
           }
          ],
          "heatmap": [
           {
            "colorbar": {
             "outlinewidth": 0,
             "ticks": ""
            },
            "colorscale": [
             [
              0,
              "#0d0887"
             ],
             [
              0.1111111111111111,
              "#46039f"
             ],
             [
              0.2222222222222222,
              "#7201a8"
             ],
             [
              0.3333333333333333,
              "#9c179e"
             ],
             [
              0.4444444444444444,
              "#bd3786"
             ],
             [
              0.5555555555555556,
              "#d8576b"
             ],
             [
              0.6666666666666666,
              "#ed7953"
             ],
             [
              0.7777777777777778,
              "#fb9f3a"
             ],
             [
              0.8888888888888888,
              "#fdca26"
             ],
             [
              1,
              "#f0f921"
             ]
            ],
            "type": "heatmap"
           }
          ],
          "heatmapgl": [
           {
            "colorbar": {
             "outlinewidth": 0,
             "ticks": ""
            },
            "colorscale": [
             [
              0,
              "#0d0887"
             ],
             [
              0.1111111111111111,
              "#46039f"
             ],
             [
              0.2222222222222222,
              "#7201a8"
             ],
             [
              0.3333333333333333,
              "#9c179e"
             ],
             [
              0.4444444444444444,
              "#bd3786"
             ],
             [
              0.5555555555555556,
              "#d8576b"
             ],
             [
              0.6666666666666666,
              "#ed7953"
             ],
             [
              0.7777777777777778,
              "#fb9f3a"
             ],
             [
              0.8888888888888888,
              "#fdca26"
             ],
             [
              1,
              "#f0f921"
             ]
            ],
            "type": "heatmapgl"
           }
          ],
          "histogram": [
           {
            "marker": {
             "colorbar": {
              "outlinewidth": 0,
              "ticks": ""
             }
            },
            "type": "histogram"
           }
          ],
          "histogram2d": [
           {
            "colorbar": {
             "outlinewidth": 0,
             "ticks": ""
            },
            "colorscale": [
             [
              0,
              "#0d0887"
             ],
             [
              0.1111111111111111,
              "#46039f"
             ],
             [
              0.2222222222222222,
              "#7201a8"
             ],
             [
              0.3333333333333333,
              "#9c179e"
             ],
             [
              0.4444444444444444,
              "#bd3786"
             ],
             [
              0.5555555555555556,
              "#d8576b"
             ],
             [
              0.6666666666666666,
              "#ed7953"
             ],
             [
              0.7777777777777778,
              "#fb9f3a"
             ],
             [
              0.8888888888888888,
              "#fdca26"
             ],
             [
              1,
              "#f0f921"
             ]
            ],
            "type": "histogram2d"
           }
          ],
          "histogram2dcontour": [
           {
            "colorbar": {
             "outlinewidth": 0,
             "ticks": ""
            },
            "colorscale": [
             [
              0,
              "#0d0887"
             ],
             [
              0.1111111111111111,
              "#46039f"
             ],
             [
              0.2222222222222222,
              "#7201a8"
             ],
             [
              0.3333333333333333,
              "#9c179e"
             ],
             [
              0.4444444444444444,
              "#bd3786"
             ],
             [
              0.5555555555555556,
              "#d8576b"
             ],
             [
              0.6666666666666666,
              "#ed7953"
             ],
             [
              0.7777777777777778,
              "#fb9f3a"
             ],
             [
              0.8888888888888888,
              "#fdca26"
             ],
             [
              1,
              "#f0f921"
             ]
            ],
            "type": "histogram2dcontour"
           }
          ],
          "mesh3d": [
           {
            "colorbar": {
             "outlinewidth": 0,
             "ticks": ""
            },
            "type": "mesh3d"
           }
          ],
          "parcoords": [
           {
            "line": {
             "colorbar": {
              "outlinewidth": 0,
              "ticks": ""
             }
            },
            "type": "parcoords"
           }
          ],
          "pie": [
           {
            "automargin": true,
            "type": "pie"
           }
          ],
          "scatter": [
           {
            "marker": {
             "colorbar": {
              "outlinewidth": 0,
              "ticks": ""
             }
            },
            "type": "scatter"
           }
          ],
          "scatter3d": [
           {
            "line": {
             "colorbar": {
              "outlinewidth": 0,
              "ticks": ""
             }
            },
            "marker": {
             "colorbar": {
              "outlinewidth": 0,
              "ticks": ""
             }
            },
            "type": "scatter3d"
           }
          ],
          "scattercarpet": [
           {
            "marker": {
             "colorbar": {
              "outlinewidth": 0,
              "ticks": ""
             }
            },
            "type": "scattercarpet"
           }
          ],
          "scattergeo": [
           {
            "marker": {
             "colorbar": {
              "outlinewidth": 0,
              "ticks": ""
             }
            },
            "type": "scattergeo"
           }
          ],
          "scattergl": [
           {
            "marker": {
             "colorbar": {
              "outlinewidth": 0,
              "ticks": ""
             }
            },
            "type": "scattergl"
           }
          ],
          "scattermapbox": [
           {
            "marker": {
             "colorbar": {
              "outlinewidth": 0,
              "ticks": ""
             }
            },
            "type": "scattermapbox"
           }
          ],
          "scatterpolar": [
           {
            "marker": {
             "colorbar": {
              "outlinewidth": 0,
              "ticks": ""
             }
            },
            "type": "scatterpolar"
           }
          ],
          "scatterpolargl": [
           {
            "marker": {
             "colorbar": {
              "outlinewidth": 0,
              "ticks": ""
             }
            },
            "type": "scatterpolargl"
           }
          ],
          "scatterternary": [
           {
            "marker": {
             "colorbar": {
              "outlinewidth": 0,
              "ticks": ""
             }
            },
            "type": "scatterternary"
           }
          ],
          "surface": [
           {
            "colorbar": {
             "outlinewidth": 0,
             "ticks": ""
            },
            "colorscale": [
             [
              0,
              "#0d0887"
             ],
             [
              0.1111111111111111,
              "#46039f"
             ],
             [
              0.2222222222222222,
              "#7201a8"
             ],
             [
              0.3333333333333333,
              "#9c179e"
             ],
             [
              0.4444444444444444,
              "#bd3786"
             ],
             [
              0.5555555555555556,
              "#d8576b"
             ],
             [
              0.6666666666666666,
              "#ed7953"
             ],
             [
              0.7777777777777778,
              "#fb9f3a"
             ],
             [
              0.8888888888888888,
              "#fdca26"
             ],
             [
              1,
              "#f0f921"
             ]
            ],
            "type": "surface"
           }
          ],
          "table": [
           {
            "cells": {
             "fill": {
              "color": "#EBF0F8"
             },
             "line": {
              "color": "white"
             }
            },
            "header": {
             "fill": {
              "color": "#C8D4E3"
             },
             "line": {
              "color": "white"
             }
            },
            "type": "table"
           }
          ]
         },
         "layout": {
          "annotationdefaults": {
           "arrowcolor": "#2a3f5f",
           "arrowhead": 0,
           "arrowwidth": 1
          },
          "coloraxis": {
           "colorbar": {
            "outlinewidth": 0,
            "ticks": ""
           }
          },
          "colorscale": {
           "diverging": [
            [
             0,
             "#8e0152"
            ],
            [
             0.1,
             "#c51b7d"
            ],
            [
             0.2,
             "#de77ae"
            ],
            [
             0.3,
             "#f1b6da"
            ],
            [
             0.4,
             "#fde0ef"
            ],
            [
             0.5,
             "#f7f7f7"
            ],
            [
             0.6,
             "#e6f5d0"
            ],
            [
             0.7,
             "#b8e186"
            ],
            [
             0.8,
             "#7fbc41"
            ],
            [
             0.9,
             "#4d9221"
            ],
            [
             1,
             "#276419"
            ]
           ],
           "sequential": [
            [
             0,
             "#0d0887"
            ],
            [
             0.1111111111111111,
             "#46039f"
            ],
            [
             0.2222222222222222,
             "#7201a8"
            ],
            [
             0.3333333333333333,
             "#9c179e"
            ],
            [
             0.4444444444444444,
             "#bd3786"
            ],
            [
             0.5555555555555556,
             "#d8576b"
            ],
            [
             0.6666666666666666,
             "#ed7953"
            ],
            [
             0.7777777777777778,
             "#fb9f3a"
            ],
            [
             0.8888888888888888,
             "#fdca26"
            ],
            [
             1,
             "#f0f921"
            ]
           ],
           "sequentialminus": [
            [
             0,
             "#0d0887"
            ],
            [
             0.1111111111111111,
             "#46039f"
            ],
            [
             0.2222222222222222,
             "#7201a8"
            ],
            [
             0.3333333333333333,
             "#9c179e"
            ],
            [
             0.4444444444444444,
             "#bd3786"
            ],
            [
             0.5555555555555556,
             "#d8576b"
            ],
            [
             0.6666666666666666,
             "#ed7953"
            ],
            [
             0.7777777777777778,
             "#fb9f3a"
            ],
            [
             0.8888888888888888,
             "#fdca26"
            ],
            [
             1,
             "#f0f921"
            ]
           ]
          },
          "colorway": [
           "#636efa",
           "#EF553B",
           "#00cc96",
           "#ab63fa",
           "#FFA15A",
           "#19d3f3",
           "#FF6692",
           "#B6E880",
           "#FF97FF",
           "#FECB52"
          ],
          "font": {
           "color": "#2a3f5f"
          },
          "geo": {
           "bgcolor": "white",
           "lakecolor": "white",
           "landcolor": "#E5ECF6",
           "showlakes": true,
           "showland": true,
           "subunitcolor": "white"
          },
          "hoverlabel": {
           "align": "left"
          },
          "hovermode": "closest",
          "mapbox": {
           "style": "light"
          },
          "paper_bgcolor": "white",
          "plot_bgcolor": "#E5ECF6",
          "polar": {
           "angularaxis": {
            "gridcolor": "white",
            "linecolor": "white",
            "ticks": ""
           },
           "bgcolor": "#E5ECF6",
           "radialaxis": {
            "gridcolor": "white",
            "linecolor": "white",
            "ticks": ""
           }
          },
          "scene": {
           "xaxis": {
            "backgroundcolor": "#E5ECF6",
            "gridcolor": "white",
            "gridwidth": 2,
            "linecolor": "white",
            "showbackground": true,
            "ticks": "",
            "zerolinecolor": "white"
           },
           "yaxis": {
            "backgroundcolor": "#E5ECF6",
            "gridcolor": "white",
            "gridwidth": 2,
            "linecolor": "white",
            "showbackground": true,
            "ticks": "",
            "zerolinecolor": "white"
           },
           "zaxis": {
            "backgroundcolor": "#E5ECF6",
            "gridcolor": "white",
            "gridwidth": 2,
            "linecolor": "white",
            "showbackground": true,
            "ticks": "",
            "zerolinecolor": "white"
           }
          },
          "shapedefaults": {
           "line": {
            "color": "#2a3f5f"
           }
          },
          "ternary": {
           "aaxis": {
            "gridcolor": "white",
            "linecolor": "white",
            "ticks": ""
           },
           "baxis": {
            "gridcolor": "white",
            "linecolor": "white",
            "ticks": ""
           },
           "bgcolor": "#E5ECF6",
           "caxis": {
            "gridcolor": "white",
            "linecolor": "white",
            "ticks": ""
           }
          },
          "title": {
           "x": 0.05
          },
          "xaxis": {
           "automargin": true,
           "gridcolor": "white",
           "linecolor": "white",
           "ticks": "",
           "title": {
            "standoff": 15
           },
           "zerolinecolor": "white",
           "zerolinewidth": 2
          },
          "yaxis": {
           "automargin": true,
           "gridcolor": "white",
           "linecolor": "white",
           "ticks": "",
           "title": {
            "standoff": 15
           },
           "zerolinecolor": "white",
           "zerolinewidth": 2
          }
         }
        },
        "title": {
         "font": {
          "color": "#4D5663"
         }
        },
        "xaxis": {
         "gridcolor": "#E1E5ED",
         "showgrid": true,
         "tickfont": {
          "color": "#4D5663"
         },
         "title": {
          "font": {
           "color": "#4D5663"
          },
          "text": ""
         },
         "zerolinecolor": "#E1E5ED"
        },
        "xaxis2": {
         "anchor": "y2",
         "gridcolor": "#E1E5ED",
         "showgrid": true,
         "showticklabels": false,
         "tickfont": {
          "color": "#4D5663"
         },
         "title": {
          "font": {
           "color": "#4D5663"
          },
          "text": ""
         },
         "zerolinecolor": "#E1E5ED"
        },
        "yaxis": {
         "domain": [
          0.3,
          1
         ],
         "gridcolor": "#E1E5ED",
         "showgrid": true,
         "tickfont": {
          "color": "#4D5663"
         },
         "title": {
          "font": {
           "color": "#4D5663"
          },
          "text": ""
         },
         "zerolinecolor": "#E1E5ED"
        },
        "yaxis2": {
         "domain": [
          0,
          0.25
         ],
         "gridcolor": "#E1E5ED",
         "showgrid": true,
         "tickfont": {
          "color": "#4D5663"
         },
         "title": {
          "font": {
           "color": "#4D5663"
          },
          "text": "Spread"
         },
         "zerolinecolor": "#E1E5ED"
        }
       }
      },
      "text/html": [
       "<div>\n",
       "        \n",
       "        \n",
       "            <div id=\"eecc82d8-d3f6-400b-948c-3c232cfb8be0\" class=\"plotly-graph-div\" style=\"height:525px; width:100%;\"></div>\n",
       "            <script type=\"text/javascript\">\n",
       "                require([\"plotly\"], function(Plotly) {\n",
       "                    window.PLOTLYENV=window.PLOTLYENV || {};\n",
       "                    window.PLOTLYENV.BASE_URL='https://plot.ly';\n",
       "                    \n",
       "                if (document.getElementById(\"eecc82d8-d3f6-400b-948c-3c232cfb8be0\")) {\n",
       "                    Plotly.newPlot(\n",
       "                        'eecc82d8-d3f6-400b-948c-3c232cfb8be0',\n",
       "                        [{\"line\": {\"color\": \"rgba(255, 153, 51, 1.0)\", \"dash\": \"solid\", \"shape\": \"linear\", \"width\": 1.3}, \"mode\": \"lines\", \"name\": \"A\", \"text\": \"\", \"type\": \"scatter\", \"x\": [0, 1, 2, 3, 4, 5, 6, 7, 8, 9, 10, 11, 12, 13, 14, 15, 16, 17, 18, 19, 20, 21, 22, 23, 24, 25, 26, 27, 28, 29, 30, 31, 32, 33, 34, 35, 36, 37, 38, 39, 40, 41, 42, 43, 44, 45, 46, 47, 48, 49, 50, 51, 52, 53, 54, 55, 56, 57, 58, 59, 60, 61, 62, 63, 64, 65, 66, 67, 68, 69, 70, 71, 72, 73, 74, 75, 76, 77, 78, 79, 80, 81, 82, 83, 84, 85, 86, 87, 88, 89, 90, 91, 92, 93, 94, 95, 96, 97, 98, 99], \"y\": [1.5023563012055845, 0.4087626388893659, 1.5993197844213576, -0.5215118809744652, 1.5681236600191981, 0.7468356261210932, -0.749310641952968, 0.1159935148313741, 0.22045916587711767, -0.4550011729283677, 0.8563933097341867, -2.066795909564812, -0.38285290167817404, 0.01900787684381683, -0.12630271810268817, 0.5680388021904351, 1.14854911597069, 0.6436069259066923, 0.13859935383240438, -0.4956911855443848, 0.4836194286327407, -1.2764417035087179, -0.5398190900873907, 0.5796992019373896, -0.6037038043213754, 0.7253532286953808, 0.6834182495980821, -2.8845872018457897, 1.0233482449319187, -2.552401535794378, 2.3124239629877583, -0.8127401942686726, -0.23445084013367548, -0.6759192578683721, -2.5062077810487255, -1.2244355783037433, 0.6694110332929116, -0.0034276115223639343, 0.03204469823716342, -0.648084262291826, 2.5628246207053778, 0.9000009050597508, 0.7517099499732545, 1.2007637923291639, -1.9465668851371996, -2.413766407744819, -0.05082089573082934, 1.207415735066595, -0.3835094510702304, 0.5221421859827696, -0.5248958874051288, 0.24619873930310585, 0.5677610344566094, -0.4866092245561927, -0.7416586364234559, 0.24855280589543127, 1.2144044039988526, -0.14093054717060302, 0.2963349236939744, -0.4291217100089392, 1.1491732439347566, -0.5216591508755286, 1.31822530500963, -0.47105727955537935, -0.40446633360902595, 2.1459042895302747, 0.6334555504966481, 0.4176419554202106, -1.0273773683227392, 1.1263431197506402, 0.10469582241142089, -0.5906651009155758, -0.45518656697518617, 1.3026059396663974, 0.7571755070928892, 0.10743952906925054, 2.0706685836531564, 0.5559870929964155, 2.380054547983395, -0.39070598757151437, 1.16309570735863, 0.53168218102069, 0.5568769817666138, 0.39298936796065026, 0.7338227726831591, 0.5032917926801018, -0.5716134754818609, 1.286383898901556, 0.025648738117446, 0.5157472248880189, -0.5104493617558568, -0.4733753767654713, 0.36745876642344916, 1.3072126283906071, 0.35925235054705673, 0.3793647207507, -0.21779341066885025, -0.5505938066317233, -0.5936228067274162, -0.18854451853239493]}, {\"line\": {\"color\": \"rgba(55, 128, 191, 1.0)\", \"dash\": \"solid\", \"shape\": \"linear\", \"width\": 1.3}, \"mode\": \"lines\", \"name\": \"B\", \"text\": \"\", \"type\": \"scatter\", \"x\": [0, 1, 2, 3, 4, 5, 6, 7, 8, 9, 10, 11, 12, 13, 14, 15, 16, 17, 18, 19, 20, 21, 22, 23, 24, 25, 26, 27, 28, 29, 30, 31, 32, 33, 34, 35, 36, 37, 38, 39, 40, 41, 42, 43, 44, 45, 46, 47, 48, 49, 50, 51, 52, 53, 54, 55, 56, 57, 58, 59, 60, 61, 62, 63, 64, 65, 66, 67, 68, 69, 70, 71, 72, 73, 74, 75, 76, 77, 78, 79, 80, 81, 82, 83, 84, 85, 86, 87, 88, 89, 90, 91, 92, 93, 94, 95, 96, 97, 98, 99], \"y\": [-0.1412993310039659, 0.11155348249657292, 1.7453199674605695, -0.814399733552155, 0.6214554653204177, -0.8935622081683393, 0.7423908327196167, 0.08876231792153962, 0.40884368254280434, 1.5231546429751541, -0.5038028339596781, 1.277663239880953, 1.9315664231705278, 1.2882374316313956, -0.814476238152969, -2.0472988868964954, -1.1619809357848054, -0.6020708574357105, -0.4172171560670958, 0.5656423397142257, -0.4422039548072374, 1.6173040675324941, 0.6934044898267794, -0.4948009086882394, -0.7040470246206365, -1.9134367284968632, 0.7383244841914276, -1.1883843708189352, 0.30363915459858953, 0.2776451954473241, -0.7165225765471165, 1.0077314628934022, -0.4603279365194043, 0.38373042738479957, -0.518952600073326, -1.4636786992458364, 0.7476083884716154, 0.31237621371744645, 1.1441291559955, -0.13738132300664588, 0.2917094591812687, -0.5435138932574668, -0.09764547059440395, -0.8543035432170192, -1.694606999440116, 0.6872321801985894, -0.3105771583046316, -0.14628769666578054, -1.2645444232569238, 1.3221177881297856, -0.06864973864910799, 0.5369862529725257, 0.20434322894119525, 0.9269791155272793, -0.10772717371906558, 0.6636624429782333, -1.1341086710570782, 0.7112881367396519, -0.24585306295182344, 2.7491305879931875, -0.9081798223062961, -0.9157857216788398, -0.008619830977527013, 0.4968473874841331, -0.5343255676597688, 0.2855137060759064, 0.6117559359156879, -2.446379280416086, 0.33071812904434594, -1.071280221455606, 0.685618779079314, 1.4672553004235602, -0.3727388594504119, -0.09291567551181286, -0.34523412406140225, -0.05274550962737803, 0.04654323576000232, 0.2916776854652369, 0.963598536755656, 0.4654431727575727, 0.19669889726716824, -0.7242027558405483, -0.7113448412421286, -0.21696242004052127, -0.6539765540211312, -1.9236864401903981, 1.0149705541185587, 1.0646071027030528, -0.9559870634609606, 0.46215740722226095, -0.5700862496512421, 0.5363637562177255, -1.0839231569328327, 0.5562315410374225, -0.7832219667339138, 0.4841939952459761, -2.3192789416549995, -1.4624996532320187, -0.31539742955163974, 0.07762935312683132]}, {\"connectgaps\": false, \"fill\": \"tozeroy\", \"line\": {\"color\": \"green\", \"dash\": \"solid\", \"shape\": \"linear\", \"width\": 0.5}, \"mode\": \"lines\", \"name\": \"Spread\", \"showlegend\": false, \"type\": \"scatter\", \"x\": [0, 1, 2, 3, 4, 5, 6, 7, 8, 9, 10, 11, 12, 13, 14, 15, 16, 17, 18, 19, 20, 21, 22, 23, 24, 25, 26, 27, 28, 29, 30, 31, 32, 33, 34, 35, 36, 37, 38, 39, 40, 41, 42, 43, 44, 45, 46, 47, 48, 49, 50, 51, 52, 53, 54, 55, 56, 57, 58, 59, 60, 61, 62, 63, 64, 65, 66, 67, 68, 69, 70, 71, 72, 73, 74, 75, 76, 77, 78, 79, 80, 81, 82, 83, 84, 85, 86, 87, 88, 89, 90, 91, 92, 93, 94, 95, 96, 97, 98, 99], \"xaxis\": \"x2\", \"y\": [1.6436556322095504, 0.297209156392793, \"\", 0.2928878525776898, 0.9466681946987804, 1.6403978342894325, \"\", 0.027231196909834485, \"\", \"\", 1.3601961436938648, \"\", \"\", \"\", 0.6881735200502808, 2.6153376890869304, 2.3105300517554954, 1.2456777833424029, 0.5558165098995002, \"\", 0.925823383439978, \"\", \"\", 1.074500110625629, 0.10034322029926113, 2.6387899571922437, \"\", \"\", 0.7197090903333292, \"\", 3.028946539534875, \"\", 0.2258770963857288, \"\", \"\", 0.2392431209420931, \"\", \"\", \"\", \"\", 2.271115161524109, 1.4435147983172176, 0.8493554205676584, 2.055067335546183, \"\", \"\", 0.2597562625738023, 1.3537034317323755, 0.8810349721866935, \"\", \"\", \"\", 0.36341780551541414, \"\", \"\", \"\", 2.348513075055931, \"\", 0.5421879866457978, \"\", 2.0573530662410526, 0.39412657080331115, 1.326845135987157, \"\", 0.12985923405074284, 1.8603905834543681, 0.021699614580960258, 2.864021235836297, \"\", 2.1976233412062465, \"\", \"\", \"\", 1.3955216151782102, 1.1024096311542915, 0.16018503869662856, 2.024125347893154, 0.26430940753117854, 1.416456011227739, \"\", 0.9663968100914618, 1.2558849368612384, 1.2682218230087425, 0.6099517880011716, 1.3877993267042903, 2.4269782328705, \"\", 0.2217767961985031, 0.9816358015784066, 0.05358981766575799, 0.05963688789538535, \"\", 1.451381923356282, 0.7509810873531847, 1.1424743172809704, \"\", 2.101485530986149, 0.9119058466002954, \"\", \"\"], \"yaxis\": \"y2\"}, {\"connectgaps\": false, \"fill\": \"tozeroy\", \"line\": {\"color\": \"red\", \"dash\": \"solid\", \"shape\": \"linear\", \"width\": 0.5}, \"mode\": \"lines\", \"name\": \"Spread\", \"showlegend\": false, \"type\": \"scatter\", \"x\": [0, 1, 2, 3, 4, 5, 6, 7, 8, 9, 10, 11, 12, 13, 14, 15, 16, 17, 18, 19, 20, 21, 22, 23, 24, 25, 26, 27, 28, 29, 30, 31, 32, 33, 34, 35, 36, 37, 38, 39, 40, 41, 42, 43, 44, 45, 46, 47, 48, 49, 50, 51, 52, 53, 54, 55, 56, 57, 58, 59, 60, 61, 62, 63, 64, 65, 66, 67, 68, 69, 70, 71, 72, 73, 74, 75, 76, 77, 78, 79, 80, 81, 82, 83, 84, 85, 86, 87, 88, 89, 90, 91, 92, 93, 94, 95, 96, 97, 98, 99], \"xaxis\": \"x2\", \"y\": [\"\", \"\", -0.14600018303921192, \"\", \"\", \"\", -1.4917014746725847, \"\", -0.18838451666568667, -1.9781558159035217, \"\", -3.3444591494457647, -2.3144193248487017, -1.2692295547875787, \"\", \"\", \"\", \"\", \"\", -1.0613335252586105, \"\", -2.8937457710412122, -1.2332235799141702, \"\", \"\", \"\", -0.05490623459334554, -1.6962028310268544, \"\", -2.830046731241702, \"\", -1.820471657162075, \"\", -1.0596496852531718, -1.9872551809753995, \"\", -0.07819735517870374, -0.3158038252398104, -1.1120844577583366, -0.5107029392851802, \"\", \"\", \"\", \"\", -0.2519598856970835, -3.1009985879434083, \"\", \"\", \"\", -0.799975602147016, -0.4562461487560208, -0.2907875136694198, \"\", -1.413588340083472, -0.6339314627043903, -0.415109637082802, \"\", -0.8522186839102549, \"\", -3.1782522980021266, \"\", \"\", \"\", -0.9679046670395124, \"\", \"\", \"\", \"\", -1.3580954973670851, \"\", -0.5809229566678931, -2.057920401339136, -0.08244770752477426, \"\", \"\", \"\", \"\", \"\", \"\", -0.8561491603290871, \"\", \"\", \"\", \"\", \"\", \"\", -1.5865840296004197, \"\", \"\", \"\", \"\", -1.0097391329831968, \"\", \"\", \"\", -0.10482927449527613, \"\", \"\", -0.27822537717577644, -0.26617387165922624], \"yaxis\": \"y2\"}],\n",
       "                        {\"hovermode\": \"x\", \"legend\": {\"bgcolor\": \"#F5F6F9\", \"font\": {\"color\": \"#4D5663\"}}, \"paper_bgcolor\": \"#F5F6F9\", \"plot_bgcolor\": \"#F5F6F9\", \"template\": {\"data\": {\"bar\": [{\"error_x\": {\"color\": \"#2a3f5f\"}, \"error_y\": {\"color\": \"#2a3f5f\"}, \"marker\": {\"line\": {\"color\": \"#E5ECF6\", \"width\": 0.5}}, \"type\": \"bar\"}], \"barpolar\": [{\"marker\": {\"line\": {\"color\": \"#E5ECF6\", \"width\": 0.5}}, \"type\": \"barpolar\"}], \"carpet\": [{\"aaxis\": {\"endlinecolor\": \"#2a3f5f\", \"gridcolor\": \"white\", \"linecolor\": \"white\", \"minorgridcolor\": \"white\", \"startlinecolor\": \"#2a3f5f\"}, \"baxis\": {\"endlinecolor\": \"#2a3f5f\", \"gridcolor\": \"white\", \"linecolor\": \"white\", \"minorgridcolor\": \"white\", \"startlinecolor\": \"#2a3f5f\"}, \"type\": \"carpet\"}], \"choropleth\": [{\"colorbar\": {\"outlinewidth\": 0, \"ticks\": \"\"}, \"type\": \"choropleth\"}], \"contour\": [{\"colorbar\": {\"outlinewidth\": 0, \"ticks\": \"\"}, \"colorscale\": [[0.0, \"#0d0887\"], [0.1111111111111111, \"#46039f\"], [0.2222222222222222, \"#7201a8\"], [0.3333333333333333, \"#9c179e\"], [0.4444444444444444, \"#bd3786\"], [0.5555555555555556, \"#d8576b\"], [0.6666666666666666, \"#ed7953\"], [0.7777777777777778, \"#fb9f3a\"], [0.8888888888888888, \"#fdca26\"], [1.0, \"#f0f921\"]], \"type\": \"contour\"}], \"contourcarpet\": [{\"colorbar\": {\"outlinewidth\": 0, \"ticks\": \"\"}, \"type\": \"contourcarpet\"}], \"heatmap\": [{\"colorbar\": {\"outlinewidth\": 0, \"ticks\": \"\"}, \"colorscale\": [[0.0, \"#0d0887\"], [0.1111111111111111, \"#46039f\"], [0.2222222222222222, \"#7201a8\"], [0.3333333333333333, \"#9c179e\"], [0.4444444444444444, \"#bd3786\"], [0.5555555555555556, \"#d8576b\"], [0.6666666666666666, \"#ed7953\"], [0.7777777777777778, \"#fb9f3a\"], [0.8888888888888888, \"#fdca26\"], [1.0, \"#f0f921\"]], \"type\": \"heatmap\"}], \"heatmapgl\": [{\"colorbar\": {\"outlinewidth\": 0, \"ticks\": \"\"}, \"colorscale\": [[0.0, \"#0d0887\"], [0.1111111111111111, \"#46039f\"], [0.2222222222222222, \"#7201a8\"], [0.3333333333333333, \"#9c179e\"], [0.4444444444444444, \"#bd3786\"], [0.5555555555555556, \"#d8576b\"], [0.6666666666666666, \"#ed7953\"], [0.7777777777777778, \"#fb9f3a\"], [0.8888888888888888, \"#fdca26\"], [1.0, \"#f0f921\"]], \"type\": \"heatmapgl\"}], \"histogram\": [{\"marker\": {\"colorbar\": {\"outlinewidth\": 0, \"ticks\": \"\"}}, \"type\": \"histogram\"}], \"histogram2d\": [{\"colorbar\": {\"outlinewidth\": 0, \"ticks\": \"\"}, \"colorscale\": [[0.0, \"#0d0887\"], [0.1111111111111111, \"#46039f\"], [0.2222222222222222, \"#7201a8\"], [0.3333333333333333, \"#9c179e\"], [0.4444444444444444, \"#bd3786\"], [0.5555555555555556, \"#d8576b\"], [0.6666666666666666, \"#ed7953\"], [0.7777777777777778, \"#fb9f3a\"], [0.8888888888888888, \"#fdca26\"], [1.0, \"#f0f921\"]], \"type\": \"histogram2d\"}], \"histogram2dcontour\": [{\"colorbar\": {\"outlinewidth\": 0, \"ticks\": \"\"}, \"colorscale\": [[0.0, \"#0d0887\"], [0.1111111111111111, \"#46039f\"], [0.2222222222222222, \"#7201a8\"], [0.3333333333333333, \"#9c179e\"], [0.4444444444444444, \"#bd3786\"], [0.5555555555555556, \"#d8576b\"], [0.6666666666666666, \"#ed7953\"], [0.7777777777777778, \"#fb9f3a\"], [0.8888888888888888, \"#fdca26\"], [1.0, \"#f0f921\"]], \"type\": \"histogram2dcontour\"}], \"mesh3d\": [{\"colorbar\": {\"outlinewidth\": 0, \"ticks\": \"\"}, \"type\": \"mesh3d\"}], \"parcoords\": [{\"line\": {\"colorbar\": {\"outlinewidth\": 0, \"ticks\": \"\"}}, \"type\": \"parcoords\"}], \"pie\": [{\"automargin\": true, \"type\": \"pie\"}], \"scatter\": [{\"marker\": {\"colorbar\": {\"outlinewidth\": 0, \"ticks\": \"\"}}, \"type\": \"scatter\"}], \"scatter3d\": [{\"line\": {\"colorbar\": {\"outlinewidth\": 0, \"ticks\": \"\"}}, \"marker\": {\"colorbar\": {\"outlinewidth\": 0, \"ticks\": \"\"}}, \"type\": \"scatter3d\"}], \"scattercarpet\": [{\"marker\": {\"colorbar\": {\"outlinewidth\": 0, \"ticks\": \"\"}}, \"type\": \"scattercarpet\"}], \"scattergeo\": [{\"marker\": {\"colorbar\": {\"outlinewidth\": 0, \"ticks\": \"\"}}, \"type\": \"scattergeo\"}], \"scattergl\": [{\"marker\": {\"colorbar\": {\"outlinewidth\": 0, \"ticks\": \"\"}}, \"type\": \"scattergl\"}], \"scattermapbox\": [{\"marker\": {\"colorbar\": {\"outlinewidth\": 0, \"ticks\": \"\"}}, \"type\": \"scattermapbox\"}], \"scatterpolar\": [{\"marker\": {\"colorbar\": {\"outlinewidth\": 0, \"ticks\": \"\"}}, \"type\": \"scatterpolar\"}], \"scatterpolargl\": [{\"marker\": {\"colorbar\": {\"outlinewidth\": 0, \"ticks\": \"\"}}, \"type\": \"scatterpolargl\"}], \"scatterternary\": [{\"marker\": {\"colorbar\": {\"outlinewidth\": 0, \"ticks\": \"\"}}, \"type\": \"scatterternary\"}], \"surface\": [{\"colorbar\": {\"outlinewidth\": 0, \"ticks\": \"\"}, \"colorscale\": [[0.0, \"#0d0887\"], [0.1111111111111111, \"#46039f\"], [0.2222222222222222, \"#7201a8\"], [0.3333333333333333, \"#9c179e\"], [0.4444444444444444, \"#bd3786\"], [0.5555555555555556, \"#d8576b\"], [0.6666666666666666, \"#ed7953\"], [0.7777777777777778, \"#fb9f3a\"], [0.8888888888888888, \"#fdca26\"], [1.0, \"#f0f921\"]], \"type\": \"surface\"}], \"table\": [{\"cells\": {\"fill\": {\"color\": \"#EBF0F8\"}, \"line\": {\"color\": \"white\"}}, \"header\": {\"fill\": {\"color\": \"#C8D4E3\"}, \"line\": {\"color\": \"white\"}}, \"type\": \"table\"}]}, \"layout\": {\"annotationdefaults\": {\"arrowcolor\": \"#2a3f5f\", \"arrowhead\": 0, \"arrowwidth\": 1}, \"coloraxis\": {\"colorbar\": {\"outlinewidth\": 0, \"ticks\": \"\"}}, \"colorscale\": {\"diverging\": [[0, \"#8e0152\"], [0.1, \"#c51b7d\"], [0.2, \"#de77ae\"], [0.3, \"#f1b6da\"], [0.4, \"#fde0ef\"], [0.5, \"#f7f7f7\"], [0.6, \"#e6f5d0\"], [0.7, \"#b8e186\"], [0.8, \"#7fbc41\"], [0.9, \"#4d9221\"], [1, \"#276419\"]], \"sequential\": [[0.0, \"#0d0887\"], [0.1111111111111111, \"#46039f\"], [0.2222222222222222, \"#7201a8\"], [0.3333333333333333, \"#9c179e\"], [0.4444444444444444, \"#bd3786\"], [0.5555555555555556, \"#d8576b\"], [0.6666666666666666, \"#ed7953\"], [0.7777777777777778, \"#fb9f3a\"], [0.8888888888888888, \"#fdca26\"], [1.0, \"#f0f921\"]], \"sequentialminus\": [[0.0, \"#0d0887\"], [0.1111111111111111, \"#46039f\"], [0.2222222222222222, \"#7201a8\"], [0.3333333333333333, \"#9c179e\"], [0.4444444444444444, \"#bd3786\"], [0.5555555555555556, \"#d8576b\"], [0.6666666666666666, \"#ed7953\"], [0.7777777777777778, \"#fb9f3a\"], [0.8888888888888888, \"#fdca26\"], [1.0, \"#f0f921\"]]}, \"colorway\": [\"#636efa\", \"#EF553B\", \"#00cc96\", \"#ab63fa\", \"#FFA15A\", \"#19d3f3\", \"#FF6692\", \"#B6E880\", \"#FF97FF\", \"#FECB52\"], \"font\": {\"color\": \"#2a3f5f\"}, \"geo\": {\"bgcolor\": \"white\", \"lakecolor\": \"white\", \"landcolor\": \"#E5ECF6\", \"showlakes\": true, \"showland\": true, \"subunitcolor\": \"white\"}, \"hoverlabel\": {\"align\": \"left\"}, \"hovermode\": \"closest\", \"mapbox\": {\"style\": \"light\"}, \"paper_bgcolor\": \"white\", \"plot_bgcolor\": \"#E5ECF6\", \"polar\": {\"angularaxis\": {\"gridcolor\": \"white\", \"linecolor\": \"white\", \"ticks\": \"\"}, \"bgcolor\": \"#E5ECF6\", \"radialaxis\": {\"gridcolor\": \"white\", \"linecolor\": \"white\", \"ticks\": \"\"}}, \"scene\": {\"xaxis\": {\"backgroundcolor\": \"#E5ECF6\", \"gridcolor\": \"white\", \"gridwidth\": 2, \"linecolor\": \"white\", \"showbackground\": true, \"ticks\": \"\", \"zerolinecolor\": \"white\"}, \"yaxis\": {\"backgroundcolor\": \"#E5ECF6\", \"gridcolor\": \"white\", \"gridwidth\": 2, \"linecolor\": \"white\", \"showbackground\": true, \"ticks\": \"\", \"zerolinecolor\": \"white\"}, \"zaxis\": {\"backgroundcolor\": \"#E5ECF6\", \"gridcolor\": \"white\", \"gridwidth\": 2, \"linecolor\": \"white\", \"showbackground\": true, \"ticks\": \"\", \"zerolinecolor\": \"white\"}}, \"shapedefaults\": {\"line\": {\"color\": \"#2a3f5f\"}}, \"ternary\": {\"aaxis\": {\"gridcolor\": \"white\", \"linecolor\": \"white\", \"ticks\": \"\"}, \"baxis\": {\"gridcolor\": \"white\", \"linecolor\": \"white\", \"ticks\": \"\"}, \"bgcolor\": \"#E5ECF6\", \"caxis\": {\"gridcolor\": \"white\", \"linecolor\": \"white\", \"ticks\": \"\"}}, \"title\": {\"x\": 0.05}, \"xaxis\": {\"automargin\": true, \"gridcolor\": \"white\", \"linecolor\": \"white\", \"ticks\": \"\", \"title\": {\"standoff\": 15}, \"zerolinecolor\": \"white\", \"zerolinewidth\": 2}, \"yaxis\": {\"automargin\": true, \"gridcolor\": \"white\", \"linecolor\": \"white\", \"ticks\": \"\", \"title\": {\"standoff\": 15}, \"zerolinecolor\": \"white\", \"zerolinewidth\": 2}}}, \"title\": {\"font\": {\"color\": \"#4D5663\"}}, \"xaxis\": {\"gridcolor\": \"#E1E5ED\", \"showgrid\": true, \"tickfont\": {\"color\": \"#4D5663\"}, \"title\": {\"font\": {\"color\": \"#4D5663\"}, \"text\": \"\"}, \"zerolinecolor\": \"#E1E5ED\"}, \"xaxis2\": {\"anchor\": \"y2\", \"gridcolor\": \"#E1E5ED\", \"showgrid\": true, \"showticklabels\": false, \"tickfont\": {\"color\": \"#4D5663\"}, \"title\": {\"font\": {\"color\": \"#4D5663\"}, \"text\": \"\"}, \"zerolinecolor\": \"#E1E5ED\"}, \"yaxis\": {\"domain\": [0.3, 1], \"gridcolor\": \"#E1E5ED\", \"showgrid\": true, \"tickfont\": {\"color\": \"#4D5663\"}, \"title\": {\"font\": {\"color\": \"#4D5663\"}, \"text\": \"\"}, \"zerolinecolor\": \"#E1E5ED\"}, \"yaxis2\": {\"domain\": [0, 0.25], \"gridcolor\": \"#E1E5ED\", \"showgrid\": true, \"tickfont\": {\"color\": \"#4D5663\"}, \"title\": {\"font\": {\"color\": \"#4D5663\"}, \"text\": \"Spread\"}, \"zerolinecolor\": \"#E1E5ED\"}},\n",
       "                        {\"showLink\": true, \"linkText\": \"Export to plot.ly\", \"plotlyServerURL\": \"https://plot.ly\", \"responsive\": true}\n",
       "                    ).then(function(){\n",
       "                            \n",
       "var gd = document.getElementById('eecc82d8-d3f6-400b-948c-3c232cfb8be0');\n",
       "var x = new MutationObserver(function (mutations, observer) {{\n",
       "        var display = window.getComputedStyle(gd).display;\n",
       "        if (!display || display === 'none') {{\n",
       "            console.log([gd, 'removed!']);\n",
       "            Plotly.purge(gd);\n",
       "            observer.disconnect();\n",
       "        }}\n",
       "}});\n",
       "\n",
       "// Listen for the removal of the full notebook cells\n",
       "var notebookContainer = gd.closest('#notebook-container');\n",
       "if (notebookContainer) {{\n",
       "    x.observe(notebookContainer, {childList: true});\n",
       "}}\n",
       "\n",
       "// Listen for the clearing of the current output cell\n",
       "var outputEl = gd.closest('.output');\n",
       "if (outputEl) {{\n",
       "    x.observe(outputEl, {childList: true});\n",
       "}}\n",
       "\n",
       "                        })\n",
       "                };\n",
       "                });\n",
       "            </script>\n",
       "        </div>"
      ]
     },
     "metadata": {},
     "output_type": "display_data"
    }
   ],
   "source": [
    "df[['A','B']].iplot(kind='spread')"
   ]
  },
  {
   "cell_type": "code",
   "execution_count": 34,
   "metadata": {},
   "outputs": [
    {
     "ename": "KeyError",
     "evalue": "12",
     "output_type": "error",
     "traceback": [
      "\u001b[1;31m---------------------------------------------------------------------------\u001b[0m",
      "\u001b[1;31mKeyError\u001b[0m                                  Traceback (most recent call last)",
      "\u001b[1;32mD:\\Install folder\\lib\\site-packages\\pandas\\core\\indexes\\base.py\u001b[0m in \u001b[0;36mget_loc\u001b[1;34m(self, key, method, tolerance)\u001b[0m\n\u001b[0;32m   2645\u001b[0m             \u001b[1;32mtry\u001b[0m\u001b[1;33m:\u001b[0m\u001b[1;33m\u001b[0m\u001b[1;33m\u001b[0m\u001b[0m\n\u001b[1;32m-> 2646\u001b[1;33m                 \u001b[1;32mreturn\u001b[0m \u001b[0mself\u001b[0m\u001b[1;33m.\u001b[0m\u001b[0m_engine\u001b[0m\u001b[1;33m.\u001b[0m\u001b[0mget_loc\u001b[0m\u001b[1;33m(\u001b[0m\u001b[0mkey\u001b[0m\u001b[1;33m)\u001b[0m\u001b[1;33m\u001b[0m\u001b[1;33m\u001b[0m\u001b[0m\n\u001b[0m\u001b[0;32m   2647\u001b[0m             \u001b[1;32mexcept\u001b[0m \u001b[0mKeyError\u001b[0m\u001b[1;33m:\u001b[0m\u001b[1;33m\u001b[0m\u001b[1;33m\u001b[0m\u001b[0m\n",
      "\u001b[1;32mpandas\\_libs\\index.pyx\u001b[0m in \u001b[0;36mpandas._libs.index.IndexEngine.get_loc\u001b[1;34m()\u001b[0m\n",
      "\u001b[1;32mpandas\\_libs\\index.pyx\u001b[0m in \u001b[0;36mpandas._libs.index.IndexEngine.get_loc\u001b[1;34m()\u001b[0m\n",
      "\u001b[1;32mpandas\\_libs\\hashtable_class_helper.pxi\u001b[0m in \u001b[0;36mpandas._libs.hashtable.PyObjectHashTable.get_item\u001b[1;34m()\u001b[0m\n",
      "\u001b[1;32mpandas\\_libs\\hashtable_class_helper.pxi\u001b[0m in \u001b[0;36mpandas._libs.hashtable.PyObjectHashTable.get_item\u001b[1;34m()\u001b[0m\n",
      "\u001b[1;31mKeyError\u001b[0m: 12",
      "\nDuring handling of the above exception, another exception occurred:\n",
      "\u001b[1;31mKeyError\u001b[0m                                  Traceback (most recent call last)",
      "\u001b[1;32m<ipython-input-34-a7f70c72796f>\u001b[0m in \u001b[0;36m<module>\u001b[1;34m\u001b[0m\n\u001b[1;32m----> 1\u001b[1;33m \u001b[0mdf\u001b[0m\u001b[1;33m.\u001b[0m\u001b[0miplot\u001b[0m\u001b[1;33m(\u001b[0m\u001b[0mkind\u001b[0m\u001b[1;33m=\u001b[0m\u001b[1;34m'bubble'\u001b[0m\u001b[1;33m,\u001b[0m\u001b[0mx\u001b[0m\u001b[1;33m=\u001b[0m\u001b[1;34m'A'\u001b[0m\u001b[1;33m,\u001b[0m\u001b[0my\u001b[0m\u001b[1;33m=\u001b[0m\u001b[1;34m'B'\u001b[0m\u001b[1;33m)\u001b[0m\u001b[1;33m\u001b[0m\u001b[1;33m\u001b[0m\u001b[0m\n\u001b[0m",
      "\u001b[1;32mD:\\Install folder\\lib\\site-packages\\cufflinks\\plotlytools.py\u001b[0m in \u001b[0;36m_iplot\u001b[1;34m(self, kind, data, layout, filename, sharing, title, xTitle, yTitle, zTitle, theme, colors, colorscale, fill, width, dash, mode, interpolation, symbol, size, barmode, sortbars, bargap, bargroupgap, bins, histnorm, histfunc, orientation, boxpoints, annotations, keys, bestfit, bestfit_colors, mean, mean_colors, categories, x, y, z, text, gridcolor, zerolinecolor, margin, labels, values, secondary_y, secondary_y_title, subplots, shape, error_x, error_y, error_type, locations, lon, lat, asFrame, asDates, asFigure, asImage, dimensions, asPlot, asUrl, online, **kwargs)\u001b[0m\n\u001b[0;32m    879\u001b[0m                                 \u001b[0my\u001b[0m\u001b[1;33m=\u001b[0m\u001b[0mself\u001b[0m\u001b[1;33m[\u001b[0m\u001b[0my\u001b[0m\u001b[1;33m]\u001b[0m\u001b[1;33m.\u001b[0m\u001b[0mvalues\u001b[0m\u001b[1;33m.\u001b[0m\u001b[0mtolist\u001b[0m\u001b[1;33m(\u001b[0m\u001b[1;33m)\u001b[0m\u001b[1;33m\u001b[0m\u001b[1;33m\u001b[0m\u001b[0m\n\u001b[0;32m    880\u001b[0m                                 \u001b[0mz\u001b[0m\u001b[1;33m=\u001b[0m\u001b[0msize\u001b[0m \u001b[1;32mif\u001b[0m \u001b[0msize\u001b[0m \u001b[1;32melse\u001b[0m \u001b[0mz\u001b[0m\u001b[1;33m\u001b[0m\u001b[1;33m\u001b[0m\u001b[0m\n\u001b[1;32m--> 881\u001b[1;33m                                 \u001b[0mrg\u001b[0m\u001b[1;33m=\u001b[0m\u001b[0mself\u001b[0m\u001b[1;33m[\u001b[0m\u001b[0mz\u001b[0m\u001b[1;33m]\u001b[0m\u001b[1;33m.\u001b[0m\u001b[0mvalues\u001b[0m\u001b[1;33m\u001b[0m\u001b[1;33m\u001b[0m\u001b[0m\n\u001b[0m\u001b[0;32m    882\u001b[0m                                 \u001b[1;32mif\u001b[0m \u001b[1;32mnot\u001b[0m \u001b[0mkwargs\u001b[0m\u001b[1;33m.\u001b[0m\u001b[0mget\u001b[0m\u001b[1;33m(\u001b[0m\u001b[1;34m'abs_size'\u001b[0m\u001b[1;33m,\u001b[0m\u001b[1;32mFalse\u001b[0m\u001b[1;33m)\u001b[0m\u001b[1;33m:\u001b[0m\u001b[1;33m\u001b[0m\u001b[1;33m\u001b[0m\u001b[0m\n\u001b[0;32m    883\u001b[0m                                         \u001b[1;32mif\u001b[0m \u001b[0mlen\u001b[0m\u001b[1;33m(\u001b[0m\u001b[0mrg\u001b[0m\u001b[1;33m)\u001b[0m \u001b[1;33m>\u001b[0m \u001b[1;36m1\u001b[0m\u001b[1;33m:\u001b[0m\u001b[1;33m\u001b[0m\u001b[1;33m\u001b[0m\u001b[0m\n",
      "\u001b[1;32mD:\\Install folder\\lib\\site-packages\\pandas\\core\\frame.py\u001b[0m in \u001b[0;36m__getitem__\u001b[1;34m(self, key)\u001b[0m\n\u001b[0;32m   2798\u001b[0m             \u001b[1;32mif\u001b[0m \u001b[0mself\u001b[0m\u001b[1;33m.\u001b[0m\u001b[0mcolumns\u001b[0m\u001b[1;33m.\u001b[0m\u001b[0mnlevels\u001b[0m \u001b[1;33m>\u001b[0m \u001b[1;36m1\u001b[0m\u001b[1;33m:\u001b[0m\u001b[1;33m\u001b[0m\u001b[1;33m\u001b[0m\u001b[0m\n\u001b[0;32m   2799\u001b[0m                 \u001b[1;32mreturn\u001b[0m \u001b[0mself\u001b[0m\u001b[1;33m.\u001b[0m\u001b[0m_getitem_multilevel\u001b[0m\u001b[1;33m(\u001b[0m\u001b[0mkey\u001b[0m\u001b[1;33m)\u001b[0m\u001b[1;33m\u001b[0m\u001b[1;33m\u001b[0m\u001b[0m\n\u001b[1;32m-> 2800\u001b[1;33m             \u001b[0mindexer\u001b[0m \u001b[1;33m=\u001b[0m \u001b[0mself\u001b[0m\u001b[1;33m.\u001b[0m\u001b[0mcolumns\u001b[0m\u001b[1;33m.\u001b[0m\u001b[0mget_loc\u001b[0m\u001b[1;33m(\u001b[0m\u001b[0mkey\u001b[0m\u001b[1;33m)\u001b[0m\u001b[1;33m\u001b[0m\u001b[1;33m\u001b[0m\u001b[0m\n\u001b[0m\u001b[0;32m   2801\u001b[0m             \u001b[1;32mif\u001b[0m \u001b[0mis_integer\u001b[0m\u001b[1;33m(\u001b[0m\u001b[0mindexer\u001b[0m\u001b[1;33m)\u001b[0m\u001b[1;33m:\u001b[0m\u001b[1;33m\u001b[0m\u001b[1;33m\u001b[0m\u001b[0m\n\u001b[0;32m   2802\u001b[0m                 \u001b[0mindexer\u001b[0m \u001b[1;33m=\u001b[0m \u001b[1;33m[\u001b[0m\u001b[0mindexer\u001b[0m\u001b[1;33m]\u001b[0m\u001b[1;33m\u001b[0m\u001b[1;33m\u001b[0m\u001b[0m\n",
      "\u001b[1;32mD:\\Install folder\\lib\\site-packages\\pandas\\core\\indexes\\base.py\u001b[0m in \u001b[0;36mget_loc\u001b[1;34m(self, key, method, tolerance)\u001b[0m\n\u001b[0;32m   2646\u001b[0m                 \u001b[1;32mreturn\u001b[0m \u001b[0mself\u001b[0m\u001b[1;33m.\u001b[0m\u001b[0m_engine\u001b[0m\u001b[1;33m.\u001b[0m\u001b[0mget_loc\u001b[0m\u001b[1;33m(\u001b[0m\u001b[0mkey\u001b[0m\u001b[1;33m)\u001b[0m\u001b[1;33m\u001b[0m\u001b[1;33m\u001b[0m\u001b[0m\n\u001b[0;32m   2647\u001b[0m             \u001b[1;32mexcept\u001b[0m \u001b[0mKeyError\u001b[0m\u001b[1;33m:\u001b[0m\u001b[1;33m\u001b[0m\u001b[1;33m\u001b[0m\u001b[0m\n\u001b[1;32m-> 2648\u001b[1;33m                 \u001b[1;32mreturn\u001b[0m \u001b[0mself\u001b[0m\u001b[1;33m.\u001b[0m\u001b[0m_engine\u001b[0m\u001b[1;33m.\u001b[0m\u001b[0mget_loc\u001b[0m\u001b[1;33m(\u001b[0m\u001b[0mself\u001b[0m\u001b[1;33m.\u001b[0m\u001b[0m_maybe_cast_indexer\u001b[0m\u001b[1;33m(\u001b[0m\u001b[0mkey\u001b[0m\u001b[1;33m)\u001b[0m\u001b[1;33m)\u001b[0m\u001b[1;33m\u001b[0m\u001b[1;33m\u001b[0m\u001b[0m\n\u001b[0m\u001b[0;32m   2649\u001b[0m         \u001b[0mindexer\u001b[0m \u001b[1;33m=\u001b[0m \u001b[0mself\u001b[0m\u001b[1;33m.\u001b[0m\u001b[0mget_indexer\u001b[0m\u001b[1;33m(\u001b[0m\u001b[1;33m[\u001b[0m\u001b[0mkey\u001b[0m\u001b[1;33m]\u001b[0m\u001b[1;33m,\u001b[0m \u001b[0mmethod\u001b[0m\u001b[1;33m=\u001b[0m\u001b[0mmethod\u001b[0m\u001b[1;33m,\u001b[0m \u001b[0mtolerance\u001b[0m\u001b[1;33m=\u001b[0m\u001b[0mtolerance\u001b[0m\u001b[1;33m)\u001b[0m\u001b[1;33m\u001b[0m\u001b[1;33m\u001b[0m\u001b[0m\n\u001b[0;32m   2650\u001b[0m         \u001b[1;32mif\u001b[0m \u001b[0mindexer\u001b[0m\u001b[1;33m.\u001b[0m\u001b[0mndim\u001b[0m \u001b[1;33m>\u001b[0m \u001b[1;36m1\u001b[0m \u001b[1;32mor\u001b[0m \u001b[0mindexer\u001b[0m\u001b[1;33m.\u001b[0m\u001b[0msize\u001b[0m \u001b[1;33m>\u001b[0m \u001b[1;36m1\u001b[0m\u001b[1;33m:\u001b[0m\u001b[1;33m\u001b[0m\u001b[1;33m\u001b[0m\u001b[0m\n",
      "\u001b[1;32mpandas\\_libs\\index.pyx\u001b[0m in \u001b[0;36mpandas._libs.index.IndexEngine.get_loc\u001b[1;34m()\u001b[0m\n",
      "\u001b[1;32mpandas\\_libs\\index.pyx\u001b[0m in \u001b[0;36mpandas._libs.index.IndexEngine.get_loc\u001b[1;34m()\u001b[0m\n",
      "\u001b[1;32mpandas\\_libs\\hashtable_class_helper.pxi\u001b[0m in \u001b[0;36mpandas._libs.hashtable.PyObjectHashTable.get_item\u001b[1;34m()\u001b[0m\n",
      "\u001b[1;32mpandas\\_libs\\hashtable_class_helper.pxi\u001b[0m in \u001b[0;36mpandas._libs.hashtable.PyObjectHashTable.get_item\u001b[1;34m()\u001b[0m\n",
      "\u001b[1;31mKeyError\u001b[0m: 12"
     ]
    }
   ],
   "source": [
    "df.iplot(kind='bubble',x='A',y='B')"
   ]
  },
  {
   "cell_type": "code",
   "execution_count": 35,
   "metadata": {},
   "outputs": [
    {
     "data": {
      "application/vnd.plotly.v1+json": {
       "config": {
        "linkText": "Export to plot.ly",
        "plotlyServerURL": "https://plot.ly",
        "showLink": true
       },
       "data": [
        {
         "histfunc": "count",
         "histnorm": "",
         "marker": {
          "color": "rgba(255, 153, 51, 1.0)",
          "line": {
           "color": "#4D5663",
           "width": 1.3
          }
         },
         "name": "A",
         "nbinsx": 10,
         "opacity": 0.8,
         "orientation": "v",
         "type": "histogram",
         "x": [
          1.5023563012055845,
          0.4087626388893659,
          1.5993197844213576,
          -0.5215118809744652,
          1.5681236600191981,
          0.7468356261210932,
          -0.749310641952968,
          0.1159935148313741,
          0.22045916587711767,
          -0.4550011729283677,
          0.8563933097341867,
          -2.066795909564812,
          -0.38285290167817404,
          0.01900787684381683,
          -0.12630271810268817,
          0.5680388021904351,
          1.14854911597069,
          0.6436069259066923,
          0.13859935383240438,
          -0.4956911855443848,
          0.4836194286327407,
          -1.2764417035087179,
          -0.5398190900873907,
          0.5796992019373896,
          -0.6037038043213754,
          0.7253532286953808,
          0.6834182495980821,
          -2.8845872018457897,
          1.0233482449319187,
          -2.552401535794378,
          2.3124239629877583,
          -0.8127401942686726,
          -0.23445084013367548,
          -0.6759192578683721,
          -2.5062077810487255,
          -1.2244355783037433,
          0.6694110332929116,
          -0.0034276115223639343,
          0.03204469823716342,
          -0.648084262291826,
          2.5628246207053778,
          0.9000009050597508,
          0.7517099499732545,
          1.2007637923291639,
          -1.9465668851371996,
          -2.413766407744819,
          -0.05082089573082934,
          1.207415735066595,
          -0.3835094510702304,
          0.5221421859827696,
          -0.5248958874051288,
          0.24619873930310585,
          0.5677610344566094,
          -0.4866092245561927,
          -0.7416586364234559,
          0.24855280589543127,
          1.2144044039988526,
          -0.14093054717060302,
          0.2963349236939744,
          -0.4291217100089392,
          1.1491732439347566,
          -0.5216591508755286,
          1.31822530500963,
          -0.47105727955537935,
          -0.40446633360902595,
          2.1459042895302747,
          0.6334555504966481,
          0.4176419554202106,
          -1.0273773683227392,
          1.1263431197506402,
          0.10469582241142089,
          -0.5906651009155758,
          -0.45518656697518617,
          1.3026059396663974,
          0.7571755070928892,
          0.10743952906925054,
          2.0706685836531564,
          0.5559870929964155,
          2.380054547983395,
          -0.39070598757151437,
          1.16309570735863,
          0.53168218102069,
          0.5568769817666138,
          0.39298936796065026,
          0.7338227726831591,
          0.5032917926801018,
          -0.5716134754818609,
          1.286383898901556,
          0.025648738117446,
          0.5157472248880189,
          -0.5104493617558568,
          -0.4733753767654713,
          0.36745876642344916,
          1.3072126283906071,
          0.35925235054705673,
          0.3793647207507,
          -0.21779341066885025,
          -0.5505938066317233,
          -0.5936228067274162,
          -0.18854451853239493
         ],
         "xaxis": "x",
         "yaxis": "y"
        },
        {
         "line": {
          "color": "rgba(128, 128, 128, 1.0)",
          "dash": "solid",
          "shape": "linear",
          "width": 1.3
         },
         "marker": {
          "size": 2,
          "symbol": "circle"
         },
         "mode": "markers",
         "name": "A",
         "text": "",
         "type": "scatter",
         "x": [
          -0.1412993310039659,
          0.11155348249657292,
          1.7453199674605695,
          -0.814399733552155,
          0.6214554653204177,
          -0.8935622081683393,
          0.7423908327196167,
          0.08876231792153962,
          0.40884368254280434,
          1.5231546429751541,
          -0.5038028339596781,
          1.277663239880953,
          1.9315664231705278,
          1.2882374316313956,
          -0.814476238152969,
          -2.0472988868964954,
          -1.1619809357848054,
          -0.6020708574357105,
          -0.4172171560670958,
          0.5656423397142257,
          -0.4422039548072374,
          1.6173040675324941,
          0.6934044898267794,
          -0.4948009086882394,
          -0.7040470246206365,
          -1.9134367284968632,
          0.7383244841914276,
          -1.1883843708189352,
          0.30363915459858953,
          0.2776451954473241,
          -0.7165225765471165,
          1.0077314628934022,
          -0.4603279365194043,
          0.38373042738479957,
          -0.518952600073326,
          -1.4636786992458364,
          0.7476083884716154,
          0.31237621371744645,
          1.1441291559955,
          -0.13738132300664588,
          0.2917094591812687,
          -0.5435138932574668,
          -0.09764547059440395,
          -0.8543035432170192,
          -1.694606999440116,
          0.6872321801985894,
          -0.3105771583046316,
          -0.14628769666578054,
          -1.2645444232569238,
          1.3221177881297856,
          -0.06864973864910799,
          0.5369862529725257,
          0.20434322894119525,
          0.9269791155272793,
          -0.10772717371906558,
          0.6636624429782333,
          -1.1341086710570782,
          0.7112881367396519,
          -0.24585306295182344,
          2.7491305879931875,
          -0.9081798223062961,
          -0.9157857216788398,
          -0.008619830977527013,
          0.4968473874841331,
          -0.5343255676597688,
          0.2855137060759064,
          0.6117559359156879,
          -2.446379280416086,
          0.33071812904434594,
          -1.071280221455606,
          0.685618779079314,
          1.4672553004235602,
          -0.3727388594504119,
          -0.09291567551181286,
          -0.34523412406140225,
          -0.05274550962737803,
          0.04654323576000232,
          0.2916776854652369,
          0.963598536755656,
          0.4654431727575727,
          0.19669889726716824,
          -0.7242027558405483,
          -0.7113448412421286,
          -0.21696242004052127,
          -0.6539765540211312,
          -1.9236864401903981,
          1.0149705541185587,
          1.0646071027030528,
          -0.9559870634609606,
          0.46215740722226095,
          -0.5700862496512421,
          0.5363637562177255,
          -1.0839231569328327,
          0.5562315410374225,
          -0.7832219667339138,
          0.4841939952459761,
          -2.3192789416549995,
          -1.4624996532320187,
          -0.31539742955163974,
          0.07762935312683132
         ],
         "xaxis": "x2",
         "y": [
          1.5023563012055845,
          0.4087626388893659,
          1.5993197844213576,
          -0.5215118809744652,
          1.5681236600191981,
          0.7468356261210932,
          -0.749310641952968,
          0.1159935148313741,
          0.22045916587711767,
          -0.4550011729283677,
          0.8563933097341867,
          -2.066795909564812,
          -0.38285290167817404,
          0.01900787684381683,
          -0.12630271810268817,
          0.5680388021904351,
          1.14854911597069,
          0.6436069259066923,
          0.13859935383240438,
          -0.4956911855443848,
          0.4836194286327407,
          -1.2764417035087179,
          -0.5398190900873907,
          0.5796992019373896,
          -0.6037038043213754,
          0.7253532286953808,
          0.6834182495980821,
          -2.8845872018457897,
          1.0233482449319187,
          -2.552401535794378,
          2.3124239629877583,
          -0.8127401942686726,
          -0.23445084013367548,
          -0.6759192578683721,
          -2.5062077810487255,
          -1.2244355783037433,
          0.6694110332929116,
          -0.0034276115223639343,
          0.03204469823716342,
          -0.648084262291826,
          2.5628246207053778,
          0.9000009050597508,
          0.7517099499732545,
          1.2007637923291639,
          -1.9465668851371996,
          -2.413766407744819,
          -0.05082089573082934,
          1.207415735066595,
          -0.3835094510702304,
          0.5221421859827696,
          -0.5248958874051288,
          0.24619873930310585,
          0.5677610344566094,
          -0.4866092245561927,
          -0.7416586364234559,
          0.24855280589543127,
          1.2144044039988526,
          -0.14093054717060302,
          0.2963349236939744,
          -0.4291217100089392,
          1.1491732439347566,
          -0.5216591508755286,
          1.31822530500963,
          -0.47105727955537935,
          -0.40446633360902595,
          2.1459042895302747,
          0.6334555504966481,
          0.4176419554202106,
          -1.0273773683227392,
          1.1263431197506402,
          0.10469582241142089,
          -0.5906651009155758,
          -0.45518656697518617,
          1.3026059396663974,
          0.7571755070928892,
          0.10743952906925054,
          2.0706685836531564,
          0.5559870929964155,
          2.380054547983395,
          -0.39070598757151437,
          1.16309570735863,
          0.53168218102069,
          0.5568769817666138,
          0.39298936796065026,
          0.7338227726831591,
          0.5032917926801018,
          -0.5716134754818609,
          1.286383898901556,
          0.025648738117446,
          0.5157472248880189,
          -0.5104493617558568,
          -0.4733753767654713,
          0.36745876642344916,
          1.3072126283906071,
          0.35925235054705673,
          0.3793647207507,
          -0.21779341066885025,
          -0.5505938066317233,
          -0.5936228067274162,
          -0.18854451853239493
         ],
         "yaxis": "y2"
        },
        {
         "line": {
          "color": "rgba(128, 128, 128, 1.0)",
          "dash": "solid",
          "shape": "linear",
          "width": 1.3
         },
         "marker": {
          "size": 2,
          "symbol": "circle"
         },
         "mode": "markers",
         "name": "A",
         "text": "",
         "type": "scatter",
         "x": [
          0.4060127339438663,
          -0.7982496783697365,
          1.123601971839627,
          0.4058048602297246,
          0.2745561016720758,
          0.027475844105220772,
          -0.22383021302281453,
          -0.39387936056102335,
          0.46958773686681554,
          1.0318532728612242,
          -0.24670914055786855,
          -0.6158092236253605,
          0.3357316529625056,
          0.33549334879556586,
          -0.3420057984448994,
          -0.5729067470502307,
          0.944555988637591,
          1.6466709364637417,
          -0.6046253611903157,
          1.1164169657669007,
          -0.20836647515525453,
          -0.3251835589694398,
          -1.2223825639379888,
          0.9111127533544581,
          0.7714510155383001,
          -0.11910029332390273,
          0.6925253498084671,
          0.761678498587015,
          -0.21122116515593753,
          -1.8911317407454065,
          -0.6477421966041468,
          1.746998679272337,
          -1.7771617442088992,
          0.6549085009105307,
          1.4788993264746322,
          -0.5627472212555263,
          -0.9117802943654789,
          -0.044173489311235214,
          0.7799243277831824,
          -0.009326740102037481,
          -0.7202522194882793,
          -0.7240445885164354,
          0.49987218845528786,
          -0.19517962211662349,
          0.012250267699824213,
          -0.22559392376468862,
          -0.4808350357460893,
          -0.8198241736310934,
          0.19911254148027172,
          0.5290633506851798,
          0.2526330126879686,
          -0.9212198132849635,
          1.330206416841273,
          -1.3646681089815724,
          -0.8176747165637754,
          0.8453057646843333,
          -0.4028552804000192,
          -2.060148639010836,
          0.5812027839577867,
          0.11052420643035013,
          0.41282004544314155,
          -0.14089989297248323,
          1.45061283483238,
          0.18831388859592682,
          -1.1439882648437452,
          -1.1849927000093727,
          1.2413796077745642,
          -0.5577161325566812,
          -0.61933102563376,
          -1.037967425542334,
          -1.1119068495937685,
          -0.34404925965830496,
          -1.5708253521732911,
          -0.1744878934567653,
          -0.6375590559920541,
          -1.5414458738716459,
          0.919868277100258,
          1.0490659600613328,
          0.08470892651567892,
          -1.1117047344287596,
          0.07203519479416232,
          0.006055862150619064,
          1.2245168625491816,
          0.3591325369860431,
          -0.014752796925019226,
          0.9663004218908801,
          0.6340307723650775,
          1.1679323322976998,
          -0.8019974364914285,
          2.009899707838478,
          1.351686235098478,
          -0.16357633038026712,
          1.0467381976205765,
          -0.9884777911500046,
          -1.179242961599606,
          0.19637991258516102,
          0.02752192332194667,
          -0.4772929189208354,
          -1.2072566311627462,
          0.28531937373349664
         ],
         "xaxis": "x3",
         "y": [
          1.5023563012055845,
          0.4087626388893659,
          1.5993197844213576,
          -0.5215118809744652,
          1.5681236600191981,
          0.7468356261210932,
          -0.749310641952968,
          0.1159935148313741,
          0.22045916587711767,
          -0.4550011729283677,
          0.8563933097341867,
          -2.066795909564812,
          -0.38285290167817404,
          0.01900787684381683,
          -0.12630271810268817,
          0.5680388021904351,
          1.14854911597069,
          0.6436069259066923,
          0.13859935383240438,
          -0.4956911855443848,
          0.4836194286327407,
          -1.2764417035087179,
          -0.5398190900873907,
          0.5796992019373896,
          -0.6037038043213754,
          0.7253532286953808,
          0.6834182495980821,
          -2.8845872018457897,
          1.0233482449319187,
          -2.552401535794378,
          2.3124239629877583,
          -0.8127401942686726,
          -0.23445084013367548,
          -0.6759192578683721,
          -2.5062077810487255,
          -1.2244355783037433,
          0.6694110332929116,
          -0.0034276115223639343,
          0.03204469823716342,
          -0.648084262291826,
          2.5628246207053778,
          0.9000009050597508,
          0.7517099499732545,
          1.2007637923291639,
          -1.9465668851371996,
          -2.413766407744819,
          -0.05082089573082934,
          1.207415735066595,
          -0.3835094510702304,
          0.5221421859827696,
          -0.5248958874051288,
          0.24619873930310585,
          0.5677610344566094,
          -0.4866092245561927,
          -0.7416586364234559,
          0.24855280589543127,
          1.2144044039988526,
          -0.14093054717060302,
          0.2963349236939744,
          -0.4291217100089392,
          1.1491732439347566,
          -0.5216591508755286,
          1.31822530500963,
          -0.47105727955537935,
          -0.40446633360902595,
          2.1459042895302747,
          0.6334555504966481,
          0.4176419554202106,
          -1.0273773683227392,
          1.1263431197506402,
          0.10469582241142089,
          -0.5906651009155758,
          -0.45518656697518617,
          1.3026059396663974,
          0.7571755070928892,
          0.10743952906925054,
          2.0706685836531564,
          0.5559870929964155,
          2.380054547983395,
          -0.39070598757151437,
          1.16309570735863,
          0.53168218102069,
          0.5568769817666138,
          0.39298936796065026,
          0.7338227726831591,
          0.5032917926801018,
          -0.5716134754818609,
          1.286383898901556,
          0.025648738117446,
          0.5157472248880189,
          -0.5104493617558568,
          -0.4733753767654713,
          0.36745876642344916,
          1.3072126283906071,
          0.35925235054705673,
          0.3793647207507,
          -0.21779341066885025,
          -0.5505938066317233,
          -0.5936228067274162,
          -0.18854451853239493
         ],
         "yaxis": "y3"
        },
        {
         "line": {
          "color": "rgba(128, 128, 128, 1.0)",
          "dash": "solid",
          "shape": "linear",
          "width": 1.3
         },
         "marker": {
          "size": 2,
          "symbol": "circle"
         },
         "mode": "markers",
         "name": "A",
         "text": "",
         "type": "scatter",
         "x": [
          -1.384133836883895,
          1.6279036565882115,
          -0.9299821435910816,
          0.35486494817093983,
          1.6290606005838537,
          0.8653327008822459,
          0.15013252944094518,
          0.28971818542358885,
          -0.6452317482474019,
          1.3151329392327118,
          -0.4601930499485809,
          0.01796751366341419,
          -0.2863077986587903,
          0.7221752593929269,
          1.1438494986725094,
          1.704750899635022,
          2.0255558584427145,
          0.4869696515487609,
          -0.7753590689761756,
          0.5894599802215743,
          -0.5099209544243769,
          0.971142453454226,
          1.4135296149222607,
          0.46368222120546493,
          -0.2099110424911986,
          0.8555892169194312,
          -0.8666033652100801,
          -0.2306133820653981,
          1.9089544676825587,
          0.48126067046847626,
          -0.6815478231682852,
          -0.7012394354255265,
          -0.4047358182565961,
          -1.0906657672931215,
          -0.5310813760482439,
          -1.1553728557319203,
          2.1544499479595145,
          0.21019983690878644,
          0.11648620825479883,
          -0.6736364979743092,
          0.43450673915401905,
          -0.98897228814661,
          -0.5665651061675469,
          1.6754808091110636,
          0.22626422636394813,
          0.07919047376157638,
          0.47646469707111916,
          0.314116725600217,
          1.0625187131973928,
          -0.2287637563650373,
          -0.08284518464672441,
          -0.8301973110501326,
          -0.4028005160347876,
          0.24672132353258178,
          0.15450240306366955,
          -0.8804013772595688,
          -0.7580135896092738,
          -1.7051536353409653,
          1.0626662974393108,
          0.2526824633221683,
          0.8340379444053333,
          0.14124629647157924,
          -0.49243382012914344,
          -0.9599076627068123,
          0.7149885906661986,
          0.4750175942064842,
          -0.5873964713638485,
          1.6930034548000927,
          -0.09315530497266254,
          0.710403964378997,
          -1.1932154200104725,
          -1.0562238516298499,
          -0.2690924803512119,
          0.49758681226637225,
          -1.0773982877105088,
          0.07911034291757471,
          -0.39902453071887745,
          1.0700856351960735,
          -1.057358139564738,
          0.37533863810957413,
          -2.84037344606979,
          -0.7091852096155062,
          -0.9566975881638045,
          0.35100423287660615,
          -1.4217070977134791,
          0.4182186974869994,
          0.15184097974894464,
          0.013448617348159643,
          0.3125613854661278,
          1.514216766439221,
          1.3523238006848513,
          -0.24663932645882697,
          1.0446188476433422,
          -0.8035903583066685,
          -0.8232789379519444,
          0.28646918218662437,
          -0.4371347569536695,
          -0.3411639230662988,
          -1.0645835371189294,
          0.7317930121637225
         ],
         "xaxis": "x4",
         "y": [
          1.5023563012055845,
          0.4087626388893659,
          1.5993197844213576,
          -0.5215118809744652,
          1.5681236600191981,
          0.7468356261210932,
          -0.749310641952968,
          0.1159935148313741,
          0.22045916587711767,
          -0.4550011729283677,
          0.8563933097341867,
          -2.066795909564812,
          -0.38285290167817404,
          0.01900787684381683,
          -0.12630271810268817,
          0.5680388021904351,
          1.14854911597069,
          0.6436069259066923,
          0.13859935383240438,
          -0.4956911855443848,
          0.4836194286327407,
          -1.2764417035087179,
          -0.5398190900873907,
          0.5796992019373896,
          -0.6037038043213754,
          0.7253532286953808,
          0.6834182495980821,
          -2.8845872018457897,
          1.0233482449319187,
          -2.552401535794378,
          2.3124239629877583,
          -0.8127401942686726,
          -0.23445084013367548,
          -0.6759192578683721,
          -2.5062077810487255,
          -1.2244355783037433,
          0.6694110332929116,
          -0.0034276115223639343,
          0.03204469823716342,
          -0.648084262291826,
          2.5628246207053778,
          0.9000009050597508,
          0.7517099499732545,
          1.2007637923291639,
          -1.9465668851371996,
          -2.413766407744819,
          -0.05082089573082934,
          1.207415735066595,
          -0.3835094510702304,
          0.5221421859827696,
          -0.5248958874051288,
          0.24619873930310585,
          0.5677610344566094,
          -0.4866092245561927,
          -0.7416586364234559,
          0.24855280589543127,
          1.2144044039988526,
          -0.14093054717060302,
          0.2963349236939744,
          -0.4291217100089392,
          1.1491732439347566,
          -0.5216591508755286,
          1.31822530500963,
          -0.47105727955537935,
          -0.40446633360902595,
          2.1459042895302747,
          0.6334555504966481,
          0.4176419554202106,
          -1.0273773683227392,
          1.1263431197506402,
          0.10469582241142089,
          -0.5906651009155758,
          -0.45518656697518617,
          1.3026059396663974,
          0.7571755070928892,
          0.10743952906925054,
          2.0706685836531564,
          0.5559870929964155,
          2.380054547983395,
          -0.39070598757151437,
          1.16309570735863,
          0.53168218102069,
          0.5568769817666138,
          0.39298936796065026,
          0.7338227726831591,
          0.5032917926801018,
          -0.5716134754818609,
          1.286383898901556,
          0.025648738117446,
          0.5157472248880189,
          -0.5104493617558568,
          -0.4733753767654713,
          0.36745876642344916,
          1.3072126283906071,
          0.35925235054705673,
          0.3793647207507,
          -0.21779341066885025,
          -0.5505938066317233,
          -0.5936228067274162,
          -0.18854451853239493
         ],
         "yaxis": "y4"
        },
        {
         "line": {
          "color": "rgba(128, 128, 128, 1.0)",
          "dash": "solid",
          "shape": "linear",
          "width": 1.3
         },
         "marker": {
          "size": 2,
          "symbol": "circle"
         },
         "mode": "markers",
         "name": "B",
         "text": "",
         "type": "scatter",
         "x": [
          1.5023563012055845,
          0.4087626388893659,
          1.5993197844213576,
          -0.5215118809744652,
          1.5681236600191981,
          0.7468356261210932,
          -0.749310641952968,
          0.1159935148313741,
          0.22045916587711767,
          -0.4550011729283677,
          0.8563933097341867,
          -2.066795909564812,
          -0.38285290167817404,
          0.01900787684381683,
          -0.12630271810268817,
          0.5680388021904351,
          1.14854911597069,
          0.6436069259066923,
          0.13859935383240438,
          -0.4956911855443848,
          0.4836194286327407,
          -1.2764417035087179,
          -0.5398190900873907,
          0.5796992019373896,
          -0.6037038043213754,
          0.7253532286953808,
          0.6834182495980821,
          -2.8845872018457897,
          1.0233482449319187,
          -2.552401535794378,
          2.3124239629877583,
          -0.8127401942686726,
          -0.23445084013367548,
          -0.6759192578683721,
          -2.5062077810487255,
          -1.2244355783037433,
          0.6694110332929116,
          -0.0034276115223639343,
          0.03204469823716342,
          -0.648084262291826,
          2.5628246207053778,
          0.9000009050597508,
          0.7517099499732545,
          1.2007637923291639,
          -1.9465668851371996,
          -2.413766407744819,
          -0.05082089573082934,
          1.207415735066595,
          -0.3835094510702304,
          0.5221421859827696,
          -0.5248958874051288,
          0.24619873930310585,
          0.5677610344566094,
          -0.4866092245561927,
          -0.7416586364234559,
          0.24855280589543127,
          1.2144044039988526,
          -0.14093054717060302,
          0.2963349236939744,
          -0.4291217100089392,
          1.1491732439347566,
          -0.5216591508755286,
          1.31822530500963,
          -0.47105727955537935,
          -0.40446633360902595,
          2.1459042895302747,
          0.6334555504966481,
          0.4176419554202106,
          -1.0273773683227392,
          1.1263431197506402,
          0.10469582241142089,
          -0.5906651009155758,
          -0.45518656697518617,
          1.3026059396663974,
          0.7571755070928892,
          0.10743952906925054,
          2.0706685836531564,
          0.5559870929964155,
          2.380054547983395,
          -0.39070598757151437,
          1.16309570735863,
          0.53168218102069,
          0.5568769817666138,
          0.39298936796065026,
          0.7338227726831591,
          0.5032917926801018,
          -0.5716134754818609,
          1.286383898901556,
          0.025648738117446,
          0.5157472248880189,
          -0.5104493617558568,
          -0.4733753767654713,
          0.36745876642344916,
          1.3072126283906071,
          0.35925235054705673,
          0.3793647207507,
          -0.21779341066885025,
          -0.5505938066317233,
          -0.5936228067274162,
          -0.18854451853239493
         ],
         "xaxis": "x5",
         "y": [
          -0.1412993310039659,
          0.11155348249657292,
          1.7453199674605695,
          -0.814399733552155,
          0.6214554653204177,
          -0.8935622081683393,
          0.7423908327196167,
          0.08876231792153962,
          0.40884368254280434,
          1.5231546429751541,
          -0.5038028339596781,
          1.277663239880953,
          1.9315664231705278,
          1.2882374316313956,
          -0.814476238152969,
          -2.0472988868964954,
          -1.1619809357848054,
          -0.6020708574357105,
          -0.4172171560670958,
          0.5656423397142257,
          -0.4422039548072374,
          1.6173040675324941,
          0.6934044898267794,
          -0.4948009086882394,
          -0.7040470246206365,
          -1.9134367284968632,
          0.7383244841914276,
          -1.1883843708189352,
          0.30363915459858953,
          0.2776451954473241,
          -0.7165225765471165,
          1.0077314628934022,
          -0.4603279365194043,
          0.38373042738479957,
          -0.518952600073326,
          -1.4636786992458364,
          0.7476083884716154,
          0.31237621371744645,
          1.1441291559955,
          -0.13738132300664588,
          0.2917094591812687,
          -0.5435138932574668,
          -0.09764547059440395,
          -0.8543035432170192,
          -1.694606999440116,
          0.6872321801985894,
          -0.3105771583046316,
          -0.14628769666578054,
          -1.2645444232569238,
          1.3221177881297856,
          -0.06864973864910799,
          0.5369862529725257,
          0.20434322894119525,
          0.9269791155272793,
          -0.10772717371906558,
          0.6636624429782333,
          -1.1341086710570782,
          0.7112881367396519,
          -0.24585306295182344,
          2.7491305879931875,
          -0.9081798223062961,
          -0.9157857216788398,
          -0.008619830977527013,
          0.4968473874841331,
          -0.5343255676597688,
          0.2855137060759064,
          0.6117559359156879,
          -2.446379280416086,
          0.33071812904434594,
          -1.071280221455606,
          0.685618779079314,
          1.4672553004235602,
          -0.3727388594504119,
          -0.09291567551181286,
          -0.34523412406140225,
          -0.05274550962737803,
          0.04654323576000232,
          0.2916776854652369,
          0.963598536755656,
          0.4654431727575727,
          0.19669889726716824,
          -0.7242027558405483,
          -0.7113448412421286,
          -0.21696242004052127,
          -0.6539765540211312,
          -1.9236864401903981,
          1.0149705541185587,
          1.0646071027030528,
          -0.9559870634609606,
          0.46215740722226095,
          -0.5700862496512421,
          0.5363637562177255,
          -1.0839231569328327,
          0.5562315410374225,
          -0.7832219667339138,
          0.4841939952459761,
          -2.3192789416549995,
          -1.4624996532320187,
          -0.31539742955163974,
          0.07762935312683132
         ],
         "yaxis": "y5"
        },
        {
         "histfunc": "count",
         "histnorm": "",
         "marker": {
          "color": "rgba(55, 128, 191, 1.0)",
          "line": {
           "color": "#4D5663",
           "width": 1.3
          }
         },
         "name": "B",
         "nbinsx": 10,
         "opacity": 0.8,
         "orientation": "v",
         "type": "histogram",
         "x": [
          -0.1412993310039659,
          0.11155348249657292,
          1.7453199674605695,
          -0.814399733552155,
          0.6214554653204177,
          -0.8935622081683393,
          0.7423908327196167,
          0.08876231792153962,
          0.40884368254280434,
          1.5231546429751541,
          -0.5038028339596781,
          1.277663239880953,
          1.9315664231705278,
          1.2882374316313956,
          -0.814476238152969,
          -2.0472988868964954,
          -1.1619809357848054,
          -0.6020708574357105,
          -0.4172171560670958,
          0.5656423397142257,
          -0.4422039548072374,
          1.6173040675324941,
          0.6934044898267794,
          -0.4948009086882394,
          -0.7040470246206365,
          -1.9134367284968632,
          0.7383244841914276,
          -1.1883843708189352,
          0.30363915459858953,
          0.2776451954473241,
          -0.7165225765471165,
          1.0077314628934022,
          -0.4603279365194043,
          0.38373042738479957,
          -0.518952600073326,
          -1.4636786992458364,
          0.7476083884716154,
          0.31237621371744645,
          1.1441291559955,
          -0.13738132300664588,
          0.2917094591812687,
          -0.5435138932574668,
          -0.09764547059440395,
          -0.8543035432170192,
          -1.694606999440116,
          0.6872321801985894,
          -0.3105771583046316,
          -0.14628769666578054,
          -1.2645444232569238,
          1.3221177881297856,
          -0.06864973864910799,
          0.5369862529725257,
          0.20434322894119525,
          0.9269791155272793,
          -0.10772717371906558,
          0.6636624429782333,
          -1.1341086710570782,
          0.7112881367396519,
          -0.24585306295182344,
          2.7491305879931875,
          -0.9081798223062961,
          -0.9157857216788398,
          -0.008619830977527013,
          0.4968473874841331,
          -0.5343255676597688,
          0.2855137060759064,
          0.6117559359156879,
          -2.446379280416086,
          0.33071812904434594,
          -1.071280221455606,
          0.685618779079314,
          1.4672553004235602,
          -0.3727388594504119,
          -0.09291567551181286,
          -0.34523412406140225,
          -0.05274550962737803,
          0.04654323576000232,
          0.2916776854652369,
          0.963598536755656,
          0.4654431727575727,
          0.19669889726716824,
          -0.7242027558405483,
          -0.7113448412421286,
          -0.21696242004052127,
          -0.6539765540211312,
          -1.9236864401903981,
          1.0149705541185587,
          1.0646071027030528,
          -0.9559870634609606,
          0.46215740722226095,
          -0.5700862496512421,
          0.5363637562177255,
          -1.0839231569328327,
          0.5562315410374225,
          -0.7832219667339138,
          0.4841939952459761,
          -2.3192789416549995,
          -1.4624996532320187,
          -0.31539742955163974,
          0.07762935312683132
         ],
         "xaxis": "x6",
         "yaxis": "y6"
        },
        {
         "line": {
          "color": "rgba(128, 128, 128, 1.0)",
          "dash": "solid",
          "shape": "linear",
          "width": 1.3
         },
         "marker": {
          "size": 2,
          "symbol": "circle"
         },
         "mode": "markers",
         "name": "B",
         "text": "",
         "type": "scatter",
         "x": [
          0.4060127339438663,
          -0.7982496783697365,
          1.123601971839627,
          0.4058048602297246,
          0.2745561016720758,
          0.027475844105220772,
          -0.22383021302281453,
          -0.39387936056102335,
          0.46958773686681554,
          1.0318532728612242,
          -0.24670914055786855,
          -0.6158092236253605,
          0.3357316529625056,
          0.33549334879556586,
          -0.3420057984448994,
          -0.5729067470502307,
          0.944555988637591,
          1.6466709364637417,
          -0.6046253611903157,
          1.1164169657669007,
          -0.20836647515525453,
          -0.3251835589694398,
          -1.2223825639379888,
          0.9111127533544581,
          0.7714510155383001,
          -0.11910029332390273,
          0.6925253498084671,
          0.761678498587015,
          -0.21122116515593753,
          -1.8911317407454065,
          -0.6477421966041468,
          1.746998679272337,
          -1.7771617442088992,
          0.6549085009105307,
          1.4788993264746322,
          -0.5627472212555263,
          -0.9117802943654789,
          -0.044173489311235214,
          0.7799243277831824,
          -0.009326740102037481,
          -0.7202522194882793,
          -0.7240445885164354,
          0.49987218845528786,
          -0.19517962211662349,
          0.012250267699824213,
          -0.22559392376468862,
          -0.4808350357460893,
          -0.8198241736310934,
          0.19911254148027172,
          0.5290633506851798,
          0.2526330126879686,
          -0.9212198132849635,
          1.330206416841273,
          -1.3646681089815724,
          -0.8176747165637754,
          0.8453057646843333,
          -0.4028552804000192,
          -2.060148639010836,
          0.5812027839577867,
          0.11052420643035013,
          0.41282004544314155,
          -0.14089989297248323,
          1.45061283483238,
          0.18831388859592682,
          -1.1439882648437452,
          -1.1849927000093727,
          1.2413796077745642,
          -0.5577161325566812,
          -0.61933102563376,
          -1.037967425542334,
          -1.1119068495937685,
          -0.34404925965830496,
          -1.5708253521732911,
          -0.1744878934567653,
          -0.6375590559920541,
          -1.5414458738716459,
          0.919868277100258,
          1.0490659600613328,
          0.08470892651567892,
          -1.1117047344287596,
          0.07203519479416232,
          0.006055862150619064,
          1.2245168625491816,
          0.3591325369860431,
          -0.014752796925019226,
          0.9663004218908801,
          0.6340307723650775,
          1.1679323322976998,
          -0.8019974364914285,
          2.009899707838478,
          1.351686235098478,
          -0.16357633038026712,
          1.0467381976205765,
          -0.9884777911500046,
          -1.179242961599606,
          0.19637991258516102,
          0.02752192332194667,
          -0.4772929189208354,
          -1.2072566311627462,
          0.28531937373349664
         ],
         "xaxis": "x7",
         "y": [
          -0.1412993310039659,
          0.11155348249657292,
          1.7453199674605695,
          -0.814399733552155,
          0.6214554653204177,
          -0.8935622081683393,
          0.7423908327196167,
          0.08876231792153962,
          0.40884368254280434,
          1.5231546429751541,
          -0.5038028339596781,
          1.277663239880953,
          1.9315664231705278,
          1.2882374316313956,
          -0.814476238152969,
          -2.0472988868964954,
          -1.1619809357848054,
          -0.6020708574357105,
          -0.4172171560670958,
          0.5656423397142257,
          -0.4422039548072374,
          1.6173040675324941,
          0.6934044898267794,
          -0.4948009086882394,
          -0.7040470246206365,
          -1.9134367284968632,
          0.7383244841914276,
          -1.1883843708189352,
          0.30363915459858953,
          0.2776451954473241,
          -0.7165225765471165,
          1.0077314628934022,
          -0.4603279365194043,
          0.38373042738479957,
          -0.518952600073326,
          -1.4636786992458364,
          0.7476083884716154,
          0.31237621371744645,
          1.1441291559955,
          -0.13738132300664588,
          0.2917094591812687,
          -0.5435138932574668,
          -0.09764547059440395,
          -0.8543035432170192,
          -1.694606999440116,
          0.6872321801985894,
          -0.3105771583046316,
          -0.14628769666578054,
          -1.2645444232569238,
          1.3221177881297856,
          -0.06864973864910799,
          0.5369862529725257,
          0.20434322894119525,
          0.9269791155272793,
          -0.10772717371906558,
          0.6636624429782333,
          -1.1341086710570782,
          0.7112881367396519,
          -0.24585306295182344,
          2.7491305879931875,
          -0.9081798223062961,
          -0.9157857216788398,
          -0.008619830977527013,
          0.4968473874841331,
          -0.5343255676597688,
          0.2855137060759064,
          0.6117559359156879,
          -2.446379280416086,
          0.33071812904434594,
          -1.071280221455606,
          0.685618779079314,
          1.4672553004235602,
          -0.3727388594504119,
          -0.09291567551181286,
          -0.34523412406140225,
          -0.05274550962737803,
          0.04654323576000232,
          0.2916776854652369,
          0.963598536755656,
          0.4654431727575727,
          0.19669889726716824,
          -0.7242027558405483,
          -0.7113448412421286,
          -0.21696242004052127,
          -0.6539765540211312,
          -1.9236864401903981,
          1.0149705541185587,
          1.0646071027030528,
          -0.9559870634609606,
          0.46215740722226095,
          -0.5700862496512421,
          0.5363637562177255,
          -1.0839231569328327,
          0.5562315410374225,
          -0.7832219667339138,
          0.4841939952459761,
          -2.3192789416549995,
          -1.4624996532320187,
          -0.31539742955163974,
          0.07762935312683132
         ],
         "yaxis": "y7"
        },
        {
         "line": {
          "color": "rgba(128, 128, 128, 1.0)",
          "dash": "solid",
          "shape": "linear",
          "width": 1.3
         },
         "marker": {
          "size": 2,
          "symbol": "circle"
         },
         "mode": "markers",
         "name": "B",
         "text": "",
         "type": "scatter",
         "x": [
          -1.384133836883895,
          1.6279036565882115,
          -0.9299821435910816,
          0.35486494817093983,
          1.6290606005838537,
          0.8653327008822459,
          0.15013252944094518,
          0.28971818542358885,
          -0.6452317482474019,
          1.3151329392327118,
          -0.4601930499485809,
          0.01796751366341419,
          -0.2863077986587903,
          0.7221752593929269,
          1.1438494986725094,
          1.704750899635022,
          2.0255558584427145,
          0.4869696515487609,
          -0.7753590689761756,
          0.5894599802215743,
          -0.5099209544243769,
          0.971142453454226,
          1.4135296149222607,
          0.46368222120546493,
          -0.2099110424911986,
          0.8555892169194312,
          -0.8666033652100801,
          -0.2306133820653981,
          1.9089544676825587,
          0.48126067046847626,
          -0.6815478231682852,
          -0.7012394354255265,
          -0.4047358182565961,
          -1.0906657672931215,
          -0.5310813760482439,
          -1.1553728557319203,
          2.1544499479595145,
          0.21019983690878644,
          0.11648620825479883,
          -0.6736364979743092,
          0.43450673915401905,
          -0.98897228814661,
          -0.5665651061675469,
          1.6754808091110636,
          0.22626422636394813,
          0.07919047376157638,
          0.47646469707111916,
          0.314116725600217,
          1.0625187131973928,
          -0.2287637563650373,
          -0.08284518464672441,
          -0.8301973110501326,
          -0.4028005160347876,
          0.24672132353258178,
          0.15450240306366955,
          -0.8804013772595688,
          -0.7580135896092738,
          -1.7051536353409653,
          1.0626662974393108,
          0.2526824633221683,
          0.8340379444053333,
          0.14124629647157924,
          -0.49243382012914344,
          -0.9599076627068123,
          0.7149885906661986,
          0.4750175942064842,
          -0.5873964713638485,
          1.6930034548000927,
          -0.09315530497266254,
          0.710403964378997,
          -1.1932154200104725,
          -1.0562238516298499,
          -0.2690924803512119,
          0.49758681226637225,
          -1.0773982877105088,
          0.07911034291757471,
          -0.39902453071887745,
          1.0700856351960735,
          -1.057358139564738,
          0.37533863810957413,
          -2.84037344606979,
          -0.7091852096155062,
          -0.9566975881638045,
          0.35100423287660615,
          -1.4217070977134791,
          0.4182186974869994,
          0.15184097974894464,
          0.013448617348159643,
          0.3125613854661278,
          1.514216766439221,
          1.3523238006848513,
          -0.24663932645882697,
          1.0446188476433422,
          -0.8035903583066685,
          -0.8232789379519444,
          0.28646918218662437,
          -0.4371347569536695,
          -0.3411639230662988,
          -1.0645835371189294,
          0.7317930121637225
         ],
         "xaxis": "x8",
         "y": [
          -0.1412993310039659,
          0.11155348249657292,
          1.7453199674605695,
          -0.814399733552155,
          0.6214554653204177,
          -0.8935622081683393,
          0.7423908327196167,
          0.08876231792153962,
          0.40884368254280434,
          1.5231546429751541,
          -0.5038028339596781,
          1.277663239880953,
          1.9315664231705278,
          1.2882374316313956,
          -0.814476238152969,
          -2.0472988868964954,
          -1.1619809357848054,
          -0.6020708574357105,
          -0.4172171560670958,
          0.5656423397142257,
          -0.4422039548072374,
          1.6173040675324941,
          0.6934044898267794,
          -0.4948009086882394,
          -0.7040470246206365,
          -1.9134367284968632,
          0.7383244841914276,
          -1.1883843708189352,
          0.30363915459858953,
          0.2776451954473241,
          -0.7165225765471165,
          1.0077314628934022,
          -0.4603279365194043,
          0.38373042738479957,
          -0.518952600073326,
          -1.4636786992458364,
          0.7476083884716154,
          0.31237621371744645,
          1.1441291559955,
          -0.13738132300664588,
          0.2917094591812687,
          -0.5435138932574668,
          -0.09764547059440395,
          -0.8543035432170192,
          -1.694606999440116,
          0.6872321801985894,
          -0.3105771583046316,
          -0.14628769666578054,
          -1.2645444232569238,
          1.3221177881297856,
          -0.06864973864910799,
          0.5369862529725257,
          0.20434322894119525,
          0.9269791155272793,
          -0.10772717371906558,
          0.6636624429782333,
          -1.1341086710570782,
          0.7112881367396519,
          -0.24585306295182344,
          2.7491305879931875,
          -0.9081798223062961,
          -0.9157857216788398,
          -0.008619830977527013,
          0.4968473874841331,
          -0.5343255676597688,
          0.2855137060759064,
          0.6117559359156879,
          -2.446379280416086,
          0.33071812904434594,
          -1.071280221455606,
          0.685618779079314,
          1.4672553004235602,
          -0.3727388594504119,
          -0.09291567551181286,
          -0.34523412406140225,
          -0.05274550962737803,
          0.04654323576000232,
          0.2916776854652369,
          0.963598536755656,
          0.4654431727575727,
          0.19669889726716824,
          -0.7242027558405483,
          -0.7113448412421286,
          -0.21696242004052127,
          -0.6539765540211312,
          -1.9236864401903981,
          1.0149705541185587,
          1.0646071027030528,
          -0.9559870634609606,
          0.46215740722226095,
          -0.5700862496512421,
          0.5363637562177255,
          -1.0839231569328327,
          0.5562315410374225,
          -0.7832219667339138,
          0.4841939952459761,
          -2.3192789416549995,
          -1.4624996532320187,
          -0.31539742955163974,
          0.07762935312683132
         ],
         "yaxis": "y8"
        },
        {
         "line": {
          "color": "rgba(128, 128, 128, 1.0)",
          "dash": "solid",
          "shape": "linear",
          "width": 1.3
         },
         "marker": {
          "size": 2,
          "symbol": "circle"
         },
         "mode": "markers",
         "name": "C",
         "text": "",
         "type": "scatter",
         "x": [
          1.5023563012055845,
          0.4087626388893659,
          1.5993197844213576,
          -0.5215118809744652,
          1.5681236600191981,
          0.7468356261210932,
          -0.749310641952968,
          0.1159935148313741,
          0.22045916587711767,
          -0.4550011729283677,
          0.8563933097341867,
          -2.066795909564812,
          -0.38285290167817404,
          0.01900787684381683,
          -0.12630271810268817,
          0.5680388021904351,
          1.14854911597069,
          0.6436069259066923,
          0.13859935383240438,
          -0.4956911855443848,
          0.4836194286327407,
          -1.2764417035087179,
          -0.5398190900873907,
          0.5796992019373896,
          -0.6037038043213754,
          0.7253532286953808,
          0.6834182495980821,
          -2.8845872018457897,
          1.0233482449319187,
          -2.552401535794378,
          2.3124239629877583,
          -0.8127401942686726,
          -0.23445084013367548,
          -0.6759192578683721,
          -2.5062077810487255,
          -1.2244355783037433,
          0.6694110332929116,
          -0.0034276115223639343,
          0.03204469823716342,
          -0.648084262291826,
          2.5628246207053778,
          0.9000009050597508,
          0.7517099499732545,
          1.2007637923291639,
          -1.9465668851371996,
          -2.413766407744819,
          -0.05082089573082934,
          1.207415735066595,
          -0.3835094510702304,
          0.5221421859827696,
          -0.5248958874051288,
          0.24619873930310585,
          0.5677610344566094,
          -0.4866092245561927,
          -0.7416586364234559,
          0.24855280589543127,
          1.2144044039988526,
          -0.14093054717060302,
          0.2963349236939744,
          -0.4291217100089392,
          1.1491732439347566,
          -0.5216591508755286,
          1.31822530500963,
          -0.47105727955537935,
          -0.40446633360902595,
          2.1459042895302747,
          0.6334555504966481,
          0.4176419554202106,
          -1.0273773683227392,
          1.1263431197506402,
          0.10469582241142089,
          -0.5906651009155758,
          -0.45518656697518617,
          1.3026059396663974,
          0.7571755070928892,
          0.10743952906925054,
          2.0706685836531564,
          0.5559870929964155,
          2.380054547983395,
          -0.39070598757151437,
          1.16309570735863,
          0.53168218102069,
          0.5568769817666138,
          0.39298936796065026,
          0.7338227726831591,
          0.5032917926801018,
          -0.5716134754818609,
          1.286383898901556,
          0.025648738117446,
          0.5157472248880189,
          -0.5104493617558568,
          -0.4733753767654713,
          0.36745876642344916,
          1.3072126283906071,
          0.35925235054705673,
          0.3793647207507,
          -0.21779341066885025,
          -0.5505938066317233,
          -0.5936228067274162,
          -0.18854451853239493
         ],
         "xaxis": "x9",
         "y": [
          0.4060127339438663,
          -0.7982496783697365,
          1.123601971839627,
          0.4058048602297246,
          0.2745561016720758,
          0.027475844105220772,
          -0.22383021302281453,
          -0.39387936056102335,
          0.46958773686681554,
          1.0318532728612242,
          -0.24670914055786855,
          -0.6158092236253605,
          0.3357316529625056,
          0.33549334879556586,
          -0.3420057984448994,
          -0.5729067470502307,
          0.944555988637591,
          1.6466709364637417,
          -0.6046253611903157,
          1.1164169657669007,
          -0.20836647515525453,
          -0.3251835589694398,
          -1.2223825639379888,
          0.9111127533544581,
          0.7714510155383001,
          -0.11910029332390273,
          0.6925253498084671,
          0.761678498587015,
          -0.21122116515593753,
          -1.8911317407454065,
          -0.6477421966041468,
          1.746998679272337,
          -1.7771617442088992,
          0.6549085009105307,
          1.4788993264746322,
          -0.5627472212555263,
          -0.9117802943654789,
          -0.044173489311235214,
          0.7799243277831824,
          -0.009326740102037481,
          -0.7202522194882793,
          -0.7240445885164354,
          0.49987218845528786,
          -0.19517962211662349,
          0.012250267699824213,
          -0.22559392376468862,
          -0.4808350357460893,
          -0.8198241736310934,
          0.19911254148027172,
          0.5290633506851798,
          0.2526330126879686,
          -0.9212198132849635,
          1.330206416841273,
          -1.3646681089815724,
          -0.8176747165637754,
          0.8453057646843333,
          -0.4028552804000192,
          -2.060148639010836,
          0.5812027839577867,
          0.11052420643035013,
          0.41282004544314155,
          -0.14089989297248323,
          1.45061283483238,
          0.18831388859592682,
          -1.1439882648437452,
          -1.1849927000093727,
          1.2413796077745642,
          -0.5577161325566812,
          -0.61933102563376,
          -1.037967425542334,
          -1.1119068495937685,
          -0.34404925965830496,
          -1.5708253521732911,
          -0.1744878934567653,
          -0.6375590559920541,
          -1.5414458738716459,
          0.919868277100258,
          1.0490659600613328,
          0.08470892651567892,
          -1.1117047344287596,
          0.07203519479416232,
          0.006055862150619064,
          1.2245168625491816,
          0.3591325369860431,
          -0.014752796925019226,
          0.9663004218908801,
          0.6340307723650775,
          1.1679323322976998,
          -0.8019974364914285,
          2.009899707838478,
          1.351686235098478,
          -0.16357633038026712,
          1.0467381976205765,
          -0.9884777911500046,
          -1.179242961599606,
          0.19637991258516102,
          0.02752192332194667,
          -0.4772929189208354,
          -1.2072566311627462,
          0.28531937373349664
         ],
         "yaxis": "y9"
        },
        {
         "line": {
          "color": "rgba(128, 128, 128, 1.0)",
          "dash": "solid",
          "shape": "linear",
          "width": 1.3
         },
         "marker": {
          "size": 2,
          "symbol": "circle"
         },
         "mode": "markers",
         "name": "C",
         "text": "",
         "type": "scatter",
         "x": [
          -0.1412993310039659,
          0.11155348249657292,
          1.7453199674605695,
          -0.814399733552155,
          0.6214554653204177,
          -0.8935622081683393,
          0.7423908327196167,
          0.08876231792153962,
          0.40884368254280434,
          1.5231546429751541,
          -0.5038028339596781,
          1.277663239880953,
          1.9315664231705278,
          1.2882374316313956,
          -0.814476238152969,
          -2.0472988868964954,
          -1.1619809357848054,
          -0.6020708574357105,
          -0.4172171560670958,
          0.5656423397142257,
          -0.4422039548072374,
          1.6173040675324941,
          0.6934044898267794,
          -0.4948009086882394,
          -0.7040470246206365,
          -1.9134367284968632,
          0.7383244841914276,
          -1.1883843708189352,
          0.30363915459858953,
          0.2776451954473241,
          -0.7165225765471165,
          1.0077314628934022,
          -0.4603279365194043,
          0.38373042738479957,
          -0.518952600073326,
          -1.4636786992458364,
          0.7476083884716154,
          0.31237621371744645,
          1.1441291559955,
          -0.13738132300664588,
          0.2917094591812687,
          -0.5435138932574668,
          -0.09764547059440395,
          -0.8543035432170192,
          -1.694606999440116,
          0.6872321801985894,
          -0.3105771583046316,
          -0.14628769666578054,
          -1.2645444232569238,
          1.3221177881297856,
          -0.06864973864910799,
          0.5369862529725257,
          0.20434322894119525,
          0.9269791155272793,
          -0.10772717371906558,
          0.6636624429782333,
          -1.1341086710570782,
          0.7112881367396519,
          -0.24585306295182344,
          2.7491305879931875,
          -0.9081798223062961,
          -0.9157857216788398,
          -0.008619830977527013,
          0.4968473874841331,
          -0.5343255676597688,
          0.2855137060759064,
          0.6117559359156879,
          -2.446379280416086,
          0.33071812904434594,
          -1.071280221455606,
          0.685618779079314,
          1.4672553004235602,
          -0.3727388594504119,
          -0.09291567551181286,
          -0.34523412406140225,
          -0.05274550962737803,
          0.04654323576000232,
          0.2916776854652369,
          0.963598536755656,
          0.4654431727575727,
          0.19669889726716824,
          -0.7242027558405483,
          -0.7113448412421286,
          -0.21696242004052127,
          -0.6539765540211312,
          -1.9236864401903981,
          1.0149705541185587,
          1.0646071027030528,
          -0.9559870634609606,
          0.46215740722226095,
          -0.5700862496512421,
          0.5363637562177255,
          -1.0839231569328327,
          0.5562315410374225,
          -0.7832219667339138,
          0.4841939952459761,
          -2.3192789416549995,
          -1.4624996532320187,
          -0.31539742955163974,
          0.07762935312683132
         ],
         "xaxis": "x10",
         "y": [
          0.4060127339438663,
          -0.7982496783697365,
          1.123601971839627,
          0.4058048602297246,
          0.2745561016720758,
          0.027475844105220772,
          -0.22383021302281453,
          -0.39387936056102335,
          0.46958773686681554,
          1.0318532728612242,
          -0.24670914055786855,
          -0.6158092236253605,
          0.3357316529625056,
          0.33549334879556586,
          -0.3420057984448994,
          -0.5729067470502307,
          0.944555988637591,
          1.6466709364637417,
          -0.6046253611903157,
          1.1164169657669007,
          -0.20836647515525453,
          -0.3251835589694398,
          -1.2223825639379888,
          0.9111127533544581,
          0.7714510155383001,
          -0.11910029332390273,
          0.6925253498084671,
          0.761678498587015,
          -0.21122116515593753,
          -1.8911317407454065,
          -0.6477421966041468,
          1.746998679272337,
          -1.7771617442088992,
          0.6549085009105307,
          1.4788993264746322,
          -0.5627472212555263,
          -0.9117802943654789,
          -0.044173489311235214,
          0.7799243277831824,
          -0.009326740102037481,
          -0.7202522194882793,
          -0.7240445885164354,
          0.49987218845528786,
          -0.19517962211662349,
          0.012250267699824213,
          -0.22559392376468862,
          -0.4808350357460893,
          -0.8198241736310934,
          0.19911254148027172,
          0.5290633506851798,
          0.2526330126879686,
          -0.9212198132849635,
          1.330206416841273,
          -1.3646681089815724,
          -0.8176747165637754,
          0.8453057646843333,
          -0.4028552804000192,
          -2.060148639010836,
          0.5812027839577867,
          0.11052420643035013,
          0.41282004544314155,
          -0.14089989297248323,
          1.45061283483238,
          0.18831388859592682,
          -1.1439882648437452,
          -1.1849927000093727,
          1.2413796077745642,
          -0.5577161325566812,
          -0.61933102563376,
          -1.037967425542334,
          -1.1119068495937685,
          -0.34404925965830496,
          -1.5708253521732911,
          -0.1744878934567653,
          -0.6375590559920541,
          -1.5414458738716459,
          0.919868277100258,
          1.0490659600613328,
          0.08470892651567892,
          -1.1117047344287596,
          0.07203519479416232,
          0.006055862150619064,
          1.2245168625491816,
          0.3591325369860431,
          -0.014752796925019226,
          0.9663004218908801,
          0.6340307723650775,
          1.1679323322976998,
          -0.8019974364914285,
          2.009899707838478,
          1.351686235098478,
          -0.16357633038026712,
          1.0467381976205765,
          -0.9884777911500046,
          -1.179242961599606,
          0.19637991258516102,
          0.02752192332194667,
          -0.4772929189208354,
          -1.2072566311627462,
          0.28531937373349664
         ],
         "yaxis": "y10"
        },
        {
         "histfunc": "count",
         "histnorm": "",
         "marker": {
          "color": "rgba(50, 171, 96, 1.0)",
          "line": {
           "color": "#4D5663",
           "width": 1.3
          }
         },
         "name": "C",
         "nbinsx": 10,
         "opacity": 0.8,
         "orientation": "v",
         "type": "histogram",
         "x": [
          0.4060127339438663,
          -0.7982496783697365,
          1.123601971839627,
          0.4058048602297246,
          0.2745561016720758,
          0.027475844105220772,
          -0.22383021302281453,
          -0.39387936056102335,
          0.46958773686681554,
          1.0318532728612242,
          -0.24670914055786855,
          -0.6158092236253605,
          0.3357316529625056,
          0.33549334879556586,
          -0.3420057984448994,
          -0.5729067470502307,
          0.944555988637591,
          1.6466709364637417,
          -0.6046253611903157,
          1.1164169657669007,
          -0.20836647515525453,
          -0.3251835589694398,
          -1.2223825639379888,
          0.9111127533544581,
          0.7714510155383001,
          -0.11910029332390273,
          0.6925253498084671,
          0.761678498587015,
          -0.21122116515593753,
          -1.8911317407454065,
          -0.6477421966041468,
          1.746998679272337,
          -1.7771617442088992,
          0.6549085009105307,
          1.4788993264746322,
          -0.5627472212555263,
          -0.9117802943654789,
          -0.044173489311235214,
          0.7799243277831824,
          -0.009326740102037481,
          -0.7202522194882793,
          -0.7240445885164354,
          0.49987218845528786,
          -0.19517962211662349,
          0.012250267699824213,
          -0.22559392376468862,
          -0.4808350357460893,
          -0.8198241736310934,
          0.19911254148027172,
          0.5290633506851798,
          0.2526330126879686,
          -0.9212198132849635,
          1.330206416841273,
          -1.3646681089815724,
          -0.8176747165637754,
          0.8453057646843333,
          -0.4028552804000192,
          -2.060148639010836,
          0.5812027839577867,
          0.11052420643035013,
          0.41282004544314155,
          -0.14089989297248323,
          1.45061283483238,
          0.18831388859592682,
          -1.1439882648437452,
          -1.1849927000093727,
          1.2413796077745642,
          -0.5577161325566812,
          -0.61933102563376,
          -1.037967425542334,
          -1.1119068495937685,
          -0.34404925965830496,
          -1.5708253521732911,
          -0.1744878934567653,
          -0.6375590559920541,
          -1.5414458738716459,
          0.919868277100258,
          1.0490659600613328,
          0.08470892651567892,
          -1.1117047344287596,
          0.07203519479416232,
          0.006055862150619064,
          1.2245168625491816,
          0.3591325369860431,
          -0.014752796925019226,
          0.9663004218908801,
          0.6340307723650775,
          1.1679323322976998,
          -0.8019974364914285,
          2.009899707838478,
          1.351686235098478,
          -0.16357633038026712,
          1.0467381976205765,
          -0.9884777911500046,
          -1.179242961599606,
          0.19637991258516102,
          0.02752192332194667,
          -0.4772929189208354,
          -1.2072566311627462,
          0.28531937373349664
         ],
         "xaxis": "x11",
         "yaxis": "y11"
        },
        {
         "line": {
          "color": "rgba(128, 128, 128, 1.0)",
          "dash": "solid",
          "shape": "linear",
          "width": 1.3
         },
         "marker": {
          "size": 2,
          "symbol": "circle"
         },
         "mode": "markers",
         "name": "C",
         "text": "",
         "type": "scatter",
         "x": [
          -1.384133836883895,
          1.6279036565882115,
          -0.9299821435910816,
          0.35486494817093983,
          1.6290606005838537,
          0.8653327008822459,
          0.15013252944094518,
          0.28971818542358885,
          -0.6452317482474019,
          1.3151329392327118,
          -0.4601930499485809,
          0.01796751366341419,
          -0.2863077986587903,
          0.7221752593929269,
          1.1438494986725094,
          1.704750899635022,
          2.0255558584427145,
          0.4869696515487609,
          -0.7753590689761756,
          0.5894599802215743,
          -0.5099209544243769,
          0.971142453454226,
          1.4135296149222607,
          0.46368222120546493,
          -0.2099110424911986,
          0.8555892169194312,
          -0.8666033652100801,
          -0.2306133820653981,
          1.9089544676825587,
          0.48126067046847626,
          -0.6815478231682852,
          -0.7012394354255265,
          -0.4047358182565961,
          -1.0906657672931215,
          -0.5310813760482439,
          -1.1553728557319203,
          2.1544499479595145,
          0.21019983690878644,
          0.11648620825479883,
          -0.6736364979743092,
          0.43450673915401905,
          -0.98897228814661,
          -0.5665651061675469,
          1.6754808091110636,
          0.22626422636394813,
          0.07919047376157638,
          0.47646469707111916,
          0.314116725600217,
          1.0625187131973928,
          -0.2287637563650373,
          -0.08284518464672441,
          -0.8301973110501326,
          -0.4028005160347876,
          0.24672132353258178,
          0.15450240306366955,
          -0.8804013772595688,
          -0.7580135896092738,
          -1.7051536353409653,
          1.0626662974393108,
          0.2526824633221683,
          0.8340379444053333,
          0.14124629647157924,
          -0.49243382012914344,
          -0.9599076627068123,
          0.7149885906661986,
          0.4750175942064842,
          -0.5873964713638485,
          1.6930034548000927,
          -0.09315530497266254,
          0.710403964378997,
          -1.1932154200104725,
          -1.0562238516298499,
          -0.2690924803512119,
          0.49758681226637225,
          -1.0773982877105088,
          0.07911034291757471,
          -0.39902453071887745,
          1.0700856351960735,
          -1.057358139564738,
          0.37533863810957413,
          -2.84037344606979,
          -0.7091852096155062,
          -0.9566975881638045,
          0.35100423287660615,
          -1.4217070977134791,
          0.4182186974869994,
          0.15184097974894464,
          0.013448617348159643,
          0.3125613854661278,
          1.514216766439221,
          1.3523238006848513,
          -0.24663932645882697,
          1.0446188476433422,
          -0.8035903583066685,
          -0.8232789379519444,
          0.28646918218662437,
          -0.4371347569536695,
          -0.3411639230662988,
          -1.0645835371189294,
          0.7317930121637225
         ],
         "xaxis": "x12",
         "y": [
          0.4060127339438663,
          -0.7982496783697365,
          1.123601971839627,
          0.4058048602297246,
          0.2745561016720758,
          0.027475844105220772,
          -0.22383021302281453,
          -0.39387936056102335,
          0.46958773686681554,
          1.0318532728612242,
          -0.24670914055786855,
          -0.6158092236253605,
          0.3357316529625056,
          0.33549334879556586,
          -0.3420057984448994,
          -0.5729067470502307,
          0.944555988637591,
          1.6466709364637417,
          -0.6046253611903157,
          1.1164169657669007,
          -0.20836647515525453,
          -0.3251835589694398,
          -1.2223825639379888,
          0.9111127533544581,
          0.7714510155383001,
          -0.11910029332390273,
          0.6925253498084671,
          0.761678498587015,
          -0.21122116515593753,
          -1.8911317407454065,
          -0.6477421966041468,
          1.746998679272337,
          -1.7771617442088992,
          0.6549085009105307,
          1.4788993264746322,
          -0.5627472212555263,
          -0.9117802943654789,
          -0.044173489311235214,
          0.7799243277831824,
          -0.009326740102037481,
          -0.7202522194882793,
          -0.7240445885164354,
          0.49987218845528786,
          -0.19517962211662349,
          0.012250267699824213,
          -0.22559392376468862,
          -0.4808350357460893,
          -0.8198241736310934,
          0.19911254148027172,
          0.5290633506851798,
          0.2526330126879686,
          -0.9212198132849635,
          1.330206416841273,
          -1.3646681089815724,
          -0.8176747165637754,
          0.8453057646843333,
          -0.4028552804000192,
          -2.060148639010836,
          0.5812027839577867,
          0.11052420643035013,
          0.41282004544314155,
          -0.14089989297248323,
          1.45061283483238,
          0.18831388859592682,
          -1.1439882648437452,
          -1.1849927000093727,
          1.2413796077745642,
          -0.5577161325566812,
          -0.61933102563376,
          -1.037967425542334,
          -1.1119068495937685,
          -0.34404925965830496,
          -1.5708253521732911,
          -0.1744878934567653,
          -0.6375590559920541,
          -1.5414458738716459,
          0.919868277100258,
          1.0490659600613328,
          0.08470892651567892,
          -1.1117047344287596,
          0.07203519479416232,
          0.006055862150619064,
          1.2245168625491816,
          0.3591325369860431,
          -0.014752796925019226,
          0.9663004218908801,
          0.6340307723650775,
          1.1679323322976998,
          -0.8019974364914285,
          2.009899707838478,
          1.351686235098478,
          -0.16357633038026712,
          1.0467381976205765,
          -0.9884777911500046,
          -1.179242961599606,
          0.19637991258516102,
          0.02752192332194667,
          -0.4772929189208354,
          -1.2072566311627462,
          0.28531937373349664
         ],
         "yaxis": "y12"
        },
        {
         "line": {
          "color": "rgba(128, 128, 128, 1.0)",
          "dash": "solid",
          "shape": "linear",
          "width": 1.3
         },
         "marker": {
          "size": 2,
          "symbol": "circle"
         },
         "mode": "markers",
         "name": "D",
         "text": "",
         "type": "scatter",
         "x": [
          1.5023563012055845,
          0.4087626388893659,
          1.5993197844213576,
          -0.5215118809744652,
          1.5681236600191981,
          0.7468356261210932,
          -0.749310641952968,
          0.1159935148313741,
          0.22045916587711767,
          -0.4550011729283677,
          0.8563933097341867,
          -2.066795909564812,
          -0.38285290167817404,
          0.01900787684381683,
          -0.12630271810268817,
          0.5680388021904351,
          1.14854911597069,
          0.6436069259066923,
          0.13859935383240438,
          -0.4956911855443848,
          0.4836194286327407,
          -1.2764417035087179,
          -0.5398190900873907,
          0.5796992019373896,
          -0.6037038043213754,
          0.7253532286953808,
          0.6834182495980821,
          -2.8845872018457897,
          1.0233482449319187,
          -2.552401535794378,
          2.3124239629877583,
          -0.8127401942686726,
          -0.23445084013367548,
          -0.6759192578683721,
          -2.5062077810487255,
          -1.2244355783037433,
          0.6694110332929116,
          -0.0034276115223639343,
          0.03204469823716342,
          -0.648084262291826,
          2.5628246207053778,
          0.9000009050597508,
          0.7517099499732545,
          1.2007637923291639,
          -1.9465668851371996,
          -2.413766407744819,
          -0.05082089573082934,
          1.207415735066595,
          -0.3835094510702304,
          0.5221421859827696,
          -0.5248958874051288,
          0.24619873930310585,
          0.5677610344566094,
          -0.4866092245561927,
          -0.7416586364234559,
          0.24855280589543127,
          1.2144044039988526,
          -0.14093054717060302,
          0.2963349236939744,
          -0.4291217100089392,
          1.1491732439347566,
          -0.5216591508755286,
          1.31822530500963,
          -0.47105727955537935,
          -0.40446633360902595,
          2.1459042895302747,
          0.6334555504966481,
          0.4176419554202106,
          -1.0273773683227392,
          1.1263431197506402,
          0.10469582241142089,
          -0.5906651009155758,
          -0.45518656697518617,
          1.3026059396663974,
          0.7571755070928892,
          0.10743952906925054,
          2.0706685836531564,
          0.5559870929964155,
          2.380054547983395,
          -0.39070598757151437,
          1.16309570735863,
          0.53168218102069,
          0.5568769817666138,
          0.39298936796065026,
          0.7338227726831591,
          0.5032917926801018,
          -0.5716134754818609,
          1.286383898901556,
          0.025648738117446,
          0.5157472248880189,
          -0.5104493617558568,
          -0.4733753767654713,
          0.36745876642344916,
          1.3072126283906071,
          0.35925235054705673,
          0.3793647207507,
          -0.21779341066885025,
          -0.5505938066317233,
          -0.5936228067274162,
          -0.18854451853239493
         ],
         "xaxis": "x13",
         "y": [
          -1.384133836883895,
          1.6279036565882115,
          -0.9299821435910816,
          0.35486494817093983,
          1.6290606005838537,
          0.8653327008822459,
          0.15013252944094518,
          0.28971818542358885,
          -0.6452317482474019,
          1.3151329392327118,
          -0.4601930499485809,
          0.01796751366341419,
          -0.2863077986587903,
          0.7221752593929269,
          1.1438494986725094,
          1.704750899635022,
          2.0255558584427145,
          0.4869696515487609,
          -0.7753590689761756,
          0.5894599802215743,
          -0.5099209544243769,
          0.971142453454226,
          1.4135296149222607,
          0.46368222120546493,
          -0.2099110424911986,
          0.8555892169194312,
          -0.8666033652100801,
          -0.2306133820653981,
          1.9089544676825587,
          0.48126067046847626,
          -0.6815478231682852,
          -0.7012394354255265,
          -0.4047358182565961,
          -1.0906657672931215,
          -0.5310813760482439,
          -1.1553728557319203,
          2.1544499479595145,
          0.21019983690878644,
          0.11648620825479883,
          -0.6736364979743092,
          0.43450673915401905,
          -0.98897228814661,
          -0.5665651061675469,
          1.6754808091110636,
          0.22626422636394813,
          0.07919047376157638,
          0.47646469707111916,
          0.314116725600217,
          1.0625187131973928,
          -0.2287637563650373,
          -0.08284518464672441,
          -0.8301973110501326,
          -0.4028005160347876,
          0.24672132353258178,
          0.15450240306366955,
          -0.8804013772595688,
          -0.7580135896092738,
          -1.7051536353409653,
          1.0626662974393108,
          0.2526824633221683,
          0.8340379444053333,
          0.14124629647157924,
          -0.49243382012914344,
          -0.9599076627068123,
          0.7149885906661986,
          0.4750175942064842,
          -0.5873964713638485,
          1.6930034548000927,
          -0.09315530497266254,
          0.710403964378997,
          -1.1932154200104725,
          -1.0562238516298499,
          -0.2690924803512119,
          0.49758681226637225,
          -1.0773982877105088,
          0.07911034291757471,
          -0.39902453071887745,
          1.0700856351960735,
          -1.057358139564738,
          0.37533863810957413,
          -2.84037344606979,
          -0.7091852096155062,
          -0.9566975881638045,
          0.35100423287660615,
          -1.4217070977134791,
          0.4182186974869994,
          0.15184097974894464,
          0.013448617348159643,
          0.3125613854661278,
          1.514216766439221,
          1.3523238006848513,
          -0.24663932645882697,
          1.0446188476433422,
          -0.8035903583066685,
          -0.8232789379519444,
          0.28646918218662437,
          -0.4371347569536695,
          -0.3411639230662988,
          -1.0645835371189294,
          0.7317930121637225
         ],
         "yaxis": "y13"
        },
        {
         "line": {
          "color": "rgba(128, 128, 128, 1.0)",
          "dash": "solid",
          "shape": "linear",
          "width": 1.3
         },
         "marker": {
          "size": 2,
          "symbol": "circle"
         },
         "mode": "markers",
         "name": "D",
         "text": "",
         "type": "scatter",
         "x": [
          -0.1412993310039659,
          0.11155348249657292,
          1.7453199674605695,
          -0.814399733552155,
          0.6214554653204177,
          -0.8935622081683393,
          0.7423908327196167,
          0.08876231792153962,
          0.40884368254280434,
          1.5231546429751541,
          -0.5038028339596781,
          1.277663239880953,
          1.9315664231705278,
          1.2882374316313956,
          -0.814476238152969,
          -2.0472988868964954,
          -1.1619809357848054,
          -0.6020708574357105,
          -0.4172171560670958,
          0.5656423397142257,
          -0.4422039548072374,
          1.6173040675324941,
          0.6934044898267794,
          -0.4948009086882394,
          -0.7040470246206365,
          -1.9134367284968632,
          0.7383244841914276,
          -1.1883843708189352,
          0.30363915459858953,
          0.2776451954473241,
          -0.7165225765471165,
          1.0077314628934022,
          -0.4603279365194043,
          0.38373042738479957,
          -0.518952600073326,
          -1.4636786992458364,
          0.7476083884716154,
          0.31237621371744645,
          1.1441291559955,
          -0.13738132300664588,
          0.2917094591812687,
          -0.5435138932574668,
          -0.09764547059440395,
          -0.8543035432170192,
          -1.694606999440116,
          0.6872321801985894,
          -0.3105771583046316,
          -0.14628769666578054,
          -1.2645444232569238,
          1.3221177881297856,
          -0.06864973864910799,
          0.5369862529725257,
          0.20434322894119525,
          0.9269791155272793,
          -0.10772717371906558,
          0.6636624429782333,
          -1.1341086710570782,
          0.7112881367396519,
          -0.24585306295182344,
          2.7491305879931875,
          -0.9081798223062961,
          -0.9157857216788398,
          -0.008619830977527013,
          0.4968473874841331,
          -0.5343255676597688,
          0.2855137060759064,
          0.6117559359156879,
          -2.446379280416086,
          0.33071812904434594,
          -1.071280221455606,
          0.685618779079314,
          1.4672553004235602,
          -0.3727388594504119,
          -0.09291567551181286,
          -0.34523412406140225,
          -0.05274550962737803,
          0.04654323576000232,
          0.2916776854652369,
          0.963598536755656,
          0.4654431727575727,
          0.19669889726716824,
          -0.7242027558405483,
          -0.7113448412421286,
          -0.21696242004052127,
          -0.6539765540211312,
          -1.9236864401903981,
          1.0149705541185587,
          1.0646071027030528,
          -0.9559870634609606,
          0.46215740722226095,
          -0.5700862496512421,
          0.5363637562177255,
          -1.0839231569328327,
          0.5562315410374225,
          -0.7832219667339138,
          0.4841939952459761,
          -2.3192789416549995,
          -1.4624996532320187,
          -0.31539742955163974,
          0.07762935312683132
         ],
         "xaxis": "x14",
         "y": [
          -1.384133836883895,
          1.6279036565882115,
          -0.9299821435910816,
          0.35486494817093983,
          1.6290606005838537,
          0.8653327008822459,
          0.15013252944094518,
          0.28971818542358885,
          -0.6452317482474019,
          1.3151329392327118,
          -0.4601930499485809,
          0.01796751366341419,
          -0.2863077986587903,
          0.7221752593929269,
          1.1438494986725094,
          1.704750899635022,
          2.0255558584427145,
          0.4869696515487609,
          -0.7753590689761756,
          0.5894599802215743,
          -0.5099209544243769,
          0.971142453454226,
          1.4135296149222607,
          0.46368222120546493,
          -0.2099110424911986,
          0.8555892169194312,
          -0.8666033652100801,
          -0.2306133820653981,
          1.9089544676825587,
          0.48126067046847626,
          -0.6815478231682852,
          -0.7012394354255265,
          -0.4047358182565961,
          -1.0906657672931215,
          -0.5310813760482439,
          -1.1553728557319203,
          2.1544499479595145,
          0.21019983690878644,
          0.11648620825479883,
          -0.6736364979743092,
          0.43450673915401905,
          -0.98897228814661,
          -0.5665651061675469,
          1.6754808091110636,
          0.22626422636394813,
          0.07919047376157638,
          0.47646469707111916,
          0.314116725600217,
          1.0625187131973928,
          -0.2287637563650373,
          -0.08284518464672441,
          -0.8301973110501326,
          -0.4028005160347876,
          0.24672132353258178,
          0.15450240306366955,
          -0.8804013772595688,
          -0.7580135896092738,
          -1.7051536353409653,
          1.0626662974393108,
          0.2526824633221683,
          0.8340379444053333,
          0.14124629647157924,
          -0.49243382012914344,
          -0.9599076627068123,
          0.7149885906661986,
          0.4750175942064842,
          -0.5873964713638485,
          1.6930034548000927,
          -0.09315530497266254,
          0.710403964378997,
          -1.1932154200104725,
          -1.0562238516298499,
          -0.2690924803512119,
          0.49758681226637225,
          -1.0773982877105088,
          0.07911034291757471,
          -0.39902453071887745,
          1.0700856351960735,
          -1.057358139564738,
          0.37533863810957413,
          -2.84037344606979,
          -0.7091852096155062,
          -0.9566975881638045,
          0.35100423287660615,
          -1.4217070977134791,
          0.4182186974869994,
          0.15184097974894464,
          0.013448617348159643,
          0.3125613854661278,
          1.514216766439221,
          1.3523238006848513,
          -0.24663932645882697,
          1.0446188476433422,
          -0.8035903583066685,
          -0.8232789379519444,
          0.28646918218662437,
          -0.4371347569536695,
          -0.3411639230662988,
          -1.0645835371189294,
          0.7317930121637225
         ],
         "yaxis": "y14"
        },
        {
         "line": {
          "color": "rgba(128, 128, 128, 1.0)",
          "dash": "solid",
          "shape": "linear",
          "width": 1.3
         },
         "marker": {
          "size": 2,
          "symbol": "circle"
         },
         "mode": "markers",
         "name": "D",
         "text": "",
         "type": "scatter",
         "x": [
          0.4060127339438663,
          -0.7982496783697365,
          1.123601971839627,
          0.4058048602297246,
          0.2745561016720758,
          0.027475844105220772,
          -0.22383021302281453,
          -0.39387936056102335,
          0.46958773686681554,
          1.0318532728612242,
          -0.24670914055786855,
          -0.6158092236253605,
          0.3357316529625056,
          0.33549334879556586,
          -0.3420057984448994,
          -0.5729067470502307,
          0.944555988637591,
          1.6466709364637417,
          -0.6046253611903157,
          1.1164169657669007,
          -0.20836647515525453,
          -0.3251835589694398,
          -1.2223825639379888,
          0.9111127533544581,
          0.7714510155383001,
          -0.11910029332390273,
          0.6925253498084671,
          0.761678498587015,
          -0.21122116515593753,
          -1.8911317407454065,
          -0.6477421966041468,
          1.746998679272337,
          -1.7771617442088992,
          0.6549085009105307,
          1.4788993264746322,
          -0.5627472212555263,
          -0.9117802943654789,
          -0.044173489311235214,
          0.7799243277831824,
          -0.009326740102037481,
          -0.7202522194882793,
          -0.7240445885164354,
          0.49987218845528786,
          -0.19517962211662349,
          0.012250267699824213,
          -0.22559392376468862,
          -0.4808350357460893,
          -0.8198241736310934,
          0.19911254148027172,
          0.5290633506851798,
          0.2526330126879686,
          -0.9212198132849635,
          1.330206416841273,
          -1.3646681089815724,
          -0.8176747165637754,
          0.8453057646843333,
          -0.4028552804000192,
          -2.060148639010836,
          0.5812027839577867,
          0.11052420643035013,
          0.41282004544314155,
          -0.14089989297248323,
          1.45061283483238,
          0.18831388859592682,
          -1.1439882648437452,
          -1.1849927000093727,
          1.2413796077745642,
          -0.5577161325566812,
          -0.61933102563376,
          -1.037967425542334,
          -1.1119068495937685,
          -0.34404925965830496,
          -1.5708253521732911,
          -0.1744878934567653,
          -0.6375590559920541,
          -1.5414458738716459,
          0.919868277100258,
          1.0490659600613328,
          0.08470892651567892,
          -1.1117047344287596,
          0.07203519479416232,
          0.006055862150619064,
          1.2245168625491816,
          0.3591325369860431,
          -0.014752796925019226,
          0.9663004218908801,
          0.6340307723650775,
          1.1679323322976998,
          -0.8019974364914285,
          2.009899707838478,
          1.351686235098478,
          -0.16357633038026712,
          1.0467381976205765,
          -0.9884777911500046,
          -1.179242961599606,
          0.19637991258516102,
          0.02752192332194667,
          -0.4772929189208354,
          -1.2072566311627462,
          0.28531937373349664
         ],
         "xaxis": "x15",
         "y": [
          -1.384133836883895,
          1.6279036565882115,
          -0.9299821435910816,
          0.35486494817093983,
          1.6290606005838537,
          0.8653327008822459,
          0.15013252944094518,
          0.28971818542358885,
          -0.6452317482474019,
          1.3151329392327118,
          -0.4601930499485809,
          0.01796751366341419,
          -0.2863077986587903,
          0.7221752593929269,
          1.1438494986725094,
          1.704750899635022,
          2.0255558584427145,
          0.4869696515487609,
          -0.7753590689761756,
          0.5894599802215743,
          -0.5099209544243769,
          0.971142453454226,
          1.4135296149222607,
          0.46368222120546493,
          -0.2099110424911986,
          0.8555892169194312,
          -0.8666033652100801,
          -0.2306133820653981,
          1.9089544676825587,
          0.48126067046847626,
          -0.6815478231682852,
          -0.7012394354255265,
          -0.4047358182565961,
          -1.0906657672931215,
          -0.5310813760482439,
          -1.1553728557319203,
          2.1544499479595145,
          0.21019983690878644,
          0.11648620825479883,
          -0.6736364979743092,
          0.43450673915401905,
          -0.98897228814661,
          -0.5665651061675469,
          1.6754808091110636,
          0.22626422636394813,
          0.07919047376157638,
          0.47646469707111916,
          0.314116725600217,
          1.0625187131973928,
          -0.2287637563650373,
          -0.08284518464672441,
          -0.8301973110501326,
          -0.4028005160347876,
          0.24672132353258178,
          0.15450240306366955,
          -0.8804013772595688,
          -0.7580135896092738,
          -1.7051536353409653,
          1.0626662974393108,
          0.2526824633221683,
          0.8340379444053333,
          0.14124629647157924,
          -0.49243382012914344,
          -0.9599076627068123,
          0.7149885906661986,
          0.4750175942064842,
          -0.5873964713638485,
          1.6930034548000927,
          -0.09315530497266254,
          0.710403964378997,
          -1.1932154200104725,
          -1.0562238516298499,
          -0.2690924803512119,
          0.49758681226637225,
          -1.0773982877105088,
          0.07911034291757471,
          -0.39902453071887745,
          1.0700856351960735,
          -1.057358139564738,
          0.37533863810957413,
          -2.84037344606979,
          -0.7091852096155062,
          -0.9566975881638045,
          0.35100423287660615,
          -1.4217070977134791,
          0.4182186974869994,
          0.15184097974894464,
          0.013448617348159643,
          0.3125613854661278,
          1.514216766439221,
          1.3523238006848513,
          -0.24663932645882697,
          1.0446188476433422,
          -0.8035903583066685,
          -0.8232789379519444,
          0.28646918218662437,
          -0.4371347569536695,
          -0.3411639230662988,
          -1.0645835371189294,
          0.7317930121637225
         ],
         "yaxis": "y15"
        },
        {
         "histfunc": "count",
         "histnorm": "",
         "marker": {
          "color": "rgba(128, 0, 128, 1.0)",
          "line": {
           "color": "#4D5663",
           "width": 1.3
          }
         },
         "name": "D",
         "nbinsx": 10,
         "opacity": 0.8,
         "orientation": "v",
         "type": "histogram",
         "x": [
          -1.384133836883895,
          1.6279036565882115,
          -0.9299821435910816,
          0.35486494817093983,
          1.6290606005838537,
          0.8653327008822459,
          0.15013252944094518,
          0.28971818542358885,
          -0.6452317482474019,
          1.3151329392327118,
          -0.4601930499485809,
          0.01796751366341419,
          -0.2863077986587903,
          0.7221752593929269,
          1.1438494986725094,
          1.704750899635022,
          2.0255558584427145,
          0.4869696515487609,
          -0.7753590689761756,
          0.5894599802215743,
          -0.5099209544243769,
          0.971142453454226,
          1.4135296149222607,
          0.46368222120546493,
          -0.2099110424911986,
          0.8555892169194312,
          -0.8666033652100801,
          -0.2306133820653981,
          1.9089544676825587,
          0.48126067046847626,
          -0.6815478231682852,
          -0.7012394354255265,
          -0.4047358182565961,
          -1.0906657672931215,
          -0.5310813760482439,
          -1.1553728557319203,
          2.1544499479595145,
          0.21019983690878644,
          0.11648620825479883,
          -0.6736364979743092,
          0.43450673915401905,
          -0.98897228814661,
          -0.5665651061675469,
          1.6754808091110636,
          0.22626422636394813,
          0.07919047376157638,
          0.47646469707111916,
          0.314116725600217,
          1.0625187131973928,
          -0.2287637563650373,
          -0.08284518464672441,
          -0.8301973110501326,
          -0.4028005160347876,
          0.24672132353258178,
          0.15450240306366955,
          -0.8804013772595688,
          -0.7580135896092738,
          -1.7051536353409653,
          1.0626662974393108,
          0.2526824633221683,
          0.8340379444053333,
          0.14124629647157924,
          -0.49243382012914344,
          -0.9599076627068123,
          0.7149885906661986,
          0.4750175942064842,
          -0.5873964713638485,
          1.6930034548000927,
          -0.09315530497266254,
          0.710403964378997,
          -1.1932154200104725,
          -1.0562238516298499,
          -0.2690924803512119,
          0.49758681226637225,
          -1.0773982877105088,
          0.07911034291757471,
          -0.39902453071887745,
          1.0700856351960735,
          -1.057358139564738,
          0.37533863810957413,
          -2.84037344606979,
          -0.7091852096155062,
          -0.9566975881638045,
          0.35100423287660615,
          -1.4217070977134791,
          0.4182186974869994,
          0.15184097974894464,
          0.013448617348159643,
          0.3125613854661278,
          1.514216766439221,
          1.3523238006848513,
          -0.24663932645882697,
          1.0446188476433422,
          -0.8035903583066685,
          -0.8232789379519444,
          0.28646918218662437,
          -0.4371347569536695,
          -0.3411639230662988,
          -1.0645835371189294,
          0.7317930121637225
         ],
         "xaxis": "x16",
         "yaxis": "y16"
        }
       ],
       "layout": {
        "bargap": 0.02,
        "legend": {
         "bgcolor": "#F5F6F9",
         "font": {
          "color": "#4D5663"
         }
        },
        "paper_bgcolor": "#F5F6F9",
        "plot_bgcolor": "#F5F6F9",
        "showlegend": false,
        "template": {
         "data": {
          "bar": [
           {
            "error_x": {
             "color": "#2a3f5f"
            },
            "error_y": {
             "color": "#2a3f5f"
            },
            "marker": {
             "line": {
              "color": "#E5ECF6",
              "width": 0.5
             }
            },
            "type": "bar"
           }
          ],
          "barpolar": [
           {
            "marker": {
             "line": {
              "color": "#E5ECF6",
              "width": 0.5
             }
            },
            "type": "barpolar"
           }
          ],
          "carpet": [
           {
            "aaxis": {
             "endlinecolor": "#2a3f5f",
             "gridcolor": "white",
             "linecolor": "white",
             "minorgridcolor": "white",
             "startlinecolor": "#2a3f5f"
            },
            "baxis": {
             "endlinecolor": "#2a3f5f",
             "gridcolor": "white",
             "linecolor": "white",
             "minorgridcolor": "white",
             "startlinecolor": "#2a3f5f"
            },
            "type": "carpet"
           }
          ],
          "choropleth": [
           {
            "colorbar": {
             "outlinewidth": 0,
             "ticks": ""
            },
            "type": "choropleth"
           }
          ],
          "contour": [
           {
            "colorbar": {
             "outlinewidth": 0,
             "ticks": ""
            },
            "colorscale": [
             [
              0,
              "#0d0887"
             ],
             [
              0.1111111111111111,
              "#46039f"
             ],
             [
              0.2222222222222222,
              "#7201a8"
             ],
             [
              0.3333333333333333,
              "#9c179e"
             ],
             [
              0.4444444444444444,
              "#bd3786"
             ],
             [
              0.5555555555555556,
              "#d8576b"
             ],
             [
              0.6666666666666666,
              "#ed7953"
             ],
             [
              0.7777777777777778,
              "#fb9f3a"
             ],
             [
              0.8888888888888888,
              "#fdca26"
             ],
             [
              1,
              "#f0f921"
             ]
            ],
            "type": "contour"
           }
          ],
          "contourcarpet": [
           {
            "colorbar": {
             "outlinewidth": 0,
             "ticks": ""
            },
            "type": "contourcarpet"
           }
          ],
          "heatmap": [
           {
            "colorbar": {
             "outlinewidth": 0,
             "ticks": ""
            },
            "colorscale": [
             [
              0,
              "#0d0887"
             ],
             [
              0.1111111111111111,
              "#46039f"
             ],
             [
              0.2222222222222222,
              "#7201a8"
             ],
             [
              0.3333333333333333,
              "#9c179e"
             ],
             [
              0.4444444444444444,
              "#bd3786"
             ],
             [
              0.5555555555555556,
              "#d8576b"
             ],
             [
              0.6666666666666666,
              "#ed7953"
             ],
             [
              0.7777777777777778,
              "#fb9f3a"
             ],
             [
              0.8888888888888888,
              "#fdca26"
             ],
             [
              1,
              "#f0f921"
             ]
            ],
            "type": "heatmap"
           }
          ],
          "heatmapgl": [
           {
            "colorbar": {
             "outlinewidth": 0,
             "ticks": ""
            },
            "colorscale": [
             [
              0,
              "#0d0887"
             ],
             [
              0.1111111111111111,
              "#46039f"
             ],
             [
              0.2222222222222222,
              "#7201a8"
             ],
             [
              0.3333333333333333,
              "#9c179e"
             ],
             [
              0.4444444444444444,
              "#bd3786"
             ],
             [
              0.5555555555555556,
              "#d8576b"
             ],
             [
              0.6666666666666666,
              "#ed7953"
             ],
             [
              0.7777777777777778,
              "#fb9f3a"
             ],
             [
              0.8888888888888888,
              "#fdca26"
             ],
             [
              1,
              "#f0f921"
             ]
            ],
            "type": "heatmapgl"
           }
          ],
          "histogram": [
           {
            "marker": {
             "colorbar": {
              "outlinewidth": 0,
              "ticks": ""
             }
            },
            "type": "histogram"
           }
          ],
          "histogram2d": [
           {
            "colorbar": {
             "outlinewidth": 0,
             "ticks": ""
            },
            "colorscale": [
             [
              0,
              "#0d0887"
             ],
             [
              0.1111111111111111,
              "#46039f"
             ],
             [
              0.2222222222222222,
              "#7201a8"
             ],
             [
              0.3333333333333333,
              "#9c179e"
             ],
             [
              0.4444444444444444,
              "#bd3786"
             ],
             [
              0.5555555555555556,
              "#d8576b"
             ],
             [
              0.6666666666666666,
              "#ed7953"
             ],
             [
              0.7777777777777778,
              "#fb9f3a"
             ],
             [
              0.8888888888888888,
              "#fdca26"
             ],
             [
              1,
              "#f0f921"
             ]
            ],
            "type": "histogram2d"
           }
          ],
          "histogram2dcontour": [
           {
            "colorbar": {
             "outlinewidth": 0,
             "ticks": ""
            },
            "colorscale": [
             [
              0,
              "#0d0887"
             ],
             [
              0.1111111111111111,
              "#46039f"
             ],
             [
              0.2222222222222222,
              "#7201a8"
             ],
             [
              0.3333333333333333,
              "#9c179e"
             ],
             [
              0.4444444444444444,
              "#bd3786"
             ],
             [
              0.5555555555555556,
              "#d8576b"
             ],
             [
              0.6666666666666666,
              "#ed7953"
             ],
             [
              0.7777777777777778,
              "#fb9f3a"
             ],
             [
              0.8888888888888888,
              "#fdca26"
             ],
             [
              1,
              "#f0f921"
             ]
            ],
            "type": "histogram2dcontour"
           }
          ],
          "mesh3d": [
           {
            "colorbar": {
             "outlinewidth": 0,
             "ticks": ""
            },
            "type": "mesh3d"
           }
          ],
          "parcoords": [
           {
            "line": {
             "colorbar": {
              "outlinewidth": 0,
              "ticks": ""
             }
            },
            "type": "parcoords"
           }
          ],
          "pie": [
           {
            "automargin": true,
            "type": "pie"
           }
          ],
          "scatter": [
           {
            "marker": {
             "colorbar": {
              "outlinewidth": 0,
              "ticks": ""
             }
            },
            "type": "scatter"
           }
          ],
          "scatter3d": [
           {
            "line": {
             "colorbar": {
              "outlinewidth": 0,
              "ticks": ""
             }
            },
            "marker": {
             "colorbar": {
              "outlinewidth": 0,
              "ticks": ""
             }
            },
            "type": "scatter3d"
           }
          ],
          "scattercarpet": [
           {
            "marker": {
             "colorbar": {
              "outlinewidth": 0,
              "ticks": ""
             }
            },
            "type": "scattercarpet"
           }
          ],
          "scattergeo": [
           {
            "marker": {
             "colorbar": {
              "outlinewidth": 0,
              "ticks": ""
             }
            },
            "type": "scattergeo"
           }
          ],
          "scattergl": [
           {
            "marker": {
             "colorbar": {
              "outlinewidth": 0,
              "ticks": ""
             }
            },
            "type": "scattergl"
           }
          ],
          "scattermapbox": [
           {
            "marker": {
             "colorbar": {
              "outlinewidth": 0,
              "ticks": ""
             }
            },
            "type": "scattermapbox"
           }
          ],
          "scatterpolar": [
           {
            "marker": {
             "colorbar": {
              "outlinewidth": 0,
              "ticks": ""
             }
            },
            "type": "scatterpolar"
           }
          ],
          "scatterpolargl": [
           {
            "marker": {
             "colorbar": {
              "outlinewidth": 0,
              "ticks": ""
             }
            },
            "type": "scatterpolargl"
           }
          ],
          "scatterternary": [
           {
            "marker": {
             "colorbar": {
              "outlinewidth": 0,
              "ticks": ""
             }
            },
            "type": "scatterternary"
           }
          ],
          "surface": [
           {
            "colorbar": {
             "outlinewidth": 0,
             "ticks": ""
            },
            "colorscale": [
             [
              0,
              "#0d0887"
             ],
             [
              0.1111111111111111,
              "#46039f"
             ],
             [
              0.2222222222222222,
              "#7201a8"
             ],
             [
              0.3333333333333333,
              "#9c179e"
             ],
             [
              0.4444444444444444,
              "#bd3786"
             ],
             [
              0.5555555555555556,
              "#d8576b"
             ],
             [
              0.6666666666666666,
              "#ed7953"
             ],
             [
              0.7777777777777778,
              "#fb9f3a"
             ],
             [
              0.8888888888888888,
              "#fdca26"
             ],
             [
              1,
              "#f0f921"
             ]
            ],
            "type": "surface"
           }
          ],
          "table": [
           {
            "cells": {
             "fill": {
              "color": "#EBF0F8"
             },
             "line": {
              "color": "white"
             }
            },
            "header": {
             "fill": {
              "color": "#C8D4E3"
             },
             "line": {
              "color": "white"
             }
            },
            "type": "table"
           }
          ]
         },
         "layout": {
          "annotationdefaults": {
           "arrowcolor": "#2a3f5f",
           "arrowhead": 0,
           "arrowwidth": 1
          },
          "coloraxis": {
           "colorbar": {
            "outlinewidth": 0,
            "ticks": ""
           }
          },
          "colorscale": {
           "diverging": [
            [
             0,
             "#8e0152"
            ],
            [
             0.1,
             "#c51b7d"
            ],
            [
             0.2,
             "#de77ae"
            ],
            [
             0.3,
             "#f1b6da"
            ],
            [
             0.4,
             "#fde0ef"
            ],
            [
             0.5,
             "#f7f7f7"
            ],
            [
             0.6,
             "#e6f5d0"
            ],
            [
             0.7,
             "#b8e186"
            ],
            [
             0.8,
             "#7fbc41"
            ],
            [
             0.9,
             "#4d9221"
            ],
            [
             1,
             "#276419"
            ]
           ],
           "sequential": [
            [
             0,
             "#0d0887"
            ],
            [
             0.1111111111111111,
             "#46039f"
            ],
            [
             0.2222222222222222,
             "#7201a8"
            ],
            [
             0.3333333333333333,
             "#9c179e"
            ],
            [
             0.4444444444444444,
             "#bd3786"
            ],
            [
             0.5555555555555556,
             "#d8576b"
            ],
            [
             0.6666666666666666,
             "#ed7953"
            ],
            [
             0.7777777777777778,
             "#fb9f3a"
            ],
            [
             0.8888888888888888,
             "#fdca26"
            ],
            [
             1,
             "#f0f921"
            ]
           ],
           "sequentialminus": [
            [
             0,
             "#0d0887"
            ],
            [
             0.1111111111111111,
             "#46039f"
            ],
            [
             0.2222222222222222,
             "#7201a8"
            ],
            [
             0.3333333333333333,
             "#9c179e"
            ],
            [
             0.4444444444444444,
             "#bd3786"
            ],
            [
             0.5555555555555556,
             "#d8576b"
            ],
            [
             0.6666666666666666,
             "#ed7953"
            ],
            [
             0.7777777777777778,
             "#fb9f3a"
            ],
            [
             0.8888888888888888,
             "#fdca26"
            ],
            [
             1,
             "#f0f921"
            ]
           ]
          },
          "colorway": [
           "#636efa",
           "#EF553B",
           "#00cc96",
           "#ab63fa",
           "#FFA15A",
           "#19d3f3",
           "#FF6692",
           "#B6E880",
           "#FF97FF",
           "#FECB52"
          ],
          "font": {
           "color": "#2a3f5f"
          },
          "geo": {
           "bgcolor": "white",
           "lakecolor": "white",
           "landcolor": "#E5ECF6",
           "showlakes": true,
           "showland": true,
           "subunitcolor": "white"
          },
          "hoverlabel": {
           "align": "left"
          },
          "hovermode": "closest",
          "mapbox": {
           "style": "light"
          },
          "paper_bgcolor": "white",
          "plot_bgcolor": "#E5ECF6",
          "polar": {
           "angularaxis": {
            "gridcolor": "white",
            "linecolor": "white",
            "ticks": ""
           },
           "bgcolor": "#E5ECF6",
           "radialaxis": {
            "gridcolor": "white",
            "linecolor": "white",
            "ticks": ""
           }
          },
          "scene": {
           "xaxis": {
            "backgroundcolor": "#E5ECF6",
            "gridcolor": "white",
            "gridwidth": 2,
            "linecolor": "white",
            "showbackground": true,
            "ticks": "",
            "zerolinecolor": "white"
           },
           "yaxis": {
            "backgroundcolor": "#E5ECF6",
            "gridcolor": "white",
            "gridwidth": 2,
            "linecolor": "white",
            "showbackground": true,
            "ticks": "",
            "zerolinecolor": "white"
           },
           "zaxis": {
            "backgroundcolor": "#E5ECF6",
            "gridcolor": "white",
            "gridwidth": 2,
            "linecolor": "white",
            "showbackground": true,
            "ticks": "",
            "zerolinecolor": "white"
           }
          },
          "shapedefaults": {
           "line": {
            "color": "#2a3f5f"
           }
          },
          "ternary": {
           "aaxis": {
            "gridcolor": "white",
            "linecolor": "white",
            "ticks": ""
           },
           "baxis": {
            "gridcolor": "white",
            "linecolor": "white",
            "ticks": ""
           },
           "bgcolor": "#E5ECF6",
           "caxis": {
            "gridcolor": "white",
            "linecolor": "white",
            "ticks": ""
           }
          },
          "title": {
           "x": 0.05
          },
          "xaxis": {
           "automargin": true,
           "gridcolor": "white",
           "linecolor": "white",
           "ticks": "",
           "title": {
            "standoff": 15
           },
           "zerolinecolor": "white",
           "zerolinewidth": 2
          },
          "yaxis": {
           "automargin": true,
           "gridcolor": "white",
           "linecolor": "white",
           "ticks": "",
           "title": {
            "standoff": 15
           },
           "zerolinecolor": "white",
           "zerolinewidth": 2
          }
         }
        },
        "title": {
         "font": {
          "color": "#4D5663"
         }
        },
        "xaxis": {
         "anchor": "y",
         "domain": [
          0,
          0.2125
         ],
         "gridcolor": "#E1E5ED",
         "showgrid": false,
         "tickfont": {
          "color": "#4D5663"
         },
         "title": {
          "font": {
           "color": "#4D5663"
          },
          "text": ""
         },
         "zerolinecolor": "#E1E5ED"
        },
        "xaxis10": {
         "anchor": "y10",
         "domain": [
          0.2625,
          0.475
         ],
         "gridcolor": "#E1E5ED",
         "showgrid": false,
         "tickfont": {
          "color": "#4D5663"
         },
         "title": {
          "font": {
           "color": "#4D5663"
          },
          "text": ""
         },
         "zerolinecolor": "#E1E5ED"
        },
        "xaxis11": {
         "anchor": "y11",
         "domain": [
          0.525,
          0.7375
         ],
         "gridcolor": "#E1E5ED",
         "showgrid": false,
         "tickfont": {
          "color": "#4D5663"
         },
         "title": {
          "font": {
           "color": "#4D5663"
          },
          "text": ""
         },
         "zerolinecolor": "#E1E5ED"
        },
        "xaxis12": {
         "anchor": "y12",
         "domain": [
          0.7875,
          1
         ],
         "gridcolor": "#E1E5ED",
         "showgrid": false,
         "tickfont": {
          "color": "#4D5663"
         },
         "title": {
          "font": {
           "color": "#4D5663"
          },
          "text": ""
         },
         "zerolinecolor": "#E1E5ED"
        },
        "xaxis13": {
         "anchor": "y13",
         "domain": [
          0,
          0.2125
         ],
         "gridcolor": "#E1E5ED",
         "showgrid": false,
         "tickfont": {
          "color": "#4D5663"
         },
         "title": {
          "font": {
           "color": "#4D5663"
          },
          "text": ""
         },
         "zerolinecolor": "#E1E5ED"
        },
        "xaxis14": {
         "anchor": "y14",
         "domain": [
          0.2625,
          0.475
         ],
         "gridcolor": "#E1E5ED",
         "showgrid": false,
         "tickfont": {
          "color": "#4D5663"
         },
         "title": {
          "font": {
           "color": "#4D5663"
          },
          "text": ""
         },
         "zerolinecolor": "#E1E5ED"
        },
        "xaxis15": {
         "anchor": "y15",
         "domain": [
          0.525,
          0.7375
         ],
         "gridcolor": "#E1E5ED",
         "showgrid": false,
         "tickfont": {
          "color": "#4D5663"
         },
         "title": {
          "font": {
           "color": "#4D5663"
          },
          "text": ""
         },
         "zerolinecolor": "#E1E5ED"
        },
        "xaxis16": {
         "anchor": "y16",
         "domain": [
          0.7875,
          1
         ],
         "gridcolor": "#E1E5ED",
         "showgrid": false,
         "tickfont": {
          "color": "#4D5663"
         },
         "title": {
          "font": {
           "color": "#4D5663"
          },
          "text": ""
         },
         "zerolinecolor": "#E1E5ED"
        },
        "xaxis2": {
         "anchor": "y2",
         "domain": [
          0.2625,
          0.475
         ],
         "gridcolor": "#E1E5ED",
         "showgrid": false,
         "tickfont": {
          "color": "#4D5663"
         },
         "title": {
          "font": {
           "color": "#4D5663"
          },
          "text": ""
         },
         "zerolinecolor": "#E1E5ED"
        },
        "xaxis3": {
         "anchor": "y3",
         "domain": [
          0.525,
          0.7375
         ],
         "gridcolor": "#E1E5ED",
         "showgrid": false,
         "tickfont": {
          "color": "#4D5663"
         },
         "title": {
          "font": {
           "color": "#4D5663"
          },
          "text": ""
         },
         "zerolinecolor": "#E1E5ED"
        },
        "xaxis4": {
         "anchor": "y4",
         "domain": [
          0.7875,
          1
         ],
         "gridcolor": "#E1E5ED",
         "showgrid": false,
         "tickfont": {
          "color": "#4D5663"
         },
         "title": {
          "font": {
           "color": "#4D5663"
          },
          "text": ""
         },
         "zerolinecolor": "#E1E5ED"
        },
        "xaxis5": {
         "anchor": "y5",
         "domain": [
          0,
          0.2125
         ],
         "gridcolor": "#E1E5ED",
         "showgrid": false,
         "tickfont": {
          "color": "#4D5663"
         },
         "title": {
          "font": {
           "color": "#4D5663"
          },
          "text": ""
         },
         "zerolinecolor": "#E1E5ED"
        },
        "xaxis6": {
         "anchor": "y6",
         "domain": [
          0.2625,
          0.475
         ],
         "gridcolor": "#E1E5ED",
         "showgrid": false,
         "tickfont": {
          "color": "#4D5663"
         },
         "title": {
          "font": {
           "color": "#4D5663"
          },
          "text": ""
         },
         "zerolinecolor": "#E1E5ED"
        },
        "xaxis7": {
         "anchor": "y7",
         "domain": [
          0.525,
          0.7375
         ],
         "gridcolor": "#E1E5ED",
         "showgrid": false,
         "tickfont": {
          "color": "#4D5663"
         },
         "title": {
          "font": {
           "color": "#4D5663"
          },
          "text": ""
         },
         "zerolinecolor": "#E1E5ED"
        },
        "xaxis8": {
         "anchor": "y8",
         "domain": [
          0.7875,
          1
         ],
         "gridcolor": "#E1E5ED",
         "showgrid": false,
         "tickfont": {
          "color": "#4D5663"
         },
         "title": {
          "font": {
           "color": "#4D5663"
          },
          "text": ""
         },
         "zerolinecolor": "#E1E5ED"
        },
        "xaxis9": {
         "anchor": "y9",
         "domain": [
          0,
          0.2125
         ],
         "gridcolor": "#E1E5ED",
         "showgrid": false,
         "tickfont": {
          "color": "#4D5663"
         },
         "title": {
          "font": {
           "color": "#4D5663"
          },
          "text": ""
         },
         "zerolinecolor": "#E1E5ED"
        },
        "yaxis": {
         "anchor": "x",
         "domain": [
          0.8025,
          1
         ],
         "gridcolor": "#E1E5ED",
         "showgrid": false,
         "tickfont": {
          "color": "#4D5663"
         },
         "title": {
          "font": {
           "color": "#4D5663"
          },
          "text": ""
         },
         "zerolinecolor": "#E1E5ED"
        },
        "yaxis10": {
         "anchor": "x10",
         "domain": [
          0.2675,
          0.465
         ],
         "gridcolor": "#E1E5ED",
         "showgrid": false,
         "tickfont": {
          "color": "#4D5663"
         },
         "title": {
          "font": {
           "color": "#4D5663"
          },
          "text": ""
         },
         "zerolinecolor": "#E1E5ED"
        },
        "yaxis11": {
         "anchor": "x11",
         "domain": [
          0.2675,
          0.465
         ],
         "gridcolor": "#E1E5ED",
         "showgrid": false,
         "tickfont": {
          "color": "#4D5663"
         },
         "title": {
          "font": {
           "color": "#4D5663"
          },
          "text": ""
         },
         "zerolinecolor": "#E1E5ED"
        },
        "yaxis12": {
         "anchor": "x12",
         "domain": [
          0.2675,
          0.465
         ],
         "gridcolor": "#E1E5ED",
         "showgrid": false,
         "tickfont": {
          "color": "#4D5663"
         },
         "title": {
          "font": {
           "color": "#4D5663"
          },
          "text": ""
         },
         "zerolinecolor": "#E1E5ED"
        },
        "yaxis13": {
         "anchor": "x13",
         "domain": [
          0,
          0.1975
         ],
         "gridcolor": "#E1E5ED",
         "showgrid": false,
         "tickfont": {
          "color": "#4D5663"
         },
         "title": {
          "font": {
           "color": "#4D5663"
          },
          "text": ""
         },
         "zerolinecolor": "#E1E5ED"
        },
        "yaxis14": {
         "anchor": "x14",
         "domain": [
          0,
          0.1975
         ],
         "gridcolor": "#E1E5ED",
         "showgrid": false,
         "tickfont": {
          "color": "#4D5663"
         },
         "title": {
          "font": {
           "color": "#4D5663"
          },
          "text": ""
         },
         "zerolinecolor": "#E1E5ED"
        },
        "yaxis15": {
         "anchor": "x15",
         "domain": [
          0,
          0.1975
         ],
         "gridcolor": "#E1E5ED",
         "showgrid": false,
         "tickfont": {
          "color": "#4D5663"
         },
         "title": {
          "font": {
           "color": "#4D5663"
          },
          "text": ""
         },
         "zerolinecolor": "#E1E5ED"
        },
        "yaxis16": {
         "anchor": "x16",
         "domain": [
          0,
          0.1975
         ],
         "gridcolor": "#E1E5ED",
         "showgrid": false,
         "tickfont": {
          "color": "#4D5663"
         },
         "title": {
          "font": {
           "color": "#4D5663"
          },
          "text": ""
         },
         "zerolinecolor": "#E1E5ED"
        },
        "yaxis2": {
         "anchor": "x2",
         "domain": [
          0.8025,
          1
         ],
         "gridcolor": "#E1E5ED",
         "showgrid": false,
         "tickfont": {
          "color": "#4D5663"
         },
         "title": {
          "font": {
           "color": "#4D5663"
          },
          "text": ""
         },
         "zerolinecolor": "#E1E5ED"
        },
        "yaxis3": {
         "anchor": "x3",
         "domain": [
          0.8025,
          1
         ],
         "gridcolor": "#E1E5ED",
         "showgrid": false,
         "tickfont": {
          "color": "#4D5663"
         },
         "title": {
          "font": {
           "color": "#4D5663"
          },
          "text": ""
         },
         "zerolinecolor": "#E1E5ED"
        },
        "yaxis4": {
         "anchor": "x4",
         "domain": [
          0.8025,
          1
         ],
         "gridcolor": "#E1E5ED",
         "showgrid": false,
         "tickfont": {
          "color": "#4D5663"
         },
         "title": {
          "font": {
           "color": "#4D5663"
          },
          "text": ""
         },
         "zerolinecolor": "#E1E5ED"
        },
        "yaxis5": {
         "anchor": "x5",
         "domain": [
          0.535,
          0.7325
         ],
         "gridcolor": "#E1E5ED",
         "showgrid": false,
         "tickfont": {
          "color": "#4D5663"
         },
         "title": {
          "font": {
           "color": "#4D5663"
          },
          "text": ""
         },
         "zerolinecolor": "#E1E5ED"
        },
        "yaxis6": {
         "anchor": "x6",
         "domain": [
          0.535,
          0.7325
         ],
         "gridcolor": "#E1E5ED",
         "showgrid": false,
         "tickfont": {
          "color": "#4D5663"
         },
         "title": {
          "font": {
           "color": "#4D5663"
          },
          "text": ""
         },
         "zerolinecolor": "#E1E5ED"
        },
        "yaxis7": {
         "anchor": "x7",
         "domain": [
          0.535,
          0.7325
         ],
         "gridcolor": "#E1E5ED",
         "showgrid": false,
         "tickfont": {
          "color": "#4D5663"
         },
         "title": {
          "font": {
           "color": "#4D5663"
          },
          "text": ""
         },
         "zerolinecolor": "#E1E5ED"
        },
        "yaxis8": {
         "anchor": "x8",
         "domain": [
          0.535,
          0.7325
         ],
         "gridcolor": "#E1E5ED",
         "showgrid": false,
         "tickfont": {
          "color": "#4D5663"
         },
         "title": {
          "font": {
           "color": "#4D5663"
          },
          "text": ""
         },
         "zerolinecolor": "#E1E5ED"
        },
        "yaxis9": {
         "anchor": "x9",
         "domain": [
          0.2675,
          0.465
         ],
         "gridcolor": "#E1E5ED",
         "showgrid": false,
         "tickfont": {
          "color": "#4D5663"
         },
         "title": {
          "font": {
           "color": "#4D5663"
          },
          "text": ""
         },
         "zerolinecolor": "#E1E5ED"
        }
       }
      },
      "text/html": [
       "<div>\n",
       "        \n",
       "        \n",
       "            <div id=\"91f2c28f-45f7-4dec-949e-3c5918f08796\" class=\"plotly-graph-div\" style=\"height:525px; width:100%;\"></div>\n",
       "            <script type=\"text/javascript\">\n",
       "                require([\"plotly\"], function(Plotly) {\n",
       "                    window.PLOTLYENV=window.PLOTLYENV || {};\n",
       "                    window.PLOTLYENV.BASE_URL='https://plot.ly';\n",
       "                    \n",
       "                if (document.getElementById(\"91f2c28f-45f7-4dec-949e-3c5918f08796\")) {\n",
       "                    Plotly.newPlot(\n",
       "                        '91f2c28f-45f7-4dec-949e-3c5918f08796',\n",
       "                        [{\"histfunc\": \"count\", \"histnorm\": \"\", \"marker\": {\"color\": \"rgba(255, 153, 51, 1.0)\", \"line\": {\"color\": \"#4D5663\", \"width\": 1.3}}, \"name\": \"A\", \"nbinsx\": 10, \"opacity\": 0.8, \"orientation\": \"v\", \"type\": \"histogram\", \"x\": [1.5023563012055845, 0.4087626388893659, 1.5993197844213576, -0.5215118809744652, 1.5681236600191981, 0.7468356261210932, -0.749310641952968, 0.1159935148313741, 0.22045916587711767, -0.4550011729283677, 0.8563933097341867, -2.066795909564812, -0.38285290167817404, 0.01900787684381683, -0.12630271810268817, 0.5680388021904351, 1.14854911597069, 0.6436069259066923, 0.13859935383240438, -0.4956911855443848, 0.4836194286327407, -1.2764417035087179, -0.5398190900873907, 0.5796992019373896, -0.6037038043213754, 0.7253532286953808, 0.6834182495980821, -2.8845872018457897, 1.0233482449319187, -2.552401535794378, 2.3124239629877583, -0.8127401942686726, -0.23445084013367548, -0.6759192578683721, -2.5062077810487255, -1.2244355783037433, 0.6694110332929116, -0.0034276115223639343, 0.03204469823716342, -0.648084262291826, 2.5628246207053778, 0.9000009050597508, 0.7517099499732545, 1.2007637923291639, -1.9465668851371996, -2.413766407744819, -0.05082089573082934, 1.207415735066595, -0.3835094510702304, 0.5221421859827696, -0.5248958874051288, 0.24619873930310585, 0.5677610344566094, -0.4866092245561927, -0.7416586364234559, 0.24855280589543127, 1.2144044039988526, -0.14093054717060302, 0.2963349236939744, -0.4291217100089392, 1.1491732439347566, -0.5216591508755286, 1.31822530500963, -0.47105727955537935, -0.40446633360902595, 2.1459042895302747, 0.6334555504966481, 0.4176419554202106, -1.0273773683227392, 1.1263431197506402, 0.10469582241142089, -0.5906651009155758, -0.45518656697518617, 1.3026059396663974, 0.7571755070928892, 0.10743952906925054, 2.0706685836531564, 0.5559870929964155, 2.380054547983395, -0.39070598757151437, 1.16309570735863, 0.53168218102069, 0.5568769817666138, 0.39298936796065026, 0.7338227726831591, 0.5032917926801018, -0.5716134754818609, 1.286383898901556, 0.025648738117446, 0.5157472248880189, -0.5104493617558568, -0.4733753767654713, 0.36745876642344916, 1.3072126283906071, 0.35925235054705673, 0.3793647207507, -0.21779341066885025, -0.5505938066317233, -0.5936228067274162, -0.18854451853239493], \"xaxis\": \"x\", \"yaxis\": \"y\"}, {\"line\": {\"color\": \"rgba(128, 128, 128, 1.0)\", \"dash\": \"solid\", \"shape\": \"linear\", \"width\": 1.3}, \"marker\": {\"size\": 2, \"symbol\": \"circle\"}, \"mode\": \"markers\", \"name\": \"A\", \"text\": \"\", \"type\": \"scatter\", \"x\": [-0.1412993310039659, 0.11155348249657292, 1.7453199674605695, -0.814399733552155, 0.6214554653204177, -0.8935622081683393, 0.7423908327196167, 0.08876231792153962, 0.40884368254280434, 1.5231546429751541, -0.5038028339596781, 1.277663239880953, 1.9315664231705278, 1.2882374316313956, -0.814476238152969, -2.0472988868964954, -1.1619809357848054, -0.6020708574357105, -0.4172171560670958, 0.5656423397142257, -0.4422039548072374, 1.6173040675324941, 0.6934044898267794, -0.4948009086882394, -0.7040470246206365, -1.9134367284968632, 0.7383244841914276, -1.1883843708189352, 0.30363915459858953, 0.2776451954473241, -0.7165225765471165, 1.0077314628934022, -0.4603279365194043, 0.38373042738479957, -0.518952600073326, -1.4636786992458364, 0.7476083884716154, 0.31237621371744645, 1.1441291559955, -0.13738132300664588, 0.2917094591812687, -0.5435138932574668, -0.09764547059440395, -0.8543035432170192, -1.694606999440116, 0.6872321801985894, -0.3105771583046316, -0.14628769666578054, -1.2645444232569238, 1.3221177881297856, -0.06864973864910799, 0.5369862529725257, 0.20434322894119525, 0.9269791155272793, -0.10772717371906558, 0.6636624429782333, -1.1341086710570782, 0.7112881367396519, -0.24585306295182344, 2.7491305879931875, -0.9081798223062961, -0.9157857216788398, -0.008619830977527013, 0.4968473874841331, -0.5343255676597688, 0.2855137060759064, 0.6117559359156879, -2.446379280416086, 0.33071812904434594, -1.071280221455606, 0.685618779079314, 1.4672553004235602, -0.3727388594504119, -0.09291567551181286, -0.34523412406140225, -0.05274550962737803, 0.04654323576000232, 0.2916776854652369, 0.963598536755656, 0.4654431727575727, 0.19669889726716824, -0.7242027558405483, -0.7113448412421286, -0.21696242004052127, -0.6539765540211312, -1.9236864401903981, 1.0149705541185587, 1.0646071027030528, -0.9559870634609606, 0.46215740722226095, -0.5700862496512421, 0.5363637562177255, -1.0839231569328327, 0.5562315410374225, -0.7832219667339138, 0.4841939952459761, -2.3192789416549995, -1.4624996532320187, -0.31539742955163974, 0.07762935312683132], \"xaxis\": \"x2\", \"y\": [1.5023563012055845, 0.4087626388893659, 1.5993197844213576, -0.5215118809744652, 1.5681236600191981, 0.7468356261210932, -0.749310641952968, 0.1159935148313741, 0.22045916587711767, -0.4550011729283677, 0.8563933097341867, -2.066795909564812, -0.38285290167817404, 0.01900787684381683, -0.12630271810268817, 0.5680388021904351, 1.14854911597069, 0.6436069259066923, 0.13859935383240438, -0.4956911855443848, 0.4836194286327407, -1.2764417035087179, -0.5398190900873907, 0.5796992019373896, -0.6037038043213754, 0.7253532286953808, 0.6834182495980821, -2.8845872018457897, 1.0233482449319187, -2.552401535794378, 2.3124239629877583, -0.8127401942686726, -0.23445084013367548, -0.6759192578683721, -2.5062077810487255, -1.2244355783037433, 0.6694110332929116, -0.0034276115223639343, 0.03204469823716342, -0.648084262291826, 2.5628246207053778, 0.9000009050597508, 0.7517099499732545, 1.2007637923291639, -1.9465668851371996, -2.413766407744819, -0.05082089573082934, 1.207415735066595, -0.3835094510702304, 0.5221421859827696, -0.5248958874051288, 0.24619873930310585, 0.5677610344566094, -0.4866092245561927, -0.7416586364234559, 0.24855280589543127, 1.2144044039988526, -0.14093054717060302, 0.2963349236939744, -0.4291217100089392, 1.1491732439347566, -0.5216591508755286, 1.31822530500963, -0.47105727955537935, -0.40446633360902595, 2.1459042895302747, 0.6334555504966481, 0.4176419554202106, -1.0273773683227392, 1.1263431197506402, 0.10469582241142089, -0.5906651009155758, -0.45518656697518617, 1.3026059396663974, 0.7571755070928892, 0.10743952906925054, 2.0706685836531564, 0.5559870929964155, 2.380054547983395, -0.39070598757151437, 1.16309570735863, 0.53168218102069, 0.5568769817666138, 0.39298936796065026, 0.7338227726831591, 0.5032917926801018, -0.5716134754818609, 1.286383898901556, 0.025648738117446, 0.5157472248880189, -0.5104493617558568, -0.4733753767654713, 0.36745876642344916, 1.3072126283906071, 0.35925235054705673, 0.3793647207507, -0.21779341066885025, -0.5505938066317233, -0.5936228067274162, -0.18854451853239493], \"yaxis\": \"y2\"}, {\"line\": {\"color\": \"rgba(128, 128, 128, 1.0)\", \"dash\": \"solid\", \"shape\": \"linear\", \"width\": 1.3}, \"marker\": {\"size\": 2, \"symbol\": \"circle\"}, \"mode\": \"markers\", \"name\": \"A\", \"text\": \"\", \"type\": \"scatter\", \"x\": [0.4060127339438663, -0.7982496783697365, 1.123601971839627, 0.4058048602297246, 0.2745561016720758, 0.027475844105220772, -0.22383021302281453, -0.39387936056102335, 0.46958773686681554, 1.0318532728612242, -0.24670914055786855, -0.6158092236253605, 0.3357316529625056, 0.33549334879556586, -0.3420057984448994, -0.5729067470502307, 0.944555988637591, 1.6466709364637417, -0.6046253611903157, 1.1164169657669007, -0.20836647515525453, -0.3251835589694398, -1.2223825639379888, 0.9111127533544581, 0.7714510155383001, -0.11910029332390273, 0.6925253498084671, 0.761678498587015, -0.21122116515593753, -1.8911317407454065, -0.6477421966041468, 1.746998679272337, -1.7771617442088992, 0.6549085009105307, 1.4788993264746322, -0.5627472212555263, -0.9117802943654789, -0.044173489311235214, 0.7799243277831824, -0.009326740102037481, -0.7202522194882793, -0.7240445885164354, 0.49987218845528786, -0.19517962211662349, 0.012250267699824213, -0.22559392376468862, -0.4808350357460893, -0.8198241736310934, 0.19911254148027172, 0.5290633506851798, 0.2526330126879686, -0.9212198132849635, 1.330206416841273, -1.3646681089815724, -0.8176747165637754, 0.8453057646843333, -0.4028552804000192, -2.060148639010836, 0.5812027839577867, 0.11052420643035013, 0.41282004544314155, -0.14089989297248323, 1.45061283483238, 0.18831388859592682, -1.1439882648437452, -1.1849927000093727, 1.2413796077745642, -0.5577161325566812, -0.61933102563376, -1.037967425542334, -1.1119068495937685, -0.34404925965830496, -1.5708253521732911, -0.1744878934567653, -0.6375590559920541, -1.5414458738716459, 0.919868277100258, 1.0490659600613328, 0.08470892651567892, -1.1117047344287596, 0.07203519479416232, 0.006055862150619064, 1.2245168625491816, 0.3591325369860431, -0.014752796925019226, 0.9663004218908801, 0.6340307723650775, 1.1679323322976998, -0.8019974364914285, 2.009899707838478, 1.351686235098478, -0.16357633038026712, 1.0467381976205765, -0.9884777911500046, -1.179242961599606, 0.19637991258516102, 0.02752192332194667, -0.4772929189208354, -1.2072566311627462, 0.28531937373349664], \"xaxis\": \"x3\", \"y\": [1.5023563012055845, 0.4087626388893659, 1.5993197844213576, -0.5215118809744652, 1.5681236600191981, 0.7468356261210932, -0.749310641952968, 0.1159935148313741, 0.22045916587711767, -0.4550011729283677, 0.8563933097341867, -2.066795909564812, -0.38285290167817404, 0.01900787684381683, -0.12630271810268817, 0.5680388021904351, 1.14854911597069, 0.6436069259066923, 0.13859935383240438, -0.4956911855443848, 0.4836194286327407, -1.2764417035087179, -0.5398190900873907, 0.5796992019373896, -0.6037038043213754, 0.7253532286953808, 0.6834182495980821, -2.8845872018457897, 1.0233482449319187, -2.552401535794378, 2.3124239629877583, -0.8127401942686726, -0.23445084013367548, -0.6759192578683721, -2.5062077810487255, -1.2244355783037433, 0.6694110332929116, -0.0034276115223639343, 0.03204469823716342, -0.648084262291826, 2.5628246207053778, 0.9000009050597508, 0.7517099499732545, 1.2007637923291639, -1.9465668851371996, -2.413766407744819, -0.05082089573082934, 1.207415735066595, -0.3835094510702304, 0.5221421859827696, -0.5248958874051288, 0.24619873930310585, 0.5677610344566094, -0.4866092245561927, -0.7416586364234559, 0.24855280589543127, 1.2144044039988526, -0.14093054717060302, 0.2963349236939744, -0.4291217100089392, 1.1491732439347566, -0.5216591508755286, 1.31822530500963, -0.47105727955537935, -0.40446633360902595, 2.1459042895302747, 0.6334555504966481, 0.4176419554202106, -1.0273773683227392, 1.1263431197506402, 0.10469582241142089, -0.5906651009155758, -0.45518656697518617, 1.3026059396663974, 0.7571755070928892, 0.10743952906925054, 2.0706685836531564, 0.5559870929964155, 2.380054547983395, -0.39070598757151437, 1.16309570735863, 0.53168218102069, 0.5568769817666138, 0.39298936796065026, 0.7338227726831591, 0.5032917926801018, -0.5716134754818609, 1.286383898901556, 0.025648738117446, 0.5157472248880189, -0.5104493617558568, -0.4733753767654713, 0.36745876642344916, 1.3072126283906071, 0.35925235054705673, 0.3793647207507, -0.21779341066885025, -0.5505938066317233, -0.5936228067274162, -0.18854451853239493], \"yaxis\": \"y3\"}, {\"line\": {\"color\": \"rgba(128, 128, 128, 1.0)\", \"dash\": \"solid\", \"shape\": \"linear\", \"width\": 1.3}, \"marker\": {\"size\": 2, \"symbol\": \"circle\"}, \"mode\": \"markers\", \"name\": \"A\", \"text\": \"\", \"type\": \"scatter\", \"x\": [-1.384133836883895, 1.6279036565882115, -0.9299821435910816, 0.35486494817093983, 1.6290606005838537, 0.8653327008822459, 0.15013252944094518, 0.28971818542358885, -0.6452317482474019, 1.3151329392327118, -0.4601930499485809, 0.01796751366341419, -0.2863077986587903, 0.7221752593929269, 1.1438494986725094, 1.704750899635022, 2.0255558584427145, 0.4869696515487609, -0.7753590689761756, 0.5894599802215743, -0.5099209544243769, 0.971142453454226, 1.4135296149222607, 0.46368222120546493, -0.2099110424911986, 0.8555892169194312, -0.8666033652100801, -0.2306133820653981, 1.9089544676825587, 0.48126067046847626, -0.6815478231682852, -0.7012394354255265, -0.4047358182565961, -1.0906657672931215, -0.5310813760482439, -1.1553728557319203, 2.1544499479595145, 0.21019983690878644, 0.11648620825479883, -0.6736364979743092, 0.43450673915401905, -0.98897228814661, -0.5665651061675469, 1.6754808091110636, 0.22626422636394813, 0.07919047376157638, 0.47646469707111916, 0.314116725600217, 1.0625187131973928, -0.2287637563650373, -0.08284518464672441, -0.8301973110501326, -0.4028005160347876, 0.24672132353258178, 0.15450240306366955, -0.8804013772595688, -0.7580135896092738, -1.7051536353409653, 1.0626662974393108, 0.2526824633221683, 0.8340379444053333, 0.14124629647157924, -0.49243382012914344, -0.9599076627068123, 0.7149885906661986, 0.4750175942064842, -0.5873964713638485, 1.6930034548000927, -0.09315530497266254, 0.710403964378997, -1.1932154200104725, -1.0562238516298499, -0.2690924803512119, 0.49758681226637225, -1.0773982877105088, 0.07911034291757471, -0.39902453071887745, 1.0700856351960735, -1.057358139564738, 0.37533863810957413, -2.84037344606979, -0.7091852096155062, -0.9566975881638045, 0.35100423287660615, -1.4217070977134791, 0.4182186974869994, 0.15184097974894464, 0.013448617348159643, 0.3125613854661278, 1.514216766439221, 1.3523238006848513, -0.24663932645882697, 1.0446188476433422, -0.8035903583066685, -0.8232789379519444, 0.28646918218662437, -0.4371347569536695, -0.3411639230662988, -1.0645835371189294, 0.7317930121637225], \"xaxis\": \"x4\", \"y\": [1.5023563012055845, 0.4087626388893659, 1.5993197844213576, -0.5215118809744652, 1.5681236600191981, 0.7468356261210932, -0.749310641952968, 0.1159935148313741, 0.22045916587711767, -0.4550011729283677, 0.8563933097341867, -2.066795909564812, -0.38285290167817404, 0.01900787684381683, -0.12630271810268817, 0.5680388021904351, 1.14854911597069, 0.6436069259066923, 0.13859935383240438, -0.4956911855443848, 0.4836194286327407, -1.2764417035087179, -0.5398190900873907, 0.5796992019373896, -0.6037038043213754, 0.7253532286953808, 0.6834182495980821, -2.8845872018457897, 1.0233482449319187, -2.552401535794378, 2.3124239629877583, -0.8127401942686726, -0.23445084013367548, -0.6759192578683721, -2.5062077810487255, -1.2244355783037433, 0.6694110332929116, -0.0034276115223639343, 0.03204469823716342, -0.648084262291826, 2.5628246207053778, 0.9000009050597508, 0.7517099499732545, 1.2007637923291639, -1.9465668851371996, -2.413766407744819, -0.05082089573082934, 1.207415735066595, -0.3835094510702304, 0.5221421859827696, -0.5248958874051288, 0.24619873930310585, 0.5677610344566094, -0.4866092245561927, -0.7416586364234559, 0.24855280589543127, 1.2144044039988526, -0.14093054717060302, 0.2963349236939744, -0.4291217100089392, 1.1491732439347566, -0.5216591508755286, 1.31822530500963, -0.47105727955537935, -0.40446633360902595, 2.1459042895302747, 0.6334555504966481, 0.4176419554202106, -1.0273773683227392, 1.1263431197506402, 0.10469582241142089, -0.5906651009155758, -0.45518656697518617, 1.3026059396663974, 0.7571755070928892, 0.10743952906925054, 2.0706685836531564, 0.5559870929964155, 2.380054547983395, -0.39070598757151437, 1.16309570735863, 0.53168218102069, 0.5568769817666138, 0.39298936796065026, 0.7338227726831591, 0.5032917926801018, -0.5716134754818609, 1.286383898901556, 0.025648738117446, 0.5157472248880189, -0.5104493617558568, -0.4733753767654713, 0.36745876642344916, 1.3072126283906071, 0.35925235054705673, 0.3793647207507, -0.21779341066885025, -0.5505938066317233, -0.5936228067274162, -0.18854451853239493], \"yaxis\": \"y4\"}, {\"line\": {\"color\": \"rgba(128, 128, 128, 1.0)\", \"dash\": \"solid\", \"shape\": \"linear\", \"width\": 1.3}, \"marker\": {\"size\": 2, \"symbol\": \"circle\"}, \"mode\": \"markers\", \"name\": \"B\", \"text\": \"\", \"type\": \"scatter\", \"x\": [1.5023563012055845, 0.4087626388893659, 1.5993197844213576, -0.5215118809744652, 1.5681236600191981, 0.7468356261210932, -0.749310641952968, 0.1159935148313741, 0.22045916587711767, -0.4550011729283677, 0.8563933097341867, -2.066795909564812, -0.38285290167817404, 0.01900787684381683, -0.12630271810268817, 0.5680388021904351, 1.14854911597069, 0.6436069259066923, 0.13859935383240438, -0.4956911855443848, 0.4836194286327407, -1.2764417035087179, -0.5398190900873907, 0.5796992019373896, -0.6037038043213754, 0.7253532286953808, 0.6834182495980821, -2.8845872018457897, 1.0233482449319187, -2.552401535794378, 2.3124239629877583, -0.8127401942686726, -0.23445084013367548, -0.6759192578683721, -2.5062077810487255, -1.2244355783037433, 0.6694110332929116, -0.0034276115223639343, 0.03204469823716342, -0.648084262291826, 2.5628246207053778, 0.9000009050597508, 0.7517099499732545, 1.2007637923291639, -1.9465668851371996, -2.413766407744819, -0.05082089573082934, 1.207415735066595, -0.3835094510702304, 0.5221421859827696, -0.5248958874051288, 0.24619873930310585, 0.5677610344566094, -0.4866092245561927, -0.7416586364234559, 0.24855280589543127, 1.2144044039988526, -0.14093054717060302, 0.2963349236939744, -0.4291217100089392, 1.1491732439347566, -0.5216591508755286, 1.31822530500963, -0.47105727955537935, -0.40446633360902595, 2.1459042895302747, 0.6334555504966481, 0.4176419554202106, -1.0273773683227392, 1.1263431197506402, 0.10469582241142089, -0.5906651009155758, -0.45518656697518617, 1.3026059396663974, 0.7571755070928892, 0.10743952906925054, 2.0706685836531564, 0.5559870929964155, 2.380054547983395, -0.39070598757151437, 1.16309570735863, 0.53168218102069, 0.5568769817666138, 0.39298936796065026, 0.7338227726831591, 0.5032917926801018, -0.5716134754818609, 1.286383898901556, 0.025648738117446, 0.5157472248880189, -0.5104493617558568, -0.4733753767654713, 0.36745876642344916, 1.3072126283906071, 0.35925235054705673, 0.3793647207507, -0.21779341066885025, -0.5505938066317233, -0.5936228067274162, -0.18854451853239493], \"xaxis\": \"x5\", \"y\": [-0.1412993310039659, 0.11155348249657292, 1.7453199674605695, -0.814399733552155, 0.6214554653204177, -0.8935622081683393, 0.7423908327196167, 0.08876231792153962, 0.40884368254280434, 1.5231546429751541, -0.5038028339596781, 1.277663239880953, 1.9315664231705278, 1.2882374316313956, -0.814476238152969, -2.0472988868964954, -1.1619809357848054, -0.6020708574357105, -0.4172171560670958, 0.5656423397142257, -0.4422039548072374, 1.6173040675324941, 0.6934044898267794, -0.4948009086882394, -0.7040470246206365, -1.9134367284968632, 0.7383244841914276, -1.1883843708189352, 0.30363915459858953, 0.2776451954473241, -0.7165225765471165, 1.0077314628934022, -0.4603279365194043, 0.38373042738479957, -0.518952600073326, -1.4636786992458364, 0.7476083884716154, 0.31237621371744645, 1.1441291559955, -0.13738132300664588, 0.2917094591812687, -0.5435138932574668, -0.09764547059440395, -0.8543035432170192, -1.694606999440116, 0.6872321801985894, -0.3105771583046316, -0.14628769666578054, -1.2645444232569238, 1.3221177881297856, -0.06864973864910799, 0.5369862529725257, 0.20434322894119525, 0.9269791155272793, -0.10772717371906558, 0.6636624429782333, -1.1341086710570782, 0.7112881367396519, -0.24585306295182344, 2.7491305879931875, -0.9081798223062961, -0.9157857216788398, -0.008619830977527013, 0.4968473874841331, -0.5343255676597688, 0.2855137060759064, 0.6117559359156879, -2.446379280416086, 0.33071812904434594, -1.071280221455606, 0.685618779079314, 1.4672553004235602, -0.3727388594504119, -0.09291567551181286, -0.34523412406140225, -0.05274550962737803, 0.04654323576000232, 0.2916776854652369, 0.963598536755656, 0.4654431727575727, 0.19669889726716824, -0.7242027558405483, -0.7113448412421286, -0.21696242004052127, -0.6539765540211312, -1.9236864401903981, 1.0149705541185587, 1.0646071027030528, -0.9559870634609606, 0.46215740722226095, -0.5700862496512421, 0.5363637562177255, -1.0839231569328327, 0.5562315410374225, -0.7832219667339138, 0.4841939952459761, -2.3192789416549995, -1.4624996532320187, -0.31539742955163974, 0.07762935312683132], \"yaxis\": \"y5\"}, {\"histfunc\": \"count\", \"histnorm\": \"\", \"marker\": {\"color\": \"rgba(55, 128, 191, 1.0)\", \"line\": {\"color\": \"#4D5663\", \"width\": 1.3}}, \"name\": \"B\", \"nbinsx\": 10, \"opacity\": 0.8, \"orientation\": \"v\", \"type\": \"histogram\", \"x\": [-0.1412993310039659, 0.11155348249657292, 1.7453199674605695, -0.814399733552155, 0.6214554653204177, -0.8935622081683393, 0.7423908327196167, 0.08876231792153962, 0.40884368254280434, 1.5231546429751541, -0.5038028339596781, 1.277663239880953, 1.9315664231705278, 1.2882374316313956, -0.814476238152969, -2.0472988868964954, -1.1619809357848054, -0.6020708574357105, -0.4172171560670958, 0.5656423397142257, -0.4422039548072374, 1.6173040675324941, 0.6934044898267794, -0.4948009086882394, -0.7040470246206365, -1.9134367284968632, 0.7383244841914276, -1.1883843708189352, 0.30363915459858953, 0.2776451954473241, -0.7165225765471165, 1.0077314628934022, -0.4603279365194043, 0.38373042738479957, -0.518952600073326, -1.4636786992458364, 0.7476083884716154, 0.31237621371744645, 1.1441291559955, -0.13738132300664588, 0.2917094591812687, -0.5435138932574668, -0.09764547059440395, -0.8543035432170192, -1.694606999440116, 0.6872321801985894, -0.3105771583046316, -0.14628769666578054, -1.2645444232569238, 1.3221177881297856, -0.06864973864910799, 0.5369862529725257, 0.20434322894119525, 0.9269791155272793, -0.10772717371906558, 0.6636624429782333, -1.1341086710570782, 0.7112881367396519, -0.24585306295182344, 2.7491305879931875, -0.9081798223062961, -0.9157857216788398, -0.008619830977527013, 0.4968473874841331, -0.5343255676597688, 0.2855137060759064, 0.6117559359156879, -2.446379280416086, 0.33071812904434594, -1.071280221455606, 0.685618779079314, 1.4672553004235602, -0.3727388594504119, -0.09291567551181286, -0.34523412406140225, -0.05274550962737803, 0.04654323576000232, 0.2916776854652369, 0.963598536755656, 0.4654431727575727, 0.19669889726716824, -0.7242027558405483, -0.7113448412421286, -0.21696242004052127, -0.6539765540211312, -1.9236864401903981, 1.0149705541185587, 1.0646071027030528, -0.9559870634609606, 0.46215740722226095, -0.5700862496512421, 0.5363637562177255, -1.0839231569328327, 0.5562315410374225, -0.7832219667339138, 0.4841939952459761, -2.3192789416549995, -1.4624996532320187, -0.31539742955163974, 0.07762935312683132], \"xaxis\": \"x6\", \"yaxis\": \"y6\"}, {\"line\": {\"color\": \"rgba(128, 128, 128, 1.0)\", \"dash\": \"solid\", \"shape\": \"linear\", \"width\": 1.3}, \"marker\": {\"size\": 2, \"symbol\": \"circle\"}, \"mode\": \"markers\", \"name\": \"B\", \"text\": \"\", \"type\": \"scatter\", \"x\": [0.4060127339438663, -0.7982496783697365, 1.123601971839627, 0.4058048602297246, 0.2745561016720758, 0.027475844105220772, -0.22383021302281453, -0.39387936056102335, 0.46958773686681554, 1.0318532728612242, -0.24670914055786855, -0.6158092236253605, 0.3357316529625056, 0.33549334879556586, -0.3420057984448994, -0.5729067470502307, 0.944555988637591, 1.6466709364637417, -0.6046253611903157, 1.1164169657669007, -0.20836647515525453, -0.3251835589694398, -1.2223825639379888, 0.9111127533544581, 0.7714510155383001, -0.11910029332390273, 0.6925253498084671, 0.761678498587015, -0.21122116515593753, -1.8911317407454065, -0.6477421966041468, 1.746998679272337, -1.7771617442088992, 0.6549085009105307, 1.4788993264746322, -0.5627472212555263, -0.9117802943654789, -0.044173489311235214, 0.7799243277831824, -0.009326740102037481, -0.7202522194882793, -0.7240445885164354, 0.49987218845528786, -0.19517962211662349, 0.012250267699824213, -0.22559392376468862, -0.4808350357460893, -0.8198241736310934, 0.19911254148027172, 0.5290633506851798, 0.2526330126879686, -0.9212198132849635, 1.330206416841273, -1.3646681089815724, -0.8176747165637754, 0.8453057646843333, -0.4028552804000192, -2.060148639010836, 0.5812027839577867, 0.11052420643035013, 0.41282004544314155, -0.14089989297248323, 1.45061283483238, 0.18831388859592682, -1.1439882648437452, -1.1849927000093727, 1.2413796077745642, -0.5577161325566812, -0.61933102563376, -1.037967425542334, -1.1119068495937685, -0.34404925965830496, -1.5708253521732911, -0.1744878934567653, -0.6375590559920541, -1.5414458738716459, 0.919868277100258, 1.0490659600613328, 0.08470892651567892, -1.1117047344287596, 0.07203519479416232, 0.006055862150619064, 1.2245168625491816, 0.3591325369860431, -0.014752796925019226, 0.9663004218908801, 0.6340307723650775, 1.1679323322976998, -0.8019974364914285, 2.009899707838478, 1.351686235098478, -0.16357633038026712, 1.0467381976205765, -0.9884777911500046, -1.179242961599606, 0.19637991258516102, 0.02752192332194667, -0.4772929189208354, -1.2072566311627462, 0.28531937373349664], \"xaxis\": \"x7\", \"y\": [-0.1412993310039659, 0.11155348249657292, 1.7453199674605695, -0.814399733552155, 0.6214554653204177, -0.8935622081683393, 0.7423908327196167, 0.08876231792153962, 0.40884368254280434, 1.5231546429751541, -0.5038028339596781, 1.277663239880953, 1.9315664231705278, 1.2882374316313956, -0.814476238152969, -2.0472988868964954, -1.1619809357848054, -0.6020708574357105, -0.4172171560670958, 0.5656423397142257, -0.4422039548072374, 1.6173040675324941, 0.6934044898267794, -0.4948009086882394, -0.7040470246206365, -1.9134367284968632, 0.7383244841914276, -1.1883843708189352, 0.30363915459858953, 0.2776451954473241, -0.7165225765471165, 1.0077314628934022, -0.4603279365194043, 0.38373042738479957, -0.518952600073326, -1.4636786992458364, 0.7476083884716154, 0.31237621371744645, 1.1441291559955, -0.13738132300664588, 0.2917094591812687, -0.5435138932574668, -0.09764547059440395, -0.8543035432170192, -1.694606999440116, 0.6872321801985894, -0.3105771583046316, -0.14628769666578054, -1.2645444232569238, 1.3221177881297856, -0.06864973864910799, 0.5369862529725257, 0.20434322894119525, 0.9269791155272793, -0.10772717371906558, 0.6636624429782333, -1.1341086710570782, 0.7112881367396519, -0.24585306295182344, 2.7491305879931875, -0.9081798223062961, -0.9157857216788398, -0.008619830977527013, 0.4968473874841331, -0.5343255676597688, 0.2855137060759064, 0.6117559359156879, -2.446379280416086, 0.33071812904434594, -1.071280221455606, 0.685618779079314, 1.4672553004235602, -0.3727388594504119, -0.09291567551181286, -0.34523412406140225, -0.05274550962737803, 0.04654323576000232, 0.2916776854652369, 0.963598536755656, 0.4654431727575727, 0.19669889726716824, -0.7242027558405483, -0.7113448412421286, -0.21696242004052127, -0.6539765540211312, -1.9236864401903981, 1.0149705541185587, 1.0646071027030528, -0.9559870634609606, 0.46215740722226095, -0.5700862496512421, 0.5363637562177255, -1.0839231569328327, 0.5562315410374225, -0.7832219667339138, 0.4841939952459761, -2.3192789416549995, -1.4624996532320187, -0.31539742955163974, 0.07762935312683132], \"yaxis\": \"y7\"}, {\"line\": {\"color\": \"rgba(128, 128, 128, 1.0)\", \"dash\": \"solid\", \"shape\": \"linear\", \"width\": 1.3}, \"marker\": {\"size\": 2, \"symbol\": \"circle\"}, \"mode\": \"markers\", \"name\": \"B\", \"text\": \"\", \"type\": \"scatter\", \"x\": [-1.384133836883895, 1.6279036565882115, -0.9299821435910816, 0.35486494817093983, 1.6290606005838537, 0.8653327008822459, 0.15013252944094518, 0.28971818542358885, -0.6452317482474019, 1.3151329392327118, -0.4601930499485809, 0.01796751366341419, -0.2863077986587903, 0.7221752593929269, 1.1438494986725094, 1.704750899635022, 2.0255558584427145, 0.4869696515487609, -0.7753590689761756, 0.5894599802215743, -0.5099209544243769, 0.971142453454226, 1.4135296149222607, 0.46368222120546493, -0.2099110424911986, 0.8555892169194312, -0.8666033652100801, -0.2306133820653981, 1.9089544676825587, 0.48126067046847626, -0.6815478231682852, -0.7012394354255265, -0.4047358182565961, -1.0906657672931215, -0.5310813760482439, -1.1553728557319203, 2.1544499479595145, 0.21019983690878644, 0.11648620825479883, -0.6736364979743092, 0.43450673915401905, -0.98897228814661, -0.5665651061675469, 1.6754808091110636, 0.22626422636394813, 0.07919047376157638, 0.47646469707111916, 0.314116725600217, 1.0625187131973928, -0.2287637563650373, -0.08284518464672441, -0.8301973110501326, -0.4028005160347876, 0.24672132353258178, 0.15450240306366955, -0.8804013772595688, -0.7580135896092738, -1.7051536353409653, 1.0626662974393108, 0.2526824633221683, 0.8340379444053333, 0.14124629647157924, -0.49243382012914344, -0.9599076627068123, 0.7149885906661986, 0.4750175942064842, -0.5873964713638485, 1.6930034548000927, -0.09315530497266254, 0.710403964378997, -1.1932154200104725, -1.0562238516298499, -0.2690924803512119, 0.49758681226637225, -1.0773982877105088, 0.07911034291757471, -0.39902453071887745, 1.0700856351960735, -1.057358139564738, 0.37533863810957413, -2.84037344606979, -0.7091852096155062, -0.9566975881638045, 0.35100423287660615, -1.4217070977134791, 0.4182186974869994, 0.15184097974894464, 0.013448617348159643, 0.3125613854661278, 1.514216766439221, 1.3523238006848513, -0.24663932645882697, 1.0446188476433422, -0.8035903583066685, -0.8232789379519444, 0.28646918218662437, -0.4371347569536695, -0.3411639230662988, -1.0645835371189294, 0.7317930121637225], \"xaxis\": \"x8\", \"y\": [-0.1412993310039659, 0.11155348249657292, 1.7453199674605695, -0.814399733552155, 0.6214554653204177, -0.8935622081683393, 0.7423908327196167, 0.08876231792153962, 0.40884368254280434, 1.5231546429751541, -0.5038028339596781, 1.277663239880953, 1.9315664231705278, 1.2882374316313956, -0.814476238152969, -2.0472988868964954, -1.1619809357848054, -0.6020708574357105, -0.4172171560670958, 0.5656423397142257, -0.4422039548072374, 1.6173040675324941, 0.6934044898267794, -0.4948009086882394, -0.7040470246206365, -1.9134367284968632, 0.7383244841914276, -1.1883843708189352, 0.30363915459858953, 0.2776451954473241, -0.7165225765471165, 1.0077314628934022, -0.4603279365194043, 0.38373042738479957, -0.518952600073326, -1.4636786992458364, 0.7476083884716154, 0.31237621371744645, 1.1441291559955, -0.13738132300664588, 0.2917094591812687, -0.5435138932574668, -0.09764547059440395, -0.8543035432170192, -1.694606999440116, 0.6872321801985894, -0.3105771583046316, -0.14628769666578054, -1.2645444232569238, 1.3221177881297856, -0.06864973864910799, 0.5369862529725257, 0.20434322894119525, 0.9269791155272793, -0.10772717371906558, 0.6636624429782333, -1.1341086710570782, 0.7112881367396519, -0.24585306295182344, 2.7491305879931875, -0.9081798223062961, -0.9157857216788398, -0.008619830977527013, 0.4968473874841331, -0.5343255676597688, 0.2855137060759064, 0.6117559359156879, -2.446379280416086, 0.33071812904434594, -1.071280221455606, 0.685618779079314, 1.4672553004235602, -0.3727388594504119, -0.09291567551181286, -0.34523412406140225, -0.05274550962737803, 0.04654323576000232, 0.2916776854652369, 0.963598536755656, 0.4654431727575727, 0.19669889726716824, -0.7242027558405483, -0.7113448412421286, -0.21696242004052127, -0.6539765540211312, -1.9236864401903981, 1.0149705541185587, 1.0646071027030528, -0.9559870634609606, 0.46215740722226095, -0.5700862496512421, 0.5363637562177255, -1.0839231569328327, 0.5562315410374225, -0.7832219667339138, 0.4841939952459761, -2.3192789416549995, -1.4624996532320187, -0.31539742955163974, 0.07762935312683132], \"yaxis\": \"y8\"}, {\"line\": {\"color\": \"rgba(128, 128, 128, 1.0)\", \"dash\": \"solid\", \"shape\": \"linear\", \"width\": 1.3}, \"marker\": {\"size\": 2, \"symbol\": \"circle\"}, \"mode\": \"markers\", \"name\": \"C\", \"text\": \"\", \"type\": \"scatter\", \"x\": [1.5023563012055845, 0.4087626388893659, 1.5993197844213576, -0.5215118809744652, 1.5681236600191981, 0.7468356261210932, -0.749310641952968, 0.1159935148313741, 0.22045916587711767, -0.4550011729283677, 0.8563933097341867, -2.066795909564812, -0.38285290167817404, 0.01900787684381683, -0.12630271810268817, 0.5680388021904351, 1.14854911597069, 0.6436069259066923, 0.13859935383240438, -0.4956911855443848, 0.4836194286327407, -1.2764417035087179, -0.5398190900873907, 0.5796992019373896, -0.6037038043213754, 0.7253532286953808, 0.6834182495980821, -2.8845872018457897, 1.0233482449319187, -2.552401535794378, 2.3124239629877583, -0.8127401942686726, -0.23445084013367548, -0.6759192578683721, -2.5062077810487255, -1.2244355783037433, 0.6694110332929116, -0.0034276115223639343, 0.03204469823716342, -0.648084262291826, 2.5628246207053778, 0.9000009050597508, 0.7517099499732545, 1.2007637923291639, -1.9465668851371996, -2.413766407744819, -0.05082089573082934, 1.207415735066595, -0.3835094510702304, 0.5221421859827696, -0.5248958874051288, 0.24619873930310585, 0.5677610344566094, -0.4866092245561927, -0.7416586364234559, 0.24855280589543127, 1.2144044039988526, -0.14093054717060302, 0.2963349236939744, -0.4291217100089392, 1.1491732439347566, -0.5216591508755286, 1.31822530500963, -0.47105727955537935, -0.40446633360902595, 2.1459042895302747, 0.6334555504966481, 0.4176419554202106, -1.0273773683227392, 1.1263431197506402, 0.10469582241142089, -0.5906651009155758, -0.45518656697518617, 1.3026059396663974, 0.7571755070928892, 0.10743952906925054, 2.0706685836531564, 0.5559870929964155, 2.380054547983395, -0.39070598757151437, 1.16309570735863, 0.53168218102069, 0.5568769817666138, 0.39298936796065026, 0.7338227726831591, 0.5032917926801018, -0.5716134754818609, 1.286383898901556, 0.025648738117446, 0.5157472248880189, -0.5104493617558568, -0.4733753767654713, 0.36745876642344916, 1.3072126283906071, 0.35925235054705673, 0.3793647207507, -0.21779341066885025, -0.5505938066317233, -0.5936228067274162, -0.18854451853239493], \"xaxis\": \"x9\", \"y\": [0.4060127339438663, -0.7982496783697365, 1.123601971839627, 0.4058048602297246, 0.2745561016720758, 0.027475844105220772, -0.22383021302281453, -0.39387936056102335, 0.46958773686681554, 1.0318532728612242, -0.24670914055786855, -0.6158092236253605, 0.3357316529625056, 0.33549334879556586, -0.3420057984448994, -0.5729067470502307, 0.944555988637591, 1.6466709364637417, -0.6046253611903157, 1.1164169657669007, -0.20836647515525453, -0.3251835589694398, -1.2223825639379888, 0.9111127533544581, 0.7714510155383001, -0.11910029332390273, 0.6925253498084671, 0.761678498587015, -0.21122116515593753, -1.8911317407454065, -0.6477421966041468, 1.746998679272337, -1.7771617442088992, 0.6549085009105307, 1.4788993264746322, -0.5627472212555263, -0.9117802943654789, -0.044173489311235214, 0.7799243277831824, -0.009326740102037481, -0.7202522194882793, -0.7240445885164354, 0.49987218845528786, -0.19517962211662349, 0.012250267699824213, -0.22559392376468862, -0.4808350357460893, -0.8198241736310934, 0.19911254148027172, 0.5290633506851798, 0.2526330126879686, -0.9212198132849635, 1.330206416841273, -1.3646681089815724, -0.8176747165637754, 0.8453057646843333, -0.4028552804000192, -2.060148639010836, 0.5812027839577867, 0.11052420643035013, 0.41282004544314155, -0.14089989297248323, 1.45061283483238, 0.18831388859592682, -1.1439882648437452, -1.1849927000093727, 1.2413796077745642, -0.5577161325566812, -0.61933102563376, -1.037967425542334, -1.1119068495937685, -0.34404925965830496, -1.5708253521732911, -0.1744878934567653, -0.6375590559920541, -1.5414458738716459, 0.919868277100258, 1.0490659600613328, 0.08470892651567892, -1.1117047344287596, 0.07203519479416232, 0.006055862150619064, 1.2245168625491816, 0.3591325369860431, -0.014752796925019226, 0.9663004218908801, 0.6340307723650775, 1.1679323322976998, -0.8019974364914285, 2.009899707838478, 1.351686235098478, -0.16357633038026712, 1.0467381976205765, -0.9884777911500046, -1.179242961599606, 0.19637991258516102, 0.02752192332194667, -0.4772929189208354, -1.2072566311627462, 0.28531937373349664], \"yaxis\": \"y9\"}, {\"line\": {\"color\": \"rgba(128, 128, 128, 1.0)\", \"dash\": \"solid\", \"shape\": \"linear\", \"width\": 1.3}, \"marker\": {\"size\": 2, \"symbol\": \"circle\"}, \"mode\": \"markers\", \"name\": \"C\", \"text\": \"\", \"type\": \"scatter\", \"x\": [-0.1412993310039659, 0.11155348249657292, 1.7453199674605695, -0.814399733552155, 0.6214554653204177, -0.8935622081683393, 0.7423908327196167, 0.08876231792153962, 0.40884368254280434, 1.5231546429751541, -0.5038028339596781, 1.277663239880953, 1.9315664231705278, 1.2882374316313956, -0.814476238152969, -2.0472988868964954, -1.1619809357848054, -0.6020708574357105, -0.4172171560670958, 0.5656423397142257, -0.4422039548072374, 1.6173040675324941, 0.6934044898267794, -0.4948009086882394, -0.7040470246206365, -1.9134367284968632, 0.7383244841914276, -1.1883843708189352, 0.30363915459858953, 0.2776451954473241, -0.7165225765471165, 1.0077314628934022, -0.4603279365194043, 0.38373042738479957, -0.518952600073326, -1.4636786992458364, 0.7476083884716154, 0.31237621371744645, 1.1441291559955, -0.13738132300664588, 0.2917094591812687, -0.5435138932574668, -0.09764547059440395, -0.8543035432170192, -1.694606999440116, 0.6872321801985894, -0.3105771583046316, -0.14628769666578054, -1.2645444232569238, 1.3221177881297856, -0.06864973864910799, 0.5369862529725257, 0.20434322894119525, 0.9269791155272793, -0.10772717371906558, 0.6636624429782333, -1.1341086710570782, 0.7112881367396519, -0.24585306295182344, 2.7491305879931875, -0.9081798223062961, -0.9157857216788398, -0.008619830977527013, 0.4968473874841331, -0.5343255676597688, 0.2855137060759064, 0.6117559359156879, -2.446379280416086, 0.33071812904434594, -1.071280221455606, 0.685618779079314, 1.4672553004235602, -0.3727388594504119, -0.09291567551181286, -0.34523412406140225, -0.05274550962737803, 0.04654323576000232, 0.2916776854652369, 0.963598536755656, 0.4654431727575727, 0.19669889726716824, -0.7242027558405483, -0.7113448412421286, -0.21696242004052127, -0.6539765540211312, -1.9236864401903981, 1.0149705541185587, 1.0646071027030528, -0.9559870634609606, 0.46215740722226095, -0.5700862496512421, 0.5363637562177255, -1.0839231569328327, 0.5562315410374225, -0.7832219667339138, 0.4841939952459761, -2.3192789416549995, -1.4624996532320187, -0.31539742955163974, 0.07762935312683132], \"xaxis\": \"x10\", \"y\": [0.4060127339438663, -0.7982496783697365, 1.123601971839627, 0.4058048602297246, 0.2745561016720758, 0.027475844105220772, -0.22383021302281453, -0.39387936056102335, 0.46958773686681554, 1.0318532728612242, -0.24670914055786855, -0.6158092236253605, 0.3357316529625056, 0.33549334879556586, -0.3420057984448994, -0.5729067470502307, 0.944555988637591, 1.6466709364637417, -0.6046253611903157, 1.1164169657669007, -0.20836647515525453, -0.3251835589694398, -1.2223825639379888, 0.9111127533544581, 0.7714510155383001, -0.11910029332390273, 0.6925253498084671, 0.761678498587015, -0.21122116515593753, -1.8911317407454065, -0.6477421966041468, 1.746998679272337, -1.7771617442088992, 0.6549085009105307, 1.4788993264746322, -0.5627472212555263, -0.9117802943654789, -0.044173489311235214, 0.7799243277831824, -0.009326740102037481, -0.7202522194882793, -0.7240445885164354, 0.49987218845528786, -0.19517962211662349, 0.012250267699824213, -0.22559392376468862, -0.4808350357460893, -0.8198241736310934, 0.19911254148027172, 0.5290633506851798, 0.2526330126879686, -0.9212198132849635, 1.330206416841273, -1.3646681089815724, -0.8176747165637754, 0.8453057646843333, -0.4028552804000192, -2.060148639010836, 0.5812027839577867, 0.11052420643035013, 0.41282004544314155, -0.14089989297248323, 1.45061283483238, 0.18831388859592682, -1.1439882648437452, -1.1849927000093727, 1.2413796077745642, -0.5577161325566812, -0.61933102563376, -1.037967425542334, -1.1119068495937685, -0.34404925965830496, -1.5708253521732911, -0.1744878934567653, -0.6375590559920541, -1.5414458738716459, 0.919868277100258, 1.0490659600613328, 0.08470892651567892, -1.1117047344287596, 0.07203519479416232, 0.006055862150619064, 1.2245168625491816, 0.3591325369860431, -0.014752796925019226, 0.9663004218908801, 0.6340307723650775, 1.1679323322976998, -0.8019974364914285, 2.009899707838478, 1.351686235098478, -0.16357633038026712, 1.0467381976205765, -0.9884777911500046, -1.179242961599606, 0.19637991258516102, 0.02752192332194667, -0.4772929189208354, -1.2072566311627462, 0.28531937373349664], \"yaxis\": \"y10\"}, {\"histfunc\": \"count\", \"histnorm\": \"\", \"marker\": {\"color\": \"rgba(50, 171, 96, 1.0)\", \"line\": {\"color\": \"#4D5663\", \"width\": 1.3}}, \"name\": \"C\", \"nbinsx\": 10, \"opacity\": 0.8, \"orientation\": \"v\", \"type\": \"histogram\", \"x\": [0.4060127339438663, -0.7982496783697365, 1.123601971839627, 0.4058048602297246, 0.2745561016720758, 0.027475844105220772, -0.22383021302281453, -0.39387936056102335, 0.46958773686681554, 1.0318532728612242, -0.24670914055786855, -0.6158092236253605, 0.3357316529625056, 0.33549334879556586, -0.3420057984448994, -0.5729067470502307, 0.944555988637591, 1.6466709364637417, -0.6046253611903157, 1.1164169657669007, -0.20836647515525453, -0.3251835589694398, -1.2223825639379888, 0.9111127533544581, 0.7714510155383001, -0.11910029332390273, 0.6925253498084671, 0.761678498587015, -0.21122116515593753, -1.8911317407454065, -0.6477421966041468, 1.746998679272337, -1.7771617442088992, 0.6549085009105307, 1.4788993264746322, -0.5627472212555263, -0.9117802943654789, -0.044173489311235214, 0.7799243277831824, -0.009326740102037481, -0.7202522194882793, -0.7240445885164354, 0.49987218845528786, -0.19517962211662349, 0.012250267699824213, -0.22559392376468862, -0.4808350357460893, -0.8198241736310934, 0.19911254148027172, 0.5290633506851798, 0.2526330126879686, -0.9212198132849635, 1.330206416841273, -1.3646681089815724, -0.8176747165637754, 0.8453057646843333, -0.4028552804000192, -2.060148639010836, 0.5812027839577867, 0.11052420643035013, 0.41282004544314155, -0.14089989297248323, 1.45061283483238, 0.18831388859592682, -1.1439882648437452, -1.1849927000093727, 1.2413796077745642, -0.5577161325566812, -0.61933102563376, -1.037967425542334, -1.1119068495937685, -0.34404925965830496, -1.5708253521732911, -0.1744878934567653, -0.6375590559920541, -1.5414458738716459, 0.919868277100258, 1.0490659600613328, 0.08470892651567892, -1.1117047344287596, 0.07203519479416232, 0.006055862150619064, 1.2245168625491816, 0.3591325369860431, -0.014752796925019226, 0.9663004218908801, 0.6340307723650775, 1.1679323322976998, -0.8019974364914285, 2.009899707838478, 1.351686235098478, -0.16357633038026712, 1.0467381976205765, -0.9884777911500046, -1.179242961599606, 0.19637991258516102, 0.02752192332194667, -0.4772929189208354, -1.2072566311627462, 0.28531937373349664], \"xaxis\": \"x11\", \"yaxis\": \"y11\"}, {\"line\": {\"color\": \"rgba(128, 128, 128, 1.0)\", \"dash\": \"solid\", \"shape\": \"linear\", \"width\": 1.3}, \"marker\": {\"size\": 2, \"symbol\": \"circle\"}, \"mode\": \"markers\", \"name\": \"C\", \"text\": \"\", \"type\": \"scatter\", \"x\": [-1.384133836883895, 1.6279036565882115, -0.9299821435910816, 0.35486494817093983, 1.6290606005838537, 0.8653327008822459, 0.15013252944094518, 0.28971818542358885, -0.6452317482474019, 1.3151329392327118, -0.4601930499485809, 0.01796751366341419, -0.2863077986587903, 0.7221752593929269, 1.1438494986725094, 1.704750899635022, 2.0255558584427145, 0.4869696515487609, -0.7753590689761756, 0.5894599802215743, -0.5099209544243769, 0.971142453454226, 1.4135296149222607, 0.46368222120546493, -0.2099110424911986, 0.8555892169194312, -0.8666033652100801, -0.2306133820653981, 1.9089544676825587, 0.48126067046847626, -0.6815478231682852, -0.7012394354255265, -0.4047358182565961, -1.0906657672931215, -0.5310813760482439, -1.1553728557319203, 2.1544499479595145, 0.21019983690878644, 0.11648620825479883, -0.6736364979743092, 0.43450673915401905, -0.98897228814661, -0.5665651061675469, 1.6754808091110636, 0.22626422636394813, 0.07919047376157638, 0.47646469707111916, 0.314116725600217, 1.0625187131973928, -0.2287637563650373, -0.08284518464672441, -0.8301973110501326, -0.4028005160347876, 0.24672132353258178, 0.15450240306366955, -0.8804013772595688, -0.7580135896092738, -1.7051536353409653, 1.0626662974393108, 0.2526824633221683, 0.8340379444053333, 0.14124629647157924, -0.49243382012914344, -0.9599076627068123, 0.7149885906661986, 0.4750175942064842, -0.5873964713638485, 1.6930034548000927, -0.09315530497266254, 0.710403964378997, -1.1932154200104725, -1.0562238516298499, -0.2690924803512119, 0.49758681226637225, -1.0773982877105088, 0.07911034291757471, -0.39902453071887745, 1.0700856351960735, -1.057358139564738, 0.37533863810957413, -2.84037344606979, -0.7091852096155062, -0.9566975881638045, 0.35100423287660615, -1.4217070977134791, 0.4182186974869994, 0.15184097974894464, 0.013448617348159643, 0.3125613854661278, 1.514216766439221, 1.3523238006848513, -0.24663932645882697, 1.0446188476433422, -0.8035903583066685, -0.8232789379519444, 0.28646918218662437, -0.4371347569536695, -0.3411639230662988, -1.0645835371189294, 0.7317930121637225], \"xaxis\": \"x12\", \"y\": [0.4060127339438663, -0.7982496783697365, 1.123601971839627, 0.4058048602297246, 0.2745561016720758, 0.027475844105220772, -0.22383021302281453, -0.39387936056102335, 0.46958773686681554, 1.0318532728612242, -0.24670914055786855, -0.6158092236253605, 0.3357316529625056, 0.33549334879556586, -0.3420057984448994, -0.5729067470502307, 0.944555988637591, 1.6466709364637417, -0.6046253611903157, 1.1164169657669007, -0.20836647515525453, -0.3251835589694398, -1.2223825639379888, 0.9111127533544581, 0.7714510155383001, -0.11910029332390273, 0.6925253498084671, 0.761678498587015, -0.21122116515593753, -1.8911317407454065, -0.6477421966041468, 1.746998679272337, -1.7771617442088992, 0.6549085009105307, 1.4788993264746322, -0.5627472212555263, -0.9117802943654789, -0.044173489311235214, 0.7799243277831824, -0.009326740102037481, -0.7202522194882793, -0.7240445885164354, 0.49987218845528786, -0.19517962211662349, 0.012250267699824213, -0.22559392376468862, -0.4808350357460893, -0.8198241736310934, 0.19911254148027172, 0.5290633506851798, 0.2526330126879686, -0.9212198132849635, 1.330206416841273, -1.3646681089815724, -0.8176747165637754, 0.8453057646843333, -0.4028552804000192, -2.060148639010836, 0.5812027839577867, 0.11052420643035013, 0.41282004544314155, -0.14089989297248323, 1.45061283483238, 0.18831388859592682, -1.1439882648437452, -1.1849927000093727, 1.2413796077745642, -0.5577161325566812, -0.61933102563376, -1.037967425542334, -1.1119068495937685, -0.34404925965830496, -1.5708253521732911, -0.1744878934567653, -0.6375590559920541, -1.5414458738716459, 0.919868277100258, 1.0490659600613328, 0.08470892651567892, -1.1117047344287596, 0.07203519479416232, 0.006055862150619064, 1.2245168625491816, 0.3591325369860431, -0.014752796925019226, 0.9663004218908801, 0.6340307723650775, 1.1679323322976998, -0.8019974364914285, 2.009899707838478, 1.351686235098478, -0.16357633038026712, 1.0467381976205765, -0.9884777911500046, -1.179242961599606, 0.19637991258516102, 0.02752192332194667, -0.4772929189208354, -1.2072566311627462, 0.28531937373349664], \"yaxis\": \"y12\"}, {\"line\": {\"color\": \"rgba(128, 128, 128, 1.0)\", \"dash\": \"solid\", \"shape\": \"linear\", \"width\": 1.3}, \"marker\": {\"size\": 2, \"symbol\": \"circle\"}, \"mode\": \"markers\", \"name\": \"D\", \"text\": \"\", \"type\": \"scatter\", \"x\": [1.5023563012055845, 0.4087626388893659, 1.5993197844213576, -0.5215118809744652, 1.5681236600191981, 0.7468356261210932, -0.749310641952968, 0.1159935148313741, 0.22045916587711767, -0.4550011729283677, 0.8563933097341867, -2.066795909564812, -0.38285290167817404, 0.01900787684381683, -0.12630271810268817, 0.5680388021904351, 1.14854911597069, 0.6436069259066923, 0.13859935383240438, -0.4956911855443848, 0.4836194286327407, -1.2764417035087179, -0.5398190900873907, 0.5796992019373896, -0.6037038043213754, 0.7253532286953808, 0.6834182495980821, -2.8845872018457897, 1.0233482449319187, -2.552401535794378, 2.3124239629877583, -0.8127401942686726, -0.23445084013367548, -0.6759192578683721, -2.5062077810487255, -1.2244355783037433, 0.6694110332929116, -0.0034276115223639343, 0.03204469823716342, -0.648084262291826, 2.5628246207053778, 0.9000009050597508, 0.7517099499732545, 1.2007637923291639, -1.9465668851371996, -2.413766407744819, -0.05082089573082934, 1.207415735066595, -0.3835094510702304, 0.5221421859827696, -0.5248958874051288, 0.24619873930310585, 0.5677610344566094, -0.4866092245561927, -0.7416586364234559, 0.24855280589543127, 1.2144044039988526, -0.14093054717060302, 0.2963349236939744, -0.4291217100089392, 1.1491732439347566, -0.5216591508755286, 1.31822530500963, -0.47105727955537935, -0.40446633360902595, 2.1459042895302747, 0.6334555504966481, 0.4176419554202106, -1.0273773683227392, 1.1263431197506402, 0.10469582241142089, -0.5906651009155758, -0.45518656697518617, 1.3026059396663974, 0.7571755070928892, 0.10743952906925054, 2.0706685836531564, 0.5559870929964155, 2.380054547983395, -0.39070598757151437, 1.16309570735863, 0.53168218102069, 0.5568769817666138, 0.39298936796065026, 0.7338227726831591, 0.5032917926801018, -0.5716134754818609, 1.286383898901556, 0.025648738117446, 0.5157472248880189, -0.5104493617558568, -0.4733753767654713, 0.36745876642344916, 1.3072126283906071, 0.35925235054705673, 0.3793647207507, -0.21779341066885025, -0.5505938066317233, -0.5936228067274162, -0.18854451853239493], \"xaxis\": \"x13\", \"y\": [-1.384133836883895, 1.6279036565882115, -0.9299821435910816, 0.35486494817093983, 1.6290606005838537, 0.8653327008822459, 0.15013252944094518, 0.28971818542358885, -0.6452317482474019, 1.3151329392327118, -0.4601930499485809, 0.01796751366341419, -0.2863077986587903, 0.7221752593929269, 1.1438494986725094, 1.704750899635022, 2.0255558584427145, 0.4869696515487609, -0.7753590689761756, 0.5894599802215743, -0.5099209544243769, 0.971142453454226, 1.4135296149222607, 0.46368222120546493, -0.2099110424911986, 0.8555892169194312, -0.8666033652100801, -0.2306133820653981, 1.9089544676825587, 0.48126067046847626, -0.6815478231682852, -0.7012394354255265, -0.4047358182565961, -1.0906657672931215, -0.5310813760482439, -1.1553728557319203, 2.1544499479595145, 0.21019983690878644, 0.11648620825479883, -0.6736364979743092, 0.43450673915401905, -0.98897228814661, -0.5665651061675469, 1.6754808091110636, 0.22626422636394813, 0.07919047376157638, 0.47646469707111916, 0.314116725600217, 1.0625187131973928, -0.2287637563650373, -0.08284518464672441, -0.8301973110501326, -0.4028005160347876, 0.24672132353258178, 0.15450240306366955, -0.8804013772595688, -0.7580135896092738, -1.7051536353409653, 1.0626662974393108, 0.2526824633221683, 0.8340379444053333, 0.14124629647157924, -0.49243382012914344, -0.9599076627068123, 0.7149885906661986, 0.4750175942064842, -0.5873964713638485, 1.6930034548000927, -0.09315530497266254, 0.710403964378997, -1.1932154200104725, -1.0562238516298499, -0.2690924803512119, 0.49758681226637225, -1.0773982877105088, 0.07911034291757471, -0.39902453071887745, 1.0700856351960735, -1.057358139564738, 0.37533863810957413, -2.84037344606979, -0.7091852096155062, -0.9566975881638045, 0.35100423287660615, -1.4217070977134791, 0.4182186974869994, 0.15184097974894464, 0.013448617348159643, 0.3125613854661278, 1.514216766439221, 1.3523238006848513, -0.24663932645882697, 1.0446188476433422, -0.8035903583066685, -0.8232789379519444, 0.28646918218662437, -0.4371347569536695, -0.3411639230662988, -1.0645835371189294, 0.7317930121637225], \"yaxis\": \"y13\"}, {\"line\": {\"color\": \"rgba(128, 128, 128, 1.0)\", \"dash\": \"solid\", \"shape\": \"linear\", \"width\": 1.3}, \"marker\": {\"size\": 2, \"symbol\": \"circle\"}, \"mode\": \"markers\", \"name\": \"D\", \"text\": \"\", \"type\": \"scatter\", \"x\": [-0.1412993310039659, 0.11155348249657292, 1.7453199674605695, -0.814399733552155, 0.6214554653204177, -0.8935622081683393, 0.7423908327196167, 0.08876231792153962, 0.40884368254280434, 1.5231546429751541, -0.5038028339596781, 1.277663239880953, 1.9315664231705278, 1.2882374316313956, -0.814476238152969, -2.0472988868964954, -1.1619809357848054, -0.6020708574357105, -0.4172171560670958, 0.5656423397142257, -0.4422039548072374, 1.6173040675324941, 0.6934044898267794, -0.4948009086882394, -0.7040470246206365, -1.9134367284968632, 0.7383244841914276, -1.1883843708189352, 0.30363915459858953, 0.2776451954473241, -0.7165225765471165, 1.0077314628934022, -0.4603279365194043, 0.38373042738479957, -0.518952600073326, -1.4636786992458364, 0.7476083884716154, 0.31237621371744645, 1.1441291559955, -0.13738132300664588, 0.2917094591812687, -0.5435138932574668, -0.09764547059440395, -0.8543035432170192, -1.694606999440116, 0.6872321801985894, -0.3105771583046316, -0.14628769666578054, -1.2645444232569238, 1.3221177881297856, -0.06864973864910799, 0.5369862529725257, 0.20434322894119525, 0.9269791155272793, -0.10772717371906558, 0.6636624429782333, -1.1341086710570782, 0.7112881367396519, -0.24585306295182344, 2.7491305879931875, -0.9081798223062961, -0.9157857216788398, -0.008619830977527013, 0.4968473874841331, -0.5343255676597688, 0.2855137060759064, 0.6117559359156879, -2.446379280416086, 0.33071812904434594, -1.071280221455606, 0.685618779079314, 1.4672553004235602, -0.3727388594504119, -0.09291567551181286, -0.34523412406140225, -0.05274550962737803, 0.04654323576000232, 0.2916776854652369, 0.963598536755656, 0.4654431727575727, 0.19669889726716824, -0.7242027558405483, -0.7113448412421286, -0.21696242004052127, -0.6539765540211312, -1.9236864401903981, 1.0149705541185587, 1.0646071027030528, -0.9559870634609606, 0.46215740722226095, -0.5700862496512421, 0.5363637562177255, -1.0839231569328327, 0.5562315410374225, -0.7832219667339138, 0.4841939952459761, -2.3192789416549995, -1.4624996532320187, -0.31539742955163974, 0.07762935312683132], \"xaxis\": \"x14\", \"y\": [-1.384133836883895, 1.6279036565882115, -0.9299821435910816, 0.35486494817093983, 1.6290606005838537, 0.8653327008822459, 0.15013252944094518, 0.28971818542358885, -0.6452317482474019, 1.3151329392327118, -0.4601930499485809, 0.01796751366341419, -0.2863077986587903, 0.7221752593929269, 1.1438494986725094, 1.704750899635022, 2.0255558584427145, 0.4869696515487609, -0.7753590689761756, 0.5894599802215743, -0.5099209544243769, 0.971142453454226, 1.4135296149222607, 0.46368222120546493, -0.2099110424911986, 0.8555892169194312, -0.8666033652100801, -0.2306133820653981, 1.9089544676825587, 0.48126067046847626, -0.6815478231682852, -0.7012394354255265, -0.4047358182565961, -1.0906657672931215, -0.5310813760482439, -1.1553728557319203, 2.1544499479595145, 0.21019983690878644, 0.11648620825479883, -0.6736364979743092, 0.43450673915401905, -0.98897228814661, -0.5665651061675469, 1.6754808091110636, 0.22626422636394813, 0.07919047376157638, 0.47646469707111916, 0.314116725600217, 1.0625187131973928, -0.2287637563650373, -0.08284518464672441, -0.8301973110501326, -0.4028005160347876, 0.24672132353258178, 0.15450240306366955, -0.8804013772595688, -0.7580135896092738, -1.7051536353409653, 1.0626662974393108, 0.2526824633221683, 0.8340379444053333, 0.14124629647157924, -0.49243382012914344, -0.9599076627068123, 0.7149885906661986, 0.4750175942064842, -0.5873964713638485, 1.6930034548000927, -0.09315530497266254, 0.710403964378997, -1.1932154200104725, -1.0562238516298499, -0.2690924803512119, 0.49758681226637225, -1.0773982877105088, 0.07911034291757471, -0.39902453071887745, 1.0700856351960735, -1.057358139564738, 0.37533863810957413, -2.84037344606979, -0.7091852096155062, -0.9566975881638045, 0.35100423287660615, -1.4217070977134791, 0.4182186974869994, 0.15184097974894464, 0.013448617348159643, 0.3125613854661278, 1.514216766439221, 1.3523238006848513, -0.24663932645882697, 1.0446188476433422, -0.8035903583066685, -0.8232789379519444, 0.28646918218662437, -0.4371347569536695, -0.3411639230662988, -1.0645835371189294, 0.7317930121637225], \"yaxis\": \"y14\"}, {\"line\": {\"color\": \"rgba(128, 128, 128, 1.0)\", \"dash\": \"solid\", \"shape\": \"linear\", \"width\": 1.3}, \"marker\": {\"size\": 2, \"symbol\": \"circle\"}, \"mode\": \"markers\", \"name\": \"D\", \"text\": \"\", \"type\": \"scatter\", \"x\": [0.4060127339438663, -0.7982496783697365, 1.123601971839627, 0.4058048602297246, 0.2745561016720758, 0.027475844105220772, -0.22383021302281453, -0.39387936056102335, 0.46958773686681554, 1.0318532728612242, -0.24670914055786855, -0.6158092236253605, 0.3357316529625056, 0.33549334879556586, -0.3420057984448994, -0.5729067470502307, 0.944555988637591, 1.6466709364637417, -0.6046253611903157, 1.1164169657669007, -0.20836647515525453, -0.3251835589694398, -1.2223825639379888, 0.9111127533544581, 0.7714510155383001, -0.11910029332390273, 0.6925253498084671, 0.761678498587015, -0.21122116515593753, -1.8911317407454065, -0.6477421966041468, 1.746998679272337, -1.7771617442088992, 0.6549085009105307, 1.4788993264746322, -0.5627472212555263, -0.9117802943654789, -0.044173489311235214, 0.7799243277831824, -0.009326740102037481, -0.7202522194882793, -0.7240445885164354, 0.49987218845528786, -0.19517962211662349, 0.012250267699824213, -0.22559392376468862, -0.4808350357460893, -0.8198241736310934, 0.19911254148027172, 0.5290633506851798, 0.2526330126879686, -0.9212198132849635, 1.330206416841273, -1.3646681089815724, -0.8176747165637754, 0.8453057646843333, -0.4028552804000192, -2.060148639010836, 0.5812027839577867, 0.11052420643035013, 0.41282004544314155, -0.14089989297248323, 1.45061283483238, 0.18831388859592682, -1.1439882648437452, -1.1849927000093727, 1.2413796077745642, -0.5577161325566812, -0.61933102563376, -1.037967425542334, -1.1119068495937685, -0.34404925965830496, -1.5708253521732911, -0.1744878934567653, -0.6375590559920541, -1.5414458738716459, 0.919868277100258, 1.0490659600613328, 0.08470892651567892, -1.1117047344287596, 0.07203519479416232, 0.006055862150619064, 1.2245168625491816, 0.3591325369860431, -0.014752796925019226, 0.9663004218908801, 0.6340307723650775, 1.1679323322976998, -0.8019974364914285, 2.009899707838478, 1.351686235098478, -0.16357633038026712, 1.0467381976205765, -0.9884777911500046, -1.179242961599606, 0.19637991258516102, 0.02752192332194667, -0.4772929189208354, -1.2072566311627462, 0.28531937373349664], \"xaxis\": \"x15\", \"y\": [-1.384133836883895, 1.6279036565882115, -0.9299821435910816, 0.35486494817093983, 1.6290606005838537, 0.8653327008822459, 0.15013252944094518, 0.28971818542358885, -0.6452317482474019, 1.3151329392327118, -0.4601930499485809, 0.01796751366341419, -0.2863077986587903, 0.7221752593929269, 1.1438494986725094, 1.704750899635022, 2.0255558584427145, 0.4869696515487609, -0.7753590689761756, 0.5894599802215743, -0.5099209544243769, 0.971142453454226, 1.4135296149222607, 0.46368222120546493, -0.2099110424911986, 0.8555892169194312, -0.8666033652100801, -0.2306133820653981, 1.9089544676825587, 0.48126067046847626, -0.6815478231682852, -0.7012394354255265, -0.4047358182565961, -1.0906657672931215, -0.5310813760482439, -1.1553728557319203, 2.1544499479595145, 0.21019983690878644, 0.11648620825479883, -0.6736364979743092, 0.43450673915401905, -0.98897228814661, -0.5665651061675469, 1.6754808091110636, 0.22626422636394813, 0.07919047376157638, 0.47646469707111916, 0.314116725600217, 1.0625187131973928, -0.2287637563650373, -0.08284518464672441, -0.8301973110501326, -0.4028005160347876, 0.24672132353258178, 0.15450240306366955, -0.8804013772595688, -0.7580135896092738, -1.7051536353409653, 1.0626662974393108, 0.2526824633221683, 0.8340379444053333, 0.14124629647157924, -0.49243382012914344, -0.9599076627068123, 0.7149885906661986, 0.4750175942064842, -0.5873964713638485, 1.6930034548000927, -0.09315530497266254, 0.710403964378997, -1.1932154200104725, -1.0562238516298499, -0.2690924803512119, 0.49758681226637225, -1.0773982877105088, 0.07911034291757471, -0.39902453071887745, 1.0700856351960735, -1.057358139564738, 0.37533863810957413, -2.84037344606979, -0.7091852096155062, -0.9566975881638045, 0.35100423287660615, -1.4217070977134791, 0.4182186974869994, 0.15184097974894464, 0.013448617348159643, 0.3125613854661278, 1.514216766439221, 1.3523238006848513, -0.24663932645882697, 1.0446188476433422, -0.8035903583066685, -0.8232789379519444, 0.28646918218662437, -0.4371347569536695, -0.3411639230662988, -1.0645835371189294, 0.7317930121637225], \"yaxis\": \"y15\"}, {\"histfunc\": \"count\", \"histnorm\": \"\", \"marker\": {\"color\": \"rgba(128, 0, 128, 1.0)\", \"line\": {\"color\": \"#4D5663\", \"width\": 1.3}}, \"name\": \"D\", \"nbinsx\": 10, \"opacity\": 0.8, \"orientation\": \"v\", \"type\": \"histogram\", \"x\": [-1.384133836883895, 1.6279036565882115, -0.9299821435910816, 0.35486494817093983, 1.6290606005838537, 0.8653327008822459, 0.15013252944094518, 0.28971818542358885, -0.6452317482474019, 1.3151329392327118, -0.4601930499485809, 0.01796751366341419, -0.2863077986587903, 0.7221752593929269, 1.1438494986725094, 1.704750899635022, 2.0255558584427145, 0.4869696515487609, -0.7753590689761756, 0.5894599802215743, -0.5099209544243769, 0.971142453454226, 1.4135296149222607, 0.46368222120546493, -0.2099110424911986, 0.8555892169194312, -0.8666033652100801, -0.2306133820653981, 1.9089544676825587, 0.48126067046847626, -0.6815478231682852, -0.7012394354255265, -0.4047358182565961, -1.0906657672931215, -0.5310813760482439, -1.1553728557319203, 2.1544499479595145, 0.21019983690878644, 0.11648620825479883, -0.6736364979743092, 0.43450673915401905, -0.98897228814661, -0.5665651061675469, 1.6754808091110636, 0.22626422636394813, 0.07919047376157638, 0.47646469707111916, 0.314116725600217, 1.0625187131973928, -0.2287637563650373, -0.08284518464672441, -0.8301973110501326, -0.4028005160347876, 0.24672132353258178, 0.15450240306366955, -0.8804013772595688, -0.7580135896092738, -1.7051536353409653, 1.0626662974393108, 0.2526824633221683, 0.8340379444053333, 0.14124629647157924, -0.49243382012914344, -0.9599076627068123, 0.7149885906661986, 0.4750175942064842, -0.5873964713638485, 1.6930034548000927, -0.09315530497266254, 0.710403964378997, -1.1932154200104725, -1.0562238516298499, -0.2690924803512119, 0.49758681226637225, -1.0773982877105088, 0.07911034291757471, -0.39902453071887745, 1.0700856351960735, -1.057358139564738, 0.37533863810957413, -2.84037344606979, -0.7091852096155062, -0.9566975881638045, 0.35100423287660615, -1.4217070977134791, 0.4182186974869994, 0.15184097974894464, 0.013448617348159643, 0.3125613854661278, 1.514216766439221, 1.3523238006848513, -0.24663932645882697, 1.0446188476433422, -0.8035903583066685, -0.8232789379519444, 0.28646918218662437, -0.4371347569536695, -0.3411639230662988, -1.0645835371189294, 0.7317930121637225], \"xaxis\": \"x16\", \"yaxis\": \"y16\"}],\n",
       "                        {\"bargap\": 0.02, \"legend\": {\"bgcolor\": \"#F5F6F9\", \"font\": {\"color\": \"#4D5663\"}}, \"paper_bgcolor\": \"#F5F6F9\", \"plot_bgcolor\": \"#F5F6F9\", \"showlegend\": false, \"template\": {\"data\": {\"bar\": [{\"error_x\": {\"color\": \"#2a3f5f\"}, \"error_y\": {\"color\": \"#2a3f5f\"}, \"marker\": {\"line\": {\"color\": \"#E5ECF6\", \"width\": 0.5}}, \"type\": \"bar\"}], \"barpolar\": [{\"marker\": {\"line\": {\"color\": \"#E5ECF6\", \"width\": 0.5}}, \"type\": \"barpolar\"}], \"carpet\": [{\"aaxis\": {\"endlinecolor\": \"#2a3f5f\", \"gridcolor\": \"white\", \"linecolor\": \"white\", \"minorgridcolor\": \"white\", \"startlinecolor\": \"#2a3f5f\"}, \"baxis\": {\"endlinecolor\": \"#2a3f5f\", \"gridcolor\": \"white\", \"linecolor\": \"white\", \"minorgridcolor\": \"white\", \"startlinecolor\": \"#2a3f5f\"}, \"type\": \"carpet\"}], \"choropleth\": [{\"colorbar\": {\"outlinewidth\": 0, \"ticks\": \"\"}, \"type\": \"choropleth\"}], \"contour\": [{\"colorbar\": {\"outlinewidth\": 0, \"ticks\": \"\"}, \"colorscale\": [[0.0, \"#0d0887\"], [0.1111111111111111, \"#46039f\"], [0.2222222222222222, \"#7201a8\"], [0.3333333333333333, \"#9c179e\"], [0.4444444444444444, \"#bd3786\"], [0.5555555555555556, \"#d8576b\"], [0.6666666666666666, \"#ed7953\"], [0.7777777777777778, \"#fb9f3a\"], [0.8888888888888888, \"#fdca26\"], [1.0, \"#f0f921\"]], \"type\": \"contour\"}], \"contourcarpet\": [{\"colorbar\": {\"outlinewidth\": 0, \"ticks\": \"\"}, \"type\": \"contourcarpet\"}], \"heatmap\": [{\"colorbar\": {\"outlinewidth\": 0, \"ticks\": \"\"}, \"colorscale\": [[0.0, \"#0d0887\"], [0.1111111111111111, \"#46039f\"], [0.2222222222222222, \"#7201a8\"], [0.3333333333333333, \"#9c179e\"], [0.4444444444444444, \"#bd3786\"], [0.5555555555555556, \"#d8576b\"], [0.6666666666666666, \"#ed7953\"], [0.7777777777777778, \"#fb9f3a\"], [0.8888888888888888, \"#fdca26\"], [1.0, \"#f0f921\"]], \"type\": \"heatmap\"}], \"heatmapgl\": [{\"colorbar\": {\"outlinewidth\": 0, \"ticks\": \"\"}, \"colorscale\": [[0.0, \"#0d0887\"], [0.1111111111111111, \"#46039f\"], [0.2222222222222222, \"#7201a8\"], [0.3333333333333333, \"#9c179e\"], [0.4444444444444444, \"#bd3786\"], [0.5555555555555556, \"#d8576b\"], [0.6666666666666666, \"#ed7953\"], [0.7777777777777778, \"#fb9f3a\"], [0.8888888888888888, \"#fdca26\"], [1.0, \"#f0f921\"]], \"type\": \"heatmapgl\"}], \"histogram\": [{\"marker\": {\"colorbar\": {\"outlinewidth\": 0, \"ticks\": \"\"}}, \"type\": \"histogram\"}], \"histogram2d\": [{\"colorbar\": {\"outlinewidth\": 0, \"ticks\": \"\"}, \"colorscale\": [[0.0, \"#0d0887\"], [0.1111111111111111, \"#46039f\"], [0.2222222222222222, \"#7201a8\"], [0.3333333333333333, \"#9c179e\"], [0.4444444444444444, \"#bd3786\"], [0.5555555555555556, \"#d8576b\"], [0.6666666666666666, \"#ed7953\"], [0.7777777777777778, \"#fb9f3a\"], [0.8888888888888888, \"#fdca26\"], [1.0, \"#f0f921\"]], \"type\": \"histogram2d\"}], \"histogram2dcontour\": [{\"colorbar\": {\"outlinewidth\": 0, \"ticks\": \"\"}, \"colorscale\": [[0.0, \"#0d0887\"], [0.1111111111111111, \"#46039f\"], [0.2222222222222222, \"#7201a8\"], [0.3333333333333333, \"#9c179e\"], [0.4444444444444444, \"#bd3786\"], [0.5555555555555556, \"#d8576b\"], [0.6666666666666666, \"#ed7953\"], [0.7777777777777778, \"#fb9f3a\"], [0.8888888888888888, \"#fdca26\"], [1.0, \"#f0f921\"]], \"type\": \"histogram2dcontour\"}], \"mesh3d\": [{\"colorbar\": {\"outlinewidth\": 0, \"ticks\": \"\"}, \"type\": \"mesh3d\"}], \"parcoords\": [{\"line\": {\"colorbar\": {\"outlinewidth\": 0, \"ticks\": \"\"}}, \"type\": \"parcoords\"}], \"pie\": [{\"automargin\": true, \"type\": \"pie\"}], \"scatter\": [{\"marker\": {\"colorbar\": {\"outlinewidth\": 0, \"ticks\": \"\"}}, \"type\": \"scatter\"}], \"scatter3d\": [{\"line\": {\"colorbar\": {\"outlinewidth\": 0, \"ticks\": \"\"}}, \"marker\": {\"colorbar\": {\"outlinewidth\": 0, \"ticks\": \"\"}}, \"type\": \"scatter3d\"}], \"scattercarpet\": [{\"marker\": {\"colorbar\": {\"outlinewidth\": 0, \"ticks\": \"\"}}, \"type\": \"scattercarpet\"}], \"scattergeo\": [{\"marker\": {\"colorbar\": {\"outlinewidth\": 0, \"ticks\": \"\"}}, \"type\": \"scattergeo\"}], \"scattergl\": [{\"marker\": {\"colorbar\": {\"outlinewidth\": 0, \"ticks\": \"\"}}, \"type\": \"scattergl\"}], \"scattermapbox\": [{\"marker\": {\"colorbar\": {\"outlinewidth\": 0, \"ticks\": \"\"}}, \"type\": \"scattermapbox\"}], \"scatterpolar\": [{\"marker\": {\"colorbar\": {\"outlinewidth\": 0, \"ticks\": \"\"}}, \"type\": \"scatterpolar\"}], \"scatterpolargl\": [{\"marker\": {\"colorbar\": {\"outlinewidth\": 0, \"ticks\": \"\"}}, \"type\": \"scatterpolargl\"}], \"scatterternary\": [{\"marker\": {\"colorbar\": {\"outlinewidth\": 0, \"ticks\": \"\"}}, \"type\": \"scatterternary\"}], \"surface\": [{\"colorbar\": {\"outlinewidth\": 0, \"ticks\": \"\"}, \"colorscale\": [[0.0, \"#0d0887\"], [0.1111111111111111, \"#46039f\"], [0.2222222222222222, \"#7201a8\"], [0.3333333333333333, \"#9c179e\"], [0.4444444444444444, \"#bd3786\"], [0.5555555555555556, \"#d8576b\"], [0.6666666666666666, \"#ed7953\"], [0.7777777777777778, \"#fb9f3a\"], [0.8888888888888888, \"#fdca26\"], [1.0, \"#f0f921\"]], \"type\": \"surface\"}], \"table\": [{\"cells\": {\"fill\": {\"color\": \"#EBF0F8\"}, \"line\": {\"color\": \"white\"}}, \"header\": {\"fill\": {\"color\": \"#C8D4E3\"}, \"line\": {\"color\": \"white\"}}, \"type\": \"table\"}]}, \"layout\": {\"annotationdefaults\": {\"arrowcolor\": \"#2a3f5f\", \"arrowhead\": 0, \"arrowwidth\": 1}, \"coloraxis\": {\"colorbar\": {\"outlinewidth\": 0, \"ticks\": \"\"}}, \"colorscale\": {\"diverging\": [[0, \"#8e0152\"], [0.1, \"#c51b7d\"], [0.2, \"#de77ae\"], [0.3, \"#f1b6da\"], [0.4, \"#fde0ef\"], [0.5, \"#f7f7f7\"], [0.6, \"#e6f5d0\"], [0.7, \"#b8e186\"], [0.8, \"#7fbc41\"], [0.9, \"#4d9221\"], [1, \"#276419\"]], \"sequential\": [[0.0, \"#0d0887\"], [0.1111111111111111, \"#46039f\"], [0.2222222222222222, \"#7201a8\"], [0.3333333333333333, \"#9c179e\"], [0.4444444444444444, \"#bd3786\"], [0.5555555555555556, \"#d8576b\"], [0.6666666666666666, \"#ed7953\"], [0.7777777777777778, \"#fb9f3a\"], [0.8888888888888888, \"#fdca26\"], [1.0, \"#f0f921\"]], \"sequentialminus\": [[0.0, \"#0d0887\"], [0.1111111111111111, \"#46039f\"], [0.2222222222222222, \"#7201a8\"], [0.3333333333333333, \"#9c179e\"], [0.4444444444444444, \"#bd3786\"], [0.5555555555555556, \"#d8576b\"], [0.6666666666666666, \"#ed7953\"], [0.7777777777777778, \"#fb9f3a\"], [0.8888888888888888, \"#fdca26\"], [1.0, \"#f0f921\"]]}, \"colorway\": [\"#636efa\", \"#EF553B\", \"#00cc96\", \"#ab63fa\", \"#FFA15A\", \"#19d3f3\", \"#FF6692\", \"#B6E880\", \"#FF97FF\", \"#FECB52\"], \"font\": {\"color\": \"#2a3f5f\"}, \"geo\": {\"bgcolor\": \"white\", \"lakecolor\": \"white\", \"landcolor\": \"#E5ECF6\", \"showlakes\": true, \"showland\": true, \"subunitcolor\": \"white\"}, \"hoverlabel\": {\"align\": \"left\"}, \"hovermode\": \"closest\", \"mapbox\": {\"style\": \"light\"}, \"paper_bgcolor\": \"white\", \"plot_bgcolor\": \"#E5ECF6\", \"polar\": {\"angularaxis\": {\"gridcolor\": \"white\", \"linecolor\": \"white\", \"ticks\": \"\"}, \"bgcolor\": \"#E5ECF6\", \"radialaxis\": {\"gridcolor\": \"white\", \"linecolor\": \"white\", \"ticks\": \"\"}}, \"scene\": {\"xaxis\": {\"backgroundcolor\": \"#E5ECF6\", \"gridcolor\": \"white\", \"gridwidth\": 2, \"linecolor\": \"white\", \"showbackground\": true, \"ticks\": \"\", \"zerolinecolor\": \"white\"}, \"yaxis\": {\"backgroundcolor\": \"#E5ECF6\", \"gridcolor\": \"white\", \"gridwidth\": 2, \"linecolor\": \"white\", \"showbackground\": true, \"ticks\": \"\", \"zerolinecolor\": \"white\"}, \"zaxis\": {\"backgroundcolor\": \"#E5ECF6\", \"gridcolor\": \"white\", \"gridwidth\": 2, \"linecolor\": \"white\", \"showbackground\": true, \"ticks\": \"\", \"zerolinecolor\": \"white\"}}, \"shapedefaults\": {\"line\": {\"color\": \"#2a3f5f\"}}, \"ternary\": {\"aaxis\": {\"gridcolor\": \"white\", \"linecolor\": \"white\", \"ticks\": \"\"}, \"baxis\": {\"gridcolor\": \"white\", \"linecolor\": \"white\", \"ticks\": \"\"}, \"bgcolor\": \"#E5ECF6\", \"caxis\": {\"gridcolor\": \"white\", \"linecolor\": \"white\", \"ticks\": \"\"}}, \"title\": {\"x\": 0.05}, \"xaxis\": {\"automargin\": true, \"gridcolor\": \"white\", \"linecolor\": \"white\", \"ticks\": \"\", \"title\": {\"standoff\": 15}, \"zerolinecolor\": \"white\", \"zerolinewidth\": 2}, \"yaxis\": {\"automargin\": true, \"gridcolor\": \"white\", \"linecolor\": \"white\", \"ticks\": \"\", \"title\": {\"standoff\": 15}, \"zerolinecolor\": \"white\", \"zerolinewidth\": 2}}}, \"title\": {\"font\": {\"color\": \"#4D5663\"}}, \"xaxis\": {\"anchor\": \"y\", \"domain\": [0.0, 0.2125], \"gridcolor\": \"#E1E5ED\", \"showgrid\": false, \"tickfont\": {\"color\": \"#4D5663\"}, \"title\": {\"font\": {\"color\": \"#4D5663\"}, \"text\": \"\"}, \"zerolinecolor\": \"#E1E5ED\"}, \"xaxis10\": {\"anchor\": \"y10\", \"domain\": [0.2625, 0.475], \"gridcolor\": \"#E1E5ED\", \"showgrid\": false, \"tickfont\": {\"color\": \"#4D5663\"}, \"title\": {\"font\": {\"color\": \"#4D5663\"}, \"text\": \"\"}, \"zerolinecolor\": \"#E1E5ED\"}, \"xaxis11\": {\"anchor\": \"y11\", \"domain\": [0.525, 0.7375], \"gridcolor\": \"#E1E5ED\", \"showgrid\": false, \"tickfont\": {\"color\": \"#4D5663\"}, \"title\": {\"font\": {\"color\": \"#4D5663\"}, \"text\": \"\"}, \"zerolinecolor\": \"#E1E5ED\"}, \"xaxis12\": {\"anchor\": \"y12\", \"domain\": [0.7875, 1.0], \"gridcolor\": \"#E1E5ED\", \"showgrid\": false, \"tickfont\": {\"color\": \"#4D5663\"}, \"title\": {\"font\": {\"color\": \"#4D5663\"}, \"text\": \"\"}, \"zerolinecolor\": \"#E1E5ED\"}, \"xaxis13\": {\"anchor\": \"y13\", \"domain\": [0.0, 0.2125], \"gridcolor\": \"#E1E5ED\", \"showgrid\": false, \"tickfont\": {\"color\": \"#4D5663\"}, \"title\": {\"font\": {\"color\": \"#4D5663\"}, \"text\": \"\"}, \"zerolinecolor\": \"#E1E5ED\"}, \"xaxis14\": {\"anchor\": \"y14\", \"domain\": [0.2625, 0.475], \"gridcolor\": \"#E1E5ED\", \"showgrid\": false, \"tickfont\": {\"color\": \"#4D5663\"}, \"title\": {\"font\": {\"color\": \"#4D5663\"}, \"text\": \"\"}, \"zerolinecolor\": \"#E1E5ED\"}, \"xaxis15\": {\"anchor\": \"y15\", \"domain\": [0.525, 0.7375], \"gridcolor\": \"#E1E5ED\", \"showgrid\": false, \"tickfont\": {\"color\": \"#4D5663\"}, \"title\": {\"font\": {\"color\": \"#4D5663\"}, \"text\": \"\"}, \"zerolinecolor\": \"#E1E5ED\"}, \"xaxis16\": {\"anchor\": \"y16\", \"domain\": [0.7875, 1.0], \"gridcolor\": \"#E1E5ED\", \"showgrid\": false, \"tickfont\": {\"color\": \"#4D5663\"}, \"title\": {\"font\": {\"color\": \"#4D5663\"}, \"text\": \"\"}, \"zerolinecolor\": \"#E1E5ED\"}, \"xaxis2\": {\"anchor\": \"y2\", \"domain\": [0.2625, 0.475], \"gridcolor\": \"#E1E5ED\", \"showgrid\": false, \"tickfont\": {\"color\": \"#4D5663\"}, \"title\": {\"font\": {\"color\": \"#4D5663\"}, \"text\": \"\"}, \"zerolinecolor\": \"#E1E5ED\"}, \"xaxis3\": {\"anchor\": \"y3\", \"domain\": [0.525, 0.7375], \"gridcolor\": \"#E1E5ED\", \"showgrid\": false, \"tickfont\": {\"color\": \"#4D5663\"}, \"title\": {\"font\": {\"color\": \"#4D5663\"}, \"text\": \"\"}, \"zerolinecolor\": \"#E1E5ED\"}, \"xaxis4\": {\"anchor\": \"y4\", \"domain\": [0.7875, 1.0], \"gridcolor\": \"#E1E5ED\", \"showgrid\": false, \"tickfont\": {\"color\": \"#4D5663\"}, \"title\": {\"font\": {\"color\": \"#4D5663\"}, \"text\": \"\"}, \"zerolinecolor\": \"#E1E5ED\"}, \"xaxis5\": {\"anchor\": \"y5\", \"domain\": [0.0, 0.2125], \"gridcolor\": \"#E1E5ED\", \"showgrid\": false, \"tickfont\": {\"color\": \"#4D5663\"}, \"title\": {\"font\": {\"color\": \"#4D5663\"}, \"text\": \"\"}, \"zerolinecolor\": \"#E1E5ED\"}, \"xaxis6\": {\"anchor\": \"y6\", \"domain\": [0.2625, 0.475], \"gridcolor\": \"#E1E5ED\", \"showgrid\": false, \"tickfont\": {\"color\": \"#4D5663\"}, \"title\": {\"font\": {\"color\": \"#4D5663\"}, \"text\": \"\"}, \"zerolinecolor\": \"#E1E5ED\"}, \"xaxis7\": {\"anchor\": \"y7\", \"domain\": [0.525, 0.7375], \"gridcolor\": \"#E1E5ED\", \"showgrid\": false, \"tickfont\": {\"color\": \"#4D5663\"}, \"title\": {\"font\": {\"color\": \"#4D5663\"}, \"text\": \"\"}, \"zerolinecolor\": \"#E1E5ED\"}, \"xaxis8\": {\"anchor\": \"y8\", \"domain\": [0.7875, 1.0], \"gridcolor\": \"#E1E5ED\", \"showgrid\": false, \"tickfont\": {\"color\": \"#4D5663\"}, \"title\": {\"font\": {\"color\": \"#4D5663\"}, \"text\": \"\"}, \"zerolinecolor\": \"#E1E5ED\"}, \"xaxis9\": {\"anchor\": \"y9\", \"domain\": [0.0, 0.2125], \"gridcolor\": \"#E1E5ED\", \"showgrid\": false, \"tickfont\": {\"color\": \"#4D5663\"}, \"title\": {\"font\": {\"color\": \"#4D5663\"}, \"text\": \"\"}, \"zerolinecolor\": \"#E1E5ED\"}, \"yaxis\": {\"anchor\": \"x\", \"domain\": [0.8025, 1.0], \"gridcolor\": \"#E1E5ED\", \"showgrid\": false, \"tickfont\": {\"color\": \"#4D5663\"}, \"title\": {\"font\": {\"color\": \"#4D5663\"}, \"text\": \"\"}, \"zerolinecolor\": \"#E1E5ED\"}, \"yaxis10\": {\"anchor\": \"x10\", \"domain\": [0.2675, 0.465], \"gridcolor\": \"#E1E5ED\", \"showgrid\": false, \"tickfont\": {\"color\": \"#4D5663\"}, \"title\": {\"font\": {\"color\": \"#4D5663\"}, \"text\": \"\"}, \"zerolinecolor\": \"#E1E5ED\"}, \"yaxis11\": {\"anchor\": \"x11\", \"domain\": [0.2675, 0.465], \"gridcolor\": \"#E1E5ED\", \"showgrid\": false, \"tickfont\": {\"color\": \"#4D5663\"}, \"title\": {\"font\": {\"color\": \"#4D5663\"}, \"text\": \"\"}, \"zerolinecolor\": \"#E1E5ED\"}, \"yaxis12\": {\"anchor\": \"x12\", \"domain\": [0.2675, 0.465], \"gridcolor\": \"#E1E5ED\", \"showgrid\": false, \"tickfont\": {\"color\": \"#4D5663\"}, \"title\": {\"font\": {\"color\": \"#4D5663\"}, \"text\": \"\"}, \"zerolinecolor\": \"#E1E5ED\"}, \"yaxis13\": {\"anchor\": \"x13\", \"domain\": [0.0, 0.1975], \"gridcolor\": \"#E1E5ED\", \"showgrid\": false, \"tickfont\": {\"color\": \"#4D5663\"}, \"title\": {\"font\": {\"color\": \"#4D5663\"}, \"text\": \"\"}, \"zerolinecolor\": \"#E1E5ED\"}, \"yaxis14\": {\"anchor\": \"x14\", \"domain\": [0.0, 0.1975], \"gridcolor\": \"#E1E5ED\", \"showgrid\": false, \"tickfont\": {\"color\": \"#4D5663\"}, \"title\": {\"font\": {\"color\": \"#4D5663\"}, \"text\": \"\"}, \"zerolinecolor\": \"#E1E5ED\"}, \"yaxis15\": {\"anchor\": \"x15\", \"domain\": [0.0, 0.1975], \"gridcolor\": \"#E1E5ED\", \"showgrid\": false, \"tickfont\": {\"color\": \"#4D5663\"}, \"title\": {\"font\": {\"color\": \"#4D5663\"}, \"text\": \"\"}, \"zerolinecolor\": \"#E1E5ED\"}, \"yaxis16\": {\"anchor\": \"x16\", \"domain\": [0.0, 0.1975], \"gridcolor\": \"#E1E5ED\", \"showgrid\": false, \"tickfont\": {\"color\": \"#4D5663\"}, \"title\": {\"font\": {\"color\": \"#4D5663\"}, \"text\": \"\"}, \"zerolinecolor\": \"#E1E5ED\"}, \"yaxis2\": {\"anchor\": \"x2\", \"domain\": [0.8025, 1.0], \"gridcolor\": \"#E1E5ED\", \"showgrid\": false, \"tickfont\": {\"color\": \"#4D5663\"}, \"title\": {\"font\": {\"color\": \"#4D5663\"}, \"text\": \"\"}, \"zerolinecolor\": \"#E1E5ED\"}, \"yaxis3\": {\"anchor\": \"x3\", \"domain\": [0.8025, 1.0], \"gridcolor\": \"#E1E5ED\", \"showgrid\": false, \"tickfont\": {\"color\": \"#4D5663\"}, \"title\": {\"font\": {\"color\": \"#4D5663\"}, \"text\": \"\"}, \"zerolinecolor\": \"#E1E5ED\"}, \"yaxis4\": {\"anchor\": \"x4\", \"domain\": [0.8025, 1.0], \"gridcolor\": \"#E1E5ED\", \"showgrid\": false, \"tickfont\": {\"color\": \"#4D5663\"}, \"title\": {\"font\": {\"color\": \"#4D5663\"}, \"text\": \"\"}, \"zerolinecolor\": \"#E1E5ED\"}, \"yaxis5\": {\"anchor\": \"x5\", \"domain\": [0.535, 0.7325], \"gridcolor\": \"#E1E5ED\", \"showgrid\": false, \"tickfont\": {\"color\": \"#4D5663\"}, \"title\": {\"font\": {\"color\": \"#4D5663\"}, \"text\": \"\"}, \"zerolinecolor\": \"#E1E5ED\"}, \"yaxis6\": {\"anchor\": \"x6\", \"domain\": [0.535, 0.7325], \"gridcolor\": \"#E1E5ED\", \"showgrid\": false, \"tickfont\": {\"color\": \"#4D5663\"}, \"title\": {\"font\": {\"color\": \"#4D5663\"}, \"text\": \"\"}, \"zerolinecolor\": \"#E1E5ED\"}, \"yaxis7\": {\"anchor\": \"x7\", \"domain\": [0.535, 0.7325], \"gridcolor\": \"#E1E5ED\", \"showgrid\": false, \"tickfont\": {\"color\": \"#4D5663\"}, \"title\": {\"font\": {\"color\": \"#4D5663\"}, \"text\": \"\"}, \"zerolinecolor\": \"#E1E5ED\"}, \"yaxis8\": {\"anchor\": \"x8\", \"domain\": [0.535, 0.7325], \"gridcolor\": \"#E1E5ED\", \"showgrid\": false, \"tickfont\": {\"color\": \"#4D5663\"}, \"title\": {\"font\": {\"color\": \"#4D5663\"}, \"text\": \"\"}, \"zerolinecolor\": \"#E1E5ED\"}, \"yaxis9\": {\"anchor\": \"x9\", \"domain\": [0.2675, 0.465], \"gridcolor\": \"#E1E5ED\", \"showgrid\": false, \"tickfont\": {\"color\": \"#4D5663\"}, \"title\": {\"font\": {\"color\": \"#4D5663\"}, \"text\": \"\"}, \"zerolinecolor\": \"#E1E5ED\"}},\n",
       "                        {\"showLink\": true, \"linkText\": \"Export to plot.ly\", \"plotlyServerURL\": \"https://plot.ly\", \"responsive\": true}\n",
       "                    ).then(function(){\n",
       "                            \n",
       "var gd = document.getElementById('91f2c28f-45f7-4dec-949e-3c5918f08796');\n",
       "var x = new MutationObserver(function (mutations, observer) {{\n",
       "        var display = window.getComputedStyle(gd).display;\n",
       "        if (!display || display === 'none') {{\n",
       "            console.log([gd, 'removed!']);\n",
       "            Plotly.purge(gd);\n",
       "            observer.disconnect();\n",
       "        }}\n",
       "}});\n",
       "\n",
       "// Listen for the removal of the full notebook cells\n",
       "var notebookContainer = gd.closest('#notebook-container');\n",
       "if (notebookContainer) {{\n",
       "    x.observe(notebookContainer, {childList: true});\n",
       "}}\n",
       "\n",
       "// Listen for the clearing of the current output cell\n",
       "var outputEl = gd.closest('.output');\n",
       "if (outputEl) {{\n",
       "    x.observe(outputEl, {childList: true});\n",
       "}}\n",
       "\n",
       "                        })\n",
       "                };\n",
       "                });\n",
       "            </script>\n",
       "        </div>"
      ]
     },
     "metadata": {},
     "output_type": "display_data"
    }
   ],
   "source": [
    "df.scatter_matrix()"
   ]
  },
  {
   "cell_type": "code",
   "execution_count": null,
   "metadata": {},
   "outputs": [],
   "source": []
  }
 ],
 "metadata": {
  "kernelspec": {
   "display_name": "Python 3",
   "language": "python",
   "name": "python3"
  },
  "language_info": {
   "codemirror_mode": {
    "name": "ipython",
    "version": 3
   },
   "file_extension": ".py",
   "mimetype": "text/x-python",
   "name": "python",
   "nbconvert_exporter": "python",
   "pygments_lexer": "ipython3",
   "version": "3.7.6"
  }
 },
 "nbformat": 4,
 "nbformat_minor": 4
}
