{
 "cells": [
  {
   "cell_type": "markdown",
   "metadata": {},
   "source": [
    "# Groupby "
   ]
  },
  {
   "cell_type": "code",
   "execution_count": 1,
   "metadata": {},
   "outputs": [],
   "source": [
    "import numpy as np\n",
    "import pandas as pd\n",
    "from numpy.random import randn"
   ]
  },
  {
   "cell_type": "code",
   "execution_count": 2,
   "metadata": {},
   "outputs": [],
   "source": [
    "data={'compony':['GooG','GooG','MSFT','FB','FB','yahoo'],'person':['sum','charlie','Amy','Vanessa','Carls','Sarah'],\n",
    "       'sales':[200,120,340,124,243,350]}\n"
   ]
  },
  {
   "cell_type": "code",
   "execution_count": 3,
   "metadata": {},
   "outputs": [
    {
     "name": "stdout",
     "output_type": "stream",
     "text": [
      "  compony   person  sales\n",
      "0    GooG      sum    200\n",
      "1    GooG  charlie    120\n",
      "2    MSFT      Amy    340\n",
      "3      FB  Vanessa    124\n",
      "4      FB    Carls    243\n",
      "5   yahoo    Sarah    350\n"
     ]
    }
   ],
   "source": [
    "df=pd.DataFrame(data)\n",
    "print(df)"
   ]
  },
  {
   "cell_type": "code",
   "execution_count": 4,
   "metadata": {},
   "outputs": [
    {
     "name": "stdout",
     "output_type": "stream",
     "text": [
      "<pandas.core.groupby.generic.DataFrameGroupBy object at 0x0000024388713208>\n"
     ]
    }
   ],
   "source": [
    "byComp=df.groupby('compony')\n",
    "print(byComp)"
   ]
  },
  {
   "cell_type": "markdown",
   "metadata": {},
   "source": [
    "## operation on grouped data"
   ]
  },
  {
   "cell_type": "code",
   "execution_count": 5,
   "metadata": {},
   "outputs": [
    {
     "name": "stdout",
     "output_type": "stream",
     "text": [
      "         sales\n",
      "compony       \n",
      "FB       183.5\n",
      "GooG     160.0\n",
      "MSFT     340.0\n",
      "yahoo    350.0\n"
     ]
    }
   ],
   "source": [
    "print(byComp.mean())"
   ]
  },
  {
   "cell_type": "code",
   "execution_count": 6,
   "metadata": {},
   "outputs": [
    {
     "name": "stdout",
     "output_type": "stream",
     "text": [
      "             sales\n",
      "compony           \n",
      "FB       84.145707\n",
      "GooG     56.568542\n",
      "MSFT           NaN\n",
      "yahoo          NaN\n"
     ]
    }
   ],
   "source": [
    "print(byComp.std())"
   ]
  },
  {
   "cell_type": "code",
   "execution_count": 7,
   "metadata": {},
   "outputs": [
    {
     "name": "stdout",
     "output_type": "stream",
     "text": [
      "         sales\n",
      "compony       \n",
      "FB         367\n",
      "GooG       320\n",
      "MSFT       340\n",
      "yahoo      350\n"
     ]
    }
   ],
   "source": [
    "print(byComp.sum())"
   ]
  },
  {
   "cell_type": "code",
   "execution_count": 8,
   "metadata": {},
   "outputs": [
    {
     "name": "stdout",
     "output_type": "stream",
     "text": [
      "sales    367\n",
      "Name: FB, dtype: int64\n"
     ]
    }
   ],
   "source": [
    "print(byComp.sum().loc['FB'])"
   ]
  },
  {
   "cell_type": "code",
   "execution_count": 9,
   "metadata": {},
   "outputs": [
    {
     "name": "stdout",
     "output_type": "stream",
     "text": [
      "sales    367\n",
      "Name: FB, dtype: int64\n"
     ]
    }
   ],
   "source": [
    "print(df.groupby('compony').sum().loc['FB'])"
   ]
  },
  {
   "cell_type": "code",
   "execution_count": 10,
   "metadata": {},
   "outputs": [
    {
     "name": "stdout",
     "output_type": "stream",
     "text": [
      "         person  sales\n",
      "compony               \n",
      "FB            2      2\n",
      "GooG          2      2\n",
      "MSFT          1      1\n",
      "yahoo         1      1\n"
     ]
    }
   ],
   "source": [
    "print(df.groupby('compony').count())\n"
   ]
  },
  {
   "cell_type": "code",
   "execution_count": 11,
   "metadata": {},
   "outputs": [
    {
     "name": "stdout",
     "output_type": "stream",
     "text": [
      "          person  sales\n",
      "compony                \n",
      "FB       Vanessa    243\n",
      "GooG         sum    200\n",
      "MSFT         Amy    340\n",
      "yahoo      Sarah    350\n"
     ]
    }
   ],
   "source": [
    "print(df.groupby('compony').max())"
   ]
  },
  {
   "cell_type": "code",
   "execution_count": 12,
   "metadata": {},
   "outputs": [
    {
     "name": "stdout",
     "output_type": "stream",
     "text": [
      "          person  sales\n",
      "compony                \n",
      "FB         Carls    124\n",
      "GooG     charlie    120\n",
      "MSFT         Amy    340\n",
      "yahoo      Sarah    350\n"
     ]
    }
   ],
   "source": [
    "print(df.groupby('compony').min())"
   ]
  },
  {
   "cell_type": "code",
   "execution_count": 13,
   "metadata": {},
   "outputs": [
    {
     "name": "stdout",
     "output_type": "stream",
     "text": [
      "        sales                                                       \n",
      "        count   mean        std    min     25%    50%     75%    max\n",
      "compony                                                             \n",
      "FB        2.0  183.5  84.145707  124.0  153.75  183.5  213.25  243.0\n",
      "GooG      2.0  160.0  56.568542  120.0  140.00  160.0  180.00  200.0\n",
      "MSFT      1.0  340.0        NaN  340.0  340.00  340.0  340.00  340.0\n",
      "yahoo     1.0  350.0        NaN  350.0  350.00  350.0  350.00  350.0\n"
     ]
    }
   ],
   "source": [
    "print(df.groupby('compony').describe())"
   ]
  },
  {
   "cell_type": "code",
   "execution_count": 14,
   "metadata": {},
   "outputs": [
    {
     "name": "stdout",
     "output_type": "stream",
     "text": [
      "compony              FB        GooG   MSFT  yahoo\n",
      "sales count    2.000000    2.000000    1.0    1.0\n",
      "      mean   183.500000  160.000000  340.0  350.0\n",
      "      std     84.145707   56.568542    NaN    NaN\n",
      "      min    124.000000  120.000000  340.0  350.0\n",
      "      25%    153.750000  140.000000  340.0  350.0\n",
      "      50%    183.500000  160.000000  340.0  350.0\n",
      "      75%    213.250000  180.000000  340.0  350.0\n",
      "      max    243.000000  200.000000  340.0  350.0\n"
     ]
    }
   ],
   "source": [
    "print(df.groupby('compony').describe().transpose())"
   ]
  },
  {
   "cell_type": "code",
   "execution_count": null,
   "metadata": {},
   "outputs": [],
   "source": []
  }
 ],
 "metadata": {
  "kernelspec": {
   "display_name": "Python 3",
   "language": "python",
   "name": "python3"
  },
  "language_info": {
   "codemirror_mode": {
    "name": "ipython",
    "version": 3
   },
   "file_extension": ".py",
   "mimetype": "text/x-python",
   "name": "python",
   "nbconvert_exporter": "python",
   "pygments_lexer": "ipython3",
   "version": "3.7.6"
  }
 },
 "nbformat": 4,
 "nbformat_minor": 4
}
