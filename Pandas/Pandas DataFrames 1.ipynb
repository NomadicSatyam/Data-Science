{
 "cells": [
  {
   "cell_type": "markdown",
   "metadata": {},
   "source": [
    "# Pandas dataFrame 1"
   ]
  },
  {
   "cell_type": "code",
   "execution_count": 4,
   "metadata": {},
   "outputs": [],
   "source": [
    "import numpy as np\n",
    "import pandas as pd\n",
    "from numpy.random import randn\n",
    "np.random.seed(101)\n"
   ]
  },
  {
   "cell_type": "code",
   "execution_count": 5,
   "metadata": {},
   "outputs": [
    {
     "name": "stdout",
     "output_type": "stream",
     "text": [
      "          w         x         y         z\n",
      "a  2.706850  0.628133  0.907969  0.503826\n",
      "b  0.651118 -0.319318 -0.848077  0.605965\n",
      "c -2.018168  0.740122  0.528813 -0.589001\n",
      "d  0.188695 -0.758872 -0.933237  0.955057\n",
      "e  0.190794  1.978757  2.605967  0.683509\n"
     ]
    }
   ],
   "source": [
    "df=pd.DataFrame(randn(5,4),['a','b','c','d','e'],['w','x','y','z'])\n",
    "print(df)"
   ]
  },
  {
   "cell_type": "markdown",
   "metadata": {},
   "source": [
    "## ''' Selecting Column '''"
   ]
  },
  {
   "cell_type": "code",
   "execution_count": 7,
   "metadata": {},
   "outputs": [
    {
     "name": "stdout",
     "output_type": "stream",
     "text": [
      "a    2.706850\n",
      "b    0.651118\n",
      "c   -2.018168\n",
      "d    0.188695\n",
      "e    0.190794\n",
      "Name: w, dtype: float64\n"
     ]
    }
   ],
   "source": [
    "print(df['w'])"
   ]
  },
  {
   "cell_type": "code",
   "execution_count": 8,
   "metadata": {},
   "outputs": [
    {
     "name": "stdout",
     "output_type": "stream",
     "text": [
      "<class 'pandas.core.frame.DataFrame'>\n"
     ]
    }
   ],
   "source": [
    "print(type(df))"
   ]
  },
  {
   "cell_type": "code",
   "execution_count": 9,
   "metadata": {},
   "outputs": [
    {
     "name": "stdout",
     "output_type": "stream",
     "text": [
      "<class 'pandas.core.series.Series'>\n"
     ]
    }
   ],
   "source": [
    "print(type(df['w']))"
   ]
  },
  {
   "cell_type": "code",
   "execution_count": 10,
   "metadata": {},
   "outputs": [
    {
     "name": "stdout",
     "output_type": "stream",
     "text": [
      "          w         x\n",
      "a  2.706850  0.628133\n",
      "b  0.651118 -0.319318\n",
      "c -2.018168  0.740122\n",
      "d  0.188695 -0.758872\n",
      "e  0.190794  1.978757\n"
     ]
    }
   ],
   "source": [
    "print(df[['w','x']])"
   ]
  },
  {
   "cell_type": "code",
   "execution_count": 11,
   "metadata": {},
   "outputs": [],
   "source": [
    "df['new']=df['w']+df['y']"
   ]
  },
  {
   "cell_type": "code",
   "execution_count": 12,
   "metadata": {},
   "outputs": [
    {
     "name": "stdout",
     "output_type": "stream",
     "text": [
      "          w         x         y         z       new\n",
      "a  2.706850  0.628133  0.907969  0.503826  3.614819\n",
      "b  0.651118 -0.319318 -0.848077  0.605965 -0.196959\n",
      "c -2.018168  0.740122  0.528813 -0.589001 -1.489355\n",
      "d  0.188695 -0.758872 -0.933237  0.955057 -0.744542\n",
      "e  0.190794  1.978757  2.605967  0.683509  2.796762\n"
     ]
    }
   ],
   "source": [
    "print(df)"
   ]
  },
  {
   "cell_type": "code",
   "execution_count": 15,
   "metadata": {},
   "outputs": [
    {
     "name": "stdout",
     "output_type": "stream",
     "text": [
      "          w         x         y         z\n",
      "a  2.706850  0.628133  0.907969  0.503826\n",
      "b  0.651118 -0.319318 -0.848077  0.605965\n",
      "c -2.018168  0.740122  0.528813 -0.589001\n",
      "d  0.188695 -0.758872 -0.933237  0.955057\n",
      "e  0.190794  1.978757  2.605967  0.683509\n"
     ]
    }
   ],
   "source": [
    "print(df.drop('new',axis=1))"
   ]
  },
  {
   "cell_type": "code",
   "execution_count": 16,
   "metadata": {},
   "outputs": [
    {
     "name": "stdout",
     "output_type": "stream",
     "text": [
      "          w         x         y         z       new\n",
      "a  2.706850  0.628133  0.907969  0.503826  3.614819\n",
      "b  0.651118 -0.319318 -0.848077  0.605965 -0.196959\n",
      "c -2.018168  0.740122  0.528813 -0.589001 -1.489355\n",
      "d  0.188695 -0.758872 -0.933237  0.955057 -0.744542\n",
      "e  0.190794  1.978757  2.605967  0.683509  2.796762\n"
     ]
    }
   ],
   "source": [
    "print(df)"
   ]
  },
  {
   "cell_type": "code",
   "execution_count": 17,
   "metadata": {},
   "outputs": [],
   "source": [
    "df.drop('new',axis=1,inplace=True)"
   ]
  },
  {
   "cell_type": "code",
   "execution_count": 18,
   "metadata": {},
   "outputs": [
    {
     "name": "stdout",
     "output_type": "stream",
     "text": [
      "          w         x         y         z\n",
      "a  2.706850  0.628133  0.907969  0.503826\n",
      "b  0.651118 -0.319318 -0.848077  0.605965\n",
      "c -2.018168  0.740122  0.528813 -0.589001\n",
      "d  0.188695 -0.758872 -0.933237  0.955057\n",
      "e  0.190794  1.978757  2.605967  0.683509\n"
     ]
    }
   ],
   "source": [
    "print(df)"
   ]
  },
  {
   "cell_type": "code",
   "execution_count": 19,
   "metadata": {},
   "outputs": [
    {
     "name": "stdout",
     "output_type": "stream",
     "text": [
      "          w         x         y         z\n",
      "a  2.706850  0.628133  0.907969  0.503826\n",
      "b  0.651118 -0.319318 -0.848077  0.605965\n",
      "c -2.018168  0.740122  0.528813 -0.589001\n",
      "d  0.188695 -0.758872 -0.933237  0.955057\n"
     ]
    }
   ],
   "source": [
    "print(df.drop('e',axis=0))"
   ]
  },
  {
   "cell_type": "code",
   "execution_count": 20,
   "metadata": {},
   "outputs": [
    {
     "name": "stdout",
     "output_type": "stream",
     "text": [
      "          w         x         y         z\n",
      "a  2.706850  0.628133  0.907969  0.503826\n",
      "b  0.651118 -0.319318 -0.848077  0.605965\n",
      "c -2.018168  0.740122  0.528813 -0.589001\n",
      "d  0.188695 -0.758872 -0.933237  0.955057\n",
      "e  0.190794  1.978757  2.605967  0.683509\n"
     ]
    }
   ],
   "source": [
    "print(df)"
   ]
  },
  {
   "cell_type": "code",
   "execution_count": 21,
   "metadata": {},
   "outputs": [
    {
     "name": "stdout",
     "output_type": "stream",
     "text": [
      "(5, 4)\n"
     ]
    }
   ],
   "source": [
    "print(df.shape)"
   ]
  },
  {
   "cell_type": "code",
   "execution_count": 26,
   "metadata": {},
   "outputs": [
    {
     "name": "stdout",
     "output_type": "stream",
     "text": [
      "          x         y\n",
      "a  0.628133  0.907969\n",
      "b -0.319318 -0.848077\n",
      "c  0.740122  0.528813\n",
      "d -0.758872 -0.933237\n",
      "e  1.978757  2.605967\n"
     ]
    }
   ],
   "source": [
    "print(df[['x','y']])"
   ]
  },
  {
   "cell_type": "markdown",
   "metadata": {},
   "source": [
    "## ''' selecting row'''\n"
   ]
  },
  {
   "cell_type": "code",
   "execution_count": 22,
   "metadata": {},
   "outputs": [
    {
     "name": "stdout",
     "output_type": "stream",
     "text": [
      "w    2.706850\n",
      "x    0.628133\n",
      "y    0.907969\n",
      "z    0.503826\n",
      "Name: a, dtype: float64\n"
     ]
    }
   ],
   "source": [
    "print(df.loc['a'])  #location labal based index"
   ]
  },
  {
   "cell_type": "code",
   "execution_count": 23,
   "metadata": {},
   "outputs": [
    {
     "name": "stdout",
     "output_type": "stream",
     "text": [
      "w   -2.018168\n",
      "x    0.740122\n",
      "y    0.528813\n",
      "z   -0.589001\n",
      "Name: c, dtype: float64\n"
     ]
    }
   ],
   "source": [
    "print(df.iloc[2])  #location numerical based index"
   ]
  },
  {
   "cell_type": "code",
   "execution_count": 24,
   "metadata": {},
   "outputs": [
    {
     "name": "stdout",
     "output_type": "stream",
     "text": [
      "-0.8480769834036315\n"
     ]
    }
   ],
   "source": [
    "print(df.loc['b','y'])"
   ]
  },
  {
   "cell_type": "code",
   "execution_count": 25,
   "metadata": {},
   "outputs": [
    {
     "name": "stdout",
     "output_type": "stream",
     "text": [
      "          y         z\n",
      "a  0.907969  0.503826\n",
      "b -0.848077  0.605965\n"
     ]
    }
   ],
   "source": [
    "print(df.loc[['a','b'],['y','z']])"
   ]
  },
  {
   "cell_type": "code",
   "execution_count": null,
   "metadata": {},
   "outputs": [],
   "source": []
  }
 ],
 "metadata": {
  "kernelspec": {
   "display_name": "Python 3",
   "language": "python",
   "name": "python3"
  },
  "language_info": {
   "codemirror_mode": {
    "name": "ipython",
    "version": 3
   },
   "file_extension": ".py",
   "mimetype": "text/x-python",
   "name": "python",
   "nbconvert_exporter": "python",
   "pygments_lexer": "ipython3",
   "version": "3.7.6"
  }
 },
 "nbformat": 4,
 "nbformat_minor": 4
}
