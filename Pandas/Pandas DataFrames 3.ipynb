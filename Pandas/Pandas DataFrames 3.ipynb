{
 "cells": [
  {
   "cell_type": "markdown",
   "metadata": {},
   "source": [
    "Multi index and index hieraiarchy"
   ]
  },
  {
   "cell_type": "code",
   "execution_count": 3,
   "metadata": {},
   "outputs": [],
   "source": [
    "import numpy as np\n",
    "import pandas as pd\n",
    "from numpy.random import randn\n",
    "np.random.seed(101)\n"
   ]
  },
  {
   "cell_type": "markdown",
   "metadata": {},
   "source": [
    "'''index level'''"
   ]
  },
  {
   "cell_type": "code",
   "execution_count": 4,
   "metadata": {},
   "outputs": [],
   "source": [
    "outside=['G1','G1','G1','G2','G2','G3']\n",
    "inside=[1,2,3,1,2,3]"
   ]
  },
  {
   "cell_type": "code",
   "execution_count": 5,
   "metadata": {},
   "outputs": [],
   "source": [
    "hier_index=list(zip(outside,inside))"
   ]
  },
  {
   "cell_type": "code",
   "execution_count": 6,
   "metadata": {},
   "outputs": [],
   "source": [
    "hier_index=pd.MultiIndex.from_tuples(hier_index)"
   ]
  },
  {
   "cell_type": "code",
   "execution_count": 7,
   "metadata": {},
   "outputs": [
    {
     "name": "stdout",
     "output_type": "stream",
     "text": [
      "             A         B\n",
      "G1 1  2.706850  0.628133\n",
      "   2  0.907969  0.503826\n",
      "   3  0.651118 -0.319318\n",
      "G2 1 -0.848077  0.605965\n",
      "   2 -2.018168  0.740122\n",
      "G3 3  0.528813 -0.589001\n"
     ]
    }
   ],
   "source": [
    "df=pd.DataFrame(randn(6,2),hier_index,['A','B'])\n",
    "print(df)"
   ]
  },
  {
   "cell_type": "code",
   "execution_count": 8,
   "metadata": {},
   "outputs": [
    {
     "name": "stdout",
     "output_type": "stream",
     "text": [
      "          A         B\n",
      "1  2.706850  0.628133\n",
      "2  0.907969  0.503826\n",
      "3  0.651118 -0.319318\n"
     ]
    }
   ],
   "source": [
    "print(df.loc['G1'])"
   ]
  },
  {
   "cell_type": "code",
   "execution_count": 9,
   "metadata": {},
   "outputs": [
    {
     "name": "stdout",
     "output_type": "stream",
     "text": [
      "A    2.706850\n",
      "B    0.628133\n",
      "Name: 1, dtype: float64\n"
     ]
    }
   ],
   "source": [
    "print(df.loc['G1'].loc[1])"
   ]
  },
  {
   "cell_type": "code",
   "execution_count": 10,
   "metadata": {},
   "outputs": [
    {
     "name": "stdout",
     "output_type": "stream",
     "text": [
      "             A         B\n",
      "G1 1  0.188695 -0.758872\n",
      "   2 -0.933237  0.955057\n",
      "   3  0.190794  1.978757\n",
      "G2 1  2.605967  0.683509\n",
      "   2  0.302665  1.693723\n",
      "G3 3 -1.706086 -1.159119\n"
     ]
    }
   ],
   "source": [
    "df=pd.DataFrame(randn(6,2),hier_index,['A','B'])\n",
    "print(df)"
   ]
  },
  {
   "cell_type": "code",
   "execution_count": 11,
   "metadata": {},
   "outputs": [
    {
     "name": "stdout",
     "output_type": "stream",
     "text": [
      "          A         B\n",
      "1  0.188695 -0.758872\n",
      "2 -0.933237  0.955057\n",
      "3  0.190794  1.978757\n"
     ]
    }
   ],
   "source": [
    "print(df.loc['G1'])"
   ]
  },
  {
   "cell_type": "code",
   "execution_count": 12,
   "metadata": {},
   "outputs": [
    {
     "name": "stdout",
     "output_type": "stream",
     "text": [
      "A    0.188695\n",
      "B   -0.758872\n",
      "Name: 1, dtype: float64\n"
     ]
    }
   ],
   "source": [
    "print(df.loc['G1'].loc[1])"
   ]
  },
  {
   "cell_type": "code",
   "execution_count": 13,
   "metadata": {},
   "outputs": [
    {
     "name": "stdout",
     "output_type": "stream",
     "text": [
      "[None, None]\n"
     ]
    }
   ],
   "source": [
    "print(df.index.names)"
   ]
  },
  {
   "cell_type": "code",
   "execution_count": 14,
   "metadata": {},
   "outputs": [
    {
     "name": "stdout",
     "output_type": "stream",
     "text": [
      "                   A         B\n",
      "Groups Num                    \n",
      "G1     1    0.188695 -0.758872\n",
      "       2   -0.933237  0.955057\n",
      "       3    0.190794  1.978757\n",
      "G2     1    2.605967  0.683509\n",
      "       2    0.302665  1.693723\n",
      "G3     3   -1.706086 -1.159119\n"
     ]
    }
   ],
   "source": [
    "df.index.names=['Groups','Num']\n",
    "print(df)"
   ]
  },
  {
   "cell_type": "code",
   "execution_count": 15,
   "metadata": {},
   "outputs": [
    {
     "name": "stdout",
     "output_type": "stream",
     "text": [
      "1.693722925204035\n",
      "                   A         B\n",
      "Groups Num                    \n",
      "G1     1    0.188695 -0.758872\n",
      "       2   -0.933237  0.955057\n",
      "       3    0.190794  1.978757\n",
      "G2     1    2.605967  0.683509\n",
      "       2    0.302665  1.693723\n",
      "G3     3   -1.706086 -1.159119\n"
     ]
    }
   ],
   "source": [
    "print(df.loc['G2'].loc[2]['B'])\n",
    "print(df)"
   ]
  },
  {
   "cell_type": "code",
   "execution_count": 16,
   "metadata": {},
   "outputs": [
    {
     "name": "stdout",
     "output_type": "stream",
     "text": [
      "            A         B\n",
      "Num                    \n",
      "1    0.188695 -0.758872\n",
      "2   -0.933237  0.955057\n",
      "3    0.190794  1.978757\n"
     ]
    }
   ],
   "source": [
    "print(df.loc['G1'])"
   ]
  },
  {
   "cell_type": "code",
   "execution_count": 17,
   "metadata": {},
   "outputs": [
    {
     "name": "stdout",
     "output_type": "stream",
     "text": [
      "            A         B\n",
      "Num                    \n",
      "1    0.188695 -0.758872\n",
      "2   -0.933237  0.955057\n",
      "3    0.190794  1.978757\n"
     ]
    }
   ],
   "source": [
    "print(df.xs('G1'))"
   ]
  },
  {
   "cell_type": "code",
   "execution_count": 18,
   "metadata": {},
   "outputs": [
    {
     "name": "stdout",
     "output_type": "stream",
     "text": [
      "               A         B\n",
      "Groups                    \n",
      "G1      0.188695 -0.758872\n",
      "G2      2.605967  0.683509\n"
     ]
    }
   ],
   "source": [
    "print(df.xs(1,level='Num'))"
   ]
  },
  {
   "cell_type": "code",
   "execution_count": null,
   "metadata": {},
   "outputs": [],
   "source": []
  }
 ],
 "metadata": {
  "kernelspec": {
   "display_name": "Python 3",
   "language": "python",
   "name": "python3"
  },
  "language_info": {
   "codemirror_mode": {
    "name": "ipython",
    "version": 3
   },
   "file_extension": ".py",
   "mimetype": "text/x-python",
   "name": "python",
   "nbconvert_exporter": "python",
   "pygments_lexer": "ipython3",
   "version": "3.7.6"
  }
 },
 "nbformat": 4,
 "nbformat_minor": 4
}
